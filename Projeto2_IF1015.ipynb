{
  "nbformat": 4,
  "nbformat_minor": 0,
  "metadata": {
    "colab": {
      "name": "Projeto2-IF1015.ipynb",
      "version": "0.3.2",
      "provenance": [],
      "collapsed_sections": [],
      "include_colab_link": true
    },
    "kernelspec": {
      "name": "python3",
      "display_name": "Python 3"
    }
  },
  "cells": [
    {
      "cell_type": "markdown",
      "metadata": {
        "id": "view-in-github",
        "colab_type": "text"
      },
      "source": [
        "<a href=\"https://colab.research.google.com/github/Milechwan/if1015/blob/master/Projeto2_IF1015.ipynb\" target=\"_parent\"><img src=\"https://colab.research.google.com/assets/colab-badge.svg\" alt=\"Open In Colab\"/></a>"
      ]
    },
    {
      "cell_type": "code",
      "metadata": {
        "id": "rSGVJx5stcyx",
        "colab_type": "code",
        "colab": {}
      },
      "source": [
        "import pandas as pd\n",
        "import numpy as np\n",
        "import copy\n",
        "\n",
        "dataset = pd.read_csv('https://raw.githubusercontent.com/Milechwan/if1015/master/googleplaystore.csv',encoding = \"ISO-8859-1\")"
      ],
      "execution_count": 0,
      "outputs": []
    },
    {
      "cell_type": "code",
      "metadata": {
        "id": "d2bv8Ed3v6qO",
        "colab_type": "code",
        "outputId": "7a64424a-208b-4070-95d8-3cfd13490185",
        "colab": {
          "base_uri": "https://localhost:8080/",
          "height": 340
        }
      },
      "source": [
        "dataset.head()"
      ],
      "execution_count": 45,
      "outputs": [
        {
          "output_type": "execute_result",
          "data": {
            "text/html": [
              "<div>\n",
              "<style scoped>\n",
              "    .dataframe tbody tr th:only-of-type {\n",
              "        vertical-align: middle;\n",
              "    }\n",
              "\n",
              "    .dataframe tbody tr th {\n",
              "        vertical-align: top;\n",
              "    }\n",
              "\n",
              "    .dataframe thead th {\n",
              "        text-align: right;\n",
              "    }\n",
              "</style>\n",
              "<table border=\"1\" class=\"dataframe\">\n",
              "  <thead>\n",
              "    <tr style=\"text-align: right;\">\n",
              "      <th></th>\n",
              "      <th>App</th>\n",
              "      <th>Category</th>\n",
              "      <th>Rating</th>\n",
              "      <th>Reviews</th>\n",
              "      <th>Size</th>\n",
              "      <th>Installs</th>\n",
              "      <th>Type</th>\n",
              "      <th>Price</th>\n",
              "      <th>Content Rating</th>\n",
              "      <th>Genres</th>\n",
              "      <th>Last Updated</th>\n",
              "      <th>Current Ver</th>\n",
              "      <th>Android Ver</th>\n",
              "    </tr>\n",
              "  </thead>\n",
              "  <tbody>\n",
              "    <tr>\n",
              "      <th>0</th>\n",
              "      <td>Photo Editor &amp; Candy Camera &amp; Grid &amp; ScrapBook</td>\n",
              "      <td>ART_AND_DESIGN</td>\n",
              "      <td>4.1</td>\n",
              "      <td>159</td>\n",
              "      <td>19M</td>\n",
              "      <td>10,000+</td>\n",
              "      <td>Free</td>\n",
              "      <td>0</td>\n",
              "      <td>Everyone</td>\n",
              "      <td>Art &amp; Design</td>\n",
              "      <td>January 7, 2018</td>\n",
              "      <td>1.0.0</td>\n",
              "      <td>4.0.3 and up</td>\n",
              "    </tr>\n",
              "    <tr>\n",
              "      <th>1</th>\n",
              "      <td>Coloring book moana</td>\n",
              "      <td>ART_AND_DESIGN</td>\n",
              "      <td>3.9</td>\n",
              "      <td>967</td>\n",
              "      <td>14M</td>\n",
              "      <td>500,000+</td>\n",
              "      <td>Free</td>\n",
              "      <td>0</td>\n",
              "      <td>Everyone</td>\n",
              "      <td>Art &amp; Design;Pretend Play</td>\n",
              "      <td>January 15, 2018</td>\n",
              "      <td>2.0.0</td>\n",
              "      <td>4.0.3 and up</td>\n",
              "    </tr>\n",
              "    <tr>\n",
              "      <th>2</th>\n",
              "      <td>U Launcher Lite â FREE Live Cool Themes, Hid...</td>\n",
              "      <td>ART_AND_DESIGN</td>\n",
              "      <td>4.7</td>\n",
              "      <td>87510</td>\n",
              "      <td>8.7M</td>\n",
              "      <td>5,000,000+</td>\n",
              "      <td>Free</td>\n",
              "      <td>0</td>\n",
              "      <td>Everyone</td>\n",
              "      <td>Art &amp; Design</td>\n",
              "      <td>August 1, 2018</td>\n",
              "      <td>1.2.4</td>\n",
              "      <td>4.0.3 and up</td>\n",
              "    </tr>\n",
              "    <tr>\n",
              "      <th>3</th>\n",
              "      <td>Sketch - Draw &amp; Paint</td>\n",
              "      <td>ART_AND_DESIGN</td>\n",
              "      <td>4.5</td>\n",
              "      <td>215644</td>\n",
              "      <td>25M</td>\n",
              "      <td>50,000,000+</td>\n",
              "      <td>Free</td>\n",
              "      <td>0</td>\n",
              "      <td>Teen</td>\n",
              "      <td>Art &amp; Design</td>\n",
              "      <td>June 8, 2018</td>\n",
              "      <td>Varies with device</td>\n",
              "      <td>4.2 and up</td>\n",
              "    </tr>\n",
              "    <tr>\n",
              "      <th>4</th>\n",
              "      <td>Pixel Draw - Number Art Coloring Book</td>\n",
              "      <td>ART_AND_DESIGN</td>\n",
              "      <td>4.3</td>\n",
              "      <td>967</td>\n",
              "      <td>2.8M</td>\n",
              "      <td>100,000+</td>\n",
              "      <td>Free</td>\n",
              "      <td>0</td>\n",
              "      <td>Everyone</td>\n",
              "      <td>Art &amp; Design;Creativity</td>\n",
              "      <td>June 20, 2018</td>\n",
              "      <td>1.1</td>\n",
              "      <td>4.4 and up</td>\n",
              "    </tr>\n",
              "  </tbody>\n",
              "</table>\n",
              "</div>"
            ],
            "text/plain": [
              "                                                 App  ...   Android Ver\n",
              "0     Photo Editor & Candy Camera & Grid & ScrapBook  ...  4.0.3 and up\n",
              "1                                Coloring book moana  ...  4.0.3 and up\n",
              "2  U Launcher Lite â FREE Live Cool Themes, Hid...  ...  4.0.3 and up\n",
              "3                              Sketch - Draw & Paint  ...    4.2 and up\n",
              "4              Pixel Draw - Number Art Coloring Book  ...    4.4 and up\n",
              "\n",
              "[5 rows x 13 columns]"
            ]
          },
          "metadata": {
            "tags": []
          },
          "execution_count": 45
        }
      ]
    },
    {
      "cell_type": "markdown",
      "metadata": {
        "id": "DbVfHafhwISO",
        "colab_type": "text"
      },
      "source": [
        "Objetivo: Descobrir qual o melhor modelo para predizer a nota de avaliação (rating) dos \n",
        "aplicativos"
      ]
    },
    {
      "cell_type": "code",
      "metadata": {
        "id": "avWzfh0Sv-jG",
        "colab_type": "code",
        "outputId": "8e3fc8b3-8c36-4ffc-8e93-99961e051c72",
        "colab": {
          "base_uri": "https://localhost:8080/",
          "height": 3077
        }
      },
      "source": [
        "dataset[dataset['Rating'].isna()]"
      ],
      "execution_count": 0,
      "outputs": [
        {
          "output_type": "execute_result",
          "data": {
            "text/html": [
              "<div>\n",
              "<style scoped>\n",
              "    .dataframe tbody tr th:only-of-type {\n",
              "        vertical-align: middle;\n",
              "    }\n",
              "\n",
              "    .dataframe tbody tr th {\n",
              "        vertical-align: top;\n",
              "    }\n",
              "\n",
              "    .dataframe thead th {\n",
              "        text-align: right;\n",
              "    }\n",
              "</style>\n",
              "<table border=\"1\" class=\"dataframe\">\n",
              "  <thead>\n",
              "    <tr style=\"text-align: right;\">\n",
              "      <th></th>\n",
              "      <th>App</th>\n",
              "      <th>Category</th>\n",
              "      <th>Rating</th>\n",
              "      <th>Reviews</th>\n",
              "      <th>Size</th>\n",
              "      <th>Installs</th>\n",
              "      <th>Type</th>\n",
              "      <th>Price</th>\n",
              "      <th>Content Rating</th>\n",
              "      <th>Genres</th>\n",
              "      <th>Last Updated</th>\n",
              "      <th>Current Ver</th>\n",
              "      <th>Android Ver</th>\n",
              "    </tr>\n",
              "  </thead>\n",
              "  <tbody>\n",
              "    <tr>\n",
              "      <th>23</th>\n",
              "      <td>Mcqueen Coloring pages</td>\n",
              "      <td>ART_AND_DESIGN</td>\n",
              "      <td>NaN</td>\n",
              "      <td>61</td>\n",
              "      <td>7.0M</td>\n",
              "      <td>100,000+</td>\n",
              "      <td>Free</td>\n",
              "      <td>0</td>\n",
              "      <td>Everyone</td>\n",
              "      <td>Art &amp; Design;Action &amp; Adventure</td>\n",
              "      <td>March 7, 2018</td>\n",
              "      <td>1.0.0</td>\n",
              "      <td>4.1 and up</td>\n",
              "    </tr>\n",
              "    <tr>\n",
              "      <th>113</th>\n",
              "      <td>Wrinkles and rejuvenation</td>\n",
              "      <td>BEAUTY</td>\n",
              "      <td>NaN</td>\n",
              "      <td>182</td>\n",
              "      <td>5.7M</td>\n",
              "      <td>100,000+</td>\n",
              "      <td>Free</td>\n",
              "      <td>0</td>\n",
              "      <td>Everyone 10+</td>\n",
              "      <td>Beauty</td>\n",
              "      <td>September 20, 2017</td>\n",
              "      <td>8.0</td>\n",
              "      <td>3.0 and up</td>\n",
              "    </tr>\n",
              "    <tr>\n",
              "      <th>123</th>\n",
              "      <td>Manicure - nail design</td>\n",
              "      <td>BEAUTY</td>\n",
              "      <td>NaN</td>\n",
              "      <td>119</td>\n",
              "      <td>3.7M</td>\n",
              "      <td>50,000+</td>\n",
              "      <td>Free</td>\n",
              "      <td>0</td>\n",
              "      <td>Everyone</td>\n",
              "      <td>Beauty</td>\n",
              "      <td>July 23, 2018</td>\n",
              "      <td>1.3</td>\n",
              "      <td>4.1 and up</td>\n",
              "    </tr>\n",
              "    <tr>\n",
              "      <th>126</th>\n",
              "      <td>Skin Care and Natural Beauty</td>\n",
              "      <td>BEAUTY</td>\n",
              "      <td>NaN</td>\n",
              "      <td>654</td>\n",
              "      <td>7.4M</td>\n",
              "      <td>100,000+</td>\n",
              "      <td>Free</td>\n",
              "      <td>0</td>\n",
              "      <td>Teen</td>\n",
              "      <td>Beauty</td>\n",
              "      <td>July 17, 2018</td>\n",
              "      <td>1.15</td>\n",
              "      <td>4.1 and up</td>\n",
              "    </tr>\n",
              "    <tr>\n",
              "      <th>129</th>\n",
              "      <td>Secrets of beauty, youth and health</td>\n",
              "      <td>BEAUTY</td>\n",
              "      <td>NaN</td>\n",
              "      <td>77</td>\n",
              "      <td>2.9M</td>\n",
              "      <td>10,000+</td>\n",
              "      <td>Free</td>\n",
              "      <td>0</td>\n",
              "      <td>Mature 17+</td>\n",
              "      <td>Beauty</td>\n",
              "      <td>August 8, 2017</td>\n",
              "      <td>2.0</td>\n",
              "      <td>2.3 and up</td>\n",
              "    </tr>\n",
              "    <tr>\n",
              "      <th>130</th>\n",
              "      <td>Recipes and tips for losing weight</td>\n",
              "      <td>BEAUTY</td>\n",
              "      <td>NaN</td>\n",
              "      <td>35</td>\n",
              "      <td>3.1M</td>\n",
              "      <td>10,000+</td>\n",
              "      <td>Free</td>\n",
              "      <td>0</td>\n",
              "      <td>Everyone 10+</td>\n",
              "      <td>Beauty</td>\n",
              "      <td>December 11, 2017</td>\n",
              "      <td>2.0</td>\n",
              "      <td>3.0 and up</td>\n",
              "    </tr>\n",
              "    <tr>\n",
              "      <th>134</th>\n",
              "      <td>Lady adviser (beauty, health)</td>\n",
              "      <td>BEAUTY</td>\n",
              "      <td>NaN</td>\n",
              "      <td>30</td>\n",
              "      <td>9.9M</td>\n",
              "      <td>10,000+</td>\n",
              "      <td>Free</td>\n",
              "      <td>0</td>\n",
              "      <td>Mature 17+</td>\n",
              "      <td>Beauty</td>\n",
              "      <td>January 24, 2018</td>\n",
              "      <td>3.0</td>\n",
              "      <td>3.0 and up</td>\n",
              "    </tr>\n",
              "    <tr>\n",
              "      <th>163</th>\n",
              "      <td>Anonymous caller detection</td>\n",
              "      <td>BOOKS_AND_REFERENCE</td>\n",
              "      <td>NaN</td>\n",
              "      <td>161</td>\n",
              "      <td>2.7M</td>\n",
              "      <td>10,000+</td>\n",
              "      <td>Free</td>\n",
              "      <td>0</td>\n",
              "      <td>Everyone</td>\n",
              "      <td>Books &amp; Reference</td>\n",
              "      <td>July 13, 2018</td>\n",
              "      <td>1.0</td>\n",
              "      <td>2.3 and up</td>\n",
              "    </tr>\n",
              "    <tr>\n",
              "      <th>180</th>\n",
              "      <td>SH-02J Owner's Manual (Android 8.0)</td>\n",
              "      <td>BOOKS_AND_REFERENCE</td>\n",
              "      <td>NaN</td>\n",
              "      <td>2</td>\n",
              "      <td>7.2M</td>\n",
              "      <td>50,000+</td>\n",
              "      <td>Free</td>\n",
              "      <td>0</td>\n",
              "      <td>Everyone</td>\n",
              "      <td>Books &amp; Reference</td>\n",
              "      <td>June 15, 2018</td>\n",
              "      <td>3.0</td>\n",
              "      <td>6.0 and up</td>\n",
              "    </tr>\n",
              "    <tr>\n",
              "      <th>185</th>\n",
              "      <td>URBANO V 02 instruction manual</td>\n",
              "      <td>BOOKS_AND_REFERENCE</td>\n",
              "      <td>NaN</td>\n",
              "      <td>114</td>\n",
              "      <td>7.3M</td>\n",
              "      <td>100,000+</td>\n",
              "      <td>Free</td>\n",
              "      <td>0</td>\n",
              "      <td>Everyone</td>\n",
              "      <td>Books &amp; Reference</td>\n",
              "      <td>August 7, 2015</td>\n",
              "      <td>1.1</td>\n",
              "      <td>5.1 and up</td>\n",
              "    </tr>\n",
              "    <tr>\n",
              "      <th>227</th>\n",
              "      <td>Y! Mobile menu</td>\n",
              "      <td>BUSINESS</td>\n",
              "      <td>NaN</td>\n",
              "      <td>9</td>\n",
              "      <td>1.2M</td>\n",
              "      <td>100,000+</td>\n",
              "      <td>Free</td>\n",
              "      <td>0</td>\n",
              "      <td>Everyone</td>\n",
              "      <td>Business</td>\n",
              "      <td>April 9, 2018</td>\n",
              "      <td>1.0.5</td>\n",
              "      <td>6.0 and up</td>\n",
              "    </tr>\n",
              "    <tr>\n",
              "      <th>321</th>\n",
              "      <td>ãRanobbe complete freeã Novelba - Free app...</td>\n",
              "      <td>COMICS</td>\n",
              "      <td>NaN</td>\n",
              "      <td>1330</td>\n",
              "      <td>22M</td>\n",
              "      <td>50,000+</td>\n",
              "      <td>Free</td>\n",
              "      <td>0</td>\n",
              "      <td>Everyone</td>\n",
              "      <td>Comics</td>\n",
              "      <td>July 3, 2018</td>\n",
              "      <td>6.1.1</td>\n",
              "      <td>4.2 and up</td>\n",
              "    </tr>\n",
              "    <tr>\n",
              "      <th>478</th>\n",
              "      <td>Truth or Dare Pro</td>\n",
              "      <td>DATING</td>\n",
              "      <td>NaN</td>\n",
              "      <td>0</td>\n",
              "      <td>20M</td>\n",
              "      <td>50+</td>\n",
              "      <td>Paid</td>\n",
              "      <td>$1.49</td>\n",
              "      <td>Teen</td>\n",
              "      <td>Dating</td>\n",
              "      <td>September 1, 2017</td>\n",
              "      <td>1.0</td>\n",
              "      <td>4.0 and up</td>\n",
              "    </tr>\n",
              "    <tr>\n",
              "      <th>479</th>\n",
              "      <td>Private Dating, Hide App- Blue for PrivacyHider</td>\n",
              "      <td>DATING</td>\n",
              "      <td>NaN</td>\n",
              "      <td>0</td>\n",
              "      <td>18k</td>\n",
              "      <td>100+</td>\n",
              "      <td>Paid</td>\n",
              "      <td>$2.99</td>\n",
              "      <td>Everyone</td>\n",
              "      <td>Dating</td>\n",
              "      <td>July 25, 2017</td>\n",
              "      <td>1.0.1</td>\n",
              "      <td>4.0 and up</td>\n",
              "    </tr>\n",
              "    <tr>\n",
              "      <th>480</th>\n",
              "      <td>Ad Blocker for SayHi</td>\n",
              "      <td>DATING</td>\n",
              "      <td>NaN</td>\n",
              "      <td>4</td>\n",
              "      <td>1.2M</td>\n",
              "      <td>100+</td>\n",
              "      <td>Paid</td>\n",
              "      <td>$3.99</td>\n",
              "      <td>Teen</td>\n",
              "      <td>Dating</td>\n",
              "      <td>August 2, 2018</td>\n",
              "      <td>1.2</td>\n",
              "      <td>4.0.3 and up</td>\n",
              "    </tr>\n",
              "    <tr>\n",
              "      <th>610</th>\n",
              "      <td>Random Video Chat</td>\n",
              "      <td>DATING</td>\n",
              "      <td>NaN</td>\n",
              "      <td>3</td>\n",
              "      <td>16M</td>\n",
              "      <td>1,000+</td>\n",
              "      <td>Free</td>\n",
              "      <td>0</td>\n",
              "      <td>Mature 17+</td>\n",
              "      <td>Dating</td>\n",
              "      <td>July 15, 2018</td>\n",
              "      <td>4.20</td>\n",
              "      <td>4.0.3 and up</td>\n",
              "    </tr>\n",
              "    <tr>\n",
              "      <th>613</th>\n",
              "      <td>Random Video Chat App With Strangers</td>\n",
              "      <td>DATING</td>\n",
              "      <td>NaN</td>\n",
              "      <td>3</td>\n",
              "      <td>4.8M</td>\n",
              "      <td>1,000+</td>\n",
              "      <td>Free</td>\n",
              "      <td>0</td>\n",
              "      <td>Mature 17+</td>\n",
              "      <td>Dating</td>\n",
              "      <td>July 17, 2018</td>\n",
              "      <td>1.</td>\n",
              "      <td>4.0 and up</td>\n",
              "    </tr>\n",
              "    <tr>\n",
              "      <th>617</th>\n",
              "      <td>Meet With Strangers: Video Chat &amp; Dating</td>\n",
              "      <td>DATING</td>\n",
              "      <td>NaN</td>\n",
              "      <td>2</td>\n",
              "      <td>3.7M</td>\n",
              "      <td>500+</td>\n",
              "      <td>Free</td>\n",
              "      <td>0</td>\n",
              "      <td>Mature 17+</td>\n",
              "      <td>Dating</td>\n",
              "      <td>July 16, 2018</td>\n",
              "      <td>1.</td>\n",
              "      <td>4.0 and up</td>\n",
              "    </tr>\n",
              "    <tr>\n",
              "      <th>620</th>\n",
              "      <td>Ost. Zombies Cast - New Music and Lyrics</td>\n",
              "      <td>DATING</td>\n",
              "      <td>NaN</td>\n",
              "      <td>1</td>\n",
              "      <td>4.6M</td>\n",
              "      <td>100+</td>\n",
              "      <td>Free</td>\n",
              "      <td>0</td>\n",
              "      <td>Teen</td>\n",
              "      <td>Dating</td>\n",
              "      <td>July 20, 2018</td>\n",
              "      <td>1.0</td>\n",
              "      <td>4.0.3 and up</td>\n",
              "    </tr>\n",
              "    <tr>\n",
              "      <th>621</th>\n",
              "      <td>Dating White Girls</td>\n",
              "      <td>DATING</td>\n",
              "      <td>NaN</td>\n",
              "      <td>0</td>\n",
              "      <td>3.6M</td>\n",
              "      <td>50+</td>\n",
              "      <td>Free</td>\n",
              "      <td>0</td>\n",
              "      <td>Mature 17+</td>\n",
              "      <td>Dating</td>\n",
              "      <td>July 20, 2018</td>\n",
              "      <td>1.0</td>\n",
              "      <td>4.0 and up</td>\n",
              "    </tr>\n",
              "    <tr>\n",
              "      <th>623</th>\n",
              "      <td>Geeks Dating</td>\n",
              "      <td>DATING</td>\n",
              "      <td>NaN</td>\n",
              "      <td>0</td>\n",
              "      <td>13M</td>\n",
              "      <td>50+</td>\n",
              "      <td>Free</td>\n",
              "      <td>0</td>\n",
              "      <td>Mature 17+</td>\n",
              "      <td>Dating</td>\n",
              "      <td>July 10, 2018</td>\n",
              "      <td>1.0</td>\n",
              "      <td>4.1 and up</td>\n",
              "    </tr>\n",
              "    <tr>\n",
              "      <th>624</th>\n",
              "      <td>Live chat - free video chat</td>\n",
              "      <td>DATING</td>\n",
              "      <td>NaN</td>\n",
              "      <td>1</td>\n",
              "      <td>8.7M</td>\n",
              "      <td>500+</td>\n",
              "      <td>Free</td>\n",
              "      <td>0</td>\n",
              "      <td>Mature 17+</td>\n",
              "      <td>Dating</td>\n",
              "      <td>July 23, 2018</td>\n",
              "      <td>3.52</td>\n",
              "      <td>4.0.3 and up</td>\n",
              "    </tr>\n",
              "    <tr>\n",
              "      <th>626</th>\n",
              "      <td>Fishing Brain &amp; Boating Maps Marine</td>\n",
              "      <td>DATING</td>\n",
              "      <td>NaN</td>\n",
              "      <td>3</td>\n",
              "      <td>6.9M</td>\n",
              "      <td>500+</td>\n",
              "      <td>Free</td>\n",
              "      <td>0</td>\n",
              "      <td>Everyone</td>\n",
              "      <td>Dating</td>\n",
              "      <td>July 23, 2018</td>\n",
              "      <td>1.0</td>\n",
              "      <td>4.0.3 and up</td>\n",
              "    </tr>\n",
              "    <tr>\n",
              "      <th>627</th>\n",
              "      <td>CAM5678 Video Chat</td>\n",
              "      <td>DATING</td>\n",
              "      <td>NaN</td>\n",
              "      <td>0</td>\n",
              "      <td>39M</td>\n",
              "      <td>500+</td>\n",
              "      <td>Free</td>\n",
              "      <td>0</td>\n",
              "      <td>Mature 17+</td>\n",
              "      <td>Dating</td>\n",
              "      <td>July 13, 2018</td>\n",
              "      <td>5.5.8</td>\n",
              "      <td>4.0.3 and up</td>\n",
              "    </tr>\n",
              "    <tr>\n",
              "      <th>628</th>\n",
              "      <td>Video chat live advices</td>\n",
              "      <td>DATING</td>\n",
              "      <td>NaN</td>\n",
              "      <td>0</td>\n",
              "      <td>8.0M</td>\n",
              "      <td>100+</td>\n",
              "      <td>Free</td>\n",
              "      <td>0</td>\n",
              "      <td>Everyone</td>\n",
              "      <td>Dating</td>\n",
              "      <td>July 10, 2018</td>\n",
              "      <td>1.0</td>\n",
              "      <td>3.0 and up</td>\n",
              "    </tr>\n",
              "    <tr>\n",
              "      <th>629</th>\n",
              "      <td>chat live chat</td>\n",
              "      <td>DATING</td>\n",
              "      <td>NaN</td>\n",
              "      <td>24</td>\n",
              "      <td>3.9M</td>\n",
              "      <td>1,000+</td>\n",
              "      <td>Free</td>\n",
              "      <td>0</td>\n",
              "      <td>Mature 17+</td>\n",
              "      <td>Dating</td>\n",
              "      <td>July 26, 2018</td>\n",
              "      <td>1.0</td>\n",
              "      <td>4.0 and up</td>\n",
              "    </tr>\n",
              "    <tr>\n",
              "      <th>630</th>\n",
              "      <td>Pet Lovers Dating</td>\n",
              "      <td>DATING</td>\n",
              "      <td>NaN</td>\n",
              "      <td>0</td>\n",
              "      <td>14M</td>\n",
              "      <td>10+</td>\n",
              "      <td>Free</td>\n",
              "      <td>0</td>\n",
              "      <td>Mature 17+</td>\n",
              "      <td>Dating</td>\n",
              "      <td>July 9, 2018</td>\n",
              "      <td>1.0</td>\n",
              "      <td>4.1 and up</td>\n",
              "    </tr>\n",
              "    <tr>\n",
              "      <th>631</th>\n",
              "      <td>Friend Find: free chat + flirt dating app</td>\n",
              "      <td>DATING</td>\n",
              "      <td>NaN</td>\n",
              "      <td>23</td>\n",
              "      <td>11M</td>\n",
              "      <td>100+</td>\n",
              "      <td>Free</td>\n",
              "      <td>0</td>\n",
              "      <td>Mature 17+</td>\n",
              "      <td>Dating</td>\n",
              "      <td>July 31, 2018</td>\n",
              "      <td>1.0</td>\n",
              "      <td>4.4 and up</td>\n",
              "    </tr>\n",
              "    <tr>\n",
              "      <th>632</th>\n",
              "      <td>Latin Dating</td>\n",
              "      <td>DATING</td>\n",
              "      <td>NaN</td>\n",
              "      <td>0</td>\n",
              "      <td>13M</td>\n",
              "      <td>10+</td>\n",
              "      <td>Free</td>\n",
              "      <td>0</td>\n",
              "      <td>Mature 17+</td>\n",
              "      <td>Dating</td>\n",
              "      <td>July 9, 2018</td>\n",
              "      <td>1.0</td>\n",
              "      <td>4.1 and up</td>\n",
              "    </tr>\n",
              "    <tr>\n",
              "      <th>635</th>\n",
              "      <td>Wifi Mingle</td>\n",
              "      <td>DATING</td>\n",
              "      <td>NaN</td>\n",
              "      <td>0</td>\n",
              "      <td>10.0M</td>\n",
              "      <td>10+</td>\n",
              "      <td>Free</td>\n",
              "      <td>0</td>\n",
              "      <td>Everyone</td>\n",
              "      <td>Dating</td>\n",
              "      <td>July 27, 2018</td>\n",
              "      <td>1.3</td>\n",
              "      <td>4.4 and up</td>\n",
              "    </tr>\n",
              "    <tr>\n",
              "      <th>...</th>\n",
              "      <td>...</td>\n",
              "      <td>...</td>\n",
              "      <td>...</td>\n",
              "      <td>...</td>\n",
              "      <td>...</td>\n",
              "      <td>...</td>\n",
              "      <td>...</td>\n",
              "      <td>...</td>\n",
              "      <td>...</td>\n",
              "      <td>...</td>\n",
              "      <td>...</td>\n",
              "      <td>...</td>\n",
              "      <td>...</td>\n",
              "    </tr>\n",
              "    <tr>\n",
              "      <th>10746</th>\n",
              "      <td>FP Opgaver</td>\n",
              "      <td>TOOLS</td>\n",
              "      <td>NaN</td>\n",
              "      <td>9</td>\n",
              "      <td>61M</td>\n",
              "      <td>1,000+</td>\n",
              "      <td>Free</td>\n",
              "      <td>0</td>\n",
              "      <td>Everyone</td>\n",
              "      <td>Tools</td>\n",
              "      <td>May 31, 2018</td>\n",
              "      <td>1.9</td>\n",
              "      <td>4.0.3 and up</td>\n",
              "    </tr>\n",
              "    <tr>\n",
              "      <th>10748</th>\n",
              "      <td>FP Live</td>\n",
              "      <td>COMMUNICATION</td>\n",
              "      <td>NaN</td>\n",
              "      <td>0</td>\n",
              "      <td>3.3M</td>\n",
              "      <td>10+</td>\n",
              "      <td>Free</td>\n",
              "      <td>0</td>\n",
              "      <td>Teen</td>\n",
              "      <td>Communication</td>\n",
              "      <td>November 3, 2017</td>\n",
              "      <td>1.2.4</td>\n",
              "      <td>4.2 and up</td>\n",
              "    </tr>\n",
              "    <tr>\n",
              "      <th>10751</th>\n",
              "      <td>FP Market</td>\n",
              "      <td>FAMILY</td>\n",
              "      <td>NaN</td>\n",
              "      <td>24</td>\n",
              "      <td>44k</td>\n",
              "      <td>1,000+</td>\n",
              "      <td>Free</td>\n",
              "      <td>0</td>\n",
              "      <td>Everyone</td>\n",
              "      <td>Education</td>\n",
              "      <td>June 17, 2012</td>\n",
              "      <td>1.0</td>\n",
              "      <td>1.6 and up</td>\n",
              "    </tr>\n",
              "    <tr>\n",
              "      <th>10759</th>\n",
              "      <td>FP NFC Rewrite</td>\n",
              "      <td>TOOLS</td>\n",
              "      <td>NaN</td>\n",
              "      <td>17</td>\n",
              "      <td>67k</td>\n",
              "      <td>1,000+</td>\n",
              "      <td>Free</td>\n",
              "      <td>0</td>\n",
              "      <td>Everyone</td>\n",
              "      <td>Tools</td>\n",
              "      <td>January 29, 2016</td>\n",
              "      <td>1.1</td>\n",
              "      <td>4.0 and up</td>\n",
              "    </tr>\n",
              "    <tr>\n",
              "      <th>10761</th>\n",
              "      <td>Greek Bible FP (Audio)</td>\n",
              "      <td>BOOKS_AND_REFERENCE</td>\n",
              "      <td>NaN</td>\n",
              "      <td>5</td>\n",
              "      <td>8.0M</td>\n",
              "      <td>1,000+</td>\n",
              "      <td>Free</td>\n",
              "      <td>0</td>\n",
              "      <td>Everyone</td>\n",
              "      <td>Books &amp; Reference</td>\n",
              "      <td>August 29, 2016</td>\n",
              "      <td>1.0.0</td>\n",
              "      <td>4.0.3 and up</td>\n",
              "    </tr>\n",
              "    <tr>\n",
              "      <th>10762</th>\n",
              "      <td>The FP Shield</td>\n",
              "      <td>NEWS_AND_MAGAZINES</td>\n",
              "      <td>NaN</td>\n",
              "      <td>0</td>\n",
              "      <td>11M</td>\n",
              "      <td>10+</td>\n",
              "      <td>Free</td>\n",
              "      <td>0</td>\n",
              "      <td>Everyone</td>\n",
              "      <td>News &amp; Magazines</td>\n",
              "      <td>February 1, 2018</td>\n",
              "      <td>1.1.0</td>\n",
              "      <td>4.4 and up</td>\n",
              "    </tr>\n",
              "    <tr>\n",
              "      <th>10764</th>\n",
              "      <td>FP Transportation</td>\n",
              "      <td>AUTO_AND_VEHICLES</td>\n",
              "      <td>NaN</td>\n",
              "      <td>1</td>\n",
              "      <td>885k</td>\n",
              "      <td>1+</td>\n",
              "      <td>Free</td>\n",
              "      <td>0</td>\n",
              "      <td>Everyone</td>\n",
              "      <td>Auto &amp; Vehicles</td>\n",
              "      <td>March 9, 2018</td>\n",
              "      <td>10.0.0</td>\n",
              "      <td>4.0 and up</td>\n",
              "    </tr>\n",
              "    <tr>\n",
              "      <th>10769</th>\n",
              "      <td>FQ Magazine</td>\n",
              "      <td>LIFESTYLE</td>\n",
              "      <td>NaN</td>\n",
              "      <td>1</td>\n",
              "      <td>12M</td>\n",
              "      <td>100+</td>\n",
              "      <td>Free</td>\n",
              "      <td>0</td>\n",
              "      <td>Everyone</td>\n",
              "      <td>Lifestyle</td>\n",
              "      <td>December 12, 2016</td>\n",
              "      <td>1.0</td>\n",
              "      <td>4.1 and up</td>\n",
              "    </tr>\n",
              "    <tr>\n",
              "      <th>10772</th>\n",
              "      <td>FQ Load Board for Transporters</td>\n",
              "      <td>BUSINESS</td>\n",
              "      <td>NaN</td>\n",
              "      <td>0</td>\n",
              "      <td>3.9M</td>\n",
              "      <td>100+</td>\n",
              "      <td>Free</td>\n",
              "      <td>0</td>\n",
              "      <td>Everyone</td>\n",
              "      <td>Business</td>\n",
              "      <td>February 16, 2018</td>\n",
              "      <td>1.1.3</td>\n",
              "      <td>5.0 and up</td>\n",
              "    </tr>\n",
              "    <tr>\n",
              "      <th>10773</th>\n",
              "      <td>FQ India</td>\n",
              "      <td>LIFESTYLE</td>\n",
              "      <td>NaN</td>\n",
              "      <td>0</td>\n",
              "      <td>8.9M</td>\n",
              "      <td>10+</td>\n",
              "      <td>Free</td>\n",
              "      <td>0</td>\n",
              "      <td>Everyone</td>\n",
              "      <td>Lifestyle</td>\n",
              "      <td>July 31, 2018</td>\n",
              "      <td>7.2.2</td>\n",
              "      <td>4.1 and up</td>\n",
              "    </tr>\n",
              "    <tr>\n",
              "      <th>10774</th>\n",
              "      <td>Miss FQ</td>\n",
              "      <td>NEWS_AND_MAGAZINES</td>\n",
              "      <td>NaN</td>\n",
              "      <td>0</td>\n",
              "      <td>36M</td>\n",
              "      <td>10+</td>\n",
              "      <td>Free</td>\n",
              "      <td>0</td>\n",
              "      <td>Everyone</td>\n",
              "      <td>News &amp; Magazines</td>\n",
              "      <td>April 5, 2018</td>\n",
              "      <td>3.8</td>\n",
              "      <td>4.4 and up</td>\n",
              "    </tr>\n",
              "    <tr>\n",
              "      <th>10775</th>\n",
              "      <td>FQ - Football Quiz</td>\n",
              "      <td>SPORTS</td>\n",
              "      <td>NaN</td>\n",
              "      <td>1</td>\n",
              "      <td>9.0M</td>\n",
              "      <td>1+</td>\n",
              "      <td>Free</td>\n",
              "      <td>0</td>\n",
              "      <td>Everyone</td>\n",
              "      <td>Sports</td>\n",
              "      <td>May 29, 2018</td>\n",
              "      <td>1.0</td>\n",
              "      <td>5.0 and up</td>\n",
              "    </tr>\n",
              "    <tr>\n",
              "      <th>10788</th>\n",
              "      <td>Fountain Live Wallpaper HD â Dubai Wallpaper 3D</td>\n",
              "      <td>PERSONALIZATION</td>\n",
              "      <td>NaN</td>\n",
              "      <td>1</td>\n",
              "      <td>20M</td>\n",
              "      <td>500+</td>\n",
              "      <td>Free</td>\n",
              "      <td>0</td>\n",
              "      <td>Everyone</td>\n",
              "      <td>Personalization</td>\n",
              "      <td>April 13, 2018</td>\n",
              "      <td>1.0</td>\n",
              "      <td>4.1 and up</td>\n",
              "    </tr>\n",
              "    <tr>\n",
              "      <th>10794</th>\n",
              "      <td>PopStar</td>\n",
              "      <td>FAMILY</td>\n",
              "      <td>NaN</td>\n",
              "      <td>13</td>\n",
              "      <td>5.7M</td>\n",
              "      <td>1,000+</td>\n",
              "      <td>Free</td>\n",
              "      <td>0</td>\n",
              "      <td>Everyone</td>\n",
              "      <td>Casual</td>\n",
              "      <td>January 3, 2018</td>\n",
              "      <td>1.6</td>\n",
              "      <td>4.3 and up</td>\n",
              "    </tr>\n",
              "    <tr>\n",
              "      <th>10798</th>\n",
              "      <td>Word Search Tab 1 FR</td>\n",
              "      <td>FAMILY</td>\n",
              "      <td>NaN</td>\n",
              "      <td>0</td>\n",
              "      <td>1020k</td>\n",
              "      <td>50+</td>\n",
              "      <td>Paid</td>\n",
              "      <td>$1.04</td>\n",
              "      <td>Everyone</td>\n",
              "      <td>Puzzle</td>\n",
              "      <td>February 6, 2012</td>\n",
              "      <td>1.1</td>\n",
              "      <td>3.0 and up</td>\n",
              "    </tr>\n",
              "    <tr>\n",
              "      <th>10806</th>\n",
              "      <td>SnakeBite911 FR</td>\n",
              "      <td>MEDICAL</td>\n",
              "      <td>NaN</td>\n",
              "      <td>1</td>\n",
              "      <td>42M</td>\n",
              "      <td>500+</td>\n",
              "      <td>Free</td>\n",
              "      <td>0</td>\n",
              "      <td>Everyone</td>\n",
              "      <td>Medical</td>\n",
              "      <td>October 9, 2017</td>\n",
              "      <td>1.2</td>\n",
              "      <td>4.1 and up</td>\n",
              "    </tr>\n",
              "    <tr>\n",
              "      <th>10807</th>\n",
              "      <td>My FR App</td>\n",
              "      <td>TOOLS</td>\n",
              "      <td>NaN</td>\n",
              "      <td>2</td>\n",
              "      <td>4.2M</td>\n",
              "      <td>100+</td>\n",
              "      <td>Free</td>\n",
              "      <td>0</td>\n",
              "      <td>Everyone</td>\n",
              "      <td>Tools</td>\n",
              "      <td>April 9, 2018</td>\n",
              "      <td>1.283.0037</td>\n",
              "      <td>2.3.3 and up</td>\n",
              "    </tr>\n",
              "    <tr>\n",
              "      <th>10808</th>\n",
              "      <td>lesparticuliers.fr</td>\n",
              "      <td>LIFESTYLE</td>\n",
              "      <td>NaN</td>\n",
              "      <td>96</td>\n",
              "      <td>1.0M</td>\n",
              "      <td>50,000+</td>\n",
              "      <td>Free</td>\n",
              "      <td>0</td>\n",
              "      <td>Everyone</td>\n",
              "      <td>Lifestyle</td>\n",
              "      <td>November 25, 2014</td>\n",
              "      <td>1.5</td>\n",
              "      <td>2.3 and up</td>\n",
              "    </tr>\n",
              "    <tr>\n",
              "      <th>10811</th>\n",
              "      <td>FR Plus 1.6</td>\n",
              "      <td>AUTO_AND_VEHICLES</td>\n",
              "      <td>NaN</td>\n",
              "      <td>4</td>\n",
              "      <td>3.9M</td>\n",
              "      <td>100+</td>\n",
              "      <td>Free</td>\n",
              "      <td>0</td>\n",
              "      <td>Everyone</td>\n",
              "      <td>Auto &amp; Vehicles</td>\n",
              "      <td>July 24, 2018</td>\n",
              "      <td>1.3.6</td>\n",
              "      <td>4.4W and up</td>\n",
              "    </tr>\n",
              "    <tr>\n",
              "      <th>10813</th>\n",
              "      <td>DICT.fr Mobile</td>\n",
              "      <td>BUSINESS</td>\n",
              "      <td>NaN</td>\n",
              "      <td>20</td>\n",
              "      <td>2.7M</td>\n",
              "      <td>10,000+</td>\n",
              "      <td>Free</td>\n",
              "      <td>0</td>\n",
              "      <td>Everyone</td>\n",
              "      <td>Business</td>\n",
              "      <td>July 17, 2018</td>\n",
              "      <td>2.1.10</td>\n",
              "      <td>4.1 and up</td>\n",
              "    </tr>\n",
              "    <tr>\n",
              "      <th>10816</th>\n",
              "      <td>FieldBi FR Offline</td>\n",
              "      <td>BUSINESS</td>\n",
              "      <td>NaN</td>\n",
              "      <td>2</td>\n",
              "      <td>6.8M</td>\n",
              "      <td>100+</td>\n",
              "      <td>Free</td>\n",
              "      <td>0</td>\n",
              "      <td>Everyone</td>\n",
              "      <td>Business</td>\n",
              "      <td>August 6, 2018</td>\n",
              "      <td>2.1.8</td>\n",
              "      <td>4.1 and up</td>\n",
              "    </tr>\n",
              "    <tr>\n",
              "      <th>10818</th>\n",
              "      <td>Gold Quote - Gold.fr</td>\n",
              "      <td>FINANCE</td>\n",
              "      <td>NaN</td>\n",
              "      <td>96</td>\n",
              "      <td>1.5M</td>\n",
              "      <td>10,000+</td>\n",
              "      <td>Free</td>\n",
              "      <td>0</td>\n",
              "      <td>Everyone</td>\n",
              "      <td>Finance</td>\n",
              "      <td>May 19, 2016</td>\n",
              "      <td>2.3</td>\n",
              "      <td>2.2 and up</td>\n",
              "    </tr>\n",
              "    <tr>\n",
              "      <th>10821</th>\n",
              "      <td>Poop FR</td>\n",
              "      <td>FAMILY</td>\n",
              "      <td>NaN</td>\n",
              "      <td>6</td>\n",
              "      <td>2.5M</td>\n",
              "      <td>50+</td>\n",
              "      <td>Free</td>\n",
              "      <td>0</td>\n",
              "      <td>Everyone</td>\n",
              "      <td>Entertainment</td>\n",
              "      <td>May 29, 2018</td>\n",
              "      <td>1.0</td>\n",
              "      <td>4.0.3 and up</td>\n",
              "    </tr>\n",
              "    <tr>\n",
              "      <th>10822</th>\n",
              "      <td>PLMGSS FR</td>\n",
              "      <td>PRODUCTIVITY</td>\n",
              "      <td>NaN</td>\n",
              "      <td>0</td>\n",
              "      <td>3.1M</td>\n",
              "      <td>10+</td>\n",
              "      <td>Free</td>\n",
              "      <td>0</td>\n",
              "      <td>Everyone</td>\n",
              "      <td>Productivity</td>\n",
              "      <td>December 1, 2017</td>\n",
              "      <td>1</td>\n",
              "      <td>4.4 and up</td>\n",
              "    </tr>\n",
              "    <tr>\n",
              "      <th>10823</th>\n",
              "      <td>List iptv FR</td>\n",
              "      <td>VIDEO_PLAYERS</td>\n",
              "      <td>NaN</td>\n",
              "      <td>1</td>\n",
              "      <td>2.9M</td>\n",
              "      <td>100+</td>\n",
              "      <td>Free</td>\n",
              "      <td>0</td>\n",
              "      <td>Everyone</td>\n",
              "      <td>Video Players &amp; Editors</td>\n",
              "      <td>April 22, 2018</td>\n",
              "      <td>1.0</td>\n",
              "      <td>4.0.3 and up</td>\n",
              "    </tr>\n",
              "    <tr>\n",
              "      <th>10824</th>\n",
              "      <td>Cardio-FR</td>\n",
              "      <td>MEDICAL</td>\n",
              "      <td>NaN</td>\n",
              "      <td>67</td>\n",
              "      <td>82M</td>\n",
              "      <td>10,000+</td>\n",
              "      <td>Free</td>\n",
              "      <td>0</td>\n",
              "      <td>Everyone</td>\n",
              "      <td>Medical</td>\n",
              "      <td>July 31, 2018</td>\n",
              "      <td>2.2.2</td>\n",
              "      <td>4.4 and up</td>\n",
              "    </tr>\n",
              "    <tr>\n",
              "      <th>10825</th>\n",
              "      <td>Naruto &amp; Boruto FR</td>\n",
              "      <td>SOCIAL</td>\n",
              "      <td>NaN</td>\n",
              "      <td>7</td>\n",
              "      <td>7.7M</td>\n",
              "      <td>100+</td>\n",
              "      <td>Free</td>\n",
              "      <td>0</td>\n",
              "      <td>Teen</td>\n",
              "      <td>Social</td>\n",
              "      <td>February 2, 2018</td>\n",
              "      <td>1.0</td>\n",
              "      <td>4.0 and up</td>\n",
              "    </tr>\n",
              "    <tr>\n",
              "      <th>10831</th>\n",
              "      <td>payermonstationnement.fr</td>\n",
              "      <td>MAPS_AND_NAVIGATION</td>\n",
              "      <td>NaN</td>\n",
              "      <td>38</td>\n",
              "      <td>9.8M</td>\n",
              "      <td>5,000+</td>\n",
              "      <td>Free</td>\n",
              "      <td>0</td>\n",
              "      <td>Everyone</td>\n",
              "      <td>Maps &amp; Navigation</td>\n",
              "      <td>June 13, 2018</td>\n",
              "      <td>2.0.148.0</td>\n",
              "      <td>4.0 and up</td>\n",
              "    </tr>\n",
              "    <tr>\n",
              "      <th>10835</th>\n",
              "      <td>FR Forms</td>\n",
              "      <td>BUSINESS</td>\n",
              "      <td>NaN</td>\n",
              "      <td>0</td>\n",
              "      <td>9.6M</td>\n",
              "      <td>10+</td>\n",
              "      <td>Free</td>\n",
              "      <td>0</td>\n",
              "      <td>Everyone</td>\n",
              "      <td>Business</td>\n",
              "      <td>September 29, 2016</td>\n",
              "      <td>1.1.5</td>\n",
              "      <td>4.0 and up</td>\n",
              "    </tr>\n",
              "    <tr>\n",
              "      <th>10838</th>\n",
              "      <td>Parkinson Exercices FR</td>\n",
              "      <td>MEDICAL</td>\n",
              "      <td>NaN</td>\n",
              "      <td>3</td>\n",
              "      <td>9.5M</td>\n",
              "      <td>1,000+</td>\n",
              "      <td>Free</td>\n",
              "      <td>0</td>\n",
              "      <td>Everyone</td>\n",
              "      <td>Medical</td>\n",
              "      <td>January 20, 2017</td>\n",
              "      <td>1.0</td>\n",
              "      <td>2.2 and up</td>\n",
              "    </tr>\n",
              "  </tbody>\n",
              "</table>\n",
              "<p>1474 rows × 13 columns</p>\n",
              "</div>"
            ],
            "text/plain": [
              "                                                     App  ...   Android Ver\n",
              "23                                Mcqueen Coloring pages  ...    4.1 and up\n",
              "113                            Wrinkles and rejuvenation  ...    3.0 and up\n",
              "123                               Manicure - nail design  ...    4.1 and up\n",
              "126                         Skin Care and Natural Beauty  ...    4.1 and up\n",
              "129                  Secrets of beauty, youth and health  ...    2.3 and up\n",
              "130                   Recipes and tips for losing weight  ...    3.0 and up\n",
              "134                        Lady adviser (beauty, health)  ...    3.0 and up\n",
              "163                           Anonymous caller detection  ...    2.3 and up\n",
              "180                  SH-02J Owner's Manual (Android 8.0)  ...    6.0 and up\n",
              "185                       URBANO V 02 instruction manual  ...    5.1 and up\n",
              "227                                       Y! Mobile menu  ...    6.0 and up\n",
              "321    ãRanobbe complete freeã Novelba - Free app...  ...    4.2 and up\n",
              "478                                    Truth or Dare Pro  ...    4.0 and up\n",
              "479      Private Dating, Hide App- Blue for PrivacyHider  ...    4.0 and up\n",
              "480                                 Ad Blocker for SayHi  ...  4.0.3 and up\n",
              "610                                    Random Video Chat  ...  4.0.3 and up\n",
              "613                 Random Video Chat App With Strangers  ...    4.0 and up\n",
              "617             Meet With Strangers: Video Chat & Dating  ...    4.0 and up\n",
              "620             Ost. Zombies Cast - New Music and Lyrics  ...  4.0.3 and up\n",
              "621                                   Dating White Girls  ...    4.0 and up\n",
              "623                                         Geeks Dating  ...    4.1 and up\n",
              "624                          Live chat - free video chat  ...  4.0.3 and up\n",
              "626                  Fishing Brain & Boating Maps Marine  ...  4.0.3 and up\n",
              "627                                   CAM5678 Video Chat  ...  4.0.3 and up\n",
              "628                              Video chat live advices  ...    3.0 and up\n",
              "629                                       chat live chat  ...    4.0 and up\n",
              "630                                    Pet Lovers Dating  ...    4.1 and up\n",
              "631            Friend Find: free chat + flirt dating app  ...    4.4 and up\n",
              "632                                         Latin Dating  ...    4.1 and up\n",
              "635                                          Wifi Mingle  ...    4.4 and up\n",
              "...                                                  ...  ...           ...\n",
              "10746                                         FP Opgaver  ...  4.0.3 and up\n",
              "10748                                            FP Live  ...    4.2 and up\n",
              "10751                                          FP Market  ...    1.6 and up\n",
              "10759                                     FP NFC Rewrite  ...    4.0 and up\n",
              "10761                             Greek Bible FP (Audio)  ...  4.0.3 and up\n",
              "10762                                      The FP Shield  ...    4.4 and up\n",
              "10764                                  FP Transportation  ...    4.0 and up\n",
              "10769                                        FQ Magazine  ...    4.1 and up\n",
              "10772                     FQ Load Board for Transporters  ...    5.0 and up\n",
              "10773                                           FQ India  ...    4.1 and up\n",
              "10774                                            Miss FQ  ...    4.4 and up\n",
              "10775                                 FQ - Football Quiz  ...    5.0 and up\n",
              "10788  Fountain Live Wallpaper HD â Dubai Wallpaper 3D  ...    4.1 and up\n",
              "10794                                            PopStar  ...    4.3 and up\n",
              "10798                               Word Search Tab 1 FR  ...    3.0 and up\n",
              "10806                                    SnakeBite911 FR  ...    4.1 and up\n",
              "10807                                          My FR App  ...  2.3.3 and up\n",
              "10808                                 lesparticuliers.fr  ...    2.3 and up\n",
              "10811                                        FR Plus 1.6  ...   4.4W and up\n",
              "10813                                     DICT.fr Mobile  ...    4.1 and up\n",
              "10816                                 FieldBi FR Offline  ...    4.1 and up\n",
              "10818                               Gold Quote - Gold.fr  ...    2.2 and up\n",
              "10821                                            Poop FR  ...  4.0.3 and up\n",
              "10822                                          PLMGSS FR  ...    4.4 and up\n",
              "10823                                       List iptv FR  ...  4.0.3 and up\n",
              "10824                                          Cardio-FR  ...    4.4 and up\n",
              "10825                                 Naruto & Boruto FR  ...    4.0 and up\n",
              "10831                           payermonstationnement.fr  ...    4.0 and up\n",
              "10835                                           FR Forms  ...    4.0 and up\n",
              "10838                             Parkinson Exercices FR  ...    2.2 and up\n",
              "\n",
              "[1474 rows x 13 columns]"
            ]
          },
          "metadata": {
            "tags": []
          },
          "execution_count": 3
        }
      ]
    },
    {
      "cell_type": "markdown",
      "metadata": {
        "id": "Knp5Upk4wSvB",
        "colab_type": "text"
      },
      "source": [
        "Primeiramente, deve-se remover os dados faltantes e dados duplicados (comparando pelo nome)"
      ]
    },
    {
      "cell_type": "code",
      "metadata": {
        "id": "SpZ2UcvZwCtu",
        "colab_type": "code",
        "outputId": "a6c128cf-08fa-464e-f41d-ebcf3a40f69a",
        "colab": {
          "base_uri": "https://localhost:8080/",
          "height": 34
        }
      },
      "source": [
        "dataset = dataset.dropna(subset=['Rating'])\n",
        "dataset.drop_duplicates(subset=['App'],keep='last', inplace=True)\n",
        "print(len(dataset))"
      ],
      "execution_count": 46,
      "outputs": [
        {
          "output_type": "stream",
          "text": [
            "8197\n"
          ],
          "name": "stdout"
        }
      ]
    },
    {
      "cell_type": "code",
      "metadata": {
        "id": "cgFWvZ5YnSsL",
        "colab_type": "code",
        "outputId": "34d3774d-0613-4533-9571-0f8d04c04ec2",
        "colab": {
          "base_uri": "https://localhost:8080/",
          "height": 80
        }
      },
      "source": [
        "dataset.corr(method='spearman')"
      ],
      "execution_count": 47,
      "outputs": [
        {
          "output_type": "execute_result",
          "data": {
            "text/html": [
              "<div>\n",
              "<style scoped>\n",
              "    .dataframe tbody tr th:only-of-type {\n",
              "        vertical-align: middle;\n",
              "    }\n",
              "\n",
              "    .dataframe tbody tr th {\n",
              "        vertical-align: top;\n",
              "    }\n",
              "\n",
              "    .dataframe thead th {\n",
              "        text-align: right;\n",
              "    }\n",
              "</style>\n",
              "<table border=\"1\" class=\"dataframe\">\n",
              "  <thead>\n",
              "    <tr style=\"text-align: right;\">\n",
              "      <th></th>\n",
              "      <th>Rating</th>\n",
              "    </tr>\n",
              "  </thead>\n",
              "  <tbody>\n",
              "    <tr>\n",
              "      <th>Rating</th>\n",
              "      <td>1.0</td>\n",
              "    </tr>\n",
              "  </tbody>\n",
              "</table>\n",
              "</div>"
            ],
            "text/plain": [
              "        Rating\n",
              "Rating     1.0"
            ]
          },
          "metadata": {
            "tags": []
          },
          "execution_count": 47
        }
      ]
    },
    {
      "cell_type": "markdown",
      "metadata": {
        "id": "P3bH6_gAeZ4w",
        "colab_type": "text"
      },
      "source": [
        "Transformação de colunas categóricas (definidas no Projeto 1), e remoção do símbolo $ da coluna Price para transformar em tipo numérico. Adicionalmente, é removida a linha (conforme foi também visto no Projeto 1) que possui os valores nas colunas incorretas, para transformar a coluna Reviews em tipo numérico."
      ]
    },
    {
      "cell_type": "code",
      "metadata": {
        "id": "wc5-kGYMETic",
        "colab_type": "code",
        "colab": {}
      },
      "source": [
        "dataset = dataset.drop(dataset[dataset['Price']=='Everyone'].index, axis = 0)\n",
        "dataset['Reviews'] = pd.to_numeric(dataset['Reviews'])"
      ],
      "execution_count": 0,
      "outputs": []
    },
    {
      "cell_type": "code",
      "metadata": {
        "id": "oX7vltRfxJlo",
        "colab_type": "code",
        "colab": {}
      },
      "source": [
        "dataset['Price'] = dataset['Price'].apply(lambda x: x[x.find('$')+1:] if x.find('$')>-1 else x)\n",
        "dataset['Price'] = pd.to_numeric(dataset['Price'])\n",
        "#dataset['Last Updated'] = pd.to_datetime(dataset['Last Updated'])"
      ],
      "execution_count": 0,
      "outputs": []
    },
    {
      "cell_type": "code",
      "metadata": {
        "id": "91Cz_dsPDjdM",
        "colab_type": "code",
        "colab": {}
      },
      "source": [
        "dataset['Type'] = dataset['Type'].astype(\"category\")\n",
        "dataset['Content Rating'] = dataset['Content Rating'].astype(\"category\") \n",
        "dataset['Category'] = dataset['Category'].astype(\"category\") \n",
        "dataset['Installs'] = dataset['Installs'].astype(\"category\")\n",
        "dataset['Android Ver'] = dataset['Android Ver'].astype(\"category\")\n",
        "dataset['Current Ver'] = dataset['Current Ver'].astype(\"category\")\n",
        "dataset['Size'] = dataset['Size'].astype(\"category\")\n",
        "\n",
        "dataset['Type'] = dataset['Type'].cat.codes\n",
        "dataset['Content Rating'] = dataset['Content Rating'].cat.codes\n",
        "dataset['Category'] = dataset['Category'].cat.codes\n",
        "dataset['Installs'] = dataset['Installs'].cat.codes\n",
        "dataset['Android Ver'] = dataset['Android Ver'].cat.codes\n",
        "dataset['Current Ver'] = dataset['Current Ver'].cat.codes\n",
        "dataset['Size'] = dataset['Size'].cat.codes"
      ],
      "execution_count": 0,
      "outputs": []
    },
    {
      "cell_type": "markdown",
      "metadata": {
        "id": "qTiUk4OUisE7",
        "colab_type": "text"
      },
      "source": [
        "Remoção de outliers com DBSCAN"
      ]
    },
    {
      "cell_type": "code",
      "metadata": {
        "id": "gPE8gbmliuqY",
        "colab_type": "code",
        "outputId": "e3fea3db-1a26-43af-9e4f-dfba2688c54f",
        "colab": {
          "base_uri": "https://localhost:8080/",
          "height": 204
        }
      },
      "source": [
        "from sklearn.preprocessing import MinMaxScaler\n",
        "\n",
        "scaler = MinMaxScaler()\n",
        "\n",
        "#Normalizando dataset para que o DBSCAN funcione corretamente para calcular as distâncias e clusterizar os dados\n",
        "#removendo colunas inutilizadas \n",
        "dataset = dataset.drop('Genres', axis = 1)\n",
        "dataset = dataset.drop('App', axis = 1)\n",
        "dataset = dataset.drop('Last Updated', axis = 1)\n",
        "\n",
        "normalized_ds = copy.deepcopy(dataset)\n",
        "normalized_ds = scaler.fit_transform(normalized_ds)\n",
        "normalized_ds = pd.DataFrame(normalized_ds,columns=[\"Category\",\"Rating\",\"Reviews\",\"Size\",\"Installs\",\"Type\",\"Price\",\"Content Rating\",\"Current Ver\",\"Android Ver\"])\n",
        "normalized_ds.head()"
      ],
      "execution_count": 51,
      "outputs": [
        {
          "output_type": "execute_result",
          "data": {
            "text/html": [
              "<div>\n",
              "<style scoped>\n",
              "    .dataframe tbody tr th:only-of-type {\n",
              "        vertical-align: middle;\n",
              "    }\n",
              "\n",
              "    .dataframe tbody tr th {\n",
              "        vertical-align: top;\n",
              "    }\n",
              "\n",
              "    .dataframe thead th {\n",
              "        text-align: right;\n",
              "    }\n",
              "</style>\n",
              "<table border=\"1\" class=\"dataframe\">\n",
              "  <thead>\n",
              "    <tr style=\"text-align: right;\">\n",
              "      <th></th>\n",
              "      <th>Category</th>\n",
              "      <th>Rating</th>\n",
              "      <th>Reviews</th>\n",
              "      <th>Size</th>\n",
              "      <th>Installs</th>\n",
              "      <th>Type</th>\n",
              "      <th>Price</th>\n",
              "      <th>Content Rating</th>\n",
              "      <th>Current Ver</th>\n",
              "      <th>Android Ver</th>\n",
              "    </tr>\n",
              "  </thead>\n",
              "  <tbody>\n",
              "    <tr>\n",
              "      <th>0</th>\n",
              "      <td>0.0</td>\n",
              "      <td>0.775</td>\n",
              "      <td>0.000002</td>\n",
              "      <td>0.116223</td>\n",
              "      <td>0.277778</td>\n",
              "      <td>0.0</td>\n",
              "      <td>0.0</td>\n",
              "      <td>0.2</td>\n",
              "      <td>0.041143</td>\n",
              "      <td>0.483871</td>\n",
              "    </tr>\n",
              "    <tr>\n",
              "      <th>1</th>\n",
              "      <td>0.0</td>\n",
              "      <td>0.925</td>\n",
              "      <td>0.001120</td>\n",
              "      <td>0.808717</td>\n",
              "      <td>0.666667</td>\n",
              "      <td>0.0</td>\n",
              "      <td>0.0</td>\n",
              "      <td>0.2</td>\n",
              "      <td>0.161143</td>\n",
              "      <td>0.483871</td>\n",
              "    </tr>\n",
              "    <tr>\n",
              "      <th>2</th>\n",
              "      <td>0.0</td>\n",
              "      <td>0.875</td>\n",
              "      <td>0.002760</td>\n",
              "      <td>0.213075</td>\n",
              "      <td>0.833333</td>\n",
              "      <td>0.0</td>\n",
              "      <td>0.0</td>\n",
              "      <td>0.8</td>\n",
              "      <td>0.979048</td>\n",
              "      <td>0.580645</td>\n",
              "    </tr>\n",
              "    <tr>\n",
              "      <th>3</th>\n",
              "      <td>0.0</td>\n",
              "      <td>0.825</td>\n",
              "      <td>0.000012</td>\n",
              "      <td>0.138015</td>\n",
              "      <td>0.444444</td>\n",
              "      <td>0.0</td>\n",
              "      <td>0.0</td>\n",
              "      <td>0.2</td>\n",
              "      <td>0.095619</td>\n",
              "      <td>0.645161</td>\n",
              "    </tr>\n",
              "    <tr>\n",
              "      <th>4</th>\n",
              "      <td>0.0</td>\n",
              "      <td>0.850</td>\n",
              "      <td>0.000002</td>\n",
              "      <td>0.489104</td>\n",
              "      <td>0.777778</td>\n",
              "      <td>0.0</td>\n",
              "      <td>0.0</td>\n",
              "      <td>0.2</td>\n",
              "      <td>0.039619</td>\n",
              "      <td>0.258065</td>\n",
              "    </tr>\n",
              "  </tbody>\n",
              "</table>\n",
              "</div>"
            ],
            "text/plain": [
              "   Category  Rating   Reviews  ...  Content Rating  Current Ver  Android Ver\n",
              "0       0.0   0.775  0.000002  ...             0.2     0.041143     0.483871\n",
              "1       0.0   0.925  0.001120  ...             0.2     0.161143     0.483871\n",
              "2       0.0   0.875  0.002760  ...             0.8     0.979048     0.580645\n",
              "3       0.0   0.825  0.000012  ...             0.2     0.095619     0.645161\n",
              "4       0.0   0.850  0.000002  ...             0.2     0.039619     0.258065\n",
              "\n",
              "[5 rows x 10 columns]"
            ]
          },
          "metadata": {
            "tags": []
          },
          "execution_count": 51
        }
      ]
    },
    {
      "cell_type": "code",
      "metadata": {
        "id": "PIPOh0vLmhCR",
        "colab_type": "code",
        "colab": {}
      },
      "source": [
        "from sklearn.cluster import DBSCAN\n",
        "outlier_detection = DBSCAN(\n",
        "  eps = 0.3,\n",
        "  metric=\"euclidean\",\n",
        "  min_samples = 10)\n",
        "clusters = outlier_detection.fit_predict(normalized_ds)\n",
        "\n",
        "dataset_without_outliers = copy.deepcopy(dataset) #criando cópia para comparar resultado dos modelos com e sem os outliers "
      ],
      "execution_count": 0,
      "outputs": []
    },
    {
      "cell_type": "code",
      "metadata": {
        "id": "_n6EkzNwm2kW",
        "colab_type": "code",
        "outputId": "38618d22-a1ea-4901-9000-6425315cb321",
        "colab": {
          "base_uri": "https://localhost:8080/",
          "height": 51
        }
      },
      "source": [
        "#labels guardam os valores que identificam se determinado item do dataset é ou não um outlier.\n",
        "labels = outlier_detection.labels_\n",
        "\n",
        "#verificação do número de grupos (clusters) identificados pelo DBSCAN \n",
        "n_clusters_ = len(set(labels)) - (1 if -1 in labels else 0)\n",
        "print(\"Total clusters: \"+str(n_clusters_))\n",
        "n_noise_ = list(labels).count(-1)#outliers \n",
        "print(\"Total outliers: \"+str(n_noise_))"
      ],
      "execution_count": 53,
      "outputs": [
        {
          "output_type": "stream",
          "text": [
            "Total clusters: 5\n",
            "Total outliers: 514\n"
          ],
          "name": "stdout"
        }
      ]
    },
    {
      "cell_type": "code",
      "metadata": {
        "id": "LFJTa8vhsbWA",
        "colab_type": "code",
        "outputId": "5f745f1c-3a45-42c9-90dc-26e7caeeb9cd",
        "colab": {
          "base_uri": "https://localhost:8080/",
          "height": 34
        }
      },
      "source": [
        "#identificando os índices dos itens que são outliers para removê-los do conjunto de dados\n",
        "index_outlier = np.where(labels == -1)\n",
        "result = index_outlier[0]\n",
        "print(result.shape)"
      ],
      "execution_count": 54,
      "outputs": [
        {
          "output_type": "stream",
          "text": [
            "(514,)\n"
          ],
          "name": "stdout"
        }
      ]
    },
    {
      "cell_type": "code",
      "metadata": {
        "id": "gsELJT9n8Zdm",
        "colab_type": "code",
        "outputId": "ccf59d43-025b-4a50-c7f3-229d0b729840",
        "colab": {
          "base_uri": "https://localhost:8080/",
          "height": 51
        }
      },
      "source": [
        "dataset_without_outliers.drop(dataset_without_outliers.index[result], inplace = True)\n",
        "print(len(dataset))\n",
        "print(len(dataset_without_outliers))"
      ],
      "execution_count": 55,
      "outputs": [
        {
          "output_type": "stream",
          "text": [
            "8196\n",
            "7682\n"
          ],
          "name": "stdout"
        }
      ]
    },
    {
      "cell_type": "markdown",
      "metadata": {
        "id": "mWvYpRDJivmv",
        "colab_type": "text"
      },
      "source": [
        "\n",
        "Modelo de predição Linear Regression (sem remover outliers)"
      ]
    },
    {
      "cell_type": "code",
      "metadata": {
        "id": "LL_uWY-SC2Il",
        "colab_type": "code",
        "colab": {}
      },
      "source": [
        "from sklearn.linear_model import LinearRegression\n",
        "from sklearn.model_selection import train_test_split\n",
        "from sklearn.metrics import accuracy_score,recall_score,precision_score,f1_score\n",
        "\n",
        "model = LinearRegression()\n",
        "\n",
        "dataset_without_rating = copy.deepcopy(dataset)\n",
        "dataset_without_rating = dataset_without_rating.drop('Rating',axis=1)\n",
        "X = np.array(dataset_without_rating)\n",
        "y = np.array(dataset['Rating'])\n",
        "Xtrain, Xtest, ytrain, ytest = train_test_split(X, y, test_size=0.33,\n",
        "                                                random_state=42)"
      ],
      "execution_count": 0,
      "outputs": []
    },
    {
      "cell_type": "code",
      "metadata": {
        "id": "1ej7pATbDWi1",
        "colab_type": "code",
        "outputId": "ad56eb16-cad5-48e3-e78a-f1c5a25e44c0",
        "colab": {
          "base_uri": "https://localhost:8080/",
          "height": 51
        }
      },
      "source": [
        "model.fit(Xtrain,ytrain)\n",
        "y_model = model.predict(Xtest)\n",
        "y_pred_train = model.predict(Xtrain)\n",
        "print(model.score(Xtest,ytest))\n",
        "print('MAPE: '+str(np.mean(np.abs((ytest-y_model)/ytest))*100))"
      ],
      "execution_count": 61,
      "outputs": [
        {
          "output_type": "stream",
          "text": [
            "0.011415686779958745\n",
            "MAPE: 10.34613777159778\n"
          ],
          "name": "stdout"
        }
      ]
    },
    {
      "cell_type": "code",
      "metadata": {
        "id": "tkw4YMsBjNe4",
        "colab_type": "code",
        "outputId": "53223643-78d5-4812-90c4-5d53383666a8",
        "colab": {
          "base_uri": "https://localhost:8080/",
          "height": 85
        }
      },
      "source": [
        "from sklearn.metrics import explained_variance_score, max_error, mean_absolute_error, mean_squared_log_error\n",
        "\n",
        "print('Explained variance score: '+ str(explained_variance_score(ytest,y_model)))\n",
        "print('Max error: '+ str(max_error(ytest,y_model)))\n",
        "print('Mean absolute error: '+str(mean_absolute_error(ytest,y_model)))\n",
        "print('Mean squared log error: '+str(mean_squared_log_error(ytest,y_model)))"
      ],
      "execution_count": 62,
      "outputs": [
        {
          "output_type": "stream",
          "text": [
            "Explained variance score: 0.01203767049009108\n",
            "Max error: 3.2094486610562987\n",
            "Mean absolute error: 0.3724319077580764\n",
            "Mean squared log error: 0.012924232167634985\n"
          ],
          "name": "stdout"
        }
      ]
    },
    {
      "cell_type": "markdown",
      "metadata": {
        "id": "AksC7a-EpaRp",
        "colab_type": "text"
      },
      "source": [
        "Linear Regression (com remoção de outliers)"
      ]
    },
    {
      "cell_type": "code",
      "metadata": {
        "id": "ZIJzwm_yFGgz",
        "colab_type": "code",
        "outputId": "2ce014c5-fe10-4572-bac5-33230c70de63",
        "colab": {
          "base_uri": "https://localhost:8080/",
          "height": 34
        }
      },
      "source": [
        "without_outliers_copy = copy.deepcopy(dataset_without_outliers)\n",
        "X_without_outliers = np.array(without_outliers_copy.drop('Rating',axis=1))\n",
        "y_without_outliers = np.array(without_outliers_copy['Rating'])\n",
        "X_without_out_train, X_without_out_test, y_without_out_train, y_without_out_test = train_test_split(X, y, test_size=0.33,\n",
        "                                                random_state=42)\n",
        "\n",
        "model_without_outliers = LinearRegression()\n",
        "model_without_outliers.fit(X_without_out_train,y_without_out_train)\n",
        "y_model_without_outliers = model_without_outliers.predict(X_without_out_test)\n",
        "print(model_without_outliers.score(X_without_out_test,y_without_out_test))"
      ],
      "execution_count": 0,
      "outputs": [
        {
          "output_type": "stream",
          "text": [
            "0.011415686779958745\n"
          ],
          "name": "stdout"
        }
      ]
    },
    {
      "cell_type": "code",
      "metadata": {
        "id": "ToBL41qMiQrc",
        "colab_type": "code",
        "outputId": "1f2907f0-942c-4524-bd72-118d6aa5a12a",
        "colab": {
          "base_uri": "https://localhost:8080/",
          "height": 102
        }
      },
      "source": [
        "print('Explained variance score: '+ str(explained_variance_score(y_without_out_test,y_model_without_outliers)))\n",
        "print('Max error: '+ str(max_error(y_without_out_test,y_model_without_outliers)))\n",
        "print('Mean absolute error: '+str(mean_absolute_error(y_without_out_test,y_model_without_outliers)))\n",
        "print('Mean squared log error: '+str(mean_squared_log_error(y_without_out_test,y_model_without_outliers)))\n",
        "print('MAPE: '+str(np.mean(np.abs((y_without_out_test-y_model_without_outliers)/y_without_out_test))*100))"
      ],
      "execution_count": 63,
      "outputs": [
        {
          "output_type": "stream",
          "text": [
            "Explained variance score: 0.01203767049009108\n",
            "Max error: 3.2094486610562987\n",
            "Mean absolute error: 0.3724319077580764\n",
            "Mean squared log error: 0.012924232167634985\n",
            "MAPE: 10.34613777159778\n"
          ],
          "name": "stdout"
        }
      ]
    },
    {
      "cell_type": "markdown",
      "metadata": {
        "id": "71isrwn-hEOQ",
        "colab_type": "text"
      },
      "source": [
        "Usando SelectFromModel, que dado o estimador e as variáveis X e y, ele retorna um array contendo toda a base mas selecionando as variáveis independentes mais adequadas para fazer a predição. Método de redução de dimensionalidade"
      ]
    },
    {
      "cell_type": "code",
      "metadata": {
        "id": "MFeNgBvvezMr",
        "colab_type": "code",
        "colab": {}
      },
      "source": [
        "from sklearn.feature_selection import SelectFromModel\n",
        "feature = SelectFromModel(model)#sem remover outliers\n",
        "Fit = feature.fit_transform(X, y)"
      ],
      "execution_count": 0,
      "outputs": []
    },
    {
      "cell_type": "code",
      "metadata": {
        "id": "yhX78AuRDzk4",
        "colab_type": "code",
        "outputId": "70ec407d-237d-402a-bbab-0c0062395e65",
        "colab": {
          "base_uri": "https://localhost:8080/",
          "height": 34
        }
      },
      "source": [
        "print(Fit.shape)"
      ],
      "execution_count": 65,
      "outputs": [
        {
          "output_type": "stream",
          "text": [
            "(8196, 1)\n"
          ],
          "name": "stdout"
        }
      ]
    },
    {
      "cell_type": "markdown",
      "metadata": {
        "id": "xTt0uClMValx",
        "colab_type": "text"
      },
      "source": [
        "SelectFromModel com remoção de outliers"
      ]
    },
    {
      "cell_type": "code",
      "metadata": {
        "id": "acXat7r1hpju",
        "colab_type": "code",
        "outputId": "396ad261-cc00-49e7-c681-291d5d751b5d",
        "colab": {
          "base_uri": "https://localhost:8080/",
          "height": 34
        }
      },
      "source": [
        "Fittrain, Fittest, yfittrain, yfittest = train_test_split(Fit, y, test_size=0.33,\n",
        "                                                random_state=42)\n",
        "model.fit(Fittrain,yfittrain)\n",
        "y_model_fit = model.predict(Fittest)\n",
        "print(model.score(Fittest,yfittest))"
      ],
      "execution_count": 66,
      "outputs": [
        {
          "output_type": "stream",
          "text": [
            "0.002142380562441204\n"
          ],
          "name": "stdout"
        }
      ]
    },
    {
      "cell_type": "code",
      "metadata": {
        "id": "r4pTxpL2jrNR",
        "colab_type": "code",
        "outputId": "2c5eb13a-969b-4c96-e0b8-5c247d010d97",
        "colab": {
          "base_uri": "https://localhost:8080/",
          "height": 102
        }
      },
      "source": [
        "print('MAPE: '+str(np.mean(np.abs((yfittest-y_model_fit)/yfittest))*100))\n",
        "print('Explained variance score: '+ str(explained_variance_score(yfittest,y_model_fit)))\n",
        "print('Max error: '+ str(max_error(yfittest,y_model_fit)))\n",
        "print('Mean absolute error: '+str(mean_absolute_error(yfittest,y_model_fit)))\n",
        "print('Mean squared log error: '+str(mean_squared_log_error(yfittest,y_model_fit)))"
      ],
      "execution_count": 67,
      "outputs": [
        {
          "output_type": "stream",
          "text": [
            "MAPE: 10.447092863344764\n",
            "Explained variance score: 0.0027433949763074894\n",
            "Max error: 3.1623034591194967\n",
            "Mean absolute error: 0.37618109848603193\n",
            "Mean squared log error: 0.013036935206045213\n"
          ],
          "name": "stdout"
        }
      ]
    },
    {
      "cell_type": "markdown",
      "metadata": {
        "id": "tevT65pIFRqc",
        "colab_type": "text"
      },
      "source": [
        "RandomForest"
      ]
    },
    {
      "cell_type": "code",
      "metadata": {
        "id": "ZB2HG-4fFSxv",
        "colab_type": "code",
        "colab": {}
      },
      "source": [
        "from sklearn.ensemble import RandomForestRegressor\n",
        "\n",
        "rf = RandomForestRegressor(n_estimators = 100, random_state = 42)"
      ],
      "execution_count": 0,
      "outputs": []
    },
    {
      "cell_type": "markdown",
      "metadata": {
        "id": "pgMijsSpBxze",
        "colab_type": "text"
      },
      "source": [
        "Random Forest sem remoção de outliers"
      ]
    },
    {
      "cell_type": "code",
      "metadata": {
        "id": "Cq8I1CYAFrsQ",
        "colab_type": "code",
        "outputId": "3ffe3a7b-0065-4042-ebab-0c1dc46a891c",
        "colab": {
          "base_uri": "https://localhost:8080/",
          "height": 119
        }
      },
      "source": [
        "rf.fit(Xtrain,ytrain)\n",
        "\n",
        "y_rf_model = rf.predict(Xtest)\n",
        "\n",
        "print('R² score: '+ str(rf.score(Xtest,ytest)))\n",
        "print('MAPE: '+str(np.mean(np.abs((ytest-y_rf_model)/ytest))*100))\n",
        "print('Explained variance score: '+ str(explained_variance_score(ytest,y_rf_model)))\n",
        "print('Max error: '+ str(max_error(ytest,y_rf_model)))\n",
        "print('Mean absolute error: '+str(mean_absolute_error(ytest,y_rf_model)))\n",
        "print('Mean squared log error: '+str(mean_squared_log_error(ytest,y_rf_model)))"
      ],
      "execution_count": 69,
      "outputs": [
        {
          "output_type": "stream",
          "text": [
            "R² score: 0.0887503657237766\n",
            "MAPE: 9.758300778209334\n",
            "Explained variance score: 0.09352776433575338\n",
            "Max error: 3.189\n",
            "Mean absolute error: 0.35653900184842885\n",
            "Mean squared log error: 0.011873835395163807\n"
          ],
          "name": "stdout"
        }
      ]
    },
    {
      "cell_type": "markdown",
      "metadata": {
        "id": "NcGpH5t-B1Zh",
        "colab_type": "text"
      },
      "source": [
        "Random Forest com remoção de outliers"
      ]
    },
    {
      "cell_type": "code",
      "metadata": {
        "id": "O4a8DKiYGhgz",
        "colab_type": "code",
        "outputId": "c73f256c-29a4-4574-b7da-de5cb80b8864",
        "colab": {
          "base_uri": "https://localhost:8080/",
          "height": 119
        }
      },
      "source": [
        "rf = RandomForestRegressor(n_estimators = 100, random_state = 42)\n",
        "\n",
        "rf.fit(X_without_out_train,y_without_out_train)\n",
        "result_rf_without_outliers = rf.predict(X_without_out_test)\n",
        "print('R² score: '+str(rf.score(X_without_out_test,y_without_out_test)))\n",
        "print('MAPE: '+str(np.mean(np.abs((y_without_out_test-result_rf_without_outliers)/y_without_out_test))*100))\n",
        "print('Explained variance score: '+ str(explained_variance_score(y_without_out_test,result_rf_without_outliers)))\n",
        "print('Max error: '+ str(max_error(y_without_out_test,result_rf_without_outliers)))\n",
        "print('Mean absolute error: '+str(mean_absolute_error(y_without_out_test,result_rf_without_outliers)))\n",
        "print('Mean squared log error: '+str(mean_squared_log_error(y_without_out_test,result_rf_without_outliers)))"
      ],
      "execution_count": 72,
      "outputs": [
        {
          "output_type": "stream",
          "text": [
            "R² score: 0.0887503657237766\n",
            "MAPE: 9.758300778209334\n",
            "Explained variance score: 0.09352776433575338\n",
            "Max error: 3.189\n",
            "Mean absolute error: 0.35653900184842885\n",
            "Mean squared log error: 0.011873835395163807\n"
          ],
          "name": "stdout"
        }
      ]
    },
    {
      "cell_type": "code",
      "metadata": {
        "id": "YOQICOUaXdc6",
        "colab_type": "code",
        "colab": {
          "base_uri": "https://localhost:8080/",
          "height": 119
        },
        "outputId": "a4c06cb3-4882-4c3b-ca58-b7af3fb7ce1f"
      },
      "source": [
        "feature_rf = SelectFromModel(rf)\n",
        "fit_rf = feature_rf.fit_transform(X,y)\n",
        "print('shape: ',fit_rf.shape)\n",
        "X_fit_rf_train, X_fit_rf_test, y_fit_rf_train, y_fit_rf_test = train_test_split(fit_rf, y, test_size=0.33,\n",
        "                                                random_state=42)\n",
        "rf.fit(X_fit_rf_train,y_fit_rf_train)\n",
        "y_fit_rf_result = rf.predict(X_fit_rf_test)\n",
        "\n",
        "print('MAPE: '+str(np.mean(np.abs((y_fit_rf_test-y_fit_rf_result)/yfittest))*100))\n",
        "print('Explained variance score: '+ str(explained_variance_score(y_fit_rf_test,y_fit_rf_result)))\n",
        "print('Max error: '+ str(max_error(y_fit_rf_test,y_fit_rf_result)))\n",
        "print('Mean absolute error: '+str(mean_absolute_error(y_fit_rf_test,y_fit_rf_result)))\n",
        "print('Mean squared log error: '+str(mean_squared_log_error(y_fit_rf_test,y_fit_rf_result)))"
      ],
      "execution_count": 99,
      "outputs": [
        {
          "output_type": "stream",
          "text": [
            "shape:  (8196, 4)\n",
            "MAPE: 10.343644471829121\n",
            "Explained variance score: 0.002444308975545484\n",
            "Max error: 3.6339999999999995\n",
            "Mean absolute error: 0.379566617375231\n",
            "Mean squared log error: 0.01292048581499725\n"
          ],
          "name": "stdout"
        }
      ]
    },
    {
      "cell_type": "markdown",
      "metadata": {
        "id": "rFFA4bRjsoPm",
        "colab_type": "text"
      },
      "source": [
        "Support Vector Regression - outro modelo de predição apenas para comparar desempenho e ver qual modelo de fato vale a pena tentar melhorar "
      ]
    },
    {
      "cell_type": "code",
      "metadata": {
        "id": "jaMIxyc3Iurh",
        "colab_type": "code",
        "outputId": "d5cd3aaf-288c-4eab-97d2-28d069cb83a6",
        "colab": {
          "base_uri": "https://localhost:8080/",
          "height": 119
        }
      },
      "source": [
        "from sklearn.svm import SVR\n",
        "\n",
        "svr_rbf = SVR(kernel='rbf', C=100, gamma=0.1, epsilon=.1)\n",
        "\n",
        "svr_rbf.fit(Xtrain,ytrain)\n",
        "result_svr_rbf = svr_rbf.predict(Xtest)\n",
        "\n",
        "print('R² score: '+ str(svr_rbf.score(Xtest,ytest)))\n",
        "print('MAPE: '+str(np.mean(np.abs((ytest-result_svr_rbf)/ytest))*100))\n",
        "print('Explained variance score: '+ str(explained_variance_score(ytest,result_svr_rbf)))\n",
        "print('Max error: '+ str(max_error(ytest,result_svr_rbf)))\n",
        "print('Mean absolute error: '+str(mean_absolute_error(ytest,result_svr_rbf)))\n",
        "print('Mean squared log error: '+str(mean_squared_log_error(ytest,result_svr_rbf)))"
      ],
      "execution_count": 73,
      "outputs": [
        {
          "output_type": "stream",
          "text": [
            "R² score: -0.0035166980482019827\n",
            "MAPE: 10.555875856673408\n",
            "Explained variance score: 0.0017416932320917233\n",
            "Max error: 3.1437504953858086\n",
            "Mean absolute error: 0.3832565545553754\n",
            "Mean squared log error: 0.0130425749650298\n"
          ],
          "name": "stdout"
        }
      ]
    },
    {
      "cell_type": "markdown",
      "metadata": {
        "id": "nl9J-ykFVmgg",
        "colab_type": "text"
      },
      "source": [
        "SVR no dataset sem outliers"
      ]
    },
    {
      "cell_type": "code",
      "metadata": {
        "id": "ql_0NF7LyNXo",
        "colab_type": "code",
        "outputId": "f9c1a31a-591e-41e7-f06f-741583787bc6",
        "colab": {
          "base_uri": "https://localhost:8080/",
          "height": 119
        }
      },
      "source": [
        "svr_rbf = SVR(kernel='rbf', gamma=0.1, epsilon=.1)\n",
        "\n",
        "svr_rbf.fit(X_without_out_train,y_without_out_train)\n",
        "result_svr_rbf = svr_rbf.predict(X_without_out_test)\n",
        "print('R² score: '+str(svr_rbf.score(X_without_out_test,y_without_out_test)))\n",
        "print('MAPE: '+str(np.mean(np.abs((y_without_out_test-result_svr_rbf)/y_without_out_test))*100))\n",
        "print('Explained variance score: '+ str(explained_variance_score(y_without_out_test,result_svr_rbf)))\n",
        "print('Max error: '+ str(max_error(y_without_out_test,result_svr_rbf)))\n",
        "print('Mean absolute error: '+str(mean_absolute_error(y_without_out_test,result_svr_rbf)))\n",
        "print('Mean squared log error: '+str(mean_squared_log_error(y_without_out_test,result_svr_rbf)))"
      ],
      "execution_count": 85,
      "outputs": [
        {
          "output_type": "stream",
          "text": [
            "R² score: 0.00145248442871726\n",
            "MAPE: 10.4320354686228\n",
            "Explained variance score: 0.0016048520442758507\n",
            "Max error: 3.1752294890755035\n",
            "Mean absolute error: 0.37480474248375134\n",
            "Mean squared log error: 0.013063847178931526\n"
          ],
          "name": "stdout"
        }
      ]
    },
    {
      "cell_type": "code",
      "metadata": {
        "id": "BmhltAyHOuFk",
        "colab_type": "code",
        "colab": {
          "base_uri": "https://localhost:8080/",
          "height": 156
        },
        "outputId": "7e62cdd8-491c-4e4f-fbb6-7f20c86549bf"
      },
      "source": [
        "svr_sigmoid = SVR(kernel='sigmoid', epsilon=.33)\n",
        "\n",
        "svr_sigmoid.fit(Xtrain,ytrain)\n",
        "result_svr_sigmoid = svr_sigmoid.predict(Xtest)\n",
        "print('R² score: '+str(svr_sigmoid.score(Xtest,ytest)))\n",
        "print('MAPE: '+str(np.mean(np.abs((ytest-result_svr_sigmoid)/ytest))*100))\n",
        "print('Explained variance score: '+ str(explained_variance_score(ytest,result_svr_sigmoid)))\n",
        "print('Max error: '+ str(max_error(ytest,result_svr_sigmoid)))\n",
        "print('Mean absolute error: '+str(mean_absolute_error(ytest,result_svr_sigmoid)))\n",
        "#print('Mean squared log error: '+str(mean_squared_log_error(ytest,result_svr_sigmoid)))"
      ],
      "execution_count": 84,
      "outputs": [
        {
          "output_type": "stream",
          "text": [
            "/usr/local/lib/python3.6/dist-packages/sklearn/svm/base.py:193: FutureWarning: The default value of gamma will change from 'auto' to 'scale' in version 0.22 to account better for unscaled features. Set gamma explicitly to 'auto' or 'scale' to avoid this warning.\n",
            "  \"avoid this warning.\", FutureWarning)\n"
          ],
          "name": "stderr"
        },
        {
          "output_type": "stream",
          "text": [
            "R² score: -0.7229483128310286\n",
            "MAPE: 10.667405692831627\n",
            "Explained variance score: -0.7182653454606454\n",
            "Max error: 22.54079645496919\n",
            "Mean absolute error: 0.37691546794986003\n"
          ],
          "name": "stdout"
        }
      ]
    },
    {
      "cell_type": "markdown",
      "metadata": {
        "id": "0c34GtVEQ4Nk",
        "colab_type": "text"
      },
      "source": [
        "Logistic Regression "
      ]
    },
    {
      "cell_type": "code",
      "metadata": {
        "id": "2yvD9y0uQ7qO",
        "colab_type": "code",
        "colab": {
          "base_uri": "https://localhost:8080/",
          "height": 224
        },
        "outputId": "2c9159ff-c244-4e76-9806-1cd5a095fc4f"
      },
      "source": [
        "from sklearn.linear_model import LogisticRegression\n",
        "from sklearn import preprocessing\n",
        "from sklearn import utils\n",
        "\n",
        "model_lr = LogisticRegression(solver='saga',random_state=42)\n",
        "\n",
        "#transformação para tipo multiclass porque dá problema com continuous\n",
        "lab_enc = preprocessing.LabelEncoder()\n",
        "training_scores_encoded = lab_enc.fit_transform(ytrain)\n",
        "training_scores_encoded.astype('int')\n",
        "y_test_encoded = lab_enc.fit_transform(ytest)\n",
        "y_test_encoded.astype('int')\n",
        "\n",
        "model_lr.fit(Xtrain,training_scores_encoded)\n",
        "y_lr = model_lr.predict(Xtest)\n",
        "print('R² score: '+str(model_lr.score(Xtest,y_test_encoded)))\n",
        "print('MAPE: '+str(np.mean(np.abs((y_test_encoded-y_lr)/y_test_encoded))*100))\n",
        "print('Explained variance score: '+ str(explained_variance_score(y_test_encoded,y_lr)))\n",
        "print('Max error: '+ str(max_error(y_test_encoded,y_lr)))\n",
        "print('Mean absolute error: '+str(mean_absolute_error(y_test_encoded,y_lr)))\n",
        "print('Mean squared log error: '+str(mean_squared_log_error(y_test_encoded,y_lr)))"
      ],
      "execution_count": 97,
      "outputs": [
        {
          "output_type": "stream",
          "text": [
            "/usr/local/lib/python3.6/dist-packages/sklearn/linear_model/logistic.py:469: FutureWarning: Default multi_class will be changed to 'auto' in 0.22. Specify the multi_class option to silence this warning.\n",
            "  \"this warning.\", FutureWarning)\n",
            "/usr/local/lib/python3.6/dist-packages/sklearn/linear_model/sag.py:337: ConvergenceWarning: The max_iter was reached which means the coef_ did not converge\n",
            "  \"the coef_ did not converge\", ConvergenceWarning)\n"
          ],
          "name": "stderr"
        },
        {
          "output_type": "stream",
          "text": [
            "R² score: 0.08391866913123845\n",
            "MAPE: inf\n",
            "Explained variance score: -0.013229076304646759\n",
            "Max error: 31\n",
            "Mean absolute error: 4.680591497227357\n",
            "Mean squared log error: 0.09085908816574108\n"
          ],
          "name": "stdout"
        },
        {
          "output_type": "stream",
          "text": [
            "/usr/local/lib/python3.6/dist-packages/ipykernel_launcher.py:17: RuntimeWarning: divide by zero encountered in true_divide\n"
          ],
          "name": "stderr"
        }
      ]
    },
    {
      "cell_type": "markdown",
      "metadata": {
        "id": "M98ACRHeDxAN",
        "colab_type": "text"
      },
      "source": [
        "Devido aos resultados terem valores relativamente próximos entre si, mostrando que na verdade os modelos estão \"enviesados\" (tendo score muito próimo de 0), o modelo que apresentou-se ligeiramente melhor foi RandomForest, já que seu score foi o maior de todos, ainda que muito próximo de 0. Vimos também que remover outliers não influencia no desempenho dos modelos. Daqui em diante, será usado GridSearch para tentar melhorar esse modelo de predição "
      ]
    },
    {
      "cell_type": "code",
      "metadata": {
        "id": "4TtWQTG8vvIl",
        "colab_type": "code",
        "colab": {}
      },
      "source": [
        "from sklearn.model_selection import GridSearchCV\n",
        "\n",
        "#métricas de avaliação\n",
        "metrics = ['explained_variance','neg_mean_absolute_error','neg_mean_squared_log_error','max_error','r2']"
      ],
      "execution_count": 0,
      "outputs": []
    },
    {
      "cell_type": "code",
      "metadata": {
        "id": "JcoBOp-b0DvW",
        "colab_type": "code",
        "outputId": "e6532163-fb66-478d-e0fa-41268cdf82cc",
        "colab": {
          "base_uri": "https://localhost:8080/",
          "height": 54
        }
      },
      "source": [
        "rf.get_params().keys()"
      ],
      "execution_count": 0,
      "outputs": [
        {
          "output_type": "execute_result",
          "data": {
            "text/plain": [
              "dict_keys(['bootstrap', 'criterion', 'max_depth', 'max_features', 'max_leaf_nodes', 'min_impurity_decrease', 'min_impurity_split', 'min_samples_leaf', 'min_samples_split', 'min_weight_fraction_leaf', 'n_estimators', 'n_jobs', 'oob_score', 'random_state', 'verbose', 'warm_start'])"
            ]
          },
          "metadata": {
            "tags": []
          },
          "execution_count": 35
        }
      ]
    },
    {
      "cell_type": "code",
      "metadata": {
        "id": "RE_wiP2ib-h6",
        "colab_type": "code",
        "outputId": "014c7ac1-6700-4d43-a2b5-785a5da60830",
        "colab": {
          "base_uri": "https://localhost:8080/",
          "height": 394
        }
      },
      "source": [
        "dict_ = {'n_estimators': [100], 'random_state': [42]}\n",
        "dict_normalized = {'n_estimators': [80], 'random_state': [42]}\n",
        "\n",
        "first_grid = GridSearchCV(rf, param_grid=dict_, scoring=metrics, verbose=100, refit='neg_mean_squared_error', return_train_score=False)\n",
        "\n",
        "first_grid.fit(X,y)\n",
        "print(first_grid.best_estimator_)"
      ],
      "execution_count": 0,
      "outputs": [
        {
          "output_type": "stream",
          "text": [
            "/usr/local/lib/python3.6/dist-packages/sklearn/model_selection/_split.py:1978: FutureWarning: The default value of cv will change from 3 to 5 in version 0.22. Specify it explicitly to silence this warning.\n",
            "  warnings.warn(CV_WARNING, FutureWarning)\n"
          ],
          "name": "stderr"
        },
        {
          "output_type": "stream",
          "text": [
            "Fitting 3 folds for each of 1 candidates, totalling 3 fits\n",
            "[Parallel(n_jobs=1)]: Using backend SequentialBackend with 1 concurrent workers.\n",
            "[CV] n_estimators=100, random_state=42 ...............................\n",
            "[CV]  n_estimators=100, random_state=42, explained_variance=0.043, max_error=-3.395, neg_mean_absolute_error=-0.289, neg_mean_squared_log_error=-0.006, r2=-0.030, total=   2.4s\n",
            "[Parallel(n_jobs=1)]: Done   1 out of   1 | elapsed:    2.4s remaining:    0.0s\n",
            "[CV] n_estimators=100, random_state=42 ...............................\n",
            "[CV]  n_estimators=100, random_state=42, explained_variance=0.043, max_error=-3.679, neg_mean_absolute_error=-0.401, neg_mean_squared_log_error=-0.017, r2=0.042, total=   2.3s\n",
            "[Parallel(n_jobs=1)]: Done   2 out of   2 | elapsed:    4.7s remaining:    0.0s\n",
            "[CV] n_estimators=100, random_state=42 ...............................\n",
            "[CV]  n_estimators=100, random_state=42, explained_variance=0.034, max_error=-3.646, neg_mean_absolute_error=-0.413, neg_mean_squared_log_error=-0.017, r2=0.033, total=   2.3s\n",
            "[Parallel(n_jobs=1)]: Done   3 out of   3 | elapsed:    7.0s remaining:    0.0s\n",
            "[Parallel(n_jobs=1)]: Done   3 out of   3 | elapsed:    7.0s finished\n",
            "RandomForestRegressor(bootstrap=True, criterion='mse', max_depth=None,\n",
            "                      max_features='auto', max_leaf_nodes=None,\n",
            "                      min_impurity_decrease=0.0, min_impurity_split=None,\n",
            "                      min_samples_leaf=1, min_samples_split=2,\n",
            "                      min_weight_fraction_leaf=0.0, n_estimators=100,\n",
            "                      n_jobs=None, oob_score=False, random_state=42, verbose=0,\n",
            "                      warm_start=False)\n"
          ],
          "name": "stdout"
        }
      ]
    },
    {
      "cell_type": "code",
      "metadata": {
        "id": "qeOoihg6dajb",
        "colab_type": "code",
        "colab": {}
      },
      "source": [
        ""
      ],
      "execution_count": 0,
      "outputs": []
    }
  ]
}