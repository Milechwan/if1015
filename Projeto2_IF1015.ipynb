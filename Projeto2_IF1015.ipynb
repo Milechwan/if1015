{
  "nbformat": 4,
  "nbformat_minor": 0,
  "metadata": {
    "colab": {
      "name": "Projeto2-IF1015.ipynb",
      "version": "0.3.2",
      "provenance": [],
      "collapsed_sections": [],
      "include_colab_link": true
    },
    "kernelspec": {
      "name": "python3",
      "display_name": "Python 3"
    }
  },
  "cells": [
    {
      "cell_type": "markdown",
      "metadata": {
        "id": "view-in-github",
        "colab_type": "text"
      },
      "source": [
        "<a href=\"https://colab.research.google.com/github/Milechwan/if1015/blob/master/Projeto2_IF1015.ipynb\" target=\"_parent\"><img src=\"https://colab.research.google.com/assets/colab-badge.svg\" alt=\"Open In Colab\"/></a>"
      ]
    },
    {
      "cell_type": "code",
      "metadata": {
        "id": "rSGVJx5stcyx",
        "colab_type": "code",
        "colab": {}
      },
      "source": [
        "import pandas as pd\n",
        "import numpy as np\n",
        "import copy\n",
        "\n",
        "dataset = pd.read_csv('https://raw.githubusercontent.com/Milechwan/if1015/master/googleplaystore.csv',encoding = \"ISO-8859-1\")"
      ],
      "execution_count": 0,
      "outputs": []
    },
    {
      "cell_type": "code",
      "metadata": {
        "id": "d2bv8Ed3v6qO",
        "colab_type": "code",
        "outputId": "a5c24468-7ad0-41fd-a72c-a542e40b4d3f",
        "colab": {
          "base_uri": "https://localhost:8080/",
          "height": 340
        }
      },
      "source": [
        "dataset.head()"
      ],
      "execution_count": 2,
      "outputs": [
        {
          "output_type": "execute_result",
          "data": {
            "text/html": [
              "<div>\n",
              "<style scoped>\n",
              "    .dataframe tbody tr th:only-of-type {\n",
              "        vertical-align: middle;\n",
              "    }\n",
              "\n",
              "    .dataframe tbody tr th {\n",
              "        vertical-align: top;\n",
              "    }\n",
              "\n",
              "    .dataframe thead th {\n",
              "        text-align: right;\n",
              "    }\n",
              "</style>\n",
              "<table border=\"1\" class=\"dataframe\">\n",
              "  <thead>\n",
              "    <tr style=\"text-align: right;\">\n",
              "      <th></th>\n",
              "      <th>App</th>\n",
              "      <th>Category</th>\n",
              "      <th>Rating</th>\n",
              "      <th>Reviews</th>\n",
              "      <th>Size</th>\n",
              "      <th>Installs</th>\n",
              "      <th>Type</th>\n",
              "      <th>Price</th>\n",
              "      <th>Content Rating</th>\n",
              "      <th>Genres</th>\n",
              "      <th>Last Updated</th>\n",
              "      <th>Current Ver</th>\n",
              "      <th>Android Ver</th>\n",
              "    </tr>\n",
              "  </thead>\n",
              "  <tbody>\n",
              "    <tr>\n",
              "      <th>0</th>\n",
              "      <td>Photo Editor &amp; Candy Camera &amp; Grid &amp; ScrapBook</td>\n",
              "      <td>ART_AND_DESIGN</td>\n",
              "      <td>4.1</td>\n",
              "      <td>159</td>\n",
              "      <td>19M</td>\n",
              "      <td>10,000+</td>\n",
              "      <td>Free</td>\n",
              "      <td>0</td>\n",
              "      <td>Everyone</td>\n",
              "      <td>Art &amp; Design</td>\n",
              "      <td>January 7, 2018</td>\n",
              "      <td>1.0.0</td>\n",
              "      <td>4.0.3 and up</td>\n",
              "    </tr>\n",
              "    <tr>\n",
              "      <th>1</th>\n",
              "      <td>Coloring book moana</td>\n",
              "      <td>ART_AND_DESIGN</td>\n",
              "      <td>3.9</td>\n",
              "      <td>967</td>\n",
              "      <td>14M</td>\n",
              "      <td>500,000+</td>\n",
              "      <td>Free</td>\n",
              "      <td>0</td>\n",
              "      <td>Everyone</td>\n",
              "      <td>Art &amp; Design;Pretend Play</td>\n",
              "      <td>January 15, 2018</td>\n",
              "      <td>2.0.0</td>\n",
              "      <td>4.0.3 and up</td>\n",
              "    </tr>\n",
              "    <tr>\n",
              "      <th>2</th>\n",
              "      <td>U Launcher Lite â FREE Live Cool Themes, Hid...</td>\n",
              "      <td>ART_AND_DESIGN</td>\n",
              "      <td>4.7</td>\n",
              "      <td>87510</td>\n",
              "      <td>8.7M</td>\n",
              "      <td>5,000,000+</td>\n",
              "      <td>Free</td>\n",
              "      <td>0</td>\n",
              "      <td>Everyone</td>\n",
              "      <td>Art &amp; Design</td>\n",
              "      <td>August 1, 2018</td>\n",
              "      <td>1.2.4</td>\n",
              "      <td>4.0.3 and up</td>\n",
              "    </tr>\n",
              "    <tr>\n",
              "      <th>3</th>\n",
              "      <td>Sketch - Draw &amp; Paint</td>\n",
              "      <td>ART_AND_DESIGN</td>\n",
              "      <td>4.5</td>\n",
              "      <td>215644</td>\n",
              "      <td>25M</td>\n",
              "      <td>50,000,000+</td>\n",
              "      <td>Free</td>\n",
              "      <td>0</td>\n",
              "      <td>Teen</td>\n",
              "      <td>Art &amp; Design</td>\n",
              "      <td>June 8, 2018</td>\n",
              "      <td>Varies with device</td>\n",
              "      <td>4.2 and up</td>\n",
              "    </tr>\n",
              "    <tr>\n",
              "      <th>4</th>\n",
              "      <td>Pixel Draw - Number Art Coloring Book</td>\n",
              "      <td>ART_AND_DESIGN</td>\n",
              "      <td>4.3</td>\n",
              "      <td>967</td>\n",
              "      <td>2.8M</td>\n",
              "      <td>100,000+</td>\n",
              "      <td>Free</td>\n",
              "      <td>0</td>\n",
              "      <td>Everyone</td>\n",
              "      <td>Art &amp; Design;Creativity</td>\n",
              "      <td>June 20, 2018</td>\n",
              "      <td>1.1</td>\n",
              "      <td>4.4 and up</td>\n",
              "    </tr>\n",
              "  </tbody>\n",
              "</table>\n",
              "</div>"
            ],
            "text/plain": [
              "                                                 App  ...   Android Ver\n",
              "0     Photo Editor & Candy Camera & Grid & ScrapBook  ...  4.0.3 and up\n",
              "1                                Coloring book moana  ...  4.0.3 and up\n",
              "2  U Launcher Lite â FREE Live Cool Themes, Hid...  ...  4.0.3 and up\n",
              "3                              Sketch - Draw & Paint  ...    4.2 and up\n",
              "4              Pixel Draw - Number Art Coloring Book  ...    4.4 and up\n",
              "\n",
              "[5 rows x 13 columns]"
            ]
          },
          "metadata": {
            "tags": []
          },
          "execution_count": 2
        }
      ]
    },
    {
      "cell_type": "markdown",
      "metadata": {
        "id": "DbVfHafhwISO",
        "colab_type": "text"
      },
      "source": [
        "Objetivo: Descobrir qual o melhor modelo para predizer a nota de avaliação (rating) dos \n",
        "aplicativos"
      ]
    },
    {
      "cell_type": "code",
      "metadata": {
        "id": "avWzfh0Sv-jG",
        "colab_type": "code",
        "outputId": "ddf5407a-b0a5-4833-fe4c-e2d775b8da9a",
        "colab": {
          "base_uri": "https://localhost:8080/",
          "height": 3077
        }
      },
      "source": [
        "dataset[dataset['Rating'].isna()]"
      ],
      "execution_count": 3,
      "outputs": [
        {
          "output_type": "execute_result",
          "data": {
            "text/html": [
              "<div>\n",
              "<style scoped>\n",
              "    .dataframe tbody tr th:only-of-type {\n",
              "        vertical-align: middle;\n",
              "    }\n",
              "\n",
              "    .dataframe tbody tr th {\n",
              "        vertical-align: top;\n",
              "    }\n",
              "\n",
              "    .dataframe thead th {\n",
              "        text-align: right;\n",
              "    }\n",
              "</style>\n",
              "<table border=\"1\" class=\"dataframe\">\n",
              "  <thead>\n",
              "    <tr style=\"text-align: right;\">\n",
              "      <th></th>\n",
              "      <th>App</th>\n",
              "      <th>Category</th>\n",
              "      <th>Rating</th>\n",
              "      <th>Reviews</th>\n",
              "      <th>Size</th>\n",
              "      <th>Installs</th>\n",
              "      <th>Type</th>\n",
              "      <th>Price</th>\n",
              "      <th>Content Rating</th>\n",
              "      <th>Genres</th>\n",
              "      <th>Last Updated</th>\n",
              "      <th>Current Ver</th>\n",
              "      <th>Android Ver</th>\n",
              "    </tr>\n",
              "  </thead>\n",
              "  <tbody>\n",
              "    <tr>\n",
              "      <th>23</th>\n",
              "      <td>Mcqueen Coloring pages</td>\n",
              "      <td>ART_AND_DESIGN</td>\n",
              "      <td>NaN</td>\n",
              "      <td>61</td>\n",
              "      <td>7.0M</td>\n",
              "      <td>100,000+</td>\n",
              "      <td>Free</td>\n",
              "      <td>0</td>\n",
              "      <td>Everyone</td>\n",
              "      <td>Art &amp; Design;Action &amp; Adventure</td>\n",
              "      <td>March 7, 2018</td>\n",
              "      <td>1.0.0</td>\n",
              "      <td>4.1 and up</td>\n",
              "    </tr>\n",
              "    <tr>\n",
              "      <th>113</th>\n",
              "      <td>Wrinkles and rejuvenation</td>\n",
              "      <td>BEAUTY</td>\n",
              "      <td>NaN</td>\n",
              "      <td>182</td>\n",
              "      <td>5.7M</td>\n",
              "      <td>100,000+</td>\n",
              "      <td>Free</td>\n",
              "      <td>0</td>\n",
              "      <td>Everyone 10+</td>\n",
              "      <td>Beauty</td>\n",
              "      <td>September 20, 2017</td>\n",
              "      <td>8.0</td>\n",
              "      <td>3.0 and up</td>\n",
              "    </tr>\n",
              "    <tr>\n",
              "      <th>123</th>\n",
              "      <td>Manicure - nail design</td>\n",
              "      <td>BEAUTY</td>\n",
              "      <td>NaN</td>\n",
              "      <td>119</td>\n",
              "      <td>3.7M</td>\n",
              "      <td>50,000+</td>\n",
              "      <td>Free</td>\n",
              "      <td>0</td>\n",
              "      <td>Everyone</td>\n",
              "      <td>Beauty</td>\n",
              "      <td>July 23, 2018</td>\n",
              "      <td>1.3</td>\n",
              "      <td>4.1 and up</td>\n",
              "    </tr>\n",
              "    <tr>\n",
              "      <th>126</th>\n",
              "      <td>Skin Care and Natural Beauty</td>\n",
              "      <td>BEAUTY</td>\n",
              "      <td>NaN</td>\n",
              "      <td>654</td>\n",
              "      <td>7.4M</td>\n",
              "      <td>100,000+</td>\n",
              "      <td>Free</td>\n",
              "      <td>0</td>\n",
              "      <td>Teen</td>\n",
              "      <td>Beauty</td>\n",
              "      <td>July 17, 2018</td>\n",
              "      <td>1.15</td>\n",
              "      <td>4.1 and up</td>\n",
              "    </tr>\n",
              "    <tr>\n",
              "      <th>129</th>\n",
              "      <td>Secrets of beauty, youth and health</td>\n",
              "      <td>BEAUTY</td>\n",
              "      <td>NaN</td>\n",
              "      <td>77</td>\n",
              "      <td>2.9M</td>\n",
              "      <td>10,000+</td>\n",
              "      <td>Free</td>\n",
              "      <td>0</td>\n",
              "      <td>Mature 17+</td>\n",
              "      <td>Beauty</td>\n",
              "      <td>August 8, 2017</td>\n",
              "      <td>2.0</td>\n",
              "      <td>2.3 and up</td>\n",
              "    </tr>\n",
              "    <tr>\n",
              "      <th>130</th>\n",
              "      <td>Recipes and tips for losing weight</td>\n",
              "      <td>BEAUTY</td>\n",
              "      <td>NaN</td>\n",
              "      <td>35</td>\n",
              "      <td>3.1M</td>\n",
              "      <td>10,000+</td>\n",
              "      <td>Free</td>\n",
              "      <td>0</td>\n",
              "      <td>Everyone 10+</td>\n",
              "      <td>Beauty</td>\n",
              "      <td>December 11, 2017</td>\n",
              "      <td>2.0</td>\n",
              "      <td>3.0 and up</td>\n",
              "    </tr>\n",
              "    <tr>\n",
              "      <th>134</th>\n",
              "      <td>Lady adviser (beauty, health)</td>\n",
              "      <td>BEAUTY</td>\n",
              "      <td>NaN</td>\n",
              "      <td>30</td>\n",
              "      <td>9.9M</td>\n",
              "      <td>10,000+</td>\n",
              "      <td>Free</td>\n",
              "      <td>0</td>\n",
              "      <td>Mature 17+</td>\n",
              "      <td>Beauty</td>\n",
              "      <td>January 24, 2018</td>\n",
              "      <td>3.0</td>\n",
              "      <td>3.0 and up</td>\n",
              "    </tr>\n",
              "    <tr>\n",
              "      <th>163</th>\n",
              "      <td>Anonymous caller detection</td>\n",
              "      <td>BOOKS_AND_REFERENCE</td>\n",
              "      <td>NaN</td>\n",
              "      <td>161</td>\n",
              "      <td>2.7M</td>\n",
              "      <td>10,000+</td>\n",
              "      <td>Free</td>\n",
              "      <td>0</td>\n",
              "      <td>Everyone</td>\n",
              "      <td>Books &amp; Reference</td>\n",
              "      <td>July 13, 2018</td>\n",
              "      <td>1.0</td>\n",
              "      <td>2.3 and up</td>\n",
              "    </tr>\n",
              "    <tr>\n",
              "      <th>180</th>\n",
              "      <td>SH-02J Owner's Manual (Android 8.0)</td>\n",
              "      <td>BOOKS_AND_REFERENCE</td>\n",
              "      <td>NaN</td>\n",
              "      <td>2</td>\n",
              "      <td>7.2M</td>\n",
              "      <td>50,000+</td>\n",
              "      <td>Free</td>\n",
              "      <td>0</td>\n",
              "      <td>Everyone</td>\n",
              "      <td>Books &amp; Reference</td>\n",
              "      <td>June 15, 2018</td>\n",
              "      <td>3.0</td>\n",
              "      <td>6.0 and up</td>\n",
              "    </tr>\n",
              "    <tr>\n",
              "      <th>185</th>\n",
              "      <td>URBANO V 02 instruction manual</td>\n",
              "      <td>BOOKS_AND_REFERENCE</td>\n",
              "      <td>NaN</td>\n",
              "      <td>114</td>\n",
              "      <td>7.3M</td>\n",
              "      <td>100,000+</td>\n",
              "      <td>Free</td>\n",
              "      <td>0</td>\n",
              "      <td>Everyone</td>\n",
              "      <td>Books &amp; Reference</td>\n",
              "      <td>August 7, 2015</td>\n",
              "      <td>1.1</td>\n",
              "      <td>5.1 and up</td>\n",
              "    </tr>\n",
              "    <tr>\n",
              "      <th>227</th>\n",
              "      <td>Y! Mobile menu</td>\n",
              "      <td>BUSINESS</td>\n",
              "      <td>NaN</td>\n",
              "      <td>9</td>\n",
              "      <td>1.2M</td>\n",
              "      <td>100,000+</td>\n",
              "      <td>Free</td>\n",
              "      <td>0</td>\n",
              "      <td>Everyone</td>\n",
              "      <td>Business</td>\n",
              "      <td>April 9, 2018</td>\n",
              "      <td>1.0.5</td>\n",
              "      <td>6.0 and up</td>\n",
              "    </tr>\n",
              "    <tr>\n",
              "      <th>321</th>\n",
              "      <td>ãRanobbe complete freeã Novelba - Free app...</td>\n",
              "      <td>COMICS</td>\n",
              "      <td>NaN</td>\n",
              "      <td>1330</td>\n",
              "      <td>22M</td>\n",
              "      <td>50,000+</td>\n",
              "      <td>Free</td>\n",
              "      <td>0</td>\n",
              "      <td>Everyone</td>\n",
              "      <td>Comics</td>\n",
              "      <td>July 3, 2018</td>\n",
              "      <td>6.1.1</td>\n",
              "      <td>4.2 and up</td>\n",
              "    </tr>\n",
              "    <tr>\n",
              "      <th>478</th>\n",
              "      <td>Truth or Dare Pro</td>\n",
              "      <td>DATING</td>\n",
              "      <td>NaN</td>\n",
              "      <td>0</td>\n",
              "      <td>20M</td>\n",
              "      <td>50+</td>\n",
              "      <td>Paid</td>\n",
              "      <td>$1.49</td>\n",
              "      <td>Teen</td>\n",
              "      <td>Dating</td>\n",
              "      <td>September 1, 2017</td>\n",
              "      <td>1.0</td>\n",
              "      <td>4.0 and up</td>\n",
              "    </tr>\n",
              "    <tr>\n",
              "      <th>479</th>\n",
              "      <td>Private Dating, Hide App- Blue for PrivacyHider</td>\n",
              "      <td>DATING</td>\n",
              "      <td>NaN</td>\n",
              "      <td>0</td>\n",
              "      <td>18k</td>\n",
              "      <td>100+</td>\n",
              "      <td>Paid</td>\n",
              "      <td>$2.99</td>\n",
              "      <td>Everyone</td>\n",
              "      <td>Dating</td>\n",
              "      <td>July 25, 2017</td>\n",
              "      <td>1.0.1</td>\n",
              "      <td>4.0 and up</td>\n",
              "    </tr>\n",
              "    <tr>\n",
              "      <th>480</th>\n",
              "      <td>Ad Blocker for SayHi</td>\n",
              "      <td>DATING</td>\n",
              "      <td>NaN</td>\n",
              "      <td>4</td>\n",
              "      <td>1.2M</td>\n",
              "      <td>100+</td>\n",
              "      <td>Paid</td>\n",
              "      <td>$3.99</td>\n",
              "      <td>Teen</td>\n",
              "      <td>Dating</td>\n",
              "      <td>August 2, 2018</td>\n",
              "      <td>1.2</td>\n",
              "      <td>4.0.3 and up</td>\n",
              "    </tr>\n",
              "    <tr>\n",
              "      <th>610</th>\n",
              "      <td>Random Video Chat</td>\n",
              "      <td>DATING</td>\n",
              "      <td>NaN</td>\n",
              "      <td>3</td>\n",
              "      <td>16M</td>\n",
              "      <td>1,000+</td>\n",
              "      <td>Free</td>\n",
              "      <td>0</td>\n",
              "      <td>Mature 17+</td>\n",
              "      <td>Dating</td>\n",
              "      <td>July 15, 2018</td>\n",
              "      <td>4.20</td>\n",
              "      <td>4.0.3 and up</td>\n",
              "    </tr>\n",
              "    <tr>\n",
              "      <th>613</th>\n",
              "      <td>Random Video Chat App With Strangers</td>\n",
              "      <td>DATING</td>\n",
              "      <td>NaN</td>\n",
              "      <td>3</td>\n",
              "      <td>4.8M</td>\n",
              "      <td>1,000+</td>\n",
              "      <td>Free</td>\n",
              "      <td>0</td>\n",
              "      <td>Mature 17+</td>\n",
              "      <td>Dating</td>\n",
              "      <td>July 17, 2018</td>\n",
              "      <td>1.</td>\n",
              "      <td>4.0 and up</td>\n",
              "    </tr>\n",
              "    <tr>\n",
              "      <th>617</th>\n",
              "      <td>Meet With Strangers: Video Chat &amp; Dating</td>\n",
              "      <td>DATING</td>\n",
              "      <td>NaN</td>\n",
              "      <td>2</td>\n",
              "      <td>3.7M</td>\n",
              "      <td>500+</td>\n",
              "      <td>Free</td>\n",
              "      <td>0</td>\n",
              "      <td>Mature 17+</td>\n",
              "      <td>Dating</td>\n",
              "      <td>July 16, 2018</td>\n",
              "      <td>1.</td>\n",
              "      <td>4.0 and up</td>\n",
              "    </tr>\n",
              "    <tr>\n",
              "      <th>620</th>\n",
              "      <td>Ost. Zombies Cast - New Music and Lyrics</td>\n",
              "      <td>DATING</td>\n",
              "      <td>NaN</td>\n",
              "      <td>1</td>\n",
              "      <td>4.6M</td>\n",
              "      <td>100+</td>\n",
              "      <td>Free</td>\n",
              "      <td>0</td>\n",
              "      <td>Teen</td>\n",
              "      <td>Dating</td>\n",
              "      <td>July 20, 2018</td>\n",
              "      <td>1.0</td>\n",
              "      <td>4.0.3 and up</td>\n",
              "    </tr>\n",
              "    <tr>\n",
              "      <th>621</th>\n",
              "      <td>Dating White Girls</td>\n",
              "      <td>DATING</td>\n",
              "      <td>NaN</td>\n",
              "      <td>0</td>\n",
              "      <td>3.6M</td>\n",
              "      <td>50+</td>\n",
              "      <td>Free</td>\n",
              "      <td>0</td>\n",
              "      <td>Mature 17+</td>\n",
              "      <td>Dating</td>\n",
              "      <td>July 20, 2018</td>\n",
              "      <td>1.0</td>\n",
              "      <td>4.0 and up</td>\n",
              "    </tr>\n",
              "    <tr>\n",
              "      <th>623</th>\n",
              "      <td>Geeks Dating</td>\n",
              "      <td>DATING</td>\n",
              "      <td>NaN</td>\n",
              "      <td>0</td>\n",
              "      <td>13M</td>\n",
              "      <td>50+</td>\n",
              "      <td>Free</td>\n",
              "      <td>0</td>\n",
              "      <td>Mature 17+</td>\n",
              "      <td>Dating</td>\n",
              "      <td>July 10, 2018</td>\n",
              "      <td>1.0</td>\n",
              "      <td>4.1 and up</td>\n",
              "    </tr>\n",
              "    <tr>\n",
              "      <th>624</th>\n",
              "      <td>Live chat - free video chat</td>\n",
              "      <td>DATING</td>\n",
              "      <td>NaN</td>\n",
              "      <td>1</td>\n",
              "      <td>8.7M</td>\n",
              "      <td>500+</td>\n",
              "      <td>Free</td>\n",
              "      <td>0</td>\n",
              "      <td>Mature 17+</td>\n",
              "      <td>Dating</td>\n",
              "      <td>July 23, 2018</td>\n",
              "      <td>3.52</td>\n",
              "      <td>4.0.3 and up</td>\n",
              "    </tr>\n",
              "    <tr>\n",
              "      <th>626</th>\n",
              "      <td>Fishing Brain &amp; Boating Maps Marine</td>\n",
              "      <td>DATING</td>\n",
              "      <td>NaN</td>\n",
              "      <td>3</td>\n",
              "      <td>6.9M</td>\n",
              "      <td>500+</td>\n",
              "      <td>Free</td>\n",
              "      <td>0</td>\n",
              "      <td>Everyone</td>\n",
              "      <td>Dating</td>\n",
              "      <td>July 23, 2018</td>\n",
              "      <td>1.0</td>\n",
              "      <td>4.0.3 and up</td>\n",
              "    </tr>\n",
              "    <tr>\n",
              "      <th>627</th>\n",
              "      <td>CAM5678 Video Chat</td>\n",
              "      <td>DATING</td>\n",
              "      <td>NaN</td>\n",
              "      <td>0</td>\n",
              "      <td>39M</td>\n",
              "      <td>500+</td>\n",
              "      <td>Free</td>\n",
              "      <td>0</td>\n",
              "      <td>Mature 17+</td>\n",
              "      <td>Dating</td>\n",
              "      <td>July 13, 2018</td>\n",
              "      <td>5.5.8</td>\n",
              "      <td>4.0.3 and up</td>\n",
              "    </tr>\n",
              "    <tr>\n",
              "      <th>628</th>\n",
              "      <td>Video chat live advices</td>\n",
              "      <td>DATING</td>\n",
              "      <td>NaN</td>\n",
              "      <td>0</td>\n",
              "      <td>8.0M</td>\n",
              "      <td>100+</td>\n",
              "      <td>Free</td>\n",
              "      <td>0</td>\n",
              "      <td>Everyone</td>\n",
              "      <td>Dating</td>\n",
              "      <td>July 10, 2018</td>\n",
              "      <td>1.0</td>\n",
              "      <td>3.0 and up</td>\n",
              "    </tr>\n",
              "    <tr>\n",
              "      <th>629</th>\n",
              "      <td>chat live chat</td>\n",
              "      <td>DATING</td>\n",
              "      <td>NaN</td>\n",
              "      <td>24</td>\n",
              "      <td>3.9M</td>\n",
              "      <td>1,000+</td>\n",
              "      <td>Free</td>\n",
              "      <td>0</td>\n",
              "      <td>Mature 17+</td>\n",
              "      <td>Dating</td>\n",
              "      <td>July 26, 2018</td>\n",
              "      <td>1.0</td>\n",
              "      <td>4.0 and up</td>\n",
              "    </tr>\n",
              "    <tr>\n",
              "      <th>630</th>\n",
              "      <td>Pet Lovers Dating</td>\n",
              "      <td>DATING</td>\n",
              "      <td>NaN</td>\n",
              "      <td>0</td>\n",
              "      <td>14M</td>\n",
              "      <td>10+</td>\n",
              "      <td>Free</td>\n",
              "      <td>0</td>\n",
              "      <td>Mature 17+</td>\n",
              "      <td>Dating</td>\n",
              "      <td>July 9, 2018</td>\n",
              "      <td>1.0</td>\n",
              "      <td>4.1 and up</td>\n",
              "    </tr>\n",
              "    <tr>\n",
              "      <th>631</th>\n",
              "      <td>Friend Find: free chat + flirt dating app</td>\n",
              "      <td>DATING</td>\n",
              "      <td>NaN</td>\n",
              "      <td>23</td>\n",
              "      <td>11M</td>\n",
              "      <td>100+</td>\n",
              "      <td>Free</td>\n",
              "      <td>0</td>\n",
              "      <td>Mature 17+</td>\n",
              "      <td>Dating</td>\n",
              "      <td>July 31, 2018</td>\n",
              "      <td>1.0</td>\n",
              "      <td>4.4 and up</td>\n",
              "    </tr>\n",
              "    <tr>\n",
              "      <th>632</th>\n",
              "      <td>Latin Dating</td>\n",
              "      <td>DATING</td>\n",
              "      <td>NaN</td>\n",
              "      <td>0</td>\n",
              "      <td>13M</td>\n",
              "      <td>10+</td>\n",
              "      <td>Free</td>\n",
              "      <td>0</td>\n",
              "      <td>Mature 17+</td>\n",
              "      <td>Dating</td>\n",
              "      <td>July 9, 2018</td>\n",
              "      <td>1.0</td>\n",
              "      <td>4.1 and up</td>\n",
              "    </tr>\n",
              "    <tr>\n",
              "      <th>635</th>\n",
              "      <td>Wifi Mingle</td>\n",
              "      <td>DATING</td>\n",
              "      <td>NaN</td>\n",
              "      <td>0</td>\n",
              "      <td>10.0M</td>\n",
              "      <td>10+</td>\n",
              "      <td>Free</td>\n",
              "      <td>0</td>\n",
              "      <td>Everyone</td>\n",
              "      <td>Dating</td>\n",
              "      <td>July 27, 2018</td>\n",
              "      <td>1.3</td>\n",
              "      <td>4.4 and up</td>\n",
              "    </tr>\n",
              "    <tr>\n",
              "      <th>...</th>\n",
              "      <td>...</td>\n",
              "      <td>...</td>\n",
              "      <td>...</td>\n",
              "      <td>...</td>\n",
              "      <td>...</td>\n",
              "      <td>...</td>\n",
              "      <td>...</td>\n",
              "      <td>...</td>\n",
              "      <td>...</td>\n",
              "      <td>...</td>\n",
              "      <td>...</td>\n",
              "      <td>...</td>\n",
              "      <td>...</td>\n",
              "    </tr>\n",
              "    <tr>\n",
              "      <th>10746</th>\n",
              "      <td>FP Opgaver</td>\n",
              "      <td>TOOLS</td>\n",
              "      <td>NaN</td>\n",
              "      <td>9</td>\n",
              "      <td>61M</td>\n",
              "      <td>1,000+</td>\n",
              "      <td>Free</td>\n",
              "      <td>0</td>\n",
              "      <td>Everyone</td>\n",
              "      <td>Tools</td>\n",
              "      <td>May 31, 2018</td>\n",
              "      <td>1.9</td>\n",
              "      <td>4.0.3 and up</td>\n",
              "    </tr>\n",
              "    <tr>\n",
              "      <th>10748</th>\n",
              "      <td>FP Live</td>\n",
              "      <td>COMMUNICATION</td>\n",
              "      <td>NaN</td>\n",
              "      <td>0</td>\n",
              "      <td>3.3M</td>\n",
              "      <td>10+</td>\n",
              "      <td>Free</td>\n",
              "      <td>0</td>\n",
              "      <td>Teen</td>\n",
              "      <td>Communication</td>\n",
              "      <td>November 3, 2017</td>\n",
              "      <td>1.2.4</td>\n",
              "      <td>4.2 and up</td>\n",
              "    </tr>\n",
              "    <tr>\n",
              "      <th>10751</th>\n",
              "      <td>FP Market</td>\n",
              "      <td>FAMILY</td>\n",
              "      <td>NaN</td>\n",
              "      <td>24</td>\n",
              "      <td>44k</td>\n",
              "      <td>1,000+</td>\n",
              "      <td>Free</td>\n",
              "      <td>0</td>\n",
              "      <td>Everyone</td>\n",
              "      <td>Education</td>\n",
              "      <td>June 17, 2012</td>\n",
              "      <td>1.0</td>\n",
              "      <td>1.6 and up</td>\n",
              "    </tr>\n",
              "    <tr>\n",
              "      <th>10759</th>\n",
              "      <td>FP NFC Rewrite</td>\n",
              "      <td>TOOLS</td>\n",
              "      <td>NaN</td>\n",
              "      <td>17</td>\n",
              "      <td>67k</td>\n",
              "      <td>1,000+</td>\n",
              "      <td>Free</td>\n",
              "      <td>0</td>\n",
              "      <td>Everyone</td>\n",
              "      <td>Tools</td>\n",
              "      <td>January 29, 2016</td>\n",
              "      <td>1.1</td>\n",
              "      <td>4.0 and up</td>\n",
              "    </tr>\n",
              "    <tr>\n",
              "      <th>10761</th>\n",
              "      <td>Greek Bible FP (Audio)</td>\n",
              "      <td>BOOKS_AND_REFERENCE</td>\n",
              "      <td>NaN</td>\n",
              "      <td>5</td>\n",
              "      <td>8.0M</td>\n",
              "      <td>1,000+</td>\n",
              "      <td>Free</td>\n",
              "      <td>0</td>\n",
              "      <td>Everyone</td>\n",
              "      <td>Books &amp; Reference</td>\n",
              "      <td>August 29, 2016</td>\n",
              "      <td>1.0.0</td>\n",
              "      <td>4.0.3 and up</td>\n",
              "    </tr>\n",
              "    <tr>\n",
              "      <th>10762</th>\n",
              "      <td>The FP Shield</td>\n",
              "      <td>NEWS_AND_MAGAZINES</td>\n",
              "      <td>NaN</td>\n",
              "      <td>0</td>\n",
              "      <td>11M</td>\n",
              "      <td>10+</td>\n",
              "      <td>Free</td>\n",
              "      <td>0</td>\n",
              "      <td>Everyone</td>\n",
              "      <td>News &amp; Magazines</td>\n",
              "      <td>February 1, 2018</td>\n",
              "      <td>1.1.0</td>\n",
              "      <td>4.4 and up</td>\n",
              "    </tr>\n",
              "    <tr>\n",
              "      <th>10764</th>\n",
              "      <td>FP Transportation</td>\n",
              "      <td>AUTO_AND_VEHICLES</td>\n",
              "      <td>NaN</td>\n",
              "      <td>1</td>\n",
              "      <td>885k</td>\n",
              "      <td>1+</td>\n",
              "      <td>Free</td>\n",
              "      <td>0</td>\n",
              "      <td>Everyone</td>\n",
              "      <td>Auto &amp; Vehicles</td>\n",
              "      <td>March 9, 2018</td>\n",
              "      <td>10.0.0</td>\n",
              "      <td>4.0 and up</td>\n",
              "    </tr>\n",
              "    <tr>\n",
              "      <th>10769</th>\n",
              "      <td>FQ Magazine</td>\n",
              "      <td>LIFESTYLE</td>\n",
              "      <td>NaN</td>\n",
              "      <td>1</td>\n",
              "      <td>12M</td>\n",
              "      <td>100+</td>\n",
              "      <td>Free</td>\n",
              "      <td>0</td>\n",
              "      <td>Everyone</td>\n",
              "      <td>Lifestyle</td>\n",
              "      <td>December 12, 2016</td>\n",
              "      <td>1.0</td>\n",
              "      <td>4.1 and up</td>\n",
              "    </tr>\n",
              "    <tr>\n",
              "      <th>10772</th>\n",
              "      <td>FQ Load Board for Transporters</td>\n",
              "      <td>BUSINESS</td>\n",
              "      <td>NaN</td>\n",
              "      <td>0</td>\n",
              "      <td>3.9M</td>\n",
              "      <td>100+</td>\n",
              "      <td>Free</td>\n",
              "      <td>0</td>\n",
              "      <td>Everyone</td>\n",
              "      <td>Business</td>\n",
              "      <td>February 16, 2018</td>\n",
              "      <td>1.1.3</td>\n",
              "      <td>5.0 and up</td>\n",
              "    </tr>\n",
              "    <tr>\n",
              "      <th>10773</th>\n",
              "      <td>FQ India</td>\n",
              "      <td>LIFESTYLE</td>\n",
              "      <td>NaN</td>\n",
              "      <td>0</td>\n",
              "      <td>8.9M</td>\n",
              "      <td>10+</td>\n",
              "      <td>Free</td>\n",
              "      <td>0</td>\n",
              "      <td>Everyone</td>\n",
              "      <td>Lifestyle</td>\n",
              "      <td>July 31, 2018</td>\n",
              "      <td>7.2.2</td>\n",
              "      <td>4.1 and up</td>\n",
              "    </tr>\n",
              "    <tr>\n",
              "      <th>10774</th>\n",
              "      <td>Miss FQ</td>\n",
              "      <td>NEWS_AND_MAGAZINES</td>\n",
              "      <td>NaN</td>\n",
              "      <td>0</td>\n",
              "      <td>36M</td>\n",
              "      <td>10+</td>\n",
              "      <td>Free</td>\n",
              "      <td>0</td>\n",
              "      <td>Everyone</td>\n",
              "      <td>News &amp; Magazines</td>\n",
              "      <td>April 5, 2018</td>\n",
              "      <td>3.8</td>\n",
              "      <td>4.4 and up</td>\n",
              "    </tr>\n",
              "    <tr>\n",
              "      <th>10775</th>\n",
              "      <td>FQ - Football Quiz</td>\n",
              "      <td>SPORTS</td>\n",
              "      <td>NaN</td>\n",
              "      <td>1</td>\n",
              "      <td>9.0M</td>\n",
              "      <td>1+</td>\n",
              "      <td>Free</td>\n",
              "      <td>0</td>\n",
              "      <td>Everyone</td>\n",
              "      <td>Sports</td>\n",
              "      <td>May 29, 2018</td>\n",
              "      <td>1.0</td>\n",
              "      <td>5.0 and up</td>\n",
              "    </tr>\n",
              "    <tr>\n",
              "      <th>10788</th>\n",
              "      <td>Fountain Live Wallpaper HD â Dubai Wallpaper 3D</td>\n",
              "      <td>PERSONALIZATION</td>\n",
              "      <td>NaN</td>\n",
              "      <td>1</td>\n",
              "      <td>20M</td>\n",
              "      <td>500+</td>\n",
              "      <td>Free</td>\n",
              "      <td>0</td>\n",
              "      <td>Everyone</td>\n",
              "      <td>Personalization</td>\n",
              "      <td>April 13, 2018</td>\n",
              "      <td>1.0</td>\n",
              "      <td>4.1 and up</td>\n",
              "    </tr>\n",
              "    <tr>\n",
              "      <th>10794</th>\n",
              "      <td>PopStar</td>\n",
              "      <td>FAMILY</td>\n",
              "      <td>NaN</td>\n",
              "      <td>13</td>\n",
              "      <td>5.7M</td>\n",
              "      <td>1,000+</td>\n",
              "      <td>Free</td>\n",
              "      <td>0</td>\n",
              "      <td>Everyone</td>\n",
              "      <td>Casual</td>\n",
              "      <td>January 3, 2018</td>\n",
              "      <td>1.6</td>\n",
              "      <td>4.3 and up</td>\n",
              "    </tr>\n",
              "    <tr>\n",
              "      <th>10798</th>\n",
              "      <td>Word Search Tab 1 FR</td>\n",
              "      <td>FAMILY</td>\n",
              "      <td>NaN</td>\n",
              "      <td>0</td>\n",
              "      <td>1020k</td>\n",
              "      <td>50+</td>\n",
              "      <td>Paid</td>\n",
              "      <td>$1.04</td>\n",
              "      <td>Everyone</td>\n",
              "      <td>Puzzle</td>\n",
              "      <td>February 6, 2012</td>\n",
              "      <td>1.1</td>\n",
              "      <td>3.0 and up</td>\n",
              "    </tr>\n",
              "    <tr>\n",
              "      <th>10806</th>\n",
              "      <td>SnakeBite911 FR</td>\n",
              "      <td>MEDICAL</td>\n",
              "      <td>NaN</td>\n",
              "      <td>1</td>\n",
              "      <td>42M</td>\n",
              "      <td>500+</td>\n",
              "      <td>Free</td>\n",
              "      <td>0</td>\n",
              "      <td>Everyone</td>\n",
              "      <td>Medical</td>\n",
              "      <td>October 9, 2017</td>\n",
              "      <td>1.2</td>\n",
              "      <td>4.1 and up</td>\n",
              "    </tr>\n",
              "    <tr>\n",
              "      <th>10807</th>\n",
              "      <td>My FR App</td>\n",
              "      <td>TOOLS</td>\n",
              "      <td>NaN</td>\n",
              "      <td>2</td>\n",
              "      <td>4.2M</td>\n",
              "      <td>100+</td>\n",
              "      <td>Free</td>\n",
              "      <td>0</td>\n",
              "      <td>Everyone</td>\n",
              "      <td>Tools</td>\n",
              "      <td>April 9, 2018</td>\n",
              "      <td>1.283.0037</td>\n",
              "      <td>2.3.3 and up</td>\n",
              "    </tr>\n",
              "    <tr>\n",
              "      <th>10808</th>\n",
              "      <td>lesparticuliers.fr</td>\n",
              "      <td>LIFESTYLE</td>\n",
              "      <td>NaN</td>\n",
              "      <td>96</td>\n",
              "      <td>1.0M</td>\n",
              "      <td>50,000+</td>\n",
              "      <td>Free</td>\n",
              "      <td>0</td>\n",
              "      <td>Everyone</td>\n",
              "      <td>Lifestyle</td>\n",
              "      <td>November 25, 2014</td>\n",
              "      <td>1.5</td>\n",
              "      <td>2.3 and up</td>\n",
              "    </tr>\n",
              "    <tr>\n",
              "      <th>10811</th>\n",
              "      <td>FR Plus 1.6</td>\n",
              "      <td>AUTO_AND_VEHICLES</td>\n",
              "      <td>NaN</td>\n",
              "      <td>4</td>\n",
              "      <td>3.9M</td>\n",
              "      <td>100+</td>\n",
              "      <td>Free</td>\n",
              "      <td>0</td>\n",
              "      <td>Everyone</td>\n",
              "      <td>Auto &amp; Vehicles</td>\n",
              "      <td>July 24, 2018</td>\n",
              "      <td>1.3.6</td>\n",
              "      <td>4.4W and up</td>\n",
              "    </tr>\n",
              "    <tr>\n",
              "      <th>10813</th>\n",
              "      <td>DICT.fr Mobile</td>\n",
              "      <td>BUSINESS</td>\n",
              "      <td>NaN</td>\n",
              "      <td>20</td>\n",
              "      <td>2.7M</td>\n",
              "      <td>10,000+</td>\n",
              "      <td>Free</td>\n",
              "      <td>0</td>\n",
              "      <td>Everyone</td>\n",
              "      <td>Business</td>\n",
              "      <td>July 17, 2018</td>\n",
              "      <td>2.1.10</td>\n",
              "      <td>4.1 and up</td>\n",
              "    </tr>\n",
              "    <tr>\n",
              "      <th>10816</th>\n",
              "      <td>FieldBi FR Offline</td>\n",
              "      <td>BUSINESS</td>\n",
              "      <td>NaN</td>\n",
              "      <td>2</td>\n",
              "      <td>6.8M</td>\n",
              "      <td>100+</td>\n",
              "      <td>Free</td>\n",
              "      <td>0</td>\n",
              "      <td>Everyone</td>\n",
              "      <td>Business</td>\n",
              "      <td>August 6, 2018</td>\n",
              "      <td>2.1.8</td>\n",
              "      <td>4.1 and up</td>\n",
              "    </tr>\n",
              "    <tr>\n",
              "      <th>10818</th>\n",
              "      <td>Gold Quote - Gold.fr</td>\n",
              "      <td>FINANCE</td>\n",
              "      <td>NaN</td>\n",
              "      <td>96</td>\n",
              "      <td>1.5M</td>\n",
              "      <td>10,000+</td>\n",
              "      <td>Free</td>\n",
              "      <td>0</td>\n",
              "      <td>Everyone</td>\n",
              "      <td>Finance</td>\n",
              "      <td>May 19, 2016</td>\n",
              "      <td>2.3</td>\n",
              "      <td>2.2 and up</td>\n",
              "    </tr>\n",
              "    <tr>\n",
              "      <th>10821</th>\n",
              "      <td>Poop FR</td>\n",
              "      <td>FAMILY</td>\n",
              "      <td>NaN</td>\n",
              "      <td>6</td>\n",
              "      <td>2.5M</td>\n",
              "      <td>50+</td>\n",
              "      <td>Free</td>\n",
              "      <td>0</td>\n",
              "      <td>Everyone</td>\n",
              "      <td>Entertainment</td>\n",
              "      <td>May 29, 2018</td>\n",
              "      <td>1.0</td>\n",
              "      <td>4.0.3 and up</td>\n",
              "    </tr>\n",
              "    <tr>\n",
              "      <th>10822</th>\n",
              "      <td>PLMGSS FR</td>\n",
              "      <td>PRODUCTIVITY</td>\n",
              "      <td>NaN</td>\n",
              "      <td>0</td>\n",
              "      <td>3.1M</td>\n",
              "      <td>10+</td>\n",
              "      <td>Free</td>\n",
              "      <td>0</td>\n",
              "      <td>Everyone</td>\n",
              "      <td>Productivity</td>\n",
              "      <td>December 1, 2017</td>\n",
              "      <td>1</td>\n",
              "      <td>4.4 and up</td>\n",
              "    </tr>\n",
              "    <tr>\n",
              "      <th>10823</th>\n",
              "      <td>List iptv FR</td>\n",
              "      <td>VIDEO_PLAYERS</td>\n",
              "      <td>NaN</td>\n",
              "      <td>1</td>\n",
              "      <td>2.9M</td>\n",
              "      <td>100+</td>\n",
              "      <td>Free</td>\n",
              "      <td>0</td>\n",
              "      <td>Everyone</td>\n",
              "      <td>Video Players &amp; Editors</td>\n",
              "      <td>April 22, 2018</td>\n",
              "      <td>1.0</td>\n",
              "      <td>4.0.3 and up</td>\n",
              "    </tr>\n",
              "    <tr>\n",
              "      <th>10824</th>\n",
              "      <td>Cardio-FR</td>\n",
              "      <td>MEDICAL</td>\n",
              "      <td>NaN</td>\n",
              "      <td>67</td>\n",
              "      <td>82M</td>\n",
              "      <td>10,000+</td>\n",
              "      <td>Free</td>\n",
              "      <td>0</td>\n",
              "      <td>Everyone</td>\n",
              "      <td>Medical</td>\n",
              "      <td>July 31, 2018</td>\n",
              "      <td>2.2.2</td>\n",
              "      <td>4.4 and up</td>\n",
              "    </tr>\n",
              "    <tr>\n",
              "      <th>10825</th>\n",
              "      <td>Naruto &amp; Boruto FR</td>\n",
              "      <td>SOCIAL</td>\n",
              "      <td>NaN</td>\n",
              "      <td>7</td>\n",
              "      <td>7.7M</td>\n",
              "      <td>100+</td>\n",
              "      <td>Free</td>\n",
              "      <td>0</td>\n",
              "      <td>Teen</td>\n",
              "      <td>Social</td>\n",
              "      <td>February 2, 2018</td>\n",
              "      <td>1.0</td>\n",
              "      <td>4.0 and up</td>\n",
              "    </tr>\n",
              "    <tr>\n",
              "      <th>10831</th>\n",
              "      <td>payermonstationnement.fr</td>\n",
              "      <td>MAPS_AND_NAVIGATION</td>\n",
              "      <td>NaN</td>\n",
              "      <td>38</td>\n",
              "      <td>9.8M</td>\n",
              "      <td>5,000+</td>\n",
              "      <td>Free</td>\n",
              "      <td>0</td>\n",
              "      <td>Everyone</td>\n",
              "      <td>Maps &amp; Navigation</td>\n",
              "      <td>June 13, 2018</td>\n",
              "      <td>2.0.148.0</td>\n",
              "      <td>4.0 and up</td>\n",
              "    </tr>\n",
              "    <tr>\n",
              "      <th>10835</th>\n",
              "      <td>FR Forms</td>\n",
              "      <td>BUSINESS</td>\n",
              "      <td>NaN</td>\n",
              "      <td>0</td>\n",
              "      <td>9.6M</td>\n",
              "      <td>10+</td>\n",
              "      <td>Free</td>\n",
              "      <td>0</td>\n",
              "      <td>Everyone</td>\n",
              "      <td>Business</td>\n",
              "      <td>September 29, 2016</td>\n",
              "      <td>1.1.5</td>\n",
              "      <td>4.0 and up</td>\n",
              "    </tr>\n",
              "    <tr>\n",
              "      <th>10838</th>\n",
              "      <td>Parkinson Exercices FR</td>\n",
              "      <td>MEDICAL</td>\n",
              "      <td>NaN</td>\n",
              "      <td>3</td>\n",
              "      <td>9.5M</td>\n",
              "      <td>1,000+</td>\n",
              "      <td>Free</td>\n",
              "      <td>0</td>\n",
              "      <td>Everyone</td>\n",
              "      <td>Medical</td>\n",
              "      <td>January 20, 2017</td>\n",
              "      <td>1.0</td>\n",
              "      <td>2.2 and up</td>\n",
              "    </tr>\n",
              "  </tbody>\n",
              "</table>\n",
              "<p>1474 rows × 13 columns</p>\n",
              "</div>"
            ],
            "text/plain": [
              "                                                     App  ...   Android Ver\n",
              "23                                Mcqueen Coloring pages  ...    4.1 and up\n",
              "113                            Wrinkles and rejuvenation  ...    3.0 and up\n",
              "123                               Manicure - nail design  ...    4.1 and up\n",
              "126                         Skin Care and Natural Beauty  ...    4.1 and up\n",
              "129                  Secrets of beauty, youth and health  ...    2.3 and up\n",
              "130                   Recipes and tips for losing weight  ...    3.0 and up\n",
              "134                        Lady adviser (beauty, health)  ...    3.0 and up\n",
              "163                           Anonymous caller detection  ...    2.3 and up\n",
              "180                  SH-02J Owner's Manual (Android 8.0)  ...    6.0 and up\n",
              "185                       URBANO V 02 instruction manual  ...    5.1 and up\n",
              "227                                       Y! Mobile menu  ...    6.0 and up\n",
              "321    ãRanobbe complete freeã Novelba - Free app...  ...    4.2 and up\n",
              "478                                    Truth or Dare Pro  ...    4.0 and up\n",
              "479      Private Dating, Hide App- Blue for PrivacyHider  ...    4.0 and up\n",
              "480                                 Ad Blocker for SayHi  ...  4.0.3 and up\n",
              "610                                    Random Video Chat  ...  4.0.3 and up\n",
              "613                 Random Video Chat App With Strangers  ...    4.0 and up\n",
              "617             Meet With Strangers: Video Chat & Dating  ...    4.0 and up\n",
              "620             Ost. Zombies Cast - New Music and Lyrics  ...  4.0.3 and up\n",
              "621                                   Dating White Girls  ...    4.0 and up\n",
              "623                                         Geeks Dating  ...    4.1 and up\n",
              "624                          Live chat - free video chat  ...  4.0.3 and up\n",
              "626                  Fishing Brain & Boating Maps Marine  ...  4.0.3 and up\n",
              "627                                   CAM5678 Video Chat  ...  4.0.3 and up\n",
              "628                              Video chat live advices  ...    3.0 and up\n",
              "629                                       chat live chat  ...    4.0 and up\n",
              "630                                    Pet Lovers Dating  ...    4.1 and up\n",
              "631            Friend Find: free chat + flirt dating app  ...    4.4 and up\n",
              "632                                         Latin Dating  ...    4.1 and up\n",
              "635                                          Wifi Mingle  ...    4.4 and up\n",
              "...                                                  ...  ...           ...\n",
              "10746                                         FP Opgaver  ...  4.0.3 and up\n",
              "10748                                            FP Live  ...    4.2 and up\n",
              "10751                                          FP Market  ...    1.6 and up\n",
              "10759                                     FP NFC Rewrite  ...    4.0 and up\n",
              "10761                             Greek Bible FP (Audio)  ...  4.0.3 and up\n",
              "10762                                      The FP Shield  ...    4.4 and up\n",
              "10764                                  FP Transportation  ...    4.0 and up\n",
              "10769                                        FQ Magazine  ...    4.1 and up\n",
              "10772                     FQ Load Board for Transporters  ...    5.0 and up\n",
              "10773                                           FQ India  ...    4.1 and up\n",
              "10774                                            Miss FQ  ...    4.4 and up\n",
              "10775                                 FQ - Football Quiz  ...    5.0 and up\n",
              "10788  Fountain Live Wallpaper HD â Dubai Wallpaper 3D  ...    4.1 and up\n",
              "10794                                            PopStar  ...    4.3 and up\n",
              "10798                               Word Search Tab 1 FR  ...    3.0 and up\n",
              "10806                                    SnakeBite911 FR  ...    4.1 and up\n",
              "10807                                          My FR App  ...  2.3.3 and up\n",
              "10808                                 lesparticuliers.fr  ...    2.3 and up\n",
              "10811                                        FR Plus 1.6  ...   4.4W and up\n",
              "10813                                     DICT.fr Mobile  ...    4.1 and up\n",
              "10816                                 FieldBi FR Offline  ...    4.1 and up\n",
              "10818                               Gold Quote - Gold.fr  ...    2.2 and up\n",
              "10821                                            Poop FR  ...  4.0.3 and up\n",
              "10822                                          PLMGSS FR  ...    4.4 and up\n",
              "10823                                       List iptv FR  ...  4.0.3 and up\n",
              "10824                                          Cardio-FR  ...    4.4 and up\n",
              "10825                                 Naruto & Boruto FR  ...    4.0 and up\n",
              "10831                           payermonstationnement.fr  ...    4.0 and up\n",
              "10835                                           FR Forms  ...    4.0 and up\n",
              "10838                             Parkinson Exercices FR  ...    2.2 and up\n",
              "\n",
              "[1474 rows x 13 columns]"
            ]
          },
          "metadata": {
            "tags": []
          },
          "execution_count": 3
        }
      ]
    },
    {
      "cell_type": "markdown",
      "metadata": {
        "id": "Knp5Upk4wSvB",
        "colab_type": "text"
      },
      "source": [
        "Primeiramente, deve-se remover os dados faltantes e dados duplicados (comparando pelo nome)"
      ]
    },
    {
      "cell_type": "code",
      "metadata": {
        "id": "SpZ2UcvZwCtu",
        "colab_type": "code",
        "outputId": "0e6b189d-fdb0-426f-f19e-ce1dd26e7524",
        "colab": {
          "base_uri": "https://localhost:8080/",
          "height": 34
        }
      },
      "source": [
        "dataset = dataset.dropna(subset=['Rating'])\n",
        "dataset.drop_duplicates(subset=['App'],keep='last', inplace=True)\n",
        "print(len(dataset))"
      ],
      "execution_count": 4,
      "outputs": [
        {
          "output_type": "stream",
          "text": [
            "8197\n"
          ],
          "name": "stdout"
        }
      ]
    },
    {
      "cell_type": "markdown",
      "metadata": {
        "id": "P3bH6_gAeZ4w",
        "colab_type": "text"
      },
      "source": [
        "Transformação de colunas categóricas (definidas no Projeto 1), e remoção do símbolo $ da coluna Price para transformar em tipo numérico. Adicionalmente, é removida a linha (conforme foi também visto no Projeto 1) que possui os valores nas colunas incorretas, para transformar a coluna Reviews em tipo numérico."
      ]
    },
    {
      "cell_type": "code",
      "metadata": {
        "id": "wc5-kGYMETic",
        "colab_type": "code",
        "colab": {}
      },
      "source": [
        "dataset = dataset.drop(dataset[dataset['Price']=='Everyone'].index, axis = 0)\n",
        "dataset['Reviews'] = pd.to_numeric(dataset['Reviews'])"
      ],
      "execution_count": 0,
      "outputs": []
    },
    {
      "cell_type": "code",
      "metadata": {
        "id": "oX7vltRfxJlo",
        "colab_type": "code",
        "colab": {}
      },
      "source": [
        "dataset['Price'] = dataset['Price'].apply(lambda x: x[x.find('$')+1:] if x.find('$')>-1 else x)\n",
        "dataset['Price'] = pd.to_numeric(dataset['Price'])"
      ],
      "execution_count": 0,
      "outputs": []
    },
    {
      "cell_type": "code",
      "metadata": {
        "id": "SwgJMuTqUvol",
        "colab_type": "code",
        "colab": {}
      },
      "source": [
        "dataset['Last Updated'] = pd.to_datetime(dataset['Last Updated'])\n",
        "dataset['Last Updated'] = dataset['Last Updated'].apply(lambda date: date.timestamp())#colocando em timestamp (milissegundos) para que fique como valor numérico e possa ser passado no conjunto de variáveis X adiante "
      ],
      "execution_count": 0,
      "outputs": []
    },
    {
      "cell_type": "code",
      "metadata": {
        "id": "91Cz_dsPDjdM",
        "colab_type": "code",
        "colab": {}
      },
      "source": [
        "dataset['Type'] = dataset['Type'].astype(\"category\")\n",
        "dataset['Content Rating'] = dataset['Content Rating'].astype(\"category\") \n",
        "dataset['Category'] = dataset['Category'].astype(\"category\") \n",
        "dataset['Installs'] = dataset['Installs'].astype(\"category\")\n",
        "dataset['Android Ver'] = dataset['Android Ver'].astype(\"category\")\n",
        "dataset['Current Ver'] = dataset['Current Ver'].astype(\"category\")\n",
        "dataset['Size'] = dataset['Size'].astype(\"category\")\n",
        "\n",
        "dataset['Type'] = dataset['Type'].cat.codes\n",
        "dataset['Content Rating'] = dataset['Content Rating'].cat.codes\n",
        "dataset['Category'] = dataset['Category'].cat.codes\n",
        "dataset['Installs'] = dataset['Installs'].cat.codes\n",
        "dataset['Android Ver'] = dataset['Android Ver'].cat.codes\n",
        "dataset['Current Ver'] = dataset['Current Ver'].cat.codes\n",
        "dataset['Size'] = dataset['Size'].cat.codes"
      ],
      "execution_count": 0,
      "outputs": []
    },
    {
      "cell_type": "code",
      "metadata": {
        "id": "y4xmNRHDTUw0",
        "colab_type": "code",
        "outputId": "10268d66-3e94-4cb0-a878-655e1e9abbbc",
        "colab": {
          "base_uri": "https://localhost:8080/",
          "height": 390
        }
      },
      "source": [
        "dataset.corr(method='spearman')"
      ],
      "execution_count": 9,
      "outputs": [
        {
          "output_type": "execute_result",
          "data": {
            "text/html": [
              "<div>\n",
              "<style scoped>\n",
              "    .dataframe tbody tr th:only-of-type {\n",
              "        vertical-align: middle;\n",
              "    }\n",
              "\n",
              "    .dataframe tbody tr th {\n",
              "        vertical-align: top;\n",
              "    }\n",
              "\n",
              "    .dataframe thead th {\n",
              "        text-align: right;\n",
              "    }\n",
              "</style>\n",
              "<table border=\"1\" class=\"dataframe\">\n",
              "  <thead>\n",
              "    <tr style=\"text-align: right;\">\n",
              "      <th></th>\n",
              "      <th>Category</th>\n",
              "      <th>Rating</th>\n",
              "      <th>Reviews</th>\n",
              "      <th>Size</th>\n",
              "      <th>Installs</th>\n",
              "      <th>Type</th>\n",
              "      <th>Price</th>\n",
              "      <th>Content Rating</th>\n",
              "      <th>Last Updated</th>\n",
              "      <th>Current Ver</th>\n",
              "      <th>Android Ver</th>\n",
              "    </tr>\n",
              "  </thead>\n",
              "  <tbody>\n",
              "    <tr>\n",
              "      <th>Category</th>\n",
              "      <td>1.000000</td>\n",
              "      <td>-0.034912</td>\n",
              "      <td>0.054965</td>\n",
              "      <td>-0.013080</td>\n",
              "      <td>0.004125</td>\n",
              "      <td>0.020257</td>\n",
              "      <td>0.019350</td>\n",
              "      <td>-0.122684</td>\n",
              "      <td>0.023375</td>\n",
              "      <td>0.112800</td>\n",
              "      <td>0.092330</td>\n",
              "    </tr>\n",
              "    <tr>\n",
              "      <th>Rating</th>\n",
              "      <td>-0.034912</td>\n",
              "      <td>1.000000</td>\n",
              "      <td>0.119318</td>\n",
              "      <td>0.041672</td>\n",
              "      <td>0.000542</td>\n",
              "      <td>0.071833</td>\n",
              "      <td>0.070594</td>\n",
              "      <td>-0.005499</td>\n",
              "      <td>0.181590</td>\n",
              "      <td>0.005516</td>\n",
              "      <td>0.070131</td>\n",
              "    </tr>\n",
              "    <tr>\n",
              "      <th>Reviews</th>\n",
              "      <td>0.054965</td>\n",
              "      <td>0.119318</td>\n",
              "      <td>1.000000</td>\n",
              "      <td>0.290101</td>\n",
              "      <td>0.116169</td>\n",
              "      <td>-0.171393</td>\n",
              "      <td>-0.170257</td>\n",
              "      <td>0.172131</td>\n",
              "      <td>0.373522</td>\n",
              "      <td>0.393281</td>\n",
              "      <td>0.218088</td>\n",
              "    </tr>\n",
              "    <tr>\n",
              "      <th>Size</th>\n",
              "      <td>-0.013080</td>\n",
              "      <td>0.041672</td>\n",
              "      <td>0.290101</td>\n",
              "      <td>1.000000</td>\n",
              "      <td>0.044403</td>\n",
              "      <td>-0.029253</td>\n",
              "      <td>-0.029454</td>\n",
              "      <td>0.068271</td>\n",
              "      <td>0.187546</td>\n",
              "      <td>0.317859</td>\n",
              "      <td>0.322931</td>\n",
              "    </tr>\n",
              "    <tr>\n",
              "      <th>Installs</th>\n",
              "      <td>0.004125</td>\n",
              "      <td>0.000542</td>\n",
              "      <td>0.116169</td>\n",
              "      <td>0.044403</td>\n",
              "      <td>1.000000</td>\n",
              "      <td>-0.044453</td>\n",
              "      <td>-0.044741</td>\n",
              "      <td>0.031409</td>\n",
              "      <td>0.039878</td>\n",
              "      <td>0.037882</td>\n",
              "      <td>0.025105</td>\n",
              "    </tr>\n",
              "    <tr>\n",
              "      <th>Type</th>\n",
              "      <td>0.020257</td>\n",
              "      <td>0.071833</td>\n",
              "      <td>-0.171393</td>\n",
              "      <td>-0.029253</td>\n",
              "      <td>-0.044453</td>\n",
              "      <td>1.000000</td>\n",
              "      <td>0.999045</td>\n",
              "      <td>-0.031581</td>\n",
              "      <td>-0.148605</td>\n",
              "      <td>-0.065439</td>\n",
              "      <td>-0.089315</td>\n",
              "    </tr>\n",
              "    <tr>\n",
              "      <th>Price</th>\n",
              "      <td>0.019350</td>\n",
              "      <td>0.070594</td>\n",
              "      <td>-0.170257</td>\n",
              "      <td>-0.029454</td>\n",
              "      <td>-0.044741</td>\n",
              "      <td>0.999045</td>\n",
              "      <td>1.000000</td>\n",
              "      <td>-0.030736</td>\n",
              "      <td>-0.148130</td>\n",
              "      <td>-0.064642</td>\n",
              "      <td>-0.088425</td>\n",
              "    </tr>\n",
              "    <tr>\n",
              "      <th>Content Rating</th>\n",
              "      <td>-0.122684</td>\n",
              "      <td>-0.005499</td>\n",
              "      <td>0.172131</td>\n",
              "      <td>0.068271</td>\n",
              "      <td>0.031409</td>\n",
              "      <td>-0.031581</td>\n",
              "      <td>-0.030736</td>\n",
              "      <td>1.000000</td>\n",
              "      <td>0.085278</td>\n",
              "      <td>-0.008345</td>\n",
              "      <td>-0.005885</td>\n",
              "    </tr>\n",
              "    <tr>\n",
              "      <th>Last Updated</th>\n",
              "      <td>0.023375</td>\n",
              "      <td>0.181590</td>\n",
              "      <td>0.373522</td>\n",
              "      <td>0.187546</td>\n",
              "      <td>0.039878</td>\n",
              "      <td>-0.148605</td>\n",
              "      <td>-0.148130</td>\n",
              "      <td>0.085278</td>\n",
              "      <td>1.000000</td>\n",
              "      <td>0.347126</td>\n",
              "      <td>0.477804</td>\n",
              "    </tr>\n",
              "    <tr>\n",
              "      <th>Current Ver</th>\n",
              "      <td>0.112800</td>\n",
              "      <td>0.005516</td>\n",
              "      <td>0.393281</td>\n",
              "      <td>0.317859</td>\n",
              "      <td>0.037882</td>\n",
              "      <td>-0.065439</td>\n",
              "      <td>-0.064642</td>\n",
              "      <td>-0.008345</td>\n",
              "      <td>0.347126</td>\n",
              "      <td>1.000000</td>\n",
              "      <td>0.408912</td>\n",
              "    </tr>\n",
              "    <tr>\n",
              "      <th>Android Ver</th>\n",
              "      <td>0.092330</td>\n",
              "      <td>0.070131</td>\n",
              "      <td>0.218088</td>\n",
              "      <td>0.322931</td>\n",
              "      <td>0.025105</td>\n",
              "      <td>-0.089315</td>\n",
              "      <td>-0.088425</td>\n",
              "      <td>-0.005885</td>\n",
              "      <td>0.477804</td>\n",
              "      <td>0.408912</td>\n",
              "      <td>1.000000</td>\n",
              "    </tr>\n",
              "  </tbody>\n",
              "</table>\n",
              "</div>"
            ],
            "text/plain": [
              "                Category    Rating  ...  Current Ver  Android Ver\n",
              "Category        1.000000 -0.034912  ...     0.112800     0.092330\n",
              "Rating         -0.034912  1.000000  ...     0.005516     0.070131\n",
              "Reviews         0.054965  0.119318  ...     0.393281     0.218088\n",
              "Size           -0.013080  0.041672  ...     0.317859     0.322931\n",
              "Installs        0.004125  0.000542  ...     0.037882     0.025105\n",
              "Type            0.020257  0.071833  ...    -0.065439    -0.089315\n",
              "Price           0.019350  0.070594  ...    -0.064642    -0.088425\n",
              "Content Rating -0.122684 -0.005499  ...    -0.008345    -0.005885\n",
              "Last Updated    0.023375  0.181590  ...     0.347126     0.477804\n",
              "Current Ver     0.112800  0.005516  ...     1.000000     0.408912\n",
              "Android Ver     0.092330  0.070131  ...     0.408912     1.000000\n",
              "\n",
              "[11 rows x 11 columns]"
            ]
          },
          "metadata": {
            "tags": []
          },
          "execution_count": 9
        }
      ]
    },
    {
      "cell_type": "markdown",
      "metadata": {
        "id": "qTiUk4OUisE7",
        "colab_type": "text"
      },
      "source": [
        "Remoção de outliers com DBSCAN"
      ]
    },
    {
      "cell_type": "code",
      "metadata": {
        "id": "gPE8gbmliuqY",
        "colab_type": "code",
        "outputId": "820c42f5-0346-47a4-d01b-f346c6a5ad5b",
        "colab": {
          "base_uri": "https://localhost:8080/",
          "height": 204
        }
      },
      "source": [
        "from sklearn.preprocessing import MinMaxScaler\n",
        "\n",
        "scaler = MinMaxScaler()\n",
        "\n",
        "#Normalizando dataset para que o DBSCAN funcione corretamente para calcular as distâncias e clusterizar os dados\n",
        "#removendo colunas inutilizadas \n",
        "dataset = dataset.drop('Genres', axis = 1)\n",
        "dataset = dataset.drop('App', axis = 1)\n",
        "\n",
        "normalized_ds = copy.deepcopy(dataset)\n",
        "normalized_ds = scaler.fit_transform(normalized_ds)\n",
        "normalized_ds = pd.DataFrame(normalized_ds,columns=[\"Category\",\"Rating\",\"Reviews\",\"Size\",\"Installs\",\"Type\",\"Price\",\"Content Rating\",\"Last Updated\",\"Current Ver\",\"Android Ver\"])\n",
        "normalized_ds.head()"
      ],
      "execution_count": 11,
      "outputs": [
        {
          "output_type": "execute_result",
          "data": {
            "text/html": [
              "<div>\n",
              "<style scoped>\n",
              "    .dataframe tbody tr th:only-of-type {\n",
              "        vertical-align: middle;\n",
              "    }\n",
              "\n",
              "    .dataframe tbody tr th {\n",
              "        vertical-align: top;\n",
              "    }\n",
              "\n",
              "    .dataframe thead th {\n",
              "        text-align: right;\n",
              "    }\n",
              "</style>\n",
              "<table border=\"1\" class=\"dataframe\">\n",
              "  <thead>\n",
              "    <tr style=\"text-align: right;\">\n",
              "      <th></th>\n",
              "      <th>Category</th>\n",
              "      <th>Rating</th>\n",
              "      <th>Reviews</th>\n",
              "      <th>Size</th>\n",
              "      <th>Installs</th>\n",
              "      <th>Type</th>\n",
              "      <th>Price</th>\n",
              "      <th>Content Rating</th>\n",
              "      <th>Last Updated</th>\n",
              "      <th>Current Ver</th>\n",
              "      <th>Android Ver</th>\n",
              "    </tr>\n",
              "  </thead>\n",
              "  <tbody>\n",
              "    <tr>\n",
              "      <th>0</th>\n",
              "      <td>0.0</td>\n",
              "      <td>0.775</td>\n",
              "      <td>0.000002</td>\n",
              "      <td>0.116223</td>\n",
              "      <td>0.277778</td>\n",
              "      <td>0.0</td>\n",
              "      <td>0.0</td>\n",
              "      <td>0.2</td>\n",
              "      <td>0.929024</td>\n",
              "      <td>0.041143</td>\n",
              "      <td>0.483871</td>\n",
              "    </tr>\n",
              "    <tr>\n",
              "      <th>1</th>\n",
              "      <td>0.0</td>\n",
              "      <td>0.925</td>\n",
              "      <td>0.001120</td>\n",
              "      <td>0.808717</td>\n",
              "      <td>0.666667</td>\n",
              "      <td>0.0</td>\n",
              "      <td>0.0</td>\n",
              "      <td>0.2</td>\n",
              "      <td>0.997667</td>\n",
              "      <td>0.161143</td>\n",
              "      <td>0.483871</td>\n",
              "    </tr>\n",
              "    <tr>\n",
              "      <th>2</th>\n",
              "      <td>0.0</td>\n",
              "      <td>0.875</td>\n",
              "      <td>0.002760</td>\n",
              "      <td>0.213075</td>\n",
              "      <td>0.833333</td>\n",
              "      <td>0.0</td>\n",
              "      <td>0.0</td>\n",
              "      <td>0.8</td>\n",
              "      <td>0.979673</td>\n",
              "      <td>0.979048</td>\n",
              "      <td>0.580645</td>\n",
              "    </tr>\n",
              "    <tr>\n",
              "      <th>3</th>\n",
              "      <td>0.0</td>\n",
              "      <td>0.825</td>\n",
              "      <td>0.000012</td>\n",
              "      <td>0.138015</td>\n",
              "      <td>0.444444</td>\n",
              "      <td>0.0</td>\n",
              "      <td>0.0</td>\n",
              "      <td>0.2</td>\n",
              "      <td>0.983672</td>\n",
              "      <td>0.095619</td>\n",
              "      <td>0.645161</td>\n",
              "    </tr>\n",
              "    <tr>\n",
              "      <th>4</th>\n",
              "      <td>0.0</td>\n",
              "      <td>0.850</td>\n",
              "      <td>0.000002</td>\n",
              "      <td>0.489104</td>\n",
              "      <td>0.777778</td>\n",
              "      <td>0.0</td>\n",
              "      <td>0.0</td>\n",
              "      <td>0.2</td>\n",
              "      <td>0.833389</td>\n",
              "      <td>0.039619</td>\n",
              "      <td>0.258065</td>\n",
              "    </tr>\n",
              "  </tbody>\n",
              "</table>\n",
              "</div>"
            ],
            "text/plain": [
              "   Category  Rating   Reviews  ...  Last Updated  Current Ver  Android Ver\n",
              "0       0.0   0.775  0.000002  ...      0.929024     0.041143     0.483871\n",
              "1       0.0   0.925  0.001120  ...      0.997667     0.161143     0.483871\n",
              "2       0.0   0.875  0.002760  ...      0.979673     0.979048     0.580645\n",
              "3       0.0   0.825  0.000012  ...      0.983672     0.095619     0.645161\n",
              "4       0.0   0.850  0.000002  ...      0.833389     0.039619     0.258065\n",
              "\n",
              "[5 rows x 11 columns]"
            ]
          },
          "metadata": {
            "tags": []
          },
          "execution_count": 11
        }
      ]
    },
    {
      "cell_type": "code",
      "metadata": {
        "id": "PIPOh0vLmhCR",
        "colab_type": "code",
        "colab": {}
      },
      "source": [
        "from sklearn.cluster import DBSCAN\n",
        "outlier_detection = DBSCAN(\n",
        "  eps = 0.3,\n",
        "  metric=\"euclidean\",\n",
        "  min_samples = 10)\n",
        "clusters = outlier_detection.fit_predict(normalized_ds)\n",
        "\n",
        "dataset_without_outliers = copy.deepcopy(dataset) #criando cópia para comparar resultado dos modelos com e sem os outliers "
      ],
      "execution_count": 0,
      "outputs": []
    },
    {
      "cell_type": "code",
      "metadata": {
        "id": "_n6EkzNwm2kW",
        "colab_type": "code",
        "outputId": "82717102-9f60-4d2f-a5ca-6e291f7a85ab",
        "colab": {
          "base_uri": "https://localhost:8080/",
          "height": 51
        }
      },
      "source": [
        "#labels guardam os valores que identificam se determinado item do dataset é ou não um outlier.\n",
        "labels = outlier_detection.labels_\n",
        "\n",
        "#verificação do número de grupos (clusters) identificados pelo DBSCAN \n",
        "n_clusters_ = len(set(labels)) - (1 if -1 in labels else 0)\n",
        "print(\"Total clusters: \"+str(n_clusters_))\n",
        "n_noise_ = list(labels).count(-1)#outliers \n",
        "print(\"Total outliers: \"+str(n_noise_))"
      ],
      "execution_count": 13,
      "outputs": [
        {
          "output_type": "stream",
          "text": [
            "Total clusters: 5\n",
            "Total outliers: 902\n"
          ],
          "name": "stdout"
        }
      ]
    },
    {
      "cell_type": "code",
      "metadata": {
        "id": "LFJTa8vhsbWA",
        "colab_type": "code",
        "outputId": "2c5beb28-f83b-41fa-bd86-5fe7da2ef38f",
        "colab": {
          "base_uri": "https://localhost:8080/",
          "height": 34
        }
      },
      "source": [
        "#identificando os índices dos itens que são outliers para removê-los do conjunto de dados\n",
        "index_outlier = np.where(labels == -1)\n",
        "result = index_outlier[0]\n",
        "print(result.shape)"
      ],
      "execution_count": 14,
      "outputs": [
        {
          "output_type": "stream",
          "text": [
            "(902,)\n"
          ],
          "name": "stdout"
        }
      ]
    },
    {
      "cell_type": "code",
      "metadata": {
        "id": "gsELJT9n8Zdm",
        "colab_type": "code",
        "outputId": "a490462a-400d-4264-dc75-231ae5995f7a",
        "colab": {
          "base_uri": "https://localhost:8080/",
          "height": 51
        }
      },
      "source": [
        "dataset_without_outliers.drop(dataset_without_outliers.index[result], inplace = True)\n",
        "print(len(dataset))\n",
        "print(len(dataset_without_outliers))"
      ],
      "execution_count": 15,
      "outputs": [
        {
          "output_type": "stream",
          "text": [
            "8196\n",
            "7294\n"
          ],
          "name": "stdout"
        }
      ]
    },
    {
      "cell_type": "markdown",
      "metadata": {
        "id": "mWvYpRDJivmv",
        "colab_type": "text"
      },
      "source": [
        "\n",
        "Modelo de predição Linear Regression (sem remover outliers)"
      ]
    },
    {
      "cell_type": "code",
      "metadata": {
        "id": "LL_uWY-SC2Il",
        "colab_type": "code",
        "colab": {}
      },
      "source": [
        "from sklearn.linear_model import LinearRegression\n",
        "from sklearn.model_selection import train_test_split\n",
        "from sklearn.metrics import accuracy_score,recall_score,precision_score,f1_score\n",
        "\n",
        "model = LinearRegression()\n",
        "\n",
        "dataset_without_rating = copy.deepcopy(dataset)\n",
        "dataset_without_rating = dataset_without_rating.drop('Rating',axis=1)\n",
        "X = np.array(dataset_without_rating)\n",
        "y = np.array(dataset['Rating'])\n",
        "Xtrain, Xtest, ytrain, ytest = train_test_split(X, y, test_size=0.33,\n",
        "                                                random_state=42)"
      ],
      "execution_count": 0,
      "outputs": []
    },
    {
      "cell_type": "code",
      "metadata": {
        "id": "1ej7pATbDWi1",
        "colab_type": "code",
        "outputId": "dd54f3c7-dd1b-4714-8f84-576fe70cf961",
        "colab": {
          "base_uri": "https://localhost:8080/",
          "height": 51
        }
      },
      "source": [
        "model.fit(Xtrain,ytrain)\n",
        "y_model = model.predict(Xtest)\n",
        "y_pred_train = model.predict(Xtrain)\n",
        "print(model.score(Xtest,ytest))\n",
        "print('MAPE: '+str(np.mean(np.abs((ytest-y_model)/ytest))*100))"
      ],
      "execution_count": 17,
      "outputs": [
        {
          "output_type": "stream",
          "text": [
            "0.022322088429774792\n",
            "MAPE: 10.249329143592947\n"
          ],
          "name": "stdout"
        }
      ]
    },
    {
      "cell_type": "code",
      "metadata": {
        "id": "tkw4YMsBjNe4",
        "colab_type": "code",
        "outputId": "5e52908b-b34d-4a7e-d5f3-cdac11ca97da",
        "colab": {
          "base_uri": "https://localhost:8080/",
          "height": 85
        }
      },
      "source": [
        "from sklearn.metrics import explained_variance_score, max_error, mean_absolute_error, mean_squared_log_error,make_scorer\n",
        "\n",
        "print('Explained variance score: '+ str(explained_variance_score(ytest,y_model)))\n",
        "print('Max error: '+ str(max_error(ytest,y_model)))\n",
        "print('Mean absolute error: '+str(mean_absolute_error(ytest,y_model)))\n",
        "print('Mean squared log error: '+str(mean_squared_log_error(ytest,y_model)))"
      ],
      "execution_count": 18,
      "outputs": [
        {
          "output_type": "stream",
          "text": [
            "Explained variance score: 0.022753992329419437\n",
            "Max error: 3.2644439385063233\n",
            "Mean absolute error: 0.36809210530415876\n",
            "Mean squared log error: 0.01282204559081877\n"
          ],
          "name": "stdout"
        }
      ]
    },
    {
      "cell_type": "markdown",
      "metadata": {
        "id": "AksC7a-EpaRp",
        "colab_type": "text"
      },
      "source": [
        "Linear Regression (com remoção de outliers)"
      ]
    },
    {
      "cell_type": "code",
      "metadata": {
        "id": "ZIJzwm_yFGgz",
        "colab_type": "code",
        "outputId": "206dba91-0d1b-41d6-aa10-d2c246318276",
        "colab": {
          "base_uri": "https://localhost:8080/",
          "height": 34
        }
      },
      "source": [
        "without_outliers_copy = copy.deepcopy(dataset_without_outliers)\n",
        "X_without_outliers = np.array(without_outliers_copy.drop('Rating',axis=1))\n",
        "y_without_outliers = np.array(without_outliers_copy['Rating'])\n",
        "X_without_out_train, X_without_out_test, y_without_out_train, y_without_out_test = train_test_split(X, y, test_size=0.33,\n",
        "                                                random_state=42)\n",
        "\n",
        "model_without_outliers = LinearRegression()\n",
        "model_without_outliers.fit(X_without_out_train,y_without_out_train)\n",
        "y_model_without_outliers = model_without_outliers.predict(X_without_out_test)\n",
        "print(model_without_outliers.score(X_without_out_test,y_without_out_test))"
      ],
      "execution_count": 19,
      "outputs": [
        {
          "output_type": "stream",
          "text": [
            "0.022322088429774792\n"
          ],
          "name": "stdout"
        }
      ]
    },
    {
      "cell_type": "code",
      "metadata": {
        "id": "ToBL41qMiQrc",
        "colab_type": "code",
        "outputId": "416e6304-f967-4987-d929-f9f829787e5d",
        "colab": {
          "base_uri": "https://localhost:8080/",
          "height": 102
        }
      },
      "source": [
        "print('Explained variance score: '+ str(explained_variance_score(y_without_out_test,y_model_without_outliers)))\n",
        "print('Max error: '+ str(max_error(y_without_out_test,y_model_without_outliers)))\n",
        "print('Mean absolute error: '+str(mean_absolute_error(y_without_out_test,y_model_without_outliers)))\n",
        "print('Mean squared log error: '+str(mean_squared_log_error(y_without_out_test,y_model_without_outliers)))\n",
        "print('MAPE: '+str(np.mean(np.abs((y_without_out_test-y_model_without_outliers)/y_without_out_test))*100))"
      ],
      "execution_count": 20,
      "outputs": [
        {
          "output_type": "stream",
          "text": [
            "Explained variance score: 0.022753992329419437\n",
            "Max error: 3.2644439385063233\n",
            "Mean absolute error: 0.36809210530415876\n",
            "Mean squared log error: 0.01282204559081877\n",
            "MAPE: 10.249329143592947\n"
          ],
          "name": "stdout"
        }
      ]
    },
    {
      "cell_type": "markdown",
      "metadata": {
        "id": "71isrwn-hEOQ",
        "colab_type": "text"
      },
      "source": [
        "Usando SelectFromModel, que dado o estimador e as variáveis X e y, ele retorna um array contendo toda a base mas selecionando as variáveis independentes mais adequadas para fazer a predição. Método de redução de dimensionalidade"
      ]
    },
    {
      "cell_type": "code",
      "metadata": {
        "id": "MFeNgBvvezMr",
        "colab_type": "code",
        "colab": {}
      },
      "source": [
        "from sklearn.feature_selection import SelectFromModel\n",
        "feature = SelectFromModel(model)#sem remover outliers\n",
        "Fit = feature.fit_transform(X, y)"
      ],
      "execution_count": 0,
      "outputs": []
    },
    {
      "cell_type": "code",
      "metadata": {
        "id": "yhX78AuRDzk4",
        "colab_type": "code",
        "outputId": "0ebad792-e60b-4681-ca7b-8c6951da4f0e",
        "colab": {
          "base_uri": "https://localhost:8080/",
          "height": 34
        }
      },
      "source": [
        "print(Fit.shape)"
      ],
      "execution_count": 22,
      "outputs": [
        {
          "output_type": "stream",
          "text": [
            "(8196, 1)\n"
          ],
          "name": "stdout"
        }
      ]
    },
    {
      "cell_type": "markdown",
      "metadata": {
        "id": "xTt0uClMValx",
        "colab_type": "text"
      },
      "source": [
        "SelectFromModel sem remoção de outliers"
      ]
    },
    {
      "cell_type": "code",
      "metadata": {
        "id": "acXat7r1hpju",
        "colab_type": "code",
        "outputId": "4983992c-dbd3-4db5-bc77-c1ae4e124fb1",
        "colab": {
          "base_uri": "https://localhost:8080/",
          "height": 34
        }
      },
      "source": [
        "Fittrain, Fittest, yfittrain, yfittest = train_test_split(Fit, y, test_size=0.33,\n",
        "                                                random_state=42)\n",
        "model.fit(Fittrain,yfittrain)\n",
        "y_model_fit = model.predict(Fittest)\n",
        "print(model.score(Fittest,yfittest))"
      ],
      "execution_count": 23,
      "outputs": [
        {
          "output_type": "stream",
          "text": [
            "0.002142380562441204\n"
          ],
          "name": "stdout"
        }
      ]
    },
    {
      "cell_type": "code",
      "metadata": {
        "id": "r4pTxpL2jrNR",
        "colab_type": "code",
        "outputId": "f24e337b-bacb-4385-badc-e2e460c9a876",
        "colab": {
          "base_uri": "https://localhost:8080/",
          "height": 102
        }
      },
      "source": [
        "print('MAPE: '+str(np.mean(np.abs((yfittest-y_model_fit)/yfittest))*100))\n",
        "print('Explained variance score: '+ str(explained_variance_score(yfittest,y_model_fit)))\n",
        "print('Max error: '+ str(max_error(yfittest,y_model_fit)))\n",
        "print('Mean absolute error: '+str(mean_absolute_error(yfittest,y_model_fit)))\n",
        "print('Mean squared log error: '+str(mean_squared_log_error(yfittest,y_model_fit)))"
      ],
      "execution_count": 24,
      "outputs": [
        {
          "output_type": "stream",
          "text": [
            "MAPE: 10.447092863344764\n",
            "Explained variance score: 0.0027433949763074894\n",
            "Max error: 3.1623034591194967\n",
            "Mean absolute error: 0.37618109848603193\n",
            "Mean squared log error: 0.013036935206045213\n"
          ],
          "name": "stdout"
        }
      ]
    },
    {
      "cell_type": "markdown",
      "metadata": {
        "id": "tevT65pIFRqc",
        "colab_type": "text"
      },
      "source": [
        "RandomForest"
      ]
    },
    {
      "cell_type": "code",
      "metadata": {
        "id": "ZB2HG-4fFSxv",
        "colab_type": "code",
        "colab": {}
      },
      "source": [
        "from sklearn.ensemble import RandomForestRegressor\n",
        "\n",
        "rf = RandomForestRegressor(n_estimators = 100, random_state = 42)"
      ],
      "execution_count": 0,
      "outputs": []
    },
    {
      "cell_type": "markdown",
      "metadata": {
        "id": "pgMijsSpBxze",
        "colab_type": "text"
      },
      "source": [
        "Random Forest sem remoção de outliers"
      ]
    },
    {
      "cell_type": "code",
      "metadata": {
        "id": "Cq8I1CYAFrsQ",
        "colab_type": "code",
        "outputId": "0c632978-e959-4bf2-cff5-f792a5ed428a",
        "colab": {
          "base_uri": "https://localhost:8080/",
          "height": 119
        }
      },
      "source": [
        "rf.fit(Xtrain,ytrain)\n",
        "\n",
        "y_rf_model = rf.predict(Xtest)\n",
        "\n",
        "print('R² score: '+ str(rf.score(Xtest,ytest)))\n",
        "print('MAPE: '+str(np.mean(np.abs((ytest-y_rf_model)/ytest))*100))\n",
        "print('Explained variance score: '+ str(explained_variance_score(ytest,y_rf_model)))\n",
        "print('Max error: '+ str(max_error(ytest,y_rf_model)))\n",
        "print('Mean absolute error: '+str(mean_absolute_error(ytest,y_rf_model)))\n",
        "print('Mean squared log error: '+str(mean_squared_log_error(ytest,y_rf_model)))"
      ],
      "execution_count": 26,
      "outputs": [
        {
          "output_type": "stream",
          "text": [
            "R² score: 0.09324801914095426\n",
            "MAPE: 9.71207803411096\n",
            "Explained variance score: 0.09815102978401025\n",
            "Max error: 3.139999999999999\n",
            "Mean absolute error: 0.35344325323475045\n",
            "Mean squared log error: 0.011871899692637326\n"
          ],
          "name": "stdout"
        }
      ]
    },
    {
      "cell_type": "markdown",
      "metadata": {
        "id": "NcGpH5t-B1Zh",
        "colab_type": "text"
      },
      "source": [
        "Random Forest com remoção de outliers"
      ]
    },
    {
      "cell_type": "code",
      "metadata": {
        "id": "O4a8DKiYGhgz",
        "colab_type": "code",
        "outputId": "718d3d85-b2a7-4937-9d0e-a3c723c88487",
        "colab": {
          "base_uri": "https://localhost:8080/",
          "height": 119
        }
      },
      "source": [
        "rf = RandomForestRegressor(n_estimators = 100, random_state = 42)\n",
        "\n",
        "rf.fit(X_without_out_train,y_without_out_train)\n",
        "result_rf_without_outliers = rf.predict(X_without_out_test)\n",
        "print('R² score: '+str(rf.score(X_without_out_test,y_without_out_test)))\n",
        "print('MAPE: '+str(np.mean(np.abs((y_without_out_test-result_rf_without_outliers)/y_without_out_test))*100))\n",
        "print('Explained variance score: '+ str(explained_variance_score(y_without_out_test,result_rf_without_outliers)))\n",
        "print('Max error: '+ str(max_error(y_without_out_test,result_rf_without_outliers)))\n",
        "print('Mean absolute error: '+str(mean_absolute_error(y_without_out_test,result_rf_without_outliers)))\n",
        "print('Mean squared log error: '+str(mean_squared_log_error(y_without_out_test,result_rf_without_outliers)))"
      ],
      "execution_count": 68,
      "outputs": [
        {
          "output_type": "stream",
          "text": [
            "R² score: 0.09324801914095426\n",
            "MAPE: 9.71207803411096\n",
            "Explained variance score: 0.09815102978401025\n",
            "Max error: 3.139999999999999\n",
            "Mean absolute error: 0.35344325323475045\n",
            "Mean squared log error: 0.011871899692637326\n"
          ],
          "name": "stdout"
        }
      ]
    },
    {
      "cell_type": "markdown",
      "metadata": {
        "id": "rFFA4bRjsoPm",
        "colab_type": "text"
      },
      "source": [
        "Support Vector Regression - outro modelo de predição apenas para comparar desempenho e ver qual modelo de fato vale a pena tentar melhorar "
      ]
    },
    {
      "cell_type": "code",
      "metadata": {
        "id": "jaMIxyc3Iurh",
        "colab_type": "code",
        "outputId": "7f6e6a51-b71b-4447-a8d1-0ec39c67fd88",
        "colab": {
          "base_uri": "https://localhost:8080/",
          "height": 119
        }
      },
      "source": [
        "from sklearn.svm import SVR\n",
        "\n",
        "svr_rbf = SVR(kernel='rbf', gamma=0.1, epsilon=.1)\n",
        "\n",
        "svr_rbf.fit(Xtrain,ytrain)\n",
        "result_svr_rbf = svr_rbf.predict(Xtest)\n",
        "\n",
        "print('R² score: '+ str(svr_rbf.score(Xtest,ytest)))\n",
        "print('MAPE: '+str(np.mean(np.abs((ytest-result_svr_rbf)/ytest))*100))\n",
        "print('Explained variance score: '+ str(explained_variance_score(ytest,result_svr_rbf)))\n",
        "print('Max error: '+ str(max_error(ytest,result_svr_rbf)))\n",
        "print('Mean absolute error: '+str(mean_absolute_error(ytest,result_svr_rbf)))\n",
        "print('Mean squared log error: '+str(mean_squared_log_error(ytest,result_svr_rbf)))"
      ],
      "execution_count": 85,
      "outputs": [
        {
          "output_type": "stream",
          "text": [
            "R² score: -0.002261046000373357\n",
            "MAPE: 10.447759118627772\n",
            "Explained variance score: -0.0021005645805545203\n",
            "Max error: 3.1746894398570005\n",
            "Mean absolute error: 0.3756397111297119\n",
            "Mean squared log error: 0.013088781130181014\n"
          ],
          "name": "stdout"
        }
      ]
    },
    {
      "cell_type": "markdown",
      "metadata": {
        "id": "nl9J-ykFVmgg",
        "colab_type": "text"
      },
      "source": [
        "SVR no dataset sem outliers"
      ]
    },
    {
      "cell_type": "code",
      "metadata": {
        "id": "ql_0NF7LyNXo",
        "colab_type": "code",
        "outputId": "0a9f8e7a-9ad9-4961-8ebf-674672210dae",
        "colab": {
          "base_uri": "https://localhost:8080/",
          "height": 119
        }
      },
      "source": [
        "svr_rbf = SVR(kernel='rbf', gamma=0.1, epsilon=.1)\n",
        "\n",
        "svr_rbf.fit(X_without_out_train,y_without_out_train)\n",
        "result_svr_rbf = svr_rbf.predict(X_without_out_test)\n",
        "print('R² score: '+str(svr_rbf.score(X_without_out_test,y_without_out_test)))\n",
        "print('MAPE: '+str(np.mean(np.abs((y_without_out_test-result_svr_rbf)/y_without_out_test))*100))\n",
        "print('Explained variance score: '+ str(explained_variance_score(y_without_out_test,result_svr_rbf)))\n",
        "print('Max error: '+ str(max_error(y_without_out_test,result_svr_rbf)))\n",
        "print('Mean absolute error: '+str(mean_absolute_error(y_without_out_test,result_svr_rbf)))\n",
        "print('Mean squared log error: '+str(mean_squared_log_error(y_without_out_test,result_svr_rbf)))"
      ],
      "execution_count": 29,
      "outputs": [
        {
          "output_type": "stream",
          "text": [
            "R² score: -0.002261046000373357\n",
            "MAPE: 10.447759118627772\n",
            "Explained variance score: -0.0021005645805545203\n",
            "Max error: 3.1746894398570005\n",
            "Mean absolute error: 0.3756397111297119\n",
            "Mean squared log error: 0.013088781130181014\n"
          ],
          "name": "stdout"
        }
      ]
    },
    {
      "cell_type": "code",
      "metadata": {
        "id": "BmhltAyHOuFk",
        "colab_type": "code",
        "outputId": "38d5963b-b7f1-4d66-b5ad-b41c1cf80a0a",
        "colab": {
          "base_uri": "https://localhost:8080/",
          "height": 156
        }
      },
      "source": [
        "svr_sigmoid = SVR(kernel='sigmoid', epsilon=.33)\n",
        "\n",
        "svr_sigmoid.fit(Xtrain,ytrain)\n",
        "result_svr_sigmoid = svr_sigmoid.predict(Xtest)\n",
        "print('R² score: '+str(svr_sigmoid.score(Xtest,ytest)))\n",
        "print('MAPE: '+str(np.mean(np.abs((ytest-result_svr_sigmoid)/ytest))*100))\n",
        "print('Explained variance score: '+ str(explained_variance_score(ytest,result_svr_sigmoid)))\n",
        "print('Max error: '+ str(max_error(ytest,result_svr_sigmoid)))\n",
        "print('Mean absolute error: '+str(mean_absolute_error(ytest,result_svr_sigmoid)))\n",
        "#print('Mean squared log error: '+str(mean_squared_log_error(ytest,result_svr_sigmoid)))"
      ],
      "execution_count": 30,
      "outputs": [
        {
          "output_type": "stream",
          "text": [
            "/usr/local/lib/python3.6/dist-packages/sklearn/svm/base.py:193: FutureWarning: The default value of gamma will change from 'auto' to 'scale' in version 0.22 to account better for unscaled features. Set gamma explicitly to 'auto' or 'scale' to avoid this warning.\n",
            "  \"avoid this warning.\", FutureWarning)\n"
          ],
          "name": "stderr"
        },
        {
          "output_type": "stream",
          "text": [
            "R² score: -0.008505067534084088\n",
            "MAPE: 10.36309772411867\n",
            "Explained variance score: 0.0\n",
            "Max error: 3.2299999999999995\n",
            "Mean absolute error: 0.36632532347504626\n"
          ],
          "name": "stdout"
        }
      ]
    },
    {
      "cell_type": "markdown",
      "metadata": {
        "id": "0c34GtVEQ4Nk",
        "colab_type": "text"
      },
      "source": [
        "PassiveAggressiveRegressor - sem remoção de outliers"
      ]
    },
    {
      "cell_type": "code",
      "metadata": {
        "id": "2yvD9y0uQ7qO",
        "colab_type": "code",
        "outputId": "15cf9274-fee3-4c9a-defe-949b46ca1b7b",
        "colab": {
          "base_uri": "https://localhost:8080/",
          "height": 102
        }
      },
      "source": [
        "from sklearn.linear_model import PassiveAggressiveRegressor\n",
        "from sklearn import preprocessing\n",
        "from sklearn import utils\n",
        "from sklearn.preprocessing import StandardScaler\n",
        "\n",
        "model_pa = PassiveAggressiveRegressor(random_state=42)\n",
        "\n",
        "pa_X_train, pa_X_test, pa_y_train, pa_y_test = train_test_split(X, y, test_size=0.33, random_state=42)\n",
        "\n",
        "model_pa.fit(pa_X_train,pa_y_train)\n",
        "y_lr = model_lr.predict(standardized_X_test)\n",
        "print('R² score: '+str(model_pa.score(pa_X_test,pa_y_test)))\n",
        "print('MAPE: '+str(np.mean(np.abs((pa_y_test-y_lr)/pa_y_test))*100))\n",
        "print('Explained variance score: '+ str(explained_variance_score(pa_y_test,y_lr)))\n",
        "print('Max error: '+ str(max_error(pa_y_test,y_lr)))\n",
        "print('Mean absolute error: '+str(mean_absolute_error(pa_y_test,y_lr)))"
      ],
      "execution_count": 62,
      "outputs": [
        {
          "output_type": "stream",
          "text": [
            "R² score: -0.08528730970856802\n",
            "MAPE: 10.534096542343862\n",
            "Explained variance score: 0.003049480263088711\n",
            "Max error: 3.401197079000048\n",
            "Mean absolute error: 0.3628870309698339\n"
          ],
          "name": "stdout"
        }
      ]
    },
    {
      "cell_type": "markdown",
      "metadata": {
        "id": "M98ACRHeDxAN",
        "colab_type": "text"
      },
      "source": [
        "# Grid Search (com cross validation)"
      ]
    },
    {
      "cell_type": "markdown",
      "metadata": {
        "id": "sqsIa9YsPVKe",
        "colab_type": "text"
      },
      "source": [
        "\n",
        "\n",
        "1.   Random Forest Regressor\n",
        "\n"
      ]
    },
    {
      "cell_type": "code",
      "metadata": {
        "id": "O0Pf9vVCL2vI",
        "colab_type": "code",
        "colab": {
          "base_uri": "https://localhost:8080/",
          "height": 54
        },
        "outputId": "28f29981-d145-44d9-d29a-8c9bdd8ed333"
      },
      "source": [
        "from sklearn.model_selection import GridSearchCV\n",
        "\n",
        "metrics = ['explained_variance','neg_mean_absolute_error','neg_mean_squared_log_error','max_error','r2']\n",
        "rf.get_params().keys()"
      ],
      "execution_count": 67,
      "outputs": [
        {
          "output_type": "execute_result",
          "data": {
            "text/plain": [
              "dict_keys(['C', 'average', 'early_stopping', 'epsilon', 'fit_intercept', 'loss', 'max_iter', 'n_iter_no_change', 'random_state', 'shuffle', 'tol', 'validation_fraction', 'verbose', 'warm_start'])"
            ]
          },
          "metadata": {
            "tags": []
          },
          "execution_count": 67
        }
      ]
    },
    {
      "cell_type": "code",
      "metadata": {
        "id": "RE_wiP2ib-h6",
        "colab_type": "code",
        "outputId": "1b9f6988-019c-41a7-8595-3b3f909e53a6",
        "colab": {
          "base_uri": "https://localhost:8080/",
          "height": 887
        }
      },
      "source": [
        "dict_ = {'n_estimators': [100,80,50], 'random_state': [42]}\n",
        "dict_less_estimators = {'n_estimators': [80], 'random_state': [42]}\n",
        "\n",
        "rf = RandomForestRegressor()\n",
        "\n",
        "first_grid = GridSearchCV(rf, param_grid=dict_, scoring=make_scorer(mean_absolute_error), verbose=100, refit='neg_mean_absolute_error', return_train_score=False)\n",
        "\n",
        "first_grid.fit(Xtrain,ytrain)\n"
      ],
      "execution_count": 76,
      "outputs": [
        {
          "output_type": "stream",
          "text": [
            "/usr/local/lib/python3.6/dist-packages/sklearn/model_selection/_split.py:1978: FutureWarning: The default value of cv will change from 3 to 5 in version 0.22. Specify it explicitly to silence this warning.\n",
            "  warnings.warn(CV_WARNING, FutureWarning)\n"
          ],
          "name": "stderr"
        },
        {
          "output_type": "stream",
          "text": [
            "Fitting 3 folds for each of 3 candidates, totalling 9 fits\n",
            "[Parallel(n_jobs=1)]: Using backend SequentialBackend with 1 concurrent workers.\n",
            "[CV] n_estimators=100, random_state=42 ...............................\n",
            "[CV] ... n_estimators=100, random_state=42, score=0.358, total=   1.7s\n",
            "[Parallel(n_jobs=1)]: Done   1 out of   1 | elapsed:    1.7s remaining:    0.0s\n",
            "[CV] n_estimators=100, random_state=42 ...............................\n",
            "[CV] ... n_estimators=100, random_state=42, score=0.357, total=   1.6s\n",
            "[Parallel(n_jobs=1)]: Done   2 out of   2 | elapsed:    3.3s remaining:    0.0s\n",
            "[CV] n_estimators=100, random_state=42 ...............................\n",
            "[CV] ... n_estimators=100, random_state=42, score=0.361, total=   1.6s\n",
            "[Parallel(n_jobs=1)]: Done   3 out of   3 | elapsed:    5.0s remaining:    0.0s\n",
            "[CV] n_estimators=80, random_state=42 ................................\n",
            "[CV] .... n_estimators=80, random_state=42, score=0.357, total=   1.3s\n",
            "[Parallel(n_jobs=1)]: Done   4 out of   4 | elapsed:    6.3s remaining:    0.0s\n",
            "[CV] n_estimators=80, random_state=42 ................................\n",
            "[CV] .... n_estimators=80, random_state=42, score=0.358, total=   1.3s\n",
            "[Parallel(n_jobs=1)]: Done   5 out of   5 | elapsed:    7.6s remaining:    0.0s\n",
            "[CV] n_estimators=80, random_state=42 ................................\n",
            "[CV] .... n_estimators=80, random_state=42, score=0.361, total=   1.3s\n",
            "[Parallel(n_jobs=1)]: Done   6 out of   6 | elapsed:    8.9s remaining:    0.0s\n",
            "[CV] n_estimators=50, random_state=42 ................................\n",
            "[CV] .... n_estimators=50, random_state=42, score=0.359, total=   0.8s\n",
            "[Parallel(n_jobs=1)]: Done   7 out of   7 | elapsed:    9.8s remaining:    0.0s\n",
            "[CV] n_estimators=50, random_state=42 ................................\n",
            "[CV] .... n_estimators=50, random_state=42, score=0.359, total=   0.8s\n",
            "[Parallel(n_jobs=1)]: Done   8 out of   8 | elapsed:   10.6s remaining:    0.0s\n",
            "[CV] n_estimators=50, random_state=42 ................................\n",
            "[CV] .... n_estimators=50, random_state=42, score=0.363, total=   0.8s\n",
            "[Parallel(n_jobs=1)]: Done   9 out of   9 | elapsed:   11.4s remaining:    0.0s\n",
            "[Parallel(n_jobs=1)]: Done   9 out of   9 | elapsed:   11.4s finished\n"
          ],
          "name": "stdout"
        },
        {
          "output_type": "execute_result",
          "data": {
            "text/plain": [
              "GridSearchCV(cv='warn', error_score='raise-deprecating',\n",
              "             estimator=RandomForestRegressor(bootstrap=True, criterion='mse',\n",
              "                                             max_depth=None,\n",
              "                                             max_features='auto',\n",
              "                                             max_leaf_nodes=None,\n",
              "                                             min_impurity_decrease=0.0,\n",
              "                                             min_impurity_split=None,\n",
              "                                             min_samples_leaf=1,\n",
              "                                             min_samples_split=2,\n",
              "                                             min_weight_fraction_leaf=0.0,\n",
              "                                             n_estimators='warn', n_jobs=None,\n",
              "                                             oob_score=False, random_state=None,\n",
              "                                             verbose=0, warm_start=False),\n",
              "             iid='warn', n_jobs=None,\n",
              "             param_grid={'n_estimators': [100, 80, 50], 'random_state': [42]},\n",
              "             pre_dispatch='2*n_jobs', refit='neg_mean_absolute_error',\n",
              "             return_train_score=False, scoring=make_scorer(mean_absolute_error),\n",
              "             verbose=100)"
            ]
          },
          "metadata": {
            "tags": []
          },
          "execution_count": 76
        }
      ]
    },
    {
      "cell_type": "code",
      "metadata": {
        "id": "qeOoihg6dajb",
        "colab_type": "code",
        "outputId": "ce0f53ad-27f9-4f3e-a9d8-4797a3c2aba9",
        "colab": {
          "base_uri": "https://localhost:8080/",
          "height": 119
        }
      },
      "source": [
        "gridsearch_rf = RandomForestRegressor()\n",
        "gridsearch_rf.set_params(**first_grid.best_params_)\n",
        "gridsearch_rf.fit(Xtrain,ytrain)\n",
        "gs_model = gridsearch_rf.predict(Xtest)\n",
        "print('R² score: '+str(gridsearch_rf.score(Xtest,ytest)))\n",
        "print('MAPE: '+str(np.mean(np.abs((ytest-gs_model)/ytest))*100))\n",
        "print('Explained variance score: '+ str(explained_variance_score(ytest,gs_model)))\n",
        "print('Max error: '+ str(max_error(ytest,gs_model)))\n",
        "print('Mean absolute error: '+str(mean_absolute_error(ytest,gs_model)))\n",
        "print('Mean squared log error: '+str(mean_squared_log_error(ytest,gs_model)))"
      ],
      "execution_count": 77,
      "outputs": [
        {
          "output_type": "stream",
          "text": [
            "R² score: 0.08369601511000879\n",
            "MAPE: 9.752052765713534\n",
            "Explained variance score: 0.08906393751223629\n",
            "Max error: 3.1980000000000004\n",
            "Mean absolute error: 0.35511275415896487\n",
            "Mean squared log error: 0.01198770563344003\n"
          ],
          "name": "stdout"
        }
      ]
    },
    {
      "cell_type": "code",
      "metadata": {
        "id": "bjQv6zHzZFd2",
        "colab_type": "code",
        "colab": {
          "base_uri": "https://localhost:8080/",
          "height": 34
        },
        "outputId": "91569d99-14a4-4be1-d218-5be294e74fca"
      },
      "source": [
        "first_grid.best_params_"
      ],
      "execution_count": 78,
      "outputs": [
        {
          "output_type": "execute_result",
          "data": {
            "text/plain": [
              "{'n_estimators': 50, 'random_state': 42}"
            ]
          },
          "metadata": {
            "tags": []
          },
          "execution_count": 78
        }
      ]
    },
    {
      "cell_type": "markdown",
      "metadata": {
        "id": "3mCEXtkRTNpu",
        "colab_type": "text"
      },
      "source": [
        "\n",
        "2.   Linear Regression\n",
        "\n"
      ]
    },
    {
      "cell_type": "code",
      "metadata": {
        "id": "SyT1tz7ePkiQ",
        "colab_type": "code",
        "colab": {
          "base_uri": "https://localhost:8080/",
          "height": 34
        },
        "outputId": "fad0b8ae-3511-404d-c20d-07568640e3e1"
      },
      "source": [
        "linear_regression = LinearRegression()\n",
        "\n",
        "linear_regression.get_params().keys() "
      ],
      "execution_count": 79,
      "outputs": [
        {
          "output_type": "execute_result",
          "data": {
            "text/plain": [
              "dict_keys(['copy_X', 'fit_intercept', 'n_jobs', 'normalize'])"
            ]
          },
          "metadata": {
            "tags": []
          },
          "execution_count": 79
        }
      ]
    },
    {
      "cell_type": "code",
      "metadata": {
        "id": "XvOD0zykUZ_N",
        "colab_type": "code",
        "colab": {
          "base_uri": "https://localhost:8080/",
          "height": 887
        },
        "outputId": "7c349cc3-1873-4e7f-938f-fe8e00286488"
      },
      "source": [
        "dict_lr = {'fit_intercept':[True,False],'normalize':[True,False]}\n",
        "\n",
        "second_grid = GridSearchCV(linear_regression, param_grid=dict_lr, scoring=make_scorer(mean_absolute_error), verbose=100, refit='neg_mean_absolute_error', return_train_score=False)\n",
        "second_grid.fit(X,y)"
      ],
      "execution_count": 80,
      "outputs": [
        {
          "output_type": "stream",
          "text": [
            "Fitting 3 folds for each of 4 candidates, totalling 12 fits\n",
            "[Parallel(n_jobs=1)]: Using backend SequentialBackend with 1 concurrent workers.\n",
            "[CV] fit_intercept=True, normalize=True ..............................\n",
            "[CV] .. fit_intercept=True, normalize=True, score=0.310, total=   0.0s\n",
            "[Parallel(n_jobs=1)]: Done   1 out of   1 | elapsed:    0.0s remaining:    0.0s\n",
            "[CV] fit_intercept=True, normalize=True ..............................\n",
            "[CV] .. fit_intercept=True, normalize=True, score=0.416, total=   0.0s\n",
            "[Parallel(n_jobs=1)]: Done   2 out of   2 | elapsed:    0.0s remaining:    0.0s\n",
            "[CV] fit_intercept=True, normalize=True ..............................\n",
            "[CV] .. fit_intercept=True, normalize=True, score=0.416, total=   0.0s\n",
            "[Parallel(n_jobs=1)]: Done   3 out of   3 | elapsed:    0.0s remaining:    0.0s\n",
            "[CV] fit_intercept=True, normalize=False .............................\n",
            "[CV] . fit_intercept=True, normalize=False, score=0.310, total=   0.0s\n",
            "[Parallel(n_jobs=1)]: Done   4 out of   4 | elapsed:    0.0s remaining:    0.0s\n",
            "[CV] fit_intercept=True, normalize=False .............................\n",
            "[CV] . fit_intercept=True, normalize=False, score=0.416, total=   0.0s\n",
            "[Parallel(n_jobs=1)]: Done   5 out of   5 | elapsed:    0.0s remaining:    0.0s\n",
            "[CV] fit_intercept=True, normalize=False .............................\n",
            "[CV] . fit_intercept=True, normalize=False, score=0.416, total=   0.0s\n",
            "[Parallel(n_jobs=1)]: Done   6 out of   6 | elapsed:    0.0s remaining:    0.0s\n",
            "[CV] fit_intercept=False, normalize=True .............................\n",
            "[CV] . fit_intercept=False, normalize=True, score=0.306, total=   0.0s\n",
            "[Parallel(n_jobs=1)]: Done   7 out of   7 | elapsed:    0.0s remaining:    0.0s\n",
            "[CV] fit_intercept=False, normalize=True .............................\n",
            "[CV] . fit_intercept=False, normalize=True, score=0.417, total=   0.0s\n",
            "[Parallel(n_jobs=1)]: Done   8 out of   8 | elapsed:    0.0s remaining:    0.0s\n",
            "[CV] fit_intercept=False, normalize=True .............................\n",
            "[CV] . fit_intercept=False, normalize=True, score=0.417, total=   0.0s\n",
            "[Parallel(n_jobs=1)]: Done   9 out of   9 | elapsed:    0.0s remaining:    0.0s\n",
            "[CV] fit_intercept=False, normalize=False ............................\n",
            "[CV]  fit_intercept=False, normalize=False, score=0.306, total=   0.0s\n",
            "[Parallel(n_jobs=1)]: Done  10 out of  10 | elapsed:    0.0s remaining:    0.0s\n",
            "[CV] fit_intercept=False, normalize=False ............................\n",
            "[CV]  fit_intercept=False, normalize=False, score=0.417, total=   0.0s\n",
            "[Parallel(n_jobs=1)]: Done  11 out of  11 | elapsed:    0.0s remaining:    0.0s\n",
            "[CV] fit_intercept=False, normalize=False ............................\n",
            "[CV]  fit_intercept=False, normalize=False, score=0.417, total=   0.0s\n",
            "[Parallel(n_jobs=1)]: Done  12 out of  12 | elapsed:    0.0s remaining:    0.0s\n",
            "[Parallel(n_jobs=1)]: Done  12 out of  12 | elapsed:    0.0s finished\n"
          ],
          "name": "stdout"
        },
        {
          "output_type": "stream",
          "text": [
            "/usr/local/lib/python3.6/dist-packages/sklearn/model_selection/_split.py:1978: FutureWarning: The default value of cv will change from 3 to 5 in version 0.22. Specify it explicitly to silence this warning.\n",
            "  warnings.warn(CV_WARNING, FutureWarning)\n"
          ],
          "name": "stderr"
        },
        {
          "output_type": "execute_result",
          "data": {
            "text/plain": [
              "GridSearchCV(cv='warn', error_score='raise-deprecating',\n",
              "             estimator=LinearRegression(copy_X=True, fit_intercept=True,\n",
              "                                        n_jobs=None, normalize=False),\n",
              "             iid='warn', n_jobs=None,\n",
              "             param_grid={'fit_intercept': [True, False],\n",
              "                         'normalize': [True, False]},\n",
              "             pre_dispatch='2*n_jobs', refit='neg_mean_absolute_error',\n",
              "             return_train_score=False, scoring=make_scorer(mean_absolute_error),\n",
              "             verbose=100)"
            ]
          },
          "metadata": {
            "tags": []
          },
          "execution_count": 80
        }
      ]
    },
    {
      "cell_type": "code",
      "metadata": {
        "id": "IKyRjVLfVeGh",
        "colab_type": "code",
        "colab": {
          "base_uri": "https://localhost:8080/",
          "height": 119
        },
        "outputId": "0868e128-ee81-48d4-b0e0-6f55b834d3fa"
      },
      "source": [
        "lr2 = LinearRegression()\n",
        "lr2.set_params(**second_grid.best_params_)\n",
        "lr2.fit(Xtrain,ytrain)\n",
        "lr2_model = lr2.predict(Xtest)\n",
        "print('R² score: '+str(lr2.score(Xtest,ytest)))\n",
        "print('MAPE: '+str(np.mean(np.abs((ytest-lr2_model)/ytest))*100))\n",
        "print('Explained variance score: '+ str(explained_variance_score(ytest,lr2_model)))\n",
        "print('Max error: '+ str(max_error(ytest,lr2_model)))\n",
        "print('Mean absolute error: '+str(mean_absolute_error(ytest,lr2_model)))\n",
        "print('Mean squared log error: '+str(mean_squared_log_error(ytest,lr2_model)))"
      ],
      "execution_count": 84,
      "outputs": [
        {
          "output_type": "stream",
          "text": [
            "R² score: 0.022322088429774792\n",
            "MAPE: 10.249329143592947\n",
            "Explained variance score: 0.022753992329419437\n",
            "Max error: 3.2644439385063233\n",
            "Mean absolute error: 0.36809210530415876\n",
            "Mean squared log error: 0.01282204559081877\n"
          ],
          "name": "stdout"
        }
      ]
    },
    {
      "cell_type": "markdown",
      "metadata": {
        "id": "ZdT2teUwWYxD",
        "colab_type": "text"
      },
      "source": [
        "3. Support Vector Regressor"
      ]
    },
    {
      "cell_type": "code",
      "metadata": {
        "id": "8XGbpsIdWB8y",
        "colab_type": "code",
        "colab": {
          "base_uri": "https://localhost:8080/",
          "height": 34
        },
        "outputId": "0f87c1c7-4865-480f-95be-d11914294d20"
      },
      "source": [
        "svr_grid = SVR()\n",
        "svr_grid.get_params().keys()\n",
        "#SVR(kernel='sigmoid', epsilon=.33)"
      ],
      "execution_count": 86,
      "outputs": [
        {
          "output_type": "execute_result",
          "data": {
            "text/plain": [
              "dict_keys(['C', 'cache_size', 'coef0', 'degree', 'epsilon', 'gamma', 'kernel', 'max_iter', 'shrinking', 'tol', 'verbose'])"
            ]
          },
          "metadata": {
            "tags": []
          },
          "execution_count": 86
        }
      ]
    },
    {
      "cell_type": "code",
      "metadata": {
        "id": "rs1Czn3LWzCf",
        "colab_type": "code",
        "colab": {
          "base_uri": "https://localhost:8080/",
          "height": 6463
        },
        "outputId": "e1e45eea-b79f-4fb7-9fc6-fff7efedd840"
      },
      "source": [
        "dict_svr={'C':[1,10,50,100],'epsilon':[0.1,0.33,0.5],'kernel':['rbf','sigmoid']}\n",
        "third_grid = GridSearchCV(svr_grid,param_grid=dict_svr,scoring=make_scorer(mean_absolute_error), verbose=100, refit='neg_mean_absolute_error', return_train_score=False)\n",
        "third_grid.fit(Xtrain,ytrain)"
      ],
      "execution_count": 88,
      "outputs": [
        {
          "output_type": "stream",
          "text": [
            "/usr/local/lib/python3.6/dist-packages/sklearn/model_selection/_split.py:1978: FutureWarning: The default value of cv will change from 3 to 5 in version 0.22. Specify it explicitly to silence this warning.\n",
            "  warnings.warn(CV_WARNING, FutureWarning)\n",
            "/usr/local/lib/python3.6/dist-packages/sklearn/svm/base.py:193: FutureWarning: The default value of gamma will change from 'auto' to 'scale' in version 0.22 to account better for unscaled features. Set gamma explicitly to 'auto' or 'scale' to avoid this warning.\n",
            "  \"avoid this warning.\", FutureWarning)\n"
          ],
          "name": "stderr"
        },
        {
          "output_type": "stream",
          "text": [
            "Fitting 3 folds for each of 24 candidates, totalling 72 fits\n",
            "[Parallel(n_jobs=1)]: Using backend SequentialBackend with 1 concurrent workers.\n",
            "[CV] C=1, epsilon=0.1, kernel=rbf ....................................\n",
            "[CV] ........ C=1, epsilon=0.1, kernel=rbf, score=0.377, total=   1.4s\n",
            "[Parallel(n_jobs=1)]: Done   1 out of   1 | elapsed:    1.4s remaining:    0.0s\n",
            "[CV] C=1, epsilon=0.1, kernel=rbf ....................................\n"
          ],
          "name": "stdout"
        },
        {
          "output_type": "stream",
          "text": [
            "/usr/local/lib/python3.6/dist-packages/sklearn/svm/base.py:193: FutureWarning: The default value of gamma will change from 'auto' to 'scale' in version 0.22 to account better for unscaled features. Set gamma explicitly to 'auto' or 'scale' to avoid this warning.\n",
            "  \"avoid this warning.\", FutureWarning)\n"
          ],
          "name": "stderr"
        },
        {
          "output_type": "stream",
          "text": [
            "[CV] ........ C=1, epsilon=0.1, kernel=rbf, score=0.388, total=   1.4s\n",
            "[Parallel(n_jobs=1)]: Done   2 out of   2 | elapsed:    2.8s remaining:    0.0s\n",
            "[CV] C=1, epsilon=0.1, kernel=rbf ....................................\n"
          ],
          "name": "stdout"
        },
        {
          "output_type": "stream",
          "text": [
            "/usr/local/lib/python3.6/dist-packages/sklearn/svm/base.py:193: FutureWarning: The default value of gamma will change from 'auto' to 'scale' in version 0.22 to account better for unscaled features. Set gamma explicitly to 'auto' or 'scale' to avoid this warning.\n",
            "  \"avoid this warning.\", FutureWarning)\n"
          ],
          "name": "stderr"
        },
        {
          "output_type": "stream",
          "text": [
            "[CV] ........ C=1, epsilon=0.1, kernel=rbf, score=0.388, total=   1.5s\n",
            "[Parallel(n_jobs=1)]: Done   3 out of   3 | elapsed:    4.3s remaining:    0.0s\n",
            "[CV] C=1, epsilon=0.1, kernel=sigmoid ................................\n"
          ],
          "name": "stdout"
        },
        {
          "output_type": "stream",
          "text": [
            "/usr/local/lib/python3.6/dist-packages/sklearn/svm/base.py:193: FutureWarning: The default value of gamma will change from 'auto' to 'scale' in version 0.22 to account better for unscaled features. Set gamma explicitly to 'auto' or 'scale' to avoid this warning.\n",
            "  \"avoid this warning.\", FutureWarning)\n"
          ],
          "name": "stderr"
        },
        {
          "output_type": "stream",
          "text": [
            "[CV] .... C=1, epsilon=0.1, kernel=sigmoid, score=0.361, total=   0.6s\n",
            "[Parallel(n_jobs=1)]: Done   4 out of   4 | elapsed:    4.9s remaining:    0.0s\n",
            "[CV] C=1, epsilon=0.1, kernel=sigmoid ................................\n"
          ],
          "name": "stdout"
        },
        {
          "output_type": "stream",
          "text": [
            "/usr/local/lib/python3.6/dist-packages/sklearn/svm/base.py:193: FutureWarning: The default value of gamma will change from 'auto' to 'scale' in version 0.22 to account better for unscaled features. Set gamma explicitly to 'auto' or 'scale' to avoid this warning.\n",
            "  \"avoid this warning.\", FutureWarning)\n"
          ],
          "name": "stderr"
        },
        {
          "output_type": "stream",
          "text": [
            "[CV] .... C=1, epsilon=0.1, kernel=sigmoid, score=0.373, total=   0.6s\n",
            "[Parallel(n_jobs=1)]: Done   5 out of   5 | elapsed:    5.6s remaining:    0.0s\n",
            "[CV] C=1, epsilon=0.1, kernel=sigmoid ................................\n"
          ],
          "name": "stdout"
        },
        {
          "output_type": "stream",
          "text": [
            "/usr/local/lib/python3.6/dist-packages/sklearn/svm/base.py:193: FutureWarning: The default value of gamma will change from 'auto' to 'scale' in version 0.22 to account better for unscaled features. Set gamma explicitly to 'auto' or 'scale' to avoid this warning.\n",
            "  \"avoid this warning.\", FutureWarning)\n"
          ],
          "name": "stderr"
        },
        {
          "output_type": "stream",
          "text": [
            "[CV] .... C=1, epsilon=0.1, kernel=sigmoid, score=0.383, total=   0.6s\n",
            "[Parallel(n_jobs=1)]: Done   6 out of   6 | elapsed:    6.1s remaining:    0.0s\n",
            "[CV] C=1, epsilon=0.33, kernel=rbf ...................................\n"
          ],
          "name": "stdout"
        },
        {
          "output_type": "stream",
          "text": [
            "/usr/local/lib/python3.6/dist-packages/sklearn/svm/base.py:193: FutureWarning: The default value of gamma will change from 'auto' to 'scale' in version 0.22 to account better for unscaled features. Set gamma explicitly to 'auto' or 'scale' to avoid this warning.\n",
            "  \"avoid this warning.\", FutureWarning)\n"
          ],
          "name": "stderr"
        },
        {
          "output_type": "stream",
          "text": [
            "[CV] ....... C=1, epsilon=0.33, kernel=rbf, score=0.404, total=   0.7s\n",
            "[Parallel(n_jobs=1)]: Done   7 out of   7 | elapsed:    6.8s remaining:    0.0s\n",
            "[CV] C=1, epsilon=0.33, kernel=rbf ...................................\n"
          ],
          "name": "stdout"
        },
        {
          "output_type": "stream",
          "text": [
            "/usr/local/lib/python3.6/dist-packages/sklearn/svm/base.py:193: FutureWarning: The default value of gamma will change from 'auto' to 'scale' in version 0.22 to account better for unscaled features. Set gamma explicitly to 'auto' or 'scale' to avoid this warning.\n",
            "  \"avoid this warning.\", FutureWarning)\n"
          ],
          "name": "stderr"
        },
        {
          "output_type": "stream",
          "text": [
            "[CV] ....... C=1, epsilon=0.33, kernel=rbf, score=0.411, total=   0.7s\n",
            "[Parallel(n_jobs=1)]: Done   8 out of   8 | elapsed:    7.6s remaining:    0.0s\n",
            "[CV] C=1, epsilon=0.33, kernel=rbf ...................................\n"
          ],
          "name": "stdout"
        },
        {
          "output_type": "stream",
          "text": [
            "/usr/local/lib/python3.6/dist-packages/sklearn/svm/base.py:193: FutureWarning: The default value of gamma will change from 'auto' to 'scale' in version 0.22 to account better for unscaled features. Set gamma explicitly to 'auto' or 'scale' to avoid this warning.\n",
            "  \"avoid this warning.\", FutureWarning)\n"
          ],
          "name": "stderr"
        },
        {
          "output_type": "stream",
          "text": [
            "[CV] ....... C=1, epsilon=0.33, kernel=rbf, score=0.406, total=   0.7s\n",
            "[Parallel(n_jobs=1)]: Done   9 out of   9 | elapsed:    8.2s remaining:    0.0s\n",
            "[CV] C=1, epsilon=0.33, kernel=sigmoid ...............................\n"
          ],
          "name": "stdout"
        },
        {
          "output_type": "stream",
          "text": [
            "/usr/local/lib/python3.6/dist-packages/sklearn/svm/base.py:193: FutureWarning: The default value of gamma will change from 'auto' to 'scale' in version 0.22 to account better for unscaled features. Set gamma explicitly to 'auto' or 'scale' to avoid this warning.\n",
            "  \"avoid this warning.\", FutureWarning)\n"
          ],
          "name": "stderr"
        },
        {
          "output_type": "stream",
          "text": [
            "[CV] ... C=1, epsilon=0.33, kernel=sigmoid, score=0.366, total=   0.3s\n",
            "[Parallel(n_jobs=1)]: Done  10 out of  10 | elapsed:    8.6s remaining:    0.0s\n",
            "[CV] C=1, epsilon=0.33, kernel=sigmoid ...............................\n"
          ],
          "name": "stdout"
        },
        {
          "output_type": "stream",
          "text": [
            "/usr/local/lib/python3.6/dist-packages/sklearn/svm/base.py:193: FutureWarning: The default value of gamma will change from 'auto' to 'scale' in version 0.22 to account better for unscaled features. Set gamma explicitly to 'auto' or 'scale' to avoid this warning.\n",
            "  \"avoid this warning.\", FutureWarning)\n"
          ],
          "name": "stderr"
        },
        {
          "output_type": "stream",
          "text": [
            "[CV] ... C=1, epsilon=0.33, kernel=sigmoid, score=0.378, total=   0.3s\n",
            "[Parallel(n_jobs=1)]: Done  11 out of  11 | elapsed:    8.9s remaining:    0.0s\n",
            "[CV] C=1, epsilon=0.33, kernel=sigmoid ...............................\n"
          ],
          "name": "stdout"
        },
        {
          "output_type": "stream",
          "text": [
            "/usr/local/lib/python3.6/dist-packages/sklearn/svm/base.py:193: FutureWarning: The default value of gamma will change from 'auto' to 'scale' in version 0.22 to account better for unscaled features. Set gamma explicitly to 'auto' or 'scale' to avoid this warning.\n",
            "  \"avoid this warning.\", FutureWarning)\n"
          ],
          "name": "stderr"
        },
        {
          "output_type": "stream",
          "text": [
            "[CV] ... C=1, epsilon=0.33, kernel=sigmoid, score=0.384, total=   0.4s\n",
            "[Parallel(n_jobs=1)]: Done  12 out of  12 | elapsed:    9.3s remaining:    0.0s\n",
            "[CV] C=1, epsilon=0.5, kernel=rbf ....................................\n"
          ],
          "name": "stdout"
        },
        {
          "output_type": "stream",
          "text": [
            "/usr/local/lib/python3.6/dist-packages/sklearn/svm/base.py:193: FutureWarning: The default value of gamma will change from 'auto' to 'scale' in version 0.22 to account better for unscaled features. Set gamma explicitly to 'auto' or 'scale' to avoid this warning.\n",
            "  \"avoid this warning.\", FutureWarning)\n"
          ],
          "name": "stderr"
        },
        {
          "output_type": "stream",
          "text": [
            "[CV] ........ C=1, epsilon=0.5, kernel=rbf, score=0.439, total=   0.6s\n",
            "[Parallel(n_jobs=1)]: Done  13 out of  13 | elapsed:    9.8s remaining:    0.0s\n",
            "[CV] C=1, epsilon=0.5, kernel=rbf ....................................\n"
          ],
          "name": "stdout"
        },
        {
          "output_type": "stream",
          "text": [
            "/usr/local/lib/python3.6/dist-packages/sklearn/svm/base.py:193: FutureWarning: The default value of gamma will change from 'auto' to 'scale' in version 0.22 to account better for unscaled features. Set gamma explicitly to 'auto' or 'scale' to avoid this warning.\n",
            "  \"avoid this warning.\", FutureWarning)\n"
          ],
          "name": "stderr"
        },
        {
          "output_type": "stream",
          "text": [
            "[CV] ........ C=1, epsilon=0.5, kernel=rbf, score=0.443, total=   0.5s\n",
            "[Parallel(n_jobs=1)]: Done  14 out of  14 | elapsed:   10.3s remaining:    0.0s\n",
            "[CV] C=1, epsilon=0.5, kernel=rbf ....................................\n"
          ],
          "name": "stdout"
        },
        {
          "output_type": "stream",
          "text": [
            "/usr/local/lib/python3.6/dist-packages/sklearn/svm/base.py:193: FutureWarning: The default value of gamma will change from 'auto' to 'scale' in version 0.22 to account better for unscaled features. Set gamma explicitly to 'auto' or 'scale' to avoid this warning.\n",
            "  \"avoid this warning.\", FutureWarning)\n"
          ],
          "name": "stderr"
        },
        {
          "output_type": "stream",
          "text": [
            "[CV] ........ C=1, epsilon=0.5, kernel=rbf, score=0.435, total=   0.5s\n",
            "[Parallel(n_jobs=1)]: Done  15 out of  15 | elapsed:   10.8s remaining:    0.0s\n",
            "[CV] C=1, epsilon=0.5, kernel=sigmoid ................................\n",
            "[CV] .... C=1, epsilon=0.5, kernel=sigmoid, score=0.396, total=   0.2s\n"
          ],
          "name": "stdout"
        },
        {
          "output_type": "stream",
          "text": [
            "/usr/local/lib/python3.6/dist-packages/sklearn/svm/base.py:193: FutureWarning: The default value of gamma will change from 'auto' to 'scale' in version 0.22 to account better for unscaled features. Set gamma explicitly to 'auto' or 'scale' to avoid this warning.\n",
            "  \"avoid this warning.\", FutureWarning)\n",
            "/usr/local/lib/python3.6/dist-packages/sklearn/svm/base.py:193: FutureWarning: The default value of gamma will change from 'auto' to 'scale' in version 0.22 to account better for unscaled features. Set gamma explicitly to 'auto' or 'scale' to avoid this warning.\n",
            "  \"avoid this warning.\", FutureWarning)\n"
          ],
          "name": "stderr"
        },
        {
          "output_type": "stream",
          "text": [
            "[Parallel(n_jobs=1)]: Done  16 out of  16 | elapsed:   11.0s remaining:    0.0s\n",
            "[CV] C=1, epsilon=0.5, kernel=sigmoid ................................\n",
            "[CV] .... C=1, epsilon=0.5, kernel=sigmoid, score=0.407, total=   0.2s\n",
            "[Parallel(n_jobs=1)]: Done  17 out of  17 | elapsed:   11.2s remaining:    0.0s\n",
            "[CV] C=1, epsilon=0.5, kernel=sigmoid ................................\n",
            "[CV] .... C=1, epsilon=0.5, kernel=sigmoid, score=0.384, total=   0.2s\n",
            "[Parallel(n_jobs=1)]: Done  18 out of  18 | elapsed:   11.4s remaining:    0.0s\n",
            "[CV] C=10, epsilon=0.1, kernel=rbf ...................................\n"
          ],
          "name": "stdout"
        },
        {
          "output_type": "stream",
          "text": [
            "/usr/local/lib/python3.6/dist-packages/sklearn/svm/base.py:193: FutureWarning: The default value of gamma will change from 'auto' to 'scale' in version 0.22 to account better for unscaled features. Set gamma explicitly to 'auto' or 'scale' to avoid this warning.\n",
            "  \"avoid this warning.\", FutureWarning)\n",
            "/usr/local/lib/python3.6/dist-packages/sklearn/svm/base.py:193: FutureWarning: The default value of gamma will change from 'auto' to 'scale' in version 0.22 to account better for unscaled features. Set gamma explicitly to 'auto' or 'scale' to avoid this warning.\n",
            "  \"avoid this warning.\", FutureWarning)\n"
          ],
          "name": "stderr"
        },
        {
          "output_type": "stream",
          "text": [
            "[CV] ....... C=10, epsilon=0.1, kernel=rbf, score=0.387, total=   1.5s\n",
            "[Parallel(n_jobs=1)]: Done  19 out of  19 | elapsed:   12.9s remaining:    0.0s\n",
            "[CV] C=10, epsilon=0.1, kernel=rbf ...................................\n"
          ],
          "name": "stdout"
        },
        {
          "output_type": "stream",
          "text": [
            "/usr/local/lib/python3.6/dist-packages/sklearn/svm/base.py:193: FutureWarning: The default value of gamma will change from 'auto' to 'scale' in version 0.22 to account better for unscaled features. Set gamma explicitly to 'auto' or 'scale' to avoid this warning.\n",
            "  \"avoid this warning.\", FutureWarning)\n"
          ],
          "name": "stderr"
        },
        {
          "output_type": "stream",
          "text": [
            "[CV] ....... C=10, epsilon=0.1, kernel=rbf, score=0.403, total=   1.4s\n",
            "[Parallel(n_jobs=1)]: Done  20 out of  20 | elapsed:   14.4s remaining:    0.0s\n",
            "[CV] C=10, epsilon=0.1, kernel=rbf ...................................\n"
          ],
          "name": "stdout"
        },
        {
          "output_type": "stream",
          "text": [
            "/usr/local/lib/python3.6/dist-packages/sklearn/svm/base.py:193: FutureWarning: The default value of gamma will change from 'auto' to 'scale' in version 0.22 to account better for unscaled features. Set gamma explicitly to 'auto' or 'scale' to avoid this warning.\n",
            "  \"avoid this warning.\", FutureWarning)\n"
          ],
          "name": "stderr"
        },
        {
          "output_type": "stream",
          "text": [
            "[CV] ....... C=10, epsilon=0.1, kernel=rbf, score=0.401, total=   1.5s\n",
            "[Parallel(n_jobs=1)]: Done  21 out of  21 | elapsed:   15.9s remaining:    0.0s\n",
            "[CV] C=10, epsilon=0.1, kernel=sigmoid ...............................\n"
          ],
          "name": "stdout"
        },
        {
          "output_type": "stream",
          "text": [
            "/usr/local/lib/python3.6/dist-packages/sklearn/svm/base.py:193: FutureWarning: The default value of gamma will change from 'auto' to 'scale' in version 0.22 to account better for unscaled features. Set gamma explicitly to 'auto' or 'scale' to avoid this warning.\n",
            "  \"avoid this warning.\", FutureWarning)\n"
          ],
          "name": "stderr"
        },
        {
          "output_type": "stream",
          "text": [
            "[CV] ... C=10, epsilon=0.1, kernel=sigmoid, score=0.361, total=   0.6s\n",
            "[Parallel(n_jobs=1)]: Done  22 out of  22 | elapsed:   16.5s remaining:    0.0s\n",
            "[CV] C=10, epsilon=0.1, kernel=sigmoid ...............................\n"
          ],
          "name": "stdout"
        },
        {
          "output_type": "stream",
          "text": [
            "/usr/local/lib/python3.6/dist-packages/sklearn/svm/base.py:193: FutureWarning: The default value of gamma will change from 'auto' to 'scale' in version 0.22 to account better for unscaled features. Set gamma explicitly to 'auto' or 'scale' to avoid this warning.\n",
            "  \"avoid this warning.\", FutureWarning)\n"
          ],
          "name": "stderr"
        },
        {
          "output_type": "stream",
          "text": [
            "[CV] ... C=10, epsilon=0.1, kernel=sigmoid, score=0.373, total=   0.6s\n",
            "[Parallel(n_jobs=1)]: Done  23 out of  23 | elapsed:   17.1s remaining:    0.0s\n",
            "[CV] C=10, epsilon=0.1, kernel=sigmoid ...............................\n"
          ],
          "name": "stdout"
        },
        {
          "output_type": "stream",
          "text": [
            "/usr/local/lib/python3.6/dist-packages/sklearn/svm/base.py:193: FutureWarning: The default value of gamma will change from 'auto' to 'scale' in version 0.22 to account better for unscaled features. Set gamma explicitly to 'auto' or 'scale' to avoid this warning.\n",
            "  \"avoid this warning.\", FutureWarning)\n"
          ],
          "name": "stderr"
        },
        {
          "output_type": "stream",
          "text": [
            "[CV] ... C=10, epsilon=0.1, kernel=sigmoid, score=0.383, total=   0.6s\n",
            "[Parallel(n_jobs=1)]: Done  24 out of  24 | elapsed:   17.6s remaining:    0.0s\n",
            "[CV] C=10, epsilon=0.33, kernel=rbf ..................................\n"
          ],
          "name": "stdout"
        },
        {
          "output_type": "stream",
          "text": [
            "/usr/local/lib/python3.6/dist-packages/sklearn/svm/base.py:193: FutureWarning: The default value of gamma will change from 'auto' to 'scale' in version 0.22 to account better for unscaled features. Set gamma explicitly to 'auto' or 'scale' to avoid this warning.\n",
            "  \"avoid this warning.\", FutureWarning)\n"
          ],
          "name": "stderr"
        },
        {
          "output_type": "stream",
          "text": [
            "[CV] ...... C=10, epsilon=0.33, kernel=rbf, score=0.419, total=   0.8s\n",
            "[Parallel(n_jobs=1)]: Done  25 out of  25 | elapsed:   18.5s remaining:    0.0s\n",
            "[CV] C=10, epsilon=0.33, kernel=rbf ..................................\n"
          ],
          "name": "stdout"
        },
        {
          "output_type": "stream",
          "text": [
            "/usr/local/lib/python3.6/dist-packages/sklearn/svm/base.py:193: FutureWarning: The default value of gamma will change from 'auto' to 'scale' in version 0.22 to account better for unscaled features. Set gamma explicitly to 'auto' or 'scale' to avoid this warning.\n",
            "  \"avoid this warning.\", FutureWarning)\n"
          ],
          "name": "stderr"
        },
        {
          "output_type": "stream",
          "text": [
            "[CV] ...... C=10, epsilon=0.33, kernel=rbf, score=0.431, total=   0.8s\n",
            "[Parallel(n_jobs=1)]: Done  26 out of  26 | elapsed:   19.3s remaining:    0.0s\n",
            "[CV] C=10, epsilon=0.33, kernel=rbf ..................................\n"
          ],
          "name": "stdout"
        },
        {
          "output_type": "stream",
          "text": [
            "/usr/local/lib/python3.6/dist-packages/sklearn/svm/base.py:193: FutureWarning: The default value of gamma will change from 'auto' to 'scale' in version 0.22 to account better for unscaled features. Set gamma explicitly to 'auto' or 'scale' to avoid this warning.\n",
            "  \"avoid this warning.\", FutureWarning)\n"
          ],
          "name": "stderr"
        },
        {
          "output_type": "stream",
          "text": [
            "[CV] ...... C=10, epsilon=0.33, kernel=rbf, score=0.422, total=   0.7s\n",
            "[Parallel(n_jobs=1)]: Done  27 out of  27 | elapsed:   20.0s remaining:    0.0s\n",
            "[CV] C=10, epsilon=0.33, kernel=sigmoid ..............................\n"
          ],
          "name": "stdout"
        },
        {
          "output_type": "stream",
          "text": [
            "/usr/local/lib/python3.6/dist-packages/sklearn/svm/base.py:193: FutureWarning: The default value of gamma will change from 'auto' to 'scale' in version 0.22 to account better for unscaled features. Set gamma explicitly to 'auto' or 'scale' to avoid this warning.\n",
            "  \"avoid this warning.\", FutureWarning)\n"
          ],
          "name": "stderr"
        },
        {
          "output_type": "stream",
          "text": [
            "[CV] .. C=10, epsilon=0.33, kernel=sigmoid, score=0.366, total=   0.3s\n",
            "[Parallel(n_jobs=1)]: Done  28 out of  28 | elapsed:   20.3s remaining:    0.0s\n",
            "[CV] C=10, epsilon=0.33, kernel=sigmoid ..............................\n"
          ],
          "name": "stdout"
        },
        {
          "output_type": "stream",
          "text": [
            "/usr/local/lib/python3.6/dist-packages/sklearn/svm/base.py:193: FutureWarning: The default value of gamma will change from 'auto' to 'scale' in version 0.22 to account better for unscaled features. Set gamma explicitly to 'auto' or 'scale' to avoid this warning.\n",
            "  \"avoid this warning.\", FutureWarning)\n"
          ],
          "name": "stderr"
        },
        {
          "output_type": "stream",
          "text": [
            "[CV] .. C=10, epsilon=0.33, kernel=sigmoid, score=0.378, total=   0.3s\n",
            "[Parallel(n_jobs=1)]: Done  29 out of  29 | elapsed:   20.7s remaining:    0.0s\n",
            "[CV] C=10, epsilon=0.33, kernel=sigmoid ..............................\n"
          ],
          "name": "stdout"
        },
        {
          "output_type": "stream",
          "text": [
            "/usr/local/lib/python3.6/dist-packages/sklearn/svm/base.py:193: FutureWarning: The default value of gamma will change from 'auto' to 'scale' in version 0.22 to account better for unscaled features. Set gamma explicitly to 'auto' or 'scale' to avoid this warning.\n",
            "  \"avoid this warning.\", FutureWarning)\n"
          ],
          "name": "stderr"
        },
        {
          "output_type": "stream",
          "text": [
            "[CV] .. C=10, epsilon=0.33, kernel=sigmoid, score=0.384, total=   0.4s\n",
            "[Parallel(n_jobs=1)]: Done  30 out of  30 | elapsed:   21.0s remaining:    0.0s\n",
            "[CV] C=10, epsilon=0.5, kernel=rbf ...................................\n"
          ],
          "name": "stdout"
        },
        {
          "output_type": "stream",
          "text": [
            "/usr/local/lib/python3.6/dist-packages/sklearn/svm/base.py:193: FutureWarning: The default value of gamma will change from 'auto' to 'scale' in version 0.22 to account better for unscaled features. Set gamma explicitly to 'auto' or 'scale' to avoid this warning.\n",
            "  \"avoid this warning.\", FutureWarning)\n"
          ],
          "name": "stderr"
        },
        {
          "output_type": "stream",
          "text": [
            "[CV] ....... C=10, epsilon=0.5, kernel=rbf, score=0.456, total=   0.6s\n",
            "[Parallel(n_jobs=1)]: Done  31 out of  31 | elapsed:   21.6s remaining:    0.0s\n",
            "[CV] C=10, epsilon=0.5, kernel=rbf ...................................\n"
          ],
          "name": "stdout"
        },
        {
          "output_type": "stream",
          "text": [
            "/usr/local/lib/python3.6/dist-packages/sklearn/svm/base.py:193: FutureWarning: The default value of gamma will change from 'auto' to 'scale' in version 0.22 to account better for unscaled features. Set gamma explicitly to 'auto' or 'scale' to avoid this warning.\n",
            "  \"avoid this warning.\", FutureWarning)\n"
          ],
          "name": "stderr"
        },
        {
          "output_type": "stream",
          "text": [
            "[CV] ....... C=10, epsilon=0.5, kernel=rbf, score=0.463, total=   0.6s\n",
            "[Parallel(n_jobs=1)]: Done  32 out of  32 | elapsed:   22.2s remaining:    0.0s\n",
            "[CV] C=10, epsilon=0.5, kernel=rbf ...................................\n"
          ],
          "name": "stdout"
        },
        {
          "output_type": "stream",
          "text": [
            "/usr/local/lib/python3.6/dist-packages/sklearn/svm/base.py:193: FutureWarning: The default value of gamma will change from 'auto' to 'scale' in version 0.22 to account better for unscaled features. Set gamma explicitly to 'auto' or 'scale' to avoid this warning.\n",
            "  \"avoid this warning.\", FutureWarning)\n"
          ],
          "name": "stderr"
        },
        {
          "output_type": "stream",
          "text": [
            "[CV] ....... C=10, epsilon=0.5, kernel=rbf, score=0.450, total=   0.6s\n",
            "[Parallel(n_jobs=1)]: Done  33 out of  33 | elapsed:   22.8s remaining:    0.0s\n",
            "[CV] C=10, epsilon=0.5, kernel=sigmoid ...............................\n"
          ],
          "name": "stdout"
        },
        {
          "output_type": "stream",
          "text": [
            "/usr/local/lib/python3.6/dist-packages/sklearn/svm/base.py:193: FutureWarning: The default value of gamma will change from 'auto' to 'scale' in version 0.22 to account better for unscaled features. Set gamma explicitly to 'auto' or 'scale' to avoid this warning.\n",
            "  \"avoid this warning.\", FutureWarning)\n"
          ],
          "name": "stderr"
        },
        {
          "output_type": "stream",
          "text": [
            "[CV] ... C=10, epsilon=0.5, kernel=sigmoid, score=0.396, total=   0.2s\n",
            "[Parallel(n_jobs=1)]: Done  34 out of  34 | elapsed:   23.0s remaining:    0.0s\n",
            "[CV] C=10, epsilon=0.5, kernel=sigmoid ...............................\n"
          ],
          "name": "stdout"
        },
        {
          "output_type": "stream",
          "text": [
            "/usr/local/lib/python3.6/dist-packages/sklearn/svm/base.py:193: FutureWarning: The default value of gamma will change from 'auto' to 'scale' in version 0.22 to account better for unscaled features. Set gamma explicitly to 'auto' or 'scale' to avoid this warning.\n",
            "  \"avoid this warning.\", FutureWarning)\n"
          ],
          "name": "stderr"
        },
        {
          "output_type": "stream",
          "text": [
            "[CV] ... C=10, epsilon=0.5, kernel=sigmoid, score=0.407, total=   0.2s\n",
            "[Parallel(n_jobs=1)]: Done  35 out of  35 | elapsed:   23.2s remaining:    0.0s\n",
            "[CV] C=10, epsilon=0.5, kernel=sigmoid ...............................\n",
            "[CV] ... C=10, epsilon=0.5, kernel=sigmoid, score=0.384, total=   0.2s\n",
            "[Parallel(n_jobs=1)]: Done  36 out of  36 | elapsed:   23.4s remaining:    0.0s\n",
            "[CV] C=50, epsilon=0.1, kernel=rbf ...................................\n"
          ],
          "name": "stdout"
        },
        {
          "output_type": "stream",
          "text": [
            "/usr/local/lib/python3.6/dist-packages/sklearn/svm/base.py:193: FutureWarning: The default value of gamma will change from 'auto' to 'scale' in version 0.22 to account better for unscaled features. Set gamma explicitly to 'auto' or 'scale' to avoid this warning.\n",
            "  \"avoid this warning.\", FutureWarning)\n",
            "/usr/local/lib/python3.6/dist-packages/sklearn/svm/base.py:193: FutureWarning: The default value of gamma will change from 'auto' to 'scale' in version 0.22 to account better for unscaled features. Set gamma explicitly to 'auto' or 'scale' to avoid this warning.\n",
            "  \"avoid this warning.\", FutureWarning)\n"
          ],
          "name": "stderr"
        },
        {
          "output_type": "stream",
          "text": [
            "[CV] ....... C=50, epsilon=0.1, kernel=rbf, score=0.390, total=   1.5s\n",
            "[Parallel(n_jobs=1)]: Done  37 out of  37 | elapsed:   24.9s remaining:    0.0s\n",
            "[CV] C=50, epsilon=0.1, kernel=rbf ...................................\n"
          ],
          "name": "stdout"
        },
        {
          "output_type": "stream",
          "text": [
            "/usr/local/lib/python3.6/dist-packages/sklearn/svm/base.py:193: FutureWarning: The default value of gamma will change from 'auto' to 'scale' in version 0.22 to account better for unscaled features. Set gamma explicitly to 'auto' or 'scale' to avoid this warning.\n",
            "  \"avoid this warning.\", FutureWarning)\n"
          ],
          "name": "stderr"
        },
        {
          "output_type": "stream",
          "text": [
            "[CV] ....... C=50, epsilon=0.1, kernel=rbf, score=0.432, total=   1.5s\n",
            "[Parallel(n_jobs=1)]: Done  38 out of  38 | elapsed:   26.4s remaining:    0.0s\n",
            "[CV] C=50, epsilon=0.1, kernel=rbf ...................................\n"
          ],
          "name": "stdout"
        },
        {
          "output_type": "stream",
          "text": [
            "/usr/local/lib/python3.6/dist-packages/sklearn/svm/base.py:193: FutureWarning: The default value of gamma will change from 'auto' to 'scale' in version 0.22 to account better for unscaled features. Set gamma explicitly to 'auto' or 'scale' to avoid this warning.\n",
            "  \"avoid this warning.\", FutureWarning)\n"
          ],
          "name": "stderr"
        },
        {
          "output_type": "stream",
          "text": [
            "[CV] ....... C=50, epsilon=0.1, kernel=rbf, score=0.427, total=   1.4s\n",
            "[Parallel(n_jobs=1)]: Done  39 out of  39 | elapsed:   27.7s remaining:    0.0s\n",
            "[CV] C=50, epsilon=0.1, kernel=sigmoid ...............................\n"
          ],
          "name": "stdout"
        },
        {
          "output_type": "stream",
          "text": [
            "/usr/local/lib/python3.6/dist-packages/sklearn/svm/base.py:193: FutureWarning: The default value of gamma will change from 'auto' to 'scale' in version 0.22 to account better for unscaled features. Set gamma explicitly to 'auto' or 'scale' to avoid this warning.\n",
            "  \"avoid this warning.\", FutureWarning)\n"
          ],
          "name": "stderr"
        },
        {
          "output_type": "stream",
          "text": [
            "[CV] ... C=50, epsilon=0.1, kernel=sigmoid, score=0.361, total=   0.6s\n",
            "[Parallel(n_jobs=1)]: Done  40 out of  40 | elapsed:   28.3s remaining:    0.0s\n",
            "[CV] C=50, epsilon=0.1, kernel=sigmoid ...............................\n"
          ],
          "name": "stdout"
        },
        {
          "output_type": "stream",
          "text": [
            "/usr/local/lib/python3.6/dist-packages/sklearn/svm/base.py:193: FutureWarning: The default value of gamma will change from 'auto' to 'scale' in version 0.22 to account better for unscaled features. Set gamma explicitly to 'auto' or 'scale' to avoid this warning.\n",
            "  \"avoid this warning.\", FutureWarning)\n"
          ],
          "name": "stderr"
        },
        {
          "output_type": "stream",
          "text": [
            "[CV] ... C=50, epsilon=0.1, kernel=sigmoid, score=0.373, total=   0.6s\n",
            "[Parallel(n_jobs=1)]: Done  41 out of  41 | elapsed:   28.9s remaining:    0.0s\n",
            "[CV] C=50, epsilon=0.1, kernel=sigmoid ...............................\n"
          ],
          "name": "stdout"
        },
        {
          "output_type": "stream",
          "text": [
            "/usr/local/lib/python3.6/dist-packages/sklearn/svm/base.py:193: FutureWarning: The default value of gamma will change from 'auto' to 'scale' in version 0.22 to account better for unscaled features. Set gamma explicitly to 'auto' or 'scale' to avoid this warning.\n",
            "  \"avoid this warning.\", FutureWarning)\n"
          ],
          "name": "stderr"
        },
        {
          "output_type": "stream",
          "text": [
            "[CV] ... C=50, epsilon=0.1, kernel=sigmoid, score=0.383, total=   0.6s\n",
            "[Parallel(n_jobs=1)]: Done  42 out of  42 | elapsed:   29.5s remaining:    0.0s\n",
            "[CV] C=50, epsilon=0.33, kernel=rbf ..................................\n"
          ],
          "name": "stdout"
        },
        {
          "output_type": "stream",
          "text": [
            "/usr/local/lib/python3.6/dist-packages/sklearn/svm/base.py:193: FutureWarning: The default value of gamma will change from 'auto' to 'scale' in version 0.22 to account better for unscaled features. Set gamma explicitly to 'auto' or 'scale' to avoid this warning.\n",
            "  \"avoid this warning.\", FutureWarning)\n"
          ],
          "name": "stderr"
        },
        {
          "output_type": "stream",
          "text": [
            "[CV] ...... C=50, epsilon=0.33, kernel=rbf, score=0.427, total=   0.8s\n",
            "[Parallel(n_jobs=1)]: Done  43 out of  43 | elapsed:   30.3s remaining:    0.0s\n",
            "[CV] C=50, epsilon=0.33, kernel=rbf ..................................\n"
          ],
          "name": "stdout"
        },
        {
          "output_type": "stream",
          "text": [
            "/usr/local/lib/python3.6/dist-packages/sklearn/svm/base.py:193: FutureWarning: The default value of gamma will change from 'auto' to 'scale' in version 0.22 to account better for unscaled features. Set gamma explicitly to 'auto' or 'scale' to avoid this warning.\n",
            "  \"avoid this warning.\", FutureWarning)\n"
          ],
          "name": "stderr"
        },
        {
          "output_type": "stream",
          "text": [
            "[CV] ...... C=50, epsilon=0.33, kernel=rbf, score=0.460, total=   0.8s\n",
            "[Parallel(n_jobs=1)]: Done  44 out of  44 | elapsed:   31.1s remaining:    0.0s\n",
            "[CV] C=50, epsilon=0.33, kernel=rbf ..................................\n"
          ],
          "name": "stdout"
        },
        {
          "output_type": "stream",
          "text": [
            "/usr/local/lib/python3.6/dist-packages/sklearn/svm/base.py:193: FutureWarning: The default value of gamma will change from 'auto' to 'scale' in version 0.22 to account better for unscaled features. Set gamma explicitly to 'auto' or 'scale' to avoid this warning.\n",
            "  \"avoid this warning.\", FutureWarning)\n"
          ],
          "name": "stderr"
        },
        {
          "output_type": "stream",
          "text": [
            "[CV] ...... C=50, epsilon=0.33, kernel=rbf, score=0.443, total=   0.7s\n",
            "[Parallel(n_jobs=1)]: Done  45 out of  45 | elapsed:   31.8s remaining:    0.0s\n",
            "[CV] C=50, epsilon=0.33, kernel=sigmoid ..............................\n"
          ],
          "name": "stdout"
        },
        {
          "output_type": "stream",
          "text": [
            "/usr/local/lib/python3.6/dist-packages/sklearn/svm/base.py:193: FutureWarning: The default value of gamma will change from 'auto' to 'scale' in version 0.22 to account better for unscaled features. Set gamma explicitly to 'auto' or 'scale' to avoid this warning.\n",
            "  \"avoid this warning.\", FutureWarning)\n"
          ],
          "name": "stderr"
        },
        {
          "output_type": "stream",
          "text": [
            "[CV] .. C=50, epsilon=0.33, kernel=sigmoid, score=0.366, total=   0.3s\n",
            "[Parallel(n_jobs=1)]: Done  46 out of  46 | elapsed:   32.2s remaining:    0.0s\n",
            "[CV] C=50, epsilon=0.33, kernel=sigmoid ..............................\n"
          ],
          "name": "stdout"
        },
        {
          "output_type": "stream",
          "text": [
            "/usr/local/lib/python3.6/dist-packages/sklearn/svm/base.py:193: FutureWarning: The default value of gamma will change from 'auto' to 'scale' in version 0.22 to account better for unscaled features. Set gamma explicitly to 'auto' or 'scale' to avoid this warning.\n",
            "  \"avoid this warning.\", FutureWarning)\n"
          ],
          "name": "stderr"
        },
        {
          "output_type": "stream",
          "text": [
            "[CV] .. C=50, epsilon=0.33, kernel=sigmoid, score=0.378, total=   0.3s\n",
            "[Parallel(n_jobs=1)]: Done  47 out of  47 | elapsed:   32.5s remaining:    0.0s\n",
            "[CV] C=50, epsilon=0.33, kernel=sigmoid ..............................\n"
          ],
          "name": "stdout"
        },
        {
          "output_type": "stream",
          "text": [
            "/usr/local/lib/python3.6/dist-packages/sklearn/svm/base.py:193: FutureWarning: The default value of gamma will change from 'auto' to 'scale' in version 0.22 to account better for unscaled features. Set gamma explicitly to 'auto' or 'scale' to avoid this warning.\n",
            "  \"avoid this warning.\", FutureWarning)\n"
          ],
          "name": "stderr"
        },
        {
          "output_type": "stream",
          "text": [
            "[CV] .. C=50, epsilon=0.33, kernel=sigmoid, score=0.384, total=   0.4s\n",
            "[Parallel(n_jobs=1)]: Done  48 out of  48 | elapsed:   32.9s remaining:    0.0s\n",
            "[CV] C=50, epsilon=0.5, kernel=rbf ...................................\n"
          ],
          "name": "stdout"
        },
        {
          "output_type": "stream",
          "text": [
            "/usr/local/lib/python3.6/dist-packages/sklearn/svm/base.py:193: FutureWarning: The default value of gamma will change from 'auto' to 'scale' in version 0.22 to account better for unscaled features. Set gamma explicitly to 'auto' or 'scale' to avoid this warning.\n",
            "  \"avoid this warning.\", FutureWarning)\n"
          ],
          "name": "stderr"
        },
        {
          "output_type": "stream",
          "text": [
            "[CV] ....... C=50, epsilon=0.5, kernel=rbf, score=0.471, total=   0.6s\n",
            "[Parallel(n_jobs=1)]: Done  49 out of  49 | elapsed:   33.5s remaining:    0.0s\n",
            "[CV] C=50, epsilon=0.5, kernel=rbf ...................................\n"
          ],
          "name": "stdout"
        },
        {
          "output_type": "stream",
          "text": [
            "/usr/local/lib/python3.6/dist-packages/sklearn/svm/base.py:193: FutureWarning: The default value of gamma will change from 'auto' to 'scale' in version 0.22 to account better for unscaled features. Set gamma explicitly to 'auto' or 'scale' to avoid this warning.\n",
            "  \"avoid this warning.\", FutureWarning)\n"
          ],
          "name": "stderr"
        },
        {
          "output_type": "stream",
          "text": [
            "[CV] ....... C=50, epsilon=0.5, kernel=rbf, score=0.492, total=   0.6s\n",
            "[Parallel(n_jobs=1)]: Done  50 out of  50 | elapsed:   34.0s remaining:    0.0s\n",
            "[CV] C=50, epsilon=0.5, kernel=rbf ...................................\n"
          ],
          "name": "stdout"
        },
        {
          "output_type": "stream",
          "text": [
            "/usr/local/lib/python3.6/dist-packages/sklearn/svm/base.py:193: FutureWarning: The default value of gamma will change from 'auto' to 'scale' in version 0.22 to account better for unscaled features. Set gamma explicitly to 'auto' or 'scale' to avoid this warning.\n",
            "  \"avoid this warning.\", FutureWarning)\n"
          ],
          "name": "stderr"
        },
        {
          "output_type": "stream",
          "text": [
            "[CV] ....... C=50, epsilon=0.5, kernel=rbf, score=0.467, total=   0.5s\n",
            "[Parallel(n_jobs=1)]: Done  51 out of  51 | elapsed:   34.6s remaining:    0.0s\n",
            "[CV] C=50, epsilon=0.5, kernel=sigmoid ...............................\n"
          ],
          "name": "stdout"
        },
        {
          "output_type": "stream",
          "text": [
            "/usr/local/lib/python3.6/dist-packages/sklearn/svm/base.py:193: FutureWarning: The default value of gamma will change from 'auto' to 'scale' in version 0.22 to account better for unscaled features. Set gamma explicitly to 'auto' or 'scale' to avoid this warning.\n",
            "  \"avoid this warning.\", FutureWarning)\n"
          ],
          "name": "stderr"
        },
        {
          "output_type": "stream",
          "text": [
            "[CV] ... C=50, epsilon=0.5, kernel=sigmoid, score=0.396, total=   0.2s\n",
            "[Parallel(n_jobs=1)]: Done  52 out of  52 | elapsed:   34.8s remaining:    0.0s\n",
            "[CV] C=50, epsilon=0.5, kernel=sigmoid ...............................\n",
            "[CV] ... C=50, epsilon=0.5, kernel=sigmoid, score=0.407, total=   0.2s\n",
            "[Parallel(n_jobs=1)]: Done  53 out of  53 | elapsed:   35.0s remaining:    0.0s\n",
            "[CV] C=50, epsilon=0.5, kernel=sigmoid ...............................\n"
          ],
          "name": "stdout"
        },
        {
          "output_type": "stream",
          "text": [
            "/usr/local/lib/python3.6/dist-packages/sklearn/svm/base.py:193: FutureWarning: The default value of gamma will change from 'auto' to 'scale' in version 0.22 to account better for unscaled features. Set gamma explicitly to 'auto' or 'scale' to avoid this warning.\n",
            "  \"avoid this warning.\", FutureWarning)\n",
            "/usr/local/lib/python3.6/dist-packages/sklearn/svm/base.py:193: FutureWarning: The default value of gamma will change from 'auto' to 'scale' in version 0.22 to account better for unscaled features. Set gamma explicitly to 'auto' or 'scale' to avoid this warning.\n",
            "  \"avoid this warning.\", FutureWarning)\n"
          ],
          "name": "stderr"
        },
        {
          "output_type": "stream",
          "text": [
            "[CV] ... C=50, epsilon=0.5, kernel=sigmoid, score=0.384, total=   0.2s\n",
            "[Parallel(n_jobs=1)]: Done  54 out of  54 | elapsed:   35.2s remaining:    0.0s\n",
            "[CV] C=100, epsilon=0.1, kernel=rbf ..................................\n"
          ],
          "name": "stdout"
        },
        {
          "output_type": "stream",
          "text": [
            "/usr/local/lib/python3.6/dist-packages/sklearn/svm/base.py:193: FutureWarning: The default value of gamma will change from 'auto' to 'scale' in version 0.22 to account better for unscaled features. Set gamma explicitly to 'auto' or 'scale' to avoid this warning.\n",
            "  \"avoid this warning.\", FutureWarning)\n"
          ],
          "name": "stderr"
        },
        {
          "output_type": "stream",
          "text": [
            "[CV] ...... C=100, epsilon=0.1, kernel=rbf, score=0.395, total=   1.3s\n",
            "[Parallel(n_jobs=1)]: Done  55 out of  55 | elapsed:   36.5s remaining:    0.0s\n",
            "[CV] C=100, epsilon=0.1, kernel=rbf ..................................\n"
          ],
          "name": "stdout"
        },
        {
          "output_type": "stream",
          "text": [
            "/usr/local/lib/python3.6/dist-packages/sklearn/svm/base.py:193: FutureWarning: The default value of gamma will change from 'auto' to 'scale' in version 0.22 to account better for unscaled features. Set gamma explicitly to 'auto' or 'scale' to avoid this warning.\n",
            "  \"avoid this warning.\", FutureWarning)\n"
          ],
          "name": "stderr"
        },
        {
          "output_type": "stream",
          "text": [
            "[CV] ...... C=100, epsilon=0.1, kernel=rbf, score=0.469, total=   1.5s\n",
            "[Parallel(n_jobs=1)]: Done  56 out of  56 | elapsed:   37.9s remaining:    0.0s\n",
            "[CV] C=100, epsilon=0.1, kernel=rbf ..................................\n"
          ],
          "name": "stdout"
        },
        {
          "output_type": "stream",
          "text": [
            "/usr/local/lib/python3.6/dist-packages/sklearn/svm/base.py:193: FutureWarning: The default value of gamma will change from 'auto' to 'scale' in version 0.22 to account better for unscaled features. Set gamma explicitly to 'auto' or 'scale' to avoid this warning.\n",
            "  \"avoid this warning.\", FutureWarning)\n"
          ],
          "name": "stderr"
        },
        {
          "output_type": "stream",
          "text": [
            "[CV] ...... C=100, epsilon=0.1, kernel=rbf, score=0.461, total=   1.5s\n",
            "[Parallel(n_jobs=1)]: Done  57 out of  57 | elapsed:   39.5s remaining:    0.0s\n",
            "[CV] C=100, epsilon=0.1, kernel=sigmoid ..............................\n"
          ],
          "name": "stdout"
        },
        {
          "output_type": "stream",
          "text": [
            "/usr/local/lib/python3.6/dist-packages/sklearn/svm/base.py:193: FutureWarning: The default value of gamma will change from 'auto' to 'scale' in version 0.22 to account better for unscaled features. Set gamma explicitly to 'auto' or 'scale' to avoid this warning.\n",
            "  \"avoid this warning.\", FutureWarning)\n"
          ],
          "name": "stderr"
        },
        {
          "output_type": "stream",
          "text": [
            "[CV] .. C=100, epsilon=0.1, kernel=sigmoid, score=0.361, total=   0.6s\n",
            "[Parallel(n_jobs=1)]: Done  58 out of  58 | elapsed:   40.1s remaining:    0.0s\n",
            "[CV] C=100, epsilon=0.1, kernel=sigmoid ..............................\n"
          ],
          "name": "stdout"
        },
        {
          "output_type": "stream",
          "text": [
            "/usr/local/lib/python3.6/dist-packages/sklearn/svm/base.py:193: FutureWarning: The default value of gamma will change from 'auto' to 'scale' in version 0.22 to account better for unscaled features. Set gamma explicitly to 'auto' or 'scale' to avoid this warning.\n",
            "  \"avoid this warning.\", FutureWarning)\n"
          ],
          "name": "stderr"
        },
        {
          "output_type": "stream",
          "text": [
            "[CV] .. C=100, epsilon=0.1, kernel=sigmoid, score=0.373, total=   0.6s\n",
            "[Parallel(n_jobs=1)]: Done  59 out of  59 | elapsed:   40.7s remaining:    0.0s\n",
            "[CV] C=100, epsilon=0.1, kernel=sigmoid ..............................\n"
          ],
          "name": "stdout"
        },
        {
          "output_type": "stream",
          "text": [
            "/usr/local/lib/python3.6/dist-packages/sklearn/svm/base.py:193: FutureWarning: The default value of gamma will change from 'auto' to 'scale' in version 0.22 to account better for unscaled features. Set gamma explicitly to 'auto' or 'scale' to avoid this warning.\n",
            "  \"avoid this warning.\", FutureWarning)\n"
          ],
          "name": "stderr"
        },
        {
          "output_type": "stream",
          "text": [
            "[CV] .. C=100, epsilon=0.1, kernel=sigmoid, score=0.383, total=   0.6s\n",
            "[Parallel(n_jobs=1)]: Done  60 out of  60 | elapsed:   41.2s remaining:    0.0s\n",
            "[CV] C=100, epsilon=0.33, kernel=rbf .................................\n"
          ],
          "name": "stdout"
        },
        {
          "output_type": "stream",
          "text": [
            "/usr/local/lib/python3.6/dist-packages/sklearn/svm/base.py:193: FutureWarning: The default value of gamma will change from 'auto' to 'scale' in version 0.22 to account better for unscaled features. Set gamma explicitly to 'auto' or 'scale' to avoid this warning.\n",
            "  \"avoid this warning.\", FutureWarning)\n"
          ],
          "name": "stderr"
        },
        {
          "output_type": "stream",
          "text": [
            "[CV] ..... C=100, epsilon=0.33, kernel=rbf, score=0.437, total=   0.8s\n",
            "[Parallel(n_jobs=1)]: Done  61 out of  61 | elapsed:   42.0s remaining:    0.0s\n",
            "[CV] C=100, epsilon=0.33, kernel=rbf .................................\n"
          ],
          "name": "stdout"
        },
        {
          "output_type": "stream",
          "text": [
            "/usr/local/lib/python3.6/dist-packages/sklearn/svm/base.py:193: FutureWarning: The default value of gamma will change from 'auto' to 'scale' in version 0.22 to account better for unscaled features. Set gamma explicitly to 'auto' or 'scale' to avoid this warning.\n",
            "  \"avoid this warning.\", FutureWarning)\n"
          ],
          "name": "stderr"
        },
        {
          "output_type": "stream",
          "text": [
            "[CV] ..... C=100, epsilon=0.33, kernel=rbf, score=0.497, total=   0.8s\n",
            "[Parallel(n_jobs=1)]: Done  62 out of  62 | elapsed:   42.8s remaining:    0.0s\n",
            "[CV] C=100, epsilon=0.33, kernel=rbf .................................\n"
          ],
          "name": "stdout"
        },
        {
          "output_type": "stream",
          "text": [
            "/usr/local/lib/python3.6/dist-packages/sklearn/svm/base.py:193: FutureWarning: The default value of gamma will change from 'auto' to 'scale' in version 0.22 to account better for unscaled features. Set gamma explicitly to 'auto' or 'scale' to avoid this warning.\n",
            "  \"avoid this warning.\", FutureWarning)\n"
          ],
          "name": "stderr"
        },
        {
          "output_type": "stream",
          "text": [
            "[CV] ..... C=100, epsilon=0.33, kernel=rbf, score=0.473, total=   0.7s\n",
            "[Parallel(n_jobs=1)]: Done  63 out of  63 | elapsed:   43.5s remaining:    0.0s\n",
            "[CV] C=100, epsilon=0.33, kernel=sigmoid .............................\n"
          ],
          "name": "stdout"
        },
        {
          "output_type": "stream",
          "text": [
            "/usr/local/lib/python3.6/dist-packages/sklearn/svm/base.py:193: FutureWarning: The default value of gamma will change from 'auto' to 'scale' in version 0.22 to account better for unscaled features. Set gamma explicitly to 'auto' or 'scale' to avoid this warning.\n",
            "  \"avoid this warning.\", FutureWarning)\n"
          ],
          "name": "stderr"
        },
        {
          "output_type": "stream",
          "text": [
            "[CV] . C=100, epsilon=0.33, kernel=sigmoid, score=0.366, total=   0.3s\n",
            "[Parallel(n_jobs=1)]: Done  64 out of  64 | elapsed:   43.8s remaining:    0.0s\n",
            "[CV] C=100, epsilon=0.33, kernel=sigmoid .............................\n"
          ],
          "name": "stdout"
        },
        {
          "output_type": "stream",
          "text": [
            "/usr/local/lib/python3.6/dist-packages/sklearn/svm/base.py:193: FutureWarning: The default value of gamma will change from 'auto' to 'scale' in version 0.22 to account better for unscaled features. Set gamma explicitly to 'auto' or 'scale' to avoid this warning.\n",
            "  \"avoid this warning.\", FutureWarning)\n"
          ],
          "name": "stderr"
        },
        {
          "output_type": "stream",
          "text": [
            "[CV] . C=100, epsilon=0.33, kernel=sigmoid, score=0.378, total=   0.3s\n",
            "[Parallel(n_jobs=1)]: Done  65 out of  65 | elapsed:   44.1s remaining:    0.0s\n",
            "[CV] C=100, epsilon=0.33, kernel=sigmoid .............................\n"
          ],
          "name": "stdout"
        },
        {
          "output_type": "stream",
          "text": [
            "/usr/local/lib/python3.6/dist-packages/sklearn/svm/base.py:193: FutureWarning: The default value of gamma will change from 'auto' to 'scale' in version 0.22 to account better for unscaled features. Set gamma explicitly to 'auto' or 'scale' to avoid this warning.\n",
            "  \"avoid this warning.\", FutureWarning)\n"
          ],
          "name": "stderr"
        },
        {
          "output_type": "stream",
          "text": [
            "[CV] . C=100, epsilon=0.33, kernel=sigmoid, score=0.384, total=   0.3s\n",
            "[Parallel(n_jobs=1)]: Done  66 out of  66 | elapsed:   44.5s remaining:    0.0s\n",
            "[CV] C=100, epsilon=0.5, kernel=rbf ..................................\n"
          ],
          "name": "stdout"
        },
        {
          "output_type": "stream",
          "text": [
            "/usr/local/lib/python3.6/dist-packages/sklearn/svm/base.py:193: FutureWarning: The default value of gamma will change from 'auto' to 'scale' in version 0.22 to account better for unscaled features. Set gamma explicitly to 'auto' or 'scale' to avoid this warning.\n",
            "  \"avoid this warning.\", FutureWarning)\n"
          ],
          "name": "stderr"
        },
        {
          "output_type": "stream",
          "text": [
            "[CV] ...... C=100, epsilon=0.5, kernel=rbf, score=0.489, total=   0.6s\n",
            "[Parallel(n_jobs=1)]: Done  67 out of  67 | elapsed:   45.1s remaining:    0.0s\n",
            "[CV] C=100, epsilon=0.5, kernel=rbf ..................................\n"
          ],
          "name": "stdout"
        },
        {
          "output_type": "stream",
          "text": [
            "/usr/local/lib/python3.6/dist-packages/sklearn/svm/base.py:193: FutureWarning: The default value of gamma will change from 'auto' to 'scale' in version 0.22 to account better for unscaled features. Set gamma explicitly to 'auto' or 'scale' to avoid this warning.\n",
            "  \"avoid this warning.\", FutureWarning)\n"
          ],
          "name": "stderr"
        },
        {
          "output_type": "stream",
          "text": [
            "[CV] ...... C=100, epsilon=0.5, kernel=rbf, score=0.529, total=   0.6s\n",
            "[Parallel(n_jobs=1)]: Done  68 out of  68 | elapsed:   45.6s remaining:    0.0s\n",
            "[CV] C=100, epsilon=0.5, kernel=rbf ..................................\n"
          ],
          "name": "stdout"
        },
        {
          "output_type": "stream",
          "text": [
            "/usr/local/lib/python3.6/dist-packages/sklearn/svm/base.py:193: FutureWarning: The default value of gamma will change from 'auto' to 'scale' in version 0.22 to account better for unscaled features. Set gamma explicitly to 'auto' or 'scale' to avoid this warning.\n",
            "  \"avoid this warning.\", FutureWarning)\n"
          ],
          "name": "stderr"
        },
        {
          "output_type": "stream",
          "text": [
            "[CV] ...... C=100, epsilon=0.5, kernel=rbf, score=0.488, total=   0.5s\n",
            "[Parallel(n_jobs=1)]: Done  69 out of  69 | elapsed:   46.1s remaining:    0.0s\n",
            "[CV] C=100, epsilon=0.5, kernel=sigmoid ..............................\n",
            "[CV] .. C=100, epsilon=0.5, kernel=sigmoid, score=0.396, total=   0.2s\n",
            "[Parallel(n_jobs=1)]: Done  70 out of  70 | elapsed:   46.3s remaining:    0.0s\n",
            "[CV] C=100, epsilon=0.5, kernel=sigmoid ..............................\n"
          ],
          "name": "stdout"
        },
        {
          "output_type": "stream",
          "text": [
            "/usr/local/lib/python3.6/dist-packages/sklearn/svm/base.py:193: FutureWarning: The default value of gamma will change from 'auto' to 'scale' in version 0.22 to account better for unscaled features. Set gamma explicitly to 'auto' or 'scale' to avoid this warning.\n",
            "  \"avoid this warning.\", FutureWarning)\n",
            "/usr/local/lib/python3.6/dist-packages/sklearn/svm/base.py:193: FutureWarning: The default value of gamma will change from 'auto' to 'scale' in version 0.22 to account better for unscaled features. Set gamma explicitly to 'auto' or 'scale' to avoid this warning.\n",
            "  \"avoid this warning.\", FutureWarning)\n"
          ],
          "name": "stderr"
        },
        {
          "output_type": "stream",
          "text": [
            "[CV] .. C=100, epsilon=0.5, kernel=sigmoid, score=0.407, total=   0.2s\n",
            "[Parallel(n_jobs=1)]: Done  71 out of  71 | elapsed:   46.5s remaining:    0.0s\n",
            "[CV] C=100, epsilon=0.5, kernel=sigmoid ..............................\n",
            "[CV] .. C=100, epsilon=0.5, kernel=sigmoid, score=0.384, total=   0.2s\n",
            "[Parallel(n_jobs=1)]: Done  72 out of  72 | elapsed:   46.7s remaining:    0.0s\n",
            "[Parallel(n_jobs=1)]: Done  72 out of  72 | elapsed:   46.7s finished\n"
          ],
          "name": "stdout"
        },
        {
          "output_type": "stream",
          "text": [
            "/usr/local/lib/python3.6/dist-packages/sklearn/svm/base.py:193: FutureWarning: The default value of gamma will change from 'auto' to 'scale' in version 0.22 to account better for unscaled features. Set gamma explicitly to 'auto' or 'scale' to avoid this warning.\n",
            "  \"avoid this warning.\", FutureWarning)\n",
            "/usr/local/lib/python3.6/dist-packages/sklearn/svm/base.py:193: FutureWarning: The default value of gamma will change from 'auto' to 'scale' in version 0.22 to account better for unscaled features. Set gamma explicitly to 'auto' or 'scale' to avoid this warning.\n",
            "  \"avoid this warning.\", FutureWarning)\n"
          ],
          "name": "stderr"
        },
        {
          "output_type": "execute_result",
          "data": {
            "text/plain": [
              "GridSearchCV(cv='warn', error_score='raise-deprecating',\n",
              "             estimator=SVR(C=1.0, cache_size=200, coef0=0.0, degree=3,\n",
              "                           epsilon=0.1, gamma='auto_deprecated', kernel='rbf',\n",
              "                           max_iter=-1, shrinking=True, tol=0.001,\n",
              "                           verbose=False),\n",
              "             iid='warn', n_jobs=None,\n",
              "             param_grid={'C': [1, 10, 50, 100], 'epsilon': [0.1, 0.33, 0.5],\n",
              "                         'kernel': ['rbf', 'sigmoid']},\n",
              "             pre_dispatch='2*n_jobs', refit='neg_mean_absolute_error',\n",
              "             return_train_score=False, scoring=make_scorer(mean_absolute_error),\n",
              "             verbose=100)"
            ]
          },
          "metadata": {
            "tags": []
          },
          "execution_count": 88
        }
      ]
    },
    {
      "cell_type": "code",
      "metadata": {
        "id": "jzKE73CGXR3i",
        "colab_type": "code",
        "colab": {
          "base_uri": "https://localhost:8080/",
          "height": 173
        },
        "outputId": "634f0ab9-81a5-4dbd-aa9f-ce11410d77ac"
      },
      "source": [
        "svr2 = SVR()\n",
        "svr2.set_params(**third_grid.best_params_)\n",
        "svr2.fit(Xtrain,ytrain)\n",
        "svr2_model = lr2.predict(Xtest)\n",
        "print('R² score: '+str(svr2.score(Xtest,ytest)))\n",
        "print('MAPE: '+str(np.mean(np.abs((ytest-svr2_model)/ytest))*100))\n",
        "print('Explained variance score: '+ str(explained_variance_score(ytest,svr2_model)))\n",
        "print('Max error: '+ str(max_error(ytest,svr2_model)))\n",
        "print('Mean absolute error: '+str(mean_absolute_error(ytest,svr2_model)))\n",
        "print('Mean squared log error: '+str(mean_squared_log_error(ytest,svr2_model)))"
      ],
      "execution_count": 89,
      "outputs": [
        {
          "output_type": "stream",
          "text": [
            "/usr/local/lib/python3.6/dist-packages/sklearn/svm/base.py:193: FutureWarning: The default value of gamma will change from 'auto' to 'scale' in version 0.22 to account better for unscaled features. Set gamma explicitly to 'auto' or 'scale' to avoid this warning.\n",
            "  \"avoid this warning.\", FutureWarning)\n"
          ],
          "name": "stderr"
        },
        {
          "output_type": "stream",
          "text": [
            "R² score: -37.738985110586455\n",
            "MAPE: 10.249329143592947\n",
            "Explained variance score: 0.022753992329419437\n",
            "Max error: 3.2644439385063233\n",
            "Mean absolute error: 0.36809210530415876\n",
            "Mean squared log error: 0.01282204559081877\n"
          ],
          "name": "stdout"
        }
      ]
    },
    {
      "cell_type": "markdown",
      "metadata": {
        "id": "rqzjw-YnYi5u",
        "colab_type": "text"
      },
      "source": [
        "4. Passive Aggressive Regressor"
      ]
    },
    {
      "cell_type": "code",
      "metadata": {
        "id": "pOC4ly4gXy43",
        "colab_type": "code",
        "colab": {
          "base_uri": "https://localhost:8080/",
          "height": 54
        },
        "outputId": "5add612a-706e-4c25-b003-a5c0ce9c6aef"
      },
      "source": [
        "pa_grid = PassiveAggressiveRegressor()\n",
        "pa_grid.get_params().keys()"
      ],
      "execution_count": 90,
      "outputs": [
        {
          "output_type": "execute_result",
          "data": {
            "text/plain": [
              "dict_keys(['C', 'average', 'early_stopping', 'epsilon', 'fit_intercept', 'loss', 'max_iter', 'n_iter_no_change', 'random_state', 'shuffle', 'tol', 'validation_fraction', 'verbose', 'warm_start'])"
            ]
          },
          "metadata": {
            "tags": []
          },
          "execution_count": 90
        }
      ]
    },
    {
      "cell_type": "code",
      "metadata": {
        "id": "Nib1LxDGYvVM",
        "colab_type": "code",
        "colab": {
          "base_uri": "https://localhost:8080/",
          "height": 2264
        },
        "outputId": "ba8aed74-29a4-40bc-fdff-76aff6e5973a"
      },
      "source": [
        "dict_pa={'C':[1,10,50,100],'epsilon':[.001,.01,.1],'random_state':[42]}\n",
        "fourth_grid = GridSearchCV(pa_grid,param_grid=dict_pa,scoring=make_scorer(mean_absolute_error), verbose=100, refit='neg_mean_absolute_error', return_train_score=False)\n",
        "fourth_grid.fit(Xtrain,ytrain)"
      ],
      "execution_count": 92,
      "outputs": [
        {
          "output_type": "stream",
          "text": [
            "Fitting 3 folds for each of 12 candidates, totalling 36 fits\n",
            "[Parallel(n_jobs=1)]: Using backend SequentialBackend with 1 concurrent workers.\n",
            "[CV] C=1, epsilon=0.001, random_state=42 .............................\n",
            "[CV] . C=1, epsilon=0.001, random_state=42, score=0.366, total=   0.0s\n",
            "[Parallel(n_jobs=1)]: Done   1 out of   1 | elapsed:    0.0s remaining:    0.0s\n",
            "[CV] C=1, epsilon=0.001, random_state=42 .............................\n",
            "[CV] . C=1, epsilon=0.001, random_state=42, score=0.457, total=   0.0s\n",
            "[Parallel(n_jobs=1)]: Done   2 out of   2 | elapsed:    0.0s remaining:    0.0s\n",
            "[CV] C=1, epsilon=0.001, random_state=42 .............................\n",
            "[CV] . C=1, epsilon=0.001, random_state=42, score=0.478, total=   0.0s\n",
            "[Parallel(n_jobs=1)]: Done   3 out of   3 | elapsed:    0.0s remaining:    0.0s\n",
            "[CV] C=1, epsilon=0.01, random_state=42 ..............................\n",
            "[CV] .. C=1, epsilon=0.01, random_state=42, score=0.365, total=   0.0s\n",
            "[Parallel(n_jobs=1)]: Done   4 out of   4 | elapsed:    0.0s remaining:    0.0s\n",
            "[CV] C=1, epsilon=0.01, random_state=42 ..............................\n",
            "[CV] .. C=1, epsilon=0.01, random_state=42, score=0.451, total=   0.0s\n",
            "[Parallel(n_jobs=1)]: Done   5 out of   5 | elapsed:    0.0s remaining:    0.0s\n",
            "[CV] C=1, epsilon=0.01, random_state=42 ..............................\n",
            "[CV] .. C=1, epsilon=0.01, random_state=42, score=0.472, total=   0.0s\n",
            "[Parallel(n_jobs=1)]: Done   6 out of   6 | elapsed:    0.0s remaining:    0.0s\n",
            "[CV] C=1, epsilon=0.1, random_state=42 ...............................\n",
            "[CV] ... C=1, epsilon=0.1, random_state=42, score=0.355, total=   0.0s\n",
            "[Parallel(n_jobs=1)]: Done   7 out of   7 | elapsed:    0.0s remaining:    0.0s\n",
            "[CV] C=1, epsilon=0.1, random_state=42 ...............................\n",
            "[CV] ... C=1, epsilon=0.1, random_state=42, score=0.403, total=   0.0s\n",
            "[Parallel(n_jobs=1)]: Done   8 out of   8 | elapsed:    0.0s remaining:    0.0s\n",
            "[CV] C=1, epsilon=0.1, random_state=42 ...............................\n",
            "[CV] ... C=1, epsilon=0.1, random_state=42, score=0.424, total=   0.0s\n",
            "[Parallel(n_jobs=1)]: Done   9 out of   9 | elapsed:    0.1s remaining:    0.0s\n",
            "[CV] C=10, epsilon=0.001, random_state=42 ............................\n",
            "[CV]  C=10, epsilon=0.001, random_state=42, score=0.366, total=   0.0s\n",
            "[Parallel(n_jobs=1)]: Done  10 out of  10 | elapsed:    0.1s remaining:    0.0s\n",
            "[CV] C=10, epsilon=0.001, random_state=42 ............................\n",
            "[CV]  C=10, epsilon=0.001, random_state=42, score=0.457, total=   0.0s\n",
            "[Parallel(n_jobs=1)]: Done  11 out of  11 | elapsed:    0.1s remaining:    0.0s\n",
            "[CV] C=10, epsilon=0.001, random_state=42 ............................\n",
            "[CV]  C=10, epsilon=0.001, random_state=42, score=0.478, total=   0.0s\n",
            "[Parallel(n_jobs=1)]: Done  12 out of  12 | elapsed:    0.1s remaining:    0.0s\n",
            "[CV] C=10, epsilon=0.01, random_state=42 .............................\n",
            "[CV] . C=10, epsilon=0.01, random_state=42, score=0.365, total=   0.0s\n",
            "[Parallel(n_jobs=1)]: Done  13 out of  13 | elapsed:    0.1s remaining:    0.0s\n",
            "[CV] C=10, epsilon=0.01, random_state=42 .............................\n",
            "[CV] . C=10, epsilon=0.01, random_state=42, score=0.451, total=   0.0s\n",
            "[Parallel(n_jobs=1)]: Done  14 out of  14 | elapsed:    0.1s remaining:    0.0s\n",
            "[CV] C=10, epsilon=0.01, random_state=42 .............................\n",
            "[CV] . C=10, epsilon=0.01, random_state=42, score=0.472, total=   0.0s\n",
            "[Parallel(n_jobs=1)]: Done  15 out of  15 | elapsed:    0.1s remaining:    0.0s\n",
            "[CV] C=10, epsilon=0.1, random_state=42 ..............................\n",
            "[CV] .. C=10, epsilon=0.1, random_state=42, score=0.355, total=   0.0s\n",
            "[Parallel(n_jobs=1)]: Done  16 out of  16 | elapsed:    0.1s remaining:    0.0s\n",
            "[CV] C=10, epsilon=0.1, random_state=42 ..............................\n",
            "[CV] .. C=10, epsilon=0.1, random_state=42, score=0.403, total=   0.0s\n",
            "[Parallel(n_jobs=1)]: Done  17 out of  17 | elapsed:    0.1s remaining:    0.0s\n",
            "[CV] C=10, epsilon=0.1, random_state=42 ..............................\n",
            "[CV] .. C=10, epsilon=0.1, random_state=42, score=0.424, total=   0.0s\n",
            "[Parallel(n_jobs=1)]: Done  18 out of  18 | elapsed:    0.1s remaining:    0.0s\n",
            "[CV] C=50, epsilon=0.001, random_state=42 ............................\n",
            "[CV]  C=50, epsilon=0.001, random_state=42, score=0.366, total=   0.0s\n",
            "[Parallel(n_jobs=1)]: Done  19 out of  19 | elapsed:    0.1s remaining:    0.0s\n",
            "[CV] C=50, epsilon=0.001, random_state=42 ............................\n",
            "[CV]  C=50, epsilon=0.001, random_state=42, score=0.457, total=   0.0s\n",
            "[Parallel(n_jobs=1)]: Done  20 out of  20 | elapsed:    0.1s remaining:    0.0s\n",
            "[CV] C=50, epsilon=0.001, random_state=42 ............................\n",
            "[CV]  C=50, epsilon=0.001, random_state=42, score=0.478, total=   0.0s\n",
            "[Parallel(n_jobs=1)]: Done  21 out of  21 | elapsed:    0.1s remaining:    0.0s\n",
            "[CV] C=50, epsilon=0.01, random_state=42 .............................\n",
            "[CV] . C=50, epsilon=0.01, random_state=42, score=0.365, total=   0.0s\n",
            "[Parallel(n_jobs=1)]: Done  22 out of  22 | elapsed:    0.1s remaining:    0.0s\n",
            "[CV] C=50, epsilon=0.01, random_state=42 .............................\n",
            "[CV] . C=50, epsilon=0.01, random_state=42, score=0.451, total=   0.0s\n",
            "[Parallel(n_jobs=1)]: Done  23 out of  23 | elapsed:    0.1s remaining:    0.0s\n",
            "[CV] C=50, epsilon=0.01, random_state=42 .............................\n",
            "[CV] . C=50, epsilon=0.01, random_state=42, score=0.472, total=   0.0s\n",
            "[Parallel(n_jobs=1)]: Done  24 out of  24 | elapsed:    0.1s remaining:    0.0s\n",
            "[CV] C=50, epsilon=0.1, random_state=42 ..............................\n",
            "[CV] .. C=50, epsilon=0.1, random_state=42, score=0.355, total=   0.0s\n",
            "[Parallel(n_jobs=1)]: Done  25 out of  25 | elapsed:    0.1s remaining:    0.0s\n",
            "[CV] C=50, epsilon=0.1, random_state=42 ..............................\n",
            "[CV] .. C=50, epsilon=0.1, random_state=42, score=0.403, total=   0.0s\n",
            "[Parallel(n_jobs=1)]: Done  26 out of  26 | elapsed:    0.1s remaining:    0.0s\n",
            "[CV] C=50, epsilon=0.1, random_state=42 ..............................\n",
            "[CV] .. C=50, epsilon=0.1, random_state=42, score=0.424, total=   0.0s\n",
            "[Parallel(n_jobs=1)]: Done  27 out of  27 | elapsed:    0.1s remaining:    0.0s\n",
            "[CV] C=100, epsilon=0.001, random_state=42 ...........................\n",
            "[CV]  C=100, epsilon=0.001, random_state=42, score=0.366, total=   0.0s\n",
            "[Parallel(n_jobs=1)]: Done  28 out of  28 | elapsed:    0.1s remaining:    0.0s\n",
            "[CV] C=100, epsilon=0.001, random_state=42 ...........................\n",
            "[CV]  C=100, epsilon=0.001, random_state=42, score=0.457, total=   0.0s\n",
            "[Parallel(n_jobs=1)]: Done  29 out of  29 | elapsed:    0.1s remaining:    0.0s\n",
            "[CV] C=100, epsilon=0.001, random_state=42 ...........................\n",
            "[CV]  C=100, epsilon=0.001, random_state=42, score=0.478, total=   0.0s\n",
            "[Parallel(n_jobs=1)]: Done  30 out of  30 | elapsed:    0.2s remaining:    0.0s\n",
            "[CV] C=100, epsilon=0.01, random_state=42 ............................\n",
            "[CV]  C=100, epsilon=0.01, random_state=42, score=0.365, total=   0.0s\n",
            "[Parallel(n_jobs=1)]: Done  31 out of  31 | elapsed:    0.2s remaining:    0.0s\n",
            "[CV] C=100, epsilon=0.01, random_state=42 ............................\n",
            "[CV]  C=100, epsilon=0.01, random_state=42, score=0.451, total=   0.0s\n",
            "[Parallel(n_jobs=1)]: Done  32 out of  32 | elapsed:    0.2s remaining:    0.0s\n",
            "[CV] C=100, epsilon=0.01, random_state=42 ............................\n",
            "[CV]  C=100, epsilon=0.01, random_state=42, score=0.472, total=   0.0s\n",
            "[Parallel(n_jobs=1)]: Done  33 out of  33 | elapsed:    0.2s remaining:    0.0s\n",
            "[CV] C=100, epsilon=0.1, random_state=42 .............................\n",
            "[CV] . C=100, epsilon=0.1, random_state=42, score=0.355, total=   0.0s\n",
            "[Parallel(n_jobs=1)]: Done  34 out of  34 | elapsed:    0.2s remaining:    0.0s\n",
            "[CV] C=100, epsilon=0.1, random_state=42 .............................\n",
            "[CV] . C=100, epsilon=0.1, random_state=42, score=0.403, total=   0.0s\n",
            "[Parallel(n_jobs=1)]: Done  35 out of  35 | elapsed:    0.2s remaining:    0.0s\n",
            "[CV] C=100, epsilon=0.1, random_state=42 .............................\n",
            "[CV] . C=100, epsilon=0.1, random_state=42, score=0.424, total=   0.0s\n",
            "[Parallel(n_jobs=1)]: Done  36 out of  36 | elapsed:    0.2s remaining:    0.0s\n",
            "[Parallel(n_jobs=1)]: Done  36 out of  36 | elapsed:    0.2s finished\n"
          ],
          "name": "stdout"
        },
        {
          "output_type": "stream",
          "text": [
            "/usr/local/lib/python3.6/dist-packages/sklearn/model_selection/_split.py:1978: FutureWarning: The default value of cv will change from 3 to 5 in version 0.22. Specify it explicitly to silence this warning.\n",
            "  warnings.warn(CV_WARNING, FutureWarning)\n"
          ],
          "name": "stderr"
        },
        {
          "output_type": "execute_result",
          "data": {
            "text/plain": [
              "GridSearchCV(cv='warn', error_score='raise-deprecating',\n",
              "             estimator=PassiveAggressiveRegressor(C=1.0, average=False,\n",
              "                                                  early_stopping=False,\n",
              "                                                  epsilon=0.1,\n",
              "                                                  fit_intercept=True,\n",
              "                                                  loss='epsilon_insensitive',\n",
              "                                                  max_iter=1000,\n",
              "                                                  n_iter_no_change=5,\n",
              "                                                  random_state=None,\n",
              "                                                  shuffle=True, tol=0.001,\n",
              "                                                  validation_fraction=0.1,\n",
              "                                                  verbose=0, warm_start=False),\n",
              "             iid='warn', n_jobs=None,\n",
              "             param_grid={'C': [1, 10, 50, 100], 'epsilon': [0.001, 0.01, 0.1],\n",
              "                         'random_state': [42]},\n",
              "             pre_dispatch='2*n_jobs', refit='neg_mean_absolute_error',\n",
              "             return_train_score=False, scoring=make_scorer(mean_absolute_error),\n",
              "             verbose=100)"
            ]
          },
          "metadata": {
            "tags": []
          },
          "execution_count": 92
        }
      ]
    },
    {
      "cell_type": "code",
      "metadata": {
        "id": "fvT7QBkQZLCu",
        "colab_type": "code",
        "colab": {
          "base_uri": "https://localhost:8080/",
          "height": 119
        },
        "outputId": "f4272245-cd38-407e-e308-75fd144bb29c"
      },
      "source": [
        "pa2 = PassiveAggressiveRegressor()\n",
        "pa2.set_params(**fourth_grid.best_params_)\n",
        "pa2.fit(Xtrain,ytrain)\n",
        "pa2_model = pa2.predict(Xtest)\n",
        "print('R² score: '+str(pa2.score(Xtest,ytest)))\n",
        "print('MAPE: '+str(np.mean(np.abs((ytest-pa2_model)/ytest))*100))\n",
        "print('Explained variance score: '+ str(explained_variance_score(ytest,pa2_model)))\n",
        "print('Max error: '+ str(max_error(ytest,pa2_model)))\n",
        "print('Mean absolute error: '+str(mean_absolute_error(ytest,pa2_model)))\n",
        "print('Mean squared log error: '+str(mean_squared_log_error(ytest,pa2_model)))"
      ],
      "execution_count": 93,
      "outputs": [
        {
          "output_type": "stream",
          "text": [
            "R² score: -0.21427303899847308\n",
            "MAPE: 11.211615302002272\n",
            "Explained variance score: 0.002520473426551817\n",
            "Max error: 3.490376486044104\n",
            "Mean absolute error: 0.3832513915545792\n",
            "Mean squared log error: 0.015691014676455884\n"
          ],
          "name": "stdout"
        }
      ]
    },
    {
      "cell_type": "markdown",
      "metadata": {
        "id": "zWN8-cN9aZST",
        "colab_type": "text"
      },
      "source": [
        "**Com e sem a busca de hiper-parâmetros, comparando-se os valores de MAPE, o preditor que obteve os menores resultados foi o Random Forest**"
      ]
    },
    {
      "cell_type": "code",
      "metadata": {
        "id": "a5TEM9icaErg",
        "colab_type": "code",
        "colab": {}
      },
      "source": [
        ""
      ],
      "execution_count": 0,
      "outputs": []
    }
  ]
}