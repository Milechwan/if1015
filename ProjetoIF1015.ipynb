{
  "nbformat": 4,
  "nbformat_minor": 0,
  "metadata": {
    "colab": {
      "name": "Copy of ProjetoIF1015.ipynb",
      "version": "0.3.2",
      "provenance": [],
      "collapsed_sections": [],
      "include_colab_link": true
    },
    "language_info": {
      "codemirror_mode": {
        "name": "ipython",
        "version": 3
      },
      "file_extension": ".py",
      "mimetype": "text/x-python",
      "name": "python",
      "nbconvert_exporter": "python",
      "pygments_lexer": "ipython3",
      "version": "3.6.7"
    },
    "kernelspec": {
      "display_name": "Python 3",
      "language": "python",
      "name": "python3"
    }
  },
  "cells": [
    {
      "cell_type": "markdown",
      "metadata": {
        "id": "view-in-github",
        "colab_type": "text"
      },
      "source": [
        "<a href=\"https://colab.research.google.com/github/Milechwan/if1015/blob/master/ProjetoIF1015.ipynb\" target=\"_parent\"><img src=\"https://colab.research.google.com/assets/colab-badge.svg\" alt=\"Open In Colab\"/></a>"
      ]
    },
    {
      "metadata": {
        "id": "uw4CPOkldeXu",
        "colab_type": "code",
        "outputId": "35171762-5b58-4f60-fe2b-67e5e1f7de6c",
        "colab": {
          "resources": {
            "http://localhost:8080/nbextensions/google.colab/files.js": {
              "data": "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",
              "ok": true,
              "headers": [
                [
                  "content-type",
                  "application/javascript"
                ]
              ],
              "status": 200,
              "status_text": ""
            }
          },
          "base_uri": "https://localhost:8080/",
          "height": 74
        }
      },
      "cell_type": "code",
      "source": [
        "from google.colab import files\n",
        "uploaded = files.upload()"
      ],
      "execution_count": 1,
      "outputs": [
        {
          "output_type": "display_data",
          "data": {
            "text/html": [
              "\n",
              "     <input type=\"file\" id=\"files-91cdea3b-d9b8-4cb9-9441-aeb1fccc731b\" name=\"files[]\" multiple disabled />\n",
              "     <output id=\"result-91cdea3b-d9b8-4cb9-9441-aeb1fccc731b\">\n",
              "      Upload widget is only available when the cell has been executed in the\n",
              "      current browser session. Please rerun this cell to enable.\n",
              "      </output>\n",
              "      <script src=\"/nbextensions/google.colab/files.js\"></script> "
            ],
            "text/plain": [
              "<IPython.core.display.HTML object>"
            ]
          },
          "metadata": {
            "tags": []
          }
        },
        {
          "output_type": "stream",
          "text": [
            "Saving googleplaystore.csv to googleplaystore.csv\n"
          ],
          "name": "stdout"
        }
      ]
    },
    {
      "metadata": {
        "id": "tJDwYKcHcpqf",
        "colab_type": "code",
        "colab": {}
      },
      "cell_type": "code",
      "source": [
        "import numpy as np\n",
        "import pandas as pd\n",
        "import io\n",
        "\n",
        "dataset = pd.read_csv(io.StringIO(uploaded['googleplaystore.csv'].decode(\"ISO-8859-1\")))"
      ],
      "execution_count": 0,
      "outputs": []
    },
    {
      "metadata": {
        "id": "dZjecn1qcpq0",
        "colab_type": "code",
        "outputId": "fcd5b027-f0f8-4454-aaf1-046ba78a03c0",
        "colab": {
          "base_uri": "https://localhost:8080/",
          "height": 340
        }
      },
      "cell_type": "code",
      "source": [
        "dataset.head()"
      ],
      "execution_count": 3,
      "outputs": [
        {
          "output_type": "execute_result",
          "data": {
            "text/html": [
              "<div>\n",
              "<style scoped>\n",
              "    .dataframe tbody tr th:only-of-type {\n",
              "        vertical-align: middle;\n",
              "    }\n",
              "\n",
              "    .dataframe tbody tr th {\n",
              "        vertical-align: top;\n",
              "    }\n",
              "\n",
              "    .dataframe thead th {\n",
              "        text-align: right;\n",
              "    }\n",
              "</style>\n",
              "<table border=\"1\" class=\"dataframe\">\n",
              "  <thead>\n",
              "    <tr style=\"text-align: right;\">\n",
              "      <th></th>\n",
              "      <th>App</th>\n",
              "      <th>Category</th>\n",
              "      <th>Rating</th>\n",
              "      <th>Reviews</th>\n",
              "      <th>Size</th>\n",
              "      <th>Installs</th>\n",
              "      <th>Type</th>\n",
              "      <th>Price</th>\n",
              "      <th>Content Rating</th>\n",
              "      <th>Genres</th>\n",
              "      <th>Last Updated</th>\n",
              "      <th>Current Ver</th>\n",
              "      <th>Android Ver</th>\n",
              "    </tr>\n",
              "  </thead>\n",
              "  <tbody>\n",
              "    <tr>\n",
              "      <th>0</th>\n",
              "      <td>Photo Editor &amp; Candy Camera &amp; Grid &amp; ScrapBook</td>\n",
              "      <td>ART_AND_DESIGN</td>\n",
              "      <td>4.1</td>\n",
              "      <td>159</td>\n",
              "      <td>19M</td>\n",
              "      <td>10,000+</td>\n",
              "      <td>Free</td>\n",
              "      <td>0</td>\n",
              "      <td>Everyone</td>\n",
              "      <td>Art &amp; Design</td>\n",
              "      <td>January 7, 2018</td>\n",
              "      <td>1.0.0</td>\n",
              "      <td>4.0.3 and up</td>\n",
              "    </tr>\n",
              "    <tr>\n",
              "      <th>1</th>\n",
              "      <td>Coloring book moana</td>\n",
              "      <td>ART_AND_DESIGN</td>\n",
              "      <td>3.9</td>\n",
              "      <td>967</td>\n",
              "      <td>14M</td>\n",
              "      <td>500,000+</td>\n",
              "      <td>Free</td>\n",
              "      <td>0</td>\n",
              "      <td>Everyone</td>\n",
              "      <td>Art &amp; Design;Pretend Play</td>\n",
              "      <td>January 15, 2018</td>\n",
              "      <td>2.0.0</td>\n",
              "      <td>4.0.3 and up</td>\n",
              "    </tr>\n",
              "    <tr>\n",
              "      <th>2</th>\n",
              "      <td>U Launcher Lite â FREE Live Cool Themes, Hid...</td>\n",
              "      <td>ART_AND_DESIGN</td>\n",
              "      <td>4.7</td>\n",
              "      <td>87510</td>\n",
              "      <td>8.7M</td>\n",
              "      <td>5,000,000+</td>\n",
              "      <td>Free</td>\n",
              "      <td>0</td>\n",
              "      <td>Everyone</td>\n",
              "      <td>Art &amp; Design</td>\n",
              "      <td>August 1, 2018</td>\n",
              "      <td>1.2.4</td>\n",
              "      <td>4.0.3 and up</td>\n",
              "    </tr>\n",
              "    <tr>\n",
              "      <th>3</th>\n",
              "      <td>Sketch - Draw &amp; Paint</td>\n",
              "      <td>ART_AND_DESIGN</td>\n",
              "      <td>4.5</td>\n",
              "      <td>215644</td>\n",
              "      <td>25M</td>\n",
              "      <td>50,000,000+</td>\n",
              "      <td>Free</td>\n",
              "      <td>0</td>\n",
              "      <td>Teen</td>\n",
              "      <td>Art &amp; Design</td>\n",
              "      <td>June 8, 2018</td>\n",
              "      <td>Varies with device</td>\n",
              "      <td>4.2 and up</td>\n",
              "    </tr>\n",
              "    <tr>\n",
              "      <th>4</th>\n",
              "      <td>Pixel Draw - Number Art Coloring Book</td>\n",
              "      <td>ART_AND_DESIGN</td>\n",
              "      <td>4.3</td>\n",
              "      <td>967</td>\n",
              "      <td>2.8M</td>\n",
              "      <td>100,000+</td>\n",
              "      <td>Free</td>\n",
              "      <td>0</td>\n",
              "      <td>Everyone</td>\n",
              "      <td>Art &amp; Design;Creativity</td>\n",
              "      <td>June 20, 2018</td>\n",
              "      <td>1.1</td>\n",
              "      <td>4.4 and up</td>\n",
              "    </tr>\n",
              "  </tbody>\n",
              "</table>\n",
              "</div>"
            ],
            "text/plain": [
              "                                                 App        Category  Rating  \\\n",
              "0     Photo Editor & Candy Camera & Grid & ScrapBook  ART_AND_DESIGN     4.1   \n",
              "1                                Coloring book moana  ART_AND_DESIGN     3.9   \n",
              "2  U Launcher Lite â FREE Live Cool Themes, Hid...  ART_AND_DESIGN     4.7   \n",
              "3                              Sketch - Draw & Paint  ART_AND_DESIGN     4.5   \n",
              "4              Pixel Draw - Number Art Coloring Book  ART_AND_DESIGN     4.3   \n",
              "\n",
              "  Reviews  Size     Installs  Type Price Content Rating  \\\n",
              "0     159   19M      10,000+  Free     0       Everyone   \n",
              "1     967   14M     500,000+  Free     0       Everyone   \n",
              "2   87510  8.7M   5,000,000+  Free     0       Everyone   \n",
              "3  215644   25M  50,000,000+  Free     0           Teen   \n",
              "4     967  2.8M     100,000+  Free     0       Everyone   \n",
              "\n",
              "                      Genres      Last Updated         Current Ver  \\\n",
              "0               Art & Design   January 7, 2018               1.0.0   \n",
              "1  Art & Design;Pretend Play  January 15, 2018               2.0.0   \n",
              "2               Art & Design    August 1, 2018               1.2.4   \n",
              "3               Art & Design      June 8, 2018  Varies with device   \n",
              "4    Art & Design;Creativity     June 20, 2018                 1.1   \n",
              "\n",
              "    Android Ver  \n",
              "0  4.0.3 and up  \n",
              "1  4.0.3 and up  \n",
              "2  4.0.3 and up  \n",
              "3    4.2 and up  \n",
              "4    4.4 and up  "
            ]
          },
          "metadata": {
            "tags": []
          },
          "execution_count": 3
        }
      ]
    },
    {
      "metadata": {
        "id": "QPzAU4Y83Mpd",
        "colab_type": "text"
      },
      "cell_type": "markdown",
      "source": [
        "*Remoção de entradas duplicadas baseando-se apenas no nome dos aplicativos*"
      ]
    },
    {
      "metadata": {
        "id": "_iZWUxdbcpxM",
        "colab_type": "code",
        "outputId": "145c2ace-530e-4afc-d5ae-0ad079cc5a7c",
        "colab": {
          "base_uri": "https://localhost:8080/",
          "height": 34
        }
      },
      "cell_type": "code",
      "source": [
        "dataset.drop_duplicates(subset=['App'],keep='last', inplace=True)\n",
        "print(len(dataset))"
      ],
      "execution_count": 4,
      "outputs": [
        {
          "output_type": "stream",
          "text": [
            "9660\n"
          ],
          "name": "stdout"
        }
      ]
    },
    {
      "metadata": {
        "id": "U5g-We71xchu",
        "colab_type": "code",
        "outputId": "0ca76d27-d7d8-4f9f-a226-ba22dcf68fad",
        "colab": {
          "base_uri": "https://localhost:8080/",
          "height": 255
        }
      },
      "cell_type": "code",
      "source": [
        "dataset.dtypes"
      ],
      "execution_count": 5,
      "outputs": [
        {
          "output_type": "execute_result",
          "data": {
            "text/plain": [
              "App                object\n",
              "Category           object\n",
              "Rating            float64\n",
              "Reviews            object\n",
              "Size               object\n",
              "Installs           object\n",
              "Type               object\n",
              "Price              object\n",
              "Content Rating     object\n",
              "Genres             object\n",
              "Last Updated       object\n",
              "Current Ver        object\n",
              "Android Ver        object\n",
              "dtype: object"
            ]
          },
          "metadata": {
            "tags": []
          },
          "execution_count": 5
        }
      ]
    },
    {
      "metadata": {
        "id": "jBPXT0WCqo2N",
        "colab_type": "code",
        "outputId": "dc25f67c-7c24-4fc3-e89c-427bed22e3aa",
        "colab": {
          "base_uri": "https://localhost:8080/",
          "height": 102
        }
      },
      "cell_type": "code",
      "source": [
        "dataset.Reviews.describe()"
      ],
      "execution_count": 6,
      "outputs": [
        {
          "output_type": "execute_result",
          "data": {
            "text/plain": [
              "count     9660\n",
              "unique    5333\n",
              "top          0\n",
              "freq       593\n",
              "Name: Reviews, dtype: object"
            ]
          },
          "metadata": {
            "tags": []
          },
          "execution_count": 6
        }
      ]
    },
    {
      "metadata": {
        "id": "ligJRjaHrbUA",
        "colab_type": "text"
      },
      "cell_type": "markdown",
      "source": [
        "Baseando-se nos valores mostrados no .head(), pode-se inferir que essa coluna se trata da quantidade de resenhas (uma forma de avaliação que os usuários fazem para um aplicativo), portanto o tipo da coluna deve ser numérico, e não object."
      ]
    },
    {
      "metadata": {
        "id": "di6iv2yIcprF",
        "colab_type": "code",
        "outputId": "a71fa047-065e-4950-cf74-a5b00b1f593c",
        "colab": {
          "base_uri": "https://localhost:8080/",
          "height": 435
        }
      },
      "cell_type": "code",
      "source": [
        "dataset.Reviews = pd.to_numeric(dataset.Reviews)"
      ],
      "execution_count": 7,
      "outputs": [
        {
          "output_type": "error",
          "ename": "ValueError",
          "evalue": "ignored",
          "traceback": [
            "\u001b[0;31m---------------------------------------------------------------------------\u001b[0m",
            "\u001b[0;31mValueError\u001b[0m                                Traceback (most recent call last)",
            "\u001b[0;32mpandas/_libs/lib.pyx\u001b[0m in \u001b[0;36mpandas._libs.lib.maybe_convert_numeric\u001b[0;34m()\u001b[0m\n",
            "\u001b[0;31mValueError\u001b[0m: Unable to parse string \"3.0M\"",
            "\nDuring handling of the above exception, another exception occurred:\n",
            "\u001b[0;31mValueError\u001b[0m                                Traceback (most recent call last)",
            "\u001b[0;32m<ipython-input-7-1a55a7e03316>\u001b[0m in \u001b[0;36m<module>\u001b[0;34m()\u001b[0m\n\u001b[0;32m----> 1\u001b[0;31m \u001b[0mdataset\u001b[0m\u001b[0;34m.\u001b[0m\u001b[0mReviews\u001b[0m \u001b[0;34m=\u001b[0m \u001b[0mpd\u001b[0m\u001b[0;34m.\u001b[0m\u001b[0mto_numeric\u001b[0m\u001b[0;34m(\u001b[0m\u001b[0mdataset\u001b[0m\u001b[0;34m.\u001b[0m\u001b[0mReviews\u001b[0m\u001b[0;34m)\u001b[0m\u001b[0;34m\u001b[0m\u001b[0;34m\u001b[0m\u001b[0m\n\u001b[0m",
            "\u001b[0;32m/usr/local/lib/python3.6/dist-packages/pandas/core/tools/numeric.py\u001b[0m in \u001b[0;36mto_numeric\u001b[0;34m(arg, errors, downcast)\u001b[0m\n\u001b[1;32m    133\u001b[0m             \u001b[0mcoerce_numeric\u001b[0m \u001b[0;34m=\u001b[0m \u001b[0;32mFalse\u001b[0m \u001b[0;32mif\u001b[0m \u001b[0merrors\u001b[0m \u001b[0;32min\u001b[0m \u001b[0;34m(\u001b[0m\u001b[0;34m'ignore'\u001b[0m\u001b[0;34m,\u001b[0m \u001b[0;34m'raise'\u001b[0m\u001b[0;34m)\u001b[0m \u001b[0;32melse\u001b[0m \u001b[0;32mTrue\u001b[0m\u001b[0;34m\u001b[0m\u001b[0;34m\u001b[0m\u001b[0m\n\u001b[1;32m    134\u001b[0m             values = lib.maybe_convert_numeric(values, set(),\n\u001b[0;32m--> 135\u001b[0;31m                                                coerce_numeric=coerce_numeric)\n\u001b[0m\u001b[1;32m    136\u001b[0m \u001b[0;34m\u001b[0m\u001b[0m\n\u001b[1;32m    137\u001b[0m     \u001b[0;32mexcept\u001b[0m \u001b[0mException\u001b[0m\u001b[0;34m:\u001b[0m\u001b[0;34m\u001b[0m\u001b[0;34m\u001b[0m\u001b[0m\n",
            "\u001b[0;32mpandas/_libs/lib.pyx\u001b[0m in \u001b[0;36mpandas._libs.lib.maybe_convert_numeric\u001b[0;34m()\u001b[0m\n",
            "\u001b[0;31mValueError\u001b[0m: Unable to parse string \"3.0M\" at position 9291"
          ]
        }
      ]
    },
    {
      "metadata": {
        "id": "X9_ubVRir5jh",
        "colab_type": "text"
      },
      "cell_type": "markdown",
      "source": [
        "Faz-se a verificação dessa coluna com valor de string e que impediu a conversão para tipo numérico"
      ]
    },
    {
      "metadata": {
        "id": "PlXoQuZJcprR",
        "colab_type": "code",
        "outputId": "5deb99b6-28a2-4900-81b4-b8c5e7eae692",
        "colab": {
          "base_uri": "https://localhost:8080/",
          "height": 114
        }
      },
      "cell_type": "code",
      "source": [
        "dataset[dataset['Reviews']=='3.0M']"
      ],
      "execution_count": 8,
      "outputs": [
        {
          "output_type": "execute_result",
          "data": {
            "text/html": [
              "<div>\n",
              "<style scoped>\n",
              "    .dataframe tbody tr th:only-of-type {\n",
              "        vertical-align: middle;\n",
              "    }\n",
              "\n",
              "    .dataframe tbody tr th {\n",
              "        vertical-align: top;\n",
              "    }\n",
              "\n",
              "    .dataframe thead th {\n",
              "        text-align: right;\n",
              "    }\n",
              "</style>\n",
              "<table border=\"1\" class=\"dataframe\">\n",
              "  <thead>\n",
              "    <tr style=\"text-align: right;\">\n",
              "      <th></th>\n",
              "      <th>App</th>\n",
              "      <th>Category</th>\n",
              "      <th>Rating</th>\n",
              "      <th>Reviews</th>\n",
              "      <th>Size</th>\n",
              "      <th>Installs</th>\n",
              "      <th>Type</th>\n",
              "      <th>Price</th>\n",
              "      <th>Content Rating</th>\n",
              "      <th>Genres</th>\n",
              "      <th>Last Updated</th>\n",
              "      <th>Current Ver</th>\n",
              "      <th>Android Ver</th>\n",
              "    </tr>\n",
              "  </thead>\n",
              "  <tbody>\n",
              "    <tr>\n",
              "      <th>10472</th>\n",
              "      <td>Life Made WI-Fi Touchscreen Photo Frame</td>\n",
              "      <td>1.9</td>\n",
              "      <td>19.0</td>\n",
              "      <td>3.0M</td>\n",
              "      <td>1,000+</td>\n",
              "      <td>Free</td>\n",
              "      <td>0</td>\n",
              "      <td>Everyone</td>\n",
              "      <td>NaN</td>\n",
              "      <td>February 11, 2018</td>\n",
              "      <td>1.0.19</td>\n",
              "      <td>4.0 and up</td>\n",
              "      <td>NaN</td>\n",
              "    </tr>\n",
              "  </tbody>\n",
              "</table>\n",
              "</div>"
            ],
            "text/plain": [
              "                                           App Category  Rating Reviews  \\\n",
              "10472  Life Made WI-Fi Touchscreen Photo Frame      1.9    19.0    3.0M   \n",
              "\n",
              "         Size Installs Type     Price Content Rating             Genres  \\\n",
              "10472  1,000+     Free    0  Everyone            NaN  February 11, 2018   \n",
              "\n",
              "      Last Updated Current Ver Android Ver  \n",
              "10472       1.0.19  4.0 and up         NaN  "
            ]
          },
          "metadata": {
            "tags": []
          },
          "execution_count": 8
        }
      ]
    },
    {
      "metadata": {
        "id": "Yb9l_SI7pYQw",
        "colab_type": "text"
      },
      "cell_type": "markdown",
      "source": [
        "**Aparentemente, a linha acima reflete uma entrada em que as informações estão nas colunas erradas. Ainda que isso fosse corrigido, não saberíamos sua categoria. Mais adiante, vemos que não há outras entradas além desta (caso fosse corrigida) sem a definição de categoria. Portanto, decidiu-se remover tal entrada.**"
      ]
    },
    {
      "metadata": {
        "id": "pxgzr8a74f3f",
        "colab_type": "code",
        "outputId": "254046e2-d3ad-48fd-ca0b-c4f4b97fa9f6",
        "colab": {
          "base_uri": "https://localhost:8080/",
          "height": 34
        }
      },
      "cell_type": "code",
      "source": [
        "len(dataset[dataset['Category'].isna()])"
      ],
      "execution_count": 9,
      "outputs": [
        {
          "output_type": "execute_result",
          "data": {
            "text/plain": [
              "0"
            ]
          },
          "metadata": {
            "tags": []
          },
          "execution_count": 9
        }
      ]
    },
    {
      "metadata": {
        "id": "gOUzrJ_0cpre",
        "colab_type": "code",
        "outputId": "2d8e76c2-7977-47e1-a8aa-97542cc074d4",
        "colab": {
          "base_uri": "https://localhost:8080/",
          "height": 170
        }
      },
      "cell_type": "code",
      "source": [
        "dataset = dataset.drop(dataset[dataset['Price']=='Everyone'].index, axis = 0)\n",
        "dataset.Reviews = pd.to_numeric(dataset.Reviews)\n",
        "dataset.Reviews.describe()"
      ],
      "execution_count": 10,
      "outputs": [
        {
          "output_type": "execute_result",
          "data": {
            "text/plain": [
              "count    9.659000e+03\n",
              "mean     2.166512e+05\n",
              "std      1.830738e+06\n",
              "min      0.000000e+00\n",
              "25%      2.500000e+01\n",
              "50%      9.690000e+02\n",
              "75%      2.940100e+04\n",
              "max      7.812821e+07\n",
              "Name: Reviews, dtype: float64"
            ]
          },
          "metadata": {
            "tags": []
          },
          "execution_count": 10
        }
      ]
    },
    {
      "metadata": {
        "id": "ahA5_19acprm",
        "colab_type": "code",
        "outputId": "3e76d43a-d0fe-445b-b314-1c64c9387b57",
        "colab": {
          "base_uri": "https://localhost:8080/",
          "height": 102
        }
      },
      "cell_type": "code",
      "source": [
        "dataset.Price.describe()"
      ],
      "execution_count": 11,
      "outputs": [
        {
          "output_type": "execute_result",
          "data": {
            "text/plain": [
              "count     9659\n",
              "unique      92\n",
              "top          0\n",
              "freq      8905\n",
              "Name: Price, dtype: object"
            ]
          },
          "metadata": {
            "tags": []
          },
          "execution_count": 11
        }
      ]
    },
    {
      "metadata": {
        "id": "sOAvEO1UIPrM",
        "colab_type": "text"
      },
      "cell_type": "markdown",
      "source": [
        "Vendo que a coluna de preço é de tipo objeto, faz-se uma verificação de como estão os dados de aplicativos pagos, ou seja, os que não são classificados na coluna Type como Free, que são 0"
      ]
    },
    {
      "metadata": {
        "id": "aymjkPNJcprx",
        "colab_type": "code",
        "outputId": "5add5459-bc8e-472a-f82a-d606da656597",
        "colab": {
          "base_uri": "https://localhost:8080/",
          "height": 1071
        }
      },
      "cell_type": "code",
      "source": [
        "dataset[dataset['Type']!='Free']['Price']"
      ],
      "execution_count": 12,
      "outputs": [
        {
          "output_type": "execute_result",
          "data": {
            "text/plain": [
              "290       $4.99\n",
              "291       $4.99\n",
              "427       $3.99\n",
              "478       $1.49\n",
              "479       $2.99\n",
              "480       $3.99\n",
              "481       $7.99\n",
              "571       $3.99\n",
              "851       $3.99\n",
              "854       $3.99\n",
              "995       $4.99\n",
              "1001      $2.99\n",
              "1227      $3.49\n",
              "1228      $4.99\n",
              "1335      $3.99\n",
              "1341      $2.99\n",
              "1347      $2.99\n",
              "1832      $1.99\n",
              "1833      $4.99\n",
              "1834      $4.99\n",
              "1835      $4.99\n",
              "1836      $5.99\n",
              "1837      $6.99\n",
              "1838      $9.99\n",
              "1839      $4.99\n",
              "2062      $3.99\n",
              "2085      $2.99\n",
              "2086      $3.99\n",
              "2087      $2.99\n",
              "2150      $3.99\n",
              "          ...  \n",
              "10453     $2.99\n",
              "10457     $2.99\n",
              "10459     $1.99\n",
              "10460     $1.00\n",
              "10517     $1.49\n",
              "10531     $3.49\n",
              "10540     $2.99\n",
              "10570     $1.99\n",
              "10583     $6.99\n",
              "10586     $0.99\n",
              "10594     $1.99\n",
              "10645     $8.99\n",
              "10650     $5.49\n",
              "10651     $6.49\n",
              "10661     $5.99\n",
              "10662     $6.49\n",
              "10664     $6.49\n",
              "10668     $6.49\n",
              "10669     $5.99\n",
              "10674     $5.49\n",
              "10675     $0.99\n",
              "10679     $2.99\n",
              "10682     $0.99\n",
              "10690     $0.99\n",
              "10697     $0.99\n",
              "10735     $0.99\n",
              "10760     $7.99\n",
              "10782    $16.99\n",
              "10785     $1.20\n",
              "10798     $1.04\n",
              "Name: Price, Length: 755, dtype: object"
            ]
          },
          "metadata": {
            "tags": []
          },
          "execution_count": 12
        }
      ]
    },
    {
      "metadata": {
        "id": "OMZm_UDhErDC",
        "colab_type": "text"
      },
      "cell_type": "markdown",
      "source": [
        "**Remoção do símbolo $ para transformar o tipo da coluna Price em numérico**"
      ]
    },
    {
      "metadata": {
        "id": "ENMiFFd6cpzN",
        "colab_type": "code",
        "outputId": "2134e678-63e4-48fd-e7cd-59a2101a4217",
        "colab": {
          "base_uri": "https://localhost:8080/",
          "height": 170
        }
      },
      "cell_type": "code",
      "source": [
        "dataset['Price'] = dataset['Price'].apply(lambda x: x[x.find('$')+1:] if x.find('$')>-1 else x)\n",
        "dataset['Price'] = pd.to_numeric(dataset['Price'])\n",
        "dataset.Price.describe()"
      ],
      "execution_count": 13,
      "outputs": [
        {
          "output_type": "execute_result",
          "data": {
            "text/plain": [
              "count    9659.000000\n",
              "mean        1.097231\n",
              "std        16.851618\n",
              "min         0.000000\n",
              "25%         0.000000\n",
              "50%         0.000000\n",
              "75%         0.000000\n",
              "max       400.000000\n",
              "Name: Price, dtype: float64"
            ]
          },
          "metadata": {
            "tags": []
          },
          "execution_count": 13
        }
      ]
    },
    {
      "metadata": {
        "id": "Rx-AEGSYcpr9",
        "colab_type": "code",
        "outputId": "8ffd04ac-f604-4929-d491-a8f96b49e713",
        "colab": {
          "base_uri": "https://localhost:8080/",
          "height": 173
        }
      },
      "cell_type": "code",
      "source": [
        "dataset[['Current Ver']].describe()"
      ],
      "execution_count": 14,
      "outputs": [
        {
          "output_type": "execute_result",
          "data": {
            "text/html": [
              "<div>\n",
              "<style scoped>\n",
              "    .dataframe tbody tr th:only-of-type {\n",
              "        vertical-align: middle;\n",
              "    }\n",
              "\n",
              "    .dataframe tbody tr th {\n",
              "        vertical-align: top;\n",
              "    }\n",
              "\n",
              "    .dataframe thead th {\n",
              "        text-align: right;\n",
              "    }\n",
              "</style>\n",
              "<table border=\"1\" class=\"dataframe\">\n",
              "  <thead>\n",
              "    <tr style=\"text-align: right;\">\n",
              "      <th></th>\n",
              "      <th>Current Ver</th>\n",
              "    </tr>\n",
              "  </thead>\n",
              "  <tbody>\n",
              "    <tr>\n",
              "      <th>count</th>\n",
              "      <td>9651</td>\n",
              "    </tr>\n",
              "    <tr>\n",
              "      <th>unique</th>\n",
              "      <td>2818</td>\n",
              "    </tr>\n",
              "    <tr>\n",
              "      <th>top</th>\n",
              "      <td>Varies with device</td>\n",
              "    </tr>\n",
              "    <tr>\n",
              "      <th>freq</th>\n",
              "      <td>1054</td>\n",
              "    </tr>\n",
              "  </tbody>\n",
              "</table>\n",
              "</div>"
            ],
            "text/plain": [
              "               Current Ver\n",
              "count                 9651\n",
              "unique                2818\n",
              "top     Varies with device\n",
              "freq                  1054"
            ]
          },
          "metadata": {
            "tags": []
          },
          "execution_count": 14
        }
      ]
    },
    {
      "metadata": {
        "id": "QSueq4-FLAGf",
        "colab_type": "code",
        "outputId": "f8503084-9238-4461-8165-35852af9433f",
        "colab": {
          "base_uri": "https://localhost:8080/",
          "height": 173
        }
      },
      "cell_type": "code",
      "source": [
        "dataset[['Last Updated']].describe()"
      ],
      "execution_count": 15,
      "outputs": [
        {
          "output_type": "execute_result",
          "data": {
            "text/html": [
              "<div>\n",
              "<style scoped>\n",
              "    .dataframe tbody tr th:only-of-type {\n",
              "        vertical-align: middle;\n",
              "    }\n",
              "\n",
              "    .dataframe tbody tr th {\n",
              "        vertical-align: top;\n",
              "    }\n",
              "\n",
              "    .dataframe thead th {\n",
              "        text-align: right;\n",
              "    }\n",
              "</style>\n",
              "<table border=\"1\" class=\"dataframe\">\n",
              "  <thead>\n",
              "    <tr style=\"text-align: right;\">\n",
              "      <th></th>\n",
              "      <th>Last Updated</th>\n",
              "    </tr>\n",
              "  </thead>\n",
              "  <tbody>\n",
              "    <tr>\n",
              "      <th>count</th>\n",
              "      <td>9659</td>\n",
              "    </tr>\n",
              "    <tr>\n",
              "      <th>unique</th>\n",
              "      <td>1377</td>\n",
              "    </tr>\n",
              "    <tr>\n",
              "      <th>top</th>\n",
              "      <td>August 3, 2018</td>\n",
              "    </tr>\n",
              "    <tr>\n",
              "      <th>freq</th>\n",
              "      <td>252</td>\n",
              "    </tr>\n",
              "  </tbody>\n",
              "</table>\n",
              "</div>"
            ],
            "text/plain": [
              "          Last Updated\n",
              "count             9659\n",
              "unique            1377\n",
              "top     August 3, 2018\n",
              "freq               252"
            ]
          },
          "metadata": {
            "tags": []
          },
          "execution_count": 15
        }
      ]
    },
    {
      "metadata": {
        "id": "tMiVCwiNvw4o",
        "colab_type": "text"
      },
      "cell_type": "markdown",
      "source": [
        "Convertendo tipo da coluna 'Last Updated' para datetime"
      ]
    },
    {
      "metadata": {
        "id": "OlRAjcO6cptQ",
        "colab_type": "code",
        "colab": {}
      },
      "cell_type": "code",
      "source": [
        "dataset['Last Updated'] = pd.to_datetime(dataset['Last Updated'])"
      ],
      "execution_count": 0,
      "outputs": []
    },
    {
      "metadata": {
        "id": "5Jx5SnJ3cptY",
        "colab_type": "code",
        "outputId": "a88362fe-b5d2-4ec8-bc5e-71e32938169f",
        "colab": {
          "base_uri": "https://localhost:8080/",
          "height": 136
        }
      },
      "cell_type": "code",
      "source": [
        "dataset['Last Updated'].describe()"
      ],
      "execution_count": 17,
      "outputs": [
        {
          "output_type": "execute_result",
          "data": {
            "text/plain": [
              "count                    9659\n",
              "unique                   1377\n",
              "top       2018-08-03 00:00:00\n",
              "freq                      252\n",
              "first     2010-05-21 00:00:00\n",
              "last      2018-08-08 00:00:00\n",
              "Name: Last Updated, dtype: object"
            ]
          },
          "metadata": {
            "tags": []
          },
          "execution_count": 17
        }
      ]
    },
    {
      "metadata": {
        "id": "jbVV8jQiLH7f",
        "colab_type": "code",
        "outputId": "e1760fc5-4c14-4cd0-ae45-790f96a7685b",
        "colab": {
          "base_uri": "https://localhost:8080/",
          "height": 173
        }
      },
      "cell_type": "code",
      "source": [
        "dataset[['Android Ver']].describe()"
      ],
      "execution_count": 18,
      "outputs": [
        {
          "output_type": "execute_result",
          "data": {
            "text/html": [
              "<div>\n",
              "<style scoped>\n",
              "    .dataframe tbody tr th:only-of-type {\n",
              "        vertical-align: middle;\n",
              "    }\n",
              "\n",
              "    .dataframe tbody tr th {\n",
              "        vertical-align: top;\n",
              "    }\n",
              "\n",
              "    .dataframe thead th {\n",
              "        text-align: right;\n",
              "    }\n",
              "</style>\n",
              "<table border=\"1\" class=\"dataframe\">\n",
              "  <thead>\n",
              "    <tr style=\"text-align: right;\">\n",
              "      <th></th>\n",
              "      <th>Android Ver</th>\n",
              "    </tr>\n",
              "  </thead>\n",
              "  <tbody>\n",
              "    <tr>\n",
              "      <th>count</th>\n",
              "      <td>9657</td>\n",
              "    </tr>\n",
              "    <tr>\n",
              "      <th>unique</th>\n",
              "      <td>33</td>\n",
              "    </tr>\n",
              "    <tr>\n",
              "      <th>top</th>\n",
              "      <td>4.1 and up</td>\n",
              "    </tr>\n",
              "    <tr>\n",
              "      <th>freq</th>\n",
              "      <td>2206</td>\n",
              "    </tr>\n",
              "  </tbody>\n",
              "</table>\n",
              "</div>"
            ],
            "text/plain": [
              "       Android Ver\n",
              "count         9657\n",
              "unique          33\n",
              "top     4.1 and up\n",
              "freq          2206"
            ]
          },
          "metadata": {
            "tags": []
          },
          "execution_count": 18
        }
      ]
    },
    {
      "metadata": {
        "id": "eCAK1JAPLXSV",
        "colab_type": "code",
        "outputId": "0e617496-44fc-4c77-e14f-91e0f06b0130",
        "colab": {
          "base_uri": "https://localhost:8080/",
          "height": 102
        }
      },
      "cell_type": "code",
      "source": [
        "dataset.Category.describe()"
      ],
      "execution_count": 19,
      "outputs": [
        {
          "output_type": "execute_result",
          "data": {
            "text/plain": [
              "count       9659\n",
              "unique        33\n",
              "top       FAMILY\n",
              "freq        1906\n",
              "Name: Category, dtype: object"
            ]
          },
          "metadata": {
            "tags": []
          },
          "execution_count": 19
        }
      ]
    },
    {
      "metadata": {
        "id": "vlEtfiEtcpsv",
        "colab_type": "code",
        "outputId": "4840e1cf-e3cf-4941-a61a-0477c3c8bcff",
        "colab": {
          "base_uri": "https://localhost:8080/",
          "height": 170
        }
      },
      "cell_type": "code",
      "source": [
        "dataset.Rating.describe()"
      ],
      "execution_count": 20,
      "outputs": [
        {
          "output_type": "execute_result",
          "data": {
            "text/plain": [
              "count    8196.000000\n",
              "mean        4.173219\n",
              "std         0.536269\n",
              "min         1.000000\n",
              "25%         4.000000\n",
              "50%         4.300000\n",
              "75%         4.500000\n",
              "max         5.000000\n",
              "Name: Rating, dtype: float64"
            ]
          },
          "metadata": {
            "tags": []
          },
          "execution_count": 20
        }
      ]
    },
    {
      "metadata": {
        "id": "HyQShIXEcpxb",
        "colab_type": "code",
        "outputId": "c79e4d4a-69e2-4d0d-ffdf-2be3964ed1e4",
        "colab": {
          "base_uri": "https://localhost:8080/",
          "height": 102
        }
      },
      "cell_type": "code",
      "source": [
        "dataset.Size.describe()"
      ],
      "execution_count": 21,
      "outputs": [
        {
          "output_type": "execute_result",
          "data": {
            "text/plain": [
              "count                   9659\n",
              "unique                   461\n",
              "top       Varies with device\n",
              "freq                    1227\n",
              "Name: Size, dtype: object"
            ]
          },
          "metadata": {
            "tags": []
          },
          "execution_count": 21
        }
      ]
    },
    {
      "metadata": {
        "id": "N5Uyk7QDp51F",
        "colab_type": "code",
        "outputId": "bb5585f2-0297-4c76-9d9b-d0168f141d6d",
        "colab": {
          "base_uri": "https://localhost:8080/",
          "height": 102
        }
      },
      "cell_type": "code",
      "source": [
        "dataset.Installs.describe()"
      ],
      "execution_count": 22,
      "outputs": [
        {
          "output_type": "execute_result",
          "data": {
            "text/plain": [
              "count           9659\n",
              "unique            21\n",
              "top       1,000,000+\n",
              "freq            1419\n",
              "Name: Installs, dtype: object"
            ]
          },
          "metadata": {
            "tags": []
          },
          "execution_count": 22
        }
      ]
    },
    {
      "metadata": {
        "id": "GEsjRTj_cpt8",
        "colab_type": "code",
        "outputId": "0a785e33-cd2b-44b9-c7c8-e987bcea77d7",
        "colab": {
          "base_uri": "https://localhost:8080/",
          "height": 102
        }
      },
      "cell_type": "code",
      "source": [
        "dataset.Genres.describe()"
      ],
      "execution_count": 23,
      "outputs": [
        {
          "output_type": "execute_result",
          "data": {
            "text/plain": [
              "count      9659\n",
              "unique      118\n",
              "top       Tools\n",
              "freq        828\n",
              "Name: Genres, dtype: object"
            ]
          },
          "metadata": {
            "tags": []
          },
          "execution_count": 23
        }
      ]
    },
    {
      "metadata": {
        "id": "4-Ng2lKZDslJ",
        "colab_type": "text"
      },
      "cell_type": "markdown",
      "source": [
        "**Para ver quão parecidas são as colunas Category e Genres entre si, é criado um dataframe contendo somente as duas colunas e são feitas as devidas modificações nas colunas para serem comparadas**"
      ]
    },
    {
      "metadata": {
        "id": "bcXqDn3Icpxl",
        "colab_type": "code",
        "outputId": "aaf4e992-e340-45bf-c539-dc5ca312e42c",
        "colab": {
          "base_uri": "https://localhost:8080/",
          "height": 204
        }
      },
      "cell_type": "code",
      "source": [
        "copy_dataset = dataset[['Category','Genres']]\n",
        "copy_dataset.head()"
      ],
      "execution_count": 24,
      "outputs": [
        {
          "output_type": "execute_result",
          "data": {
            "text/html": [
              "<div>\n",
              "<style scoped>\n",
              "    .dataframe tbody tr th:only-of-type {\n",
              "        vertical-align: middle;\n",
              "    }\n",
              "\n",
              "    .dataframe tbody tr th {\n",
              "        vertical-align: top;\n",
              "    }\n",
              "\n",
              "    .dataframe thead th {\n",
              "        text-align: right;\n",
              "    }\n",
              "</style>\n",
              "<table border=\"1\" class=\"dataframe\">\n",
              "  <thead>\n",
              "    <tr style=\"text-align: right;\">\n",
              "      <th></th>\n",
              "      <th>Category</th>\n",
              "      <th>Genres</th>\n",
              "    </tr>\n",
              "  </thead>\n",
              "  <tbody>\n",
              "    <tr>\n",
              "      <th>0</th>\n",
              "      <td>ART_AND_DESIGN</td>\n",
              "      <td>Art &amp; Design</td>\n",
              "    </tr>\n",
              "    <tr>\n",
              "      <th>2</th>\n",
              "      <td>ART_AND_DESIGN</td>\n",
              "      <td>Art &amp; Design</td>\n",
              "    </tr>\n",
              "    <tr>\n",
              "      <th>3</th>\n",
              "      <td>ART_AND_DESIGN</td>\n",
              "      <td>Art &amp; Design</td>\n",
              "    </tr>\n",
              "    <tr>\n",
              "      <th>4</th>\n",
              "      <td>ART_AND_DESIGN</td>\n",
              "      <td>Art &amp; Design;Creativity</td>\n",
              "    </tr>\n",
              "    <tr>\n",
              "      <th>5</th>\n",
              "      <td>ART_AND_DESIGN</td>\n",
              "      <td>Art &amp; Design</td>\n",
              "    </tr>\n",
              "  </tbody>\n",
              "</table>\n",
              "</div>"
            ],
            "text/plain": [
              "         Category                   Genres\n",
              "0  ART_AND_DESIGN             Art & Design\n",
              "2  ART_AND_DESIGN             Art & Design\n",
              "3  ART_AND_DESIGN             Art & Design\n",
              "4  ART_AND_DESIGN  Art & Design;Creativity\n",
              "5  ART_AND_DESIGN             Art & Design"
            ]
          },
          "metadata": {
            "tags": []
          },
          "execution_count": 24
        }
      ]
    },
    {
      "metadata": {
        "id": "fpQ4wqIGcpxq",
        "colab_type": "code",
        "outputId": "748e3c99-1eb0-420f-ed36-f74ab023c682",
        "colab": {
          "base_uri": "https://localhost:8080/",
          "height": 408
        }
      },
      "cell_type": "code",
      "source": [
        "copy_dataset['Category'] = copy_dataset['Category'].apply(lambda x: x.lower())\n",
        "copy_dataset['Genres'] = copy_dataset['Genres'].apply(lambda x: x.lower())\n",
        "copy_dataset.head()"
      ],
      "execution_count": 25,
      "outputs": [
        {
          "output_type": "stream",
          "text": [
            "/usr/local/lib/python3.6/dist-packages/ipykernel_launcher.py:1: SettingWithCopyWarning: \n",
            "A value is trying to be set on a copy of a slice from a DataFrame.\n",
            "Try using .loc[row_indexer,col_indexer] = value instead\n",
            "\n",
            "See the caveats in the documentation: http://pandas.pydata.org/pandas-docs/stable/indexing.html#indexing-view-versus-copy\n",
            "  \"\"\"Entry point for launching an IPython kernel.\n",
            "/usr/local/lib/python3.6/dist-packages/ipykernel_launcher.py:2: SettingWithCopyWarning: \n",
            "A value is trying to be set on a copy of a slice from a DataFrame.\n",
            "Try using .loc[row_indexer,col_indexer] = value instead\n",
            "\n",
            "See the caveats in the documentation: http://pandas.pydata.org/pandas-docs/stable/indexing.html#indexing-view-versus-copy\n",
            "  \n"
          ],
          "name": "stderr"
        },
        {
          "output_type": "execute_result",
          "data": {
            "text/html": [
              "<div>\n",
              "<style scoped>\n",
              "    .dataframe tbody tr th:only-of-type {\n",
              "        vertical-align: middle;\n",
              "    }\n",
              "\n",
              "    .dataframe tbody tr th {\n",
              "        vertical-align: top;\n",
              "    }\n",
              "\n",
              "    .dataframe thead th {\n",
              "        text-align: right;\n",
              "    }\n",
              "</style>\n",
              "<table border=\"1\" class=\"dataframe\">\n",
              "  <thead>\n",
              "    <tr style=\"text-align: right;\">\n",
              "      <th></th>\n",
              "      <th>Category</th>\n",
              "      <th>Genres</th>\n",
              "    </tr>\n",
              "  </thead>\n",
              "  <tbody>\n",
              "    <tr>\n",
              "      <th>0</th>\n",
              "      <td>art_and_design</td>\n",
              "      <td>art &amp; design</td>\n",
              "    </tr>\n",
              "    <tr>\n",
              "      <th>2</th>\n",
              "      <td>art_and_design</td>\n",
              "      <td>art &amp; design</td>\n",
              "    </tr>\n",
              "    <tr>\n",
              "      <th>3</th>\n",
              "      <td>art_and_design</td>\n",
              "      <td>art &amp; design</td>\n",
              "    </tr>\n",
              "    <tr>\n",
              "      <th>4</th>\n",
              "      <td>art_and_design</td>\n",
              "      <td>art &amp; design;creativity</td>\n",
              "    </tr>\n",
              "    <tr>\n",
              "      <th>5</th>\n",
              "      <td>art_and_design</td>\n",
              "      <td>art &amp; design</td>\n",
              "    </tr>\n",
              "  </tbody>\n",
              "</table>\n",
              "</div>"
            ],
            "text/plain": [
              "         Category                   Genres\n",
              "0  art_and_design             art & design\n",
              "2  art_and_design             art & design\n",
              "3  art_and_design             art & design\n",
              "4  art_and_design  art & design;creativity\n",
              "5  art_and_design             art & design"
            ]
          },
          "metadata": {
            "tags": []
          },
          "execution_count": 25
        }
      ]
    },
    {
      "metadata": {
        "id": "P5aQwsCMcpyP",
        "colab_type": "code",
        "outputId": "9c1c95fc-2afa-4e73-c00a-83ce9407a3f5",
        "colab": {
          "base_uri": "https://localhost:8080/",
          "height": 119
        }
      },
      "cell_type": "code",
      "source": [
        "copy_dataset['Category'] = copy_dataset['Category'].apply(lambda x: x[:x.index('_')]+' & '+x[x.rindex('_')+1:] if x.find('_and_')>-1 else x)"
      ],
      "execution_count": 26,
      "outputs": [
        {
          "output_type": "stream",
          "text": [
            "/usr/local/lib/python3.6/dist-packages/ipykernel_launcher.py:1: SettingWithCopyWarning: \n",
            "A value is trying to be set on a copy of a slice from a DataFrame.\n",
            "Try using .loc[row_indexer,col_indexer] = value instead\n",
            "\n",
            "See the caveats in the documentation: http://pandas.pydata.org/pandas-docs/stable/indexing.html#indexing-view-versus-copy\n",
            "  \"\"\"Entry point for launching an IPython kernel.\n"
          ],
          "name": "stderr"
        }
      ]
    },
    {
      "metadata": {
        "id": "qIp-Jf_fcpyT",
        "colab_type": "code",
        "outputId": "5d571671-9f28-41de-ae17-c46e43a468fb",
        "colab": {
          "base_uri": "https://localhost:8080/",
          "height": 119
        }
      },
      "cell_type": "code",
      "source": [
        "copy_dataset['Category'].head()"
      ],
      "execution_count": 27,
      "outputs": [
        {
          "output_type": "execute_result",
          "data": {
            "text/plain": [
              "0    art & design\n",
              "2    art & design\n",
              "3    art & design\n",
              "4    art & design\n",
              "5    art & design\n",
              "Name: Category, dtype: object"
            ]
          },
          "metadata": {
            "tags": []
          },
          "execution_count": 27
        }
      ]
    },
    {
      "metadata": {
        "id": "6RPbuFZIcpyj",
        "colab_type": "code",
        "outputId": "ce60f672-d632-4e91-9ae7-f0ab1cc9959e",
        "colab": {
          "base_uri": "https://localhost:8080/",
          "height": 221
        }
      },
      "cell_type": "code",
      "source": [
        "copy_dataset['eql'] = copy_dataset.apply(lambda x: x[0] in x[1], axis=1)\n",
        "copy_dataset.eql.head()"
      ],
      "execution_count": 28,
      "outputs": [
        {
          "output_type": "stream",
          "text": [
            "/usr/local/lib/python3.6/dist-packages/ipykernel_launcher.py:1: SettingWithCopyWarning: \n",
            "A value is trying to be set on a copy of a slice from a DataFrame.\n",
            "Try using .loc[row_indexer,col_indexer] = value instead\n",
            "\n",
            "See the caveats in the documentation: http://pandas.pydata.org/pandas-docs/stable/indexing.html#indexing-view-versus-copy\n",
            "  \"\"\"Entry point for launching an IPython kernel.\n"
          ],
          "name": "stderr"
        },
        {
          "output_type": "execute_result",
          "data": {
            "text/plain": [
              "0    True\n",
              "2    True\n",
              "3    True\n",
              "4    True\n",
              "5    True\n",
              "Name: eql, dtype: bool"
            ]
          },
          "metadata": {
            "tags": []
          },
          "execution_count": 28
        }
      ]
    },
    {
      "metadata": {
        "id": "lAGRpBG0cpyv",
        "colab_type": "code",
        "outputId": "4e61c9c4-e4a6-4811-d70c-68090a5e8a3d",
        "colab": {
          "base_uri": "https://localhost:8080/",
          "height": 102
        }
      },
      "cell_type": "code",
      "source": [
        "copy_dataset.eql.describe()"
      ],
      "execution_count": 29,
      "outputs": [
        {
          "output_type": "execute_result",
          "data": {
            "text/plain": [
              "count     9659\n",
              "unique       2\n",
              "top       True\n",
              "freq      6664\n",
              "Name: eql, dtype: object"
            ]
          },
          "metadata": {
            "tags": []
          },
          "execution_count": 29
        }
      ]
    },
    {
      "metadata": {
        "id": "rC9nbrIqMs13",
        "colab_type": "text"
      },
      "cell_type": "markdown",
      "source": [
        "\n",
        "A coluna criada acima com valores booleanos indica se a coluna Category está contida (ou é igual) à coluna Genres. Em porcentagem, vê-se que quase 69% das entradas estão contidas, o que possibilita a remoção da coluna Genres para uma interpretação mais prática dos dados."
      ]
    },
    {
      "metadata": {
        "id": "utQlPjfkcpy5",
        "colab_type": "code",
        "outputId": "8fcb1619-7740-4eca-9451-3c31f5ad2b1d",
        "colab": {
          "base_uri": "https://localhost:8080/",
          "height": 34
        }
      },
      "cell_type": "code",
      "source": [
        "print(6664*100/9659)"
      ],
      "execution_count": 30,
      "outputs": [
        {
          "output_type": "stream",
          "text": [
            "68.99264934258204\n"
          ],
          "name": "stdout"
        }
      ]
    },
    {
      "metadata": {
        "id": "9wixy5-ZL4Vu",
        "colab_type": "code",
        "outputId": "86de2186-73e5-4ec3-8a6f-942640cdc998",
        "colab": {
          "base_uri": "https://localhost:8080/",
          "height": 272
        }
      },
      "cell_type": "code",
      "source": [
        "dataset = dataset.drop('Genres', axis = 1)\n",
        "dataset.head()"
      ],
      "execution_count": 31,
      "outputs": [
        {
          "output_type": "execute_result",
          "data": {
            "text/html": [
              "<div>\n",
              "<style scoped>\n",
              "    .dataframe tbody tr th:only-of-type {\n",
              "        vertical-align: middle;\n",
              "    }\n",
              "\n",
              "    .dataframe tbody tr th {\n",
              "        vertical-align: top;\n",
              "    }\n",
              "\n",
              "    .dataframe thead th {\n",
              "        text-align: right;\n",
              "    }\n",
              "</style>\n",
              "<table border=\"1\" class=\"dataframe\">\n",
              "  <thead>\n",
              "    <tr style=\"text-align: right;\">\n",
              "      <th></th>\n",
              "      <th>App</th>\n",
              "      <th>Category</th>\n",
              "      <th>Rating</th>\n",
              "      <th>Reviews</th>\n",
              "      <th>Size</th>\n",
              "      <th>Installs</th>\n",
              "      <th>Type</th>\n",
              "      <th>Price</th>\n",
              "      <th>Content Rating</th>\n",
              "      <th>Last Updated</th>\n",
              "      <th>Current Ver</th>\n",
              "      <th>Android Ver</th>\n",
              "    </tr>\n",
              "  </thead>\n",
              "  <tbody>\n",
              "    <tr>\n",
              "      <th>0</th>\n",
              "      <td>Photo Editor &amp; Candy Camera &amp; Grid &amp; ScrapBook</td>\n",
              "      <td>ART_AND_DESIGN</td>\n",
              "      <td>4.1</td>\n",
              "      <td>159</td>\n",
              "      <td>19M</td>\n",
              "      <td>10,000+</td>\n",
              "      <td>Free</td>\n",
              "      <td>0.0</td>\n",
              "      <td>Everyone</td>\n",
              "      <td>2018-01-07</td>\n",
              "      <td>1.0.0</td>\n",
              "      <td>4.0.3 and up</td>\n",
              "    </tr>\n",
              "    <tr>\n",
              "      <th>2</th>\n",
              "      <td>U Launcher Lite â FREE Live Cool Themes, Hid...</td>\n",
              "      <td>ART_AND_DESIGN</td>\n",
              "      <td>4.7</td>\n",
              "      <td>87510</td>\n",
              "      <td>8.7M</td>\n",
              "      <td>5,000,000+</td>\n",
              "      <td>Free</td>\n",
              "      <td>0.0</td>\n",
              "      <td>Everyone</td>\n",
              "      <td>2018-08-01</td>\n",
              "      <td>1.2.4</td>\n",
              "      <td>4.0.3 and up</td>\n",
              "    </tr>\n",
              "    <tr>\n",
              "      <th>3</th>\n",
              "      <td>Sketch - Draw &amp; Paint</td>\n",
              "      <td>ART_AND_DESIGN</td>\n",
              "      <td>4.5</td>\n",
              "      <td>215644</td>\n",
              "      <td>25M</td>\n",
              "      <td>50,000,000+</td>\n",
              "      <td>Free</td>\n",
              "      <td>0.0</td>\n",
              "      <td>Teen</td>\n",
              "      <td>2018-06-08</td>\n",
              "      <td>Varies with device</td>\n",
              "      <td>4.2 and up</td>\n",
              "    </tr>\n",
              "    <tr>\n",
              "      <th>4</th>\n",
              "      <td>Pixel Draw - Number Art Coloring Book</td>\n",
              "      <td>ART_AND_DESIGN</td>\n",
              "      <td>4.3</td>\n",
              "      <td>967</td>\n",
              "      <td>2.8M</td>\n",
              "      <td>100,000+</td>\n",
              "      <td>Free</td>\n",
              "      <td>0.0</td>\n",
              "      <td>Everyone</td>\n",
              "      <td>2018-06-20</td>\n",
              "      <td>1.1</td>\n",
              "      <td>4.4 and up</td>\n",
              "    </tr>\n",
              "    <tr>\n",
              "      <th>5</th>\n",
              "      <td>Paper flowers instructions</td>\n",
              "      <td>ART_AND_DESIGN</td>\n",
              "      <td>4.4</td>\n",
              "      <td>167</td>\n",
              "      <td>5.6M</td>\n",
              "      <td>50,000+</td>\n",
              "      <td>Free</td>\n",
              "      <td>0.0</td>\n",
              "      <td>Everyone</td>\n",
              "      <td>2017-03-26</td>\n",
              "      <td>1.0</td>\n",
              "      <td>2.3 and up</td>\n",
              "    </tr>\n",
              "  </tbody>\n",
              "</table>\n",
              "</div>"
            ],
            "text/plain": [
              "                                                 App        Category  Rating  \\\n",
              "0     Photo Editor & Candy Camera & Grid & ScrapBook  ART_AND_DESIGN     4.1   \n",
              "2  U Launcher Lite â FREE Live Cool Themes, Hid...  ART_AND_DESIGN     4.7   \n",
              "3                              Sketch - Draw & Paint  ART_AND_DESIGN     4.5   \n",
              "4              Pixel Draw - Number Art Coloring Book  ART_AND_DESIGN     4.3   \n",
              "5                         Paper flowers instructions  ART_AND_DESIGN     4.4   \n",
              "\n",
              "   Reviews  Size     Installs  Type  Price Content Rating Last Updated  \\\n",
              "0      159   19M      10,000+  Free    0.0       Everyone   2018-01-07   \n",
              "2    87510  8.7M   5,000,000+  Free    0.0       Everyone   2018-08-01   \n",
              "3   215644   25M  50,000,000+  Free    0.0           Teen   2018-06-08   \n",
              "4      967  2.8M     100,000+  Free    0.0       Everyone   2018-06-20   \n",
              "5      167  5.6M      50,000+  Free    0.0       Everyone   2017-03-26   \n",
              "\n",
              "          Current Ver   Android Ver  \n",
              "0               1.0.0  4.0.3 and up  \n",
              "2               1.2.4  4.0.3 and up  \n",
              "3  Varies with device    4.2 and up  \n",
              "4                 1.1    4.4 and up  \n",
              "5                 1.0    2.3 and up  "
            ]
          },
          "metadata": {
            "tags": []
          },
          "execution_count": 31
        }
      ]
    },
    {
      "metadata": {
        "id": "aP1SsEeOpHDy",
        "colab_type": "text"
      },
      "cell_type": "markdown",
      "source": [
        "**Verificando quais colunas possuem dados faltantes (NaN)**"
      ]
    },
    {
      "metadata": {
        "id": "zR7c2VIJcps7",
        "colab_type": "code",
        "outputId": "edac217d-f544-4db5-a7d4-7f6f702b5368",
        "colab": {
          "base_uri": "https://localhost:8080/",
          "height": 34
        }
      },
      "cell_type": "code",
      "source": [
        "dataset.columns[dataset.isna().any()].tolist()"
      ],
      "execution_count": 32,
      "outputs": [
        {
          "output_type": "execute_result",
          "data": {
            "text/plain": [
              "['Rating', 'Type', 'Current Ver', 'Android Ver']"
            ]
          },
          "metadata": {
            "tags": []
          },
          "execution_count": 32
        }
      ]
    },
    {
      "metadata": {
        "id": "lNeP1r_ycptH",
        "colab_type": "code",
        "outputId": "bcc6016e-0468-423e-e683-b51d0fca562a",
        "colab": {
          "base_uri": "https://localhost:8080/",
          "height": 114
        }
      },
      "cell_type": "code",
      "source": [
        "dataset[dataset['Type'].isna()]"
      ],
      "execution_count": 33,
      "outputs": [
        {
          "output_type": "execute_result",
          "data": {
            "text/html": [
              "<div>\n",
              "<style scoped>\n",
              "    .dataframe tbody tr th:only-of-type {\n",
              "        vertical-align: middle;\n",
              "    }\n",
              "\n",
              "    .dataframe tbody tr th {\n",
              "        vertical-align: top;\n",
              "    }\n",
              "\n",
              "    .dataframe thead th {\n",
              "        text-align: right;\n",
              "    }\n",
              "</style>\n",
              "<table border=\"1\" class=\"dataframe\">\n",
              "  <thead>\n",
              "    <tr style=\"text-align: right;\">\n",
              "      <th></th>\n",
              "      <th>App</th>\n",
              "      <th>Category</th>\n",
              "      <th>Rating</th>\n",
              "      <th>Reviews</th>\n",
              "      <th>Size</th>\n",
              "      <th>Installs</th>\n",
              "      <th>Type</th>\n",
              "      <th>Price</th>\n",
              "      <th>Content Rating</th>\n",
              "      <th>Last Updated</th>\n",
              "      <th>Current Ver</th>\n",
              "      <th>Android Ver</th>\n",
              "    </tr>\n",
              "  </thead>\n",
              "  <tbody>\n",
              "    <tr>\n",
              "      <th>9148</th>\n",
              "      <td>Command &amp; Conquer: Rivals</td>\n",
              "      <td>FAMILY</td>\n",
              "      <td>NaN</td>\n",
              "      <td>0</td>\n",
              "      <td>Varies with device</td>\n",
              "      <td>0</td>\n",
              "      <td>NaN</td>\n",
              "      <td>0.0</td>\n",
              "      <td>Everyone 10+</td>\n",
              "      <td>2018-06-28</td>\n",
              "      <td>Varies with device</td>\n",
              "      <td>Varies with device</td>\n",
              "    </tr>\n",
              "  </tbody>\n",
              "</table>\n",
              "</div>"
            ],
            "text/plain": [
              "                            App Category  Rating  Reviews                Size  \\\n",
              "9148  Command & Conquer: Rivals   FAMILY     NaN        0  Varies with device   \n",
              "\n",
              "     Installs Type  Price Content Rating Last Updated         Current Ver  \\\n",
              "9148        0  NaN    0.0   Everyone 10+   2018-06-28  Varies with device   \n",
              "\n",
              "             Android Ver  \n",
              "9148  Varies with device  "
            ]
          },
          "metadata": {
            "tags": []
          },
          "execution_count": 33
        }
      ]
    },
    {
      "metadata": {
        "id": "bO5OeC8Scptn",
        "colab_type": "code",
        "outputId": "3240e8d3-7f47-4330-acdb-d4462645fd8c",
        "colab": {
          "base_uri": "https://localhost:8080/",
          "height": 102
        }
      },
      "cell_type": "code",
      "source": [
        "#visto que há somente 1 ocorrência de Type como NaN, faz-se a alteração sabendo pelo print acima que Price=0\n",
        "dataset['Type'] = dataset['Type'].apply(lambda x: 'Free' if (x!='Free' and x!='Paid') else x)\n",
        "dataset.Type.describe()"
      ],
      "execution_count": 34,
      "outputs": [
        {
          "output_type": "execute_result",
          "data": {
            "text/plain": [
              "count     9659\n",
              "unique       2\n",
              "top       Free\n",
              "freq      8905\n",
              "Name: Type, dtype: object"
            ]
          },
          "metadata": {
            "tags": []
          },
          "execution_count": 34
        }
      ]
    },
    {
      "metadata": {
        "id": "0hyajAOxcpuI",
        "colab_type": "code",
        "outputId": "e6847ca3-aa7f-4419-9b0d-623233aa81f5",
        "colab": {
          "base_uri": "https://localhost:8080/",
          "height": 3006
        }
      },
      "cell_type": "code",
      "source": [
        "dataset[dataset['Rating'].isna()]"
      ],
      "execution_count": 35,
      "outputs": [
        {
          "output_type": "execute_result",
          "data": {
            "text/html": [
              "<div>\n",
              "<style scoped>\n",
              "    .dataframe tbody tr th:only-of-type {\n",
              "        vertical-align: middle;\n",
              "    }\n",
              "\n",
              "    .dataframe tbody tr th {\n",
              "        vertical-align: top;\n",
              "    }\n",
              "\n",
              "    .dataframe thead th {\n",
              "        text-align: right;\n",
              "    }\n",
              "</style>\n",
              "<table border=\"1\" class=\"dataframe\">\n",
              "  <thead>\n",
              "    <tr style=\"text-align: right;\">\n",
              "      <th></th>\n",
              "      <th>App</th>\n",
              "      <th>Category</th>\n",
              "      <th>Rating</th>\n",
              "      <th>Reviews</th>\n",
              "      <th>Size</th>\n",
              "      <th>Installs</th>\n",
              "      <th>Type</th>\n",
              "      <th>Price</th>\n",
              "      <th>Content Rating</th>\n",
              "      <th>Last Updated</th>\n",
              "      <th>Current Ver</th>\n",
              "      <th>Android Ver</th>\n",
              "    </tr>\n",
              "  </thead>\n",
              "  <tbody>\n",
              "    <tr>\n",
              "      <th>113</th>\n",
              "      <td>Wrinkles and rejuvenation</td>\n",
              "      <td>BEAUTY</td>\n",
              "      <td>NaN</td>\n",
              "      <td>182</td>\n",
              "      <td>5.7M</td>\n",
              "      <td>100,000+</td>\n",
              "      <td>Free</td>\n",
              "      <td>0.00</td>\n",
              "      <td>Everyone 10+</td>\n",
              "      <td>2017-09-20</td>\n",
              "      <td>8.0</td>\n",
              "      <td>3.0 and up</td>\n",
              "    </tr>\n",
              "    <tr>\n",
              "      <th>123</th>\n",
              "      <td>Manicure - nail design</td>\n",
              "      <td>BEAUTY</td>\n",
              "      <td>NaN</td>\n",
              "      <td>119</td>\n",
              "      <td>3.7M</td>\n",
              "      <td>50,000+</td>\n",
              "      <td>Free</td>\n",
              "      <td>0.00</td>\n",
              "      <td>Everyone</td>\n",
              "      <td>2018-07-23</td>\n",
              "      <td>1.3</td>\n",
              "      <td>4.1 and up</td>\n",
              "    </tr>\n",
              "    <tr>\n",
              "      <th>126</th>\n",
              "      <td>Skin Care and Natural Beauty</td>\n",
              "      <td>BEAUTY</td>\n",
              "      <td>NaN</td>\n",
              "      <td>654</td>\n",
              "      <td>7.4M</td>\n",
              "      <td>100,000+</td>\n",
              "      <td>Free</td>\n",
              "      <td>0.00</td>\n",
              "      <td>Teen</td>\n",
              "      <td>2018-07-17</td>\n",
              "      <td>1.15</td>\n",
              "      <td>4.1 and up</td>\n",
              "    </tr>\n",
              "    <tr>\n",
              "      <th>129</th>\n",
              "      <td>Secrets of beauty, youth and health</td>\n",
              "      <td>BEAUTY</td>\n",
              "      <td>NaN</td>\n",
              "      <td>77</td>\n",
              "      <td>2.9M</td>\n",
              "      <td>10,000+</td>\n",
              "      <td>Free</td>\n",
              "      <td>0.00</td>\n",
              "      <td>Mature 17+</td>\n",
              "      <td>2017-08-08</td>\n",
              "      <td>2.0</td>\n",
              "      <td>2.3 and up</td>\n",
              "    </tr>\n",
              "    <tr>\n",
              "      <th>130</th>\n",
              "      <td>Recipes and tips for losing weight</td>\n",
              "      <td>BEAUTY</td>\n",
              "      <td>NaN</td>\n",
              "      <td>35</td>\n",
              "      <td>3.1M</td>\n",
              "      <td>10,000+</td>\n",
              "      <td>Free</td>\n",
              "      <td>0.00</td>\n",
              "      <td>Everyone 10+</td>\n",
              "      <td>2017-12-11</td>\n",
              "      <td>2.0</td>\n",
              "      <td>3.0 and up</td>\n",
              "    </tr>\n",
              "    <tr>\n",
              "      <th>134</th>\n",
              "      <td>Lady adviser (beauty, health)</td>\n",
              "      <td>BEAUTY</td>\n",
              "      <td>NaN</td>\n",
              "      <td>30</td>\n",
              "      <td>9.9M</td>\n",
              "      <td>10,000+</td>\n",
              "      <td>Free</td>\n",
              "      <td>0.00</td>\n",
              "      <td>Mature 17+</td>\n",
              "      <td>2018-01-24</td>\n",
              "      <td>3.0</td>\n",
              "      <td>3.0 and up</td>\n",
              "    </tr>\n",
              "    <tr>\n",
              "      <th>163</th>\n",
              "      <td>Anonymous caller detection</td>\n",
              "      <td>BOOKS_AND_REFERENCE</td>\n",
              "      <td>NaN</td>\n",
              "      <td>161</td>\n",
              "      <td>2.7M</td>\n",
              "      <td>10,000+</td>\n",
              "      <td>Free</td>\n",
              "      <td>0.00</td>\n",
              "      <td>Everyone</td>\n",
              "      <td>2018-07-13</td>\n",
              "      <td>1.0</td>\n",
              "      <td>2.3 and up</td>\n",
              "    </tr>\n",
              "    <tr>\n",
              "      <th>180</th>\n",
              "      <td>SH-02J Owner's Manual (Android 8.0)</td>\n",
              "      <td>BOOKS_AND_REFERENCE</td>\n",
              "      <td>NaN</td>\n",
              "      <td>2</td>\n",
              "      <td>7.2M</td>\n",
              "      <td>50,000+</td>\n",
              "      <td>Free</td>\n",
              "      <td>0.00</td>\n",
              "      <td>Everyone</td>\n",
              "      <td>2018-06-15</td>\n",
              "      <td>3.0</td>\n",
              "      <td>6.0 and up</td>\n",
              "    </tr>\n",
              "    <tr>\n",
              "      <th>185</th>\n",
              "      <td>URBANO V 02 instruction manual</td>\n",
              "      <td>BOOKS_AND_REFERENCE</td>\n",
              "      <td>NaN</td>\n",
              "      <td>114</td>\n",
              "      <td>7.3M</td>\n",
              "      <td>100,000+</td>\n",
              "      <td>Free</td>\n",
              "      <td>0.00</td>\n",
              "      <td>Everyone</td>\n",
              "      <td>2015-08-07</td>\n",
              "      <td>1.1</td>\n",
              "      <td>5.1 and up</td>\n",
              "    </tr>\n",
              "    <tr>\n",
              "      <th>227</th>\n",
              "      <td>Y! Mobile menu</td>\n",
              "      <td>BUSINESS</td>\n",
              "      <td>NaN</td>\n",
              "      <td>9</td>\n",
              "      <td>1.2M</td>\n",
              "      <td>100,000+</td>\n",
              "      <td>Free</td>\n",
              "      <td>0.00</td>\n",
              "      <td>Everyone</td>\n",
              "      <td>2018-04-09</td>\n",
              "      <td>1.0.5</td>\n",
              "      <td>6.0 and up</td>\n",
              "    </tr>\n",
              "    <tr>\n",
              "      <th>321</th>\n",
              "      <td>ãRanobbe complete freeã Novelba - Free app...</td>\n",
              "      <td>COMICS</td>\n",
              "      <td>NaN</td>\n",
              "      <td>1330</td>\n",
              "      <td>22M</td>\n",
              "      <td>50,000+</td>\n",
              "      <td>Free</td>\n",
              "      <td>0.00</td>\n",
              "      <td>Everyone</td>\n",
              "      <td>2018-07-03</td>\n",
              "      <td>6.1.1</td>\n",
              "      <td>4.2 and up</td>\n",
              "    </tr>\n",
              "    <tr>\n",
              "      <th>478</th>\n",
              "      <td>Truth or Dare Pro</td>\n",
              "      <td>DATING</td>\n",
              "      <td>NaN</td>\n",
              "      <td>0</td>\n",
              "      <td>20M</td>\n",
              "      <td>50+</td>\n",
              "      <td>Paid</td>\n",
              "      <td>1.49</td>\n",
              "      <td>Teen</td>\n",
              "      <td>2017-09-01</td>\n",
              "      <td>1.0</td>\n",
              "      <td>4.0 and up</td>\n",
              "    </tr>\n",
              "    <tr>\n",
              "      <th>479</th>\n",
              "      <td>Private Dating, Hide App- Blue for PrivacyHider</td>\n",
              "      <td>DATING</td>\n",
              "      <td>NaN</td>\n",
              "      <td>0</td>\n",
              "      <td>18k</td>\n",
              "      <td>100+</td>\n",
              "      <td>Paid</td>\n",
              "      <td>2.99</td>\n",
              "      <td>Everyone</td>\n",
              "      <td>2017-07-25</td>\n",
              "      <td>1.0.1</td>\n",
              "      <td>4.0 and up</td>\n",
              "    </tr>\n",
              "    <tr>\n",
              "      <th>480</th>\n",
              "      <td>Ad Blocker for SayHi</td>\n",
              "      <td>DATING</td>\n",
              "      <td>NaN</td>\n",
              "      <td>4</td>\n",
              "      <td>1.2M</td>\n",
              "      <td>100+</td>\n",
              "      <td>Paid</td>\n",
              "      <td>3.99</td>\n",
              "      <td>Teen</td>\n",
              "      <td>2018-08-02</td>\n",
              "      <td>1.2</td>\n",
              "      <td>4.0.3 and up</td>\n",
              "    </tr>\n",
              "    <tr>\n",
              "      <th>617</th>\n",
              "      <td>Meet With Strangers: Video Chat &amp; Dating</td>\n",
              "      <td>DATING</td>\n",
              "      <td>NaN</td>\n",
              "      <td>2</td>\n",
              "      <td>3.7M</td>\n",
              "      <td>500+</td>\n",
              "      <td>Free</td>\n",
              "      <td>0.00</td>\n",
              "      <td>Mature 17+</td>\n",
              "      <td>2018-07-16</td>\n",
              "      <td>1.</td>\n",
              "      <td>4.0 and up</td>\n",
              "    </tr>\n",
              "    <tr>\n",
              "      <th>620</th>\n",
              "      <td>Ost. Zombies Cast - New Music and Lyrics</td>\n",
              "      <td>DATING</td>\n",
              "      <td>NaN</td>\n",
              "      <td>1</td>\n",
              "      <td>4.6M</td>\n",
              "      <td>100+</td>\n",
              "      <td>Free</td>\n",
              "      <td>0.00</td>\n",
              "      <td>Teen</td>\n",
              "      <td>2018-07-20</td>\n",
              "      <td>1.0</td>\n",
              "      <td>4.0.3 and up</td>\n",
              "    </tr>\n",
              "    <tr>\n",
              "      <th>621</th>\n",
              "      <td>Dating White Girls</td>\n",
              "      <td>DATING</td>\n",
              "      <td>NaN</td>\n",
              "      <td>0</td>\n",
              "      <td>3.6M</td>\n",
              "      <td>50+</td>\n",
              "      <td>Free</td>\n",
              "      <td>0.00</td>\n",
              "      <td>Mature 17+</td>\n",
              "      <td>2018-07-20</td>\n",
              "      <td>1.0</td>\n",
              "      <td>4.0 and up</td>\n",
              "    </tr>\n",
              "    <tr>\n",
              "      <th>623</th>\n",
              "      <td>Geeks Dating</td>\n",
              "      <td>DATING</td>\n",
              "      <td>NaN</td>\n",
              "      <td>0</td>\n",
              "      <td>13M</td>\n",
              "      <td>50+</td>\n",
              "      <td>Free</td>\n",
              "      <td>0.00</td>\n",
              "      <td>Mature 17+</td>\n",
              "      <td>2018-07-10</td>\n",
              "      <td>1.0</td>\n",
              "      <td>4.1 and up</td>\n",
              "    </tr>\n",
              "    <tr>\n",
              "      <th>624</th>\n",
              "      <td>Live chat - free video chat</td>\n",
              "      <td>DATING</td>\n",
              "      <td>NaN</td>\n",
              "      <td>1</td>\n",
              "      <td>8.7M</td>\n",
              "      <td>500+</td>\n",
              "      <td>Free</td>\n",
              "      <td>0.00</td>\n",
              "      <td>Mature 17+</td>\n",
              "      <td>2018-07-23</td>\n",
              "      <td>3.52</td>\n",
              "      <td>4.0.3 and up</td>\n",
              "    </tr>\n",
              "    <tr>\n",
              "      <th>626</th>\n",
              "      <td>Fishing Brain &amp; Boating Maps Marine</td>\n",
              "      <td>DATING</td>\n",
              "      <td>NaN</td>\n",
              "      <td>3</td>\n",
              "      <td>6.9M</td>\n",
              "      <td>500+</td>\n",
              "      <td>Free</td>\n",
              "      <td>0.00</td>\n",
              "      <td>Everyone</td>\n",
              "      <td>2018-07-23</td>\n",
              "      <td>1.0</td>\n",
              "      <td>4.0.3 and up</td>\n",
              "    </tr>\n",
              "    <tr>\n",
              "      <th>627</th>\n",
              "      <td>CAM5678 Video Chat</td>\n",
              "      <td>DATING</td>\n",
              "      <td>NaN</td>\n",
              "      <td>0</td>\n",
              "      <td>39M</td>\n",
              "      <td>500+</td>\n",
              "      <td>Free</td>\n",
              "      <td>0.00</td>\n",
              "      <td>Mature 17+</td>\n",
              "      <td>2018-07-13</td>\n",
              "      <td>5.5.8</td>\n",
              "      <td>4.0.3 and up</td>\n",
              "    </tr>\n",
              "    <tr>\n",
              "      <th>628</th>\n",
              "      <td>Video chat live advices</td>\n",
              "      <td>DATING</td>\n",
              "      <td>NaN</td>\n",
              "      <td>0</td>\n",
              "      <td>8.0M</td>\n",
              "      <td>100+</td>\n",
              "      <td>Free</td>\n",
              "      <td>0.00</td>\n",
              "      <td>Everyone</td>\n",
              "      <td>2018-07-10</td>\n",
              "      <td>1.0</td>\n",
              "      <td>3.0 and up</td>\n",
              "    </tr>\n",
              "    <tr>\n",
              "      <th>629</th>\n",
              "      <td>chat live chat</td>\n",
              "      <td>DATING</td>\n",
              "      <td>NaN</td>\n",
              "      <td>24</td>\n",
              "      <td>3.9M</td>\n",
              "      <td>1,000+</td>\n",
              "      <td>Free</td>\n",
              "      <td>0.00</td>\n",
              "      <td>Mature 17+</td>\n",
              "      <td>2018-07-26</td>\n",
              "      <td>1.0</td>\n",
              "      <td>4.0 and up</td>\n",
              "    </tr>\n",
              "    <tr>\n",
              "      <th>630</th>\n",
              "      <td>Pet Lovers Dating</td>\n",
              "      <td>DATING</td>\n",
              "      <td>NaN</td>\n",
              "      <td>0</td>\n",
              "      <td>14M</td>\n",
              "      <td>10+</td>\n",
              "      <td>Free</td>\n",
              "      <td>0.00</td>\n",
              "      <td>Mature 17+</td>\n",
              "      <td>2018-07-09</td>\n",
              "      <td>1.0</td>\n",
              "      <td>4.1 and up</td>\n",
              "    </tr>\n",
              "    <tr>\n",
              "      <th>631</th>\n",
              "      <td>Friend Find: free chat + flirt dating app</td>\n",
              "      <td>DATING</td>\n",
              "      <td>NaN</td>\n",
              "      <td>23</td>\n",
              "      <td>11M</td>\n",
              "      <td>100+</td>\n",
              "      <td>Free</td>\n",
              "      <td>0.00</td>\n",
              "      <td>Mature 17+</td>\n",
              "      <td>2018-07-31</td>\n",
              "      <td>1.0</td>\n",
              "      <td>4.4 and up</td>\n",
              "    </tr>\n",
              "    <tr>\n",
              "      <th>632</th>\n",
              "      <td>Latin Dating</td>\n",
              "      <td>DATING</td>\n",
              "      <td>NaN</td>\n",
              "      <td>0</td>\n",
              "      <td>13M</td>\n",
              "      <td>10+</td>\n",
              "      <td>Free</td>\n",
              "      <td>0.00</td>\n",
              "      <td>Mature 17+</td>\n",
              "      <td>2018-07-09</td>\n",
              "      <td>1.0</td>\n",
              "      <td>4.1 and up</td>\n",
              "    </tr>\n",
              "    <tr>\n",
              "      <th>635</th>\n",
              "      <td>Wifi Mingle</td>\n",
              "      <td>DATING</td>\n",
              "      <td>NaN</td>\n",
              "      <td>0</td>\n",
              "      <td>10.0M</td>\n",
              "      <td>10+</td>\n",
              "      <td>Free</td>\n",
              "      <td>0.00</td>\n",
              "      <td>Everyone</td>\n",
              "      <td>2018-07-27</td>\n",
              "      <td>1.3</td>\n",
              "      <td>4.4 and up</td>\n",
              "    </tr>\n",
              "    <tr>\n",
              "      <th>637</th>\n",
              "      <td>Soy Luna - Top Music And Lyrics</td>\n",
              "      <td>DATING</td>\n",
              "      <td>NaN</td>\n",
              "      <td>1</td>\n",
              "      <td>5.0M</td>\n",
              "      <td>100+</td>\n",
              "      <td>Free</td>\n",
              "      <td>0.00</td>\n",
              "      <td>Teen</td>\n",
              "      <td>2018-07-24</td>\n",
              "      <td>1.0</td>\n",
              "      <td>4.0.3 and up</td>\n",
              "    </tr>\n",
              "    <tr>\n",
              "      <th>638</th>\n",
              "      <td>When Will You Get Married</td>\n",
              "      <td>DATING</td>\n",
              "      <td>NaN</td>\n",
              "      <td>2</td>\n",
              "      <td>3.6M</td>\n",
              "      <td>10+</td>\n",
              "      <td>Free</td>\n",
              "      <td>0.00</td>\n",
              "      <td>Everyone</td>\n",
              "      <td>2018-07-14</td>\n",
              "      <td>1.0</td>\n",
              "      <td>4.0.3 and up</td>\n",
              "    </tr>\n",
              "    <tr>\n",
              "      <th>639</th>\n",
              "      <td>HOW TO ASK A GIRL OUT</td>\n",
              "      <td>DATING</td>\n",
              "      <td>NaN</td>\n",
              "      <td>0</td>\n",
              "      <td>19M</td>\n",
              "      <td>10+</td>\n",
              "      <td>Free</td>\n",
              "      <td>0.00</td>\n",
              "      <td>Everyone</td>\n",
              "      <td>2018-07-16</td>\n",
              "      <td>1.0</td>\n",
              "      <td>4.0.3 and up</td>\n",
              "    </tr>\n",
              "    <tr>\n",
              "      <th>...</th>\n",
              "      <td>...</td>\n",
              "      <td>...</td>\n",
              "      <td>...</td>\n",
              "      <td>...</td>\n",
              "      <td>...</td>\n",
              "      <td>...</td>\n",
              "      <td>...</td>\n",
              "      <td>...</td>\n",
              "      <td>...</td>\n",
              "      <td>...</td>\n",
              "      <td>...</td>\n",
              "      <td>...</td>\n",
              "    </tr>\n",
              "    <tr>\n",
              "      <th>10746</th>\n",
              "      <td>FP Opgaver</td>\n",
              "      <td>TOOLS</td>\n",
              "      <td>NaN</td>\n",
              "      <td>9</td>\n",
              "      <td>61M</td>\n",
              "      <td>1,000+</td>\n",
              "      <td>Free</td>\n",
              "      <td>0.00</td>\n",
              "      <td>Everyone</td>\n",
              "      <td>2018-05-31</td>\n",
              "      <td>1.9</td>\n",
              "      <td>4.0.3 and up</td>\n",
              "    </tr>\n",
              "    <tr>\n",
              "      <th>10748</th>\n",
              "      <td>FP Live</td>\n",
              "      <td>COMMUNICATION</td>\n",
              "      <td>NaN</td>\n",
              "      <td>0</td>\n",
              "      <td>3.3M</td>\n",
              "      <td>10+</td>\n",
              "      <td>Free</td>\n",
              "      <td>0.00</td>\n",
              "      <td>Teen</td>\n",
              "      <td>2017-11-03</td>\n",
              "      <td>1.2.4</td>\n",
              "      <td>4.2 and up</td>\n",
              "    </tr>\n",
              "    <tr>\n",
              "      <th>10751</th>\n",
              "      <td>FP Market</td>\n",
              "      <td>FAMILY</td>\n",
              "      <td>NaN</td>\n",
              "      <td>24</td>\n",
              "      <td>44k</td>\n",
              "      <td>1,000+</td>\n",
              "      <td>Free</td>\n",
              "      <td>0.00</td>\n",
              "      <td>Everyone</td>\n",
              "      <td>2012-06-17</td>\n",
              "      <td>1.0</td>\n",
              "      <td>1.6 and up</td>\n",
              "    </tr>\n",
              "    <tr>\n",
              "      <th>10759</th>\n",
              "      <td>FP NFC Rewrite</td>\n",
              "      <td>TOOLS</td>\n",
              "      <td>NaN</td>\n",
              "      <td>17</td>\n",
              "      <td>67k</td>\n",
              "      <td>1,000+</td>\n",
              "      <td>Free</td>\n",
              "      <td>0.00</td>\n",
              "      <td>Everyone</td>\n",
              "      <td>2016-01-29</td>\n",
              "      <td>1.1</td>\n",
              "      <td>4.0 and up</td>\n",
              "    </tr>\n",
              "    <tr>\n",
              "      <th>10761</th>\n",
              "      <td>Greek Bible FP (Audio)</td>\n",
              "      <td>BOOKS_AND_REFERENCE</td>\n",
              "      <td>NaN</td>\n",
              "      <td>5</td>\n",
              "      <td>8.0M</td>\n",
              "      <td>1,000+</td>\n",
              "      <td>Free</td>\n",
              "      <td>0.00</td>\n",
              "      <td>Everyone</td>\n",
              "      <td>2016-08-29</td>\n",
              "      <td>1.0.0</td>\n",
              "      <td>4.0.3 and up</td>\n",
              "    </tr>\n",
              "    <tr>\n",
              "      <th>10762</th>\n",
              "      <td>The FP Shield</td>\n",
              "      <td>NEWS_AND_MAGAZINES</td>\n",
              "      <td>NaN</td>\n",
              "      <td>0</td>\n",
              "      <td>11M</td>\n",
              "      <td>10+</td>\n",
              "      <td>Free</td>\n",
              "      <td>0.00</td>\n",
              "      <td>Everyone</td>\n",
              "      <td>2018-02-01</td>\n",
              "      <td>1.1.0</td>\n",
              "      <td>4.4 and up</td>\n",
              "    </tr>\n",
              "    <tr>\n",
              "      <th>10764</th>\n",
              "      <td>FP Transportation</td>\n",
              "      <td>AUTO_AND_VEHICLES</td>\n",
              "      <td>NaN</td>\n",
              "      <td>1</td>\n",
              "      <td>885k</td>\n",
              "      <td>1+</td>\n",
              "      <td>Free</td>\n",
              "      <td>0.00</td>\n",
              "      <td>Everyone</td>\n",
              "      <td>2018-03-09</td>\n",
              "      <td>10.0.0</td>\n",
              "      <td>4.0 and up</td>\n",
              "    </tr>\n",
              "    <tr>\n",
              "      <th>10769</th>\n",
              "      <td>FQ Magazine</td>\n",
              "      <td>LIFESTYLE</td>\n",
              "      <td>NaN</td>\n",
              "      <td>1</td>\n",
              "      <td>12M</td>\n",
              "      <td>100+</td>\n",
              "      <td>Free</td>\n",
              "      <td>0.00</td>\n",
              "      <td>Everyone</td>\n",
              "      <td>2016-12-12</td>\n",
              "      <td>1.0</td>\n",
              "      <td>4.1 and up</td>\n",
              "    </tr>\n",
              "    <tr>\n",
              "      <th>10772</th>\n",
              "      <td>FQ Load Board for Transporters</td>\n",
              "      <td>BUSINESS</td>\n",
              "      <td>NaN</td>\n",
              "      <td>0</td>\n",
              "      <td>3.9M</td>\n",
              "      <td>100+</td>\n",
              "      <td>Free</td>\n",
              "      <td>0.00</td>\n",
              "      <td>Everyone</td>\n",
              "      <td>2018-02-16</td>\n",
              "      <td>1.1.3</td>\n",
              "      <td>5.0 and up</td>\n",
              "    </tr>\n",
              "    <tr>\n",
              "      <th>10773</th>\n",
              "      <td>FQ India</td>\n",
              "      <td>LIFESTYLE</td>\n",
              "      <td>NaN</td>\n",
              "      <td>0</td>\n",
              "      <td>8.9M</td>\n",
              "      <td>10+</td>\n",
              "      <td>Free</td>\n",
              "      <td>0.00</td>\n",
              "      <td>Everyone</td>\n",
              "      <td>2018-07-31</td>\n",
              "      <td>7.2.2</td>\n",
              "      <td>4.1 and up</td>\n",
              "    </tr>\n",
              "    <tr>\n",
              "      <th>10774</th>\n",
              "      <td>Miss FQ</td>\n",
              "      <td>NEWS_AND_MAGAZINES</td>\n",
              "      <td>NaN</td>\n",
              "      <td>0</td>\n",
              "      <td>36M</td>\n",
              "      <td>10+</td>\n",
              "      <td>Free</td>\n",
              "      <td>0.00</td>\n",
              "      <td>Everyone</td>\n",
              "      <td>2018-04-05</td>\n",
              "      <td>3.8</td>\n",
              "      <td>4.4 and up</td>\n",
              "    </tr>\n",
              "    <tr>\n",
              "      <th>10775</th>\n",
              "      <td>FQ - Football Quiz</td>\n",
              "      <td>SPORTS</td>\n",
              "      <td>NaN</td>\n",
              "      <td>1</td>\n",
              "      <td>9.0M</td>\n",
              "      <td>1+</td>\n",
              "      <td>Free</td>\n",
              "      <td>0.00</td>\n",
              "      <td>Everyone</td>\n",
              "      <td>2018-05-29</td>\n",
              "      <td>1.0</td>\n",
              "      <td>5.0 and up</td>\n",
              "    </tr>\n",
              "    <tr>\n",
              "      <th>10788</th>\n",
              "      <td>Fountain Live Wallpaper HD â Dubai Wallpaper 3D</td>\n",
              "      <td>PERSONALIZATION</td>\n",
              "      <td>NaN</td>\n",
              "      <td>1</td>\n",
              "      <td>20M</td>\n",
              "      <td>500+</td>\n",
              "      <td>Free</td>\n",
              "      <td>0.00</td>\n",
              "      <td>Everyone</td>\n",
              "      <td>2018-04-13</td>\n",
              "      <td>1.0</td>\n",
              "      <td>4.1 and up</td>\n",
              "    </tr>\n",
              "    <tr>\n",
              "      <th>10794</th>\n",
              "      <td>PopStar</td>\n",
              "      <td>FAMILY</td>\n",
              "      <td>NaN</td>\n",
              "      <td>13</td>\n",
              "      <td>5.7M</td>\n",
              "      <td>1,000+</td>\n",
              "      <td>Free</td>\n",
              "      <td>0.00</td>\n",
              "      <td>Everyone</td>\n",
              "      <td>2018-01-03</td>\n",
              "      <td>1.6</td>\n",
              "      <td>4.3 and up</td>\n",
              "    </tr>\n",
              "    <tr>\n",
              "      <th>10798</th>\n",
              "      <td>Word Search Tab 1 FR</td>\n",
              "      <td>FAMILY</td>\n",
              "      <td>NaN</td>\n",
              "      <td>0</td>\n",
              "      <td>1020k</td>\n",
              "      <td>50+</td>\n",
              "      <td>Paid</td>\n",
              "      <td>1.04</td>\n",
              "      <td>Everyone</td>\n",
              "      <td>2012-02-06</td>\n",
              "      <td>1.1</td>\n",
              "      <td>3.0 and up</td>\n",
              "    </tr>\n",
              "    <tr>\n",
              "      <th>10806</th>\n",
              "      <td>SnakeBite911 FR</td>\n",
              "      <td>MEDICAL</td>\n",
              "      <td>NaN</td>\n",
              "      <td>1</td>\n",
              "      <td>42M</td>\n",
              "      <td>500+</td>\n",
              "      <td>Free</td>\n",
              "      <td>0.00</td>\n",
              "      <td>Everyone</td>\n",
              "      <td>2017-10-09</td>\n",
              "      <td>1.2</td>\n",
              "      <td>4.1 and up</td>\n",
              "    </tr>\n",
              "    <tr>\n",
              "      <th>10807</th>\n",
              "      <td>My FR App</td>\n",
              "      <td>TOOLS</td>\n",
              "      <td>NaN</td>\n",
              "      <td>2</td>\n",
              "      <td>4.2M</td>\n",
              "      <td>100+</td>\n",
              "      <td>Free</td>\n",
              "      <td>0.00</td>\n",
              "      <td>Everyone</td>\n",
              "      <td>2018-04-09</td>\n",
              "      <td>1.283.0037</td>\n",
              "      <td>2.3.3 and up</td>\n",
              "    </tr>\n",
              "    <tr>\n",
              "      <th>10808</th>\n",
              "      <td>lesparticuliers.fr</td>\n",
              "      <td>LIFESTYLE</td>\n",
              "      <td>NaN</td>\n",
              "      <td>96</td>\n",
              "      <td>1.0M</td>\n",
              "      <td>50,000+</td>\n",
              "      <td>Free</td>\n",
              "      <td>0.00</td>\n",
              "      <td>Everyone</td>\n",
              "      <td>2014-11-25</td>\n",
              "      <td>1.5</td>\n",
              "      <td>2.3 and up</td>\n",
              "    </tr>\n",
              "    <tr>\n",
              "      <th>10811</th>\n",
              "      <td>FR Plus 1.6</td>\n",
              "      <td>AUTO_AND_VEHICLES</td>\n",
              "      <td>NaN</td>\n",
              "      <td>4</td>\n",
              "      <td>3.9M</td>\n",
              "      <td>100+</td>\n",
              "      <td>Free</td>\n",
              "      <td>0.00</td>\n",
              "      <td>Everyone</td>\n",
              "      <td>2018-07-24</td>\n",
              "      <td>1.3.6</td>\n",
              "      <td>4.4W and up</td>\n",
              "    </tr>\n",
              "    <tr>\n",
              "      <th>10813</th>\n",
              "      <td>DICT.fr Mobile</td>\n",
              "      <td>BUSINESS</td>\n",
              "      <td>NaN</td>\n",
              "      <td>20</td>\n",
              "      <td>2.7M</td>\n",
              "      <td>10,000+</td>\n",
              "      <td>Free</td>\n",
              "      <td>0.00</td>\n",
              "      <td>Everyone</td>\n",
              "      <td>2018-07-17</td>\n",
              "      <td>2.1.10</td>\n",
              "      <td>4.1 and up</td>\n",
              "    </tr>\n",
              "    <tr>\n",
              "      <th>10816</th>\n",
              "      <td>FieldBi FR Offline</td>\n",
              "      <td>BUSINESS</td>\n",
              "      <td>NaN</td>\n",
              "      <td>2</td>\n",
              "      <td>6.8M</td>\n",
              "      <td>100+</td>\n",
              "      <td>Free</td>\n",
              "      <td>0.00</td>\n",
              "      <td>Everyone</td>\n",
              "      <td>2018-08-06</td>\n",
              "      <td>2.1.8</td>\n",
              "      <td>4.1 and up</td>\n",
              "    </tr>\n",
              "    <tr>\n",
              "      <th>10818</th>\n",
              "      <td>Gold Quote - Gold.fr</td>\n",
              "      <td>FINANCE</td>\n",
              "      <td>NaN</td>\n",
              "      <td>96</td>\n",
              "      <td>1.5M</td>\n",
              "      <td>10,000+</td>\n",
              "      <td>Free</td>\n",
              "      <td>0.00</td>\n",
              "      <td>Everyone</td>\n",
              "      <td>2016-05-19</td>\n",
              "      <td>2.3</td>\n",
              "      <td>2.2 and up</td>\n",
              "    </tr>\n",
              "    <tr>\n",
              "      <th>10821</th>\n",
              "      <td>Poop FR</td>\n",
              "      <td>FAMILY</td>\n",
              "      <td>NaN</td>\n",
              "      <td>6</td>\n",
              "      <td>2.5M</td>\n",
              "      <td>50+</td>\n",
              "      <td>Free</td>\n",
              "      <td>0.00</td>\n",
              "      <td>Everyone</td>\n",
              "      <td>2018-05-29</td>\n",
              "      <td>1.0</td>\n",
              "      <td>4.0.3 and up</td>\n",
              "    </tr>\n",
              "    <tr>\n",
              "      <th>10822</th>\n",
              "      <td>PLMGSS FR</td>\n",
              "      <td>PRODUCTIVITY</td>\n",
              "      <td>NaN</td>\n",
              "      <td>0</td>\n",
              "      <td>3.1M</td>\n",
              "      <td>10+</td>\n",
              "      <td>Free</td>\n",
              "      <td>0.00</td>\n",
              "      <td>Everyone</td>\n",
              "      <td>2017-12-01</td>\n",
              "      <td>1</td>\n",
              "      <td>4.4 and up</td>\n",
              "    </tr>\n",
              "    <tr>\n",
              "      <th>10823</th>\n",
              "      <td>List iptv FR</td>\n",
              "      <td>VIDEO_PLAYERS</td>\n",
              "      <td>NaN</td>\n",
              "      <td>1</td>\n",
              "      <td>2.9M</td>\n",
              "      <td>100+</td>\n",
              "      <td>Free</td>\n",
              "      <td>0.00</td>\n",
              "      <td>Everyone</td>\n",
              "      <td>2018-04-22</td>\n",
              "      <td>1.0</td>\n",
              "      <td>4.0.3 and up</td>\n",
              "    </tr>\n",
              "    <tr>\n",
              "      <th>10824</th>\n",
              "      <td>Cardio-FR</td>\n",
              "      <td>MEDICAL</td>\n",
              "      <td>NaN</td>\n",
              "      <td>67</td>\n",
              "      <td>82M</td>\n",
              "      <td>10,000+</td>\n",
              "      <td>Free</td>\n",
              "      <td>0.00</td>\n",
              "      <td>Everyone</td>\n",
              "      <td>2018-07-31</td>\n",
              "      <td>2.2.2</td>\n",
              "      <td>4.4 and up</td>\n",
              "    </tr>\n",
              "    <tr>\n",
              "      <th>10825</th>\n",
              "      <td>Naruto &amp; Boruto FR</td>\n",
              "      <td>SOCIAL</td>\n",
              "      <td>NaN</td>\n",
              "      <td>7</td>\n",
              "      <td>7.7M</td>\n",
              "      <td>100+</td>\n",
              "      <td>Free</td>\n",
              "      <td>0.00</td>\n",
              "      <td>Teen</td>\n",
              "      <td>2018-02-02</td>\n",
              "      <td>1.0</td>\n",
              "      <td>4.0 and up</td>\n",
              "    </tr>\n",
              "    <tr>\n",
              "      <th>10831</th>\n",
              "      <td>payermonstationnement.fr</td>\n",
              "      <td>MAPS_AND_NAVIGATION</td>\n",
              "      <td>NaN</td>\n",
              "      <td>38</td>\n",
              "      <td>9.8M</td>\n",
              "      <td>5,000+</td>\n",
              "      <td>Free</td>\n",
              "      <td>0.00</td>\n",
              "      <td>Everyone</td>\n",
              "      <td>2018-06-13</td>\n",
              "      <td>2.0.148.0</td>\n",
              "      <td>4.0 and up</td>\n",
              "    </tr>\n",
              "    <tr>\n",
              "      <th>10835</th>\n",
              "      <td>FR Forms</td>\n",
              "      <td>BUSINESS</td>\n",
              "      <td>NaN</td>\n",
              "      <td>0</td>\n",
              "      <td>9.6M</td>\n",
              "      <td>10+</td>\n",
              "      <td>Free</td>\n",
              "      <td>0.00</td>\n",
              "      <td>Everyone</td>\n",
              "      <td>2016-09-29</td>\n",
              "      <td>1.1.5</td>\n",
              "      <td>4.0 and up</td>\n",
              "    </tr>\n",
              "    <tr>\n",
              "      <th>10838</th>\n",
              "      <td>Parkinson Exercices FR</td>\n",
              "      <td>MEDICAL</td>\n",
              "      <td>NaN</td>\n",
              "      <td>3</td>\n",
              "      <td>9.5M</td>\n",
              "      <td>1,000+</td>\n",
              "      <td>Free</td>\n",
              "      <td>0.00</td>\n",
              "      <td>Everyone</td>\n",
              "      <td>2017-01-20</td>\n",
              "      <td>1.0</td>\n",
              "      <td>2.2 and up</td>\n",
              "    </tr>\n",
              "  </tbody>\n",
              "</table>\n",
              "<p>1463 rows × 12 columns</p>\n",
              "</div>"
            ],
            "text/plain": [
              "                                                     App             Category  \\\n",
              "113                            Wrinkles and rejuvenation               BEAUTY   \n",
              "123                               Manicure - nail design               BEAUTY   \n",
              "126                         Skin Care and Natural Beauty               BEAUTY   \n",
              "129                  Secrets of beauty, youth and health               BEAUTY   \n",
              "130                   Recipes and tips for losing weight               BEAUTY   \n",
              "134                        Lady adviser (beauty, health)               BEAUTY   \n",
              "163                           Anonymous caller detection  BOOKS_AND_REFERENCE   \n",
              "180                  SH-02J Owner's Manual (Android 8.0)  BOOKS_AND_REFERENCE   \n",
              "185                       URBANO V 02 instruction manual  BOOKS_AND_REFERENCE   \n",
              "227                                       Y! Mobile menu             BUSINESS   \n",
              "321    ãRanobbe complete freeã Novelba - Free app...               COMICS   \n",
              "478                                    Truth or Dare Pro               DATING   \n",
              "479      Private Dating, Hide App- Blue for PrivacyHider               DATING   \n",
              "480                                 Ad Blocker for SayHi               DATING   \n",
              "617             Meet With Strangers: Video Chat & Dating               DATING   \n",
              "620             Ost. Zombies Cast - New Music and Lyrics               DATING   \n",
              "621                                   Dating White Girls               DATING   \n",
              "623                                         Geeks Dating               DATING   \n",
              "624                          Live chat - free video chat               DATING   \n",
              "626                  Fishing Brain & Boating Maps Marine               DATING   \n",
              "627                                   CAM5678 Video Chat               DATING   \n",
              "628                              Video chat live advices               DATING   \n",
              "629                                       chat live chat               DATING   \n",
              "630                                    Pet Lovers Dating               DATING   \n",
              "631            Friend Find: free chat + flirt dating app               DATING   \n",
              "632                                         Latin Dating               DATING   \n",
              "635                                          Wifi Mingle               DATING   \n",
              "637                      Soy Luna - Top Music And Lyrics               DATING   \n",
              "638                            When Will You Get Married               DATING   \n",
              "639                                HOW TO ASK A GIRL OUT               DATING   \n",
              "...                                                  ...                  ...   \n",
              "10746                                         FP Opgaver                TOOLS   \n",
              "10748                                            FP Live        COMMUNICATION   \n",
              "10751                                          FP Market               FAMILY   \n",
              "10759                                     FP NFC Rewrite                TOOLS   \n",
              "10761                             Greek Bible FP (Audio)  BOOKS_AND_REFERENCE   \n",
              "10762                                      The FP Shield   NEWS_AND_MAGAZINES   \n",
              "10764                                  FP Transportation    AUTO_AND_VEHICLES   \n",
              "10769                                        FQ Magazine            LIFESTYLE   \n",
              "10772                     FQ Load Board for Transporters             BUSINESS   \n",
              "10773                                           FQ India            LIFESTYLE   \n",
              "10774                                            Miss FQ   NEWS_AND_MAGAZINES   \n",
              "10775                                 FQ - Football Quiz               SPORTS   \n",
              "10788  Fountain Live Wallpaper HD â Dubai Wallpaper 3D      PERSONALIZATION   \n",
              "10794                                            PopStar               FAMILY   \n",
              "10798                               Word Search Tab 1 FR               FAMILY   \n",
              "10806                                    SnakeBite911 FR              MEDICAL   \n",
              "10807                                          My FR App                TOOLS   \n",
              "10808                                 lesparticuliers.fr            LIFESTYLE   \n",
              "10811                                        FR Plus 1.6    AUTO_AND_VEHICLES   \n",
              "10813                                     DICT.fr Mobile             BUSINESS   \n",
              "10816                                 FieldBi FR Offline             BUSINESS   \n",
              "10818                               Gold Quote - Gold.fr              FINANCE   \n",
              "10821                                            Poop FR               FAMILY   \n",
              "10822                                          PLMGSS FR         PRODUCTIVITY   \n",
              "10823                                       List iptv FR        VIDEO_PLAYERS   \n",
              "10824                                          Cardio-FR              MEDICAL   \n",
              "10825                                 Naruto & Boruto FR               SOCIAL   \n",
              "10831                           payermonstationnement.fr  MAPS_AND_NAVIGATION   \n",
              "10835                                           FR Forms             BUSINESS   \n",
              "10838                             Parkinson Exercices FR              MEDICAL   \n",
              "\n",
              "       Rating  Reviews   Size  Installs  Type  Price Content Rating  \\\n",
              "113       NaN      182   5.7M  100,000+  Free   0.00   Everyone 10+   \n",
              "123       NaN      119   3.7M   50,000+  Free   0.00       Everyone   \n",
              "126       NaN      654   7.4M  100,000+  Free   0.00           Teen   \n",
              "129       NaN       77   2.9M   10,000+  Free   0.00     Mature 17+   \n",
              "130       NaN       35   3.1M   10,000+  Free   0.00   Everyone 10+   \n",
              "134       NaN       30   9.9M   10,000+  Free   0.00     Mature 17+   \n",
              "163       NaN      161   2.7M   10,000+  Free   0.00       Everyone   \n",
              "180       NaN        2   7.2M   50,000+  Free   0.00       Everyone   \n",
              "185       NaN      114   7.3M  100,000+  Free   0.00       Everyone   \n",
              "227       NaN        9   1.2M  100,000+  Free   0.00       Everyone   \n",
              "321       NaN     1330    22M   50,000+  Free   0.00       Everyone   \n",
              "478       NaN        0    20M       50+  Paid   1.49           Teen   \n",
              "479       NaN        0    18k      100+  Paid   2.99       Everyone   \n",
              "480       NaN        4   1.2M      100+  Paid   3.99           Teen   \n",
              "617       NaN        2   3.7M      500+  Free   0.00     Mature 17+   \n",
              "620       NaN        1   4.6M      100+  Free   0.00           Teen   \n",
              "621       NaN        0   3.6M       50+  Free   0.00     Mature 17+   \n",
              "623       NaN        0    13M       50+  Free   0.00     Mature 17+   \n",
              "624       NaN        1   8.7M      500+  Free   0.00     Mature 17+   \n",
              "626       NaN        3   6.9M      500+  Free   0.00       Everyone   \n",
              "627       NaN        0    39M      500+  Free   0.00     Mature 17+   \n",
              "628       NaN        0   8.0M      100+  Free   0.00       Everyone   \n",
              "629       NaN       24   3.9M    1,000+  Free   0.00     Mature 17+   \n",
              "630       NaN        0    14M       10+  Free   0.00     Mature 17+   \n",
              "631       NaN       23    11M      100+  Free   0.00     Mature 17+   \n",
              "632       NaN        0    13M       10+  Free   0.00     Mature 17+   \n",
              "635       NaN        0  10.0M       10+  Free   0.00       Everyone   \n",
              "637       NaN        1   5.0M      100+  Free   0.00           Teen   \n",
              "638       NaN        2   3.6M       10+  Free   0.00       Everyone   \n",
              "639       NaN        0    19M       10+  Free   0.00       Everyone   \n",
              "...       ...      ...    ...       ...   ...    ...            ...   \n",
              "10746     NaN        9    61M    1,000+  Free   0.00       Everyone   \n",
              "10748     NaN        0   3.3M       10+  Free   0.00           Teen   \n",
              "10751     NaN       24    44k    1,000+  Free   0.00       Everyone   \n",
              "10759     NaN       17    67k    1,000+  Free   0.00       Everyone   \n",
              "10761     NaN        5   8.0M    1,000+  Free   0.00       Everyone   \n",
              "10762     NaN        0    11M       10+  Free   0.00       Everyone   \n",
              "10764     NaN        1   885k        1+  Free   0.00       Everyone   \n",
              "10769     NaN        1    12M      100+  Free   0.00       Everyone   \n",
              "10772     NaN        0   3.9M      100+  Free   0.00       Everyone   \n",
              "10773     NaN        0   8.9M       10+  Free   0.00       Everyone   \n",
              "10774     NaN        0    36M       10+  Free   0.00       Everyone   \n",
              "10775     NaN        1   9.0M        1+  Free   0.00       Everyone   \n",
              "10788     NaN        1    20M      500+  Free   0.00       Everyone   \n",
              "10794     NaN       13   5.7M    1,000+  Free   0.00       Everyone   \n",
              "10798     NaN        0  1020k       50+  Paid   1.04       Everyone   \n",
              "10806     NaN        1    42M      500+  Free   0.00       Everyone   \n",
              "10807     NaN        2   4.2M      100+  Free   0.00       Everyone   \n",
              "10808     NaN       96   1.0M   50,000+  Free   0.00       Everyone   \n",
              "10811     NaN        4   3.9M      100+  Free   0.00       Everyone   \n",
              "10813     NaN       20   2.7M   10,000+  Free   0.00       Everyone   \n",
              "10816     NaN        2   6.8M      100+  Free   0.00       Everyone   \n",
              "10818     NaN       96   1.5M   10,000+  Free   0.00       Everyone   \n",
              "10821     NaN        6   2.5M       50+  Free   0.00       Everyone   \n",
              "10822     NaN        0   3.1M       10+  Free   0.00       Everyone   \n",
              "10823     NaN        1   2.9M      100+  Free   0.00       Everyone   \n",
              "10824     NaN       67    82M   10,000+  Free   0.00       Everyone   \n",
              "10825     NaN        7   7.7M      100+  Free   0.00           Teen   \n",
              "10831     NaN       38   9.8M    5,000+  Free   0.00       Everyone   \n",
              "10835     NaN        0   9.6M       10+  Free   0.00       Everyone   \n",
              "10838     NaN        3   9.5M    1,000+  Free   0.00       Everyone   \n",
              "\n",
              "      Last Updated Current Ver   Android Ver  \n",
              "113     2017-09-20         8.0    3.0 and up  \n",
              "123     2018-07-23         1.3    4.1 and up  \n",
              "126     2018-07-17        1.15    4.1 and up  \n",
              "129     2017-08-08         2.0    2.3 and up  \n",
              "130     2017-12-11         2.0    3.0 and up  \n",
              "134     2018-01-24         3.0    3.0 and up  \n",
              "163     2018-07-13         1.0    2.3 and up  \n",
              "180     2018-06-15         3.0    6.0 and up  \n",
              "185     2015-08-07         1.1    5.1 and up  \n",
              "227     2018-04-09       1.0.5    6.0 and up  \n",
              "321     2018-07-03       6.1.1    4.2 and up  \n",
              "478     2017-09-01         1.0    4.0 and up  \n",
              "479     2017-07-25       1.0.1    4.0 and up  \n",
              "480     2018-08-02         1.2  4.0.3 and up  \n",
              "617     2018-07-16          1.    4.0 and up  \n",
              "620     2018-07-20         1.0  4.0.3 and up  \n",
              "621     2018-07-20         1.0    4.0 and up  \n",
              "623     2018-07-10         1.0    4.1 and up  \n",
              "624     2018-07-23        3.52  4.0.3 and up  \n",
              "626     2018-07-23         1.0  4.0.3 and up  \n",
              "627     2018-07-13       5.5.8  4.0.3 and up  \n",
              "628     2018-07-10         1.0    3.0 and up  \n",
              "629     2018-07-26         1.0    4.0 and up  \n",
              "630     2018-07-09         1.0    4.1 and up  \n",
              "631     2018-07-31         1.0    4.4 and up  \n",
              "632     2018-07-09         1.0    4.1 and up  \n",
              "635     2018-07-27         1.3    4.4 and up  \n",
              "637     2018-07-24         1.0  4.0.3 and up  \n",
              "638     2018-07-14         1.0  4.0.3 and up  \n",
              "639     2018-07-16         1.0  4.0.3 and up  \n",
              "...            ...         ...           ...  \n",
              "10746   2018-05-31         1.9  4.0.3 and up  \n",
              "10748   2017-11-03       1.2.4    4.2 and up  \n",
              "10751   2012-06-17         1.0    1.6 and up  \n",
              "10759   2016-01-29         1.1    4.0 and up  \n",
              "10761   2016-08-29       1.0.0  4.0.3 and up  \n",
              "10762   2018-02-01       1.1.0    4.4 and up  \n",
              "10764   2018-03-09      10.0.0    4.0 and up  \n",
              "10769   2016-12-12         1.0    4.1 and up  \n",
              "10772   2018-02-16       1.1.3    5.0 and up  \n",
              "10773   2018-07-31       7.2.2    4.1 and up  \n",
              "10774   2018-04-05         3.8    4.4 and up  \n",
              "10775   2018-05-29         1.0    5.0 and up  \n",
              "10788   2018-04-13         1.0    4.1 and up  \n",
              "10794   2018-01-03         1.6    4.3 and up  \n",
              "10798   2012-02-06         1.1    3.0 and up  \n",
              "10806   2017-10-09         1.2    4.1 and up  \n",
              "10807   2018-04-09  1.283.0037  2.3.3 and up  \n",
              "10808   2014-11-25         1.5    2.3 and up  \n",
              "10811   2018-07-24       1.3.6   4.4W and up  \n",
              "10813   2018-07-17      2.1.10    4.1 and up  \n",
              "10816   2018-08-06       2.1.8    4.1 and up  \n",
              "10818   2016-05-19         2.3    2.2 and up  \n",
              "10821   2018-05-29         1.0  4.0.3 and up  \n",
              "10822   2017-12-01           1    4.4 and up  \n",
              "10823   2018-04-22         1.0  4.0.3 and up  \n",
              "10824   2018-07-31       2.2.2    4.4 and up  \n",
              "10825   2018-02-02         1.0    4.0 and up  \n",
              "10831   2018-06-13   2.0.148.0    4.0 and up  \n",
              "10835   2016-09-29       1.1.5    4.0 and up  \n",
              "10838   2017-01-20         1.0    2.2 and up  \n",
              "\n",
              "[1463 rows x 12 columns]"
            ]
          },
          "metadata": {
            "tags": []
          },
          "execution_count": 35
        }
      ]
    },
    {
      "metadata": {
        "id": "LXzrM1Dbcpub",
        "colab_type": "code",
        "outputId": "532495ee-a150-43ea-cf2b-12c413429557",
        "colab": {
          "base_uri": "https://localhost:8080/",
          "height": 331
        }
      },
      "cell_type": "code",
      "source": [
        "dataset[dataset['Current Ver'].isna()]"
      ],
      "execution_count": 36,
      "outputs": [
        {
          "output_type": "execute_result",
          "data": {
            "text/html": [
              "<div>\n",
              "<style scoped>\n",
              "    .dataframe tbody tr th:only-of-type {\n",
              "        vertical-align: middle;\n",
              "    }\n",
              "\n",
              "    .dataframe tbody tr th {\n",
              "        vertical-align: top;\n",
              "    }\n",
              "\n",
              "    .dataframe thead th {\n",
              "        text-align: right;\n",
              "    }\n",
              "</style>\n",
              "<table border=\"1\" class=\"dataframe\">\n",
              "  <thead>\n",
              "    <tr style=\"text-align: right;\">\n",
              "      <th></th>\n",
              "      <th>App</th>\n",
              "      <th>Category</th>\n",
              "      <th>Rating</th>\n",
              "      <th>Reviews</th>\n",
              "      <th>Size</th>\n",
              "      <th>Installs</th>\n",
              "      <th>Type</th>\n",
              "      <th>Price</th>\n",
              "      <th>Content Rating</th>\n",
              "      <th>Last Updated</th>\n",
              "      <th>Current Ver</th>\n",
              "      <th>Android Ver</th>\n",
              "    </tr>\n",
              "  </thead>\n",
              "  <tbody>\n",
              "    <tr>\n",
              "      <th>15</th>\n",
              "      <td>Learn To Draw Kawaii Characters</td>\n",
              "      <td>ART_AND_DESIGN</td>\n",
              "      <td>3.2</td>\n",
              "      <td>55</td>\n",
              "      <td>2.7M</td>\n",
              "      <td>5,000+</td>\n",
              "      <td>Free</td>\n",
              "      <td>0.00</td>\n",
              "      <td>Everyone</td>\n",
              "      <td>2018-06-06</td>\n",
              "      <td>NaN</td>\n",
              "      <td>4.2 and up</td>\n",
              "    </tr>\n",
              "    <tr>\n",
              "      <th>1553</th>\n",
              "      <td>Market Update Helper</td>\n",
              "      <td>LIBRARIES_AND_DEMO</td>\n",
              "      <td>4.1</td>\n",
              "      <td>20145</td>\n",
              "      <td>11k</td>\n",
              "      <td>1,000,000+</td>\n",
              "      <td>Free</td>\n",
              "      <td>0.00</td>\n",
              "      <td>Everyone</td>\n",
              "      <td>2013-02-12</td>\n",
              "      <td>NaN</td>\n",
              "      <td>1.5 and up</td>\n",
              "    </tr>\n",
              "    <tr>\n",
              "      <th>6322</th>\n",
              "      <td>Virtual DJ Sound Mixer</td>\n",
              "      <td>TOOLS</td>\n",
              "      <td>4.2</td>\n",
              "      <td>4010</td>\n",
              "      <td>8.7M</td>\n",
              "      <td>500,000+</td>\n",
              "      <td>Free</td>\n",
              "      <td>0.00</td>\n",
              "      <td>Everyone</td>\n",
              "      <td>2017-05-10</td>\n",
              "      <td>NaN</td>\n",
              "      <td>4.0 and up</td>\n",
              "    </tr>\n",
              "    <tr>\n",
              "      <th>6803</th>\n",
              "      <td>BT Master</td>\n",
              "      <td>FAMILY</td>\n",
              "      <td>NaN</td>\n",
              "      <td>0</td>\n",
              "      <td>222k</td>\n",
              "      <td>100+</td>\n",
              "      <td>Free</td>\n",
              "      <td>0.00</td>\n",
              "      <td>Everyone</td>\n",
              "      <td>2016-11-06</td>\n",
              "      <td>NaN</td>\n",
              "      <td>1.6 and up</td>\n",
              "    </tr>\n",
              "    <tr>\n",
              "      <th>7333</th>\n",
              "      <td>Dots puzzle</td>\n",
              "      <td>FAMILY</td>\n",
              "      <td>4.0</td>\n",
              "      <td>179</td>\n",
              "      <td>14M</td>\n",
              "      <td>50,000+</td>\n",
              "      <td>Paid</td>\n",
              "      <td>0.99</td>\n",
              "      <td>Everyone</td>\n",
              "      <td>2018-04-18</td>\n",
              "      <td>NaN</td>\n",
              "      <td>4.0 and up</td>\n",
              "    </tr>\n",
              "    <tr>\n",
              "      <th>7407</th>\n",
              "      <td>Calculate My IQ</td>\n",
              "      <td>FAMILY</td>\n",
              "      <td>NaN</td>\n",
              "      <td>44</td>\n",
              "      <td>7.2M</td>\n",
              "      <td>10,000+</td>\n",
              "      <td>Free</td>\n",
              "      <td>0.00</td>\n",
              "      <td>Everyone</td>\n",
              "      <td>2017-04-03</td>\n",
              "      <td>NaN</td>\n",
              "      <td>2.3 and up</td>\n",
              "    </tr>\n",
              "    <tr>\n",
              "      <th>7730</th>\n",
              "      <td>UFO-CQ</td>\n",
              "      <td>TOOLS</td>\n",
              "      <td>NaN</td>\n",
              "      <td>1</td>\n",
              "      <td>237k</td>\n",
              "      <td>10+</td>\n",
              "      <td>Paid</td>\n",
              "      <td>0.99</td>\n",
              "      <td>Everyone</td>\n",
              "      <td>2016-07-04</td>\n",
              "      <td>NaN</td>\n",
              "      <td>2.0 and up</td>\n",
              "    </tr>\n",
              "    <tr>\n",
              "      <th>10342</th>\n",
              "      <td>La Fe de Jesus</td>\n",
              "      <td>BOOKS_AND_REFERENCE</td>\n",
              "      <td>NaN</td>\n",
              "      <td>8</td>\n",
              "      <td>658k</td>\n",
              "      <td>1,000+</td>\n",
              "      <td>Free</td>\n",
              "      <td>0.00</td>\n",
              "      <td>Everyone</td>\n",
              "      <td>2017-01-31</td>\n",
              "      <td>NaN</td>\n",
              "      <td>3.0 and up</td>\n",
              "    </tr>\n",
              "  </tbody>\n",
              "</table>\n",
              "</div>"
            ],
            "text/plain": [
              "                                   App             Category  Rating  Reviews  \\\n",
              "15     Learn To Draw Kawaii Characters       ART_AND_DESIGN     3.2       55   \n",
              "1553              Market Update Helper   LIBRARIES_AND_DEMO     4.1    20145   \n",
              "6322            Virtual DJ Sound Mixer                TOOLS     4.2     4010   \n",
              "6803                         BT Master               FAMILY     NaN        0   \n",
              "7333                       Dots puzzle               FAMILY     4.0      179   \n",
              "7407                   Calculate My IQ               FAMILY     NaN       44   \n",
              "7730                            UFO-CQ                TOOLS     NaN        1   \n",
              "10342                   La Fe de Jesus  BOOKS_AND_REFERENCE     NaN        8   \n",
              "\n",
              "       Size    Installs  Type  Price Content Rating Last Updated Current Ver  \\\n",
              "15     2.7M      5,000+  Free   0.00       Everyone   2018-06-06         NaN   \n",
              "1553    11k  1,000,000+  Free   0.00       Everyone   2013-02-12         NaN   \n",
              "6322   8.7M    500,000+  Free   0.00       Everyone   2017-05-10         NaN   \n",
              "6803   222k        100+  Free   0.00       Everyone   2016-11-06         NaN   \n",
              "7333    14M     50,000+  Paid   0.99       Everyone   2018-04-18         NaN   \n",
              "7407   7.2M     10,000+  Free   0.00       Everyone   2017-04-03         NaN   \n",
              "7730   237k         10+  Paid   0.99       Everyone   2016-07-04         NaN   \n",
              "10342  658k      1,000+  Free   0.00       Everyone   2017-01-31         NaN   \n",
              "\n",
              "      Android Ver  \n",
              "15     4.2 and up  \n",
              "1553   1.5 and up  \n",
              "6322   4.0 and up  \n",
              "6803   1.6 and up  \n",
              "7333   4.0 and up  \n",
              "7407   2.3 and up  \n",
              "7730   2.0 and up  \n",
              "10342  3.0 and up  "
            ]
          },
          "metadata": {
            "tags": []
          },
          "execution_count": 36
        }
      ]
    },
    {
      "metadata": {
        "id": "DFR8NV_acpul",
        "colab_type": "code",
        "outputId": "2cf50a2b-4655-4169-9f20-aea34c045e6f",
        "colab": {
          "base_uri": "https://localhost:8080/",
          "height": 111
        }
      },
      "cell_type": "code",
      "source": [
        "dataset[dataset['Android Ver'].isna()]"
      ],
      "execution_count": 37,
      "outputs": [
        {
          "output_type": "execute_result",
          "data": {
            "text/html": [
              "<div>\n",
              "<style scoped>\n",
              "    .dataframe tbody tr th:only-of-type {\n",
              "        vertical-align: middle;\n",
              "    }\n",
              "\n",
              "    .dataframe tbody tr th {\n",
              "        vertical-align: top;\n",
              "    }\n",
              "\n",
              "    .dataframe thead th {\n",
              "        text-align: right;\n",
              "    }\n",
              "</style>\n",
              "<table border=\"1\" class=\"dataframe\">\n",
              "  <thead>\n",
              "    <tr style=\"text-align: right;\">\n",
              "      <th></th>\n",
              "      <th>App</th>\n",
              "      <th>Category</th>\n",
              "      <th>Rating</th>\n",
              "      <th>Reviews</th>\n",
              "      <th>Size</th>\n",
              "      <th>Installs</th>\n",
              "      <th>Type</th>\n",
              "      <th>Price</th>\n",
              "      <th>Content Rating</th>\n",
              "      <th>Last Updated</th>\n",
              "      <th>Current Ver</th>\n",
              "      <th>Android Ver</th>\n",
              "    </tr>\n",
              "  </thead>\n",
              "  <tbody>\n",
              "    <tr>\n",
              "      <th>4453</th>\n",
              "      <td>[substratum] Vacuum: P</td>\n",
              "      <td>PERSONALIZATION</td>\n",
              "      <td>4.4</td>\n",
              "      <td>230</td>\n",
              "      <td>11M</td>\n",
              "      <td>1,000+</td>\n",
              "      <td>Paid</td>\n",
              "      <td>1.49</td>\n",
              "      <td>Everyone</td>\n",
              "      <td>2018-07-20</td>\n",
              "      <td>4.4</td>\n",
              "      <td>NaN</td>\n",
              "    </tr>\n",
              "    <tr>\n",
              "      <th>4490</th>\n",
              "      <td>Pi Dark [substratum]</td>\n",
              "      <td>PERSONALIZATION</td>\n",
              "      <td>4.5</td>\n",
              "      <td>189</td>\n",
              "      <td>2.1M</td>\n",
              "      <td>10,000+</td>\n",
              "      <td>Free</td>\n",
              "      <td>0.00</td>\n",
              "      <td>Everyone</td>\n",
              "      <td>2018-03-27</td>\n",
              "      <td>1.1</td>\n",
              "      <td>NaN</td>\n",
              "    </tr>\n",
              "  </tbody>\n",
              "</table>\n",
              "</div>"
            ],
            "text/plain": [
              "                         App         Category  Rating  Reviews  Size Installs  \\\n",
              "4453  [substratum] Vacuum: P  PERSONALIZATION     4.4      230   11M   1,000+   \n",
              "4490    Pi Dark [substratum]  PERSONALIZATION     4.5      189  2.1M  10,000+   \n",
              "\n",
              "      Type  Price Content Rating Last Updated Current Ver Android Ver  \n",
              "4453  Paid   1.49       Everyone   2018-07-20         4.4         NaN  \n",
              "4490  Free   0.00       Everyone   2018-03-27         1.1         NaN  "
            ]
          },
          "metadata": {
            "tags": []
          },
          "execution_count": 37
        }
      ]
    },
    {
      "metadata": {
        "id": "amq01YJwHVI8",
        "colab_type": "text"
      },
      "cell_type": "markdown",
      "source": [
        "**Transformando o tipo das colunas a seguir em categórico, de acordo com os resultados mostrados ao descrever cada uma delas** "
      ]
    },
    {
      "metadata": {
        "id": "ddaQgqvQcpu5",
        "colab_type": "code",
        "colab": {}
      },
      "cell_type": "code",
      "source": [
        "dataset['Type'] = dataset['Type'].astype(\"category\")\n",
        "dataset['Content Rating'] = dataset['Content Rating'].astype(\"category\") \n",
        "dataset['Category'] = dataset['Category'].astype(\"category\") \n",
        "dataset['Installs'] = dataset['Installs'].astype(\"category\")\n",
        "dataset['Android Ver'] = dataset['Android Ver'].astype(\"category\")\n",
        "dataset['Current Ver'] = dataset['Current Ver'].astype(\"category\")\n",
        "dataset['Size'] = dataset['Size'].astype(\"category\")"
      ],
      "execution_count": 0,
      "outputs": []
    },
    {
      "metadata": {
        "id": "hEKF0tQFTRAs",
        "colab_type": "code",
        "colab": {}
      },
      "cell_type": "code",
      "source": [
        "#dicionarios para mapear as categorias com seus códigos para fazer teste de hipótese mais adiante\n",
        "category_dict = dict(enumerate(dataset['Category'].cat.categories))\n",
        "type_dict = dict(enumerate(dataset['Type'].cat.categories))\n",
        "cont_rating_dict = dict(enumerate(dataset['Content Rating'].cat.categories))\n",
        "installs_dict = dict(enumerate(dataset['Installs'].cat.categories))\n",
        "android_ver_dict = dict(enumerate(dataset['Android Ver'].cat.categories))"
      ],
      "execution_count": 0,
      "outputs": []
    },
    {
      "metadata": {
        "id": "I1KCfHsqcpvM",
        "colab_type": "code",
        "colab": {}
      },
      "cell_type": "code",
      "source": [
        "dataset['Type'] = dataset['Type'].cat.codes\n",
        "dataset['Content Rating'] = dataset['Content Rating'].cat.codes\n",
        "dataset['Category'] = dataset['Category'].cat.codes\n",
        "dataset['Installs'] = dataset['Installs'].cat.codes\n",
        "dataset['Android Ver'] = dataset['Android Ver'].cat.codes\n",
        "dataset['Current Ver'] = dataset['Current Ver'].cat.codes\n",
        "dataset['Size'] = dataset['Size'].cat.codes"
      ],
      "execution_count": 0,
      "outputs": []
    },
    {
      "metadata": {
        "id": "Vgrp_sKtNiBa",
        "colab_type": "text"
      },
      "cell_type": "markdown",
      "source": [
        "**Imputação de dados com KNN, visto que a coluna Ratings (nota de avaliação de um aplicativo) possui mais de 1400 entradas NaN**"
      ]
    },
    {
      "metadata": {
        "id": "KJ9Ho6T2cp0M",
        "colab_type": "code",
        "outputId": "74c5702b-3561-49ae-b8fe-d61763955ed7",
        "colab": {
          "base_uri": "https://localhost:8080/",
          "height": 1683
        }
      },
      "cell_type": "code",
      "source": [
        "from fancyimpute import KNN\n",
        "dataset_knn = KNN(k=3).fit_transform(dataset[['Category','Rating','Type','Price','Installs','Reviews','Size','Content Rating','Current Ver','Android Ver']])\n"
      ],
      "execution_count": 42,
      "outputs": [
        {
          "output_type": "stream",
          "text": [
            "Using TensorFlow backend.\n"
          ],
          "name": "stderr"
        },
        {
          "output_type": "stream",
          "text": [
            "Imputing row 1/9659 with 0 missing, elapsed time: 15.918\n",
            "Imputing row 101/9659 with 0 missing, elapsed time: 15.919\n",
            "Imputing row 201/9659 with 0 missing, elapsed time: 15.920\n",
            "Imputing row 301/9659 with 0 missing, elapsed time: 15.921\n",
            "Imputing row 401/9659 with 0 missing, elapsed time: 15.922\n",
            "Imputing row 501/9659 with 0 missing, elapsed time: 15.924\n",
            "Imputing row 601/9659 with 0 missing, elapsed time: 15.925\n",
            "Imputing row 701/9659 with 0 missing, elapsed time: 15.926\n",
            "Imputing row 801/9659 with 0 missing, elapsed time: 15.927\n",
            "Imputing row 901/9659 with 0 missing, elapsed time: 15.927\n",
            "Imputing row 1001/9659 with 0 missing, elapsed time: 15.928\n",
            "Imputing row 1101/9659 with 0 missing, elapsed time: 15.929\n",
            "Imputing row 1201/9659 with 0 missing, elapsed time: 15.930\n",
            "Imputing row 1301/9659 with 0 missing, elapsed time: 15.930\n",
            "Imputing row 1401/9659 with 0 missing, elapsed time: 15.931\n",
            "Imputing row 1501/9659 with 0 missing, elapsed time: 15.931\n",
            "Imputing row 1601/9659 with 0 missing, elapsed time: 15.932\n",
            "Imputing row 1701/9659 with 0 missing, elapsed time: 15.934\n",
            "Imputing row 1801/9659 with 0 missing, elapsed time: 15.936\n",
            "Imputing row 1901/9659 with 0 missing, elapsed time: 15.936\n",
            "Imputing row 2001/9659 with 0 missing, elapsed time: 15.936\n",
            "Imputing row 2101/9659 with 0 missing, elapsed time: 15.937\n",
            "Imputing row 2201/9659 with 0 missing, elapsed time: 15.937\n",
            "Imputing row 2301/9659 with 0 missing, elapsed time: 15.938\n",
            "Imputing row 2401/9659 with 0 missing, elapsed time: 15.938\n",
            "Imputing row 2501/9659 with 0 missing, elapsed time: 15.939\n",
            "Imputing row 2601/9659 with 0 missing, elapsed time: 15.940\n",
            "Imputing row 2701/9659 with 0 missing, elapsed time: 15.940\n",
            "Imputing row 2801/9659 with 0 missing, elapsed time: 15.941\n",
            "Imputing row 2901/9659 with 0 missing, elapsed time: 15.941\n",
            "Imputing row 3001/9659 with 0 missing, elapsed time: 15.942\n",
            "Imputing row 3101/9659 with 0 missing, elapsed time: 15.943\n",
            "Imputing row 3201/9659 with 0 missing, elapsed time: 15.944\n",
            "Imputing row 3301/9659 with 0 missing, elapsed time: 15.945\n",
            "Imputing row 3401/9659 with 0 missing, elapsed time: 15.946\n",
            "Imputing row 3501/9659 with 0 missing, elapsed time: 15.947\n",
            "Imputing row 3601/9659 with 0 missing, elapsed time: 15.947\n",
            "Imputing row 3701/9659 with 0 missing, elapsed time: 15.948\n",
            "Imputing row 3801/9659 with 0 missing, elapsed time: 15.949\n",
            "Imputing row 3901/9659 with 0 missing, elapsed time: 15.950\n",
            "Imputing row 4001/9659 with 0 missing, elapsed time: 15.954\n",
            "Imputing row 4101/9659 with 1 missing, elapsed time: 15.956\n",
            "Imputing row 4201/9659 with 0 missing, elapsed time: 15.957\n",
            "Imputing row 4301/9659 with 0 missing, elapsed time: 15.958\n",
            "Imputing row 4401/9659 with 0 missing, elapsed time: 15.959\n",
            "Imputing row 4501/9659 with 0 missing, elapsed time: 15.960\n",
            "Imputing row 4601/9659 with 0 missing, elapsed time: 15.962\n",
            "Imputing row 4701/9659 with 0 missing, elapsed time: 15.964\n",
            "Imputing row 4801/9659 with 0 missing, elapsed time: 15.966\n",
            "Imputing row 4901/9659 with 0 missing, elapsed time: 15.967\n",
            "Imputing row 5001/9659 with 0 missing, elapsed time: 15.969\n",
            "Imputing row 5101/9659 with 0 missing, elapsed time: 15.971\n",
            "Imputing row 5201/9659 with 0 missing, elapsed time: 15.973\n",
            "Imputing row 5301/9659 with 1 missing, elapsed time: 15.975\n",
            "Imputing row 5401/9659 with 0 missing, elapsed time: 15.977\n",
            "Imputing row 5501/9659 with 0 missing, elapsed time: 15.979\n",
            "Imputing row 5601/9659 with 0 missing, elapsed time: 15.981\n",
            "Imputing row 5701/9659 with 0 missing, elapsed time: 15.985\n",
            "Imputing row 5801/9659 with 0 missing, elapsed time: 15.987\n",
            "Imputing row 5901/9659 with 1 missing, elapsed time: 15.988\n",
            "Imputing row 6001/9659 with 1 missing, elapsed time: 15.991\n",
            "Imputing row 6101/9659 with 0 missing, elapsed time: 15.995\n",
            "Imputing row 6201/9659 with 0 missing, elapsed time: 15.997\n",
            "Imputing row 6301/9659 with 1 missing, elapsed time: 15.999\n",
            "Imputing row 6401/9659 with 1 missing, elapsed time: 16.000\n",
            "Imputing row 6501/9659 with 1 missing, elapsed time: 16.001\n",
            "Imputing row 6601/9659 with 0 missing, elapsed time: 16.003\n",
            "Imputing row 6701/9659 with 0 missing, elapsed time: 16.005\n",
            "Imputing row 6801/9659 with 1 missing, elapsed time: 16.006\n",
            "Imputing row 6901/9659 with 1 missing, elapsed time: 16.008\n",
            "Imputing row 7001/9659 with 0 missing, elapsed time: 16.010\n",
            "Imputing row 7101/9659 with 0 missing, elapsed time: 16.012\n",
            "Imputing row 7201/9659 with 0 missing, elapsed time: 16.014\n",
            "Imputing row 7301/9659 with 0 missing, elapsed time: 16.015\n",
            "Imputing row 7401/9659 with 1 missing, elapsed time: 16.017\n",
            "Imputing row 7501/9659 with 0 missing, elapsed time: 16.019\n",
            "Imputing row 7601/9659 with 0 missing, elapsed time: 16.020\n",
            "Imputing row 7701/9659 with 0 missing, elapsed time: 16.022\n",
            "Imputing row 7801/9659 with 0 missing, elapsed time: 16.023\n",
            "Imputing row 7901/9659 with 0 missing, elapsed time: 16.025\n",
            "Imputing row 8001/9659 with 0 missing, elapsed time: 16.027\n",
            "Imputing row 8101/9659 with 0 missing, elapsed time: 16.029\n",
            "Imputing row 8201/9659 with 0 missing, elapsed time: 16.032\n",
            "Imputing row 8301/9659 with 1 missing, elapsed time: 16.033\n",
            "Imputing row 8401/9659 with 0 missing, elapsed time: 16.034\n",
            "Imputing row 8501/9659 with 0 missing, elapsed time: 16.036\n",
            "Imputing row 8601/9659 with 0 missing, elapsed time: 16.038\n",
            "Imputing row 8701/9659 with 0 missing, elapsed time: 16.039\n",
            "Imputing row 8801/9659 with 0 missing, elapsed time: 16.042\n",
            "Imputing row 8901/9659 with 1 missing, elapsed time: 16.044\n",
            "Imputing row 9001/9659 with 0 missing, elapsed time: 16.045\n",
            "Imputing row 9101/9659 with 0 missing, elapsed time: 16.047\n",
            "Imputing row 9201/9659 with 0 missing, elapsed time: 16.049\n",
            "Imputing row 9301/9659 with 0 missing, elapsed time: 16.051\n",
            "Imputing row 9401/9659 with 0 missing, elapsed time: 16.054\n",
            "Imputing row 9501/9659 with 0 missing, elapsed time: 16.056\n",
            "Imputing row 9601/9659 with 0 missing, elapsed time: 16.059\n"
          ],
          "name": "stdout"
        }
      ]
    },
    {
      "metadata": {
        "id": "Q7Zx7jQcP_Fd",
        "colab_type": "code",
        "outputId": "c3d7b43f-7df4-4632-c831-d36aa7ad30e7",
        "colab": {
          "base_uri": "https://localhost:8080/",
          "height": 34
        }
      },
      "cell_type": "code",
      "source": [
        "dataset_knn.shape"
      ],
      "execution_count": 43,
      "outputs": [
        {
          "output_type": "execute_result",
          "data": {
            "text/plain": [
              "(9659, 10)"
            ]
          },
          "metadata": {
            "tags": []
          },
          "execution_count": 43
        }
      ]
    },
    {
      "metadata": {
        "id": "4nDvYnsR8eGd",
        "colab_type": "code",
        "outputId": "3c7902e4-f61e-4d60-e01e-d47b55a2619a",
        "colab": {
          "base_uri": "https://localhost:8080/",
          "height": 204
        }
      },
      "cell_type": "code",
      "source": [
        "dataset_imput = pd.DataFrame(data=dataset_knn[0:,0:],columns=['Category','Rating','Type','Price','Installs','Reviews','Size','Content Rating','Current Ver','Android Ver'])\n",
        "dataset_imput.head()\n"
      ],
      "execution_count": 44,
      "outputs": [
        {
          "output_type": "execute_result",
          "data": {
            "text/html": [
              "<div>\n",
              "<style scoped>\n",
              "    .dataframe tbody tr th:only-of-type {\n",
              "        vertical-align: middle;\n",
              "    }\n",
              "\n",
              "    .dataframe tbody tr th {\n",
              "        vertical-align: top;\n",
              "    }\n",
              "\n",
              "    .dataframe thead th {\n",
              "        text-align: right;\n",
              "    }\n",
              "</style>\n",
              "<table border=\"1\" class=\"dataframe\">\n",
              "  <thead>\n",
              "    <tr style=\"text-align: right;\">\n",
              "      <th></th>\n",
              "      <th>Category</th>\n",
              "      <th>Rating</th>\n",
              "      <th>Type</th>\n",
              "      <th>Price</th>\n",
              "      <th>Installs</th>\n",
              "      <th>Reviews</th>\n",
              "      <th>Size</th>\n",
              "      <th>Content Rating</th>\n",
              "      <th>Current Ver</th>\n",
              "      <th>Android Ver</th>\n",
              "    </tr>\n",
              "  </thead>\n",
              "  <tbody>\n",
              "    <tr>\n",
              "      <th>0</th>\n",
              "      <td>0.0</td>\n",
              "      <td>4.1</td>\n",
              "      <td>0.0</td>\n",
              "      <td>0.0</td>\n",
              "      <td>7.0</td>\n",
              "      <td>159.0</td>\n",
              "      <td>53.0</td>\n",
              "      <td>1.0</td>\n",
              "      <td>118.0</td>\n",
              "      <td>15.0</td>\n",
              "    </tr>\n",
              "    <tr>\n",
              "      <th>1</th>\n",
              "      <td>0.0</td>\n",
              "      <td>4.7</td>\n",
              "      <td>0.0</td>\n",
              "      <td>0.0</td>\n",
              "      <td>14.0</td>\n",
              "      <td>87510.0</td>\n",
              "      <td>366.0</td>\n",
              "      <td>1.0</td>\n",
              "      <td>462.0</td>\n",
              "      <td>15.0</td>\n",
              "    </tr>\n",
              "    <tr>\n",
              "      <th>2</th>\n",
              "      <td>0.0</td>\n",
              "      <td>4.5</td>\n",
              "      <td>0.0</td>\n",
              "      <td>0.0</td>\n",
              "      <td>17.0</td>\n",
              "      <td>215644.0</td>\n",
              "      <td>99.0</td>\n",
              "      <td>4.0</td>\n",
              "      <td>2751.0</td>\n",
              "      <td>18.0</td>\n",
              "    </tr>\n",
              "    <tr>\n",
              "      <th>3</th>\n",
              "      <td>0.0</td>\n",
              "      <td>4.3</td>\n",
              "      <td>0.0</td>\n",
              "      <td>0.0</td>\n",
              "      <td>10.0</td>\n",
              "      <td>967.0</td>\n",
              "      <td>62.0</td>\n",
              "      <td>1.0</td>\n",
              "      <td>277.0</td>\n",
              "      <td>20.0</td>\n",
              "    </tr>\n",
              "    <tr>\n",
              "      <th>4</th>\n",
              "      <td>0.0</td>\n",
              "      <td>4.4</td>\n",
              "      <td>0.0</td>\n",
              "      <td>0.0</td>\n",
              "      <td>16.0</td>\n",
              "      <td>167.0</td>\n",
              "      <td>220.0</td>\n",
              "      <td>1.0</td>\n",
              "      <td>113.0</td>\n",
              "      <td>8.0</td>\n",
              "    </tr>\n",
              "  </tbody>\n",
              "</table>\n",
              "</div>"
            ],
            "text/plain": [
              "   Category  Rating  Type  Price  Installs   Reviews   Size  Content Rating  \\\n",
              "0       0.0     4.1   0.0    0.0       7.0     159.0   53.0             1.0   \n",
              "1       0.0     4.7   0.0    0.0      14.0   87510.0  366.0             1.0   \n",
              "2       0.0     4.5   0.0    0.0      17.0  215644.0   99.0             4.0   \n",
              "3       0.0     4.3   0.0    0.0      10.0     967.0   62.0             1.0   \n",
              "4       0.0     4.4   0.0    0.0      16.0     167.0  220.0             1.0   \n",
              "\n",
              "   Current Ver  Android Ver  \n",
              "0        118.0         15.0  \n",
              "1        462.0         15.0  \n",
              "2       2751.0         18.0  \n",
              "3        277.0         20.0  \n",
              "4        113.0          8.0  "
            ]
          },
          "metadata": {
            "tags": []
          },
          "execution_count": 44
        }
      ]
    },
    {
      "metadata": {
        "id": "cQtUAuV-_-QI",
        "colab_type": "text"
      },
      "cell_type": "markdown",
      "source": [
        "Verificação de média e mediana de cada coluna para saber se é necessário normalizar"
      ]
    },
    {
      "metadata": {
        "id": "OfZ2i7Vn9XQf",
        "colab_type": "code",
        "outputId": "2c81b711-7b56-40ed-f208-e005edf8dc61",
        "colab": {
          "base_uri": "https://localhost:8080/",
          "height": 68
        }
      },
      "cell_type": "code",
      "source": [
        "print('Reviews',str(dataset_imput.Reviews.mean()),str(dataset_imput.Reviews.median()))\n",
        "print('Rating',str(dataset_imput.Rating.mean()),str(dataset_imput.Rating.median()))\n",
        "print('Price',str(dataset_imput.Price.mean()),str(dataset_imput.Price.median()))\n"
      ],
      "execution_count": 46,
      "outputs": [
        {
          "output_type": "stream",
          "text": [
            "Reviews 216651.2178279325 969.0\n",
            "Rating 4.167823442120077 4.3\n",
            "Price 1.097230562169985 0.0\n"
          ],
          "name": "stdout"
        }
      ]
    },
    {
      "metadata": {
        "id": "6liDEzs0cpw_",
        "colab_type": "code",
        "outputId": "328f4052-3a71-4864-f62e-cab75381e5dc",
        "colab": {
          "base_uri": "https://localhost:8080/",
          "height": 34
        }
      },
      "cell_type": "code",
      "source": [
        "#normalização de coluna reviews\n",
        "\n",
        "from sklearn.preprocessing import StandardScaler, MinMaxScaler\n",
        "scaler = MinMaxScaler()\n",
        "dataset_imput['ReviewsNorm'] = scaler.fit_transform(dataset_imput[['Reviews']])\n",
        "print('Reviews',str(dataset_imput['ReviewsNorm'].mean()),str(dataset_imput['ReviewsNorm'].median()))"
      ],
      "execution_count": 47,
      "outputs": [
        {
          "output_type": "stream",
          "text": [
            "Reviews 0.0027730217212704506 1.2402690715752754e-05\n"
          ],
          "name": "stdout"
        }
      ]
    },
    {
      "metadata": {
        "id": "64VUIUf2EaHN",
        "colab_type": "text"
      },
      "cell_type": "markdown",
      "source": [
        "# Remoção de outliers"
      ]
    },
    {
      "metadata": {
        "id": "Wq-zwru2EfzI",
        "colab_type": "text"
      },
      "cell_type": "markdown",
      "source": [
        "Univariado - Tukey: Remover outliers baseando-se nas notas"
      ]
    },
    {
      "metadata": {
        "id": "cenoKRKP_zQ2",
        "colab_type": "code",
        "outputId": "97a7c10c-a719-41f4-8ecf-ffa3a2788c69",
        "colab": {
          "base_uri": "https://localhost:8080/",
          "height": 286
        }
      },
      "cell_type": "code",
      "source": [
        "dataset_imput['Rating'].hist()"
      ],
      "execution_count": 48,
      "outputs": [
        {
          "output_type": "execute_result",
          "data": {
            "text/plain": [
              "<matplotlib.axes._subplots.AxesSubplot at 0x7f7df8e006a0>"
            ]
          },
          "metadata": {
            "tags": []
          },
          "execution_count": 48
        },
        {
          "output_type": "display_data",
          "data": {
            "image/png": "[encoded data removed]",
            "text/plain": [
              "<Figure size 432x288 with 1 Axes>"
            ]
          },
          "metadata": {
            "tags": []
          }
        }
      ]
    },
    {
      "metadata": {
        "id": "nAKAdF4bFCZT",
        "colab_type": "code",
        "outputId": "6aa028a2-4dda-4164-a71d-4ff94cc3e8d7",
        "colab": {
          "base_uri": "https://localhost:8080/",
          "height": 170
        }
      },
      "cell_type": "code",
      "source": [
        "dataset_imput['RatingLog'] = np.log2(dataset_imput['Rating'])\n",
        "dataset_imput['RatingLog'].describe()"
      ],
      "execution_count": 49,
      "outputs": [
        {
          "output_type": "execute_result",
          "data": {
            "text/plain": [
              "count    9659.000000\n",
              "mean        2.042980\n",
              "std         0.233504\n",
              "min         0.000000\n",
              "25%         1.995683\n",
              "50%         2.104337\n",
              "75%         2.169925\n",
              "max         2.321928\n",
              "Name: RatingLog, dtype: float64"
            ]
          },
          "metadata": {
            "tags": []
          },
          "execution_count": 49
        }
      ]
    },
    {
      "metadata": {
        "id": "AwbgXvaV9UjG",
        "colab_type": "code",
        "outputId": "0bcbcf52-711a-4e8a-fec9-c85c89a479da",
        "colab": {
          "base_uri": "https://localhost:8080/",
          "height": 286
        }
      },
      "cell_type": "code",
      "source": [
        "dataset_imput['RatingLog'].hist()"
      ],
      "execution_count": 50,
      "outputs": [
        {
          "output_type": "execute_result",
          "data": {
            "text/plain": [
              "<matplotlib.axes._subplots.AxesSubplot at 0x7f7dd097c048>"
            ]
          },
          "metadata": {
            "tags": []
          },
          "execution_count": 50
        },
        {
          "output_type": "display_data",
          "data": {
            "image/png": "[encoded data removed]",
            "text/plain": [
              "<Figure size 432x288 with 1 Axes>"
            ]
          },
          "metadata": {
            "tags": []
          }
        }
      ]
    },
    {
      "metadata": {
        "id": "eJN9C5AcG7Ch",
        "colab_type": "code",
        "outputId": "8d6fbcf6-449f-4765-a4c3-d57deb2021ff",
        "colab": {
          "base_uri": "https://localhost:8080/",
          "height": 34
        }
      },
      "cell_type": "code",
      "source": [
        "q1 = dataset_imput['RatingLog'].quantile(q=0.25)\n",
        "q3 = dataset_imput['RatingLog'].quantile(q=0.75)\n",
        "iqr = q3 - q1\n",
        "dataset_imput2 = dataset_imput[(dataset_imput['RatingLog'] > (q1-1.5*iqr)) & (dataset_imput['RatingLog'] < (q3+1.5*iqr))]\n",
        "print(len(dataset_imput2))"
      ],
      "execution_count": 51,
      "outputs": [
        {
          "output_type": "stream",
          "text": [
            "8910\n"
          ],
          "name": "stdout"
        }
      ]
    },
    {
      "metadata": {
        "id": "WJ4kYe0A-P9F",
        "colab_type": "text"
      },
      "cell_type": "markdown",
      "source": [
        "Univariado - Tukey e Z-Score para remoção baseando-se na coluna de preço"
      ]
    },
    {
      "metadata": {
        "id": "ZTnZ_FuA7_4h",
        "colab_type": "code",
        "outputId": "df05b682-0e8b-45b8-9ef8-050ba0d0d113",
        "colab": {
          "base_uri": "https://localhost:8080/",
          "height": 286
        }
      },
      "cell_type": "code",
      "source": [
        "dataset_imput['PriceSqrt'] = np.sqrt(dataset_imput['Price'])\n",
        "dataset_imput['PriceSqrt'].hist()"
      ],
      "execution_count": 52,
      "outputs": [
        {
          "output_type": "execute_result",
          "data": {
            "text/plain": [
              "<matplotlib.axes._subplots.AxesSubplot at 0x7f7dce104320>"
            ]
          },
          "metadata": {
            "tags": []
          },
          "execution_count": 52
        },
        {
          "output_type": "display_data",
          "data": {
            "image/png": "[encoded data removed]",
            "text/plain": [
              "<Figure size 432x288 with 1 Axes>"
            ]
          },
          "metadata": {
            "tags": []
          }
        }
      ]
    },
    {
      "metadata": {
        "id": "xZtS5x6X8jCO",
        "colab_type": "code",
        "outputId": "ab93f009-512f-416f-ad24-7a87afd287a7",
        "colab": {
          "base_uri": "https://localhost:8080/",
          "height": 170
        }
      },
      "cell_type": "code",
      "source": [
        "dataset_imput['PriceSqrt'].describe()"
      ],
      "execution_count": 53,
      "outputs": [
        {
          "output_type": "execute_result",
          "data": {
            "text/plain": [
              "count    9659.000000\n",
              "mean        0.184262\n",
              "std         1.031207\n",
              "min         0.000000\n",
              "25%         0.000000\n",
              "50%         0.000000\n",
              "75%         0.000000\n",
              "max        20.000000\n",
              "Name: PriceSqrt, dtype: float64"
            ]
          },
          "metadata": {
            "tags": []
          },
          "execution_count": 53
        }
      ]
    },
    {
      "metadata": {
        "id": "W9KwMApu8Q_u",
        "colab_type": "code",
        "outputId": "2edc89cc-95c0-4f1d-b3cd-8d11b816106f",
        "colab": {
          "base_uri": "https://localhost:8080/",
          "height": 34
        }
      },
      "cell_type": "code",
      "source": [
        "q1 = dataset_imput['PriceSqrt'].quantile(q=0.25)\n",
        "q3 = dataset_imput['PriceSqrt'].quantile(q=0.75)\n",
        "iqr = q3 - q1\n",
        "dataset_imput3 = dataset_imput[(dataset_imput['PriceSqrt'] > (q1-1.5*iqr)) & (dataset_imput['PriceSqrt'] < (q3+1.5*iqr))]\n",
        "print(len(dataset_imput3))"
      ],
      "execution_count": 54,
      "outputs": [
        {
          "output_type": "stream",
          "text": [
            "0\n"
          ],
          "name": "stdout"
        }
      ]
    },
    {
      "metadata": {
        "id": "kLHma9Ch3K3r",
        "colab_type": "text"
      },
      "cell_type": "markdown",
      "source": [
        "Visto que através do método de Tukey todo o dataset foi removido, aplica-se o z-score robusto"
      ]
    },
    {
      "metadata": {
        "id": "9y5EUy949FC1",
        "colab_type": "code",
        "outputId": "b4b810a1-9794-4e96-cd63-e79b6f3b772a",
        "colab": {
          "base_uri": "https://localhost:8080/",
          "height": 34
        }
      },
      "cell_type": "code",
      "source": [
        "mad = dataset_imput['PriceSqrt'].mad()\n",
        "dataset_imput3 = dataset_imput[abs(dataset_imput['PriceSqrt']-dataset_imput['PriceSqrt'].median())/mad < 3.5]\n",
        "print(len(dataset_imput3))"
      ],
      "execution_count": 55,
      "outputs": [
        {
          "output_type": "stream",
          "text": [
            "9057\n"
          ],
          "name": "stdout"
        }
      ]
    },
    {
      "metadata": {
        "id": "T6UIhlfG6xvC",
        "colab_type": "text"
      },
      "cell_type": "markdown",
      "source": [
        "Bivariado: Z-score robusto. Será usada a razão de preço pela nota (colunas Price e Rating)"
      ]
    },
    {
      "metadata": {
        "id": "WgzudlLIK9F1",
        "colab_type": "code",
        "outputId": "63c47bd5-79eb-4555-ca05-db5cd0eb57be",
        "colab": {
          "base_uri": "https://localhost:8080/",
          "height": 300
        }
      },
      "cell_type": "code",
      "source": [
        "dataset_imput.plot.scatter(x='Rating',y='Price')"
      ],
      "execution_count": 56,
      "outputs": [
        {
          "output_type": "execute_result",
          "data": {
            "text/plain": [
              "<matplotlib.axes._subplots.AxesSubplot at 0x7f7dce083ba8>"
            ]
          },
          "metadata": {
            "tags": []
          },
          "execution_count": 56
        },
        {
          "output_type": "display_data",
          "data": {
            "image/png": "[encoded data removed]",
            "text/plain": [
              "<Figure size 432x288 with 1 Axes>"
            ]
          },
          "metadata": {
            "tags": []
          }
        }
      ]
    },
    {
      "metadata": {
        "id": "rovyoypIghOG",
        "colab_type": "code",
        "outputId": "b2526dfa-10fe-4f8c-e7cf-f2d10af32fe6",
        "colab": {
          "base_uri": "https://localhost:8080/",
          "height": 286
        }
      },
      "cell_type": "code",
      "source": [
        "dataset_imput['PriceRating'] = dataset_imput['Price']/dataset_imput['Rating']\n",
        "dataset_imput['PriceRating'].hist()"
      ],
      "execution_count": 57,
      "outputs": [
        {
          "output_type": "execute_result",
          "data": {
            "text/plain": [
              "<matplotlib.axes._subplots.AxesSubplot at 0x7f7dccd20a20>"
            ]
          },
          "metadata": {
            "tags": []
          },
          "execution_count": 57
        },
        {
          "output_type": "display_data",
          "data": {
            "image/png": "[encoded data removed]",
            "text/plain": [
              "<Figure size 432x288 with 1 Axes>"
            ]
          },
          "metadata": {
            "tags": []
          }
        }
      ]
    },
    {
      "metadata": {
        "id": "GFoaQ--p_-WH",
        "colab_type": "code",
        "outputId": "cdde3ae7-403f-4ac2-8d1e-e4804d229bd3",
        "colab": {
          "base_uri": "https://localhost:8080/",
          "height": 170
        }
      },
      "cell_type": "code",
      "source": [
        "dataset_imput['PriceRatingSqrt'] = np.sqrt(dataset_imput['PriceRating'])\n",
        "dataset_imput['PriceRatingSqrt'].describe()"
      ],
      "execution_count": 59,
      "outputs": [
        {
          "output_type": "execute_result",
          "data": {
            "text/plain": [
              "count    9659.000000\n",
              "mean        0.091141\n",
              "std         0.519079\n",
              "min         0.000000\n",
              "25%         0.000000\n",
              "50%         0.000000\n",
              "75%         0.000000\n",
              "max        11.446879\n",
              "Name: PriceRatingSqrt, dtype: float64"
            ]
          },
          "metadata": {
            "tags": []
          },
          "execution_count": 59
        }
      ]
    },
    {
      "metadata": {
        "id": "yDvSdMmxASNH",
        "colab_type": "code",
        "outputId": "e9c1f83c-811a-4c19-af87-cc913018fe07",
        "colab": {
          "base_uri": "https://localhost:8080/",
          "height": 286
        }
      },
      "cell_type": "code",
      "source": [
        "dataset_imput['PriceRatingSqrt'].hist()"
      ],
      "execution_count": 60,
      "outputs": [
        {
          "output_type": "execute_result",
          "data": {
            "text/plain": [
              "<matplotlib.axes._subplots.AxesSubplot at 0x7f7dcccf0dd8>"
            ]
          },
          "metadata": {
            "tags": []
          },
          "execution_count": 60
        },
        {
          "output_type": "display_data",
          "data": {
            "image/png": "[encoded data removed]",
            "text/plain": [
              "<Figure size 432x288 with 1 Axes>"
            ]
          },
          "metadata": {
            "tags": []
          }
        }
      ]
    },
    {
      "metadata": {
        "id": "T6eI8PzCg-Zt",
        "colab_type": "code",
        "outputId": "35a7d2fa-35a5-4d53-eeb8-95e22fc8afc2",
        "colab": {
          "base_uri": "https://localhost:8080/",
          "height": 34
        }
      },
      "cell_type": "code",
      "source": [
        "mad = dataset_imput['PriceRatingSqrt'].mad()\n",
        "dataset_imput4 = dataset_imput[abs(dataset_imput['PriceRatingSqrt']-dataset_imput['PriceRatingSqrt'].median())/mad < 3.5]\n",
        "print(len(dataset_imput4))"
      ],
      "execution_count": 61,
      "outputs": [
        {
          "output_type": "stream",
          "text": [
            "9077\n"
          ],
          "name": "stdout"
        }
      ]
    },
    {
      "metadata": {
        "id": "XBXUBcx33zpF",
        "colab_type": "text"
      },
      "cell_type": "markdown",
      "source": [
        "Bivariado - Valor normalizado de quantidade de resenhaas pelas notas (ReviewsNorm/Rating)"
      ]
    },
    {
      "metadata": {
        "id": "UD6O_KD-3y8Q",
        "colab_type": "code",
        "outputId": "75432c43-5c70-45ec-ba9b-ee57845f5f1a",
        "colab": {
          "base_uri": "https://localhost:8080/",
          "height": 170
        }
      },
      "cell_type": "code",
      "source": [
        "dataset_imput['ReviewsNormPerRateSqrt'] = np.sqrt(dataset_imput['ReviewsNorm']/dataset_imput['Rating'])\n",
        "dataset_imput['ReviewsNormPerRateSqrt'].describe()"
      ],
      "execution_count": 62,
      "outputs": [
        {
          "output_type": "execute_result",
          "data": {
            "text/plain": [
              "count    9659.000000\n",
              "mean        0.009712\n",
              "std         0.023173\n",
              "min         0.000000\n",
              "25%         0.000284\n",
              "50%         0.001753\n",
              "75%         0.009484\n",
              "max         0.493865\n",
              "Name: ReviewsNormPerRateSqrt, dtype: float64"
            ]
          },
          "metadata": {
            "tags": []
          },
          "execution_count": 62
        }
      ]
    },
    {
      "metadata": {
        "id": "L6k16i6q41dW",
        "colab_type": "code",
        "outputId": "388f33d6-5323-4703-bd21-5635060284b7",
        "colab": {
          "base_uri": "https://localhost:8080/",
          "height": 286
        }
      },
      "cell_type": "code",
      "source": [
        "dataset_imput['ReviewsNormPerRateSqrt'].hist()"
      ],
      "execution_count": 63,
      "outputs": [
        {
          "output_type": "execute_result",
          "data": {
            "text/plain": [
              "<matplotlib.axes._subplots.AxesSubplot at 0x7f7dce01f7b8>"
            ]
          },
          "metadata": {
            "tags": []
          },
          "execution_count": 63
        },
        {
          "output_type": "display_data",
          "data": {
            "image/png": "[encoded data removed]",
            "text/plain": [
              "<Figure size 432x288 with 1 Axes>"
            ]
          },
          "metadata": {
            "tags": []
          }
        }
      ]
    },
    {
      "metadata": {
        "id": "Hkmnbeic45m6",
        "colab_type": "code",
        "outputId": "1ebd0777-033d-4ed3-bca6-3da0d23d190b",
        "colab": {
          "base_uri": "https://localhost:8080/",
          "height": 34
        }
      },
      "cell_type": "code",
      "source": [
        "q1 = dataset_imput['ReviewsNormPerRateSqrt'].quantile(q=0.25)\n",
        "q3 = dataset_imput['ReviewsNormPerRateSqrt'].quantile(q=0.75)\n",
        "iqr = q3 - q1\n",
        "dataset_imput5 = dataset_imput[(dataset_imput['ReviewsNormPerRateSqrt'] > (q1-1.5*iqr)) & (dataset_imput['ReviewsNormPerRateSqrt'] < (q3+1.5*iqr))]\n",
        "print(len(dataset_imput5))"
      ],
      "execution_count": 64,
      "outputs": [
        {
          "output_type": "stream",
          "text": [
            "8584\n"
          ],
          "name": "stdout"
        }
      ]
    },
    {
      "metadata": {
        "id": "A_tGCaU8Bu0o",
        "colab_type": "text"
      },
      "cell_type": "markdown",
      "source": [
        "Multivariado - Isolation Forest"
      ]
    },
    {
      "metadata": {
        "id": "sZRf5L9D_eI5",
        "colab_type": "code",
        "outputId": "74709d6b-8968-4ed7-9394-e017227db7db",
        "colab": {
          "base_uri": "https://localhost:8080/",
          "height": 173
        }
      },
      "cell_type": "code",
      "source": [
        "from sklearn.ensemble import IsolationForest\n",
        "rng = np.random.RandomState(42)\n",
        "clf = IsolationForest(max_samples=100, random_state=rng)\n",
        "dtset = dataset_imput[['Category','Rating','Type','Price','Installs','Reviews','Size','Content Rating','Current Ver','Android Ver']]\n",
        "clf.fit(dtset)\n",
        "\n",
        "#scores = clf.predict(dataset_imput)"
      ],
      "execution_count": 65,
      "outputs": [
        {
          "output_type": "stream",
          "text": [
            "/usr/local/lib/python3.6/dist-packages/sklearn/ensemble/iforest.py:213: FutureWarning: default contamination parameter 0.1 will change in version 0.22 to \"auto\". This will change the predict method behavior.\n",
            "  FutureWarning)\n",
            "/usr/local/lib/python3.6/dist-packages/sklearn/ensemble/iforest.py:223: FutureWarning: behaviour=\"old\" is deprecated and will be removed in version 0.22. Please use behaviour=\"new\", which makes the decision_function change to match other anomaly detection algorithm API.\n",
            "  FutureWarning)\n"
          ],
          "name": "stderr"
        },
        {
          "output_type": "execute_result",
          "data": {
            "text/plain": [
              "IsolationForest(behaviour='old', bootstrap=False, contamination='legacy',\n",
              "        max_features=1.0, max_samples=100, n_estimators=100, n_jobs=None,\n",
              "        random_state=<mtrand.RandomState object at 0x7f7dcbe40e58>,\n",
              "        verbose=0)"
            ]
          },
          "metadata": {
            "tags": []
          },
          "execution_count": 65
        }
      ]
    },
    {
      "metadata": {
        "id": "jbVSM3KAEjFn",
        "colab_type": "code",
        "outputId": "4560723b-1f30-4053-93a0-24f40302ce12",
        "colab": {
          "base_uri": "https://localhost:8080/",
          "height": 326
        }
      },
      "cell_type": "code",
      "source": [
        "scores = clf.predict(dtset)\n",
        "dtset['outlier'] = scores\n",
        "dtset.outlier.describe()"
      ],
      "execution_count": 66,
      "outputs": [
        {
          "output_type": "stream",
          "text": [
            "/usr/local/lib/python3.6/dist-packages/sklearn/ensemble/iforest.py:417: DeprecationWarning: threshold_ attribute is deprecated in 0.20 and will be removed in 0.22.\n",
            "  \" be removed in 0.22.\", DeprecationWarning)\n",
            "/usr/local/lib/python3.6/dist-packages/ipykernel_launcher.py:2: SettingWithCopyWarning: \n",
            "A value is trying to be set on a copy of a slice from a DataFrame.\n",
            "Try using .loc[row_indexer,col_indexer] = value instead\n",
            "\n",
            "See the caveats in the documentation: http://pandas.pydata.org/pandas-docs/stable/indexing.html#indexing-view-versus-copy\n",
            "  \n"
          ],
          "name": "stderr"
        },
        {
          "output_type": "execute_result",
          "data": {
            "text/plain": [
              "count    9659.000000\n",
              "mean        0.799979\n",
              "std         0.600059\n",
              "min        -1.000000\n",
              "25%         1.000000\n",
              "50%         1.000000\n",
              "75%         1.000000\n",
              "max         1.000000\n",
              "Name: outlier, dtype: float64"
            ]
          },
          "metadata": {
            "tags": []
          },
          "execution_count": 66
        }
      ]
    },
    {
      "metadata": {
        "id": "MX4cdGRvEx7J",
        "colab_type": "code",
        "outputId": "64f56413-6498-480b-d69a-fba3e12e5cb8",
        "colab": {
          "base_uri": "https://localhost:8080/",
          "height": 34
        }
      },
      "cell_type": "code",
      "source": [
        "len(dtset[dtset['outlier']!=1])"
      ],
      "execution_count": 67,
      "outputs": [
        {
          "output_type": "execute_result",
          "data": {
            "text/plain": [
              "966"
            ]
          },
          "metadata": {
            "tags": []
          },
          "execution_count": 67
        }
      ]
    },
    {
      "metadata": {
        "id": "Fh_7Fo-eLbLi",
        "colab_type": "code",
        "colab": {}
      },
      "cell_type": "code",
      "source": [
        "dtset = dtset[dtset['outlier']!=1]"
      ],
      "execution_count": 0,
      "outputs": []
    },
    {
      "metadata": {
        "id": "y9l03bpbHMNL",
        "colab_type": "text"
      },
      "cell_type": "markdown",
      "source": [
        "Multivariado - Local Outlier Factor"
      ]
    },
    {
      "metadata": {
        "id": "3VwYYssfIU4Q",
        "colab_type": "code",
        "colab": {}
      },
      "cell_type": "code",
      "source": [
        "\n",
        "from sklearn.neighbors import LocalOutlierFactor\n",
        "clf = LocalOutlierFactor(n_neighbors=10, contamination=0.1)"
      ],
      "execution_count": 0,
      "outputs": []
    },
    {
      "metadata": {
        "id": "798AtIucIYqZ",
        "colab_type": "code",
        "outputId": "4a8c4b0e-3baf-4740-b3d9-4993f6745d94",
        "colab": {
          "base_uri": "https://localhost:8080/",
          "height": 34
        }
      },
      "cell_type": "code",
      "source": [
        "scores = clf.fit_predict(dataset_imput[['Category','Rating','Type','Price','Installs','Reviews','Size','Content Rating','Current Ver','Android Ver']])\n",
        "dataset_imput['outlier'] = scores\n",
        "dataset_imput6 = dataset_imput[dataset_imput['outlier']<1]\n",
        "print(len(dataset_imput6))"
      ],
      "execution_count": 77,
      "outputs": [
        {
          "output_type": "stream",
          "text": [
            "966\n"
          ],
          "name": "stdout"
        }
      ]
    },
    {
      "metadata": {
        "id": "xME1vEtdHWjF",
        "colab_type": "text"
      },
      "cell_type": "markdown",
      "source": [
        "# Análise descritiva"
      ]
    },
    {
      "metadata": {
        "id": "jEmRExlEK8K7",
        "colab_type": "text"
      },
      "cell_type": "markdown",
      "source": [
        "Utilizando dataset após remoção de outliers baseando-se em quantidade de resenhas dividido pela nota (ReviewsNorm/Rating)"
      ]
    },
    {
      "metadata": {
        "id": "fWQ8WPQcHsSJ",
        "colab_type": "code",
        "outputId": "8b715a18-c9d4-4e3b-9839-31cfd1fc304f",
        "colab": {
          "base_uri": "https://localhost:8080/",
          "height": 582
        }
      },
      "cell_type": "code",
      "source": [
        "#Correlação\n",
        "dataset_imput5.corr(method='spearman')"
      ],
      "execution_count": 70,
      "outputs": [
        {
          "output_type": "execute_result",
          "data": {
            "text/html": [
              "<div>\n",
              "<style scoped>\n",
              "    .dataframe tbody tr th:only-of-type {\n",
              "        vertical-align: middle;\n",
              "    }\n",
              "\n",
              "    .dataframe tbody tr th {\n",
              "        vertical-align: top;\n",
              "    }\n",
              "\n",
              "    .dataframe thead th {\n",
              "        text-align: right;\n",
              "    }\n",
              "</style>\n",
              "<table border=\"1\" class=\"dataframe\">\n",
              "  <thead>\n",
              "    <tr style=\"text-align: right;\">\n",
              "      <th></th>\n",
              "      <th>Category</th>\n",
              "      <th>Rating</th>\n",
              "      <th>Type</th>\n",
              "      <th>Price</th>\n",
              "      <th>Installs</th>\n",
              "      <th>Reviews</th>\n",
              "      <th>Size</th>\n",
              "      <th>Content Rating</th>\n",
              "      <th>Current Ver</th>\n",
              "      <th>Android Ver</th>\n",
              "      <th>ReviewsNorm</th>\n",
              "      <th>RatingLog</th>\n",
              "      <th>PriceSqrt</th>\n",
              "      <th>PriceRating</th>\n",
              "      <th>PriceRatingSqrt</th>\n",
              "      <th>ReviewsNormPerRateSqrt</th>\n",
              "    </tr>\n",
              "  </thead>\n",
              "  <tbody>\n",
              "    <tr>\n",
              "      <th>Category</th>\n",
              "      <td>1.000000</td>\n",
              "      <td>-0.045678</td>\n",
              "      <td>0.021097</td>\n",
              "      <td>0.019658</td>\n",
              "      <td>-0.007867</td>\n",
              "      <td>0.045859</td>\n",
              "      <td>-0.026135</td>\n",
              "      <td>-0.110066</td>\n",
              "      <td>0.079086</td>\n",
              "      <td>0.079313</td>\n",
              "      <td>0.045859</td>\n",
              "      <td>-0.045678</td>\n",
              "      <td>0.019658</td>\n",
              "      <td>0.019646</td>\n",
              "      <td>0.019646</td>\n",
              "      <td>0.047975</td>\n",
              "    </tr>\n",
              "    <tr>\n",
              "      <th>Rating</th>\n",
              "      <td>-0.045678</td>\n",
              "      <td>1.000000</td>\n",
              "      <td>0.058659</td>\n",
              "      <td>0.057121</td>\n",
              "      <td>-0.015427</td>\n",
              "      <td>0.003246</td>\n",
              "      <td>-0.011182</td>\n",
              "      <td>-0.022217</td>\n",
              "      <td>-0.056529</td>\n",
              "      <td>0.029210</td>\n",
              "      <td>0.003246</td>\n",
              "      <td>1.000000</td>\n",
              "      <td>0.057121</td>\n",
              "      <td>0.054450</td>\n",
              "      <td>0.054450</td>\n",
              "      <td>-0.027330</td>\n",
              "    </tr>\n",
              "    <tr>\n",
              "      <th>Type</th>\n",
              "      <td>0.021097</td>\n",
              "      <td>0.058659</td>\n",
              "      <td>1.000000</td>\n",
              "      <td>0.998624</td>\n",
              "      <td>-0.042746</td>\n",
              "      <td>-0.117272</td>\n",
              "      <td>-0.005094</td>\n",
              "      <td>-0.029294</td>\n",
              "      <td>-0.035536</td>\n",
              "      <td>-0.092705</td>\n",
              "      <td>-0.117272</td>\n",
              "      <td>0.058659</td>\n",
              "      <td>0.998624</td>\n",
              "      <td>0.998605</td>\n",
              "      <td>0.998605</td>\n",
              "      <td>-0.119861</td>\n",
              "    </tr>\n",
              "    <tr>\n",
              "      <th>Price</th>\n",
              "      <td>0.019658</td>\n",
              "      <td>0.057121</td>\n",
              "      <td>0.998624</td>\n",
              "      <td>1.000000</td>\n",
              "      <td>-0.043119</td>\n",
              "      <td>-0.115566</td>\n",
              "      <td>-0.004844</td>\n",
              "      <td>-0.028423</td>\n",
              "      <td>-0.033570</td>\n",
              "      <td>-0.092101</td>\n",
              "      <td>-0.115566</td>\n",
              "      <td>0.057121</td>\n",
              "      <td>1.000000</td>\n",
              "      <td>0.999937</td>\n",
              "      <td>0.999937</td>\n",
              "      <td>-0.118115</td>\n",
              "    </tr>\n",
              "    <tr>\n",
              "      <th>Installs</th>\n",
              "      <td>-0.007867</td>\n",
              "      <td>-0.015427</td>\n",
              "      <td>-0.042746</td>\n",
              "      <td>-0.043119</td>\n",
              "      <td>1.000000</td>\n",
              "      <td>0.057455</td>\n",
              "      <td>0.010602</td>\n",
              "      <td>0.018877</td>\n",
              "      <td>0.025705</td>\n",
              "      <td>0.007741</td>\n",
              "      <td>0.057455</td>\n",
              "      <td>-0.015427</td>\n",
              "      <td>-0.043119</td>\n",
              "      <td>-0.043192</td>\n",
              "      <td>-0.043192</td>\n",
              "      <td>0.057188</td>\n",
              "    </tr>\n",
              "    <tr>\n",
              "      <th>Reviews</th>\n",
              "      <td>0.045859</td>\n",
              "      <td>0.003246</td>\n",
              "      <td>-0.117272</td>\n",
              "      <td>-0.115566</td>\n",
              "      <td>0.057455</td>\n",
              "      <td>1.000000</td>\n",
              "      <td>0.210783</td>\n",
              "      <td>0.124217</td>\n",
              "      <td>0.367599</td>\n",
              "      <td>0.134718</td>\n",
              "      <td>1.000000</td>\n",
              "      <td>0.003246</td>\n",
              "      <td>-0.115566</td>\n",
              "      <td>-0.116081</td>\n",
              "      <td>-0.116081</td>\n",
              "      <td>0.999230</td>\n",
              "    </tr>\n",
              "    <tr>\n",
              "      <th>Size</th>\n",
              "      <td>-0.026135</td>\n",
              "      <td>-0.011182</td>\n",
              "      <td>-0.005094</td>\n",
              "      <td>-0.004844</td>\n",
              "      <td>0.010602</td>\n",
              "      <td>0.210783</td>\n",
              "      <td>1.000000</td>\n",
              "      <td>0.050144</td>\n",
              "      <td>0.242861</td>\n",
              "      <td>0.223340</td>\n",
              "      <td>0.210783</td>\n",
              "      <td>-0.011182</td>\n",
              "      <td>-0.004844</td>\n",
              "      <td>-0.004966</td>\n",
              "      <td>-0.004966</td>\n",
              "      <td>0.210825</td>\n",
              "    </tr>\n",
              "    <tr>\n",
              "      <th>Content Rating</th>\n",
              "      <td>-0.110066</td>\n",
              "      <td>-0.022217</td>\n",
              "      <td>-0.029294</td>\n",
              "      <td>-0.028423</td>\n",
              "      <td>0.018877</td>\n",
              "      <td>0.124217</td>\n",
              "      <td>0.050144</td>\n",
              "      <td>1.000000</td>\n",
              "      <td>-0.011115</td>\n",
              "      <td>-0.012937</td>\n",
              "      <td>0.124217</td>\n",
              "      <td>-0.022217</td>\n",
              "      <td>-0.028423</td>\n",
              "      <td>-0.028655</td>\n",
              "      <td>-0.028655</td>\n",
              "      <td>0.124083</td>\n",
              "    </tr>\n",
              "    <tr>\n",
              "      <th>Current Ver</th>\n",
              "      <td>0.079086</td>\n",
              "      <td>-0.056529</td>\n",
              "      <td>-0.035536</td>\n",
              "      <td>-0.033570</td>\n",
              "      <td>0.025705</td>\n",
              "      <td>0.367599</td>\n",
              "      <td>0.242861</td>\n",
              "      <td>-0.011115</td>\n",
              "      <td>1.000000</td>\n",
              "      <td>0.313457</td>\n",
              "      <td>0.367599</td>\n",
              "      <td>-0.056529</td>\n",
              "      <td>-0.033570</td>\n",
              "      <td>-0.033798</td>\n",
              "      <td>-0.033798</td>\n",
              "      <td>0.368646</td>\n",
              "    </tr>\n",
              "    <tr>\n",
              "      <th>Android Ver</th>\n",
              "      <td>0.079313</td>\n",
              "      <td>0.029210</td>\n",
              "      <td>-0.092705</td>\n",
              "      <td>-0.092101</td>\n",
              "      <td>0.007741</td>\n",
              "      <td>0.134718</td>\n",
              "      <td>0.223340</td>\n",
              "      <td>-0.012937</td>\n",
              "      <td>0.313457</td>\n",
              "      <td>1.000000</td>\n",
              "      <td>0.134718</td>\n",
              "      <td>0.029210</td>\n",
              "      <td>-0.092101</td>\n",
              "      <td>-0.092422</td>\n",
              "      <td>-0.092422</td>\n",
              "      <td>0.135019</td>\n",
              "    </tr>\n",
              "    <tr>\n",
              "      <th>ReviewsNorm</th>\n",
              "      <td>0.045859</td>\n",
              "      <td>0.003246</td>\n",
              "      <td>-0.117272</td>\n",
              "      <td>-0.115566</td>\n",
              "      <td>0.057455</td>\n",
              "      <td>1.000000</td>\n",
              "      <td>0.210783</td>\n",
              "      <td>0.124217</td>\n",
              "      <td>0.367599</td>\n",
              "      <td>0.134718</td>\n",
              "      <td>1.000000</td>\n",
              "      <td>0.003246</td>\n",
              "      <td>-0.115566</td>\n",
              "      <td>-0.116081</td>\n",
              "      <td>-0.116081</td>\n",
              "      <td>0.999230</td>\n",
              "    </tr>\n",
              "    <tr>\n",
              "      <th>RatingLog</th>\n",
              "      <td>-0.045678</td>\n",
              "      <td>1.000000</td>\n",
              "      <td>0.058659</td>\n",
              "      <td>0.057121</td>\n",
              "      <td>-0.015427</td>\n",
              "      <td>0.003246</td>\n",
              "      <td>-0.011182</td>\n",
              "      <td>-0.022217</td>\n",
              "      <td>-0.056529</td>\n",
              "      <td>0.029210</td>\n",
              "      <td>0.003246</td>\n",
              "      <td>1.000000</td>\n",
              "      <td>0.057121</td>\n",
              "      <td>0.054450</td>\n",
              "      <td>0.054450</td>\n",
              "      <td>-0.027330</td>\n",
              "    </tr>\n",
              "    <tr>\n",
              "      <th>PriceSqrt</th>\n",
              "      <td>0.019658</td>\n",
              "      <td>0.057121</td>\n",
              "      <td>0.998624</td>\n",
              "      <td>1.000000</td>\n",
              "      <td>-0.043119</td>\n",
              "      <td>-0.115566</td>\n",
              "      <td>-0.004844</td>\n",
              "      <td>-0.028423</td>\n",
              "      <td>-0.033570</td>\n",
              "      <td>-0.092101</td>\n",
              "      <td>-0.115566</td>\n",
              "      <td>0.057121</td>\n",
              "      <td>1.000000</td>\n",
              "      <td>0.999937</td>\n",
              "      <td>0.999937</td>\n",
              "      <td>-0.118115</td>\n",
              "    </tr>\n",
              "    <tr>\n",
              "      <th>PriceRating</th>\n",
              "      <td>0.019646</td>\n",
              "      <td>0.054450</td>\n",
              "      <td>0.998605</td>\n",
              "      <td>0.999937</td>\n",
              "      <td>-0.043192</td>\n",
              "      <td>-0.116081</td>\n",
              "      <td>-0.004966</td>\n",
              "      <td>-0.028655</td>\n",
              "      <td>-0.033798</td>\n",
              "      <td>-0.092422</td>\n",
              "      <td>-0.116081</td>\n",
              "      <td>0.054450</td>\n",
              "      <td>0.999937</td>\n",
              "      <td>1.000000</td>\n",
              "      <td>1.000000</td>\n",
              "      <td>-0.118532</td>\n",
              "    </tr>\n",
              "    <tr>\n",
              "      <th>PriceRatingSqrt</th>\n",
              "      <td>0.019646</td>\n",
              "      <td>0.054450</td>\n",
              "      <td>0.998605</td>\n",
              "      <td>0.999937</td>\n",
              "      <td>-0.043192</td>\n",
              "      <td>-0.116081</td>\n",
              "      <td>-0.004966</td>\n",
              "      <td>-0.028655</td>\n",
              "      <td>-0.033798</td>\n",
              "      <td>-0.092422</td>\n",
              "      <td>-0.116081</td>\n",
              "      <td>0.054450</td>\n",
              "      <td>0.999937</td>\n",
              "      <td>1.000000</td>\n",
              "      <td>1.000000</td>\n",
              "      <td>-0.118532</td>\n",
              "    </tr>\n",
              "    <tr>\n",
              "      <th>ReviewsNormPerRateSqrt</th>\n",
              "      <td>0.047975</td>\n",
              "      <td>-0.027330</td>\n",
              "      <td>-0.119861</td>\n",
              "      <td>-0.118115</td>\n",
              "      <td>0.057188</td>\n",
              "      <td>0.999230</td>\n",
              "      <td>0.210825</td>\n",
              "      <td>0.124083</td>\n",
              "      <td>0.368646</td>\n",
              "      <td>0.135019</td>\n",
              "      <td>0.999230</td>\n",
              "      <td>-0.027330</td>\n",
              "      <td>-0.118115</td>\n",
              "      <td>-0.118532</td>\n",
              "      <td>-0.118532</td>\n",
              "      <td>1.000000</td>\n",
              "    </tr>\n",
              "  </tbody>\n",
              "</table>\n",
              "</div>"
            ],
            "text/plain": [
              "                        Category    Rating      Type     Price  Installs  \\\n",
              "Category                1.000000 -0.045678  0.021097  0.019658 -0.007867   \n",
              "Rating                 -0.045678  1.000000  0.058659  0.057121 -0.015427   \n",
              "Type                    0.021097  0.058659  1.000000  0.998624 -0.042746   \n",
              "Price                   0.019658  0.057121  0.998624  1.000000 -0.043119   \n",
              "Installs               -0.007867 -0.015427 -0.042746 -0.043119  1.000000   \n",
              "Reviews                 0.045859  0.003246 -0.117272 -0.115566  0.057455   \n",
              "Size                   -0.026135 -0.011182 -0.005094 -0.004844  0.010602   \n",
              "Content Rating         -0.110066 -0.022217 -0.029294 -0.028423  0.018877   \n",
              "Current Ver             0.079086 -0.056529 -0.035536 -0.033570  0.025705   \n",
              "Android Ver             0.079313  0.029210 -0.092705 -0.092101  0.007741   \n",
              "ReviewsNorm             0.045859  0.003246 -0.117272 -0.115566  0.057455   \n",
              "RatingLog              -0.045678  1.000000  0.058659  0.057121 -0.015427   \n",
              "PriceSqrt               0.019658  0.057121  0.998624  1.000000 -0.043119   \n",
              "PriceRating             0.019646  0.054450  0.998605  0.999937 -0.043192   \n",
              "PriceRatingSqrt         0.019646  0.054450  0.998605  0.999937 -0.043192   \n",
              "ReviewsNormPerRateSqrt  0.047975 -0.027330 -0.119861 -0.118115  0.057188   \n",
              "\n",
              "                         Reviews      Size  Content Rating  Current Ver  \\\n",
              "Category                0.045859 -0.026135       -0.110066     0.079086   \n",
              "Rating                  0.003246 -0.011182       -0.022217    -0.056529   \n",
              "Type                   -0.117272 -0.005094       -0.029294    -0.035536   \n",
              "Price                  -0.115566 -0.004844       -0.028423    -0.033570   \n",
              "Installs                0.057455  0.010602        0.018877     0.025705   \n",
              "Reviews                 1.000000  0.210783        0.124217     0.367599   \n",
              "Size                    0.210783  1.000000        0.050144     0.242861   \n",
              "Content Rating          0.124217  0.050144        1.000000    -0.011115   \n",
              "Current Ver             0.367599  0.242861       -0.011115     1.000000   \n",
              "Android Ver             0.134718  0.223340       -0.012937     0.313457   \n",
              "ReviewsNorm             1.000000  0.210783        0.124217     0.367599   \n",
              "RatingLog               0.003246 -0.011182       -0.022217    -0.056529   \n",
              "PriceSqrt              -0.115566 -0.004844       -0.028423    -0.033570   \n",
              "PriceRating            -0.116081 -0.004966       -0.028655    -0.033798   \n",
              "PriceRatingSqrt        -0.116081 -0.004966       -0.028655    -0.033798   \n",
              "ReviewsNormPerRateSqrt  0.999230  0.210825        0.124083     0.368646   \n",
              "\n",
              "                        Android Ver  ReviewsNorm  RatingLog  PriceSqrt  \\\n",
              "Category                   0.079313     0.045859  -0.045678   0.019658   \n",
              "Rating                     0.029210     0.003246   1.000000   0.057121   \n",
              "Type                      -0.092705    -0.117272   0.058659   0.998624   \n",
              "Price                     -0.092101    -0.115566   0.057121   1.000000   \n",
              "Installs                   0.007741     0.057455  -0.015427  -0.043119   \n",
              "Reviews                    0.134718     1.000000   0.003246  -0.115566   \n",
              "Size                       0.223340     0.210783  -0.011182  -0.004844   \n",
              "Content Rating            -0.012937     0.124217  -0.022217  -0.028423   \n",
              "Current Ver                0.313457     0.367599  -0.056529  -0.033570   \n",
              "Android Ver                1.000000     0.134718   0.029210  -0.092101   \n",
              "ReviewsNorm                0.134718     1.000000   0.003246  -0.115566   \n",
              "RatingLog                  0.029210     0.003246   1.000000   0.057121   \n",
              "PriceSqrt                 -0.092101    -0.115566   0.057121   1.000000   \n",
              "PriceRating               -0.092422    -0.116081   0.054450   0.999937   \n",
              "PriceRatingSqrt           -0.092422    -0.116081   0.054450   0.999937   \n",
              "ReviewsNormPerRateSqrt     0.135019     0.999230  -0.027330  -0.118115   \n",
              "\n",
              "                        PriceRating  PriceRatingSqrt  ReviewsNormPerRateSqrt  \n",
              "Category                   0.019646         0.019646                0.047975  \n",
              "Rating                     0.054450         0.054450               -0.027330  \n",
              "Type                       0.998605         0.998605               -0.119861  \n",
              "Price                      0.999937         0.999937               -0.118115  \n",
              "Installs                  -0.043192        -0.043192                0.057188  \n",
              "Reviews                   -0.116081        -0.116081                0.999230  \n",
              "Size                      -0.004966        -0.004966                0.210825  \n",
              "Content Rating            -0.028655        -0.028655                0.124083  \n",
              "Current Ver               -0.033798        -0.033798                0.368646  \n",
              "Android Ver               -0.092422        -0.092422                0.135019  \n",
              "ReviewsNorm               -0.116081        -0.116081                0.999230  \n",
              "RatingLog                  0.054450         0.054450               -0.027330  \n",
              "PriceSqrt                  0.999937         0.999937               -0.118115  \n",
              "PriceRating                1.000000         1.000000               -0.118532  \n",
              "PriceRatingSqrt            1.000000         1.000000               -0.118532  \n",
              "ReviewsNormPerRateSqrt    -0.118532        -0.118532                1.000000  "
            ]
          },
          "metadata": {
            "tags": []
          },
          "execution_count": 70
        }
      ]
    },
    {
      "metadata": {
        "id": "pnqFgLbWLjyT",
        "colab_type": "text"
      },
      "cell_type": "markdown",
      "source": [
        "Média, mediana e moda dos valores para cada dataset após remoção de outliers"
      ]
    },
    {
      "metadata": {
        "id": "CtRQ3-tjLV_K",
        "colab_type": "code",
        "outputId": "c9cae7ae-5377-4bbc-b4c6-39056250c231",
        "colab": {
          "base_uri": "https://localhost:8080/",
          "height": 221
        }
      },
      "cell_type": "code",
      "source": [
        "print('Rating',dataset_imput2['Reviews'].mean(),dataset_imput2['Reviews'].median(),dataset_imput2['Reviews'].mode())\n",
        "print('Price',dataset_imput3['Reviews'].mean(),dataset_imput3['Reviews'].median(),dataset_imput3['Reviews'].mode())\n",
        "print('Price / Rating',dataset_imput4['Reviews'].mean(),dataset_imput4['Reviews'].median(),dataset_imput4['Reviews'].mode())\n",
        "print('ReviewsNorm / Rating',dataset_imput5['Reviews'].mean(),dataset_imput5['Reviews'].median(),dataset_imput5['Reviews'].mode())\n",
        "print('Local Outlier Factor',dataset_imput6['Reviews'].mean(),dataset_imput6['Reviews'].median(),dataset_imput6['Reviews'].mode())\n",
        "print('Isolation Forest',dtset['Reviews'].mean(),dtset['Reviews'].median(),dtset['Reviews'].mode())"
      ],
      "execution_count": 85,
      "outputs": [
        {
          "output_type": "stream",
          "text": [
            "Rating 234580.80650953983 1546.0 0    0.0\n",
            "dtype: float64\n",
            "Price 230427.18836259248 1218.0 0    0.0\n",
            "dtype: float64\n",
            "Price / Rating 229922.5819103228 1211.0 0    0.0\n",
            "dtype: float64\n",
            "ReviewsNorm / Rating 14802.241379310344 438.0 0    0.0\n",
            "dtype: float64\n",
            "Local Outlier Factor 740136.9482401656 47.0 0    0.0\n",
            "dtype: float64\n",
            "Isolation Forest 1516923.0082815734 4495.0 0    0.0\n",
            "dtype: float64\n"
          ],
          "name": "stdout"
        }
      ]
    },
    {
      "metadata": {
        "id": "Cc39OzsZLcMU",
        "colab_type": "code",
        "outputId": "81816fe2-7ee5-4519-8e6c-a7afa4b38e05",
        "colab": {
          "base_uri": "https://localhost:8080/",
          "height": 221
        }
      },
      "cell_type": "code",
      "source": [
        "print('Rating',dataset_imput2['Rating'].mean(),dataset_imput2['Rating'].median(),dataset_imput2['Rating'].mode())\n",
        "print('Price',dataset_imput3['Rating'].mean(),dataset_imput3['Rating'].median(),dataset_imput3['Rating'].mode())\n",
        "print('Price / Rating',dataset_imput4['Rating'].mean(),dataset_imput4['Rating'].median(),dataset_imput4['Rating'].mode())\n",
        "print('ReviewsNorm / Rating',dataset_imput5['Rating'].mean(),dataset_imput5['Rating'].median(),dataset_imput5['Rating'].mode())\n",
        "print('Local Outlier Factor',dataset_imput6['Rating'].mean(),dataset_imput6['Rating'].median(),dataset_imput6['Rating'].mode())\n",
        "print('Isolation Forest',dtset['Rating'].mean(),dtset['Rating'].median(),dtset['Rating'].mode())"
      ],
      "execution_count": 84,
      "outputs": [
        {
          "output_type": "stream",
          "text": [
            "Rating 4.283678763789409 4.3 0    4.3\n",
            "dtype: float64\n",
            "Price 4.1644674757468 4.3 0    4.3\n",
            "dtype: float64\n",
            "Price / Rating 4.166255059577442 4.3 0    4.3\n",
            "dtype: float64\n",
            "ReviewsNorm / Rating 4.141461629477853 4.202553602792044 0    4.3\n",
            "dtype: float64\n",
            "Local Outlier Factor 4.0671188919677075 4.2 0    4.4\n",
            "dtype: float64\n",
            "Isolation Forest 4.216270085101617 4.4 0    4.4\n",
            "dtype: float64\n"
          ],
          "name": "stdout"
        }
      ]
    },
    {
      "metadata": {
        "id": "6k6vAgX3LoFV",
        "colab_type": "code",
        "outputId": "10fa7bcc-e818-4f24-be55-f53d3d0c47a7",
        "colab": {
          "base_uri": "https://localhost:8080/",
          "height": 221
        }
      },
      "cell_type": "code",
      "source": [
        "\n",
        "print('Rating',dataset_imput2['Price'].mean(),dataset_imput2['Price'].median(),dataset_imput2['Price'].mode())\n",
        "print('Price',dataset_imput3['Price'].mean(),dataset_imput3['Price'].median(),dataset_imput3['Price'].mode())\n",
        "print('Price / Rating',dataset_imput4['Price'].mean(),dataset_imput4['Price'].median(),dataset_imput4['Price'].mode())\n",
        "print('ReviewsNorm / Rating',dataset_imput5['Price'].mean(),dataset_imput5['Price'].median(),dataset_imput5['Price'].mode())\n",
        "print('Local Outlier Factor',dataset_imput6['Price'].mean(),dataset_imput6['Price'].median(),dataset_imput6['Price'].mode())\n",
        "print('Isolation Forest',dtset['Price'].mean(),dtset['Price'].median(),dtset['Price'].mode())"
      ],
      "execution_count": 83,
      "outputs": [
        {
          "output_type": "stream",
          "text": [
            "Rating 1.102970819304141 0.0 0    0.0\n",
            "dtype: float64\n",
            "Price 0.016709727282764698 0.0 0    0.0\n",
            "dtype: float64\n",
            "Price / Rating 0.020121185413682945 0.0 0    0.0\n",
            "dtype: float64\n",
            "ReviewsNorm / Rating 1.2328960857409 0.0 0    0.0\n",
            "dtype: float64\n",
            "Local Outlier Factor 8.408002070393357 0.0 0    0.0\n",
            "dtype: float64\n",
            "Isolation Forest 10.552950310558925 1.0 0    0.0\n",
            "dtype: float64\n"
          ],
          "name": "stdout"
        }
      ]
    },
    {
      "metadata": {
        "id": "c6ZY6FufMtLf",
        "colab_type": "code",
        "outputId": "763957b4-7bf8-4c81-c59b-60fb132c2855",
        "colab": {
          "base_uri": "https://localhost:8080/",
          "height": 300
        }
      },
      "cell_type": "code",
      "source": [
        "dataset_imput5.plot.scatter(x='Rating',y='Reviews')"
      ],
      "execution_count": 86,
      "outputs": [
        {
          "output_type": "execute_result",
          "data": {
            "text/plain": [
              "<matplotlib.axes._subplots.AxesSubplot at 0x7f7dcbdf6cc0>"
            ]
          },
          "metadata": {
            "tags": []
          },
          "execution_count": 86
        },
        {
          "output_type": "display_data",
          "data": {
            "image/png": "[encoded data removed]",
            "text/plain": [
              "<Figure size 432x288 with 1 Axes>"
            ]
          },
          "metadata": {
            "tags": []
          }
        }
      ]
    },
    {
      "metadata": {
        "id": "LDBNKMGaOmm3",
        "colab_type": "code",
        "outputId": "41b6ff73-8aa0-488a-c4ac-d6d7737fbdc2",
        "colab": {
          "base_uri": "https://localhost:8080/",
          "height": 300
        }
      },
      "cell_type": "code",
      "source": [
        "dataset_imput5.plot.scatter(x='Rating',y='Price')"
      ],
      "execution_count": 87,
      "outputs": [
        {
          "output_type": "execute_result",
          "data": {
            "text/plain": [
              "<matplotlib.axes._subplots.AxesSubplot at 0x7f7dccc05f28>"
            ]
          },
          "metadata": {
            "tags": []
          },
          "execution_count": 87
        },
        {
          "output_type": "display_data",
          "data": {
            "image/png": "[encoded data removed]",
            "text/plain": [
              "<Figure size 432x288 with 1 Axes>"
            ]
          },
          "metadata": {
            "tags": []
          }
        }
      ]
    },
    {
      "metadata": {
        "id": "m5rLotWgO8dW",
        "colab_type": "code",
        "outputId": "58085334-c103-472c-bdc5-0bd6e370cabb",
        "colab": {
          "base_uri": "https://localhost:8080/",
          "height": 286
        }
      },
      "cell_type": "code",
      "source": [
        "dataset_imput5.boxplot(column=['Rating'])"
      ],
      "execution_count": 88,
      "outputs": [
        {
          "output_type": "execute_result",
          "data": {
            "text/plain": [
              "<matplotlib.axes._subplots.AxesSubplot at 0x7f7dcbd35da0>"
            ]
          },
          "metadata": {
            "tags": []
          },
          "execution_count": 88
        },
        {
          "output_type": "display_data",
          "data": {
            "image/png": "[encoded data removed]",
            "text/plain": [
              "<Figure size 432x288 with 1 Axes>"
            ]
          },
          "metadata": {
            "tags": []
          }
        }
      ]
    },
    {
      "metadata": {
        "id": "A5HtbABSPHxt",
        "colab_type": "code",
        "outputId": "c71660d9-4497-4f6b-9f6a-0f1ea93102fe",
        "colab": {
          "base_uri": "https://localhost:8080/",
          "height": 286
        }
      },
      "cell_type": "code",
      "source": [
        "dataset_imput5.boxplot(column=['ReviewsNorm'])"
      ],
      "execution_count": 89,
      "outputs": [
        {
          "output_type": "execute_result",
          "data": {
            "text/plain": [
              "<matplotlib.axes._subplots.AxesSubplot at 0x7f7dcbd10a20>"
            ]
          },
          "metadata": {
            "tags": []
          },
          "execution_count": 89
        },
        {
          "output_type": "display_data",
          "data": {
            "image/png": "[encoded data removed]",
            "text/plain": [
              "<Figure size 432x288 with 1 Axes>"
            ]
          },
          "metadata": {
            "tags": []
          }
        }
      ]
    },
    {
      "metadata": {
        "id": "svmx6MywGw5h",
        "colab_type": "text"
      },
      "cell_type": "markdown",
      "source": [
        "# Testes de hipótese e visualizações\n"
      ]
    },
    {
      "metadata": {
        "id": "oeWJ5gc_E-Pt",
        "colab_type": "code",
        "colab": {}
      },
      "cell_type": "code",
      "source": [
        "from scipy import stats\n",
        "import matplotlib.pyplot as plt\n",
        "import seaborn as sns"
      ],
      "execution_count": 0,
      "outputs": []
    },
    {
      "metadata": {
        "id": "tTzpDpNKHJO6",
        "colab_type": "text"
      },
      "cell_type": "markdown",
      "source": [
        "1) Há diferença entre a média da quantidade de resenhas de aplicativos pagos e gratuitos (relação entre as colunas Reviews e Type)"
      ]
    },
    {
      "metadata": {
        "id": "k7dGb7sCVHhQ",
        "colab_type": "code",
        "outputId": "9096c853-19d8-4a4c-981a-8e3b5ee8a6ab",
        "colab": {
          "base_uri": "https://localhost:8080/",
          "height": 85
        }
      },
      "cell_type": "code",
      "source": [
        "dataset_imput3.groupby('Type')['Type'].count()"
      ],
      "execution_count": 92,
      "outputs": [
        {
          "output_type": "execute_result",
          "data": {
            "text/plain": [
              "Type\n",
              "0.0    8905\n",
              "1.0     152\n",
              "Name: Type, dtype: int64"
            ]
          },
          "metadata": {
            "tags": []
          },
          "execution_count": 92
        }
      ]
    },
    {
      "metadata": {
        "id": "kT1j1lBCQwBu",
        "colab_type": "code",
        "outputId": "a1428d3e-4a85-4049-b7ca-0314ee55e624",
        "colab": {
          "base_uri": "https://localhost:8080/",
          "height": 34
        }
      },
      "cell_type": "code",
      "source": [
        "type_dict"
      ],
      "execution_count": 93,
      "outputs": [
        {
          "output_type": "execute_result",
          "data": {
            "text/plain": [
              "{0: 'Free', 1: 'Paid'}"
            ]
          },
          "metadata": {
            "tags": []
          },
          "execution_count": 93
        }
      ]
    },
    {
      "metadata": {
        "id": "cnyJkWWTQyPw",
        "colab_type": "code",
        "outputId": "31b9120e-7bab-4eac-f001-d2ff269d3355",
        "colab": {
          "base_uri": "https://localhost:8080/",
          "height": 612
        }
      },
      "cell_type": "code",
      "source": [
        "dataset_imput3.groupby('Category')['Category'].count()"
      ],
      "execution_count": 94,
      "outputs": [
        {
          "output_type": "execute_result",
          "data": {
            "text/plain": [
              "Category\n",
              "0.0       58\n",
              "1.0       82\n",
              "2.0       53\n",
              "3.0      198\n",
              "4.0      408\n",
              "5.0       56\n",
              "6.0      296\n",
              "7.0      165\n",
              "8.0      100\n",
              "9.0       77\n",
              "10.0      63\n",
              "11.0    1751\n",
              "12.0     328\n",
              "13.0     110\n",
              "14.0     869\n",
              "15.0     273\n",
              "16.0      73\n",
              "17.0      84\n",
              "18.0     352\n",
              "19.0     128\n",
              "20.0     325\n",
              "21.0     253\n",
              "22.0      58\n",
              "23.0     332\n",
              "24.0     262\n",
              "25.0     352\n",
              "26.0     200\n",
              "27.0     238\n",
              "28.0     307\n",
              "29.0     768\n",
              "30.0     207\n",
              "31.0     160\n",
              "32.0      71\n",
              "Name: Category, dtype: int64"
            ]
          },
          "metadata": {
            "tags": []
          },
          "execution_count": 94
        }
      ]
    },
    {
      "metadata": {
        "id": "-Hri30ANP6T8",
        "colab_type": "code",
        "outputId": "17dd0c01-c0ba-49ee-8fde-1efb365e7732",
        "colab": {
          "base_uri": "https://localhost:8080/",
          "height": 578
        }
      },
      "cell_type": "code",
      "source": [
        "category_dict"
      ],
      "execution_count": 95,
      "outputs": [
        {
          "output_type": "execute_result",
          "data": {
            "text/plain": [
              "{0: 'ART_AND_DESIGN',\n",
              " 1: 'AUTO_AND_VEHICLES',\n",
              " 2: 'BEAUTY',\n",
              " 3: 'BOOKS_AND_REFERENCE',\n",
              " 4: 'BUSINESS',\n",
              " 5: 'COMICS',\n",
              " 6: 'COMMUNICATION',\n",
              " 7: 'DATING',\n",
              " 8: 'EDUCATION',\n",
              " 9: 'ENTERTAINMENT',\n",
              " 10: 'EVENTS',\n",
              " 11: 'FAMILY',\n",
              " 12: 'FINANCE',\n",
              " 13: 'FOOD_AND_DRINK',\n",
              " 14: 'GAME',\n",
              " 15: 'HEALTH_AND_FITNESS',\n",
              " 16: 'HOUSE_AND_HOME',\n",
              " 17: 'LIBRARIES_AND_DEMO',\n",
              " 18: 'LIFESTYLE',\n",
              " 19: 'MAPS_AND_NAVIGATION',\n",
              " 20: 'MEDICAL',\n",
              " 21: 'NEWS_AND_MAGAZINES',\n",
              " 22: 'PARENTING',\n",
              " 23: 'PERSONALIZATION',\n",
              " 24: 'PHOTOGRAPHY',\n",
              " 25: 'PRODUCTIVITY',\n",
              " 26: 'SHOPPING',\n",
              " 27: 'SOCIAL',\n",
              " 28: 'SPORTS',\n",
              " 29: 'TOOLS',\n",
              " 30: 'TRAVEL_AND_LOCAL',\n",
              " 31: 'VIDEO_PLAYERS',\n",
              " 32: 'WEATHER'}"
            ]
          },
          "metadata": {
            "tags": []
          },
          "execution_count": 95
        }
      ]
    },
    {
      "metadata": {
        "id": "o5QYaA_tHDOX",
        "colab_type": "code",
        "outputId": "d7e2b2df-7f2d-40cf-dd86-1ae912a48196",
        "colab": {
          "base_uri": "https://localhost:8080/",
          "height": 286
        }
      },
      "cell_type": "code",
      "source": [
        "reviews_freeapps = dataset_imput3[dataset_imput3['Type']==0]['ReviewsNorm']\n",
        "reviews_paidapps = dataset_imput3[dataset_imput3['Type']==1]['ReviewsNorm']\n",
        "\n",
        "sns.boxplot(data=[reviews_freeapps,reviews_paidapps])"
      ],
      "execution_count": 96,
      "outputs": [
        {
          "output_type": "execute_result",
          "data": {
            "text/plain": [
              "<matplotlib.axes._subplots.AxesSubplot at 0x7f7dcaf282e8>"
            ]
          },
          "metadata": {
            "tags": []
          },
          "execution_count": 96
        },
        {
          "output_type": "display_data",
          "data": {
            "image/png": "[encoded data removed]",
            "text/plain": [
              "<Figure size 432x288 with 1 Axes>"
            ]
          },
          "metadata": {
            "tags": []
          }
        }
      ]
    },
    {
      "metadata": {
        "id": "gQKf33yaIIxE",
        "colab_type": "code",
        "outputId": "184eae26-df7e-4240-a112-af54989c8975",
        "colab": {
          "base_uri": "https://localhost:8080/",
          "height": 34
        }
      },
      "cell_type": "code",
      "source": [
        "stats.mannwhitneyu(reviews_freeapps,reviews_paidapps)"
      ],
      "execution_count": 97,
      "outputs": [
        {
          "output_type": "execute_result",
          "data": {
            "text/plain": [
              "MannwhitneyuResult(statistic=372874.0, pvalue=9.636282838544592e-22)"
            ]
          },
          "metadata": {
            "tags": []
          },
          "execution_count": 97
        }
      ]
    },
    {
      "metadata": {
        "id": "Womebco6IP1P",
        "colab_type": "code",
        "outputId": "5963313c-d6dd-472e-e35f-0ab370c81634",
        "colab": {
          "base_uri": "https://localhost:8080/",
          "height": 286
        }
      },
      "cell_type": "code",
      "source": [
        "reviews_freeapps.hist()"
      ],
      "execution_count": 98,
      "outputs": [
        {
          "output_type": "execute_result",
          "data": {
            "text/plain": [
              "<matplotlib.axes._subplots.AxesSubplot at 0x7f7dcaf28550>"
            ]
          },
          "metadata": {
            "tags": []
          },
          "execution_count": 98
        },
        {
          "output_type": "display_data",
          "data": {
            "image/png": "[encoded data removed]",
            "text/plain": [
              "<Figure size 432x288 with 1 Axes>"
            ]
          },
          "metadata": {
            "tags": []
          }
        }
      ]
    },
    {
      "metadata": {
        "id": "0F1LMkrcMAC4",
        "colab_type": "code",
        "outputId": "68f0a40d-3e54-409f-e57b-c2e7d2e7bb04",
        "colab": {
          "base_uri": "https://localhost:8080/",
          "height": 300
        }
      },
      "cell_type": "code",
      "source": [
        "sns.distplot(reviews_freeapps)"
      ],
      "execution_count": 99,
      "outputs": [
        {
          "output_type": "execute_result",
          "data": {
            "text/plain": [
              "<matplotlib.axes._subplots.AxesSubplot at 0x7f7dcaec5048>"
            ]
          },
          "metadata": {
            "tags": []
          },
          "execution_count": 99
        },
        {
          "output_type": "display_data",
          "data": {
            "image/png": "[encoded data removed]",
            "text/plain": [
              "<Figure size 432x288 with 1 Axes>"
            ]
          },
          "metadata": {
            "tags": []
          }
        }
      ]
    },
    {
      "metadata": {
        "id": "3L-EkZECImz6",
        "colab_type": "code",
        "outputId": "e69859ec-1dac-4016-afe7-49dc8ab866ae",
        "colab": {
          "base_uri": "https://localhost:8080/",
          "height": 286
        }
      },
      "cell_type": "code",
      "source": [
        "reviews_paidapps.hist()"
      ],
      "execution_count": 100,
      "outputs": [
        {
          "output_type": "execute_result",
          "data": {
            "text/plain": [
              "<matplotlib.axes._subplots.AxesSubplot at 0x7f7dcae37278>"
            ]
          },
          "metadata": {
            "tags": []
          },
          "execution_count": 100
        },
        {
          "output_type": "display_data",
          "data": {
            "image/png": "[encoded data removed]",
            "text/plain": [
              "<Figure size 432x288 with 1 Axes>"
            ]
          },
          "metadata": {
            "tags": []
          }
        }
      ]
    },
    {
      "metadata": {
        "id": "4dV88JrcJChx",
        "colab_type": "code",
        "outputId": "a57d2c54-a1a6-4628-dca8-ec49e0d62d0a",
        "colab": {
          "base_uri": "https://localhost:8080/",
          "height": 170
        }
      },
      "cell_type": "code",
      "source": [
        "reviews_paidapps.describe()"
      ],
      "execution_count": 0,
      "outputs": [
        {
          "output_type": "execute_result",
          "data": {
            "text/plain": [
              "count    1.520000e+02\n",
              "mean     7.912921e-05\n",
              "std      4.533385e-04\n",
              "min      0.000000e+00\n",
              "25%      3.839842e-08\n",
              "50%      2.751887e-07\n",
              "75%      3.020676e-06\n",
              "max      5.225923e-03\n",
              "Name: ReviewsNorm, dtype: float64"
            ]
          },
          "metadata": {
            "tags": []
          },
          "execution_count": 96
        }
      ]
    },
    {
      "metadata": {
        "id": "jJbn7VtQLkEP",
        "colab_type": "code",
        "outputId": "995b8232-9a5e-4579-b673-1e2e2fa62283",
        "colab": {
          "base_uri": "https://localhost:8080/",
          "height": 300
        }
      },
      "cell_type": "code",
      "source": [
        "sns.distplot(reviews_paidapps)"
      ],
      "execution_count": 103,
      "outputs": [
        {
          "output_type": "execute_result",
          "data": {
            "text/plain": [
              "<matplotlib.axes._subplots.AxesSubplot at 0x7f7dcada1198>"
            ]
          },
          "metadata": {
            "tags": []
          },
          "execution_count": 103
        },
        {
          "output_type": "display_data",
          "data": {
            "image/png": "[encoded data removed]",
            "text/plain": [
              "<Figure size 432x288 with 1 Axes>"
            ]
          },
          "metadata": {
            "tags": []
          }
        }
      ]
    },
    {
      "metadata": {
        "id": "siqSSXGHIpv2",
        "colab_type": "code",
        "outputId": "02b5b0fa-22a1-4e38-c66a-de02a0a50540",
        "colab": {
          "base_uri": "https://localhost:8080/",
          "height": 170
        }
      },
      "cell_type": "code",
      "source": [
        "reviews_freeapps.describe()"
      ],
      "execution_count": 104,
      "outputs": [
        {
          "output_type": "execute_result",
          "data": {
            "text/plain": [
              "count    8.905000e+03\n",
              "mean     2.998339e-03\n",
              "std      2.438884e-02\n",
              "min      0.000000e+00\n",
              "25%      3.711848e-07\n",
              "50%      1.752248e-05\n",
              "75%      4.501831e-04\n",
              "max      1.000000e+00\n",
              "Name: ReviewsNorm, dtype: float64"
            ]
          },
          "metadata": {
            "tags": []
          },
          "execution_count": 104
        }
      ]
    },
    {
      "metadata": {
        "id": "pT0c0lJ_Miuj",
        "colab_type": "text"
      },
      "cell_type": "markdown",
      "source": [
        "2) Há diferenças nas médias das notas dadas pelos aplicativos gratuitos e pelos pagos"
      ]
    },
    {
      "metadata": {
        "id": "v6whNES5JKor",
        "colab_type": "code",
        "outputId": "484db914-de5d-4d9f-8d99-e7cb785386b9",
        "colab": {
          "base_uri": "https://localhost:8080/",
          "height": 286
        }
      },
      "cell_type": "code",
      "source": [
        "rating_freeapps = dataset_imput3[dataset_imput3['Type']==0]['Rating']\n",
        "rating_paidapps = dataset_imput3[dataset_imput3['Type']==1]['Rating']\n",
        "\n",
        "sns.boxplot(data=[rating_paidapps,rating_freeapps])"
      ],
      "execution_count": 105,
      "outputs": [
        {
          "output_type": "execute_result",
          "data": {
            "text/plain": [
              "<matplotlib.axes._subplots.AxesSubplot at 0x7f7dcabc5898>"
            ]
          },
          "metadata": {
            "tags": []
          },
          "execution_count": 105
        },
        {
          "output_type": "display_data",
          "data": {
            "image/png": "[encoded data removed]",
            "text/plain": [
              "<Figure size 432x288 with 1 Axes>"
            ]
          },
          "metadata": {
            "tags": []
          }
        }
      ]
    },
    {
      "metadata": {
        "id": "XlwVd7oUJtf9",
        "colab_type": "code",
        "outputId": "8ef8b85c-0c3f-4b2f-ceb6-7d17744a27ef",
        "colab": {
          "base_uri": "https://localhost:8080/",
          "height": 34
        }
      },
      "cell_type": "code",
      "source": [
        "stats.mannwhitneyu(rating_freeapps,rating_paidapps)"
      ],
      "execution_count": 106,
      "outputs": [
        {
          "output_type": "execute_result",
          "data": {
            "text/plain": [
              "MannwhitneyuResult(statistic=598633.0, pvalue=0.007150302070849847)"
            ]
          },
          "metadata": {
            "tags": []
          },
          "execution_count": 106
        }
      ]
    },
    {
      "metadata": {
        "id": "u1BomxCuW9aX",
        "colab_type": "text"
      },
      "cell_type": "markdown",
      "source": [
        "Realizando esse mesmo teste de hipótese antes da remoção dos outliers"
      ]
    },
    {
      "metadata": {
        "id": "A-LdKr2ayNW1",
        "colab_type": "code",
        "outputId": "e1232c43-b1e0-4bc2-d4b7-4fde791bb37a",
        "colab": {
          "base_uri": "https://localhost:8080/",
          "height": 286
        }
      },
      "cell_type": "code",
      "source": [
        "rating_freeapps_olddata = dataset_imput[dataset_imput['Type']==0]['Rating']\n",
        "rating_paidapps_olddata = dataset_imput[dataset_imput['Type']==1]['Rating']\n",
        "\n",
        "sns.boxplot(data=[rating_paidapps_olddata,rating_freeapps_olddata])"
      ],
      "execution_count": 107,
      "outputs": [
        {
          "output_type": "execute_result",
          "data": {
            "text/plain": [
              "<matplotlib.axes._subplots.AxesSubplot at 0x7f7dcac94518>"
            ]
          },
          "metadata": {
            "tags": []
          },
          "execution_count": 107
        },
        {
          "output_type": "display_data",
          "data": {
            "image/png": "[encoded data removed]",
            "text/plain": [
              "<Figure size 432x288 with 1 Axes>"
            ]
          },
          "metadata": {
            "tags": []
          }
        }
      ]
    },
    {
      "metadata": {
        "id": "ODktAVreydbh",
        "colab_type": "code",
        "outputId": "f0c67299-6274-4988-b871-fcb2e7438ad6",
        "colab": {
          "base_uri": "https://localhost:8080/",
          "height": 34
        }
      },
      "cell_type": "code",
      "source": [
        "stats.mannwhitneyu(rating_freeapps_olddata,rating_paidapps_olddata)"
      ],
      "execution_count": 108,
      "outputs": [
        {
          "output_type": "execute_result",
          "data": {
            "text/plain": [
              "MannwhitneyuResult(statistic=3035012.5, pvalue=5.65025177614113e-06)"
            ]
          },
          "metadata": {
            "tags": []
          },
          "execution_count": 108
        }
      ]
    },
    {
      "metadata": {
        "id": "XddKtigEJ_m2",
        "colab_type": "code",
        "outputId": "4f25a27e-da38-4176-8630-757760253b50",
        "colab": {
          "base_uri": "https://localhost:8080/",
          "height": 119
        }
      },
      "cell_type": "code",
      "source": [
        "cont_rating_dict"
      ],
      "execution_count": 109,
      "outputs": [
        {
          "output_type": "execute_result",
          "data": {
            "text/plain": [
              "{0: 'Adults only 18+',\n",
              " 1: 'Everyone',\n",
              " 2: 'Everyone 10+',\n",
              " 3: 'Mature 17+',\n",
              " 4: 'Teen',\n",
              " 5: 'Unrated'}"
            ]
          },
          "metadata": {
            "tags": []
          },
          "execution_count": 109
        }
      ]
    },
    {
      "metadata": {
        "id": "PcZPeVNtXGNm",
        "colab_type": "code",
        "outputId": "016388b2-da02-4d01-a197-c7f5495246c5",
        "colab": {
          "base_uri": "https://localhost:8080/",
          "height": 153
        }
      },
      "cell_type": "code",
      "source": [
        "dataset_imput3.groupby('Content Rating')['Content Rating'].count()"
      ],
      "execution_count": 110,
      "outputs": [
        {
          "output_type": "execute_result",
          "data": {
            "text/plain": [
              "Content Rating\n",
              "0.0       3\n",
              "1.0    7382\n",
              "2.0     297\n",
              "3.0     380\n",
              "4.0     993\n",
              "5.0       2\n",
              "Name: Content Rating, dtype: int64"
            ]
          },
          "metadata": {
            "tags": []
          },
          "execution_count": 110
        }
      ]
    },
    {
      "metadata": {
        "id": "-kM0aLIXNzmQ",
        "colab_type": "text"
      },
      "cell_type": "markdown",
      "source": [
        "3) Aplicativos de classificação indicativa livre possui média de quantidade de resenhas maior do que a de aplicativos para público adolescente"
      ]
    },
    {
      "metadata": {
        "id": "PZG2j4vfNico",
        "colab_type": "code",
        "colab": {}
      },
      "cell_type": "code",
      "source": [
        "everyone_reviews = dataset_imput3[dataset_imput3['Content Rating']==1]['ReviewsNorm']\n",
        "teen_reviews = dataset_imput3[dataset_imput3['Content Rating']==4]['ReviewsNorm']"
      ],
      "execution_count": 0,
      "outputs": []
    },
    {
      "metadata": {
        "id": "nFH7snlWOPU0",
        "colab_type": "code",
        "outputId": "69098cb4-85e1-43f6-8b42-168add649b06",
        "colab": {
          "base_uri": "https://localhost:8080/",
          "height": 300
        }
      },
      "cell_type": "code",
      "source": [
        "sns.distplot(everyone_reviews)"
      ],
      "execution_count": 113,
      "outputs": [
        {
          "output_type": "execute_result",
          "data": {
            "text/plain": [
              "<matplotlib.axes._subplots.AxesSubplot at 0x7f7dcaa94630>"
            ]
          },
          "metadata": {
            "tags": []
          },
          "execution_count": 113
        },
        {
          "output_type": "display_data",
          "data": {
            "image/png": "[encoded data removed]",
            "text/plain": [
              "<Figure size 432x288 with 1 Axes>"
            ]
          },
          "metadata": {
            "tags": []
          }
        }
      ]
    },
    {
      "metadata": {
        "id": "eCVDEbQUOR6k",
        "colab_type": "code",
        "outputId": "61a9cef4-08e7-477b-ac08-466405c5fd9a",
        "colab": {
          "base_uri": "https://localhost:8080/",
          "height": 300
        }
      },
      "cell_type": "code",
      "source": [
        "sns.distplot(teen_reviews)"
      ],
      "execution_count": 114,
      "outputs": [
        {
          "output_type": "execute_result",
          "data": {
            "text/plain": [
              "<matplotlib.axes._subplots.AxesSubplot at 0x7f7dca971860>"
            ]
          },
          "metadata": {
            "tags": []
          },
          "execution_count": 114
        },
        {
          "output_type": "display_data",
          "data": {
            "image/png": "[encoded data removed]",
            "text/plain": [
              "<Figure size 432x288 with 1 Axes>"
            ]
          },
          "metadata": {
            "tags": []
          }
        }
      ]
    },
    {
      "metadata": {
        "id": "NfNgTnumOU4C",
        "colab_type": "code",
        "outputId": "ba12b693-08d2-4595-ff0f-72cfc743d1b7",
        "colab": {
          "base_uri": "https://localhost:8080/",
          "height": 34
        }
      },
      "cell_type": "code",
      "source": [
        "stats.mannwhitneyu(teen_reviews,everyone_reviews)"
      ],
      "execution_count": 115,
      "outputs": [
        {
          "output_type": "execute_result",
          "data": {
            "text/plain": [
              "MannwhitneyuResult(statistic=2810790.0, pvalue=3.4107022833142825e-33)"
            ]
          },
          "metadata": {
            "tags": []
          },
          "execution_count": 115
        }
      ]
    },
    {
      "metadata": {
        "id": "Y_kF5n5lPv6i",
        "colab_type": "code",
        "outputId": "8a49b9e0-347d-4820-c9af-4d5c92d941ea",
        "colab": {
          "base_uri": "https://localhost:8080/",
          "height": 170
        }
      },
      "cell_type": "code",
      "source": [
        "everyone_reviews.describe()"
      ],
      "execution_count": 116,
      "outputs": [
        {
          "output_type": "execute_result",
          "data": {
            "text/plain": [
              "count    7.382000e+03\n",
              "mean     2.252178e-03\n",
              "std      1.863419e-02\n",
              "min      0.000000e+00\n",
              "25%      2.687890e-07\n",
              "50%      8.902034e-06\n",
              "75%      3.107040e-04\n",
              "max      8.845675e-01\n",
              "Name: ReviewsNorm, dtype: float64"
            ]
          },
          "metadata": {
            "tags": []
          },
          "execution_count": 116
        }
      ]
    },
    {
      "metadata": {
        "id": "PpNNWI7SP4GK",
        "colab_type": "code",
        "outputId": "9c38332e-d0f2-4e37-ee5d-e163c789e738",
        "colab": {
          "base_uri": "https://localhost:8080/",
          "height": 170
        }
      },
      "cell_type": "code",
      "source": [
        "teen_reviews.describe()"
      ],
      "execution_count": 117,
      "outputs": [
        {
          "output_type": "execute_result",
          "data": {
            "text/plain": [
              "count    993.000000\n",
              "mean       0.006479\n",
              "std        0.045576\n",
              "min        0.000000\n",
              "25%        0.000002\n",
              "50%        0.000143\n",
              "75%        0.001661\n",
              "max        1.000000\n",
              "Name: ReviewsNorm, dtype: float64"
            ]
          },
          "metadata": {
            "tags": []
          },
          "execution_count": 117
        }
      ]
    },
    {
      "metadata": {
        "id": "YLWI-ERBWXvi",
        "colab_type": "text"
      },
      "cell_type": "markdown",
      "source": [
        "4)Aplicativos de jogos possuem média de quantidade de resenhas maior do que a dos aplicativos de ferramentas"
      ]
    },
    {
      "metadata": {
        "id": "7RnnAqdHV_l7",
        "colab_type": "code",
        "outputId": "6cdf2207-9a9a-4e9a-e249-934e7c09c405",
        "colab": {
          "base_uri": "https://localhost:8080/",
          "height": 286
        }
      },
      "cell_type": "code",
      "source": [
        "tools_reviews = dataset_imput4[dataset_imput4['Category']==29]['ReviewsNorm']\n",
        "game_reviews = dataset_imput4[dataset_imput4['Category']==14]['ReviewsNorm']\n",
        "\n",
        "sns.boxplot(data=[game_reviews,tools_reviews])"
      ],
      "execution_count": 118,
      "outputs": [
        {
          "output_type": "execute_result",
          "data": {
            "text/plain": [
              "<matplotlib.axes._subplots.AxesSubplot at 0x7f7dca851e10>"
            ]
          },
          "metadata": {
            "tags": []
          },
          "execution_count": 118
        },
        {
          "output_type": "display_data",
          "data": {
            "image/png": "[encoded data removed]",
            "text/plain": [
              "<Figure size 432x288 with 1 Axes>"
            ]
          },
          "metadata": {
            "tags": []
          }
        }
      ]
    },
    {
      "metadata": {
        "id": "1MZjK_6FWvin",
        "colab_type": "code",
        "outputId": "c4c6479a-c348-427d-aec7-f2c36ac45572",
        "colab": {
          "base_uri": "https://localhost:8080/",
          "height": 34
        }
      },
      "cell_type": "code",
      "source": [
        "stats.mannwhitneyu(game_reviews,tools_reviews)"
      ],
      "execution_count": 119,
      "outputs": [
        {
          "output_type": "execute_result",
          "data": {
            "text/plain": [
              "MannwhitneyuResult(statistic=205025.5, pvalue=2.8295383789686107e-42)"
            ]
          },
          "metadata": {
            "tags": []
          },
          "execution_count": 119
        }
      ]
    },
    {
      "metadata": {
        "id": "FccRWUcoW46U",
        "colab_type": "code",
        "outputId": "ece74bfe-73b9-4e9d-e214-4ad8200708d8",
        "colab": {
          "base_uri": "https://localhost:8080/",
          "height": 286
        }
      },
      "cell_type": "code",
      "source": [
        "game_reviews.hist()"
      ],
      "execution_count": 120,
      "outputs": [
        {
          "output_type": "execute_result",
          "data": {
            "text/plain": [
              "<matplotlib.axes._subplots.AxesSubplot at 0x7f7dcaa37668>"
            ]
          },
          "metadata": {
            "tags": []
          },
          "execution_count": 120
        },
        {
          "output_type": "display_data",
          "data": {
            "image/png": "[encoded data removed]",
            "text/plain": [
              "<Figure size 432x288 with 1 Axes>"
            ]
          },
          "metadata": {
            "tags": []
          }
        }
      ]
    },
    {
      "metadata": {
        "id": "-zUGq2elW8Ne",
        "colab_type": "code",
        "outputId": "4716d2b7-f949-4cdd-9f35-22856100cdd5",
        "colab": {
          "base_uri": "https://localhost:8080/",
          "height": 286
        }
      },
      "cell_type": "code",
      "source": [
        "tools_reviews.hist()"
      ],
      "execution_count": 121,
      "outputs": [
        {
          "output_type": "execute_result",
          "data": {
            "text/plain": [
              "<matplotlib.axes._subplots.AxesSubplot at 0x7f7dca7be5c0>"
            ]
          },
          "metadata": {
            "tags": []
          },
          "execution_count": 121
        },
        {
          "output_type": "display_data",
          "data": {
            "image/png": "[encoded data removed]",
            "text/plain": [
              "<Figure size 432x288 with 1 Axes>"
            ]
          },
          "metadata": {
            "tags": []
          }
        }
      ]
    },
    {
      "metadata": {
        "id": "SCmU5lyuW-Df",
        "colab_type": "code",
        "outputId": "e10746f7-ef33-4611-c835-76db7b3bb837",
        "colab": {
          "base_uri": "https://localhost:8080/",
          "height": 300
        }
      },
      "cell_type": "code",
      "source": [
        "sns.distplot(tools_reviews)"
      ],
      "execution_count": 122,
      "outputs": [
        {
          "output_type": "execute_result",
          "data": {
            "text/plain": [
              "<matplotlib.axes._subplots.AxesSubplot at 0x7f7dca731080>"
            ]
          },
          "metadata": {
            "tags": []
          },
          "execution_count": 122
        },
        {
          "output_type": "display_data",
          "data": {
            "image/png": "[encoded data removed]",
            "text/plain": [
              "<Figure size 432x288 with 1 Axes>"
            ]
          },
          "metadata": {
            "tags": []
          }
        }
      ]
    },
    {
      "metadata": {
        "id": "sqLq14mhXQq0",
        "colab_type": "code",
        "outputId": "a4fdb003-aa5d-4e5e-e2ea-fd1d16d768c3",
        "colab": {
          "base_uri": "https://localhost:8080/",
          "height": 300
        }
      },
      "cell_type": "code",
      "source": [
        "sns.distplot(game_reviews)"
      ],
      "execution_count": 123,
      "outputs": [
        {
          "output_type": "execute_result",
          "data": {
            "text/plain": [
              "<matplotlib.axes._subplots.AxesSubplot at 0x7f7dca6d7d30>"
            ]
          },
          "metadata": {
            "tags": []
          },
          "execution_count": 123
        },
        {
          "output_type": "display_data",
          "data": {
            "image/png": "[encoded data removed]",
            "text/plain": [
              "<Figure size 432x288 with 1 Axes>"
            ]
          },
          "metadata": {
            "tags": []
          }
        }
      ]
    },
    {
      "metadata": {
        "id": "s7IW-VkMYyll",
        "colab_type": "code",
        "outputId": "0935d21e-e9a2-4ab4-fc00-d44a3b4ac501",
        "colab": {
          "base_uri": "https://localhost:8080/",
          "height": 170
        }
      },
      "cell_type": "code",
      "source": [
        "game_reviews.describe()"
      ],
      "execution_count": 124,
      "outputs": [
        {
          "output_type": "execute_result",
          "data": {
            "text/plain": [
              "count    870.000000\n",
              "mean       0.006242\n",
              "std        0.020178\n",
              "min        0.000000\n",
              "25%        0.000017\n",
              "50%        0.000377\n",
              "75%        0.003103\n",
              "max        0.354695\n",
              "Name: ReviewsNorm, dtype: float64"
            ]
          },
          "metadata": {
            "tags": []
          },
          "execution_count": 124
        }
      ]
    },
    {
      "metadata": {
        "id": "dhiGMeo4QPXF",
        "colab_type": "code",
        "colab": {
          "base_uri": "https://localhost:8080/",
          "height": 170
        },
        "outputId": "5f83540e-7768-41e2-e8da-6ef79c690a4a"
      },
      "cell_type": "code",
      "source": [
        "tools_reviews.describe()"
      ],
      "execution_count": 125,
      "outputs": [
        {
          "output_type": "execute_result",
          "data": {
            "text/plain": [
              "count    7.700000e+02\n",
              "mean     3.810990e-03\n",
              "std      2.714697e-02\n",
              "min      0.000000e+00\n",
              "25%      3.711848e-07\n",
              "50%      6.892517e-06\n",
              "75%      3.080130e-04\n",
              "max      5.493090e-01\n",
              "Name: ReviewsNorm, dtype: float64"
            ]
          },
          "metadata": {
            "tags": []
          },
          "execution_count": 125
        }
      ]
    },
    {
      "metadata": {
        "id": "EVoj2vgE0YqV",
        "colab_type": "text"
      },
      "cell_type": "markdown",
      "source": [
        "5)Aplicativos de categoria Lifestyle são mais caros que os de categoria Família"
      ]
    },
    {
      "metadata": {
        "id": "2G2ULhsLXTX_",
        "colab_type": "code",
        "colab": {}
      },
      "cell_type": "code",
      "source": [
        "price_lifestyle = dataset_imput3[dataset_imput3['Category']==18]['Price']\n",
        "price_family = dataset_imput3[dataset_imput3['Category']==11]['Price']\n"
      ],
      "execution_count": 0,
      "outputs": []
    },
    {
      "metadata": {
        "id": "xQtAAT6H1Bfu",
        "colab_type": "code",
        "outputId": "489d3a01-700f-4f37-827e-ab4475bd7ea3",
        "colab": {
          "base_uri": "https://localhost:8080/",
          "height": 34
        }
      },
      "cell_type": "code",
      "source": [
        "stats.mannwhitneyu(price_lifestyle,price_family)"
      ],
      "execution_count": 128,
      "outputs": [
        {
          "output_type": "execute_result",
          "data": {
            "text/plain": [
              "MannwhitneyuResult(statistic=304644.0, pvalue=0.054553639390834255)"
            ]
          },
          "metadata": {
            "tags": []
          },
          "execution_count": 128
        }
      ]
    },
    {
      "metadata": {
        "id": "-HfkbSi31NiL",
        "colab_type": "code",
        "outputId": "bf5fc326-3ebf-4730-cbb7-7b11caf11758",
        "colab": {
          "base_uri": "https://localhost:8080/",
          "height": 170
        }
      },
      "cell_type": "code",
      "source": [
        "price_lifestyle.describe()"
      ],
      "execution_count": 129,
      "outputs": [
        {
          "output_type": "execute_result",
          "data": {
            "text/plain": [
              "count    352.000000\n",
              "mean       0.005625\n",
              "std        0.074518\n",
              "min        0.000000\n",
              "25%        0.000000\n",
              "50%        0.000000\n",
              "75%        0.000000\n",
              "max        0.990000\n",
              "Name: Price, dtype: float64"
            ]
          },
          "metadata": {
            "tags": []
          },
          "execution_count": 129
        }
      ]
    },
    {
      "metadata": {
        "id": "7WmN6Rg71QLM",
        "colab_type": "code",
        "outputId": "b0dcfa95-16e4-4495-e366-a29b26742e1c",
        "colab": {
          "base_uri": "https://localhost:8080/",
          "height": 170
        }
      },
      "cell_type": "code",
      "source": [
        "price_family.describe()"
      ],
      "execution_count": 130,
      "outputs": [
        {
          "output_type": "execute_result",
          "data": {
            "text/plain": [
              "count    1751.000000\n",
              "mean        0.017264\n",
              "std         0.131040\n",
              "min         0.000000\n",
              "25%         0.000000\n",
              "50%         0.000000\n",
              "75%         0.000000\n",
              "max         1.260000\n",
              "Name: Price, dtype: float64"
            ]
          },
          "metadata": {
            "tags": []
          },
          "execution_count": 130
        }
      ]
    },
    {
      "metadata": {
        "id": "N2za47vc1Tdg",
        "colab_type": "code",
        "outputId": "769bd1e1-a195-45c3-809e-71f896c40a14",
        "colab": {
          "base_uri": "https://localhost:8080/",
          "height": 300
        }
      },
      "cell_type": "code",
      "source": [
        "sns.distplot(price_family)"
      ],
      "execution_count": 131,
      "outputs": [
        {
          "output_type": "execute_result",
          "data": {
            "text/plain": [
              "<matplotlib.axes._subplots.AxesSubplot at 0x7f7dca53b7f0>"
            ]
          },
          "metadata": {
            "tags": []
          },
          "execution_count": 131
        },
        {
          "output_type": "display_data",
          "data": {
            "image/png": "[encoded data removed]",
            "text/plain": [
              "<Figure size 432x288 with 1 Axes>"
            ]
          },
          "metadata": {
            "tags": []
          }
        }
      ]
    },
    {
      "metadata": {
        "id": "DHEwAzyw2RKN",
        "colab_type": "code",
        "outputId": "100384d1-91bb-4113-91f3-428f0866e61f",
        "colab": {
          "base_uri": "https://localhost:8080/",
          "height": 300
        }
      },
      "cell_type": "code",
      "source": [
        "sns.distplot(price_lifestyle)"
      ],
      "execution_count": 132,
      "outputs": [
        {
          "output_type": "execute_result",
          "data": {
            "text/plain": [
              "<matplotlib.axes._subplots.AxesSubplot at 0x7f7dca45ce80>"
            ]
          },
          "metadata": {
            "tags": []
          },
          "execution_count": 132
        },
        {
          "output_type": "display_data",
          "data": {
            "image/png": "[encoded data removed]",
            "text/plain": [
              "<Figure size 432x288 with 1 Axes>"
            ]
          },
          "metadata": {
            "tags": []
          }
        }
      ]
    },
    {
      "metadata": {
        "id": "f1qCpS5ZadGo",
        "colab_type": "code",
        "outputId": "77cf5923-b200-4b76-c69d-5b70c3872d4e",
        "colab": {
          "base_uri": "https://localhost:8080/",
          "height": 374
        }
      },
      "cell_type": "code",
      "source": [
        "installs_dict"
      ],
      "execution_count": 133,
      "outputs": [
        {
          "output_type": "execute_result",
          "data": {
            "text/plain": [
              "{0: '0',\n",
              " 1: '0+',\n",
              " 2: '1+',\n",
              " 3: '1,000+',\n",
              " 4: '1,000,000+',\n",
              " 5: '1,000,000,000+',\n",
              " 6: '10+',\n",
              " 7: '10,000+',\n",
              " 8: '10,000,000+',\n",
              " 9: '100+',\n",
              " 10: '100,000+',\n",
              " 11: '100,000,000+',\n",
              " 12: '5+',\n",
              " 13: '5,000+',\n",
              " 14: '5,000,000+',\n",
              " 15: '50+',\n",
              " 16: '50,000+',\n",
              " 17: '50,000,000+',\n",
              " 18: '500+',\n",
              " 19: '500,000+',\n",
              " 20: '500,000,000+'}"
            ]
          },
          "metadata": {
            "tags": []
          },
          "execution_count": 133
        }
      ]
    },
    {
      "metadata": {
        "id": "WqSjzNv9azkc",
        "colab_type": "code",
        "outputId": "1b43eecb-3fdc-447c-ae04-0058c75b889f",
        "colab": {
          "base_uri": "https://localhost:8080/",
          "height": 408
        }
      },
      "cell_type": "code",
      "source": [
        "dataset_imput3.groupby('Installs')['Installs'].count()"
      ],
      "execution_count": 134,
      "outputs": [
        {
          "output_type": "execute_result",
          "data": {
            "text/plain": [
              "Installs\n",
              "0.0        1\n",
              "1.0        4\n",
              "2.0       54\n",
              "3.0      776\n",
              "4.0     1407\n",
              "5.0       20\n",
              "6.0      339\n",
              "7.0      930\n",
              "8.0      932\n",
              "9.0      639\n",
              "10.0    1037\n",
              "11.0     189\n",
              "12.0      75\n",
              "13.0     416\n",
              "14.0     607\n",
              "15.0     179\n",
              "16.0     432\n",
              "17.0     204\n",
              "18.0     298\n",
              "19.0     494\n",
              "20.0      24\n",
              "Name: Installs, dtype: int64"
            ]
          },
          "metadata": {
            "tags": []
          },
          "execution_count": 134
        }
      ]
    },
    {
      "metadata": {
        "id": "v6cm4n6pfIPV",
        "colab_type": "text"
      },
      "cell_type": "markdown",
      "source": [
        "5) Aplicativos com mais de 1 milhão de instalações possuem média de preço menor dos que os aplicativos com mais de 100 mil instalações"
      ]
    },
    {
      "metadata": {
        "id": "QGOASVbma4_a",
        "colab_type": "code",
        "colab": {}
      },
      "cell_type": "code",
      "source": [
        "price_100k = dataset_imput3[dataset_imput3['Installs']==10]['Price']\n",
        "price_1m = dataset_imput3[dataset_imput3['Installs']==4]['Price']"
      ],
      "execution_count": 0,
      "outputs": []
    },
    {
      "metadata": {
        "id": "UFBGmDnrfny5",
        "colab_type": "code",
        "outputId": "5ae74724-54fd-48ac-f48a-1cca7518b3b1",
        "colab": {
          "base_uri": "https://localhost:8080/",
          "height": 170
        }
      },
      "cell_type": "code",
      "source": [
        "price_1m.describe()"
      ],
      "execution_count": 136,
      "outputs": [
        {
          "output_type": "execute_result",
          "data": {
            "text/plain": [
              "count    1407.000000\n",
              "mean        0.005629\n",
              "std         0.074465\n",
              "min         0.000000\n",
              "25%         0.000000\n",
              "50%         0.000000\n",
              "75%         0.000000\n",
              "max         0.990000\n",
              "Name: Price, dtype: float64"
            ]
          },
          "metadata": {
            "tags": []
          },
          "execution_count": 136
        }
      ]
    },
    {
      "metadata": {
        "id": "Y_9JYa4FfthL",
        "colab_type": "code",
        "outputId": "52c3f097-a1f8-48b5-e4cc-015f87e76408",
        "colab": {
          "base_uri": "https://localhost:8080/",
          "height": 170
        }
      },
      "cell_type": "code",
      "source": [
        "price_100k.describe()"
      ],
      "execution_count": 137,
      "outputs": [
        {
          "output_type": "execute_result",
          "data": {
            "text/plain": [
              "count    1037.000000\n",
              "mean        0.004773\n",
              "std         0.068611\n",
              "min         0.000000\n",
              "25%         0.000000\n",
              "50%         0.000000\n",
              "75%         0.000000\n",
              "max         0.990000\n",
              "Name: Price, dtype: float64"
            ]
          },
          "metadata": {
            "tags": []
          },
          "execution_count": 137
        }
      ]
    },
    {
      "metadata": {
        "id": "4pDbsXypfxRN",
        "colab_type": "code",
        "outputId": "30b448b2-4c7c-4819-f4f4-85826f791357",
        "colab": {
          "base_uri": "https://localhost:8080/",
          "height": 300
        }
      },
      "cell_type": "code",
      "source": [
        "sns.distplot(price_100k)"
      ],
      "execution_count": 138,
      "outputs": [
        {
          "output_type": "execute_result",
          "data": {
            "text/plain": [
              "<matplotlib.axes._subplots.AxesSubplot at 0x7f7dca403320>"
            ]
          },
          "metadata": {
            "tags": []
          },
          "execution_count": 138
        },
        {
          "output_type": "display_data",
          "data": {
            "image/png": "[encoded data removed]",
            "text/plain": [
              "<Figure size 432x288 with 1 Axes>"
            ]
          },
          "metadata": {
            "tags": []
          }
        }
      ]
    },
    {
      "metadata": {
        "id": "vUTwQUGwf1j7",
        "colab_type": "code",
        "outputId": "f28842a7-cffc-452e-b70b-677a8deda585",
        "colab": {
          "base_uri": "https://localhost:8080/",
          "height": 300
        }
      },
      "cell_type": "code",
      "source": [
        "sns.distplot(price_1m)"
      ],
      "execution_count": 139,
      "outputs": [
        {
          "output_type": "execute_result",
          "data": {
            "text/plain": [
              "<matplotlib.axes._subplots.AxesSubplot at 0x7f7dca3ae470>"
            ]
          },
          "metadata": {
            "tags": []
          },
          "execution_count": 139
        },
        {
          "output_type": "display_data",
          "data": {
            "image/png": "[encoded data removed]",
            "text/plain": [
              "<Figure size 432x288 with 1 Axes>"
            ]
          },
          "metadata": {
            "tags": []
          }
        }
      ]
    },
    {
      "metadata": {
        "id": "Rt6rC2Yof4HY",
        "colab_type": "code",
        "outputId": "7e8787f0-86d2-48d7-ffb2-8630614d1b9d",
        "colab": {
          "base_uri": "https://localhost:8080/",
          "height": 34
        }
      },
      "cell_type": "code",
      "source": [
        "stats.mannwhitneyu(price_100k,price_1m)"
      ],
      "execution_count": 140,
      "outputs": [
        {
          "output_type": "execute_result",
          "data": {
            "text/plain": [
              "MannwhitneyuResult(statistic=728899.0, pvalue=0.38589951116218396)"
            ]
          },
          "metadata": {
            "tags": []
          },
          "execution_count": 140
        }
      ]
    },
    {
      "metadata": {
        "id": "bHXvLwXTgxm0",
        "colab_type": "text"
      },
      "cell_type": "markdown",
      "source": [
        "6)Os aplicativos com mais de 1 bilhão de instalações são mais bem avaliados do que os com mais de 500 milhões de instalações"
      ]
    },
    {
      "metadata": {
        "id": "IiS4FZVigEV_",
        "colab_type": "code",
        "outputId": "f2b52e25-6b12-4ad1-fb79-6a75e7703129",
        "colab": {
          "base_uri": "https://localhost:8080/",
          "height": 286
        }
      },
      "cell_type": "code",
      "source": [
        "rating_1bi = dataset_imput3[dataset_imput3['Installs']==5]['Rating']\n",
        "rating_500mi = dataset_imput3[dataset_imput3['Installs']==20]['Rating']\n",
        "\n",
        "sns.boxplot(data=[rating_500mi,rating_1bi])"
      ],
      "execution_count": 141,
      "outputs": [
        {
          "output_type": "execute_result",
          "data": {
            "text/plain": [
              "<matplotlib.axes._subplots.AxesSubplot at 0x7f7dca25ccc0>"
            ]
          },
          "metadata": {
            "tags": []
          },
          "execution_count": 141
        },
        {
          "output_type": "display_data",
          "data": {
            "image/png": "[encoded data removed]",
            "text/plain": [
              "<Figure size 432x288 with 1 Axes>"
            ]
          },
          "metadata": {
            "tags": []
          }
        }
      ]
    },
    {
      "metadata": {
        "id": "U4XcufOfhVN9",
        "colab_type": "code",
        "outputId": "a6d0e7fa-3626-41a6-bdf2-d2db56b57c20",
        "colab": {
          "base_uri": "https://localhost:8080/",
          "height": 34
        }
      },
      "cell_type": "code",
      "source": [
        "stats.mannwhitneyu(rating_500mi,rating_1bi)"
      ],
      "execution_count": 142,
      "outputs": [
        {
          "output_type": "execute_result",
          "data": {
            "text/plain": [
              "MannwhitneyuResult(statistic=149.5, pvalue=0.015614882662046171)"
            ]
          },
          "metadata": {
            "tags": []
          },
          "execution_count": 142
        }
      ]
    },
    {
      "metadata": {
        "id": "tRmHxXXVhgMX",
        "colab_type": "code",
        "outputId": "84c28fe8-3157-4b2d-a3b8-4aa0c614c5aa",
        "colab": {
          "base_uri": "https://localhost:8080/",
          "height": 170
        }
      },
      "cell_type": "code",
      "source": [
        "rating_1bi.describe()"
      ],
      "execution_count": 143,
      "outputs": [
        {
          "output_type": "execute_result",
          "data": {
            "text/plain": [
              "count    20.000000\n",
              "mean      4.215000\n",
              "std       0.225424\n",
              "min       3.700000\n",
              "25%       4.075000\n",
              "50%       4.300000\n",
              "75%       4.400000\n",
              "max       4.500000\n",
              "Name: Rating, dtype: float64"
            ]
          },
          "metadata": {
            "tags": []
          },
          "execution_count": 143
        }
      ]
    },
    {
      "metadata": {
        "id": "9MHAu5wthtv5",
        "colab_type": "code",
        "outputId": "e562beac-ed85-455b-848a-091ec36abab6",
        "colab": {
          "base_uri": "https://localhost:8080/",
          "height": 170
        }
      },
      "cell_type": "code",
      "source": [
        "rating_500mi.describe()"
      ],
      "execution_count": 144,
      "outputs": [
        {
          "output_type": "execute_result",
          "data": {
            "text/plain": [
              "count    24.000000\n",
              "mean      4.375000\n",
              "std       0.177544\n",
              "min       4.000000\n",
              "25%       4.300000\n",
              "50%       4.350000\n",
              "75%       4.500000\n",
              "max       4.700000\n",
              "Name: Rating, dtype: float64"
            ]
          },
          "metadata": {
            "tags": []
          },
          "execution_count": 144
        }
      ]
    },
    {
      "metadata": {
        "id": "_a7iNs40hwUY",
        "colab_type": "code",
        "colab": {
          "base_uri": "https://localhost:8080/",
          "height": 578
        },
        "outputId": "cfbc20a1-c6b5-4b1e-e8eb-d5e9dc2e8b5b"
      },
      "cell_type": "code",
      "source": [
        "android_ver_dict"
      ],
      "execution_count": 145,
      "outputs": [
        {
          "output_type": "execute_result",
          "data": {
            "text/plain": [
              "{0: '1.0 and up',\n",
              " 1: '1.5 and up',\n",
              " 2: '1.6 and up',\n",
              " 3: '2.0 and up',\n",
              " 4: '2.0.1 and up',\n",
              " 5: '2.1 and up',\n",
              " 6: '2.2 - 7.1.1',\n",
              " 7: '2.2 and up',\n",
              " 8: '2.3 and up',\n",
              " 9: '2.3.3 and up',\n",
              " 10: '3.0 and up',\n",
              " 11: '3.1 and up',\n",
              " 12: '3.2 and up',\n",
              " 13: '4.0 and up',\n",
              " 14: '4.0.3 - 7.1.1',\n",
              " 15: '4.0.3 and up',\n",
              " 16: '4.1 - 7.1.1',\n",
              " 17: '4.1 and up',\n",
              " 18: '4.2 and up',\n",
              " 19: '4.3 and up',\n",
              " 20: '4.4 and up',\n",
              " 21: '4.4W and up',\n",
              " 22: '5.0 - 6.0',\n",
              " 23: '5.0 - 7.1.1',\n",
              " 24: '5.0 - 8.0',\n",
              " 25: '5.0 and up',\n",
              " 26: '5.1 and up',\n",
              " 27: '6.0 and up',\n",
              " 28: '7.0 - 7.1.1',\n",
              " 29: '7.0 and up',\n",
              " 30: '7.1 and up',\n",
              " 31: '8.0 and up',\n",
              " 32: 'Varies with device'}"
            ]
          },
          "metadata": {
            "tags": []
          },
          "execution_count": 145
        }
      ]
    },
    {
      "metadata": {
        "id": "iqU4hF0qRTXa",
        "colab_type": "code",
        "colab": {
          "base_uri": "https://localhost:8080/",
          "height": 629
        },
        "outputId": "1c89b7fa-c2c6-4bf0-daca-50f7e7a2eaef"
      },
      "cell_type": "code",
      "source": [
        "dataset_imput3.groupby('Android Ver')['Android Ver'].count()"
      ],
      "execution_count": 146,
      "outputs": [
        {
          "output_type": "execute_result",
          "data": {
            "text/plain": [
              "Android Ver\n",
              "-1.0        1\n",
              " 0.0        2\n",
              " 1.0       14\n",
              " 2.0       82\n",
              " 3.0       30\n",
              " 4.0        3\n",
              " 5.0      116\n",
              " 6.0        1\n",
              " 7.0      200\n",
              " 8.0      561\n",
              " 9.0      251\n",
              " 10.0     207\n",
              " 11.0      10\n",
              " 12.0      29\n",
              " 13.0    1199\n",
              " 14.0       2\n",
              " 15.0    1329\n",
              " 16.0       1\n",
              " 17.0    2116\n",
              " 18.0     355\n",
              " 19.0     211\n",
              " 20.0     788\n",
              " 21.0       9\n",
              " 22.0       1\n",
              " 23.0       1\n",
              " 24.0       2\n",
              " 25.0     493\n",
              " 26.0      20\n",
              " 27.0      50\n",
              " 28.0       1\n",
              " 29.0      33\n",
              " 30.0       3\n",
              " 31.0       5\n",
              " 32.0     931\n",
              "Name: Android Ver, dtype: int64"
            ]
          },
          "metadata": {
            "tags": []
          },
          "execution_count": 146
        }
      ]
    },
    {
      "metadata": {
        "id": "7BRgVG_gRwl7",
        "colab_type": "text"
      },
      "cell_type": "markdown",
      "source": [
        "7)Aplicativos compatíveis com Android 4.4 em diante possuem média de preço diferente dos aplicativos compatíveis a partir do Android 5.0"
      ]
    },
    {
      "metadata": {
        "id": "G-PEH2smRhhy",
        "colab_type": "code",
        "colab": {}
      },
      "cell_type": "code",
      "source": [
        "android44_price = dataset_imput3[dataset_imput3['Android Ver']==20]['Price']\n",
        "android5_price = dataset_imput3[dataset_imput3['Android Ver']==25]['Price']"
      ],
      "execution_count": 0,
      "outputs": []
    },
    {
      "metadata": {
        "id": "H-d-B7ZGScq3",
        "colab_type": "code",
        "colab": {
          "base_uri": "https://localhost:8080/",
          "height": 300
        },
        "outputId": "f0969454-dedf-4cc5-98e2-1885090eaf1d"
      },
      "cell_type": "code",
      "source": [
        "sns.distplot(android5_price)"
      ],
      "execution_count": 148,
      "outputs": [
        {
          "output_type": "execute_result",
          "data": {
            "text/plain": [
              "<matplotlib.axes._subplots.AxesSubplot at 0x7f7dca23ba58>"
            ]
          },
          "metadata": {
            "tags": []
          },
          "execution_count": 148
        },
        {
          "output_type": "display_data",
          "data": {
            "image/png": "[encoded data removed]",
            "text/plain": [
              "<Figure size 432x288 with 1 Axes>"
            ]
          },
          "metadata": {
            "tags": []
          }
        }
      ]
    },
    {
      "metadata": {
        "id": "GilCNczYSfPI",
        "colab_type": "code",
        "colab": {
          "base_uri": "https://localhost:8080/",
          "height": 300
        },
        "outputId": "e149d6e4-9337-4151-996e-cf385f012854"
      },
      "cell_type": "code",
      "source": [
        "sns.distplot(android44_price)"
      ],
      "execution_count": 149,
      "outputs": [
        {
          "output_type": "execute_result",
          "data": {
            "text/plain": [
              "<matplotlib.axes._subplots.AxesSubplot at 0x7f7dca2c15f8>"
            ]
          },
          "metadata": {
            "tags": []
          },
          "execution_count": 149
        },
        {
          "output_type": "display_data",
          "data": {
            "image/png": "[encoded data removed]",
            "text/plain": [
              "<Figure size 432x288 with 1 Axes>"
            ]
          },
          "metadata": {
            "tags": []
          }
        }
      ]
    },
    {
      "metadata": {
        "id": "L8hkxp5SShkj",
        "colab_type": "code",
        "colab": {
          "base_uri": "https://localhost:8080/",
          "height": 34
        },
        "outputId": "439f6c99-aa8c-47c2-edba-a205de9946e0"
      },
      "cell_type": "code",
      "source": [
        "stats.mannwhitneyu(android44_price,android5_price)"
      ],
      "execution_count": 150,
      "outputs": [
        {
          "output_type": "execute_result",
          "data": {
            "text/plain": [
              "MannwhitneyuResult(statistic=192421.5, pvalue=0.07096559978658082)"
            ]
          },
          "metadata": {
            "tags": []
          },
          "execution_count": 150
        }
      ]
    },
    {
      "metadata": {
        "id": "t2YPZ7CWSlc7",
        "colab_type": "code",
        "colab": {
          "base_uri": "https://localhost:8080/",
          "height": 170
        },
        "outputId": "8f262ac9-e62a-4bd4-ec3b-cc95fb5fe874"
      },
      "cell_type": "code",
      "source": [
        "android5_price.describe()"
      ],
      "execution_count": 151,
      "outputs": [
        {
          "output_type": "execute_result",
          "data": {
            "text/plain": [
              "count    493.000000\n",
              "mean       0.018073\n",
              "std        0.132670\n",
              "min        0.000000\n",
              "25%        0.000000\n",
              "50%        0.000000\n",
              "75%        0.000000\n",
              "max        0.990000\n",
              "Name: Price, dtype: float64"
            ]
          },
          "metadata": {
            "tags": []
          },
          "execution_count": 151
        }
      ]
    },
    {
      "metadata": {
        "id": "s7l_6A1CSoJi",
        "colab_type": "code",
        "colab": {
          "base_uri": "https://localhost:8080/",
          "height": 170
        },
        "outputId": "ed95c3e2-dcbe-4a71-ee6d-9960fa45ee9b"
      },
      "cell_type": "code",
      "source": [
        "android44_price.describe()"
      ],
      "execution_count": 153,
      "outputs": [
        {
          "output_type": "execute_result",
          "data": {
            "text/plain": [
              "count    788.000000\n",
              "mean       0.008794\n",
              "std        0.092952\n",
              "min        0.000000\n",
              "25%        0.000000\n",
              "50%        0.000000\n",
              "75%        0.000000\n",
              "max        0.990000\n",
              "Name: Price, dtype: float64"
            ]
          },
          "metadata": {
            "tags": []
          },
          "execution_count": 153
        }
      ]
    },
    {
      "metadata": {
        "id": "CnKoHe1FSriB",
        "colab_type": "code",
        "colab": {}
      },
      "cell_type": "code",
      "source": [
        ""
      ],
      "execution_count": 0,
      "outputs": []
    }
  ]
}