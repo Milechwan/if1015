{
  "nbformat": 4,
  "nbformat_minor": 0,
  "metadata": {
    "colab": {
      "name": "ProjetoIF1015.ipynb",
      "version": "0.3.2",
      "provenance": [],
      "collapsed_sections": [],
      "include_colab_link": true
    },
    "language_info": {
      "codemirror_mode": {
        "name": "ipython",
        "version": 3
      },
      "file_extension": ".py",
      "mimetype": "text/x-python",
      "name": "python",
      "nbconvert_exporter": "python",
      "pygments_lexer": "ipython3",
      "version": "3.6.7"
    },
    "kernelspec": {
      "display_name": "Python 3",
      "language": "python",
      "name": "python3"
    }
  },
  "cells": [
    {
      "cell_type": "markdown",
      "metadata": {
        "id": "view-in-github",
        "colab_type": "text"
      },
      "source": [
        "<a href=\"https://colab.research.google.com/github/Milechwan/if1015/blob/master/ProjetoIF1015.ipynb\" target=\"_parent\"><img src=\"https://colab.research.google.com/assets/colab-badge.svg\" alt=\"Open In Colab\"/></a>"
      ]
    },
    {
      "metadata": {
        "id": "uw4CPOkldeXu",
        "colab_type": "code",
        "outputId": "7e1bc886-3b1a-4559-85c2-1ee45b474115",
        "colab": {
          "resources": {
            "http://localhost:8080/nbextensions/google.colab/files.js": {
              "data": "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",
              "ok": true,
              "headers": [
                [
                  "content-type",
                  "application/javascript"
                ]
              ],
              "status": 200,
              "status_text": ""
            }
          },
          "base_uri": "https://localhost:8080/",
          "height": 74
        }
      },
      "cell_type": "code",
      "source": [
        "from google.colab import files\n",
        "uploaded = files.upload()"
      ],
      "execution_count": 2,
      "outputs": [
        {
          "output_type": "display_data",
          "data": {
            "text/html": [
              "\n",
              "     <input type=\"file\" id=\"files-536da60b-4907-43eb-9e07-0097fec2ab02\" name=\"files[]\" multiple disabled />\n",
              "     <output id=\"result-536da60b-4907-43eb-9e07-0097fec2ab02\">\n",
              "      Upload widget is only available when the cell has been executed in the\n",
              "      current browser session. Please rerun this cell to enable.\n",
              "      </output>\n",
              "      <script src=\"/nbextensions/google.colab/files.js\"></script> "
            ],
            "text/plain": [
              "<IPython.core.display.HTML object>"
            ]
          },
          "metadata": {
            "tags": []
          }
        },
        {
          "output_type": "stream",
          "text": [
            "Saving googleplaystore.csv to googleplaystore.csv\n"
          ],
          "name": "stdout"
        }
      ]
    },
    {
      "metadata": {
        "id": "tJDwYKcHcpqf",
        "colab_type": "code",
        "colab": {}
      },
      "cell_type": "code",
      "source": [
        "import numpy as np\n",
        "import pandas as pd\n",
        "import io\n",
        "\n",
        "dataset = pd.read_csv(io.StringIO(uploaded['googleplaystore.csv'].decode(\"ISO-8859-1\")))"
      ],
      "execution_count": 0,
      "outputs": []
    },
    {
      "metadata": {
        "id": "dZjecn1qcpq0",
        "colab_type": "code",
        "outputId": "d8a040d6-a491-4c5a-98c0-78368063bddd",
        "colab": {
          "base_uri": "https://localhost:8080/",
          "height": 340
        }
      },
      "cell_type": "code",
      "source": [
        "dataset.head()"
      ],
      "execution_count": 4,
      "outputs": [
        {
          "output_type": "execute_result",
          "data": {
            "text/html": [
              "<div>\n",
              "<style scoped>\n",
              "    .dataframe tbody tr th:only-of-type {\n",
              "        vertical-align: middle;\n",
              "    }\n",
              "\n",
              "    .dataframe tbody tr th {\n",
              "        vertical-align: top;\n",
              "    }\n",
              "\n",
              "    .dataframe thead th {\n",
              "        text-align: right;\n",
              "    }\n",
              "</style>\n",
              "<table border=\"1\" class=\"dataframe\">\n",
              "  <thead>\n",
              "    <tr style=\"text-align: right;\">\n",
              "      <th></th>\n",
              "      <th>App</th>\n",
              "      <th>Category</th>\n",
              "      <th>Rating</th>\n",
              "      <th>Reviews</th>\n",
              "      <th>Size</th>\n",
              "      <th>Installs</th>\n",
              "      <th>Type</th>\n",
              "      <th>Price</th>\n",
              "      <th>Content Rating</th>\n",
              "      <th>Genres</th>\n",
              "      <th>Last Updated</th>\n",
              "      <th>Current Ver</th>\n",
              "      <th>Android Ver</th>\n",
              "    </tr>\n",
              "  </thead>\n",
              "  <tbody>\n",
              "    <tr>\n",
              "      <th>0</th>\n",
              "      <td>Photo Editor &amp; Candy Camera &amp; Grid &amp; ScrapBook</td>\n",
              "      <td>ART_AND_DESIGN</td>\n",
              "      <td>4.1</td>\n",
              "      <td>159</td>\n",
              "      <td>19M</td>\n",
              "      <td>10,000+</td>\n",
              "      <td>Free</td>\n",
              "      <td>0</td>\n",
              "      <td>Everyone</td>\n",
              "      <td>Art &amp; Design</td>\n",
              "      <td>January 7, 2018</td>\n",
              "      <td>1.0.0</td>\n",
              "      <td>4.0.3 and up</td>\n",
              "    </tr>\n",
              "    <tr>\n",
              "      <th>1</th>\n",
              "      <td>Coloring book moana</td>\n",
              "      <td>ART_AND_DESIGN</td>\n",
              "      <td>3.9</td>\n",
              "      <td>967</td>\n",
              "      <td>14M</td>\n",
              "      <td>500,000+</td>\n",
              "      <td>Free</td>\n",
              "      <td>0</td>\n",
              "      <td>Everyone</td>\n",
              "      <td>Art &amp; Design;Pretend Play</td>\n",
              "      <td>January 15, 2018</td>\n",
              "      <td>2.0.0</td>\n",
              "      <td>4.0.3 and up</td>\n",
              "    </tr>\n",
              "    <tr>\n",
              "      <th>2</th>\n",
              "      <td>U Launcher Lite â FREE Live Cool Themes, Hid...</td>\n",
              "      <td>ART_AND_DESIGN</td>\n",
              "      <td>4.7</td>\n",
              "      <td>87510</td>\n",
              "      <td>8.7M</td>\n",
              "      <td>5,000,000+</td>\n",
              "      <td>Free</td>\n",
              "      <td>0</td>\n",
              "      <td>Everyone</td>\n",
              "      <td>Art &amp; Design</td>\n",
              "      <td>August 1, 2018</td>\n",
              "      <td>1.2.4</td>\n",
              "      <td>4.0.3 and up</td>\n",
              "    </tr>\n",
              "    <tr>\n",
              "      <th>3</th>\n",
              "      <td>Sketch - Draw &amp; Paint</td>\n",
              "      <td>ART_AND_DESIGN</td>\n",
              "      <td>4.5</td>\n",
              "      <td>215644</td>\n",
              "      <td>25M</td>\n",
              "      <td>50,000,000+</td>\n",
              "      <td>Free</td>\n",
              "      <td>0</td>\n",
              "      <td>Teen</td>\n",
              "      <td>Art &amp; Design</td>\n",
              "      <td>June 8, 2018</td>\n",
              "      <td>Varies with device</td>\n",
              "      <td>4.2 and up</td>\n",
              "    </tr>\n",
              "    <tr>\n",
              "      <th>4</th>\n",
              "      <td>Pixel Draw - Number Art Coloring Book</td>\n",
              "      <td>ART_AND_DESIGN</td>\n",
              "      <td>4.3</td>\n",
              "      <td>967</td>\n",
              "      <td>2.8M</td>\n",
              "      <td>100,000+</td>\n",
              "      <td>Free</td>\n",
              "      <td>0</td>\n",
              "      <td>Everyone</td>\n",
              "      <td>Art &amp; Design;Creativity</td>\n",
              "      <td>June 20, 2018</td>\n",
              "      <td>1.1</td>\n",
              "      <td>4.4 and up</td>\n",
              "    </tr>\n",
              "  </tbody>\n",
              "</table>\n",
              "</div>"
            ],
            "text/plain": [
              "                                                 App        Category  Rating  \\\n",
              "0     Photo Editor & Candy Camera & Grid & ScrapBook  ART_AND_DESIGN     4.1   \n",
              "1                                Coloring book moana  ART_AND_DESIGN     3.9   \n",
              "2  U Launcher Lite â FREE Live Cool Themes, Hid...  ART_AND_DESIGN     4.7   \n",
              "3                              Sketch - Draw & Paint  ART_AND_DESIGN     4.5   \n",
              "4              Pixel Draw - Number Art Coloring Book  ART_AND_DESIGN     4.3   \n",
              "\n",
              "  Reviews  Size     Installs  Type Price Content Rating  \\\n",
              "0     159   19M      10,000+  Free     0       Everyone   \n",
              "1     967   14M     500,000+  Free     0       Everyone   \n",
              "2   87510  8.7M   5,000,000+  Free     0       Everyone   \n",
              "3  215644   25M  50,000,000+  Free     0           Teen   \n",
              "4     967  2.8M     100,000+  Free     0       Everyone   \n",
              "\n",
              "                      Genres      Last Updated         Current Ver  \\\n",
              "0               Art & Design   January 7, 2018               1.0.0   \n",
              "1  Art & Design;Pretend Play  January 15, 2018               2.0.0   \n",
              "2               Art & Design    August 1, 2018               1.2.4   \n",
              "3               Art & Design      June 8, 2018  Varies with device   \n",
              "4    Art & Design;Creativity     June 20, 2018                 1.1   \n",
              "\n",
              "    Android Ver  \n",
              "0  4.0.3 and up  \n",
              "1  4.0.3 and up  \n",
              "2  4.0.3 and up  \n",
              "3    4.2 and up  \n",
              "4    4.4 and up  "
            ]
          },
          "metadata": {
            "tags": []
          },
          "execution_count": 4
        }
      ]
    },
    {
      "metadata": {
        "id": "QPzAU4Y83Mpd",
        "colab_type": "text"
      },
      "cell_type": "markdown",
      "source": [
        "*Remoção de entradas duplicadas baseando-se apenas no nome dos aplicativos*"
      ]
    },
    {
      "metadata": {
        "id": "_iZWUxdbcpxM",
        "colab_type": "code",
        "outputId": "4585eff7-9c72-450c-d680-2da2c0bc27ab",
        "colab": {
          "base_uri": "https://localhost:8080/",
          "height": 34
        }
      },
      "cell_type": "code",
      "source": [
        "#dataset.drop_duplicates(subset=['App'],keep=False, inplace=True)\n",
        "dataset.drop_duplicates(subset=['App'],keep='last', inplace=True)\n",
        "print(len(dataset))"
      ],
      "execution_count": 5,
      "outputs": [
        {
          "output_type": "stream",
          "text": [
            "9660\n"
          ],
          "name": "stdout"
        }
      ]
    },
    {
      "metadata": {
        "id": "jBPXT0WCqo2N",
        "colab_type": "code",
        "outputId": "5398c961-491d-4a27-f4b2-4e7a8081e22b",
        "colab": {
          "base_uri": "https://localhost:8080/",
          "height": 102
        }
      },
      "cell_type": "code",
      "source": [
        "dataset.Reviews.describe()"
      ],
      "execution_count": 6,
      "outputs": [
        {
          "output_type": "execute_result",
          "data": {
            "text/plain": [
              "count     9660\n",
              "unique    5333\n",
              "top          0\n",
              "freq       593\n",
              "Name: Reviews, dtype: object"
            ]
          },
          "metadata": {
            "tags": []
          },
          "execution_count": 6
        }
      ]
    },
    {
      "metadata": {
        "id": "ligJRjaHrbUA",
        "colab_type": "text"
      },
      "cell_type": "markdown",
      "source": [
        "Baseando-se nos valores mostrados no .head(), pode-se inferir que essa coluna se trata da quantidade de resenhas (uma forma de avaliação que os usuários fazem para um aplicativo), portanto o tipo da coluna deve ser numérico, e não object."
      ]
    },
    {
      "metadata": {
        "id": "di6iv2yIcprF",
        "colab_type": "code",
        "outputId": "b6664927-d678-4254-c574-d5e8b3ee6aae",
        "colab": {
          "base_uri": "https://localhost:8080/",
          "height": 435
        }
      },
      "cell_type": "code",
      "source": [
        "dataset.Reviews = pd.to_numeric(dataset.Reviews)"
      ],
      "execution_count": 7,
      "outputs": [
        {
          "output_type": "error",
          "ename": "ValueError",
          "evalue": "ignored",
          "traceback": [
            "\u001b[0;31m---------------------------------------------------------------------------\u001b[0m",
            "\u001b[0;31mValueError\u001b[0m                                Traceback (most recent call last)",
            "\u001b[0;32mpandas/_libs/src/inference.pyx\u001b[0m in \u001b[0;36mpandas._libs.lib.maybe_convert_numeric\u001b[0;34m()\u001b[0m\n",
            "\u001b[0;31mValueError\u001b[0m: Unable to parse string \"3.0M\"",
            "\nDuring handling of the above exception, another exception occurred:\n",
            "\u001b[0;31mValueError\u001b[0m                                Traceback (most recent call last)",
            "\u001b[0;32m<ipython-input-7-1a55a7e03316>\u001b[0m in \u001b[0;36m<module>\u001b[0;34m()\u001b[0m\n\u001b[0;32m----> 1\u001b[0;31m \u001b[0mdataset\u001b[0m\u001b[0;34m.\u001b[0m\u001b[0mReviews\u001b[0m \u001b[0;34m=\u001b[0m \u001b[0mpd\u001b[0m\u001b[0;34m.\u001b[0m\u001b[0mto_numeric\u001b[0m\u001b[0;34m(\u001b[0m\u001b[0mdataset\u001b[0m\u001b[0;34m.\u001b[0m\u001b[0mReviews\u001b[0m\u001b[0;34m)\u001b[0m\u001b[0;34m\u001b[0m\u001b[0;34m\u001b[0m\u001b[0m\n\u001b[0m",
            "\u001b[0;32m/usr/local/lib/python3.6/dist-packages/pandas/core/tools/numeric.py\u001b[0m in \u001b[0;36mto_numeric\u001b[0;34m(arg, errors, downcast)\u001b[0m\n\u001b[1;32m    131\u001b[0m             \u001b[0mcoerce_numeric\u001b[0m \u001b[0;34m=\u001b[0m \u001b[0;32mFalse\u001b[0m \u001b[0;32mif\u001b[0m \u001b[0merrors\u001b[0m \u001b[0;32min\u001b[0m \u001b[0;34m(\u001b[0m\u001b[0;34m'ignore'\u001b[0m\u001b[0;34m,\u001b[0m \u001b[0;34m'raise'\u001b[0m\u001b[0;34m)\u001b[0m \u001b[0;32melse\u001b[0m \u001b[0;32mTrue\u001b[0m\u001b[0;34m\u001b[0m\u001b[0;34m\u001b[0m\u001b[0m\n\u001b[1;32m    132\u001b[0m             values = lib.maybe_convert_numeric(values, set(),\n\u001b[0;32m--> 133\u001b[0;31m                                                coerce_numeric=coerce_numeric)\n\u001b[0m\u001b[1;32m    134\u001b[0m \u001b[0;34m\u001b[0m\u001b[0m\n\u001b[1;32m    135\u001b[0m     \u001b[0;32mexcept\u001b[0m \u001b[0mException\u001b[0m\u001b[0;34m:\u001b[0m\u001b[0;34m\u001b[0m\u001b[0;34m\u001b[0m\u001b[0m\n",
            "\u001b[0;32mpandas/_libs/src/inference.pyx\u001b[0m in \u001b[0;36mpandas._libs.lib.maybe_convert_numeric\u001b[0;34m()\u001b[0m\n",
            "\u001b[0;31mValueError\u001b[0m: Unable to parse string \"3.0M\" at position 9291"
          ]
        }
      ]
    },
    {
      "metadata": {
        "id": "X9_ubVRir5jh",
        "colab_type": "text"
      },
      "cell_type": "markdown",
      "source": [
        "Faz-se a verificação dessa coluna com valor de string e que impediu a conversão para tipo numérico"
      ]
    },
    {
      "metadata": {
        "id": "PlXoQuZJcprR",
        "colab_type": "code",
        "outputId": "2d71ec22-75a9-41fb-cb83-8decb05138da",
        "colab": {
          "base_uri": "https://localhost:8080/",
          "height": 114
        }
      },
      "cell_type": "code",
      "source": [
        "dataset[dataset['Reviews']=='3.0M']"
      ],
      "execution_count": 8,
      "outputs": [
        {
          "output_type": "execute_result",
          "data": {
            "text/html": [
              "<div>\n",
              "<style scoped>\n",
              "    .dataframe tbody tr th:only-of-type {\n",
              "        vertical-align: middle;\n",
              "    }\n",
              "\n",
              "    .dataframe tbody tr th {\n",
              "        vertical-align: top;\n",
              "    }\n",
              "\n",
              "    .dataframe thead th {\n",
              "        text-align: right;\n",
              "    }\n",
              "</style>\n",
              "<table border=\"1\" class=\"dataframe\">\n",
              "  <thead>\n",
              "    <tr style=\"text-align: right;\">\n",
              "      <th></th>\n",
              "      <th>App</th>\n",
              "      <th>Category</th>\n",
              "      <th>Rating</th>\n",
              "      <th>Reviews</th>\n",
              "      <th>Size</th>\n",
              "      <th>Installs</th>\n",
              "      <th>Type</th>\n",
              "      <th>Price</th>\n",
              "      <th>Content Rating</th>\n",
              "      <th>Genres</th>\n",
              "      <th>Last Updated</th>\n",
              "      <th>Current Ver</th>\n",
              "      <th>Android Ver</th>\n",
              "    </tr>\n",
              "  </thead>\n",
              "  <tbody>\n",
              "    <tr>\n",
              "      <th>10472</th>\n",
              "      <td>Life Made WI-Fi Touchscreen Photo Frame</td>\n",
              "      <td>1.9</td>\n",
              "      <td>19.0</td>\n",
              "      <td>3.0M</td>\n",
              "      <td>1,000+</td>\n",
              "      <td>Free</td>\n",
              "      <td>0</td>\n",
              "      <td>Everyone</td>\n",
              "      <td>NaN</td>\n",
              "      <td>February 11, 2018</td>\n",
              "      <td>1.0.19</td>\n",
              "      <td>4.0 and up</td>\n",
              "      <td>NaN</td>\n",
              "    </tr>\n",
              "  </tbody>\n",
              "</table>\n",
              "</div>"
            ],
            "text/plain": [
              "                                           App Category  Rating Reviews  \\\n",
              "10472  Life Made WI-Fi Touchscreen Photo Frame      1.9    19.0    3.0M   \n",
              "\n",
              "         Size Installs Type     Price Content Rating             Genres  \\\n",
              "10472  1,000+     Free    0  Everyone            NaN  February 11, 2018   \n",
              "\n",
              "      Last Updated Current Ver Android Ver  \n",
              "10472       1.0.19  4.0 and up         NaN  "
            ]
          },
          "metadata": {
            "tags": []
          },
          "execution_count": 8
        }
      ]
    },
    {
      "metadata": {
        "id": "Yb9l_SI7pYQw",
        "colab_type": "text"
      },
      "cell_type": "markdown",
      "source": [
        "**Aparentemente, a linha acima reflete uma entrada em que as informações estão nas colunas erradas. Ainda que isso fosse corrigido, não saberíamos sua categoria. Mais adiante, vemos que não há outras entradas além desta (caso fosse corrigida) sem a definição de categoria. Portanto, decidiu-se remover tal entrada.**"
      ]
    },
    {
      "metadata": {
        "id": "pxgzr8a74f3f",
        "colab_type": "code",
        "colab": {
          "base_uri": "https://localhost:8080/",
          "height": 34
        },
        "outputId": "15d43d7c-02d4-4353-89f3-4f18fd059089"
      },
      "cell_type": "code",
      "source": [
        "len(dataset[dataset['Category'].isna()])"
      ],
      "execution_count": 12,
      "outputs": [
        {
          "output_type": "execute_result",
          "data": {
            "text/plain": [
              "0"
            ]
          },
          "metadata": {
            "tags": []
          },
          "execution_count": 12
        }
      ]
    },
    {
      "metadata": {
        "id": "gOUzrJ_0cpre",
        "colab_type": "code",
        "outputId": "b4d6cf8b-af8d-48fb-ba01-5daa54978208",
        "colab": {
          "base_uri": "https://localhost:8080/",
          "height": 170
        }
      },
      "cell_type": "code",
      "source": [
        "dataset = dataset.drop(dataset[dataset['Price']=='Everyone'].index, axis = 0)\n",
        "dataset.Reviews = pd.to_numeric(dataset.Reviews)\n",
        "dataset.Reviews.describe()"
      ],
      "execution_count": 13,
      "outputs": [
        {
          "output_type": "execute_result",
          "data": {
            "text/plain": [
              "count    9.659000e+03\n",
              "mean     2.166512e+05\n",
              "std      1.830738e+06\n",
              "min      0.000000e+00\n",
              "25%      2.500000e+01\n",
              "50%      9.690000e+02\n",
              "75%      2.940100e+04\n",
              "max      7.812821e+07\n",
              "Name: Reviews, dtype: float64"
            ]
          },
          "metadata": {
            "tags": []
          },
          "execution_count": 13
        }
      ]
    },
    {
      "metadata": {
        "id": "ahA5_19acprm",
        "colab_type": "code",
        "outputId": "aa408d08-6eaf-401a-b9d6-07f6fd775ac6",
        "colab": {
          "base_uri": "https://localhost:8080/",
          "height": 102
        }
      },
      "cell_type": "code",
      "source": [
        "dataset.Price.describe()"
      ],
      "execution_count": 14,
      "outputs": [
        {
          "output_type": "execute_result",
          "data": {
            "text/plain": [
              "count     9659\n",
              "unique      92\n",
              "top          0\n",
              "freq      8905\n",
              "Name: Price, dtype: object"
            ]
          },
          "metadata": {
            "tags": []
          },
          "execution_count": 14
        }
      ]
    },
    {
      "metadata": {
        "id": "sOAvEO1UIPrM",
        "colab_type": "text"
      },
      "cell_type": "markdown",
      "source": [
        "Vendo que a coluna de preço é de tipo objeto, faz-se uma verificação de como estão os dados de aplicativos pagos, ou seja, os que não são classificados na coluna Type como Free, que são 0"
      ]
    },
    {
      "metadata": {
        "id": "aymjkPNJcprx",
        "colab_type": "code",
        "outputId": "ef6dbbc8-5794-4d78-c2ec-fab4b4001392",
        "colab": {
          "base_uri": "https://localhost:8080/",
          "height": 1071
        }
      },
      "cell_type": "code",
      "source": [
        "dataset[dataset['Type']!='Free']['Price']"
      ],
      "execution_count": 15,
      "outputs": [
        {
          "output_type": "execute_result",
          "data": {
            "text/plain": [
              "290       $4.99\n",
              "291       $4.99\n",
              "427       $3.99\n",
              "478       $1.49\n",
              "479       $2.99\n",
              "480       $3.99\n",
              "481       $7.99\n",
              "571       $3.99\n",
              "851       $3.99\n",
              "854       $3.99\n",
              "995       $4.99\n",
              "1001      $2.99\n",
              "1227      $3.49\n",
              "1228      $4.99\n",
              "1335      $3.99\n",
              "1341      $2.99\n",
              "1347      $2.99\n",
              "1832      $1.99\n",
              "1833      $4.99\n",
              "1834      $4.99\n",
              "1835      $4.99\n",
              "1836      $5.99\n",
              "1837      $6.99\n",
              "1838      $9.99\n",
              "1839      $4.99\n",
              "2062      $3.99\n",
              "2085      $2.99\n",
              "2086      $3.99\n",
              "2087      $2.99\n",
              "2150      $3.99\n",
              "          ...  \n",
              "10453     $2.99\n",
              "10457     $2.99\n",
              "10459     $1.99\n",
              "10460     $1.00\n",
              "10517     $1.49\n",
              "10531     $3.49\n",
              "10540     $2.99\n",
              "10570     $1.99\n",
              "10583     $6.99\n",
              "10586     $0.99\n",
              "10594     $1.99\n",
              "10645     $8.99\n",
              "10650     $5.49\n",
              "10651     $6.49\n",
              "10661     $5.99\n",
              "10662     $6.49\n",
              "10664     $6.49\n",
              "10668     $6.49\n",
              "10669     $5.99\n",
              "10674     $5.49\n",
              "10675     $0.99\n",
              "10679     $2.99\n",
              "10682     $0.99\n",
              "10690     $0.99\n",
              "10697     $0.99\n",
              "10735     $0.99\n",
              "10760     $7.99\n",
              "10782    $16.99\n",
              "10785     $1.20\n",
              "10798     $1.04\n",
              "Name: Price, Length: 755, dtype: object"
            ]
          },
          "metadata": {
            "tags": []
          },
          "execution_count": 15
        }
      ]
    },
    {
      "metadata": {
        "id": "OMZm_UDhErDC",
        "colab_type": "text"
      },
      "cell_type": "markdown",
      "source": [
        "**Remoção do símbolo $ para transformar o tipo da coluna Price em numérico**"
      ]
    },
    {
      "metadata": {
        "id": "ENMiFFd6cpzN",
        "colab_type": "code",
        "outputId": "beb6c58f-9950-4163-db22-98addfb5adf0",
        "colab": {
          "base_uri": "https://localhost:8080/",
          "height": 170
        }
      },
      "cell_type": "code",
      "source": [
        "dataset['Price'] = dataset['Price'].apply(lambda x: x[x.find('$')+1:] if x.find('$')>-1 else x)\n",
        "dataset['Price'] = pd.to_numeric(dataset['Price'])\n",
        "dataset.Price.describe()"
      ],
      "execution_count": 16,
      "outputs": [
        {
          "output_type": "execute_result",
          "data": {
            "text/plain": [
              "count    9659.000000\n",
              "mean        1.097231\n",
              "std        16.851618\n",
              "min         0.000000\n",
              "25%         0.000000\n",
              "50%         0.000000\n",
              "75%         0.000000\n",
              "max       400.000000\n",
              "Name: Price, dtype: float64"
            ]
          },
          "metadata": {
            "tags": []
          },
          "execution_count": 16
        }
      ]
    },
    {
      "metadata": {
        "id": "Rx-AEGSYcpr9",
        "colab_type": "code",
        "outputId": "64d845df-b3e4-4c83-d81c-0fceaf49a6b2",
        "colab": {
          "base_uri": "https://localhost:8080/",
          "height": 173
        }
      },
      "cell_type": "code",
      "source": [
        "dataset[['Current Ver']].describe()"
      ],
      "execution_count": 17,
      "outputs": [
        {
          "output_type": "execute_result",
          "data": {
            "text/html": [
              "<div>\n",
              "<style scoped>\n",
              "    .dataframe tbody tr th:only-of-type {\n",
              "        vertical-align: middle;\n",
              "    }\n",
              "\n",
              "    .dataframe tbody tr th {\n",
              "        vertical-align: top;\n",
              "    }\n",
              "\n",
              "    .dataframe thead th {\n",
              "        text-align: right;\n",
              "    }\n",
              "</style>\n",
              "<table border=\"1\" class=\"dataframe\">\n",
              "  <thead>\n",
              "    <tr style=\"text-align: right;\">\n",
              "      <th></th>\n",
              "      <th>Current Ver</th>\n",
              "    </tr>\n",
              "  </thead>\n",
              "  <tbody>\n",
              "    <tr>\n",
              "      <th>count</th>\n",
              "      <td>9651</td>\n",
              "    </tr>\n",
              "    <tr>\n",
              "      <th>unique</th>\n",
              "      <td>2818</td>\n",
              "    </tr>\n",
              "    <tr>\n",
              "      <th>top</th>\n",
              "      <td>Varies with device</td>\n",
              "    </tr>\n",
              "    <tr>\n",
              "      <th>freq</th>\n",
              "      <td>1054</td>\n",
              "    </tr>\n",
              "  </tbody>\n",
              "</table>\n",
              "</div>"
            ],
            "text/plain": [
              "               Current Ver\n",
              "count                 9651\n",
              "unique                2818\n",
              "top     Varies with device\n",
              "freq                  1054"
            ]
          },
          "metadata": {
            "tags": []
          },
          "execution_count": 17
        }
      ]
    },
    {
      "metadata": {
        "id": "QSueq4-FLAGf",
        "colab_type": "code",
        "outputId": "6a130dce-4e3c-486e-b839-541b1d1d8bdd",
        "colab": {
          "base_uri": "https://localhost:8080/",
          "height": 173
        }
      },
      "cell_type": "code",
      "source": [
        "dataset[['Last Updated']].describe()"
      ],
      "execution_count": 18,
      "outputs": [
        {
          "output_type": "execute_result",
          "data": {
            "text/html": [
              "<div>\n",
              "<style scoped>\n",
              "    .dataframe tbody tr th:only-of-type {\n",
              "        vertical-align: middle;\n",
              "    }\n",
              "\n",
              "    .dataframe tbody tr th {\n",
              "        vertical-align: top;\n",
              "    }\n",
              "\n",
              "    .dataframe thead th {\n",
              "        text-align: right;\n",
              "    }\n",
              "</style>\n",
              "<table border=\"1\" class=\"dataframe\">\n",
              "  <thead>\n",
              "    <tr style=\"text-align: right;\">\n",
              "      <th></th>\n",
              "      <th>Last Updated</th>\n",
              "    </tr>\n",
              "  </thead>\n",
              "  <tbody>\n",
              "    <tr>\n",
              "      <th>count</th>\n",
              "      <td>9659</td>\n",
              "    </tr>\n",
              "    <tr>\n",
              "      <th>unique</th>\n",
              "      <td>1377</td>\n",
              "    </tr>\n",
              "    <tr>\n",
              "      <th>top</th>\n",
              "      <td>August 3, 2018</td>\n",
              "    </tr>\n",
              "    <tr>\n",
              "      <th>freq</th>\n",
              "      <td>252</td>\n",
              "    </tr>\n",
              "  </tbody>\n",
              "</table>\n",
              "</div>"
            ],
            "text/plain": [
              "          Last Updated\n",
              "count             9659\n",
              "unique            1377\n",
              "top     August 3, 2018\n",
              "freq               252"
            ]
          },
          "metadata": {
            "tags": []
          },
          "execution_count": 18
        }
      ]
    },
    {
      "metadata": {
        "id": "tMiVCwiNvw4o",
        "colab_type": "text"
      },
      "cell_type": "markdown",
      "source": [
        "Convertendo tipo da coluna 'Last Updated' para datetime"
      ]
    },
    {
      "metadata": {
        "id": "OlRAjcO6cptQ",
        "colab_type": "code",
        "colab": {}
      },
      "cell_type": "code",
      "source": [
        "dataset['Last Updated'] = pd.to_datetime(dataset['Last Updated'])"
      ],
      "execution_count": 0,
      "outputs": []
    },
    {
      "metadata": {
        "id": "5Jx5SnJ3cptY",
        "colab_type": "code",
        "outputId": "71ea65e1-2eb0-4a18-dbb7-1771c213fcaf",
        "colab": {
          "base_uri": "https://localhost:8080/",
          "height": 136
        }
      },
      "cell_type": "code",
      "source": [
        "dataset['Last Updated'].describe()"
      ],
      "execution_count": 20,
      "outputs": [
        {
          "output_type": "execute_result",
          "data": {
            "text/plain": [
              "count                    9659\n",
              "unique                   1377\n",
              "top       2018-08-03 00:00:00\n",
              "freq                      252\n",
              "first     2010-05-21 00:00:00\n",
              "last      2018-08-08 00:00:00\n",
              "Name: Last Updated, dtype: object"
            ]
          },
          "metadata": {
            "tags": []
          },
          "execution_count": 20
        }
      ]
    },
    {
      "metadata": {
        "id": "jbVV8jQiLH7f",
        "colab_type": "code",
        "outputId": "84a41760-60c0-4e7d-b48a-37bf8a882645",
        "colab": {
          "base_uri": "https://localhost:8080/",
          "height": 173
        }
      },
      "cell_type": "code",
      "source": [
        "dataset[['Android Ver']].describe()"
      ],
      "execution_count": 21,
      "outputs": [
        {
          "output_type": "execute_result",
          "data": {
            "text/html": [
              "<div>\n",
              "<style scoped>\n",
              "    .dataframe tbody tr th:only-of-type {\n",
              "        vertical-align: middle;\n",
              "    }\n",
              "\n",
              "    .dataframe tbody tr th {\n",
              "        vertical-align: top;\n",
              "    }\n",
              "\n",
              "    .dataframe thead th {\n",
              "        text-align: right;\n",
              "    }\n",
              "</style>\n",
              "<table border=\"1\" class=\"dataframe\">\n",
              "  <thead>\n",
              "    <tr style=\"text-align: right;\">\n",
              "      <th></th>\n",
              "      <th>Android Ver</th>\n",
              "    </tr>\n",
              "  </thead>\n",
              "  <tbody>\n",
              "    <tr>\n",
              "      <th>count</th>\n",
              "      <td>9657</td>\n",
              "    </tr>\n",
              "    <tr>\n",
              "      <th>unique</th>\n",
              "      <td>33</td>\n",
              "    </tr>\n",
              "    <tr>\n",
              "      <th>top</th>\n",
              "      <td>4.1 and up</td>\n",
              "    </tr>\n",
              "    <tr>\n",
              "      <th>freq</th>\n",
              "      <td>2206</td>\n",
              "    </tr>\n",
              "  </tbody>\n",
              "</table>\n",
              "</div>"
            ],
            "text/plain": [
              "       Android Ver\n",
              "count         9657\n",
              "unique          33\n",
              "top     4.1 and up\n",
              "freq          2206"
            ]
          },
          "metadata": {
            "tags": []
          },
          "execution_count": 21
        }
      ]
    },
    {
      "metadata": {
        "id": "eCAK1JAPLXSV",
        "colab_type": "code",
        "outputId": "734a4c6c-8a5d-45af-d2f2-38175b456567",
        "colab": {
          "base_uri": "https://localhost:8080/",
          "height": 102
        }
      },
      "cell_type": "code",
      "source": [
        "dataset.Category.describe()"
      ],
      "execution_count": 22,
      "outputs": [
        {
          "output_type": "execute_result",
          "data": {
            "text/plain": [
              "count       9659\n",
              "unique        33\n",
              "top       FAMILY\n",
              "freq        1906\n",
              "Name: Category, dtype: object"
            ]
          },
          "metadata": {
            "tags": []
          },
          "execution_count": 22
        }
      ]
    },
    {
      "metadata": {
        "id": "vlEtfiEtcpsv",
        "colab_type": "code",
        "outputId": "a3e3ebe4-19b2-4273-fad7-cde6784cbdd7",
        "colab": {
          "base_uri": "https://localhost:8080/",
          "height": 170
        }
      },
      "cell_type": "code",
      "source": [
        "dataset.Rating.describe()"
      ],
      "execution_count": 23,
      "outputs": [
        {
          "output_type": "execute_result",
          "data": {
            "text/plain": [
              "count    8196.000000\n",
              "mean        4.173219\n",
              "std         0.536269\n",
              "min         1.000000\n",
              "25%         4.000000\n",
              "50%         4.300000\n",
              "75%         4.500000\n",
              "max         5.000000\n",
              "Name: Rating, dtype: float64"
            ]
          },
          "metadata": {
            "tags": []
          },
          "execution_count": 23
        }
      ]
    },
    {
      "metadata": {
        "id": "HyQShIXEcpxb",
        "colab_type": "code",
        "outputId": "3fa28a2b-adda-4e43-fb8b-069baafe0283",
        "colab": {
          "base_uri": "https://localhost:8080/",
          "height": 102
        }
      },
      "cell_type": "code",
      "source": [
        "dataset.Size.describe()"
      ],
      "execution_count": 24,
      "outputs": [
        {
          "output_type": "execute_result",
          "data": {
            "text/plain": [
              "count                   9659\n",
              "unique                   461\n",
              "top       Varies with device\n",
              "freq                    1227\n",
              "Name: Size, dtype: object"
            ]
          },
          "metadata": {
            "tags": []
          },
          "execution_count": 24
        }
      ]
    },
    {
      "metadata": {
        "id": "N5Uyk7QDp51F",
        "colab_type": "code",
        "outputId": "a8b69bf8-6d72-4cd0-9452-f576e7d35206",
        "colab": {
          "base_uri": "https://localhost:8080/",
          "height": 102
        }
      },
      "cell_type": "code",
      "source": [
        "dataset.Installs.describe()"
      ],
      "execution_count": 25,
      "outputs": [
        {
          "output_type": "execute_result",
          "data": {
            "text/plain": [
              "count           9659\n",
              "unique            21\n",
              "top       1,000,000+\n",
              "freq            1419\n",
              "Name: Installs, dtype: object"
            ]
          },
          "metadata": {
            "tags": []
          },
          "execution_count": 25
        }
      ]
    },
    {
      "metadata": {
        "id": "GEsjRTj_cpt8",
        "colab_type": "code",
        "outputId": "f96baf96-4eef-45ae-af0e-f7d79379fbae",
        "colab": {
          "base_uri": "https://localhost:8080/",
          "height": 102
        }
      },
      "cell_type": "code",
      "source": [
        "dataset.Genres.describe()"
      ],
      "execution_count": 26,
      "outputs": [
        {
          "output_type": "execute_result",
          "data": {
            "text/plain": [
              "count      9659\n",
              "unique      118\n",
              "top       Tools\n",
              "freq        828\n",
              "Name: Genres, dtype: object"
            ]
          },
          "metadata": {
            "tags": []
          },
          "execution_count": 26
        }
      ]
    },
    {
      "metadata": {
        "id": "4-Ng2lKZDslJ",
        "colab_type": "text"
      },
      "cell_type": "markdown",
      "source": [
        "**Para ver quão parecidas são as colunas Category e Genres entre si, é criado um dataframe contendo somente as duas colunas e são feitas as devidas modificações nas colunas para serem comparadas**"
      ]
    },
    {
      "metadata": {
        "id": "bcXqDn3Icpxl",
        "colab_type": "code",
        "outputId": "8434f72f-7ea9-4be7-d089-93acce864d46",
        "colab": {
          "base_uri": "https://localhost:8080/",
          "height": 204
        }
      },
      "cell_type": "code",
      "source": [
        "copy_dataset = dataset[['Category','Genres']]\n",
        "copy_dataset.head()"
      ],
      "execution_count": 27,
      "outputs": [
        {
          "output_type": "execute_result",
          "data": {
            "text/html": [
              "<div>\n",
              "<style scoped>\n",
              "    .dataframe tbody tr th:only-of-type {\n",
              "        vertical-align: middle;\n",
              "    }\n",
              "\n",
              "    .dataframe tbody tr th {\n",
              "        vertical-align: top;\n",
              "    }\n",
              "\n",
              "    .dataframe thead th {\n",
              "        text-align: right;\n",
              "    }\n",
              "</style>\n",
              "<table border=\"1\" class=\"dataframe\">\n",
              "  <thead>\n",
              "    <tr style=\"text-align: right;\">\n",
              "      <th></th>\n",
              "      <th>Category</th>\n",
              "      <th>Genres</th>\n",
              "    </tr>\n",
              "  </thead>\n",
              "  <tbody>\n",
              "    <tr>\n",
              "      <th>0</th>\n",
              "      <td>ART_AND_DESIGN</td>\n",
              "      <td>Art &amp; Design</td>\n",
              "    </tr>\n",
              "    <tr>\n",
              "      <th>2</th>\n",
              "      <td>ART_AND_DESIGN</td>\n",
              "      <td>Art &amp; Design</td>\n",
              "    </tr>\n",
              "    <tr>\n",
              "      <th>3</th>\n",
              "      <td>ART_AND_DESIGN</td>\n",
              "      <td>Art &amp; Design</td>\n",
              "    </tr>\n",
              "    <tr>\n",
              "      <th>4</th>\n",
              "      <td>ART_AND_DESIGN</td>\n",
              "      <td>Art &amp; Design;Creativity</td>\n",
              "    </tr>\n",
              "    <tr>\n",
              "      <th>5</th>\n",
              "      <td>ART_AND_DESIGN</td>\n",
              "      <td>Art &amp; Design</td>\n",
              "    </tr>\n",
              "  </tbody>\n",
              "</table>\n",
              "</div>"
            ],
            "text/plain": [
              "         Category                   Genres\n",
              "0  ART_AND_DESIGN             Art & Design\n",
              "2  ART_AND_DESIGN             Art & Design\n",
              "3  ART_AND_DESIGN             Art & Design\n",
              "4  ART_AND_DESIGN  Art & Design;Creativity\n",
              "5  ART_AND_DESIGN             Art & Design"
            ]
          },
          "metadata": {
            "tags": []
          },
          "execution_count": 27
        }
      ]
    },
    {
      "metadata": {
        "id": "fpQ4wqIGcpxq",
        "colab_type": "code",
        "outputId": "01bcf1b5-bb6e-49f0-9cae-811d5991e874",
        "colab": {
          "base_uri": "https://localhost:8080/",
          "height": 408
        }
      },
      "cell_type": "code",
      "source": [
        "copy_dataset['Category'] = copy_dataset['Category'].apply(lambda x: x.lower())\n",
        "copy_dataset['Genres'] = copy_dataset['Genres'].apply(lambda x: x.lower())\n",
        "copy_dataset.head()"
      ],
      "execution_count": 28,
      "outputs": [
        {
          "output_type": "stream",
          "text": [
            "/usr/local/lib/python3.6/dist-packages/ipykernel_launcher.py:1: SettingWithCopyWarning: \n",
            "A value is trying to be set on a copy of a slice from a DataFrame.\n",
            "Try using .loc[row_indexer,col_indexer] = value instead\n",
            "\n",
            "See the caveats in the documentation: http://pandas.pydata.org/pandas-docs/stable/indexing.html#indexing-view-versus-copy\n",
            "  \"\"\"Entry point for launching an IPython kernel.\n",
            "/usr/local/lib/python3.6/dist-packages/ipykernel_launcher.py:2: SettingWithCopyWarning: \n",
            "A value is trying to be set on a copy of a slice from a DataFrame.\n",
            "Try using .loc[row_indexer,col_indexer] = value instead\n",
            "\n",
            "See the caveats in the documentation: http://pandas.pydata.org/pandas-docs/stable/indexing.html#indexing-view-versus-copy\n",
            "  \n"
          ],
          "name": "stderr"
        },
        {
          "output_type": "execute_result",
          "data": {
            "text/html": [
              "<div>\n",
              "<style scoped>\n",
              "    .dataframe tbody tr th:only-of-type {\n",
              "        vertical-align: middle;\n",
              "    }\n",
              "\n",
              "    .dataframe tbody tr th {\n",
              "        vertical-align: top;\n",
              "    }\n",
              "\n",
              "    .dataframe thead th {\n",
              "        text-align: right;\n",
              "    }\n",
              "</style>\n",
              "<table border=\"1\" class=\"dataframe\">\n",
              "  <thead>\n",
              "    <tr style=\"text-align: right;\">\n",
              "      <th></th>\n",
              "      <th>Category</th>\n",
              "      <th>Genres</th>\n",
              "    </tr>\n",
              "  </thead>\n",
              "  <tbody>\n",
              "    <tr>\n",
              "      <th>0</th>\n",
              "      <td>art_and_design</td>\n",
              "      <td>art &amp; design</td>\n",
              "    </tr>\n",
              "    <tr>\n",
              "      <th>2</th>\n",
              "      <td>art_and_design</td>\n",
              "      <td>art &amp; design</td>\n",
              "    </tr>\n",
              "    <tr>\n",
              "      <th>3</th>\n",
              "      <td>art_and_design</td>\n",
              "      <td>art &amp; design</td>\n",
              "    </tr>\n",
              "    <tr>\n",
              "      <th>4</th>\n",
              "      <td>art_and_design</td>\n",
              "      <td>art &amp; design;creativity</td>\n",
              "    </tr>\n",
              "    <tr>\n",
              "      <th>5</th>\n",
              "      <td>art_and_design</td>\n",
              "      <td>art &amp; design</td>\n",
              "    </tr>\n",
              "  </tbody>\n",
              "</table>\n",
              "</div>"
            ],
            "text/plain": [
              "         Category                   Genres\n",
              "0  art_and_design             art & design\n",
              "2  art_and_design             art & design\n",
              "3  art_and_design             art & design\n",
              "4  art_and_design  art & design;creativity\n",
              "5  art_and_design             art & design"
            ]
          },
          "metadata": {
            "tags": []
          },
          "execution_count": 28
        }
      ]
    },
    {
      "metadata": {
        "id": "P5aQwsCMcpyP",
        "colab_type": "code",
        "outputId": "d1ccfe8f-06e6-49c9-a1a1-e11b6fd1874f",
        "colab": {
          "base_uri": "https://localhost:8080/",
          "height": 119
        }
      },
      "cell_type": "code",
      "source": [
        "copy_dataset['Category'] = copy_dataset['Category'].apply(lambda x: x[:x.index('_')]+' & '+x[x.rindex('_')+1:] if x.find('_and_')>-1 else x)"
      ],
      "execution_count": 29,
      "outputs": [
        {
          "output_type": "stream",
          "text": [
            "/usr/local/lib/python3.6/dist-packages/ipykernel_launcher.py:1: SettingWithCopyWarning: \n",
            "A value is trying to be set on a copy of a slice from a DataFrame.\n",
            "Try using .loc[row_indexer,col_indexer] = value instead\n",
            "\n",
            "See the caveats in the documentation: http://pandas.pydata.org/pandas-docs/stable/indexing.html#indexing-view-versus-copy\n",
            "  \"\"\"Entry point for launching an IPython kernel.\n"
          ],
          "name": "stderr"
        }
      ]
    },
    {
      "metadata": {
        "id": "qIp-Jf_fcpyT",
        "colab_type": "code",
        "outputId": "4aebe2f0-07eb-4733-8322-2b966908a0a3",
        "colab": {
          "base_uri": "https://localhost:8080/",
          "height": 119
        }
      },
      "cell_type": "code",
      "source": [
        "copy_dataset['Category'].head()"
      ],
      "execution_count": 30,
      "outputs": [
        {
          "output_type": "execute_result",
          "data": {
            "text/plain": [
              "0    art & design\n",
              "2    art & design\n",
              "3    art & design\n",
              "4    art & design\n",
              "5    art & design\n",
              "Name: Category, dtype: object"
            ]
          },
          "metadata": {
            "tags": []
          },
          "execution_count": 30
        }
      ]
    },
    {
      "metadata": {
        "id": "6RPbuFZIcpyj",
        "colab_type": "code",
        "outputId": "30f966a4-3a72-4afe-ef92-c27a5f124c13",
        "colab": {
          "base_uri": "https://localhost:8080/",
          "height": 221
        }
      },
      "cell_type": "code",
      "source": [
        "copy_dataset['eql'] = copy_dataset.apply(lambda x: x[0] in x[1], axis=1)\n",
        "copy_dataset.eql.head()"
      ],
      "execution_count": 31,
      "outputs": [
        {
          "output_type": "stream",
          "text": [
            "/usr/local/lib/python3.6/dist-packages/ipykernel_launcher.py:1: SettingWithCopyWarning: \n",
            "A value is trying to be set on a copy of a slice from a DataFrame.\n",
            "Try using .loc[row_indexer,col_indexer] = value instead\n",
            "\n",
            "See the caveats in the documentation: http://pandas.pydata.org/pandas-docs/stable/indexing.html#indexing-view-versus-copy\n",
            "  \"\"\"Entry point for launching an IPython kernel.\n"
          ],
          "name": "stderr"
        },
        {
          "output_type": "execute_result",
          "data": {
            "text/plain": [
              "0    True\n",
              "2    True\n",
              "3    True\n",
              "4    True\n",
              "5    True\n",
              "Name: eql, dtype: bool"
            ]
          },
          "metadata": {
            "tags": []
          },
          "execution_count": 31
        }
      ]
    },
    {
      "metadata": {
        "id": "lAGRpBG0cpyv",
        "colab_type": "code",
        "outputId": "dc593e64-3312-49e8-e798-eb85285a2033",
        "colab": {
          "base_uri": "https://localhost:8080/",
          "height": 102
        }
      },
      "cell_type": "code",
      "source": [
        "copy_dataset.eql.describe()"
      ],
      "execution_count": 32,
      "outputs": [
        {
          "output_type": "execute_result",
          "data": {
            "text/plain": [
              "count     9659\n",
              "unique       2\n",
              "top       True\n",
              "freq      6664\n",
              "Name: eql, dtype: object"
            ]
          },
          "metadata": {
            "tags": []
          },
          "execution_count": 32
        }
      ]
    },
    {
      "metadata": {
        "id": "rC9nbrIqMs13",
        "colab_type": "text"
      },
      "cell_type": "markdown",
      "source": [
        "\n",
        "A coluna criada acima com valores booleanos indica se a coluna Category está contida (ou é igual) à coluna Genres. Em porcentagem, vê-se que quase 69% das entradas estão contidas, o que possibilita a remoção da coluna Genres para uma interpretação mais prática dos dados."
      ]
    },
    {
      "metadata": {
        "id": "utQlPjfkcpy5",
        "colab_type": "code",
        "outputId": "9e76faac-f43e-4280-eba8-bf39bee94be3",
        "colab": {
          "base_uri": "https://localhost:8080/",
          "height": 34
        }
      },
      "cell_type": "code",
      "source": [
        "print(6664*100/9659)"
      ],
      "execution_count": 33,
      "outputs": [
        {
          "output_type": "stream",
          "text": [
            "68.99264934258204\n"
          ],
          "name": "stdout"
        }
      ]
    },
    {
      "metadata": {
        "id": "9wixy5-ZL4Vu",
        "colab_type": "code",
        "outputId": "a4f2694d-e4d8-4997-bbf2-fa8eb10f9ece",
        "colab": {
          "base_uri": "https://localhost:8080/",
          "height": 272
        }
      },
      "cell_type": "code",
      "source": [
        "dataset = dataset.drop('Genres', axis = 1)\n",
        "dataset.head()"
      ],
      "execution_count": 34,
      "outputs": [
        {
          "output_type": "execute_result",
          "data": {
            "text/html": [
              "<div>\n",
              "<style scoped>\n",
              "    .dataframe tbody tr th:only-of-type {\n",
              "        vertical-align: middle;\n",
              "    }\n",
              "\n",
              "    .dataframe tbody tr th {\n",
              "        vertical-align: top;\n",
              "    }\n",
              "\n",
              "    .dataframe thead th {\n",
              "        text-align: right;\n",
              "    }\n",
              "</style>\n",
              "<table border=\"1\" class=\"dataframe\">\n",
              "  <thead>\n",
              "    <tr style=\"text-align: right;\">\n",
              "      <th></th>\n",
              "      <th>App</th>\n",
              "      <th>Category</th>\n",
              "      <th>Rating</th>\n",
              "      <th>Reviews</th>\n",
              "      <th>Size</th>\n",
              "      <th>Installs</th>\n",
              "      <th>Type</th>\n",
              "      <th>Price</th>\n",
              "      <th>Content Rating</th>\n",
              "      <th>Last Updated</th>\n",
              "      <th>Current Ver</th>\n",
              "      <th>Android Ver</th>\n",
              "    </tr>\n",
              "  </thead>\n",
              "  <tbody>\n",
              "    <tr>\n",
              "      <th>0</th>\n",
              "      <td>Photo Editor &amp; Candy Camera &amp; Grid &amp; ScrapBook</td>\n",
              "      <td>ART_AND_DESIGN</td>\n",
              "      <td>4.1</td>\n",
              "      <td>159</td>\n",
              "      <td>19M</td>\n",
              "      <td>10,000+</td>\n",
              "      <td>Free</td>\n",
              "      <td>0.0</td>\n",
              "      <td>Everyone</td>\n",
              "      <td>2018-01-07</td>\n",
              "      <td>1.0.0</td>\n",
              "      <td>4.0.3 and up</td>\n",
              "    </tr>\n",
              "    <tr>\n",
              "      <th>2</th>\n",
              "      <td>U Launcher Lite â FREE Live Cool Themes, Hid...</td>\n",
              "      <td>ART_AND_DESIGN</td>\n",
              "      <td>4.7</td>\n",
              "      <td>87510</td>\n",
              "      <td>8.7M</td>\n",
              "      <td>5,000,000+</td>\n",
              "      <td>Free</td>\n",
              "      <td>0.0</td>\n",
              "      <td>Everyone</td>\n",
              "      <td>2018-08-01</td>\n",
              "      <td>1.2.4</td>\n",
              "      <td>4.0.3 and up</td>\n",
              "    </tr>\n",
              "    <tr>\n",
              "      <th>3</th>\n",
              "      <td>Sketch - Draw &amp; Paint</td>\n",
              "      <td>ART_AND_DESIGN</td>\n",
              "      <td>4.5</td>\n",
              "      <td>215644</td>\n",
              "      <td>25M</td>\n",
              "      <td>50,000,000+</td>\n",
              "      <td>Free</td>\n",
              "      <td>0.0</td>\n",
              "      <td>Teen</td>\n",
              "      <td>2018-06-08</td>\n",
              "      <td>Varies with device</td>\n",
              "      <td>4.2 and up</td>\n",
              "    </tr>\n",
              "    <tr>\n",
              "      <th>4</th>\n",
              "      <td>Pixel Draw - Number Art Coloring Book</td>\n",
              "      <td>ART_AND_DESIGN</td>\n",
              "      <td>4.3</td>\n",
              "      <td>967</td>\n",
              "      <td>2.8M</td>\n",
              "      <td>100,000+</td>\n",
              "      <td>Free</td>\n",
              "      <td>0.0</td>\n",
              "      <td>Everyone</td>\n",
              "      <td>2018-06-20</td>\n",
              "      <td>1.1</td>\n",
              "      <td>4.4 and up</td>\n",
              "    </tr>\n",
              "    <tr>\n",
              "      <th>5</th>\n",
              "      <td>Paper flowers instructions</td>\n",
              "      <td>ART_AND_DESIGN</td>\n",
              "      <td>4.4</td>\n",
              "      <td>167</td>\n",
              "      <td>5.6M</td>\n",
              "      <td>50,000+</td>\n",
              "      <td>Free</td>\n",
              "      <td>0.0</td>\n",
              "      <td>Everyone</td>\n",
              "      <td>2017-03-26</td>\n",
              "      <td>1.0</td>\n",
              "      <td>2.3 and up</td>\n",
              "    </tr>\n",
              "  </tbody>\n",
              "</table>\n",
              "</div>"
            ],
            "text/plain": [
              "                                                 App        Category  Rating  \\\n",
              "0     Photo Editor & Candy Camera & Grid & ScrapBook  ART_AND_DESIGN     4.1   \n",
              "2  U Launcher Lite â FREE Live Cool Themes, Hid...  ART_AND_DESIGN     4.7   \n",
              "3                              Sketch - Draw & Paint  ART_AND_DESIGN     4.5   \n",
              "4              Pixel Draw - Number Art Coloring Book  ART_AND_DESIGN     4.3   \n",
              "5                         Paper flowers instructions  ART_AND_DESIGN     4.4   \n",
              "\n",
              "   Reviews  Size     Installs  Type  Price Content Rating Last Updated  \\\n",
              "0      159   19M      10,000+  Free    0.0       Everyone   2018-01-07   \n",
              "2    87510  8.7M   5,000,000+  Free    0.0       Everyone   2018-08-01   \n",
              "3   215644   25M  50,000,000+  Free    0.0           Teen   2018-06-08   \n",
              "4      967  2.8M     100,000+  Free    0.0       Everyone   2018-06-20   \n",
              "5      167  5.6M      50,000+  Free    0.0       Everyone   2017-03-26   \n",
              "\n",
              "          Current Ver   Android Ver  \n",
              "0               1.0.0  4.0.3 and up  \n",
              "2               1.2.4  4.0.3 and up  \n",
              "3  Varies with device    4.2 and up  \n",
              "4                 1.1    4.4 and up  \n",
              "5                 1.0    2.3 and up  "
            ]
          },
          "metadata": {
            "tags": []
          },
          "execution_count": 34
        }
      ]
    },
    {
      "metadata": {
        "id": "aP1SsEeOpHDy",
        "colab_type": "text"
      },
      "cell_type": "markdown",
      "source": [
        "**Verificando quais colunas possuem dados faltantes (NaN)**"
      ]
    },
    {
      "metadata": {
        "id": "zR7c2VIJcps7",
        "colab_type": "code",
        "outputId": "604c9efd-40da-4c4b-b296-4a91612a883b",
        "colab": {
          "base_uri": "https://localhost:8080/",
          "height": 34
        }
      },
      "cell_type": "code",
      "source": [
        "dataset.columns[dataset.isna().any()].tolist()"
      ],
      "execution_count": 35,
      "outputs": [
        {
          "output_type": "execute_result",
          "data": {
            "text/plain": [
              "['Rating', 'Type', 'Current Ver', 'Android Ver']"
            ]
          },
          "metadata": {
            "tags": []
          },
          "execution_count": 35
        }
      ]
    },
    {
      "metadata": {
        "id": "lNeP1r_ycptH",
        "colab_type": "code",
        "outputId": "1c5d2113-ba4b-40de-a861-e223ee40009e",
        "colab": {
          "base_uri": "https://localhost:8080/",
          "height": 114
        }
      },
      "cell_type": "code",
      "source": [
        "dataset[dataset['Type'].isna()]"
      ],
      "execution_count": 36,
      "outputs": [
        {
          "output_type": "execute_result",
          "data": {
            "text/html": [
              "<div>\n",
              "<style scoped>\n",
              "    .dataframe tbody tr th:only-of-type {\n",
              "        vertical-align: middle;\n",
              "    }\n",
              "\n",
              "    .dataframe tbody tr th {\n",
              "        vertical-align: top;\n",
              "    }\n",
              "\n",
              "    .dataframe thead th {\n",
              "        text-align: right;\n",
              "    }\n",
              "</style>\n",
              "<table border=\"1\" class=\"dataframe\">\n",
              "  <thead>\n",
              "    <tr style=\"text-align: right;\">\n",
              "      <th></th>\n",
              "      <th>App</th>\n",
              "      <th>Category</th>\n",
              "      <th>Rating</th>\n",
              "      <th>Reviews</th>\n",
              "      <th>Size</th>\n",
              "      <th>Installs</th>\n",
              "      <th>Type</th>\n",
              "      <th>Price</th>\n",
              "      <th>Content Rating</th>\n",
              "      <th>Last Updated</th>\n",
              "      <th>Current Ver</th>\n",
              "      <th>Android Ver</th>\n",
              "    </tr>\n",
              "  </thead>\n",
              "  <tbody>\n",
              "    <tr>\n",
              "      <th>9148</th>\n",
              "      <td>Command &amp; Conquer: Rivals</td>\n",
              "      <td>FAMILY</td>\n",
              "      <td>NaN</td>\n",
              "      <td>0</td>\n",
              "      <td>Varies with device</td>\n",
              "      <td>0</td>\n",
              "      <td>NaN</td>\n",
              "      <td>0.0</td>\n",
              "      <td>Everyone 10+</td>\n",
              "      <td>2018-06-28</td>\n",
              "      <td>Varies with device</td>\n",
              "      <td>Varies with device</td>\n",
              "    </tr>\n",
              "  </tbody>\n",
              "</table>\n",
              "</div>"
            ],
            "text/plain": [
              "                            App Category  Rating  Reviews                Size  \\\n",
              "9148  Command & Conquer: Rivals   FAMILY     NaN        0  Varies with device   \n",
              "\n",
              "     Installs Type  Price Content Rating Last Updated         Current Ver  \\\n",
              "9148        0  NaN    0.0   Everyone 10+   2018-06-28  Varies with device   \n",
              "\n",
              "             Android Ver  \n",
              "9148  Varies with device  "
            ]
          },
          "metadata": {
            "tags": []
          },
          "execution_count": 36
        }
      ]
    },
    {
      "metadata": {
        "id": "bO5OeC8Scptn",
        "colab_type": "code",
        "outputId": "7cad9157-90b8-4783-f0b3-a92c8894b196",
        "colab": {
          "base_uri": "https://localhost:8080/",
          "height": 102
        }
      },
      "cell_type": "code",
      "source": [
        "#visto que há somente 1 ocorrência de Type como NaN, faz-se a alteração sabendo pelo print acima que Price=0\n",
        "dataset['Type'] = dataset['Type'].apply(lambda x: 'Free' if (x!='Free' and x!='Paid') else x)\n",
        "dataset.Type.describe()"
      ],
      "execution_count": 37,
      "outputs": [
        {
          "output_type": "execute_result",
          "data": {
            "text/plain": [
              "count     9659\n",
              "unique       2\n",
              "top       Free\n",
              "freq      8905\n",
              "Name: Type, dtype: object"
            ]
          },
          "metadata": {
            "tags": []
          },
          "execution_count": 37
        }
      ]
    },
    {
      "metadata": {
        "id": "0hyajAOxcpuI",
        "colab_type": "code",
        "outputId": "6c772e13-d209-42ca-96c1-8630ecea800a",
        "colab": {
          "base_uri": "https://localhost:8080/",
          "height": 3006
        }
      },
      "cell_type": "code",
      "source": [
        "dataset[dataset['Rating'].isna()]"
      ],
      "execution_count": 38,
      "outputs": [
        {
          "output_type": "execute_result",
          "data": {
            "text/html": [
              "<div>\n",
              "<style scoped>\n",
              "    .dataframe tbody tr th:only-of-type {\n",
              "        vertical-align: middle;\n",
              "    }\n",
              "\n",
              "    .dataframe tbody tr th {\n",
              "        vertical-align: top;\n",
              "    }\n",
              "\n",
              "    .dataframe thead th {\n",
              "        text-align: right;\n",
              "    }\n",
              "</style>\n",
              "<table border=\"1\" class=\"dataframe\">\n",
              "  <thead>\n",
              "    <tr style=\"text-align: right;\">\n",
              "      <th></th>\n",
              "      <th>App</th>\n",
              "      <th>Category</th>\n",
              "      <th>Rating</th>\n",
              "      <th>Reviews</th>\n",
              "      <th>Size</th>\n",
              "      <th>Installs</th>\n",
              "      <th>Type</th>\n",
              "      <th>Price</th>\n",
              "      <th>Content Rating</th>\n",
              "      <th>Last Updated</th>\n",
              "      <th>Current Ver</th>\n",
              "      <th>Android Ver</th>\n",
              "    </tr>\n",
              "  </thead>\n",
              "  <tbody>\n",
              "    <tr>\n",
              "      <th>113</th>\n",
              "      <td>Wrinkles and rejuvenation</td>\n",
              "      <td>BEAUTY</td>\n",
              "      <td>NaN</td>\n",
              "      <td>182</td>\n",
              "      <td>5.7M</td>\n",
              "      <td>100,000+</td>\n",
              "      <td>Free</td>\n",
              "      <td>0.00</td>\n",
              "      <td>Everyone 10+</td>\n",
              "      <td>2017-09-20</td>\n",
              "      <td>8.0</td>\n",
              "      <td>3.0 and up</td>\n",
              "    </tr>\n",
              "    <tr>\n",
              "      <th>123</th>\n",
              "      <td>Manicure - nail design</td>\n",
              "      <td>BEAUTY</td>\n",
              "      <td>NaN</td>\n",
              "      <td>119</td>\n",
              "      <td>3.7M</td>\n",
              "      <td>50,000+</td>\n",
              "      <td>Free</td>\n",
              "      <td>0.00</td>\n",
              "      <td>Everyone</td>\n",
              "      <td>2018-07-23</td>\n",
              "      <td>1.3</td>\n",
              "      <td>4.1 and up</td>\n",
              "    </tr>\n",
              "    <tr>\n",
              "      <th>126</th>\n",
              "      <td>Skin Care and Natural Beauty</td>\n",
              "      <td>BEAUTY</td>\n",
              "      <td>NaN</td>\n",
              "      <td>654</td>\n",
              "      <td>7.4M</td>\n",
              "      <td>100,000+</td>\n",
              "      <td>Free</td>\n",
              "      <td>0.00</td>\n",
              "      <td>Teen</td>\n",
              "      <td>2018-07-17</td>\n",
              "      <td>1.15</td>\n",
              "      <td>4.1 and up</td>\n",
              "    </tr>\n",
              "    <tr>\n",
              "      <th>129</th>\n",
              "      <td>Secrets of beauty, youth and health</td>\n",
              "      <td>BEAUTY</td>\n",
              "      <td>NaN</td>\n",
              "      <td>77</td>\n",
              "      <td>2.9M</td>\n",
              "      <td>10,000+</td>\n",
              "      <td>Free</td>\n",
              "      <td>0.00</td>\n",
              "      <td>Mature 17+</td>\n",
              "      <td>2017-08-08</td>\n",
              "      <td>2.0</td>\n",
              "      <td>2.3 and up</td>\n",
              "    </tr>\n",
              "    <tr>\n",
              "      <th>130</th>\n",
              "      <td>Recipes and tips for losing weight</td>\n",
              "      <td>BEAUTY</td>\n",
              "      <td>NaN</td>\n",
              "      <td>35</td>\n",
              "      <td>3.1M</td>\n",
              "      <td>10,000+</td>\n",
              "      <td>Free</td>\n",
              "      <td>0.00</td>\n",
              "      <td>Everyone 10+</td>\n",
              "      <td>2017-12-11</td>\n",
              "      <td>2.0</td>\n",
              "      <td>3.0 and up</td>\n",
              "    </tr>\n",
              "    <tr>\n",
              "      <th>134</th>\n",
              "      <td>Lady adviser (beauty, health)</td>\n",
              "      <td>BEAUTY</td>\n",
              "      <td>NaN</td>\n",
              "      <td>30</td>\n",
              "      <td>9.9M</td>\n",
              "      <td>10,000+</td>\n",
              "      <td>Free</td>\n",
              "      <td>0.00</td>\n",
              "      <td>Mature 17+</td>\n",
              "      <td>2018-01-24</td>\n",
              "      <td>3.0</td>\n",
              "      <td>3.0 and up</td>\n",
              "    </tr>\n",
              "    <tr>\n",
              "      <th>163</th>\n",
              "      <td>Anonymous caller detection</td>\n",
              "      <td>BOOKS_AND_REFERENCE</td>\n",
              "      <td>NaN</td>\n",
              "      <td>161</td>\n",
              "      <td>2.7M</td>\n",
              "      <td>10,000+</td>\n",
              "      <td>Free</td>\n",
              "      <td>0.00</td>\n",
              "      <td>Everyone</td>\n",
              "      <td>2018-07-13</td>\n",
              "      <td>1.0</td>\n",
              "      <td>2.3 and up</td>\n",
              "    </tr>\n",
              "    <tr>\n",
              "      <th>180</th>\n",
              "      <td>SH-02J Owner's Manual (Android 8.0)</td>\n",
              "      <td>BOOKS_AND_REFERENCE</td>\n",
              "      <td>NaN</td>\n",
              "      <td>2</td>\n",
              "      <td>7.2M</td>\n",
              "      <td>50,000+</td>\n",
              "      <td>Free</td>\n",
              "      <td>0.00</td>\n",
              "      <td>Everyone</td>\n",
              "      <td>2018-06-15</td>\n",
              "      <td>3.0</td>\n",
              "      <td>6.0 and up</td>\n",
              "    </tr>\n",
              "    <tr>\n",
              "      <th>185</th>\n",
              "      <td>URBANO V 02 instruction manual</td>\n",
              "      <td>BOOKS_AND_REFERENCE</td>\n",
              "      <td>NaN</td>\n",
              "      <td>114</td>\n",
              "      <td>7.3M</td>\n",
              "      <td>100,000+</td>\n",
              "      <td>Free</td>\n",
              "      <td>0.00</td>\n",
              "      <td>Everyone</td>\n",
              "      <td>2015-08-07</td>\n",
              "      <td>1.1</td>\n",
              "      <td>5.1 and up</td>\n",
              "    </tr>\n",
              "    <tr>\n",
              "      <th>227</th>\n",
              "      <td>Y! Mobile menu</td>\n",
              "      <td>BUSINESS</td>\n",
              "      <td>NaN</td>\n",
              "      <td>9</td>\n",
              "      <td>1.2M</td>\n",
              "      <td>100,000+</td>\n",
              "      <td>Free</td>\n",
              "      <td>0.00</td>\n",
              "      <td>Everyone</td>\n",
              "      <td>2018-04-09</td>\n",
              "      <td>1.0.5</td>\n",
              "      <td>6.0 and up</td>\n",
              "    </tr>\n",
              "    <tr>\n",
              "      <th>321</th>\n",
              "      <td>ãRanobbe complete freeã Novelba - Free app...</td>\n",
              "      <td>COMICS</td>\n",
              "      <td>NaN</td>\n",
              "      <td>1330</td>\n",
              "      <td>22M</td>\n",
              "      <td>50,000+</td>\n",
              "      <td>Free</td>\n",
              "      <td>0.00</td>\n",
              "      <td>Everyone</td>\n",
              "      <td>2018-07-03</td>\n",
              "      <td>6.1.1</td>\n",
              "      <td>4.2 and up</td>\n",
              "    </tr>\n",
              "    <tr>\n",
              "      <th>478</th>\n",
              "      <td>Truth or Dare Pro</td>\n",
              "      <td>DATING</td>\n",
              "      <td>NaN</td>\n",
              "      <td>0</td>\n",
              "      <td>20M</td>\n",
              "      <td>50+</td>\n",
              "      <td>Paid</td>\n",
              "      <td>1.49</td>\n",
              "      <td>Teen</td>\n",
              "      <td>2017-09-01</td>\n",
              "      <td>1.0</td>\n",
              "      <td>4.0 and up</td>\n",
              "    </tr>\n",
              "    <tr>\n",
              "      <th>479</th>\n",
              "      <td>Private Dating, Hide App- Blue for PrivacyHider</td>\n",
              "      <td>DATING</td>\n",
              "      <td>NaN</td>\n",
              "      <td>0</td>\n",
              "      <td>18k</td>\n",
              "      <td>100+</td>\n",
              "      <td>Paid</td>\n",
              "      <td>2.99</td>\n",
              "      <td>Everyone</td>\n",
              "      <td>2017-07-25</td>\n",
              "      <td>1.0.1</td>\n",
              "      <td>4.0 and up</td>\n",
              "    </tr>\n",
              "    <tr>\n",
              "      <th>480</th>\n",
              "      <td>Ad Blocker for SayHi</td>\n",
              "      <td>DATING</td>\n",
              "      <td>NaN</td>\n",
              "      <td>4</td>\n",
              "      <td>1.2M</td>\n",
              "      <td>100+</td>\n",
              "      <td>Paid</td>\n",
              "      <td>3.99</td>\n",
              "      <td>Teen</td>\n",
              "      <td>2018-08-02</td>\n",
              "      <td>1.2</td>\n",
              "      <td>4.0.3 and up</td>\n",
              "    </tr>\n",
              "    <tr>\n",
              "      <th>617</th>\n",
              "      <td>Meet With Strangers: Video Chat &amp; Dating</td>\n",
              "      <td>DATING</td>\n",
              "      <td>NaN</td>\n",
              "      <td>2</td>\n",
              "      <td>3.7M</td>\n",
              "      <td>500+</td>\n",
              "      <td>Free</td>\n",
              "      <td>0.00</td>\n",
              "      <td>Mature 17+</td>\n",
              "      <td>2018-07-16</td>\n",
              "      <td>1.</td>\n",
              "      <td>4.0 and up</td>\n",
              "    </tr>\n",
              "    <tr>\n",
              "      <th>620</th>\n",
              "      <td>Ost. Zombies Cast - New Music and Lyrics</td>\n",
              "      <td>DATING</td>\n",
              "      <td>NaN</td>\n",
              "      <td>1</td>\n",
              "      <td>4.6M</td>\n",
              "      <td>100+</td>\n",
              "      <td>Free</td>\n",
              "      <td>0.00</td>\n",
              "      <td>Teen</td>\n",
              "      <td>2018-07-20</td>\n",
              "      <td>1.0</td>\n",
              "      <td>4.0.3 and up</td>\n",
              "    </tr>\n",
              "    <tr>\n",
              "      <th>621</th>\n",
              "      <td>Dating White Girls</td>\n",
              "      <td>DATING</td>\n",
              "      <td>NaN</td>\n",
              "      <td>0</td>\n",
              "      <td>3.6M</td>\n",
              "      <td>50+</td>\n",
              "      <td>Free</td>\n",
              "      <td>0.00</td>\n",
              "      <td>Mature 17+</td>\n",
              "      <td>2018-07-20</td>\n",
              "      <td>1.0</td>\n",
              "      <td>4.0 and up</td>\n",
              "    </tr>\n",
              "    <tr>\n",
              "      <th>623</th>\n",
              "      <td>Geeks Dating</td>\n",
              "      <td>DATING</td>\n",
              "      <td>NaN</td>\n",
              "      <td>0</td>\n",
              "      <td>13M</td>\n",
              "      <td>50+</td>\n",
              "      <td>Free</td>\n",
              "      <td>0.00</td>\n",
              "      <td>Mature 17+</td>\n",
              "      <td>2018-07-10</td>\n",
              "      <td>1.0</td>\n",
              "      <td>4.1 and up</td>\n",
              "    </tr>\n",
              "    <tr>\n",
              "      <th>624</th>\n",
              "      <td>Live chat - free video chat</td>\n",
              "      <td>DATING</td>\n",
              "      <td>NaN</td>\n",
              "      <td>1</td>\n",
              "      <td>8.7M</td>\n",
              "      <td>500+</td>\n",
              "      <td>Free</td>\n",
              "      <td>0.00</td>\n",
              "      <td>Mature 17+</td>\n",
              "      <td>2018-07-23</td>\n",
              "      <td>3.52</td>\n",
              "      <td>4.0.3 and up</td>\n",
              "    </tr>\n",
              "    <tr>\n",
              "      <th>626</th>\n",
              "      <td>Fishing Brain &amp; Boating Maps Marine</td>\n",
              "      <td>DATING</td>\n",
              "      <td>NaN</td>\n",
              "      <td>3</td>\n",
              "      <td>6.9M</td>\n",
              "      <td>500+</td>\n",
              "      <td>Free</td>\n",
              "      <td>0.00</td>\n",
              "      <td>Everyone</td>\n",
              "      <td>2018-07-23</td>\n",
              "      <td>1.0</td>\n",
              "      <td>4.0.3 and up</td>\n",
              "    </tr>\n",
              "    <tr>\n",
              "      <th>627</th>\n",
              "      <td>CAM5678 Video Chat</td>\n",
              "      <td>DATING</td>\n",
              "      <td>NaN</td>\n",
              "      <td>0</td>\n",
              "      <td>39M</td>\n",
              "      <td>500+</td>\n",
              "      <td>Free</td>\n",
              "      <td>0.00</td>\n",
              "      <td>Mature 17+</td>\n",
              "      <td>2018-07-13</td>\n",
              "      <td>5.5.8</td>\n",
              "      <td>4.0.3 and up</td>\n",
              "    </tr>\n",
              "    <tr>\n",
              "      <th>628</th>\n",
              "      <td>Video chat live advices</td>\n",
              "      <td>DATING</td>\n",
              "      <td>NaN</td>\n",
              "      <td>0</td>\n",
              "      <td>8.0M</td>\n",
              "      <td>100+</td>\n",
              "      <td>Free</td>\n",
              "      <td>0.00</td>\n",
              "      <td>Everyone</td>\n",
              "      <td>2018-07-10</td>\n",
              "      <td>1.0</td>\n",
              "      <td>3.0 and up</td>\n",
              "    </tr>\n",
              "    <tr>\n",
              "      <th>629</th>\n",
              "      <td>chat live chat</td>\n",
              "      <td>DATING</td>\n",
              "      <td>NaN</td>\n",
              "      <td>24</td>\n",
              "      <td>3.9M</td>\n",
              "      <td>1,000+</td>\n",
              "      <td>Free</td>\n",
              "      <td>0.00</td>\n",
              "      <td>Mature 17+</td>\n",
              "      <td>2018-07-26</td>\n",
              "      <td>1.0</td>\n",
              "      <td>4.0 and up</td>\n",
              "    </tr>\n",
              "    <tr>\n",
              "      <th>630</th>\n",
              "      <td>Pet Lovers Dating</td>\n",
              "      <td>DATING</td>\n",
              "      <td>NaN</td>\n",
              "      <td>0</td>\n",
              "      <td>14M</td>\n",
              "      <td>10+</td>\n",
              "      <td>Free</td>\n",
              "      <td>0.00</td>\n",
              "      <td>Mature 17+</td>\n",
              "      <td>2018-07-09</td>\n",
              "      <td>1.0</td>\n",
              "      <td>4.1 and up</td>\n",
              "    </tr>\n",
              "    <tr>\n",
              "      <th>631</th>\n",
              "      <td>Friend Find: free chat + flirt dating app</td>\n",
              "      <td>DATING</td>\n",
              "      <td>NaN</td>\n",
              "      <td>23</td>\n",
              "      <td>11M</td>\n",
              "      <td>100+</td>\n",
              "      <td>Free</td>\n",
              "      <td>0.00</td>\n",
              "      <td>Mature 17+</td>\n",
              "      <td>2018-07-31</td>\n",
              "      <td>1.0</td>\n",
              "      <td>4.4 and up</td>\n",
              "    </tr>\n",
              "    <tr>\n",
              "      <th>632</th>\n",
              "      <td>Latin Dating</td>\n",
              "      <td>DATING</td>\n",
              "      <td>NaN</td>\n",
              "      <td>0</td>\n",
              "      <td>13M</td>\n",
              "      <td>10+</td>\n",
              "      <td>Free</td>\n",
              "      <td>0.00</td>\n",
              "      <td>Mature 17+</td>\n",
              "      <td>2018-07-09</td>\n",
              "      <td>1.0</td>\n",
              "      <td>4.1 and up</td>\n",
              "    </tr>\n",
              "    <tr>\n",
              "      <th>635</th>\n",
              "      <td>Wifi Mingle</td>\n",
              "      <td>DATING</td>\n",
              "      <td>NaN</td>\n",
              "      <td>0</td>\n",
              "      <td>10.0M</td>\n",
              "      <td>10+</td>\n",
              "      <td>Free</td>\n",
              "      <td>0.00</td>\n",
              "      <td>Everyone</td>\n",
              "      <td>2018-07-27</td>\n",
              "      <td>1.3</td>\n",
              "      <td>4.4 and up</td>\n",
              "    </tr>\n",
              "    <tr>\n",
              "      <th>637</th>\n",
              "      <td>Soy Luna - Top Music And Lyrics</td>\n",
              "      <td>DATING</td>\n",
              "      <td>NaN</td>\n",
              "      <td>1</td>\n",
              "      <td>5.0M</td>\n",
              "      <td>100+</td>\n",
              "      <td>Free</td>\n",
              "      <td>0.00</td>\n",
              "      <td>Teen</td>\n",
              "      <td>2018-07-24</td>\n",
              "      <td>1.0</td>\n",
              "      <td>4.0.3 and up</td>\n",
              "    </tr>\n",
              "    <tr>\n",
              "      <th>638</th>\n",
              "      <td>When Will You Get Married</td>\n",
              "      <td>DATING</td>\n",
              "      <td>NaN</td>\n",
              "      <td>2</td>\n",
              "      <td>3.6M</td>\n",
              "      <td>10+</td>\n",
              "      <td>Free</td>\n",
              "      <td>0.00</td>\n",
              "      <td>Everyone</td>\n",
              "      <td>2018-07-14</td>\n",
              "      <td>1.0</td>\n",
              "      <td>4.0.3 and up</td>\n",
              "    </tr>\n",
              "    <tr>\n",
              "      <th>639</th>\n",
              "      <td>HOW TO ASK A GIRL OUT</td>\n",
              "      <td>DATING</td>\n",
              "      <td>NaN</td>\n",
              "      <td>0</td>\n",
              "      <td>19M</td>\n",
              "      <td>10+</td>\n",
              "      <td>Free</td>\n",
              "      <td>0.00</td>\n",
              "      <td>Everyone</td>\n",
              "      <td>2018-07-16</td>\n",
              "      <td>1.0</td>\n",
              "      <td>4.0.3 and up</td>\n",
              "    </tr>\n",
              "    <tr>\n",
              "      <th>...</th>\n",
              "      <td>...</td>\n",
              "      <td>...</td>\n",
              "      <td>...</td>\n",
              "      <td>...</td>\n",
              "      <td>...</td>\n",
              "      <td>...</td>\n",
              "      <td>...</td>\n",
              "      <td>...</td>\n",
              "      <td>...</td>\n",
              "      <td>...</td>\n",
              "      <td>...</td>\n",
              "      <td>...</td>\n",
              "    </tr>\n",
              "    <tr>\n",
              "      <th>10746</th>\n",
              "      <td>FP Opgaver</td>\n",
              "      <td>TOOLS</td>\n",
              "      <td>NaN</td>\n",
              "      <td>9</td>\n",
              "      <td>61M</td>\n",
              "      <td>1,000+</td>\n",
              "      <td>Free</td>\n",
              "      <td>0.00</td>\n",
              "      <td>Everyone</td>\n",
              "      <td>2018-05-31</td>\n",
              "      <td>1.9</td>\n",
              "      <td>4.0.3 and up</td>\n",
              "    </tr>\n",
              "    <tr>\n",
              "      <th>10748</th>\n",
              "      <td>FP Live</td>\n",
              "      <td>COMMUNICATION</td>\n",
              "      <td>NaN</td>\n",
              "      <td>0</td>\n",
              "      <td>3.3M</td>\n",
              "      <td>10+</td>\n",
              "      <td>Free</td>\n",
              "      <td>0.00</td>\n",
              "      <td>Teen</td>\n",
              "      <td>2017-11-03</td>\n",
              "      <td>1.2.4</td>\n",
              "      <td>4.2 and up</td>\n",
              "    </tr>\n",
              "    <tr>\n",
              "      <th>10751</th>\n",
              "      <td>FP Market</td>\n",
              "      <td>FAMILY</td>\n",
              "      <td>NaN</td>\n",
              "      <td>24</td>\n",
              "      <td>44k</td>\n",
              "      <td>1,000+</td>\n",
              "      <td>Free</td>\n",
              "      <td>0.00</td>\n",
              "      <td>Everyone</td>\n",
              "      <td>2012-06-17</td>\n",
              "      <td>1.0</td>\n",
              "      <td>1.6 and up</td>\n",
              "    </tr>\n",
              "    <tr>\n",
              "      <th>10759</th>\n",
              "      <td>FP NFC Rewrite</td>\n",
              "      <td>TOOLS</td>\n",
              "      <td>NaN</td>\n",
              "      <td>17</td>\n",
              "      <td>67k</td>\n",
              "      <td>1,000+</td>\n",
              "      <td>Free</td>\n",
              "      <td>0.00</td>\n",
              "      <td>Everyone</td>\n",
              "      <td>2016-01-29</td>\n",
              "      <td>1.1</td>\n",
              "      <td>4.0 and up</td>\n",
              "    </tr>\n",
              "    <tr>\n",
              "      <th>10761</th>\n",
              "      <td>Greek Bible FP (Audio)</td>\n",
              "      <td>BOOKS_AND_REFERENCE</td>\n",
              "      <td>NaN</td>\n",
              "      <td>5</td>\n",
              "      <td>8.0M</td>\n",
              "      <td>1,000+</td>\n",
              "      <td>Free</td>\n",
              "      <td>0.00</td>\n",
              "      <td>Everyone</td>\n",
              "      <td>2016-08-29</td>\n",
              "      <td>1.0.0</td>\n",
              "      <td>4.0.3 and up</td>\n",
              "    </tr>\n",
              "    <tr>\n",
              "      <th>10762</th>\n",
              "      <td>The FP Shield</td>\n",
              "      <td>NEWS_AND_MAGAZINES</td>\n",
              "      <td>NaN</td>\n",
              "      <td>0</td>\n",
              "      <td>11M</td>\n",
              "      <td>10+</td>\n",
              "      <td>Free</td>\n",
              "      <td>0.00</td>\n",
              "      <td>Everyone</td>\n",
              "      <td>2018-02-01</td>\n",
              "      <td>1.1.0</td>\n",
              "      <td>4.4 and up</td>\n",
              "    </tr>\n",
              "    <tr>\n",
              "      <th>10764</th>\n",
              "      <td>FP Transportation</td>\n",
              "      <td>AUTO_AND_VEHICLES</td>\n",
              "      <td>NaN</td>\n",
              "      <td>1</td>\n",
              "      <td>885k</td>\n",
              "      <td>1+</td>\n",
              "      <td>Free</td>\n",
              "      <td>0.00</td>\n",
              "      <td>Everyone</td>\n",
              "      <td>2018-03-09</td>\n",
              "      <td>10.0.0</td>\n",
              "      <td>4.0 and up</td>\n",
              "    </tr>\n",
              "    <tr>\n",
              "      <th>10769</th>\n",
              "      <td>FQ Magazine</td>\n",
              "      <td>LIFESTYLE</td>\n",
              "      <td>NaN</td>\n",
              "      <td>1</td>\n",
              "      <td>12M</td>\n",
              "      <td>100+</td>\n",
              "      <td>Free</td>\n",
              "      <td>0.00</td>\n",
              "      <td>Everyone</td>\n",
              "      <td>2016-12-12</td>\n",
              "      <td>1.0</td>\n",
              "      <td>4.1 and up</td>\n",
              "    </tr>\n",
              "    <tr>\n",
              "      <th>10772</th>\n",
              "      <td>FQ Load Board for Transporters</td>\n",
              "      <td>BUSINESS</td>\n",
              "      <td>NaN</td>\n",
              "      <td>0</td>\n",
              "      <td>3.9M</td>\n",
              "      <td>100+</td>\n",
              "      <td>Free</td>\n",
              "      <td>0.00</td>\n",
              "      <td>Everyone</td>\n",
              "      <td>2018-02-16</td>\n",
              "      <td>1.1.3</td>\n",
              "      <td>5.0 and up</td>\n",
              "    </tr>\n",
              "    <tr>\n",
              "      <th>10773</th>\n",
              "      <td>FQ India</td>\n",
              "      <td>LIFESTYLE</td>\n",
              "      <td>NaN</td>\n",
              "      <td>0</td>\n",
              "      <td>8.9M</td>\n",
              "      <td>10+</td>\n",
              "      <td>Free</td>\n",
              "      <td>0.00</td>\n",
              "      <td>Everyone</td>\n",
              "      <td>2018-07-31</td>\n",
              "      <td>7.2.2</td>\n",
              "      <td>4.1 and up</td>\n",
              "    </tr>\n",
              "    <tr>\n",
              "      <th>10774</th>\n",
              "      <td>Miss FQ</td>\n",
              "      <td>NEWS_AND_MAGAZINES</td>\n",
              "      <td>NaN</td>\n",
              "      <td>0</td>\n",
              "      <td>36M</td>\n",
              "      <td>10+</td>\n",
              "      <td>Free</td>\n",
              "      <td>0.00</td>\n",
              "      <td>Everyone</td>\n",
              "      <td>2018-04-05</td>\n",
              "      <td>3.8</td>\n",
              "      <td>4.4 and up</td>\n",
              "    </tr>\n",
              "    <tr>\n",
              "      <th>10775</th>\n",
              "      <td>FQ - Football Quiz</td>\n",
              "      <td>SPORTS</td>\n",
              "      <td>NaN</td>\n",
              "      <td>1</td>\n",
              "      <td>9.0M</td>\n",
              "      <td>1+</td>\n",
              "      <td>Free</td>\n",
              "      <td>0.00</td>\n",
              "      <td>Everyone</td>\n",
              "      <td>2018-05-29</td>\n",
              "      <td>1.0</td>\n",
              "      <td>5.0 and up</td>\n",
              "    </tr>\n",
              "    <tr>\n",
              "      <th>10788</th>\n",
              "      <td>Fountain Live Wallpaper HD â Dubai Wallpaper 3D</td>\n",
              "      <td>PERSONALIZATION</td>\n",
              "      <td>NaN</td>\n",
              "      <td>1</td>\n",
              "      <td>20M</td>\n",
              "      <td>500+</td>\n",
              "      <td>Free</td>\n",
              "      <td>0.00</td>\n",
              "      <td>Everyone</td>\n",
              "      <td>2018-04-13</td>\n",
              "      <td>1.0</td>\n",
              "      <td>4.1 and up</td>\n",
              "    </tr>\n",
              "    <tr>\n",
              "      <th>10794</th>\n",
              "      <td>PopStar</td>\n",
              "      <td>FAMILY</td>\n",
              "      <td>NaN</td>\n",
              "      <td>13</td>\n",
              "      <td>5.7M</td>\n",
              "      <td>1,000+</td>\n",
              "      <td>Free</td>\n",
              "      <td>0.00</td>\n",
              "      <td>Everyone</td>\n",
              "      <td>2018-01-03</td>\n",
              "      <td>1.6</td>\n",
              "      <td>4.3 and up</td>\n",
              "    </tr>\n",
              "    <tr>\n",
              "      <th>10798</th>\n",
              "      <td>Word Search Tab 1 FR</td>\n",
              "      <td>FAMILY</td>\n",
              "      <td>NaN</td>\n",
              "      <td>0</td>\n",
              "      <td>1020k</td>\n",
              "      <td>50+</td>\n",
              "      <td>Paid</td>\n",
              "      <td>1.04</td>\n",
              "      <td>Everyone</td>\n",
              "      <td>2012-02-06</td>\n",
              "      <td>1.1</td>\n",
              "      <td>3.0 and up</td>\n",
              "    </tr>\n",
              "    <tr>\n",
              "      <th>10806</th>\n",
              "      <td>SnakeBite911 FR</td>\n",
              "      <td>MEDICAL</td>\n",
              "      <td>NaN</td>\n",
              "      <td>1</td>\n",
              "      <td>42M</td>\n",
              "      <td>500+</td>\n",
              "      <td>Free</td>\n",
              "      <td>0.00</td>\n",
              "      <td>Everyone</td>\n",
              "      <td>2017-10-09</td>\n",
              "      <td>1.2</td>\n",
              "      <td>4.1 and up</td>\n",
              "    </tr>\n",
              "    <tr>\n",
              "      <th>10807</th>\n",
              "      <td>My FR App</td>\n",
              "      <td>TOOLS</td>\n",
              "      <td>NaN</td>\n",
              "      <td>2</td>\n",
              "      <td>4.2M</td>\n",
              "      <td>100+</td>\n",
              "      <td>Free</td>\n",
              "      <td>0.00</td>\n",
              "      <td>Everyone</td>\n",
              "      <td>2018-04-09</td>\n",
              "      <td>1.283.0037</td>\n",
              "      <td>2.3.3 and up</td>\n",
              "    </tr>\n",
              "    <tr>\n",
              "      <th>10808</th>\n",
              "      <td>lesparticuliers.fr</td>\n",
              "      <td>LIFESTYLE</td>\n",
              "      <td>NaN</td>\n",
              "      <td>96</td>\n",
              "      <td>1.0M</td>\n",
              "      <td>50,000+</td>\n",
              "      <td>Free</td>\n",
              "      <td>0.00</td>\n",
              "      <td>Everyone</td>\n",
              "      <td>2014-11-25</td>\n",
              "      <td>1.5</td>\n",
              "      <td>2.3 and up</td>\n",
              "    </tr>\n",
              "    <tr>\n",
              "      <th>10811</th>\n",
              "      <td>FR Plus 1.6</td>\n",
              "      <td>AUTO_AND_VEHICLES</td>\n",
              "      <td>NaN</td>\n",
              "      <td>4</td>\n",
              "      <td>3.9M</td>\n",
              "      <td>100+</td>\n",
              "      <td>Free</td>\n",
              "      <td>0.00</td>\n",
              "      <td>Everyone</td>\n",
              "      <td>2018-07-24</td>\n",
              "      <td>1.3.6</td>\n",
              "      <td>4.4W and up</td>\n",
              "    </tr>\n",
              "    <tr>\n",
              "      <th>10813</th>\n",
              "      <td>DICT.fr Mobile</td>\n",
              "      <td>BUSINESS</td>\n",
              "      <td>NaN</td>\n",
              "      <td>20</td>\n",
              "      <td>2.7M</td>\n",
              "      <td>10,000+</td>\n",
              "      <td>Free</td>\n",
              "      <td>0.00</td>\n",
              "      <td>Everyone</td>\n",
              "      <td>2018-07-17</td>\n",
              "      <td>2.1.10</td>\n",
              "      <td>4.1 and up</td>\n",
              "    </tr>\n",
              "    <tr>\n",
              "      <th>10816</th>\n",
              "      <td>FieldBi FR Offline</td>\n",
              "      <td>BUSINESS</td>\n",
              "      <td>NaN</td>\n",
              "      <td>2</td>\n",
              "      <td>6.8M</td>\n",
              "      <td>100+</td>\n",
              "      <td>Free</td>\n",
              "      <td>0.00</td>\n",
              "      <td>Everyone</td>\n",
              "      <td>2018-08-06</td>\n",
              "      <td>2.1.8</td>\n",
              "      <td>4.1 and up</td>\n",
              "    </tr>\n",
              "    <tr>\n",
              "      <th>10818</th>\n",
              "      <td>Gold Quote - Gold.fr</td>\n",
              "      <td>FINANCE</td>\n",
              "      <td>NaN</td>\n",
              "      <td>96</td>\n",
              "      <td>1.5M</td>\n",
              "      <td>10,000+</td>\n",
              "      <td>Free</td>\n",
              "      <td>0.00</td>\n",
              "      <td>Everyone</td>\n",
              "      <td>2016-05-19</td>\n",
              "      <td>2.3</td>\n",
              "      <td>2.2 and up</td>\n",
              "    </tr>\n",
              "    <tr>\n",
              "      <th>10821</th>\n",
              "      <td>Poop FR</td>\n",
              "      <td>FAMILY</td>\n",
              "      <td>NaN</td>\n",
              "      <td>6</td>\n",
              "      <td>2.5M</td>\n",
              "      <td>50+</td>\n",
              "      <td>Free</td>\n",
              "      <td>0.00</td>\n",
              "      <td>Everyone</td>\n",
              "      <td>2018-05-29</td>\n",
              "      <td>1.0</td>\n",
              "      <td>4.0.3 and up</td>\n",
              "    </tr>\n",
              "    <tr>\n",
              "      <th>10822</th>\n",
              "      <td>PLMGSS FR</td>\n",
              "      <td>PRODUCTIVITY</td>\n",
              "      <td>NaN</td>\n",
              "      <td>0</td>\n",
              "      <td>3.1M</td>\n",
              "      <td>10+</td>\n",
              "      <td>Free</td>\n",
              "      <td>0.00</td>\n",
              "      <td>Everyone</td>\n",
              "      <td>2017-12-01</td>\n",
              "      <td>1</td>\n",
              "      <td>4.4 and up</td>\n",
              "    </tr>\n",
              "    <tr>\n",
              "      <th>10823</th>\n",
              "      <td>List iptv FR</td>\n",
              "      <td>VIDEO_PLAYERS</td>\n",
              "      <td>NaN</td>\n",
              "      <td>1</td>\n",
              "      <td>2.9M</td>\n",
              "      <td>100+</td>\n",
              "      <td>Free</td>\n",
              "      <td>0.00</td>\n",
              "      <td>Everyone</td>\n",
              "      <td>2018-04-22</td>\n",
              "      <td>1.0</td>\n",
              "      <td>4.0.3 and up</td>\n",
              "    </tr>\n",
              "    <tr>\n",
              "      <th>10824</th>\n",
              "      <td>Cardio-FR</td>\n",
              "      <td>MEDICAL</td>\n",
              "      <td>NaN</td>\n",
              "      <td>67</td>\n",
              "      <td>82M</td>\n",
              "      <td>10,000+</td>\n",
              "      <td>Free</td>\n",
              "      <td>0.00</td>\n",
              "      <td>Everyone</td>\n",
              "      <td>2018-07-31</td>\n",
              "      <td>2.2.2</td>\n",
              "      <td>4.4 and up</td>\n",
              "    </tr>\n",
              "    <tr>\n",
              "      <th>10825</th>\n",
              "      <td>Naruto &amp; Boruto FR</td>\n",
              "      <td>SOCIAL</td>\n",
              "      <td>NaN</td>\n",
              "      <td>7</td>\n",
              "      <td>7.7M</td>\n",
              "      <td>100+</td>\n",
              "      <td>Free</td>\n",
              "      <td>0.00</td>\n",
              "      <td>Teen</td>\n",
              "      <td>2018-02-02</td>\n",
              "      <td>1.0</td>\n",
              "      <td>4.0 and up</td>\n",
              "    </tr>\n",
              "    <tr>\n",
              "      <th>10831</th>\n",
              "      <td>payermonstationnement.fr</td>\n",
              "      <td>MAPS_AND_NAVIGATION</td>\n",
              "      <td>NaN</td>\n",
              "      <td>38</td>\n",
              "      <td>9.8M</td>\n",
              "      <td>5,000+</td>\n",
              "      <td>Free</td>\n",
              "      <td>0.00</td>\n",
              "      <td>Everyone</td>\n",
              "      <td>2018-06-13</td>\n",
              "      <td>2.0.148.0</td>\n",
              "      <td>4.0 and up</td>\n",
              "    </tr>\n",
              "    <tr>\n",
              "      <th>10835</th>\n",
              "      <td>FR Forms</td>\n",
              "      <td>BUSINESS</td>\n",
              "      <td>NaN</td>\n",
              "      <td>0</td>\n",
              "      <td>9.6M</td>\n",
              "      <td>10+</td>\n",
              "      <td>Free</td>\n",
              "      <td>0.00</td>\n",
              "      <td>Everyone</td>\n",
              "      <td>2016-09-29</td>\n",
              "      <td>1.1.5</td>\n",
              "      <td>4.0 and up</td>\n",
              "    </tr>\n",
              "    <tr>\n",
              "      <th>10838</th>\n",
              "      <td>Parkinson Exercices FR</td>\n",
              "      <td>MEDICAL</td>\n",
              "      <td>NaN</td>\n",
              "      <td>3</td>\n",
              "      <td>9.5M</td>\n",
              "      <td>1,000+</td>\n",
              "      <td>Free</td>\n",
              "      <td>0.00</td>\n",
              "      <td>Everyone</td>\n",
              "      <td>2017-01-20</td>\n",
              "      <td>1.0</td>\n",
              "      <td>2.2 and up</td>\n",
              "    </tr>\n",
              "  </tbody>\n",
              "</table>\n",
              "<p>1463 rows × 12 columns</p>\n",
              "</div>"
            ],
            "text/plain": [
              "                                                     App             Category  \\\n",
              "113                            Wrinkles and rejuvenation               BEAUTY   \n",
              "123                               Manicure - nail design               BEAUTY   \n",
              "126                         Skin Care and Natural Beauty               BEAUTY   \n",
              "129                  Secrets of beauty, youth and health               BEAUTY   \n",
              "130                   Recipes and tips for losing weight               BEAUTY   \n",
              "134                        Lady adviser (beauty, health)               BEAUTY   \n",
              "163                           Anonymous caller detection  BOOKS_AND_REFERENCE   \n",
              "180                  SH-02J Owner's Manual (Android 8.0)  BOOKS_AND_REFERENCE   \n",
              "185                       URBANO V 02 instruction manual  BOOKS_AND_REFERENCE   \n",
              "227                                       Y! Mobile menu             BUSINESS   \n",
              "321    ãRanobbe complete freeã Novelba - Free app...               COMICS   \n",
              "478                                    Truth or Dare Pro               DATING   \n",
              "479      Private Dating, Hide App- Blue for PrivacyHider               DATING   \n",
              "480                                 Ad Blocker for SayHi               DATING   \n",
              "617             Meet With Strangers: Video Chat & Dating               DATING   \n",
              "620             Ost. Zombies Cast - New Music and Lyrics               DATING   \n",
              "621                                   Dating White Girls               DATING   \n",
              "623                                         Geeks Dating               DATING   \n",
              "624                          Live chat - free video chat               DATING   \n",
              "626                  Fishing Brain & Boating Maps Marine               DATING   \n",
              "627                                   CAM5678 Video Chat               DATING   \n",
              "628                              Video chat live advices               DATING   \n",
              "629                                       chat live chat               DATING   \n",
              "630                                    Pet Lovers Dating               DATING   \n",
              "631            Friend Find: free chat + flirt dating app               DATING   \n",
              "632                                         Latin Dating               DATING   \n",
              "635                                          Wifi Mingle               DATING   \n",
              "637                      Soy Luna - Top Music And Lyrics               DATING   \n",
              "638                            When Will You Get Married               DATING   \n",
              "639                                HOW TO ASK A GIRL OUT               DATING   \n",
              "...                                                  ...                  ...   \n",
              "10746                                         FP Opgaver                TOOLS   \n",
              "10748                                            FP Live        COMMUNICATION   \n",
              "10751                                          FP Market               FAMILY   \n",
              "10759                                     FP NFC Rewrite                TOOLS   \n",
              "10761                             Greek Bible FP (Audio)  BOOKS_AND_REFERENCE   \n",
              "10762                                      The FP Shield   NEWS_AND_MAGAZINES   \n",
              "10764                                  FP Transportation    AUTO_AND_VEHICLES   \n",
              "10769                                        FQ Magazine            LIFESTYLE   \n",
              "10772                     FQ Load Board for Transporters             BUSINESS   \n",
              "10773                                           FQ India            LIFESTYLE   \n",
              "10774                                            Miss FQ   NEWS_AND_MAGAZINES   \n",
              "10775                                 FQ - Football Quiz               SPORTS   \n",
              "10788  Fountain Live Wallpaper HD â Dubai Wallpaper 3D      PERSONALIZATION   \n",
              "10794                                            PopStar               FAMILY   \n",
              "10798                               Word Search Tab 1 FR               FAMILY   \n",
              "10806                                    SnakeBite911 FR              MEDICAL   \n",
              "10807                                          My FR App                TOOLS   \n",
              "10808                                 lesparticuliers.fr            LIFESTYLE   \n",
              "10811                                        FR Plus 1.6    AUTO_AND_VEHICLES   \n",
              "10813                                     DICT.fr Mobile             BUSINESS   \n",
              "10816                                 FieldBi FR Offline             BUSINESS   \n",
              "10818                               Gold Quote - Gold.fr              FINANCE   \n",
              "10821                                            Poop FR               FAMILY   \n",
              "10822                                          PLMGSS FR         PRODUCTIVITY   \n",
              "10823                                       List iptv FR        VIDEO_PLAYERS   \n",
              "10824                                          Cardio-FR              MEDICAL   \n",
              "10825                                 Naruto & Boruto FR               SOCIAL   \n",
              "10831                           payermonstationnement.fr  MAPS_AND_NAVIGATION   \n",
              "10835                                           FR Forms             BUSINESS   \n",
              "10838                             Parkinson Exercices FR              MEDICAL   \n",
              "\n",
              "       Rating  Reviews   Size  Installs  Type  Price Content Rating  \\\n",
              "113       NaN      182   5.7M  100,000+  Free   0.00   Everyone 10+   \n",
              "123       NaN      119   3.7M   50,000+  Free   0.00       Everyone   \n",
              "126       NaN      654   7.4M  100,000+  Free   0.00           Teen   \n",
              "129       NaN       77   2.9M   10,000+  Free   0.00     Mature 17+   \n",
              "130       NaN       35   3.1M   10,000+  Free   0.00   Everyone 10+   \n",
              "134       NaN       30   9.9M   10,000+  Free   0.00     Mature 17+   \n",
              "163       NaN      161   2.7M   10,000+  Free   0.00       Everyone   \n",
              "180       NaN        2   7.2M   50,000+  Free   0.00       Everyone   \n",
              "185       NaN      114   7.3M  100,000+  Free   0.00       Everyone   \n",
              "227       NaN        9   1.2M  100,000+  Free   0.00       Everyone   \n",
              "321       NaN     1330    22M   50,000+  Free   0.00       Everyone   \n",
              "478       NaN        0    20M       50+  Paid   1.49           Teen   \n",
              "479       NaN        0    18k      100+  Paid   2.99       Everyone   \n",
              "480       NaN        4   1.2M      100+  Paid   3.99           Teen   \n",
              "617       NaN        2   3.7M      500+  Free   0.00     Mature 17+   \n",
              "620       NaN        1   4.6M      100+  Free   0.00           Teen   \n",
              "621       NaN        0   3.6M       50+  Free   0.00     Mature 17+   \n",
              "623       NaN        0    13M       50+  Free   0.00     Mature 17+   \n",
              "624       NaN        1   8.7M      500+  Free   0.00     Mature 17+   \n",
              "626       NaN        3   6.9M      500+  Free   0.00       Everyone   \n",
              "627       NaN        0    39M      500+  Free   0.00     Mature 17+   \n",
              "628       NaN        0   8.0M      100+  Free   0.00       Everyone   \n",
              "629       NaN       24   3.9M    1,000+  Free   0.00     Mature 17+   \n",
              "630       NaN        0    14M       10+  Free   0.00     Mature 17+   \n",
              "631       NaN       23    11M      100+  Free   0.00     Mature 17+   \n",
              "632       NaN        0    13M       10+  Free   0.00     Mature 17+   \n",
              "635       NaN        0  10.0M       10+  Free   0.00       Everyone   \n",
              "637       NaN        1   5.0M      100+  Free   0.00           Teen   \n",
              "638       NaN        2   3.6M       10+  Free   0.00       Everyone   \n",
              "639       NaN        0    19M       10+  Free   0.00       Everyone   \n",
              "...       ...      ...    ...       ...   ...    ...            ...   \n",
              "10746     NaN        9    61M    1,000+  Free   0.00       Everyone   \n",
              "10748     NaN        0   3.3M       10+  Free   0.00           Teen   \n",
              "10751     NaN       24    44k    1,000+  Free   0.00       Everyone   \n",
              "10759     NaN       17    67k    1,000+  Free   0.00       Everyone   \n",
              "10761     NaN        5   8.0M    1,000+  Free   0.00       Everyone   \n",
              "10762     NaN        0    11M       10+  Free   0.00       Everyone   \n",
              "10764     NaN        1   885k        1+  Free   0.00       Everyone   \n",
              "10769     NaN        1    12M      100+  Free   0.00       Everyone   \n",
              "10772     NaN        0   3.9M      100+  Free   0.00       Everyone   \n",
              "10773     NaN        0   8.9M       10+  Free   0.00       Everyone   \n",
              "10774     NaN        0    36M       10+  Free   0.00       Everyone   \n",
              "10775     NaN        1   9.0M        1+  Free   0.00       Everyone   \n",
              "10788     NaN        1    20M      500+  Free   0.00       Everyone   \n",
              "10794     NaN       13   5.7M    1,000+  Free   0.00       Everyone   \n",
              "10798     NaN        0  1020k       50+  Paid   1.04       Everyone   \n",
              "10806     NaN        1    42M      500+  Free   0.00       Everyone   \n",
              "10807     NaN        2   4.2M      100+  Free   0.00       Everyone   \n",
              "10808     NaN       96   1.0M   50,000+  Free   0.00       Everyone   \n",
              "10811     NaN        4   3.9M      100+  Free   0.00       Everyone   \n",
              "10813     NaN       20   2.7M   10,000+  Free   0.00       Everyone   \n",
              "10816     NaN        2   6.8M      100+  Free   0.00       Everyone   \n",
              "10818     NaN       96   1.5M   10,000+  Free   0.00       Everyone   \n",
              "10821     NaN        6   2.5M       50+  Free   0.00       Everyone   \n",
              "10822     NaN        0   3.1M       10+  Free   0.00       Everyone   \n",
              "10823     NaN        1   2.9M      100+  Free   0.00       Everyone   \n",
              "10824     NaN       67    82M   10,000+  Free   0.00       Everyone   \n",
              "10825     NaN        7   7.7M      100+  Free   0.00           Teen   \n",
              "10831     NaN       38   9.8M    5,000+  Free   0.00       Everyone   \n",
              "10835     NaN        0   9.6M       10+  Free   0.00       Everyone   \n",
              "10838     NaN        3   9.5M    1,000+  Free   0.00       Everyone   \n",
              "\n",
              "      Last Updated Current Ver   Android Ver  \n",
              "113     2017-09-20         8.0    3.0 and up  \n",
              "123     2018-07-23         1.3    4.1 and up  \n",
              "126     2018-07-17        1.15    4.1 and up  \n",
              "129     2017-08-08         2.0    2.3 and up  \n",
              "130     2017-12-11         2.0    3.0 and up  \n",
              "134     2018-01-24         3.0    3.0 and up  \n",
              "163     2018-07-13         1.0    2.3 and up  \n",
              "180     2018-06-15         3.0    6.0 and up  \n",
              "185     2015-08-07         1.1    5.1 and up  \n",
              "227     2018-04-09       1.0.5    6.0 and up  \n",
              "321     2018-07-03       6.1.1    4.2 and up  \n",
              "478     2017-09-01         1.0    4.0 and up  \n",
              "479     2017-07-25       1.0.1    4.0 and up  \n",
              "480     2018-08-02         1.2  4.0.3 and up  \n",
              "617     2018-07-16          1.    4.0 and up  \n",
              "620     2018-07-20         1.0  4.0.3 and up  \n",
              "621     2018-07-20         1.0    4.0 and up  \n",
              "623     2018-07-10         1.0    4.1 and up  \n",
              "624     2018-07-23        3.52  4.0.3 and up  \n",
              "626     2018-07-23         1.0  4.0.3 and up  \n",
              "627     2018-07-13       5.5.8  4.0.3 and up  \n",
              "628     2018-07-10         1.0    3.0 and up  \n",
              "629     2018-07-26         1.0    4.0 and up  \n",
              "630     2018-07-09         1.0    4.1 and up  \n",
              "631     2018-07-31         1.0    4.4 and up  \n",
              "632     2018-07-09         1.0    4.1 and up  \n",
              "635     2018-07-27         1.3    4.4 and up  \n",
              "637     2018-07-24         1.0  4.0.3 and up  \n",
              "638     2018-07-14         1.0  4.0.3 and up  \n",
              "639     2018-07-16         1.0  4.0.3 and up  \n",
              "...            ...         ...           ...  \n",
              "10746   2018-05-31         1.9  4.0.3 and up  \n",
              "10748   2017-11-03       1.2.4    4.2 and up  \n",
              "10751   2012-06-17         1.0    1.6 and up  \n",
              "10759   2016-01-29         1.1    4.0 and up  \n",
              "10761   2016-08-29       1.0.0  4.0.3 and up  \n",
              "10762   2018-02-01       1.1.0    4.4 and up  \n",
              "10764   2018-03-09      10.0.0    4.0 and up  \n",
              "10769   2016-12-12         1.0    4.1 and up  \n",
              "10772   2018-02-16       1.1.3    5.0 and up  \n",
              "10773   2018-07-31       7.2.2    4.1 and up  \n",
              "10774   2018-04-05         3.8    4.4 and up  \n",
              "10775   2018-05-29         1.0    5.0 and up  \n",
              "10788   2018-04-13         1.0    4.1 and up  \n",
              "10794   2018-01-03         1.6    4.3 and up  \n",
              "10798   2012-02-06         1.1    3.0 and up  \n",
              "10806   2017-10-09         1.2    4.1 and up  \n",
              "10807   2018-04-09  1.283.0037  2.3.3 and up  \n",
              "10808   2014-11-25         1.5    2.3 and up  \n",
              "10811   2018-07-24       1.3.6   4.4W and up  \n",
              "10813   2018-07-17      2.1.10    4.1 and up  \n",
              "10816   2018-08-06       2.1.8    4.1 and up  \n",
              "10818   2016-05-19         2.3    2.2 and up  \n",
              "10821   2018-05-29         1.0  4.0.3 and up  \n",
              "10822   2017-12-01           1    4.4 and up  \n",
              "10823   2018-04-22         1.0  4.0.3 and up  \n",
              "10824   2018-07-31       2.2.2    4.4 and up  \n",
              "10825   2018-02-02         1.0    4.0 and up  \n",
              "10831   2018-06-13   2.0.148.0    4.0 and up  \n",
              "10835   2016-09-29       1.1.5    4.0 and up  \n",
              "10838   2017-01-20         1.0    2.2 and up  \n",
              "\n",
              "[1463 rows x 12 columns]"
            ]
          },
          "metadata": {
            "tags": []
          },
          "execution_count": 38
        }
      ]
    },
    {
      "metadata": {
        "id": "LXzrM1Dbcpub",
        "colab_type": "code",
        "outputId": "d692a007-0884-4216-cf61-dc0f1af2627c",
        "colab": {
          "base_uri": "https://localhost:8080/",
          "height": 331
        }
      },
      "cell_type": "code",
      "source": [
        "dataset[dataset['Current Ver'].isna()]"
      ],
      "execution_count": 39,
      "outputs": [
        {
          "output_type": "execute_result",
          "data": {
            "text/html": [
              "<div>\n",
              "<style scoped>\n",
              "    .dataframe tbody tr th:only-of-type {\n",
              "        vertical-align: middle;\n",
              "    }\n",
              "\n",
              "    .dataframe tbody tr th {\n",
              "        vertical-align: top;\n",
              "    }\n",
              "\n",
              "    .dataframe thead th {\n",
              "        text-align: right;\n",
              "    }\n",
              "</style>\n",
              "<table border=\"1\" class=\"dataframe\">\n",
              "  <thead>\n",
              "    <tr style=\"text-align: right;\">\n",
              "      <th></th>\n",
              "      <th>App</th>\n",
              "      <th>Category</th>\n",
              "      <th>Rating</th>\n",
              "      <th>Reviews</th>\n",
              "      <th>Size</th>\n",
              "      <th>Installs</th>\n",
              "      <th>Type</th>\n",
              "      <th>Price</th>\n",
              "      <th>Content Rating</th>\n",
              "      <th>Last Updated</th>\n",
              "      <th>Current Ver</th>\n",
              "      <th>Android Ver</th>\n",
              "    </tr>\n",
              "  </thead>\n",
              "  <tbody>\n",
              "    <tr>\n",
              "      <th>15</th>\n",
              "      <td>Learn To Draw Kawaii Characters</td>\n",
              "      <td>ART_AND_DESIGN</td>\n",
              "      <td>3.2</td>\n",
              "      <td>55</td>\n",
              "      <td>2.7M</td>\n",
              "      <td>5,000+</td>\n",
              "      <td>Free</td>\n",
              "      <td>0.00</td>\n",
              "      <td>Everyone</td>\n",
              "      <td>2018-06-06</td>\n",
              "      <td>NaN</td>\n",
              "      <td>4.2 and up</td>\n",
              "    </tr>\n",
              "    <tr>\n",
              "      <th>1553</th>\n",
              "      <td>Market Update Helper</td>\n",
              "      <td>LIBRARIES_AND_DEMO</td>\n",
              "      <td>4.1</td>\n",
              "      <td>20145</td>\n",
              "      <td>11k</td>\n",
              "      <td>1,000,000+</td>\n",
              "      <td>Free</td>\n",
              "      <td>0.00</td>\n",
              "      <td>Everyone</td>\n",
              "      <td>2013-02-12</td>\n",
              "      <td>NaN</td>\n",
              "      <td>1.5 and up</td>\n",
              "    </tr>\n",
              "    <tr>\n",
              "      <th>6322</th>\n",
              "      <td>Virtual DJ Sound Mixer</td>\n",
              "      <td>TOOLS</td>\n",
              "      <td>4.2</td>\n",
              "      <td>4010</td>\n",
              "      <td>8.7M</td>\n",
              "      <td>500,000+</td>\n",
              "      <td>Free</td>\n",
              "      <td>0.00</td>\n",
              "      <td>Everyone</td>\n",
              "      <td>2017-05-10</td>\n",
              "      <td>NaN</td>\n",
              "      <td>4.0 and up</td>\n",
              "    </tr>\n",
              "    <tr>\n",
              "      <th>6803</th>\n",
              "      <td>BT Master</td>\n",
              "      <td>FAMILY</td>\n",
              "      <td>NaN</td>\n",
              "      <td>0</td>\n",
              "      <td>222k</td>\n",
              "      <td>100+</td>\n",
              "      <td>Free</td>\n",
              "      <td>0.00</td>\n",
              "      <td>Everyone</td>\n",
              "      <td>2016-11-06</td>\n",
              "      <td>NaN</td>\n",
              "      <td>1.6 and up</td>\n",
              "    </tr>\n",
              "    <tr>\n",
              "      <th>7333</th>\n",
              "      <td>Dots puzzle</td>\n",
              "      <td>FAMILY</td>\n",
              "      <td>4.0</td>\n",
              "      <td>179</td>\n",
              "      <td>14M</td>\n",
              "      <td>50,000+</td>\n",
              "      <td>Paid</td>\n",
              "      <td>0.99</td>\n",
              "      <td>Everyone</td>\n",
              "      <td>2018-04-18</td>\n",
              "      <td>NaN</td>\n",
              "      <td>4.0 and up</td>\n",
              "    </tr>\n",
              "    <tr>\n",
              "      <th>7407</th>\n",
              "      <td>Calculate My IQ</td>\n",
              "      <td>FAMILY</td>\n",
              "      <td>NaN</td>\n",
              "      <td>44</td>\n",
              "      <td>7.2M</td>\n",
              "      <td>10,000+</td>\n",
              "      <td>Free</td>\n",
              "      <td>0.00</td>\n",
              "      <td>Everyone</td>\n",
              "      <td>2017-04-03</td>\n",
              "      <td>NaN</td>\n",
              "      <td>2.3 and up</td>\n",
              "    </tr>\n",
              "    <tr>\n",
              "      <th>7730</th>\n",
              "      <td>UFO-CQ</td>\n",
              "      <td>TOOLS</td>\n",
              "      <td>NaN</td>\n",
              "      <td>1</td>\n",
              "      <td>237k</td>\n",
              "      <td>10+</td>\n",
              "      <td>Paid</td>\n",
              "      <td>0.99</td>\n",
              "      <td>Everyone</td>\n",
              "      <td>2016-07-04</td>\n",
              "      <td>NaN</td>\n",
              "      <td>2.0 and up</td>\n",
              "    </tr>\n",
              "    <tr>\n",
              "      <th>10342</th>\n",
              "      <td>La Fe de Jesus</td>\n",
              "      <td>BOOKS_AND_REFERENCE</td>\n",
              "      <td>NaN</td>\n",
              "      <td>8</td>\n",
              "      <td>658k</td>\n",
              "      <td>1,000+</td>\n",
              "      <td>Free</td>\n",
              "      <td>0.00</td>\n",
              "      <td>Everyone</td>\n",
              "      <td>2017-01-31</td>\n",
              "      <td>NaN</td>\n",
              "      <td>3.0 and up</td>\n",
              "    </tr>\n",
              "  </tbody>\n",
              "</table>\n",
              "</div>"
            ],
            "text/plain": [
              "                                   App             Category  Rating  Reviews  \\\n",
              "15     Learn To Draw Kawaii Characters       ART_AND_DESIGN     3.2       55   \n",
              "1553              Market Update Helper   LIBRARIES_AND_DEMO     4.1    20145   \n",
              "6322            Virtual DJ Sound Mixer                TOOLS     4.2     4010   \n",
              "6803                         BT Master               FAMILY     NaN        0   \n",
              "7333                       Dots puzzle               FAMILY     4.0      179   \n",
              "7407                   Calculate My IQ               FAMILY     NaN       44   \n",
              "7730                            UFO-CQ                TOOLS     NaN        1   \n",
              "10342                   La Fe de Jesus  BOOKS_AND_REFERENCE     NaN        8   \n",
              "\n",
              "       Size    Installs  Type  Price Content Rating Last Updated Current Ver  \\\n",
              "15     2.7M      5,000+  Free   0.00       Everyone   2018-06-06         NaN   \n",
              "1553    11k  1,000,000+  Free   0.00       Everyone   2013-02-12         NaN   \n",
              "6322   8.7M    500,000+  Free   0.00       Everyone   2017-05-10         NaN   \n",
              "6803   222k        100+  Free   0.00       Everyone   2016-11-06         NaN   \n",
              "7333    14M     50,000+  Paid   0.99       Everyone   2018-04-18         NaN   \n",
              "7407   7.2M     10,000+  Free   0.00       Everyone   2017-04-03         NaN   \n",
              "7730   237k         10+  Paid   0.99       Everyone   2016-07-04         NaN   \n",
              "10342  658k      1,000+  Free   0.00       Everyone   2017-01-31         NaN   \n",
              "\n",
              "      Android Ver  \n",
              "15     4.2 and up  \n",
              "1553   1.5 and up  \n",
              "6322   4.0 and up  \n",
              "6803   1.6 and up  \n",
              "7333   4.0 and up  \n",
              "7407   2.3 and up  \n",
              "7730   2.0 and up  \n",
              "10342  3.0 and up  "
            ]
          },
          "metadata": {
            "tags": []
          },
          "execution_count": 39
        }
      ]
    },
    {
      "metadata": {
        "id": "DFR8NV_acpul",
        "colab_type": "code",
        "outputId": "cb826b85-5955-4fa6-de83-f487453bbf7a",
        "colab": {
          "base_uri": "https://localhost:8080/",
          "height": 111
        }
      },
      "cell_type": "code",
      "source": [
        "dataset[dataset['Android Ver'].isna()]"
      ],
      "execution_count": 40,
      "outputs": [
        {
          "output_type": "execute_result",
          "data": {
            "text/html": [
              "<div>\n",
              "<style scoped>\n",
              "    .dataframe tbody tr th:only-of-type {\n",
              "        vertical-align: middle;\n",
              "    }\n",
              "\n",
              "    .dataframe tbody tr th {\n",
              "        vertical-align: top;\n",
              "    }\n",
              "\n",
              "    .dataframe thead th {\n",
              "        text-align: right;\n",
              "    }\n",
              "</style>\n",
              "<table border=\"1\" class=\"dataframe\">\n",
              "  <thead>\n",
              "    <tr style=\"text-align: right;\">\n",
              "      <th></th>\n",
              "      <th>App</th>\n",
              "      <th>Category</th>\n",
              "      <th>Rating</th>\n",
              "      <th>Reviews</th>\n",
              "      <th>Size</th>\n",
              "      <th>Installs</th>\n",
              "      <th>Type</th>\n",
              "      <th>Price</th>\n",
              "      <th>Content Rating</th>\n",
              "      <th>Last Updated</th>\n",
              "      <th>Current Ver</th>\n",
              "      <th>Android Ver</th>\n",
              "    </tr>\n",
              "  </thead>\n",
              "  <tbody>\n",
              "    <tr>\n",
              "      <th>4453</th>\n",
              "      <td>[substratum] Vacuum: P</td>\n",
              "      <td>PERSONALIZATION</td>\n",
              "      <td>4.4</td>\n",
              "      <td>230</td>\n",
              "      <td>11M</td>\n",
              "      <td>1,000+</td>\n",
              "      <td>Paid</td>\n",
              "      <td>1.49</td>\n",
              "      <td>Everyone</td>\n",
              "      <td>2018-07-20</td>\n",
              "      <td>4.4</td>\n",
              "      <td>NaN</td>\n",
              "    </tr>\n",
              "    <tr>\n",
              "      <th>4490</th>\n",
              "      <td>Pi Dark [substratum]</td>\n",
              "      <td>PERSONALIZATION</td>\n",
              "      <td>4.5</td>\n",
              "      <td>189</td>\n",
              "      <td>2.1M</td>\n",
              "      <td>10,000+</td>\n",
              "      <td>Free</td>\n",
              "      <td>0.00</td>\n",
              "      <td>Everyone</td>\n",
              "      <td>2018-03-27</td>\n",
              "      <td>1.1</td>\n",
              "      <td>NaN</td>\n",
              "    </tr>\n",
              "  </tbody>\n",
              "</table>\n",
              "</div>"
            ],
            "text/plain": [
              "                         App         Category  Rating  Reviews  Size Installs  \\\n",
              "4453  [substratum] Vacuum: P  PERSONALIZATION     4.4      230   11M   1,000+   \n",
              "4490    Pi Dark [substratum]  PERSONALIZATION     4.5      189  2.1M  10,000+   \n",
              "\n",
              "      Type  Price Content Rating Last Updated Current Ver Android Ver  \n",
              "4453  Paid   1.49       Everyone   2018-07-20         4.4         NaN  \n",
              "4490  Free   0.00       Everyone   2018-03-27         1.1         NaN  "
            ]
          },
          "metadata": {
            "tags": []
          },
          "execution_count": 40
        }
      ]
    },
    {
      "metadata": {
        "id": "amq01YJwHVI8",
        "colab_type": "text"
      },
      "cell_type": "markdown",
      "source": [
        "**Transformando o tipo das colunas a seguir em categórico, de acordo com os resultados mostrados ao descrever cada uma delas** "
      ]
    },
    {
      "metadata": {
        "id": "ddaQgqvQcpu5",
        "colab_type": "code",
        "colab": {}
      },
      "cell_type": "code",
      "source": [
        "dataset['Type'] = dataset['Type'].astype(\"category\")\n",
        "dataset['Content Rating'] = dataset['Content Rating'].astype(\"category\") \n",
        "dataset['Category'] = dataset['Category'].astype(\"category\") \n",
        "dataset['Installs'] = dataset['Installs'].astype(\"category\")\n",
        "dataset['Android Ver'] = dataset['Android Ver'].astype(\"category\")\n",
        "dataset['Current Ver'] = dataset['Current Ver'].astype(\"category\")\n",
        "dataset['Size'] = dataset['Size'].astype(\"category\")"
      ],
      "execution_count": 0,
      "outputs": []
    },
    {
      "metadata": {
        "id": "l6zSAWLrcpvC",
        "colab_type": "code",
        "outputId": "55d5df62-bde7-4a59-b775-ec83134934b5",
        "colab": {
          "base_uri": "https://localhost:8080/",
          "height": 238
        }
      },
      "cell_type": "code",
      "source": [
        "dataset.dtypes\n"
      ],
      "execution_count": 42,
      "outputs": [
        {
          "output_type": "execute_result",
          "data": {
            "text/plain": [
              "App                       object\n",
              "Category                category\n",
              "Rating                   float64\n",
              "Reviews                    int64\n",
              "Size                    category\n",
              "Installs                category\n",
              "Type                    category\n",
              "Price                    float64\n",
              "Content Rating          category\n",
              "Last Updated      datetime64[ns]\n",
              "Current Ver             category\n",
              "Android Ver             category\n",
              "dtype: object"
            ]
          },
          "metadata": {
            "tags": []
          },
          "execution_count": 42
        }
      ]
    },
    {
      "metadata": {
        "id": "I1KCfHsqcpvM",
        "colab_type": "code",
        "colab": {}
      },
      "cell_type": "code",
      "source": [
        "dataset['Type'] = dataset['Type'].cat.codes\n",
        "dataset['Content Rating'] = dataset['Content Rating'].cat.codes\n",
        "dataset['Category'] = dataset['Category'].cat.codes\n",
        "dataset['Installs'] = dataset['Installs'].cat.codes\n",
        "dataset['Android Ver'] = dataset['Android Ver'].cat.codes\n",
        "dataset['Current Ver'] = dataset['Current Ver'].cat.codes\n",
        "dataset['Size'] = dataset['Size'].cat.codes"
      ],
      "execution_count": 0,
      "outputs": []
    },
    {
      "metadata": {
        "id": "Vgrp_sKtNiBa",
        "colab_type": "text"
      },
      "cell_type": "markdown",
      "source": [
        "**Imputação de dados com KNN, visto que a coluna Ratings (nota de avaliação de um aplicativo) possui mais de 1400 entradas NaN**"
      ]
    },
    {
      "metadata": {
        "id": "KJ9Ho6T2cp0M",
        "colab_type": "code",
        "outputId": "fd0ce6f5-3913-4d10-ce98-861a0e3c281e",
        "colab": {
          "base_uri": "https://localhost:8080/",
          "height": 1683
        }
      },
      "cell_type": "code",
      "source": [
        "from fancyimpute import KNN\n",
        "dataset_knn = KNN(k=3).fit_transform(dataset[['Category','Rating','Type','Price','Installs','Reviews','Size','Content Rating','Current Ver','Android Ver']])\n"
      ],
      "execution_count": 44,
      "outputs": [
        {
          "output_type": "stream",
          "text": [
            "Using TensorFlow backend.\n"
          ],
          "name": "stderr"
        },
        {
          "output_type": "stream",
          "text": [
            "Imputing row 1/9659 with 0 missing, elapsed time: 16.276\n",
            "Imputing row 101/9659 with 0 missing, elapsed time: 16.276\n",
            "Imputing row 201/9659 with 0 missing, elapsed time: 16.278\n",
            "Imputing row 301/9659 with 0 missing, elapsed time: 16.278\n",
            "Imputing row 401/9659 with 0 missing, elapsed time: 16.279\n",
            "Imputing row 501/9659 with 0 missing, elapsed time: 16.282\n",
            "Imputing row 601/9659 with 0 missing, elapsed time: 16.282\n",
            "Imputing row 701/9659 with 0 missing, elapsed time: 16.283\n",
            "Imputing row 801/9659 with 0 missing, elapsed time: 16.284\n",
            "Imputing row 901/9659 with 0 missing, elapsed time: 16.284\n",
            "Imputing row 1001/9659 with 0 missing, elapsed time: 16.285\n",
            "Imputing row 1101/9659 with 0 missing, elapsed time: 16.286\n",
            "Imputing row 1201/9659 with 0 missing, elapsed time: 16.287\n",
            "Imputing row 1301/9659 with 0 missing, elapsed time: 16.287\n",
            "Imputing row 1401/9659 with 0 missing, elapsed time: 16.288\n",
            "Imputing row 1501/9659 with 0 missing, elapsed time: 16.289\n",
            "Imputing row 1601/9659 with 0 missing, elapsed time: 16.289\n",
            "Imputing row 1701/9659 with 0 missing, elapsed time: 16.292\n",
            "Imputing row 1801/9659 with 0 missing, elapsed time: 16.293\n",
            "Imputing row 1901/9659 with 0 missing, elapsed time: 16.293\n",
            "Imputing row 2001/9659 with 0 missing, elapsed time: 16.294\n",
            "Imputing row 2101/9659 with 0 missing, elapsed time: 16.294\n",
            "Imputing row 2201/9659 with 0 missing, elapsed time: 16.295\n",
            "Imputing row 2301/9659 with 0 missing, elapsed time: 16.295\n",
            "Imputing row 2401/9659 with 0 missing, elapsed time: 16.296\n",
            "Imputing row 2501/9659 with 0 missing, elapsed time: 16.297\n",
            "Imputing row 2601/9659 with 0 missing, elapsed time: 16.297\n",
            "Imputing row 2701/9659 with 0 missing, elapsed time: 16.298\n",
            "Imputing row 2801/9659 with 0 missing, elapsed time: 16.298\n",
            "Imputing row 2901/9659 with 0 missing, elapsed time: 16.299\n",
            "Imputing row 3001/9659 with 0 missing, elapsed time: 16.300\n",
            "Imputing row 3101/9659 with 0 missing, elapsed time: 16.301\n",
            "Imputing row 3201/9659 with 0 missing, elapsed time: 16.301\n",
            "Imputing row 3301/9659 with 0 missing, elapsed time: 16.302\n",
            "Imputing row 3401/9659 with 0 missing, elapsed time: 16.304\n",
            "Imputing row 3501/9659 with 0 missing, elapsed time: 16.304\n",
            "Imputing row 3601/9659 with 0 missing, elapsed time: 16.305\n",
            "Imputing row 3701/9659 with 0 missing, elapsed time: 16.306\n",
            "Imputing row 3801/9659 with 0 missing, elapsed time: 16.306\n",
            "Imputing row 3901/9659 with 0 missing, elapsed time: 16.308\n",
            "Imputing row 4001/9659 with 0 missing, elapsed time: 16.312\n",
            "Imputing row 4101/9659 with 1 missing, elapsed time: 16.314\n",
            "Imputing row 4201/9659 with 0 missing, elapsed time: 16.315\n",
            "Imputing row 4301/9659 with 0 missing, elapsed time: 16.316\n",
            "Imputing row 4401/9659 with 0 missing, elapsed time: 16.317\n",
            "Imputing row 4501/9659 with 0 missing, elapsed time: 16.318\n",
            "Imputing row 4601/9659 with 0 missing, elapsed time: 16.320\n",
            "Imputing row 4701/9659 with 0 missing, elapsed time: 16.322\n",
            "Imputing row 4801/9659 with 0 missing, elapsed time: 16.324\n",
            "Imputing row 4901/9659 with 0 missing, elapsed time: 16.324\n",
            "Imputing row 5001/9659 with 0 missing, elapsed time: 16.327\n",
            "Imputing row 5101/9659 with 0 missing, elapsed time: 16.329\n",
            "Imputing row 5201/9659 with 0 missing, elapsed time: 16.331\n",
            "Imputing row 5301/9659 with 1 missing, elapsed time: 16.333\n",
            "Imputing row 5401/9659 with 0 missing, elapsed time: 16.335\n",
            "Imputing row 5501/9659 with 0 missing, elapsed time: 16.337\n",
            "Imputing row 5601/9659 with 0 missing, elapsed time: 16.339\n",
            "Imputing row 5701/9659 with 0 missing, elapsed time: 16.343\n",
            "Imputing row 5801/9659 with 0 missing, elapsed time: 16.345\n",
            "Imputing row 5901/9659 with 1 missing, elapsed time: 16.346\n",
            "Imputing row 6001/9659 with 1 missing, elapsed time: 16.349\n",
            "Imputing row 6101/9659 with 0 missing, elapsed time: 16.353\n",
            "Imputing row 6201/9659 with 0 missing, elapsed time: 16.355\n",
            "Imputing row 6301/9659 with 1 missing, elapsed time: 16.357\n",
            "Imputing row 6401/9659 with 1 missing, elapsed time: 16.359\n",
            "Imputing row 6501/9659 with 1 missing, elapsed time: 16.360\n",
            "Imputing row 6601/9659 with 0 missing, elapsed time: 16.362\n",
            "Imputing row 6701/9659 with 0 missing, elapsed time: 16.363\n",
            "Imputing row 6801/9659 with 1 missing, elapsed time: 16.364\n",
            "Imputing row 6901/9659 with 1 missing, elapsed time: 16.366\n",
            "Imputing row 7001/9659 with 0 missing, elapsed time: 16.368\n",
            "Imputing row 7101/9659 with 0 missing, elapsed time: 16.370\n",
            "Imputing row 7201/9659 with 0 missing, elapsed time: 16.372\n",
            "Imputing row 7301/9659 with 0 missing, elapsed time: 16.373\n",
            "Imputing row 7401/9659 with 1 missing, elapsed time: 16.375\n",
            "Imputing row 7501/9659 with 0 missing, elapsed time: 16.377\n",
            "Imputing row 7601/9659 with 0 missing, elapsed time: 16.377\n",
            "Imputing row 7701/9659 with 0 missing, elapsed time: 16.379\n",
            "Imputing row 7801/9659 with 0 missing, elapsed time: 16.380\n",
            "Imputing row 7901/9659 with 0 missing, elapsed time: 16.382\n",
            "Imputing row 8001/9659 with 0 missing, elapsed time: 16.384\n",
            "Imputing row 8101/9659 with 0 missing, elapsed time: 16.386\n",
            "Imputing row 8201/9659 with 0 missing, elapsed time: 16.389\n",
            "Imputing row 8301/9659 with 1 missing, elapsed time: 16.390\n",
            "Imputing row 8401/9659 with 0 missing, elapsed time: 16.392\n",
            "Imputing row 8501/9659 with 0 missing, elapsed time: 16.393\n",
            "Imputing row 8601/9659 with 0 missing, elapsed time: 16.395\n",
            "Imputing row 8701/9659 with 0 missing, elapsed time: 16.396\n",
            "Imputing row 8801/9659 with 0 missing, elapsed time: 16.399\n",
            "Imputing row 8901/9659 with 1 missing, elapsed time: 16.401\n",
            "Imputing row 9001/9659 with 0 missing, elapsed time: 16.403\n",
            "Imputing row 9101/9659 with 0 missing, elapsed time: 16.404\n",
            "Imputing row 9201/9659 with 0 missing, elapsed time: 16.406\n",
            "Imputing row 9301/9659 with 0 missing, elapsed time: 16.408\n",
            "Imputing row 9401/9659 with 0 missing, elapsed time: 16.411\n",
            "Imputing row 9501/9659 with 0 missing, elapsed time: 16.414\n",
            "Imputing row 9601/9659 with 0 missing, elapsed time: 16.416\n"
          ],
          "name": "stdout"
        }
      ]
    },
    {
      "metadata": {
        "id": "Q7Zx7jQcP_Fd",
        "colab_type": "code",
        "outputId": "95064e9e-2ed2-4137-c5d1-4158cdd5da83",
        "colab": {
          "base_uri": "https://localhost:8080/",
          "height": 34
        }
      },
      "cell_type": "code",
      "source": [
        "dataset_knn.shape"
      ],
      "execution_count": 45,
      "outputs": [
        {
          "output_type": "execute_result",
          "data": {
            "text/plain": [
              "(9659, 10)"
            ]
          },
          "metadata": {
            "tags": []
          },
          "execution_count": 45
        }
      ]
    },
    {
      "metadata": {
        "id": "4nDvYnsR8eGd",
        "colab_type": "code",
        "outputId": "c6405f6f-1442-49da-cfda-5a9952dc907e",
        "colab": {
          "base_uri": "https://localhost:8080/",
          "height": 204
        }
      },
      "cell_type": "code",
      "source": [
        "dataset_imput = pd.DataFrame(data=dataset_knn[0:,0:],columns=['Category','Rating','Type','Price','Installs','Reviews','Size','Content Rating','Current Ver','Android Ver'])\n",
        "dataset_imput.head()\n"
      ],
      "execution_count": 46,
      "outputs": [
        {
          "output_type": "execute_result",
          "data": {
            "text/html": [
              "<div>\n",
              "<style scoped>\n",
              "    .dataframe tbody tr th:only-of-type {\n",
              "        vertical-align: middle;\n",
              "    }\n",
              "\n",
              "    .dataframe tbody tr th {\n",
              "        vertical-align: top;\n",
              "    }\n",
              "\n",
              "    .dataframe thead th {\n",
              "        text-align: right;\n",
              "    }\n",
              "</style>\n",
              "<table border=\"1\" class=\"dataframe\">\n",
              "  <thead>\n",
              "    <tr style=\"text-align: right;\">\n",
              "      <th></th>\n",
              "      <th>Category</th>\n",
              "      <th>Rating</th>\n",
              "      <th>Type</th>\n",
              "      <th>Price</th>\n",
              "      <th>Installs</th>\n",
              "      <th>Reviews</th>\n",
              "      <th>Size</th>\n",
              "      <th>Content Rating</th>\n",
              "      <th>Current Ver</th>\n",
              "      <th>Android Ver</th>\n",
              "    </tr>\n",
              "  </thead>\n",
              "  <tbody>\n",
              "    <tr>\n",
              "      <th>0</th>\n",
              "      <td>0.0</td>\n",
              "      <td>4.1</td>\n",
              "      <td>0.0</td>\n",
              "      <td>0.0</td>\n",
              "      <td>7.0</td>\n",
              "      <td>159.0</td>\n",
              "      <td>53.0</td>\n",
              "      <td>1.0</td>\n",
              "      <td>118.0</td>\n",
              "      <td>15.0</td>\n",
              "    </tr>\n",
              "    <tr>\n",
              "      <th>1</th>\n",
              "      <td>0.0</td>\n",
              "      <td>4.7</td>\n",
              "      <td>0.0</td>\n",
              "      <td>0.0</td>\n",
              "      <td>14.0</td>\n",
              "      <td>87510.0</td>\n",
              "      <td>366.0</td>\n",
              "      <td>1.0</td>\n",
              "      <td>462.0</td>\n",
              "      <td>15.0</td>\n",
              "    </tr>\n",
              "    <tr>\n",
              "      <th>2</th>\n",
              "      <td>0.0</td>\n",
              "      <td>4.5</td>\n",
              "      <td>0.0</td>\n",
              "      <td>0.0</td>\n",
              "      <td>17.0</td>\n",
              "      <td>215644.0</td>\n",
              "      <td>99.0</td>\n",
              "      <td>4.0</td>\n",
              "      <td>2751.0</td>\n",
              "      <td>18.0</td>\n",
              "    </tr>\n",
              "    <tr>\n",
              "      <th>3</th>\n",
              "      <td>0.0</td>\n",
              "      <td>4.3</td>\n",
              "      <td>0.0</td>\n",
              "      <td>0.0</td>\n",
              "      <td>10.0</td>\n",
              "      <td>967.0</td>\n",
              "      <td>62.0</td>\n",
              "      <td>1.0</td>\n",
              "      <td>277.0</td>\n",
              "      <td>20.0</td>\n",
              "    </tr>\n",
              "    <tr>\n",
              "      <th>4</th>\n",
              "      <td>0.0</td>\n",
              "      <td>4.4</td>\n",
              "      <td>0.0</td>\n",
              "      <td>0.0</td>\n",
              "      <td>16.0</td>\n",
              "      <td>167.0</td>\n",
              "      <td>220.0</td>\n",
              "      <td>1.0</td>\n",
              "      <td>113.0</td>\n",
              "      <td>8.0</td>\n",
              "    </tr>\n",
              "  </tbody>\n",
              "</table>\n",
              "</div>"
            ],
            "text/plain": [
              "   Category  Rating  Type  Price  Installs   Reviews   Size  Content Rating  \\\n",
              "0       0.0     4.1   0.0    0.0       7.0     159.0   53.0             1.0   \n",
              "1       0.0     4.7   0.0    0.0      14.0   87510.0  366.0             1.0   \n",
              "2       0.0     4.5   0.0    0.0      17.0  215644.0   99.0             4.0   \n",
              "3       0.0     4.3   0.0    0.0      10.0     967.0   62.0             1.0   \n",
              "4       0.0     4.4   0.0    0.0      16.0     167.0  220.0             1.0   \n",
              "\n",
              "   Current Ver  Android Ver  \n",
              "0        118.0         15.0  \n",
              "1        462.0         15.0  \n",
              "2       2751.0         18.0  \n",
              "3        277.0         20.0  \n",
              "4        113.0          8.0  "
            ]
          },
          "metadata": {
            "tags": []
          },
          "execution_count": 46
        }
      ]
    },
    {
      "metadata": {
        "id": "cQtUAuV-_-QI",
        "colab_type": "text"
      },
      "cell_type": "markdown",
      "source": [
        "Verificação de média e mediana de cada coluna para saber se é necessário normalizar"
      ]
    },
    {
      "metadata": {
        "id": "OfZ2i7Vn9XQf",
        "colab_type": "code",
        "outputId": "9de505e5-0cc4-482a-8bdf-b8e1c3e730ed",
        "colab": {
          "base_uri": "https://localhost:8080/",
          "height": 68
        }
      },
      "cell_type": "code",
      "source": [
        "print('Reviews',str(dataset_imput.Reviews.mean()),str(dataset_imput.Reviews.median()))\n",
        "print('Rating',str(dataset_imput.Rating.mean()),str(dataset_imput.Rating.median()))\n",
        "print('Price',str(dataset_imput.Price.mean()),str(dataset_imput.Price.median()))\n"
      ],
      "execution_count": 47,
      "outputs": [
        {
          "output_type": "stream",
          "text": [
            "Reviews 216651.2178279325 969.0\n",
            "Rating 4.167823442120077 4.3\n",
            "Price 1.097230562169985 0.0\n"
          ],
          "name": "stdout"
        }
      ]
    },
    {
      "metadata": {
        "id": "6liDEzs0cpw_",
        "colab_type": "code",
        "outputId": "6f88628b-313d-4a18-e538-d65016803636",
        "colab": {
          "base_uri": "https://localhost:8080/",
          "height": 34
        }
      },
      "cell_type": "code",
      "source": [
        "#normalização de coluna reviews\n",
        "\n",
        "from sklearn.preprocessing import StandardScaler, MinMaxScaler\n",
        "scaler = MinMaxScaler()\n",
        "dataset_imput['ReviewsNorm'] = scaler.fit_transform(dataset_imput[['Reviews']])\n",
        "print('Reviews',str(dataset_imput['ReviewsNorm'].mean()),str(dataset_imput['ReviewsNorm'].median()))"
      ],
      "execution_count": 48,
      "outputs": [
        {
          "output_type": "stream",
          "text": [
            "Reviews 0.0027730217212704506 1.2402690715752754e-05\n"
          ],
          "name": "stdout"
        }
      ]
    },
    {
      "metadata": {
        "id": "64VUIUf2EaHN",
        "colab_type": "text"
      },
      "cell_type": "markdown",
      "source": [
        "# Remoção de outliers"
      ]
    },
    {
      "metadata": {
        "id": "Wq-zwru2EfzI",
        "colab_type": "text"
      },
      "cell_type": "markdown",
      "source": [
        "Univariado - Tukey: Remover outliers baseando-se nas notas"
      ]
    },
    {
      "metadata": {
        "id": "cenoKRKP_zQ2",
        "colab_type": "code",
        "outputId": "415bfb89-168b-4eab-d5a8-f804531f7133",
        "colab": {
          "base_uri": "https://localhost:8080/",
          "height": 286
        }
      },
      "cell_type": "code",
      "source": [
        "dataset_imput['Rating'].hist()"
      ],
      "execution_count": 49,
      "outputs": [
        {
          "output_type": "execute_result",
          "data": {
            "text/plain": [
              "<matplotlib.axes._subplots.AxesSubplot at 0x7f6ba51ff2e8>"
            ]
          },
          "metadata": {
            "tags": []
          },
          "execution_count": 49
        },
        {
          "output_type": "display_data",
          "data": {
            "image/png": "[encoded data removed]",
            "text/plain": [
              "<Figure size 432x288 with 1 Axes>"
            ]
          },
          "metadata": {
            "tags": []
          }
        }
      ]
    },
    {
      "metadata": {
        "id": "nAKAdF4bFCZT",
        "colab_type": "code",
        "outputId": "35fb80ed-07f2-4965-9f61-3061aab91b63",
        "colab": {
          "base_uri": "https://localhost:8080/",
          "height": 170
        }
      },
      "cell_type": "code",
      "source": [
        "dataset_imput['RatingLog'] = np.log2(dataset_imput['Rating'])\n",
        "dataset_imput['RatingLog'].describe()"
      ],
      "execution_count": 50,
      "outputs": [
        {
          "output_type": "execute_result",
          "data": {
            "text/plain": [
              "count    9659.000000\n",
              "mean        2.042980\n",
              "std         0.233504\n",
              "min         0.000000\n",
              "25%         1.995683\n",
              "50%         2.104337\n",
              "75%         2.169925\n",
              "max         2.321928\n",
              "Name: RatingLog, dtype: float64"
            ]
          },
          "metadata": {
            "tags": []
          },
          "execution_count": 50
        }
      ]
    },
    {
      "metadata": {
        "id": "AwbgXvaV9UjG",
        "colab_type": "code",
        "outputId": "3b98799c-3941-4546-e74e-a191b093f2e4",
        "colab": {
          "base_uri": "https://localhost:8080/",
          "height": 286
        }
      },
      "cell_type": "code",
      "source": [
        "dataset_imput['RatingLog'].hist()"
      ],
      "execution_count": 51,
      "outputs": [
        {
          "output_type": "execute_result",
          "data": {
            "text/plain": [
              "<matplotlib.axes._subplots.AxesSubplot at 0x7f6b7acc0c50>"
            ]
          },
          "metadata": {
            "tags": []
          },
          "execution_count": 51
        },
        {
          "output_type": "display_data",
          "data": {
            "image/png": "[encoded data removed]",
            "text/plain": [
              "<Figure size 432x288 with 1 Axes>"
            ]
          },
          "metadata": {
            "tags": []
          }
        }
      ]
    },
    {
      "metadata": {
        "id": "eJN9C5AcG7Ch",
        "colab_type": "code",
        "outputId": "2db4d1ae-e774-4496-95bd-3f489ba2c8b5",
        "colab": {
          "base_uri": "https://localhost:8080/",
          "height": 34
        }
      },
      "cell_type": "code",
      "source": [
        "q1 = dataset_imput['RatingLog'].quantile(q=0.25)\n",
        "q3 = dataset_imput['RatingLog'].quantile(q=0.75)\n",
        "iqr = q3 - q1\n",
        "dataset_imput2 = dataset_imput[(dataset_imput['RatingLog'] > (q1-1.5*iqr)) & (dataset_imput['RatingLog'] < (q3+1.5*iqr))]\n",
        "print(len(dataset_imput2))"
      ],
      "execution_count": 52,
      "outputs": [
        {
          "output_type": "stream",
          "text": [
            "8910\n"
          ],
          "name": "stdout"
        }
      ]
    },
    {
      "metadata": {
        "id": "WJ4kYe0A-P9F",
        "colab_type": "text"
      },
      "cell_type": "markdown",
      "source": [
        "Univariado - Tukey e Z-Score para remoção baseando-se na coluna de preço"
      ]
    },
    {
      "metadata": {
        "id": "ZTnZ_FuA7_4h",
        "colab_type": "code",
        "colab": {
          "base_uri": "https://localhost:8080/",
          "height": 286
        },
        "outputId": "490c590f-e48f-4b21-840c-47219d7272b2"
      },
      "cell_type": "code",
      "source": [
        "dataset_imput['PriceSqrt'] = np.sqrt(dataset_imput['Price'])\n",
        "dataset_imput['PriceSqrt'].hist()"
      ],
      "execution_count": 54,
      "outputs": [
        {
          "output_type": "execute_result",
          "data": {
            "text/plain": [
              "<matplotlib.axes._subplots.AxesSubplot at 0x7f6b7abd7748>"
            ]
          },
          "metadata": {
            "tags": []
          },
          "execution_count": 54
        },
        {
          "output_type": "display_data",
          "data": {
            "image/png": "[encoded data removed]",
            "text/plain": [
              "<Figure size 432x288 with 1 Axes>"
            ]
          },
          "metadata": {
            "tags": []
          }
        }
      ]
    },
    {
      "metadata": {
        "id": "xZtS5x6X8jCO",
        "colab_type": "code",
        "colab": {
          "base_uri": "https://localhost:8080/",
          "height": 170
        },
        "outputId": "cefeedf8-9743-4ca8-a856-625e7df1bec8"
      },
      "cell_type": "code",
      "source": [
        "dataset_imput['PriceSqrt'].describe()"
      ],
      "execution_count": 55,
      "outputs": [
        {
          "output_type": "execute_result",
          "data": {
            "text/plain": [
              "count    9659.000000\n",
              "mean        0.184262\n",
              "std         1.031207\n",
              "min         0.000000\n",
              "25%         0.000000\n",
              "50%         0.000000\n",
              "75%         0.000000\n",
              "max        20.000000\n",
              "Name: PriceSqrt, dtype: float64"
            ]
          },
          "metadata": {
            "tags": []
          },
          "execution_count": 55
        }
      ]
    },
    {
      "metadata": {
        "id": "W9KwMApu8Q_u",
        "colab_type": "code",
        "colab": {
          "base_uri": "https://localhost:8080/",
          "height": 34
        },
        "outputId": "adf0fdff-21fe-4e92-be4d-716be63b9363"
      },
      "cell_type": "code",
      "source": [
        "q1 = dataset_imput['PriceSqrt'].quantile(q=0.25)\n",
        "q3 = dataset_imput['PriceSqrt'].quantile(q=0.75)\n",
        "iqr = q3 - q1\n",
        "dataset_imput3 = dataset_imput[(dataset_imput['PriceSqrt'] > (q1-1.5*iqr)) & (dataset_imput['PriceSqrt'] < (q3+1.5*iqr))]\n",
        "print(len(dataset_imput3))"
      ],
      "execution_count": 56,
      "outputs": [
        {
          "output_type": "stream",
          "text": [
            "0\n"
          ],
          "name": "stdout"
        }
      ]
    },
    {
      "metadata": {
        "id": "9y5EUy949FC1",
        "colab_type": "code",
        "colab": {
          "base_uri": "https://localhost:8080/",
          "height": 34
        },
        "outputId": "695bf573-b975-4d2d-a9bc-20064c8bf53d"
      },
      "cell_type": "code",
      "source": [
        "mad = dataset_imput['PriceSqrt'].mad()\n",
        "dataset_imput3 = dataset_imput[abs(dataset_imput['PriceSqrt']-dataset_imput['PriceSqrt'].median())/mad < 3.5]\n",
        "print(len(dataset_imput3))"
      ],
      "execution_count": 65,
      "outputs": [
        {
          "output_type": "stream",
          "text": [
            "9057\n"
          ],
          "name": "stdout"
        }
      ]
    },
    {
      "metadata": {
        "id": "T6UIhlfG6xvC",
        "colab_type": "text"
      },
      "cell_type": "markdown",
      "source": [
        "Bivariado: Z-score robusto. Será usada a razão de preço pela nota (colunas Price e Rating)"
      ]
    },
    {
      "metadata": {
        "id": "WgzudlLIK9F1",
        "colab_type": "code",
        "outputId": "c677d12f-69a1-4f88-8cda-456177ba7c86",
        "colab": {
          "base_uri": "https://localhost:8080/",
          "height": 300
        }
      },
      "cell_type": "code",
      "source": [
        "dataset_imput.plot.scatter(x='Rating',y='Price')"
      ],
      "execution_count": 53,
      "outputs": [
        {
          "output_type": "execute_result",
          "data": {
            "text/plain": [
              "<matplotlib.axes._subplots.AxesSubplot at 0x7f6b7acafa90>"
            ]
          },
          "metadata": {
            "tags": []
          },
          "execution_count": 53
        },
        {
          "output_type": "display_data",
          "data": {
            "image/png": "[encoded data removed]",
            "text/plain": [
              "<Figure size 432x288 with 1 Axes>"
            ]
          },
          "metadata": {
            "tags": []
          }
        }
      ]
    },
    {
      "metadata": {
        "id": "rovyoypIghOG",
        "colab_type": "code",
        "outputId": "519a78e2-1651-41dd-e7e2-d0da2d21a50e",
        "colab": {
          "base_uri": "https://localhost:8080/",
          "height": 286
        }
      },
      "cell_type": "code",
      "source": [
        "dataset_imput['PriceRating'] = dataset_imput['Price']/dataset_imput['Rating']\n",
        "dataset_imput['PriceRating'].hist()"
      ],
      "execution_count": 68,
      "outputs": [
        {
          "output_type": "execute_result",
          "data": {
            "text/plain": [
              "<matplotlib.axes._subplots.AxesSubplot at 0x7f6b798170b8>"
            ]
          },
          "metadata": {
            "tags": []
          },
          "execution_count": 68
        },
        {
          "output_type": "display_data",
          "data": {
            "image/png": "[encoded data removed]",
            "text/plain": [
              "<Figure size 432x288 with 1 Axes>"
            ]
          },
          "metadata": {
            "tags": []
          }
        }
      ]
    },
    {
      "metadata": {
        "id": "GFoaQ--p_-WH",
        "colab_type": "code",
        "colab": {
          "base_uri": "https://localhost:8080/",
          "height": 170
        },
        "outputId": "caa19499-ddf2-431f-e98f-1fd0829dbd0e"
      },
      "cell_type": "code",
      "source": [
        "dataset_imput['PriceRatingSqrt'] = np.sqrt(dataset_imput['PriceRating'])\n",
        "dataset_imput['PriceRatingSqrt'].describe()"
      ],
      "execution_count": 66,
      "outputs": [
        {
          "output_type": "execute_result",
          "data": {
            "text/plain": [
              "count    9659.000000\n",
              "mean        0.091141\n",
              "std         0.519079\n",
              "min         0.000000\n",
              "25%         0.000000\n",
              "50%         0.000000\n",
              "75%         0.000000\n",
              "max        11.446879\n",
              "Name: PriceRatingSqrt, dtype: float64"
            ]
          },
          "metadata": {
            "tags": []
          },
          "execution_count": 66
        }
      ]
    },
    {
      "metadata": {
        "id": "yDvSdMmxASNH",
        "colab_type": "code",
        "colab": {
          "base_uri": "https://localhost:8080/",
          "height": 286
        },
        "outputId": "7bee2482-ca78-488e-e0aa-7fbb3dd248fa"
      },
      "cell_type": "code",
      "source": [
        "dataset_imput['PriceRatingSqrt'].hist()"
      ],
      "execution_count": 70,
      "outputs": [
        {
          "output_type": "execute_result",
          "data": {
            "text/plain": [
              "<matplotlib.axes._subplots.AxesSubplot at 0x7f6b7975bcf8>"
            ]
          },
          "metadata": {
            "tags": []
          },
          "execution_count": 70
        },
        {
          "output_type": "display_data",
          "data": {
            "image/png": "[encoded data removed]",
            "text/plain": [
              "<Figure size 432x288 with 1 Axes>"
            ]
          },
          "metadata": {
            "tags": []
          }
        }
      ]
    },
    {
      "metadata": {
        "id": "T6eI8PzCg-Zt",
        "colab_type": "code",
        "colab": {
          "base_uri": "https://localhost:8080/",
          "height": 34
        },
        "outputId": "377e3388-14ab-4285-99c9-ca7aef9b11d2"
      },
      "cell_type": "code",
      "source": [
        "mad = dataset_imput['PriceRatingSqrt'].mad()\n",
        "dataset_imput4 = dataset_imput[abs(dataset_imput['PriceRatingSqrt']-dataset_imput['PriceRatingSqrt'].median())/mad < 3.5]\n",
        "print(len(dataset_imput4))"
      ],
      "execution_count": 71,
      "outputs": [
        {
          "output_type": "stream",
          "text": [
            "9077\n"
          ],
          "name": "stdout"
        }
      ]
    },
    {
      "metadata": {
        "id": "A_tGCaU8Bu0o",
        "colab_type": "text"
      },
      "cell_type": "markdown",
      "source": [
        "Multivariado - Isolation Forest"
      ]
    },
    {
      "metadata": {
        "id": "sZRf5L9D_eI5",
        "colab_type": "code",
        "colab": {
          "base_uri": "https://localhost:8080/",
          "height": 173
        },
        "outputId": "e33212a2-71b5-4219-8092-04d09114ec74"
      },
      "cell_type": "code",
      "source": [
        "from sklearn.ensemble import IsolationForest\n",
        "rng = np.random.RandomState(42)\n",
        "clf = IsolationForest(max_samples=100, random_state=rng)\n",
        "dtset = dataset_imput[['Category','Rating','Type','Price','Installs','Reviews','Size','Content Rating','Current Ver','Android Ver']]\n",
        "clf.fit(dtset)\n",
        "\n",
        "#scores = clf.predict(dataset_imput)"
      ],
      "execution_count": 72,
      "outputs": [
        {
          "output_type": "stream",
          "text": [
            "/usr/local/lib/python3.6/dist-packages/sklearn/ensemble/iforest.py:213: FutureWarning: default contamination parameter 0.1 will change in version 0.22 to \"auto\". This will change the predict method behavior.\n",
            "  FutureWarning)\n",
            "/usr/local/lib/python3.6/dist-packages/sklearn/ensemble/iforest.py:223: FutureWarning: behaviour=\"old\" is deprecated and will be removed in version 0.22. Please use behaviour=\"new\", which makes the decision_function change to match other anomaly detection algorithm API.\n",
            "  FutureWarning)\n"
          ],
          "name": "stderr"
        },
        {
          "output_type": "execute_result",
          "data": {
            "text/plain": [
              "IsolationForest(behaviour='old', bootstrap=False, contamination='legacy',\n",
              "        max_features=1.0, max_samples=100, n_estimators=100, n_jobs=None,\n",
              "        random_state=<mtrand.RandomState object at 0x7f6b78bcd948>,\n",
              "        verbose=0)"
            ]
          },
          "metadata": {
            "tags": []
          },
          "execution_count": 72
        }
      ]
    },
    {
      "metadata": {
        "id": "jbVSM3KAEjFn",
        "colab_type": "code",
        "colab": {
          "base_uri": "https://localhost:8080/",
          "height": 326
        },
        "outputId": "2f6b0b59-651d-4857-d4a0-5a2540fccbde"
      },
      "cell_type": "code",
      "source": [
        "scores = clf.predict(dtset)\n",
        "dtset['outlier'] = scores\n",
        "dtset.outlier.describe()"
      ],
      "execution_count": 73,
      "outputs": [
        {
          "output_type": "stream",
          "text": [
            "/usr/local/lib/python3.6/dist-packages/sklearn/ensemble/iforest.py:417: DeprecationWarning: threshold_ attribute is deprecated in 0.20 and will be removed in 0.22.\n",
            "  \" be removed in 0.22.\", DeprecationWarning)\n",
            "/usr/local/lib/python3.6/dist-packages/ipykernel_launcher.py:2: SettingWithCopyWarning: \n",
            "A value is trying to be set on a copy of a slice from a DataFrame.\n",
            "Try using .loc[row_indexer,col_indexer] = value instead\n",
            "\n",
            "See the caveats in the documentation: http://pandas.pydata.org/pandas-docs/stable/indexing.html#indexing-view-versus-copy\n",
            "  \n"
          ],
          "name": "stderr"
        },
        {
          "output_type": "execute_result",
          "data": {
            "text/plain": [
              "count    9659.000000\n",
              "mean        0.799979\n",
              "std         0.600059\n",
              "min        -1.000000\n",
              "25%         1.000000\n",
              "50%         1.000000\n",
              "75%         1.000000\n",
              "max         1.000000\n",
              "Name: outlier, dtype: float64"
            ]
          },
          "metadata": {
            "tags": []
          },
          "execution_count": 73
        }
      ]
    },
    {
      "metadata": {
        "id": "MX4cdGRvEx7J",
        "colab_type": "code",
        "colab": {
          "base_uri": "https://localhost:8080/",
          "height": 34
        },
        "outputId": "857026a7-84ec-4ee2-ecaa-26f99a0c7e14"
      },
      "cell_type": "code",
      "source": [
        "len(dtset[dtset['outlier']!=1])"
      ],
      "execution_count": 75,
      "outputs": [
        {
          "output_type": "execute_result",
          "data": {
            "text/plain": [
              "966"
            ]
          },
          "metadata": {
            "tags": []
          },
          "execution_count": 75
        }
      ]
    },
    {
      "metadata": {
        "id": "svmx6MywGw5h",
        "colab_type": "text"
      },
      "cell_type": "markdown",
      "source": [
        "# Testes de hipótese e visualizações\n"
      ]
    },
    {
      "metadata": {
        "id": "oeWJ5gc_E-Pt",
        "colab_type": "code",
        "colab": {}
      },
      "cell_type": "code",
      "source": [
        "from scipy import stats\n",
        "import matplotlib.pyplot as plt\n",
        "import seaborn as sns"
      ],
      "execution_count": 0,
      "outputs": []
    },
    {
      "metadata": {
        "id": "tTzpDpNKHJO6",
        "colab_type": "text"
      },
      "cell_type": "markdown",
      "source": [
        "1) Há diferença entre a quantidade de resenhas de aplicativos pagos e gratuitos (relação entre as colunas Reviews e Type)"
      ]
    },
    {
      "metadata": {
        "id": "rFOH6UhyHmkp",
        "colab_type": "code",
        "colab": {
          "base_uri": "https://localhost:8080/",
          "height": 34
        },
        "outputId": "5d6e1769-bcbd-4d4b-b870-ae4d42cdee80"
      },
      "cell_type": "code",
      "source": [
        "len(dataset_imput4[dataset_imput4['Type']==0])"
      ],
      "execution_count": 99,
      "outputs": [
        {
          "output_type": "execute_result",
          "data": {
            "text/plain": [
              "8905"
            ]
          },
          "metadata": {
            "tags": []
          },
          "execution_count": 99
        }
      ]
    },
    {
      "metadata": {
        "id": "l6IuWD-XIxqh",
        "colab_type": "code",
        "colab": {
          "base_uri": "https://localhost:8080/",
          "height": 119
        },
        "outputId": "a8fac13a-d772-46c3-cb53-cb2ea98a53a1"
      },
      "cell_type": "code",
      "source": [
        "dataset_imput4.Price.head()"
      ],
      "execution_count": 86,
      "outputs": [
        {
          "output_type": "execute_result",
          "data": {
            "text/plain": [
              "0    0.0\n",
              "1    0.0\n",
              "2    0.0\n",
              "3    0.0\n",
              "4    0.0\n",
              "Name: Price, dtype: float64"
            ]
          },
          "metadata": {
            "tags": []
          },
          "execution_count": 86
        }
      ]
    },
    {
      "metadata": {
        "id": "o5QYaA_tHDOX",
        "colab_type": "code",
        "colab": {
          "base_uri": "https://localhost:8080/",
          "height": 286
        },
        "outputId": "0755ac33-813e-4aa9-9199-1dfb6cd2e221"
      },
      "cell_type": "code",
      "source": [
        "reviews_freeapps = dataset_imput4[dataset_imput4['Type']==0]['ReviewsNorm']\n",
        "reviews_paidapps = dataset_imput4[dataset_imput4['Type']==1]['ReviewsNorm']\n",
        "\n",
        "sns.boxplot(data=[reviews_freeapps,reviews_paidapps])"
      ],
      "execution_count": 81,
      "outputs": [
        {
          "output_type": "execute_result",
          "data": {
            "text/plain": [
              "<matplotlib.axes._subplots.AxesSubplot at 0x7f6b77a94630>"
            ]
          },
          "metadata": {
            "tags": []
          },
          "execution_count": 81
        },
        {
          "output_type": "display_data",
          "data": {
            "image/png": "[encoded data removed]",
            "text/plain": [
              "<Figure size 432x288 with 1 Axes>"
            ]
          },
          "metadata": {
            "tags": []
          }
        }
      ]
    },
    {
      "metadata": {
        "id": "gQKf33yaIIxE",
        "colab_type": "code",
        "colab": {
          "base_uri": "https://localhost:8080/",
          "height": 34
        },
        "outputId": "08ec77f1-5423-4346-83cf-60d794415c03"
      },
      "cell_type": "code",
      "source": [
        "stats.mannwhitneyu(reviews_freeapps,reviews_paidapps)"
      ],
      "execution_count": 82,
      "outputs": [
        {
          "output_type": "execute_result",
          "data": {
            "text/plain": [
              "MannwhitneyuResult(statistic=415493.5, pvalue=3.7767433050318977e-25)"
            ]
          },
          "metadata": {
            "tags": []
          },
          "execution_count": 82
        }
      ]
    },
    {
      "metadata": {
        "id": "Womebco6IP1P",
        "colab_type": "code",
        "colab": {
          "base_uri": "https://localhost:8080/",
          "height": 286
        },
        "outputId": "40694154-4963-452f-e888-d5091186f21d"
      },
      "cell_type": "code",
      "source": [
        "reviews_freeapps.hist()"
      ],
      "execution_count": 83,
      "outputs": [
        {
          "output_type": "execute_result",
          "data": {
            "text/plain": [
              "<matplotlib.axes._subplots.AxesSubplot at 0x7f6b77bd7ac8>"
            ]
          },
          "metadata": {
            "tags": []
          },
          "execution_count": 83
        },
        {
          "output_type": "display_data",
          "data": {
            "image/png": "[encoded data removed]",
            "text/plain": [
              "<Figure size 432x288 with 1 Axes>"
            ]
          },
          "metadata": {
            "tags": []
          }
        }
      ]
    },
    {
      "metadata": {
        "id": "0F1LMkrcMAC4",
        "colab_type": "code",
        "colab": {
          "base_uri": "https://localhost:8080/",
          "height": 300
        },
        "outputId": "fe60db33-073d-4542-fae9-31ac6777e238"
      },
      "cell_type": "code",
      "source": [
        "sns.distplot(reviews_freeapps)"
      ],
      "execution_count": 98,
      "outputs": [
        {
          "output_type": "execute_result",
          "data": {
            "text/plain": [
              "<matplotlib.axes._subplots.AxesSubplot at 0x7f6b778dc898>"
            ]
          },
          "metadata": {
            "tags": []
          },
          "execution_count": 98
        },
        {
          "output_type": "display_data",
          "data": {
            "image/png": "[encoded data removed]",
            "text/plain": [
              "<Figure size 432x288 with 1 Axes>"
            ]
          },
          "metadata": {
            "tags": []
          }
        }
      ]
    },
    {
      "metadata": {
        "id": "3L-EkZECImz6",
        "colab_type": "code",
        "colab": {
          "base_uri": "https://localhost:8080/",
          "height": 286
        },
        "outputId": "787c2e80-ea9f-4f30-d110-9e3ae9e93739"
      },
      "cell_type": "code",
      "source": [
        "reviews_paidapps.hist()"
      ],
      "execution_count": 84,
      "outputs": [
        {
          "output_type": "execute_result",
          "data": {
            "text/plain": [
              "<matplotlib.axes._subplots.AxesSubplot at 0x7f6b779edd30>"
            ]
          },
          "metadata": {
            "tags": []
          },
          "execution_count": 84
        },
        {
          "output_type": "display_data",
          "data": {
            "image/png": "[encoded data removed]",
            "text/plain": [
              "<Figure size 432x288 with 1 Axes>"
            ]
          },
          "metadata": {
            "tags": []
          }
        }
      ]
    },
    {
      "metadata": {
        "id": "jJbn7VtQLkEP",
        "colab_type": "code",
        "colab": {
          "base_uri": "https://localhost:8080/",
          "height": 300
        },
        "outputId": "3b48c2ec-4fc1-4d8d-c816-9af3872560d4"
      },
      "cell_type": "code",
      "source": [
        "sns.distplot(reviews_paidapps)"
      ],
      "execution_count": 97,
      "outputs": [
        {
          "output_type": "execute_result",
          "data": {
            "text/plain": [
              "<matplotlib.axes._subplots.AxesSubplot at 0x7f6b77742ba8>"
            ]
          },
          "metadata": {
            "tags": []
          },
          "execution_count": 97
        },
        {
          "output_type": "display_data",
          "data": {
            "image/png": "[encoded data removed]",
            "text/plain": [
              "<Figure size 432x288 with 1 Axes>"
            ]
          },
          "metadata": {
            "tags": []
          }
        }
      ]
    },
    {
      "metadata": {
        "id": "siqSSXGHIpv2",
        "colab_type": "code",
        "colab": {
          "base_uri": "https://localhost:8080/",
          "height": 170
        },
        "outputId": "271457dc-7127-489f-877e-c766f3ba6866"
      },
      "cell_type": "code",
      "source": [
        "reviews_freeapps.describe()"
      ],
      "execution_count": 88,
      "outputs": [
        {
          "output_type": "execute_result",
          "data": {
            "text/plain": [
              "count    8.905000e+03\n",
              "mean     2.998339e-03\n",
              "std      2.438884e-02\n",
              "min      0.000000e+00\n",
              "25%      3.711848e-07\n",
              "50%      1.752248e-05\n",
              "75%      4.501831e-04\n",
              "max      1.000000e+00\n",
              "Name: ReviewsNorm, dtype: float64"
            ]
          },
          "metadata": {
            "tags": []
          },
          "execution_count": 88
        }
      ]
    },
    {
      "metadata": {
        "id": "4dV88JrcJChx",
        "colab_type": "code",
        "colab": {
          "base_uri": "https://localhost:8080/",
          "height": 170
        },
        "outputId": "18c7a32c-cb01-4b8f-963e-a10385c53f0b"
      },
      "cell_type": "code",
      "source": [
        "reviews_paidapps.describe()"
      ],
      "execution_count": 89,
      "outputs": [
        {
          "output_type": "execute_result",
          "data": {
            "text/plain": [
              "count    1.720000e+02\n",
              "mean     7.202897e-05\n",
              "std      4.268417e-04\n",
              "min      0.000000e+00\n",
              "25%      3.839842e-08\n",
              "50%      2.623892e-07\n",
              "75%      2.947079e-06\n",
              "max      5.225923e-03\n",
              "Name: ReviewsNorm, dtype: float64"
            ]
          },
          "metadata": {
            "tags": []
          },
          "execution_count": 89
        }
      ]
    },
    {
      "metadata": {
        "id": "pT0c0lJ_Miuj",
        "colab_type": "text"
      },
      "cell_type": "markdown",
      "source": [
        "2) Há diferenças nas notas dadas pelos aplicativos gratuitos e pelos pagos"
      ]
    },
    {
      "metadata": {
        "id": "v6whNES5JKor",
        "colab_type": "code",
        "colab": {
          "base_uri": "https://localhost:8080/",
          "height": 286
        },
        "outputId": "24d2884c-0fc4-4a20-cb37-8157059dbf08"
      },
      "cell_type": "code",
      "source": [
        "rating_freeapps = dataset_imput4[dataset_imput4['Type']==0]['Rating']\n",
        "rating_paidapps = dataset_imput4[dataset_imput4['Type']==1]['Rating']\n",
        "\n",
        "sns.boxplot(data=[rating_paidapps,rating_freeapps])"
      ],
      "execution_count": 105,
      "outputs": [
        {
          "output_type": "execute_result",
          "data": {
            "text/plain": [
              "<matplotlib.axes._subplots.AxesSubplot at 0x7f6b77390630>"
            ]
          },
          "metadata": {
            "tags": []
          },
          "execution_count": 105
        },
        {
          "output_type": "display_data",
          "data": {
            "image/png": "[encoded data removed]",
            "text/plain": [
              "<Figure size 432x288 with 1 Axes>"
            ]
          },
          "metadata": {
            "tags": []
          }
        }
      ]
    },
    {
      "metadata": {
        "id": "XlwVd7oUJtf9",
        "colab_type": "code",
        "colab": {
          "base_uri": "https://localhost:8080/",
          "height": 34
        },
        "outputId": "a5a75455-e52c-4ace-9b86-10b8e848342d"
      },
      "cell_type": "code",
      "source": [
        "stats.mannwhitneyu(rating_freeapps,rating_paidapps)"
      ],
      "execution_count": 103,
      "outputs": [
        {
          "output_type": "execute_result",
          "data": {
            "text/plain": [
              "MannwhitneyuResult(statistic=606094.5, pvalue=1.2891677657592525e-06)"
            ]
          },
          "metadata": {
            "tags": []
          },
          "execution_count": 103
        }
      ]
    },
    {
      "metadata": {
        "id": "XddKtigEJ_m2",
        "colab_type": "code",
        "colab": {
          "base_uri": "https://localhost:8080/",
          "height": 170
        },
        "outputId": "e973c3c0-b0f0-43e8-f4e3-a7cde0ea4098"
      },
      "cell_type": "code",
      "source": [
        "dataset.Category.describe()"
      ],
      "execution_count": 106,
      "outputs": [
        {
          "output_type": "execute_result",
          "data": {
            "text/plain": [
              "count    9659.000000\n",
              "mean       16.771198\n",
              "std         8.395104\n",
              "min         0.000000\n",
              "25%        11.000000\n",
              "50%        14.000000\n",
              "75%        25.000000\n",
              "max        32.000000\n",
              "Name: Category, dtype: float64"
            ]
          },
          "metadata": {
            "tags": []
          },
          "execution_count": 106
        }
      ]
    },
    {
      "metadata": {
        "id": "-kM0aLIXNzmQ",
        "colab_type": "text"
      },
      "cell_type": "markdown",
      "source": [
        "3) Aplicativos de classificação indicativa livre possui mais resenhas do que aplicativos para público adolescente"
      ]
    },
    {
      "metadata": {
        "id": "PZG2j4vfNico",
        "colab_type": "code",
        "colab": {
          "base_uri": "https://localhost:8080/",
          "height": 286
        },
        "outputId": "6a77ce54-aa2c-4ab9-abb0-61c56b2521fd"
      },
      "cell_type": "code",
      "source": [
        "everyone_reviews = dataset_imput4[dataset_imput4['Content Rating']==0]['ReviewsNorm']\n",
        "teen_reviews = dataset_imput4[dataset_imput4['Content Rating']==1]['ReviewsNorm']\n",
        "\n",
        "sns.boxplot(data=[teen_reviews,everyone_reviews])"
      ],
      "execution_count": 107,
      "outputs": [
        {
          "output_type": "execute_result",
          "data": {
            "text/plain": [
              "<matplotlib.axes._subplots.AxesSubplot at 0x7f6b7735f550>"
            ]
          },
          "metadata": {
            "tags": []
          },
          "execution_count": 107
        },
        {
          "output_type": "display_data",
          "data": {
            "image/png": "[encoded data removed]",
            "text/plain": [
              "<Figure size 432x288 with 1 Axes>"
            ]
          },
          "metadata": {
            "tags": []
          }
        }
      ]
    },
    {
      "metadata": {
        "id": "nFH7snlWOPU0",
        "colab_type": "code",
        "colab": {
          "base_uri": "https://localhost:8080/",
          "height": 300
        },
        "outputId": "114a3d30-6b8a-4526-8c91-b5e1e93e1c17"
      },
      "cell_type": "code",
      "source": [
        "sns.distplot(everyone_reviews)"
      ],
      "execution_count": 108,
      "outputs": [
        {
          "output_type": "execute_result",
          "data": {
            "text/plain": [
              "<matplotlib.axes._subplots.AxesSubplot at 0x7f6b774b3860>"
            ]
          },
          "metadata": {
            "tags": []
          },
          "execution_count": 108
        },
        {
          "output_type": "display_data",
          "data": {
            "image/png": "[encoded data removed]",
            "text/plain": [
              "<Figure size 432x288 with 1 Axes>"
            ]
          },
          "metadata": {
            "tags": []
          }
        }
      ]
    },
    {
      "metadata": {
        "id": "eCVDEbQUOR6k",
        "colab_type": "code",
        "colab": {
          "base_uri": "https://localhost:8080/",
          "height": 300
        },
        "outputId": "f6cdfec2-4a7f-4c78-d81f-34d71831adeb"
      },
      "cell_type": "code",
      "source": [
        "sns.distplot(teen_reviews)"
      ],
      "execution_count": 109,
      "outputs": [
        {
          "output_type": "execute_result",
          "data": {
            "text/plain": [
              "<matplotlib.axes._subplots.AxesSubplot at 0x7f6b77375160>"
            ]
          },
          "metadata": {
            "tags": []
          },
          "execution_count": 109
        },
        {
          "output_type": "display_data",
          "data": {
            "image/png": "[encoded data removed]",
            "text/plain": [
              "<Figure size 432x288 with 1 Axes>"
            ]
          },
          "metadata": {
            "tags": []
          }
        }
      ]
    },
    {
      "metadata": {
        "id": "NfNgTnumOU4C",
        "colab_type": "code",
        "colab": {
          "base_uri": "https://localhost:8080/",
          "height": 34
        },
        "outputId": "5e64ffd7-c1ad-4b3b-f4f8-813560284c89"
      },
      "cell_type": "code",
      "source": [
        "stats.mannwhitneyu(teen_reviews,everyone_reviews)"
      ],
      "execution_count": 110,
      "outputs": [
        {
          "output_type": "execute_result",
          "data": {
            "text/plain": [
              "MannwhitneyuResult(statistic=5747.0, pvalue=0.0739950882947738)"
            ]
          },
          "metadata": {
            "tags": []
          },
          "execution_count": 110
        }
      ]
    },
    {
      "metadata": {
        "id": "Y_kF5n5lPv6i",
        "colab_type": "code",
        "colab": {
          "base_uri": "https://localhost:8080/",
          "height": 170
        },
        "outputId": "99718a78-6b6f-41cd-86f8-0c481e778078"
      },
      "cell_type": "code",
      "source": [
        "everyone_reviews.describe()"
      ],
      "execution_count": 111,
      "outputs": [
        {
          "output_type": "execute_result",
          "data": {
            "text/plain": [
              "count    3.000000\n",
              "mean     0.000347\n",
              "std      0.000275\n",
              "min      0.000094\n",
              "25%      0.000201\n",
              "50%      0.000307\n",
              "75%      0.000474\n",
              "max      0.000640\n",
              "Name: ReviewsNorm, dtype: float64"
            ]
          },
          "metadata": {
            "tags": []
          },
          "execution_count": 111
        }
      ]
    },
    {
      "metadata": {
        "id": "PpNNWI7SP4GK",
        "colab_type": "code",
        "colab": {
          "base_uri": "https://localhost:8080/",
          "height": 170
        },
        "outputId": "820a6e50-99fb-490d-bfce-e4e78a5c458f"
      },
      "cell_type": "code",
      "source": [
        "teen_reviews.describe()"
      ],
      "execution_count": 112,
      "outputs": [
        {
          "output_type": "execute_result",
          "data": {
            "text/plain": [
              "count    7.401000e+03\n",
              "mean     2.246445e-03\n",
              "std      1.861060e-02\n",
              "min      0.000000e+00\n",
              "25%      2.687890e-07\n",
              "50%      8.806038e-06\n",
              "75%      3.097217e-04\n",
              "max      8.845675e-01\n",
              "Name: ReviewsNorm, dtype: float64"
            ]
          },
          "metadata": {
            "tags": []
          },
          "execution_count": 112
        }
      ]
    },
    {
      "metadata": {
        "id": "-Hri30ANP6T8",
        "colab_type": "code",
        "colab": {}
      },
      "cell_type": "code",
      "source": [
        ""
      ],
      "execution_count": 0,
      "outputs": []
    }
  ]
}