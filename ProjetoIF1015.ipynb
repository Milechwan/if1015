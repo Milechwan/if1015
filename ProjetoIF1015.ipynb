{
  "nbformat": 4,
  "nbformat_minor": 0,
  "metadata": {
    "colab": {
      "name": "ProjetoIF1015.ipynb",
      "version": "0.3.2",
      "provenance": [],
      "collapsed_sections": [],
      "include_colab_link": true
    },
    "language_info": {
      "codemirror_mode": {
        "name": "ipython",
        "version": 3
      },
      "file_extension": ".py",
      "mimetype": "text/x-python",
      "name": "python",
      "nbconvert_exporter": "python",
      "pygments_lexer": "ipython3",
      "version": "3.6.7"
    },
    "kernelspec": {
      "display_name": "Python 3",
      "language": "python",
      "name": "python3"
    }
  },
  "cells": [
    {
      "cell_type": "markdown",
      "metadata": {
        "id": "view-in-github",
        "colab_type": "text"
      },
      "source": [
        "<a href=\"https://colab.research.google.com/github/Milechwan/if1015/blob/master/ProjetoIF1015.ipynb\" target=\"_parent\"><img src=\"https://colab.research.google.com/assets/colab-badge.svg\" alt=\"Open In Colab\"/></a>"
      ]
    },
    {
      "metadata": {
        "id": "tJDwYKcHcpqf",
        "colab_type": "code",
        "colab": {}
      },
      "cell_type": "code",
      "source": [
        "import numpy as np\n",
        "import pandas as pd\n",
        "import io\n",
        "\n",
        "dataset = pd.read_csv(io.StringIO(uploaded['googleplaystore.csv'].decode(\"ISO-8859-1\")))"
      ],
      "execution_count": 0,
      "outputs": []
    },
    {
      "metadata": {
        "id": "uw4CPOkldeXu",
        "colab_type": "code",
        "outputId": "f047528f-89bf-49bb-fe69-5799b9e35c7a",
        "colab": {
          "resources": {
            "http://localhost:8080/nbextensions/google.colab/files.js": {
              "data": "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",
              "ok": true,
              "headers": [
                [
                  "content-type",
                  "application/javascript"
                ]
              ],
              "status": 200,
              "status_text": ""
            }
          },
          "base_uri": "https://localhost:8080/",
          "height": 74
        }
      },
      "cell_type": "code",
      "source": [
        "from google.colab import files\n",
        "uploaded = files.upload()"
      ],
      "execution_count": 2,
      "outputs": [
        {
          "output_type": "display_data",
          "data": {
            "text/html": [
              "\n",
              "     <input type=\"file\" id=\"files-4c2a2cc4-dbaa-4f4b-bf51-050b4f11f9db\" name=\"files[]\" multiple disabled />\n",
              "     <output id=\"result-4c2a2cc4-dbaa-4f4b-bf51-050b4f11f9db\">\n",
              "      Upload widget is only available when the cell has been executed in the\n",
              "      current browser session. Please rerun this cell to enable.\n",
              "      </output>\n",
              "      <script src=\"/nbextensions/google.colab/files.js\"></script> "
            ],
            "text/plain": [
              "<IPython.core.display.HTML object>"
            ]
          },
          "metadata": {
            "tags": []
          }
        },
        {
          "output_type": "stream",
          "text": [
            "Saving googleplaystore.csv to googleplaystore.csv\n"
          ],
          "name": "stdout"
        }
      ]
    },
    {
      "metadata": {
        "id": "dZjecn1qcpq0",
        "colab_type": "code",
        "outputId": "f7576cf9-a63e-474e-dfa8-82078e26712f",
        "colab": {}
      },
      "cell_type": "code",
      "source": [
        "dataset.head()"
      ],
      "execution_count": 0,
      "outputs": [
        {
          "output_type": "execute_result",
          "data": {
            "text/html": [
              "<div>\n",
              "<style scoped>\n",
              "    .dataframe tbody tr th:only-of-type {\n",
              "        vertical-align: middle;\n",
              "    }\n",
              "\n",
              "    .dataframe tbody tr th {\n",
              "        vertical-align: top;\n",
              "    }\n",
              "\n",
              "    .dataframe thead th {\n",
              "        text-align: right;\n",
              "    }\n",
              "</style>\n",
              "<table border=\"1\" class=\"dataframe\">\n",
              "  <thead>\n",
              "    <tr style=\"text-align: right;\">\n",
              "      <th></th>\n",
              "      <th>App</th>\n",
              "      <th>Category</th>\n",
              "      <th>Rating</th>\n",
              "      <th>Reviews</th>\n",
              "      <th>Size</th>\n",
              "      <th>Installs</th>\n",
              "      <th>Type</th>\n",
              "      <th>Price</th>\n",
              "      <th>Content Rating</th>\n",
              "      <th>Genres</th>\n",
              "      <th>Last Updated</th>\n",
              "      <th>Current Ver</th>\n",
              "      <th>Android Ver</th>\n",
              "    </tr>\n",
              "  </thead>\n",
              "  <tbody>\n",
              "    <tr>\n",
              "      <th>0</th>\n",
              "      <td>Photo Editor &amp; Candy Camera &amp; Grid &amp; ScrapBook</td>\n",
              "      <td>ART_AND_DESIGN</td>\n",
              "      <td>4.1</td>\n",
              "      <td>159</td>\n",
              "      <td>19M</td>\n",
              "      <td>10,000+</td>\n",
              "      <td>Free</td>\n",
              "      <td>0</td>\n",
              "      <td>Everyone</td>\n",
              "      <td>Art &amp; Design</td>\n",
              "      <td>January 7, 2018</td>\n",
              "      <td>1.0.0</td>\n",
              "      <td>4.0.3 and up</td>\n",
              "    </tr>\n",
              "    <tr>\n",
              "      <th>1</th>\n",
              "      <td>Coloring book moana</td>\n",
              "      <td>ART_AND_DESIGN</td>\n",
              "      <td>3.9</td>\n",
              "      <td>967</td>\n",
              "      <td>14M</td>\n",
              "      <td>500,000+</td>\n",
              "      <td>Free</td>\n",
              "      <td>0</td>\n",
              "      <td>Everyone</td>\n",
              "      <td>Art &amp; Design;Pretend Play</td>\n",
              "      <td>January 15, 2018</td>\n",
              "      <td>2.0.0</td>\n",
              "      <td>4.0.3 and up</td>\n",
              "    </tr>\n",
              "    <tr>\n",
              "      <th>2</th>\n",
              "      <td>U Launcher Lite â FREE Live Cool Themes, Hid...</td>\n",
              "      <td>ART_AND_DESIGN</td>\n",
              "      <td>4.7</td>\n",
              "      <td>87510</td>\n",
              "      <td>8.7M</td>\n",
              "      <td>5,000,000+</td>\n",
              "      <td>Free</td>\n",
              "      <td>0</td>\n",
              "      <td>Everyone</td>\n",
              "      <td>Art &amp; Design</td>\n",
              "      <td>August 1, 2018</td>\n",
              "      <td>1.2.4</td>\n",
              "      <td>4.0.3 and up</td>\n",
              "    </tr>\n",
              "    <tr>\n",
              "      <th>3</th>\n",
              "      <td>Sketch - Draw &amp; Paint</td>\n",
              "      <td>ART_AND_DESIGN</td>\n",
              "      <td>4.5</td>\n",
              "      <td>215644</td>\n",
              "      <td>25M</td>\n",
              "      <td>50,000,000+</td>\n",
              "      <td>Free</td>\n",
              "      <td>0</td>\n",
              "      <td>Teen</td>\n",
              "      <td>Art &amp; Design</td>\n",
              "      <td>June 8, 2018</td>\n",
              "      <td>Varies with device</td>\n",
              "      <td>4.2 and up</td>\n",
              "    </tr>\n",
              "    <tr>\n",
              "      <th>4</th>\n",
              "      <td>Pixel Draw - Number Art Coloring Book</td>\n",
              "      <td>ART_AND_DESIGN</td>\n",
              "      <td>4.3</td>\n",
              "      <td>967</td>\n",
              "      <td>2.8M</td>\n",
              "      <td>100,000+</td>\n",
              "      <td>Free</td>\n",
              "      <td>0</td>\n",
              "      <td>Everyone</td>\n",
              "      <td>Art &amp; Design;Creativity</td>\n",
              "      <td>June 20, 2018</td>\n",
              "      <td>1.1</td>\n",
              "      <td>4.4 and up</td>\n",
              "    </tr>\n",
              "  </tbody>\n",
              "</table>\n",
              "</div>"
            ],
            "text/plain": [
              "                                                 App        Category  Rating  \\\n",
              "0     Photo Editor & Candy Camera & Grid & ScrapBook  ART_AND_DESIGN     4.1   \n",
              "1                                Coloring book moana  ART_AND_DESIGN     3.9   \n",
              "2  U Launcher Lite â FREE Live Cool Themes, Hid...  ART_AND_DESIGN     4.7   \n",
              "3                              Sketch - Draw & Paint  ART_AND_DESIGN     4.5   \n",
              "4              Pixel Draw - Number Art Coloring Book  ART_AND_DESIGN     4.3   \n",
              "\n",
              "  Reviews  Size     Installs  Type Price Content Rating  \\\n",
              "0     159   19M      10,000+  Free     0       Everyone   \n",
              "1     967   14M     500,000+  Free     0       Everyone   \n",
              "2   87510  8.7M   5,000,000+  Free     0       Everyone   \n",
              "3  215644   25M  50,000,000+  Free     0           Teen   \n",
              "4     967  2.8M     100,000+  Free     0       Everyone   \n",
              "\n",
              "                      Genres      Last Updated         Current Ver  \\\n",
              "0               Art & Design   January 7, 2018               1.0.0   \n",
              "1  Art & Design;Pretend Play  January 15, 2018               2.0.0   \n",
              "2               Art & Design    August 1, 2018               1.2.4   \n",
              "3               Art & Design      June 8, 2018  Varies with device   \n",
              "4    Art & Design;Creativity     June 20, 2018                 1.1   \n",
              "\n",
              "    Android Ver  \n",
              "0  4.0.3 and up  \n",
              "1  4.0.3 and up  \n",
              "2  4.0.3 and up  \n",
              "3    4.2 and up  \n",
              "4    4.4 and up  "
            ]
          },
          "metadata": {
            "tags": []
          },
          "execution_count": 2
        }
      ]
    },
    {
      "metadata": {
        "id": "di6iv2yIcprF",
        "colab_type": "code",
        "colab": {
          "base_uri": "https://localhost:8080/",
          "height": 436
        },
        "outputId": "8c79d350-9063-4c6c-8e2b-f6e3d86c0d23"
      },
      "cell_type": "code",
      "source": [
        "#dataset[dataset['Reviews']=='3.0M']\n",
        "#dataset[dataset['Reviews']=='3.0M'] = float(3000000)\n",
        "#dataset[['Reviews']].apply(pd.to_numeric())\n",
        "dataset.Reviews = pd.to_numeric(dataset.Reviews)"
      ],
      "execution_count": 13,
      "outputs": [
        {
          "output_type": "error",
          "ename": "ValueError",
          "evalue": "ignored",
          "traceback": [
            "\u001b[0;31m---------------------------------------------------------------------------\u001b[0m",
            "\u001b[0;31mValueError\u001b[0m                                Traceback (most recent call last)",
            "\u001b[0;32mpandas/_libs/src/inference.pyx\u001b[0m in \u001b[0;36mpandas._libs.lib.maybe_convert_numeric\u001b[0;34m()\u001b[0m\n",
            "\u001b[0;31mValueError\u001b[0m: Unable to parse string \"3.0M\"",
            "\nDuring handling of the above exception, another exception occurred:\n",
            "\u001b[0;31mValueError\u001b[0m                                Traceback (most recent call last)",
            "\u001b[0;32m<ipython-input-13-1a55a7e03316>\u001b[0m in \u001b[0;36m<module>\u001b[0;34m()\u001b[0m\n\u001b[0;32m----> 1\u001b[0;31m \u001b[0mdataset\u001b[0m\u001b[0;34m.\u001b[0m\u001b[0mReviews\u001b[0m \u001b[0;34m=\u001b[0m \u001b[0mpd\u001b[0m\u001b[0;34m.\u001b[0m\u001b[0mto_numeric\u001b[0m\u001b[0;34m(\u001b[0m\u001b[0mdataset\u001b[0m\u001b[0;34m.\u001b[0m\u001b[0mReviews\u001b[0m\u001b[0;34m)\u001b[0m\u001b[0;34m\u001b[0m\u001b[0;34m\u001b[0m\u001b[0m\n\u001b[0m",
            "\u001b[0;32m/usr/local/lib/python3.6/dist-packages/pandas/core/tools/numeric.py\u001b[0m in \u001b[0;36mto_numeric\u001b[0;34m(arg, errors, downcast)\u001b[0m\n\u001b[1;32m    131\u001b[0m             \u001b[0mcoerce_numeric\u001b[0m \u001b[0;34m=\u001b[0m \u001b[0;32mFalse\u001b[0m \u001b[0;32mif\u001b[0m \u001b[0merrors\u001b[0m \u001b[0;32min\u001b[0m \u001b[0;34m(\u001b[0m\u001b[0;34m'ignore'\u001b[0m\u001b[0;34m,\u001b[0m \u001b[0;34m'raise'\u001b[0m\u001b[0;34m)\u001b[0m \u001b[0;32melse\u001b[0m \u001b[0;32mTrue\u001b[0m\u001b[0;34m\u001b[0m\u001b[0;34m\u001b[0m\u001b[0m\n\u001b[1;32m    132\u001b[0m             values = lib.maybe_convert_numeric(values, set(),\n\u001b[0;32m--> 133\u001b[0;31m                                                coerce_numeric=coerce_numeric)\n\u001b[0m\u001b[1;32m    134\u001b[0m \u001b[0;34m\u001b[0m\u001b[0m\n\u001b[1;32m    135\u001b[0m     \u001b[0;32mexcept\u001b[0m \u001b[0mException\u001b[0m\u001b[0;34m:\u001b[0m\u001b[0;34m\u001b[0m\u001b[0;34m\u001b[0m\u001b[0m\n",
            "\u001b[0;32mpandas/_libs/src/inference.pyx\u001b[0m in \u001b[0;36mpandas._libs.lib.maybe_convert_numeric\u001b[0;34m()\u001b[0m\n",
            "\u001b[0;31mValueError\u001b[0m: Unable to parse string \"3.0M\" at position 9291"
          ]
        }
      ]
    },
    {
      "metadata": {
        "id": "PlXoQuZJcprR",
        "colab_type": "code",
        "outputId": "38779250-8676-4dc3-a0c9-2cad1a0ed230",
        "colab": {
          "base_uri": "https://localhost:8080/",
          "height": 114
        }
      },
      "cell_type": "code",
      "source": [
        "dataset[dataset['Reviews']=='3.0M']"
      ],
      "execution_count": 14,
      "outputs": [
        {
          "output_type": "execute_result",
          "data": {
            "text/html": [
              "<div>\n",
              "<style scoped>\n",
              "    .dataframe tbody tr th:only-of-type {\n",
              "        vertical-align: middle;\n",
              "    }\n",
              "\n",
              "    .dataframe tbody tr th {\n",
              "        vertical-align: top;\n",
              "    }\n",
              "\n",
              "    .dataframe thead th {\n",
              "        text-align: right;\n",
              "    }\n",
              "</style>\n",
              "<table border=\"1\" class=\"dataframe\">\n",
              "  <thead>\n",
              "    <tr style=\"text-align: right;\">\n",
              "      <th></th>\n",
              "      <th>App</th>\n",
              "      <th>Category</th>\n",
              "      <th>Rating</th>\n",
              "      <th>Reviews</th>\n",
              "      <th>Size</th>\n",
              "      <th>Installs</th>\n",
              "      <th>Type</th>\n",
              "      <th>Price</th>\n",
              "      <th>Content Rating</th>\n",
              "      <th>Genres</th>\n",
              "      <th>Last Updated</th>\n",
              "      <th>Current Ver</th>\n",
              "      <th>Android Ver</th>\n",
              "    </tr>\n",
              "  </thead>\n",
              "  <tbody>\n",
              "    <tr>\n",
              "      <th>10472</th>\n",
              "      <td>Life Made WI-Fi Touchscreen Photo Frame</td>\n",
              "      <td>1.9</td>\n",
              "      <td>19.0</td>\n",
              "      <td>3.0M</td>\n",
              "      <td>1,000+</td>\n",
              "      <td>Free</td>\n",
              "      <td>0</td>\n",
              "      <td>Everyone</td>\n",
              "      <td>NaN</td>\n",
              "      <td>February 11, 2018</td>\n",
              "      <td>1.0.19</td>\n",
              "      <td>4.0 and up</td>\n",
              "      <td>NaN</td>\n",
              "    </tr>\n",
              "  </tbody>\n",
              "</table>\n",
              "</div>"
            ],
            "text/plain": [
              "                                           App Category  Rating Reviews  \\\n",
              "10472  Life Made WI-Fi Touchscreen Photo Frame      1.9    19.0    3.0M   \n",
              "\n",
              "         Size Installs Type     Price Content Rating             Genres  \\\n",
              "10472  1,000+     Free    0  Everyone            NaN  February 11, 2018   \n",
              "\n",
              "      Last Updated Current Ver Android Ver  \n",
              "10472       1.0.19  4.0 and up         NaN  "
            ]
          },
          "metadata": {
            "tags": []
          },
          "execution_count": 14
        }
      ]
    },
    {
      "metadata": {
        "id": "gOUzrJ_0cpre",
        "colab_type": "code",
        "colab": {}
      },
      "cell_type": "code",
      "source": [
        "dataset = dataset.drop(dataset[dataset['Price']=='Everyone'].index, axis = 0)\n",
        "dataset.Reviews = pd.to_numeric(dataset.Reviews)"
      ],
      "execution_count": 0,
      "outputs": []
    },
    {
      "metadata": {
        "id": "ahA5_19acprm",
        "colab_type": "code",
        "outputId": "08a50aba-bd38-42c5-e609-ca9cbf02c6b1",
        "colab": {
          "base_uri": "https://localhost:8080/",
          "height": 102
        }
      },
      "cell_type": "code",
      "source": [
        "dataset.Price.describe()"
      ],
      "execution_count": 16,
      "outputs": [
        {
          "output_type": "execute_result",
          "data": {
            "text/plain": [
              "count     9659\n",
              "unique      92\n",
              "top          0\n",
              "freq      8905\n",
              "Name: Price, dtype: object"
            ]
          },
          "metadata": {
            "tags": []
          },
          "execution_count": 16
        }
      ]
    },
    {
      "metadata": {
        "id": "sOAvEO1UIPrM",
        "colab_type": "text"
      },
      "cell_type": "markdown",
      "source": [
        "Vendo que a coluna de preço é de tipo objeto, faz-se uma verificação de como estão os dados de aplicativos pagos, ou seja, os que não são classificados na coluna Type como Free, que são 0"
      ]
    },
    {
      "metadata": {
        "id": "aymjkPNJcprx",
        "colab_type": "code",
        "outputId": "0627d4b5-5356-417d-b0e3-a537278d5387",
        "colab": {
          "base_uri": "https://localhost:8080/",
          "height": 1071
        }
      },
      "cell_type": "code",
      "source": [
        "dataset[dataset['Type']!='Free']['Price']"
      ],
      "execution_count": 17,
      "outputs": [
        {
          "output_type": "execute_result",
          "data": {
            "text/plain": [
              "290       $4.99\n",
              "291       $4.99\n",
              "427       $3.99\n",
              "478       $1.49\n",
              "479       $2.99\n",
              "480       $3.99\n",
              "481       $7.99\n",
              "571       $3.99\n",
              "851       $3.99\n",
              "854       $3.99\n",
              "995       $4.99\n",
              "1001      $2.99\n",
              "1227      $3.49\n",
              "1228      $4.99\n",
              "1335      $3.99\n",
              "1341      $2.99\n",
              "1347      $2.99\n",
              "1832      $1.99\n",
              "1833      $4.99\n",
              "1834      $4.99\n",
              "1835      $4.99\n",
              "1836      $5.99\n",
              "1837      $6.99\n",
              "1838      $9.99\n",
              "1839      $4.99\n",
              "2062      $3.99\n",
              "2085      $2.99\n",
              "2086      $3.99\n",
              "2087      $2.99\n",
              "2150      $3.99\n",
              "          ...  \n",
              "10453     $2.99\n",
              "10457     $2.99\n",
              "10459     $1.99\n",
              "10460     $1.00\n",
              "10517     $1.49\n",
              "10531     $3.49\n",
              "10540     $2.99\n",
              "10570     $1.99\n",
              "10583     $6.99\n",
              "10586     $0.99\n",
              "10594     $1.99\n",
              "10645     $8.99\n",
              "10650     $5.49\n",
              "10651     $6.49\n",
              "10661     $5.99\n",
              "10662     $6.49\n",
              "10664     $6.49\n",
              "10668     $6.49\n",
              "10669     $5.99\n",
              "10674     $5.49\n",
              "10675     $0.99\n",
              "10679     $2.99\n",
              "10682     $0.99\n",
              "10690     $0.99\n",
              "10697     $0.99\n",
              "10735     $0.99\n",
              "10760     $7.99\n",
              "10782    $16.99\n",
              "10785     $1.20\n",
              "10798     $1.04\n",
              "Name: Price, Length: 755, dtype: object"
            ]
          },
          "metadata": {
            "tags": []
          },
          "execution_count": 17
        }
      ]
    },
    {
      "metadata": {
        "id": "Rx-AEGSYcpr9",
        "colab_type": "code",
        "colab": {
          "base_uri": "https://localhost:8080/",
          "height": 173
        },
        "outputId": "104c00f8-3b19-429f-99e3-b990f3358295"
      },
      "cell_type": "code",
      "source": [
        "dataset[['Current Ver']].describe()"
      ],
      "execution_count": 18,
      "outputs": [
        {
          "output_type": "execute_result",
          "data": {
            "text/html": [
              "<div>\n",
              "<style scoped>\n",
              "    .dataframe tbody tr th:only-of-type {\n",
              "        vertical-align: middle;\n",
              "    }\n",
              "\n",
              "    .dataframe tbody tr th {\n",
              "        vertical-align: top;\n",
              "    }\n",
              "\n",
              "    .dataframe thead th {\n",
              "        text-align: right;\n",
              "    }\n",
              "</style>\n",
              "<table border=\"1\" class=\"dataframe\">\n",
              "  <thead>\n",
              "    <tr style=\"text-align: right;\">\n",
              "      <th></th>\n",
              "      <th>Current Ver</th>\n",
              "    </tr>\n",
              "  </thead>\n",
              "  <tbody>\n",
              "    <tr>\n",
              "      <th>count</th>\n",
              "      <td>9651</td>\n",
              "    </tr>\n",
              "    <tr>\n",
              "      <th>unique</th>\n",
              "      <td>2818</td>\n",
              "    </tr>\n",
              "    <tr>\n",
              "      <th>top</th>\n",
              "      <td>Varies with device</td>\n",
              "    </tr>\n",
              "    <tr>\n",
              "      <th>freq</th>\n",
              "      <td>1054</td>\n",
              "    </tr>\n",
              "  </tbody>\n",
              "</table>\n",
              "</div>"
            ],
            "text/plain": [
              "               Current Ver\n",
              "count                 9651\n",
              "unique                2818\n",
              "top     Varies with device\n",
              "freq                  1054"
            ]
          },
          "metadata": {
            "tags": []
          },
          "execution_count": 18
        }
      ]
    },
    {
      "metadata": {
        "id": "QSueq4-FLAGf",
        "colab_type": "code",
        "colab": {
          "base_uri": "https://localhost:8080/",
          "height": 173
        },
        "outputId": "680193f5-c47b-4562-dd87-b33e6e6a9953"
      },
      "cell_type": "code",
      "source": [
        "dataset[['Last Updated']].describe()"
      ],
      "execution_count": 19,
      "outputs": [
        {
          "output_type": "execute_result",
          "data": {
            "text/html": [
              "<div>\n",
              "<style scoped>\n",
              "    .dataframe tbody tr th:only-of-type {\n",
              "        vertical-align: middle;\n",
              "    }\n",
              "\n",
              "    .dataframe tbody tr th {\n",
              "        vertical-align: top;\n",
              "    }\n",
              "\n",
              "    .dataframe thead th {\n",
              "        text-align: right;\n",
              "    }\n",
              "</style>\n",
              "<table border=\"1\" class=\"dataframe\">\n",
              "  <thead>\n",
              "    <tr style=\"text-align: right;\">\n",
              "      <th></th>\n",
              "      <th>Last Updated</th>\n",
              "    </tr>\n",
              "  </thead>\n",
              "  <tbody>\n",
              "    <tr>\n",
              "      <th>count</th>\n",
              "      <td>9659</td>\n",
              "    </tr>\n",
              "    <tr>\n",
              "      <th>unique</th>\n",
              "      <td>1377</td>\n",
              "    </tr>\n",
              "    <tr>\n",
              "      <th>top</th>\n",
              "      <td>August 3, 2018</td>\n",
              "    </tr>\n",
              "    <tr>\n",
              "      <th>freq</th>\n",
              "      <td>252</td>\n",
              "    </tr>\n",
              "  </tbody>\n",
              "</table>\n",
              "</div>"
            ],
            "text/plain": [
              "          Last Updated\n",
              "count             9659\n",
              "unique            1377\n",
              "top     August 3, 2018\n",
              "freq               252"
            ]
          },
          "metadata": {
            "tags": []
          },
          "execution_count": 19
        }
      ]
    },
    {
      "metadata": {
        "id": "jbVV8jQiLH7f",
        "colab_type": "code",
        "colab": {
          "base_uri": "https://localhost:8080/",
          "height": 173
        },
        "outputId": "a2b744f9-4d92-4d78-ed57-407a364d331b"
      },
      "cell_type": "code",
      "source": [
        "dataset[['Android Ver']].describe()"
      ],
      "execution_count": 20,
      "outputs": [
        {
          "output_type": "execute_result",
          "data": {
            "text/html": [
              "<div>\n",
              "<style scoped>\n",
              "    .dataframe tbody tr th:only-of-type {\n",
              "        vertical-align: middle;\n",
              "    }\n",
              "\n",
              "    .dataframe tbody tr th {\n",
              "        vertical-align: top;\n",
              "    }\n",
              "\n",
              "    .dataframe thead th {\n",
              "        text-align: right;\n",
              "    }\n",
              "</style>\n",
              "<table border=\"1\" class=\"dataframe\">\n",
              "  <thead>\n",
              "    <tr style=\"text-align: right;\">\n",
              "      <th></th>\n",
              "      <th>Android Ver</th>\n",
              "    </tr>\n",
              "  </thead>\n",
              "  <tbody>\n",
              "    <tr>\n",
              "      <th>count</th>\n",
              "      <td>9657</td>\n",
              "    </tr>\n",
              "    <tr>\n",
              "      <th>unique</th>\n",
              "      <td>33</td>\n",
              "    </tr>\n",
              "    <tr>\n",
              "      <th>top</th>\n",
              "      <td>4.1 and up</td>\n",
              "    </tr>\n",
              "    <tr>\n",
              "      <th>freq</th>\n",
              "      <td>2206</td>\n",
              "    </tr>\n",
              "  </tbody>\n",
              "</table>\n",
              "</div>"
            ],
            "text/plain": [
              "       Android Ver\n",
              "count         9657\n",
              "unique          33\n",
              "top     4.1 and up\n",
              "freq          2206"
            ]
          },
          "metadata": {
            "tags": []
          },
          "execution_count": 20
        }
      ]
    },
    {
      "metadata": {
        "id": "eCAK1JAPLXSV",
        "colab_type": "code",
        "colab": {
          "base_uri": "https://localhost:8080/",
          "height": 102
        },
        "outputId": "1a84ed2e-33b8-4050-aef8-7fd8807b7e5d"
      },
      "cell_type": "code",
      "source": [
        "dataset.Category.describe()"
      ],
      "execution_count": 21,
      "outputs": [
        {
          "output_type": "execute_result",
          "data": {
            "text/plain": [
              "count       9659\n",
              "unique        33\n",
              "top       FAMILY\n",
              "freq        1906\n",
              "Name: Category, dtype: object"
            ]
          },
          "metadata": {
            "tags": []
          },
          "execution_count": 21
        }
      ]
    },
    {
      "metadata": {
        "id": "vlEtfiEtcpsv",
        "colab_type": "code",
        "outputId": "08eb2077-42db-4afe-ceae-654f8e06cbdd",
        "colab": {}
      },
      "cell_type": "code",
      "source": [
        "dataset.Rating.describe()"
      ],
      "execution_count": 0,
      "outputs": [
        {
          "output_type": "execute_result",
          "data": {
            "text/plain": [
              "count    9366.000000\n",
              "mean        4.191757\n",
              "std         0.515219\n",
              "min         1.000000\n",
              "25%         4.000000\n",
              "50%         4.300000\n",
              "75%         4.500000\n",
              "max         5.000000\n",
              "Name: Rating, dtype: float64"
            ]
          },
          "metadata": {
            "tags": []
          },
          "execution_count": 8
        }
      ]
    },
    {
      "metadata": {
        "id": "zR7c2VIJcps7",
        "colab_type": "code",
        "outputId": "ed3edc05-f11a-43f3-f36e-e7ae5ea07449",
        "colab": {}
      },
      "cell_type": "code",
      "source": [
        "dataset.columns[dataset.isna().any()].tolist()#quais colunas possuem valores NaN"
      ],
      "execution_count": 0,
      "outputs": [
        {
          "output_type": "execute_result",
          "data": {
            "text/plain": [
              "['Rating', 'Type', 'Content Rating', 'Current Ver', 'Android Ver']"
            ]
          },
          "metadata": {
            "tags": []
          },
          "execution_count": 34
        }
      ]
    },
    {
      "metadata": {
        "id": "lNeP1r_ycptH",
        "colab_type": "code",
        "outputId": "c05b93db-5ef2-4c8b-a9be-2ef913e0787a",
        "colab": {}
      },
      "cell_type": "code",
      "source": [
        "dataset[dataset['Type'].isna()]"
      ],
      "execution_count": 0,
      "outputs": [
        {
          "output_type": "execute_result",
          "data": {
            "text/html": [
              "<div>\n",
              "<style scoped>\n",
              "    .dataframe tbody tr th:only-of-type {\n",
              "        vertical-align: middle;\n",
              "    }\n",
              "\n",
              "    .dataframe tbody tr th {\n",
              "        vertical-align: top;\n",
              "    }\n",
              "\n",
              "    .dataframe thead th {\n",
              "        text-align: right;\n",
              "    }\n",
              "</style>\n",
              "<table border=\"1\" class=\"dataframe\">\n",
              "  <thead>\n",
              "    <tr style=\"text-align: right;\">\n",
              "      <th></th>\n",
              "      <th>App</th>\n",
              "      <th>Category</th>\n",
              "      <th>Rating</th>\n",
              "      <th>Reviews</th>\n",
              "      <th>Size</th>\n",
              "      <th>Installs</th>\n",
              "      <th>Type</th>\n",
              "      <th>Price</th>\n",
              "      <th>Content Rating</th>\n",
              "      <th>Genres</th>\n",
              "      <th>Last Updated</th>\n",
              "      <th>Current Ver</th>\n",
              "      <th>Android Ver</th>\n",
              "    </tr>\n",
              "  </thead>\n",
              "  <tbody>\n",
              "    <tr>\n",
              "      <th>9148</th>\n",
              "      <td>Command &amp; Conquer: Rivals</td>\n",
              "      <td>FAMILY</td>\n",
              "      <td>NaN</td>\n",
              "      <td>0</td>\n",
              "      <td>Varies with device</td>\n",
              "      <td>0</td>\n",
              "      <td>NaN</td>\n",
              "      <td>0</td>\n",
              "      <td>Everyone 10+</td>\n",
              "      <td>Strategy</td>\n",
              "      <td>June 28, 2018</td>\n",
              "      <td>Varies with device</td>\n",
              "      <td>Varies with device</td>\n",
              "    </tr>\n",
              "  </tbody>\n",
              "</table>\n",
              "</div>"
            ],
            "text/plain": [
              "                            App Category  Rating Reviews                Size  \\\n",
              "9148  Command & Conquer: Rivals   FAMILY     NaN       0  Varies with device   \n",
              "\n",
              "     Installs Type Price Content Rating    Genres   Last Updated  \\\n",
              "9148        0  NaN     0   Everyone 10+  Strategy  June 28, 2018   \n",
              "\n",
              "             Current Ver         Android Ver  \n",
              "9148  Varies with device  Varies with device  "
            ]
          },
          "metadata": {
            "tags": []
          },
          "execution_count": 37
        }
      ]
    },
    {
      "metadata": {
        "id": "OlRAjcO6cptQ",
        "colab_type": "code",
        "colab": {}
      },
      "cell_type": "code",
      "source": [
        "dataset['Last Updated'] = pd.to_datetime(dataset['Last Updated'])"
      ],
      "execution_count": 0,
      "outputs": []
    },
    {
      "metadata": {
        "id": "5Jx5SnJ3cptY",
        "colab_type": "code",
        "outputId": "a1981396-6abb-4bb5-da1c-0df3a24a879d",
        "colab": {
          "base_uri": "https://localhost:8080/",
          "height": 136
        }
      },
      "cell_type": "code",
      "source": [
        "dataset['Last Updated'].describe()"
      ],
      "execution_count": 23,
      "outputs": [
        {
          "output_type": "execute_result",
          "data": {
            "text/plain": [
              "count                    9659\n",
              "unique                   1377\n",
              "top       2018-08-03 00:00:00\n",
              "freq                      252\n",
              "first     2010-05-21 00:00:00\n",
              "last      2018-08-08 00:00:00\n",
              "Name: Last Updated, dtype: object"
            ]
          },
          "metadata": {
            "tags": []
          },
          "execution_count": 23
        }
      ]
    },
    {
      "metadata": {
        "id": "bO5OeC8Scptn",
        "colab_type": "code",
        "outputId": "ef902180-b04e-494f-afbe-cd808b1ae417",
        "colab": {}
      },
      "cell_type": "code",
      "source": [
        "#visto que há somente 1 ocorrência de Type como NaN, faz-se a alteração sabendo pelo print acima que Price=0\n",
        "dataset['Type'] = dataset['Type'].apply(lambda x: 'Free' if (x!='Free' and x!='Paid') else x)\n",
        "dataset.Type.describe()"
      ],
      "execution_count": 0,
      "outputs": [
        {
          "output_type": "execute_result",
          "data": {
            "text/plain": [
              "count     9660\n",
              "unique       2\n",
              "top       Free\n",
              "freq      8904\n",
              "Name: Type, dtype: object"
            ]
          },
          "metadata": {
            "tags": []
          },
          "execution_count": 38
        }
      ]
    },
    {
      "metadata": {
        "id": "GEsjRTj_cpt8",
        "colab_type": "code",
        "outputId": "08701ffa-c2f2-4085-8df2-93896271f6a0",
        "colab": {}
      },
      "cell_type": "code",
      "source": [
        "dataset.Genres.describe()"
      ],
      "execution_count": 0,
      "outputs": [
        {
          "output_type": "execute_result",
          "data": {
            "text/plain": [
              "count      8862\n",
              "unique      114\n",
              "top       Tools\n",
              "freq        813\n",
              "Name: Genres, dtype: object"
            ]
          },
          "metadata": {
            "tags": []
          },
          "execution_count": 11
        }
      ]
    },
    {
      "metadata": {
        "id": "0hyajAOxcpuI",
        "colab_type": "code",
        "outputId": "a09464ff-48c3-4afb-9bd4-9fbc16783315",
        "colab": {}
      },
      "cell_type": "code",
      "source": [
        "dataset[dataset['Rating'].isna()]"
      ],
      "execution_count": 0,
      "outputs": [
        {
          "output_type": "execute_result",
          "data": {
            "text/html": [
              "<div>\n",
              "<style scoped>\n",
              "    .dataframe tbody tr th:only-of-type {\n",
              "        vertical-align: middle;\n",
              "    }\n",
              "\n",
              "    .dataframe tbody tr th {\n",
              "        vertical-align: top;\n",
              "    }\n",
              "\n",
              "    .dataframe thead th {\n",
              "        text-align: right;\n",
              "    }\n",
              "</style>\n",
              "<table border=\"1\" class=\"dataframe\">\n",
              "  <thead>\n",
              "    <tr style=\"text-align: right;\">\n",
              "      <th></th>\n",
              "      <th>App</th>\n",
              "      <th>Category</th>\n",
              "      <th>Rating</th>\n",
              "      <th>Reviews</th>\n",
              "      <th>Size</th>\n",
              "      <th>Installs</th>\n",
              "      <th>Type</th>\n",
              "      <th>Price</th>\n",
              "      <th>Content Rating</th>\n",
              "      <th>Genres</th>\n",
              "      <th>Last Updated</th>\n",
              "      <th>Current Ver</th>\n",
              "      <th>Android Ver</th>\n",
              "    </tr>\n",
              "  </thead>\n",
              "  <tbody>\n",
              "    <tr>\n",
              "      <th>23</th>\n",
              "      <td>Mcqueen Coloring pages</td>\n",
              "      <td>ART_AND_DESIGN</td>\n",
              "      <td>NaN</td>\n",
              "      <td>61</td>\n",
              "      <td>7.0M</td>\n",
              "      <td>100,000+</td>\n",
              "      <td>Free</td>\n",
              "      <td>0</td>\n",
              "      <td>Everyone</td>\n",
              "      <td>Art &amp; Design;Action &amp; Adventure</td>\n",
              "      <td>March 7, 2018</td>\n",
              "      <td>1.0.0</td>\n",
              "      <td>4.1 and up</td>\n",
              "    </tr>\n",
              "    <tr>\n",
              "      <th>113</th>\n",
              "      <td>Wrinkles and rejuvenation</td>\n",
              "      <td>BEAUTY</td>\n",
              "      <td>NaN</td>\n",
              "      <td>182</td>\n",
              "      <td>5.7M</td>\n",
              "      <td>100,000+</td>\n",
              "      <td>Free</td>\n",
              "      <td>0</td>\n",
              "      <td>Everyone 10+</td>\n",
              "      <td>Beauty</td>\n",
              "      <td>September 20, 2017</td>\n",
              "      <td>8.0</td>\n",
              "      <td>3.0 and up</td>\n",
              "    </tr>\n",
              "    <tr>\n",
              "      <th>123</th>\n",
              "      <td>Manicure - nail design</td>\n",
              "      <td>BEAUTY</td>\n",
              "      <td>NaN</td>\n",
              "      <td>119</td>\n",
              "      <td>3.7M</td>\n",
              "      <td>50,000+</td>\n",
              "      <td>Free</td>\n",
              "      <td>0</td>\n",
              "      <td>Everyone</td>\n",
              "      <td>Beauty</td>\n",
              "      <td>July 23, 2018</td>\n",
              "      <td>1.3</td>\n",
              "      <td>4.1 and up</td>\n",
              "    </tr>\n",
              "    <tr>\n",
              "      <th>126</th>\n",
              "      <td>Skin Care and Natural Beauty</td>\n",
              "      <td>BEAUTY</td>\n",
              "      <td>NaN</td>\n",
              "      <td>654</td>\n",
              "      <td>7.4M</td>\n",
              "      <td>100,000+</td>\n",
              "      <td>Free</td>\n",
              "      <td>0</td>\n",
              "      <td>Teen</td>\n",
              "      <td>Beauty</td>\n",
              "      <td>July 17, 2018</td>\n",
              "      <td>1.15</td>\n",
              "      <td>4.1 and up</td>\n",
              "    </tr>\n",
              "    <tr>\n",
              "      <th>129</th>\n",
              "      <td>Secrets of beauty, youth and health</td>\n",
              "      <td>BEAUTY</td>\n",
              "      <td>NaN</td>\n",
              "      <td>77</td>\n",
              "      <td>2.9M</td>\n",
              "      <td>10,000+</td>\n",
              "      <td>Free</td>\n",
              "      <td>0</td>\n",
              "      <td>Mature 17+</td>\n",
              "      <td>Beauty</td>\n",
              "      <td>August 8, 2017</td>\n",
              "      <td>2.0</td>\n",
              "      <td>2.3 and up</td>\n",
              "    </tr>\n",
              "    <tr>\n",
              "      <th>130</th>\n",
              "      <td>Recipes and tips for losing weight</td>\n",
              "      <td>BEAUTY</td>\n",
              "      <td>NaN</td>\n",
              "      <td>35</td>\n",
              "      <td>3.1M</td>\n",
              "      <td>10,000+</td>\n",
              "      <td>Free</td>\n",
              "      <td>0</td>\n",
              "      <td>Everyone 10+</td>\n",
              "      <td>Beauty</td>\n",
              "      <td>December 11, 2017</td>\n",
              "      <td>2.0</td>\n",
              "      <td>3.0 and up</td>\n",
              "    </tr>\n",
              "    <tr>\n",
              "      <th>134</th>\n",
              "      <td>Lady adviser (beauty, health)</td>\n",
              "      <td>BEAUTY</td>\n",
              "      <td>NaN</td>\n",
              "      <td>30</td>\n",
              "      <td>9.9M</td>\n",
              "      <td>10,000+</td>\n",
              "      <td>Free</td>\n",
              "      <td>0</td>\n",
              "      <td>Mature 17+</td>\n",
              "      <td>Beauty</td>\n",
              "      <td>January 24, 2018</td>\n",
              "      <td>3.0</td>\n",
              "      <td>3.0 and up</td>\n",
              "    </tr>\n",
              "    <tr>\n",
              "      <th>163</th>\n",
              "      <td>Anonymous caller detection</td>\n",
              "      <td>BOOKS_AND_REFERENCE</td>\n",
              "      <td>NaN</td>\n",
              "      <td>161</td>\n",
              "      <td>2.7M</td>\n",
              "      <td>10,000+</td>\n",
              "      <td>Free</td>\n",
              "      <td>0</td>\n",
              "      <td>Everyone</td>\n",
              "      <td>Books &amp; Reference</td>\n",
              "      <td>July 13, 2018</td>\n",
              "      <td>1.0</td>\n",
              "      <td>2.3 and up</td>\n",
              "    </tr>\n",
              "    <tr>\n",
              "      <th>180</th>\n",
              "      <td>SH-02J Owner's Manual (Android 8.0)</td>\n",
              "      <td>BOOKS_AND_REFERENCE</td>\n",
              "      <td>NaN</td>\n",
              "      <td>2</td>\n",
              "      <td>7.2M</td>\n",
              "      <td>50,000+</td>\n",
              "      <td>Free</td>\n",
              "      <td>0</td>\n",
              "      <td>Everyone</td>\n",
              "      <td>Books &amp; Reference</td>\n",
              "      <td>June 15, 2018</td>\n",
              "      <td>3.0</td>\n",
              "      <td>6.0 and up</td>\n",
              "    </tr>\n",
              "    <tr>\n",
              "      <th>185</th>\n",
              "      <td>URBANO V 02 instruction manual</td>\n",
              "      <td>BOOKS_AND_REFERENCE</td>\n",
              "      <td>NaN</td>\n",
              "      <td>114</td>\n",
              "      <td>7.3M</td>\n",
              "      <td>100,000+</td>\n",
              "      <td>Free</td>\n",
              "      <td>0</td>\n",
              "      <td>Everyone</td>\n",
              "      <td>Books &amp; Reference</td>\n",
              "      <td>August 7, 2015</td>\n",
              "      <td>1.1</td>\n",
              "      <td>5.1 and up</td>\n",
              "    </tr>\n",
              "    <tr>\n",
              "      <th>227</th>\n",
              "      <td>Y! Mobile menu</td>\n",
              "      <td>BUSINESS</td>\n",
              "      <td>NaN</td>\n",
              "      <td>9</td>\n",
              "      <td>1.2M</td>\n",
              "      <td>100,000+</td>\n",
              "      <td>Free</td>\n",
              "      <td>0</td>\n",
              "      <td>Everyone</td>\n",
              "      <td>Business</td>\n",
              "      <td>April 9, 2018</td>\n",
              "      <td>1.0.5</td>\n",
              "      <td>6.0 and up</td>\n",
              "    </tr>\n",
              "    <tr>\n",
              "      <th>321</th>\n",
              "      <td>ãRanobbe complete freeã Novelba - Free app...</td>\n",
              "      <td>COMICS</td>\n",
              "      <td>NaN</td>\n",
              "      <td>1330</td>\n",
              "      <td>22M</td>\n",
              "      <td>50,000+</td>\n",
              "      <td>Free</td>\n",
              "      <td>0</td>\n",
              "      <td>Everyone</td>\n",
              "      <td>Comics</td>\n",
              "      <td>July 3, 2018</td>\n",
              "      <td>6.1.1</td>\n",
              "      <td>4.2 and up</td>\n",
              "    </tr>\n",
              "    <tr>\n",
              "      <th>478</th>\n",
              "      <td>Truth or Dare Pro</td>\n",
              "      <td>DATING</td>\n",
              "      <td>NaN</td>\n",
              "      <td>0</td>\n",
              "      <td>20M</td>\n",
              "      <td>50+</td>\n",
              "      <td>Paid</td>\n",
              "      <td>1.49</td>\n",
              "      <td>Teen</td>\n",
              "      <td>Dating</td>\n",
              "      <td>September 1, 2017</td>\n",
              "      <td>1.0</td>\n",
              "      <td>4.0 and up</td>\n",
              "    </tr>\n",
              "    <tr>\n",
              "      <th>479</th>\n",
              "      <td>Private Dating, Hide App- Blue for PrivacyHider</td>\n",
              "      <td>DATING</td>\n",
              "      <td>NaN</td>\n",
              "      <td>0</td>\n",
              "      <td>18k</td>\n",
              "      <td>100+</td>\n",
              "      <td>Paid</td>\n",
              "      <td>2.99</td>\n",
              "      <td>Everyone</td>\n",
              "      <td>Dating</td>\n",
              "      <td>July 25, 2017</td>\n",
              "      <td>1.0.1</td>\n",
              "      <td>4.0 and up</td>\n",
              "    </tr>\n",
              "    <tr>\n",
              "      <th>480</th>\n",
              "      <td>Ad Blocker for SayHi</td>\n",
              "      <td>DATING</td>\n",
              "      <td>NaN</td>\n",
              "      <td>4</td>\n",
              "      <td>1.2M</td>\n",
              "      <td>100+</td>\n",
              "      <td>Paid</td>\n",
              "      <td>3.99</td>\n",
              "      <td>Teen</td>\n",
              "      <td>Dating</td>\n",
              "      <td>August 2, 2018</td>\n",
              "      <td>1.2</td>\n",
              "      <td>4.0.3 and up</td>\n",
              "    </tr>\n",
              "    <tr>\n",
              "      <th>610</th>\n",
              "      <td>Random Video Chat</td>\n",
              "      <td>DATING</td>\n",
              "      <td>NaN</td>\n",
              "      <td>3</td>\n",
              "      <td>16M</td>\n",
              "      <td>1,000+</td>\n",
              "      <td>Free</td>\n",
              "      <td>0</td>\n",
              "      <td>Mature 17+</td>\n",
              "      <td>Dating</td>\n",
              "      <td>July 15, 2018</td>\n",
              "      <td>4.20</td>\n",
              "      <td>4.0.3 and up</td>\n",
              "    </tr>\n",
              "    <tr>\n",
              "      <th>613</th>\n",
              "      <td>Random Video Chat App With Strangers</td>\n",
              "      <td>DATING</td>\n",
              "      <td>NaN</td>\n",
              "      <td>3</td>\n",
              "      <td>4.8M</td>\n",
              "      <td>1,000+</td>\n",
              "      <td>Free</td>\n",
              "      <td>0</td>\n",
              "      <td>Mature 17+</td>\n",
              "      <td>Dating</td>\n",
              "      <td>July 17, 2018</td>\n",
              "      <td>1.</td>\n",
              "      <td>4.0 and up</td>\n",
              "    </tr>\n",
              "    <tr>\n",
              "      <th>617</th>\n",
              "      <td>Meet With Strangers: Video Chat &amp; Dating</td>\n",
              "      <td>DATING</td>\n",
              "      <td>NaN</td>\n",
              "      <td>2</td>\n",
              "      <td>3.7M</td>\n",
              "      <td>500+</td>\n",
              "      <td>Free</td>\n",
              "      <td>0</td>\n",
              "      <td>Mature 17+</td>\n",
              "      <td>Dating</td>\n",
              "      <td>July 16, 2018</td>\n",
              "      <td>1.</td>\n",
              "      <td>4.0 and up</td>\n",
              "    </tr>\n",
              "    <tr>\n",
              "      <th>620</th>\n",
              "      <td>Ost. Zombies Cast - New Music and Lyrics</td>\n",
              "      <td>DATING</td>\n",
              "      <td>NaN</td>\n",
              "      <td>1</td>\n",
              "      <td>4.6M</td>\n",
              "      <td>100+</td>\n",
              "      <td>Free</td>\n",
              "      <td>0</td>\n",
              "      <td>Teen</td>\n",
              "      <td>Dating</td>\n",
              "      <td>July 20, 2018</td>\n",
              "      <td>1.0</td>\n",
              "      <td>4.0.3 and up</td>\n",
              "    </tr>\n",
              "    <tr>\n",
              "      <th>621</th>\n",
              "      <td>Dating White Girls</td>\n",
              "      <td>DATING</td>\n",
              "      <td>NaN</td>\n",
              "      <td>0</td>\n",
              "      <td>3.6M</td>\n",
              "      <td>50+</td>\n",
              "      <td>Free</td>\n",
              "      <td>0</td>\n",
              "      <td>Mature 17+</td>\n",
              "      <td>Dating</td>\n",
              "      <td>July 20, 2018</td>\n",
              "      <td>1.0</td>\n",
              "      <td>4.0 and up</td>\n",
              "    </tr>\n",
              "    <tr>\n",
              "      <th>623</th>\n",
              "      <td>Geeks Dating</td>\n",
              "      <td>DATING</td>\n",
              "      <td>NaN</td>\n",
              "      <td>0</td>\n",
              "      <td>13M</td>\n",
              "      <td>50+</td>\n",
              "      <td>Free</td>\n",
              "      <td>0</td>\n",
              "      <td>Mature 17+</td>\n",
              "      <td>Dating</td>\n",
              "      <td>July 10, 2018</td>\n",
              "      <td>1.0</td>\n",
              "      <td>4.1 and up</td>\n",
              "    </tr>\n",
              "    <tr>\n",
              "      <th>624</th>\n",
              "      <td>Live chat - free video chat</td>\n",
              "      <td>DATING</td>\n",
              "      <td>NaN</td>\n",
              "      <td>1</td>\n",
              "      <td>8.7M</td>\n",
              "      <td>500+</td>\n",
              "      <td>Free</td>\n",
              "      <td>0</td>\n",
              "      <td>Mature 17+</td>\n",
              "      <td>Dating</td>\n",
              "      <td>July 23, 2018</td>\n",
              "      <td>3.52</td>\n",
              "      <td>4.0.3 and up</td>\n",
              "    </tr>\n",
              "    <tr>\n",
              "      <th>626</th>\n",
              "      <td>Fishing Brain &amp; Boating Maps Marine</td>\n",
              "      <td>DATING</td>\n",
              "      <td>NaN</td>\n",
              "      <td>3</td>\n",
              "      <td>6.9M</td>\n",
              "      <td>500+</td>\n",
              "      <td>Free</td>\n",
              "      <td>0</td>\n",
              "      <td>Everyone</td>\n",
              "      <td>Dating</td>\n",
              "      <td>July 23, 2018</td>\n",
              "      <td>1.0</td>\n",
              "      <td>4.0.3 and up</td>\n",
              "    </tr>\n",
              "    <tr>\n",
              "      <th>627</th>\n",
              "      <td>CAM5678 Video Chat</td>\n",
              "      <td>DATING</td>\n",
              "      <td>NaN</td>\n",
              "      <td>0</td>\n",
              "      <td>39M</td>\n",
              "      <td>500+</td>\n",
              "      <td>Free</td>\n",
              "      <td>0</td>\n",
              "      <td>Mature 17+</td>\n",
              "      <td>Dating</td>\n",
              "      <td>July 13, 2018</td>\n",
              "      <td>5.5.8</td>\n",
              "      <td>4.0.3 and up</td>\n",
              "    </tr>\n",
              "    <tr>\n",
              "      <th>628</th>\n",
              "      <td>Video chat live advices</td>\n",
              "      <td>DATING</td>\n",
              "      <td>NaN</td>\n",
              "      <td>0</td>\n",
              "      <td>8.0M</td>\n",
              "      <td>100+</td>\n",
              "      <td>Free</td>\n",
              "      <td>0</td>\n",
              "      <td>Everyone</td>\n",
              "      <td>Dating</td>\n",
              "      <td>July 10, 2018</td>\n",
              "      <td>1.0</td>\n",
              "      <td>3.0 and up</td>\n",
              "    </tr>\n",
              "    <tr>\n",
              "      <th>629</th>\n",
              "      <td>chat live chat</td>\n",
              "      <td>DATING</td>\n",
              "      <td>NaN</td>\n",
              "      <td>24</td>\n",
              "      <td>3.9M</td>\n",
              "      <td>1,000+</td>\n",
              "      <td>Free</td>\n",
              "      <td>0</td>\n",
              "      <td>Mature 17+</td>\n",
              "      <td>Dating</td>\n",
              "      <td>July 26, 2018</td>\n",
              "      <td>1.0</td>\n",
              "      <td>4.0 and up</td>\n",
              "    </tr>\n",
              "    <tr>\n",
              "      <th>630</th>\n",
              "      <td>Pet Lovers Dating</td>\n",
              "      <td>DATING</td>\n",
              "      <td>NaN</td>\n",
              "      <td>0</td>\n",
              "      <td>14M</td>\n",
              "      <td>10+</td>\n",
              "      <td>Free</td>\n",
              "      <td>0</td>\n",
              "      <td>Mature 17+</td>\n",
              "      <td>Dating</td>\n",
              "      <td>July 9, 2018</td>\n",
              "      <td>1.0</td>\n",
              "      <td>4.1 and up</td>\n",
              "    </tr>\n",
              "    <tr>\n",
              "      <th>631</th>\n",
              "      <td>Friend Find: free chat + flirt dating app</td>\n",
              "      <td>DATING</td>\n",
              "      <td>NaN</td>\n",
              "      <td>23</td>\n",
              "      <td>11M</td>\n",
              "      <td>100+</td>\n",
              "      <td>Free</td>\n",
              "      <td>0</td>\n",
              "      <td>Mature 17+</td>\n",
              "      <td>Dating</td>\n",
              "      <td>July 31, 2018</td>\n",
              "      <td>1.0</td>\n",
              "      <td>4.4 and up</td>\n",
              "    </tr>\n",
              "    <tr>\n",
              "      <th>632</th>\n",
              "      <td>Latin Dating</td>\n",
              "      <td>DATING</td>\n",
              "      <td>NaN</td>\n",
              "      <td>0</td>\n",
              "      <td>13M</td>\n",
              "      <td>10+</td>\n",
              "      <td>Free</td>\n",
              "      <td>0</td>\n",
              "      <td>Mature 17+</td>\n",
              "      <td>Dating</td>\n",
              "      <td>July 9, 2018</td>\n",
              "      <td>1.0</td>\n",
              "      <td>4.1 and up</td>\n",
              "    </tr>\n",
              "    <tr>\n",
              "      <th>635</th>\n",
              "      <td>Wifi Mingle</td>\n",
              "      <td>DATING</td>\n",
              "      <td>NaN</td>\n",
              "      <td>0</td>\n",
              "      <td>10.0M</td>\n",
              "      <td>10+</td>\n",
              "      <td>Free</td>\n",
              "      <td>0</td>\n",
              "      <td>Everyone</td>\n",
              "      <td>Dating</td>\n",
              "      <td>July 27, 2018</td>\n",
              "      <td>1.3</td>\n",
              "      <td>4.4 and up</td>\n",
              "    </tr>\n",
              "    <tr>\n",
              "      <th>...</th>\n",
              "      <td>...</td>\n",
              "      <td>...</td>\n",
              "      <td>...</td>\n",
              "      <td>...</td>\n",
              "      <td>...</td>\n",
              "      <td>...</td>\n",
              "      <td>...</td>\n",
              "      <td>...</td>\n",
              "      <td>...</td>\n",
              "      <td>...</td>\n",
              "      <td>...</td>\n",
              "      <td>...</td>\n",
              "      <td>...</td>\n",
              "    </tr>\n",
              "    <tr>\n",
              "      <th>10746</th>\n",
              "      <td>FP Opgaver</td>\n",
              "      <td>TOOLS</td>\n",
              "      <td>NaN</td>\n",
              "      <td>9</td>\n",
              "      <td>61M</td>\n",
              "      <td>1,000+</td>\n",
              "      <td>Free</td>\n",
              "      <td>0</td>\n",
              "      <td>Everyone</td>\n",
              "      <td>Tools</td>\n",
              "      <td>May 31, 2018</td>\n",
              "      <td>1.9</td>\n",
              "      <td>4.0.3 and up</td>\n",
              "    </tr>\n",
              "    <tr>\n",
              "      <th>10748</th>\n",
              "      <td>FP Live</td>\n",
              "      <td>COMMUNICATION</td>\n",
              "      <td>NaN</td>\n",
              "      <td>0</td>\n",
              "      <td>3.3M</td>\n",
              "      <td>10+</td>\n",
              "      <td>Free</td>\n",
              "      <td>0</td>\n",
              "      <td>Teen</td>\n",
              "      <td>Communication</td>\n",
              "      <td>November 3, 2017</td>\n",
              "      <td>1.2.4</td>\n",
              "      <td>4.2 and up</td>\n",
              "    </tr>\n",
              "    <tr>\n",
              "      <th>10751</th>\n",
              "      <td>FP Market</td>\n",
              "      <td>FAMILY</td>\n",
              "      <td>NaN</td>\n",
              "      <td>24</td>\n",
              "      <td>44k</td>\n",
              "      <td>1,000+</td>\n",
              "      <td>Free</td>\n",
              "      <td>0</td>\n",
              "      <td>Everyone</td>\n",
              "      <td>Education</td>\n",
              "      <td>June 17, 2012</td>\n",
              "      <td>1.0</td>\n",
              "      <td>1.6 and up</td>\n",
              "    </tr>\n",
              "    <tr>\n",
              "      <th>10759</th>\n",
              "      <td>FP NFC Rewrite</td>\n",
              "      <td>TOOLS</td>\n",
              "      <td>NaN</td>\n",
              "      <td>17</td>\n",
              "      <td>67k</td>\n",
              "      <td>1,000+</td>\n",
              "      <td>Free</td>\n",
              "      <td>0</td>\n",
              "      <td>Everyone</td>\n",
              "      <td>Tools</td>\n",
              "      <td>January 29, 2016</td>\n",
              "      <td>1.1</td>\n",
              "      <td>4.0 and up</td>\n",
              "    </tr>\n",
              "    <tr>\n",
              "      <th>10761</th>\n",
              "      <td>Greek Bible FP (Audio)</td>\n",
              "      <td>BOOKS_AND_REFERENCE</td>\n",
              "      <td>NaN</td>\n",
              "      <td>5</td>\n",
              "      <td>8.0M</td>\n",
              "      <td>1,000+</td>\n",
              "      <td>Free</td>\n",
              "      <td>0</td>\n",
              "      <td>Everyone</td>\n",
              "      <td>Books &amp; Reference</td>\n",
              "      <td>August 29, 2016</td>\n",
              "      <td>1.0.0</td>\n",
              "      <td>4.0.3 and up</td>\n",
              "    </tr>\n",
              "    <tr>\n",
              "      <th>10762</th>\n",
              "      <td>The FP Shield</td>\n",
              "      <td>NEWS_AND_MAGAZINES</td>\n",
              "      <td>NaN</td>\n",
              "      <td>0</td>\n",
              "      <td>11M</td>\n",
              "      <td>10+</td>\n",
              "      <td>Free</td>\n",
              "      <td>0</td>\n",
              "      <td>Everyone</td>\n",
              "      <td>News &amp; Magazines</td>\n",
              "      <td>February 1, 2018</td>\n",
              "      <td>1.1.0</td>\n",
              "      <td>4.4 and up</td>\n",
              "    </tr>\n",
              "    <tr>\n",
              "      <th>10764</th>\n",
              "      <td>FP Transportation</td>\n",
              "      <td>AUTO_AND_VEHICLES</td>\n",
              "      <td>NaN</td>\n",
              "      <td>1</td>\n",
              "      <td>885k</td>\n",
              "      <td>1+</td>\n",
              "      <td>Free</td>\n",
              "      <td>0</td>\n",
              "      <td>Everyone</td>\n",
              "      <td>Auto &amp; Vehicles</td>\n",
              "      <td>March 9, 2018</td>\n",
              "      <td>10.0.0</td>\n",
              "      <td>4.0 and up</td>\n",
              "    </tr>\n",
              "    <tr>\n",
              "      <th>10769</th>\n",
              "      <td>FQ Magazine</td>\n",
              "      <td>LIFESTYLE</td>\n",
              "      <td>NaN</td>\n",
              "      <td>1</td>\n",
              "      <td>12M</td>\n",
              "      <td>100+</td>\n",
              "      <td>Free</td>\n",
              "      <td>0</td>\n",
              "      <td>Everyone</td>\n",
              "      <td>Lifestyle</td>\n",
              "      <td>December 12, 2016</td>\n",
              "      <td>1.0</td>\n",
              "      <td>4.1 and up</td>\n",
              "    </tr>\n",
              "    <tr>\n",
              "      <th>10772</th>\n",
              "      <td>FQ Load Board for Transporters</td>\n",
              "      <td>BUSINESS</td>\n",
              "      <td>NaN</td>\n",
              "      <td>0</td>\n",
              "      <td>3.9M</td>\n",
              "      <td>100+</td>\n",
              "      <td>Free</td>\n",
              "      <td>0</td>\n",
              "      <td>Everyone</td>\n",
              "      <td>Business</td>\n",
              "      <td>February 16, 2018</td>\n",
              "      <td>1.1.3</td>\n",
              "      <td>5.0 and up</td>\n",
              "    </tr>\n",
              "    <tr>\n",
              "      <th>10773</th>\n",
              "      <td>FQ India</td>\n",
              "      <td>LIFESTYLE</td>\n",
              "      <td>NaN</td>\n",
              "      <td>0</td>\n",
              "      <td>8.9M</td>\n",
              "      <td>10+</td>\n",
              "      <td>Free</td>\n",
              "      <td>0</td>\n",
              "      <td>Everyone</td>\n",
              "      <td>Lifestyle</td>\n",
              "      <td>July 31, 2018</td>\n",
              "      <td>7.2.2</td>\n",
              "      <td>4.1 and up</td>\n",
              "    </tr>\n",
              "    <tr>\n",
              "      <th>10774</th>\n",
              "      <td>Miss FQ</td>\n",
              "      <td>NEWS_AND_MAGAZINES</td>\n",
              "      <td>NaN</td>\n",
              "      <td>0</td>\n",
              "      <td>36M</td>\n",
              "      <td>10+</td>\n",
              "      <td>Free</td>\n",
              "      <td>0</td>\n",
              "      <td>Everyone</td>\n",
              "      <td>News &amp; Magazines</td>\n",
              "      <td>April 5, 2018</td>\n",
              "      <td>3.8</td>\n",
              "      <td>4.4 and up</td>\n",
              "    </tr>\n",
              "    <tr>\n",
              "      <th>10775</th>\n",
              "      <td>FQ - Football Quiz</td>\n",
              "      <td>SPORTS</td>\n",
              "      <td>NaN</td>\n",
              "      <td>1</td>\n",
              "      <td>9.0M</td>\n",
              "      <td>1+</td>\n",
              "      <td>Free</td>\n",
              "      <td>0</td>\n",
              "      <td>Everyone</td>\n",
              "      <td>Sports</td>\n",
              "      <td>May 29, 2018</td>\n",
              "      <td>1.0</td>\n",
              "      <td>5.0 and up</td>\n",
              "    </tr>\n",
              "    <tr>\n",
              "      <th>10788</th>\n",
              "      <td>Fountain Live Wallpaper HD â Dubai Wallpaper 3D</td>\n",
              "      <td>PERSONALIZATION</td>\n",
              "      <td>NaN</td>\n",
              "      <td>1</td>\n",
              "      <td>20M</td>\n",
              "      <td>500+</td>\n",
              "      <td>Free</td>\n",
              "      <td>0</td>\n",
              "      <td>Everyone</td>\n",
              "      <td>Personalization</td>\n",
              "      <td>April 13, 2018</td>\n",
              "      <td>1.0</td>\n",
              "      <td>4.1 and up</td>\n",
              "    </tr>\n",
              "    <tr>\n",
              "      <th>10794</th>\n",
              "      <td>PopStar</td>\n",
              "      <td>FAMILY</td>\n",
              "      <td>NaN</td>\n",
              "      <td>13</td>\n",
              "      <td>5.7M</td>\n",
              "      <td>1,000+</td>\n",
              "      <td>Free</td>\n",
              "      <td>0</td>\n",
              "      <td>Everyone</td>\n",
              "      <td>Casual</td>\n",
              "      <td>January 3, 2018</td>\n",
              "      <td>1.6</td>\n",
              "      <td>4.3 and up</td>\n",
              "    </tr>\n",
              "    <tr>\n",
              "      <th>10798</th>\n",
              "      <td>Word Search Tab 1 FR</td>\n",
              "      <td>FAMILY</td>\n",
              "      <td>NaN</td>\n",
              "      <td>0</td>\n",
              "      <td>1020k</td>\n",
              "      <td>50+</td>\n",
              "      <td>Paid</td>\n",
              "      <td>1.04</td>\n",
              "      <td>Everyone</td>\n",
              "      <td>Puzzle</td>\n",
              "      <td>February 6, 2012</td>\n",
              "      <td>1.1</td>\n",
              "      <td>3.0 and up</td>\n",
              "    </tr>\n",
              "    <tr>\n",
              "      <th>10806</th>\n",
              "      <td>SnakeBite911 FR</td>\n",
              "      <td>MEDICAL</td>\n",
              "      <td>NaN</td>\n",
              "      <td>1</td>\n",
              "      <td>42M</td>\n",
              "      <td>500+</td>\n",
              "      <td>Free</td>\n",
              "      <td>0</td>\n",
              "      <td>Everyone</td>\n",
              "      <td>Medical</td>\n",
              "      <td>October 9, 2017</td>\n",
              "      <td>1.2</td>\n",
              "      <td>4.1 and up</td>\n",
              "    </tr>\n",
              "    <tr>\n",
              "      <th>10807</th>\n",
              "      <td>My FR App</td>\n",
              "      <td>TOOLS</td>\n",
              "      <td>NaN</td>\n",
              "      <td>2</td>\n",
              "      <td>4.2M</td>\n",
              "      <td>100+</td>\n",
              "      <td>Free</td>\n",
              "      <td>0</td>\n",
              "      <td>Everyone</td>\n",
              "      <td>Tools</td>\n",
              "      <td>April 9, 2018</td>\n",
              "      <td>1.283.0037</td>\n",
              "      <td>2.3.3 and up</td>\n",
              "    </tr>\n",
              "    <tr>\n",
              "      <th>10808</th>\n",
              "      <td>lesparticuliers.fr</td>\n",
              "      <td>LIFESTYLE</td>\n",
              "      <td>NaN</td>\n",
              "      <td>96</td>\n",
              "      <td>1.0M</td>\n",
              "      <td>50,000+</td>\n",
              "      <td>Free</td>\n",
              "      <td>0</td>\n",
              "      <td>Everyone</td>\n",
              "      <td>Lifestyle</td>\n",
              "      <td>November 25, 2014</td>\n",
              "      <td>1.5</td>\n",
              "      <td>2.3 and up</td>\n",
              "    </tr>\n",
              "    <tr>\n",
              "      <th>10811</th>\n",
              "      <td>FR Plus 1.6</td>\n",
              "      <td>AUTO_AND_VEHICLES</td>\n",
              "      <td>NaN</td>\n",
              "      <td>4</td>\n",
              "      <td>3.9M</td>\n",
              "      <td>100+</td>\n",
              "      <td>Free</td>\n",
              "      <td>0</td>\n",
              "      <td>Everyone</td>\n",
              "      <td>Auto &amp; Vehicles</td>\n",
              "      <td>July 24, 2018</td>\n",
              "      <td>1.3.6</td>\n",
              "      <td>4.4W and up</td>\n",
              "    </tr>\n",
              "    <tr>\n",
              "      <th>10813</th>\n",
              "      <td>DICT.fr Mobile</td>\n",
              "      <td>BUSINESS</td>\n",
              "      <td>NaN</td>\n",
              "      <td>20</td>\n",
              "      <td>2.7M</td>\n",
              "      <td>10,000+</td>\n",
              "      <td>Free</td>\n",
              "      <td>0</td>\n",
              "      <td>Everyone</td>\n",
              "      <td>Business</td>\n",
              "      <td>July 17, 2018</td>\n",
              "      <td>2.1.10</td>\n",
              "      <td>4.1 and up</td>\n",
              "    </tr>\n",
              "    <tr>\n",
              "      <th>10816</th>\n",
              "      <td>FieldBi FR Offline</td>\n",
              "      <td>BUSINESS</td>\n",
              "      <td>NaN</td>\n",
              "      <td>2</td>\n",
              "      <td>6.8M</td>\n",
              "      <td>100+</td>\n",
              "      <td>Free</td>\n",
              "      <td>0</td>\n",
              "      <td>Everyone</td>\n",
              "      <td>Business</td>\n",
              "      <td>August 6, 2018</td>\n",
              "      <td>2.1.8</td>\n",
              "      <td>4.1 and up</td>\n",
              "    </tr>\n",
              "    <tr>\n",
              "      <th>10818</th>\n",
              "      <td>Gold Quote - Gold.fr</td>\n",
              "      <td>FINANCE</td>\n",
              "      <td>NaN</td>\n",
              "      <td>96</td>\n",
              "      <td>1.5M</td>\n",
              "      <td>10,000+</td>\n",
              "      <td>Free</td>\n",
              "      <td>0</td>\n",
              "      <td>Everyone</td>\n",
              "      <td>Finance</td>\n",
              "      <td>May 19, 2016</td>\n",
              "      <td>2.3</td>\n",
              "      <td>2.2 and up</td>\n",
              "    </tr>\n",
              "    <tr>\n",
              "      <th>10821</th>\n",
              "      <td>Poop FR</td>\n",
              "      <td>FAMILY</td>\n",
              "      <td>NaN</td>\n",
              "      <td>6</td>\n",
              "      <td>2.5M</td>\n",
              "      <td>50+</td>\n",
              "      <td>Free</td>\n",
              "      <td>0</td>\n",
              "      <td>Everyone</td>\n",
              "      <td>Entertainment</td>\n",
              "      <td>May 29, 2018</td>\n",
              "      <td>1.0</td>\n",
              "      <td>4.0.3 and up</td>\n",
              "    </tr>\n",
              "    <tr>\n",
              "      <th>10822</th>\n",
              "      <td>PLMGSS FR</td>\n",
              "      <td>PRODUCTIVITY</td>\n",
              "      <td>NaN</td>\n",
              "      <td>0</td>\n",
              "      <td>3.1M</td>\n",
              "      <td>10+</td>\n",
              "      <td>Free</td>\n",
              "      <td>0</td>\n",
              "      <td>Everyone</td>\n",
              "      <td>Productivity</td>\n",
              "      <td>December 1, 2017</td>\n",
              "      <td>1</td>\n",
              "      <td>4.4 and up</td>\n",
              "    </tr>\n",
              "    <tr>\n",
              "      <th>10823</th>\n",
              "      <td>List iptv FR</td>\n",
              "      <td>VIDEO_PLAYERS</td>\n",
              "      <td>NaN</td>\n",
              "      <td>1</td>\n",
              "      <td>2.9M</td>\n",
              "      <td>100+</td>\n",
              "      <td>Free</td>\n",
              "      <td>0</td>\n",
              "      <td>Everyone</td>\n",
              "      <td>Video Players &amp; Editors</td>\n",
              "      <td>April 22, 2018</td>\n",
              "      <td>1.0</td>\n",
              "      <td>4.0.3 and up</td>\n",
              "    </tr>\n",
              "    <tr>\n",
              "      <th>10824</th>\n",
              "      <td>Cardio-FR</td>\n",
              "      <td>MEDICAL</td>\n",
              "      <td>NaN</td>\n",
              "      <td>67</td>\n",
              "      <td>82M</td>\n",
              "      <td>10,000+</td>\n",
              "      <td>Free</td>\n",
              "      <td>0</td>\n",
              "      <td>Everyone</td>\n",
              "      <td>Medical</td>\n",
              "      <td>July 31, 2018</td>\n",
              "      <td>2.2.2</td>\n",
              "      <td>4.4 and up</td>\n",
              "    </tr>\n",
              "    <tr>\n",
              "      <th>10825</th>\n",
              "      <td>Naruto &amp; Boruto FR</td>\n",
              "      <td>SOCIAL</td>\n",
              "      <td>NaN</td>\n",
              "      <td>7</td>\n",
              "      <td>7.7M</td>\n",
              "      <td>100+</td>\n",
              "      <td>Free</td>\n",
              "      <td>0</td>\n",
              "      <td>Teen</td>\n",
              "      <td>Social</td>\n",
              "      <td>February 2, 2018</td>\n",
              "      <td>1.0</td>\n",
              "      <td>4.0 and up</td>\n",
              "    </tr>\n",
              "    <tr>\n",
              "      <th>10831</th>\n",
              "      <td>payermonstationnement.fr</td>\n",
              "      <td>MAPS_AND_NAVIGATION</td>\n",
              "      <td>NaN</td>\n",
              "      <td>38</td>\n",
              "      <td>9.8M</td>\n",
              "      <td>5,000+</td>\n",
              "      <td>Free</td>\n",
              "      <td>0</td>\n",
              "      <td>Everyone</td>\n",
              "      <td>Maps &amp; Navigation</td>\n",
              "      <td>June 13, 2018</td>\n",
              "      <td>2.0.148.0</td>\n",
              "      <td>4.0 and up</td>\n",
              "    </tr>\n",
              "    <tr>\n",
              "      <th>10835</th>\n",
              "      <td>FR Forms</td>\n",
              "      <td>BUSINESS</td>\n",
              "      <td>NaN</td>\n",
              "      <td>0</td>\n",
              "      <td>9.6M</td>\n",
              "      <td>10+</td>\n",
              "      <td>Free</td>\n",
              "      <td>0</td>\n",
              "      <td>Everyone</td>\n",
              "      <td>Business</td>\n",
              "      <td>September 29, 2016</td>\n",
              "      <td>1.1.5</td>\n",
              "      <td>4.0 and up</td>\n",
              "    </tr>\n",
              "    <tr>\n",
              "      <th>10838</th>\n",
              "      <td>Parkinson Exercices FR</td>\n",
              "      <td>MEDICAL</td>\n",
              "      <td>NaN</td>\n",
              "      <td>3</td>\n",
              "      <td>9.5M</td>\n",
              "      <td>1,000+</td>\n",
              "      <td>Free</td>\n",
              "      <td>0</td>\n",
              "      <td>Everyone</td>\n",
              "      <td>Medical</td>\n",
              "      <td>January 20, 2017</td>\n",
              "      <td>1.0</td>\n",
              "      <td>2.2 and up</td>\n",
              "    </tr>\n",
              "  </tbody>\n",
              "</table>\n",
              "<p>1463 rows × 13 columns</p>\n",
              "</div>"
            ],
            "text/plain": [
              "                                                     App             Category  \\\n",
              "23                                Mcqueen Coloring pages       ART_AND_DESIGN   \n",
              "113                            Wrinkles and rejuvenation               BEAUTY   \n",
              "123                               Manicure - nail design               BEAUTY   \n",
              "126                         Skin Care and Natural Beauty               BEAUTY   \n",
              "129                  Secrets of beauty, youth and health               BEAUTY   \n",
              "130                   Recipes and tips for losing weight               BEAUTY   \n",
              "134                        Lady adviser (beauty, health)               BEAUTY   \n",
              "163                           Anonymous caller detection  BOOKS_AND_REFERENCE   \n",
              "180                  SH-02J Owner's Manual (Android 8.0)  BOOKS_AND_REFERENCE   \n",
              "185                       URBANO V 02 instruction manual  BOOKS_AND_REFERENCE   \n",
              "227                                       Y! Mobile menu             BUSINESS   \n",
              "321    ãRanobbe complete freeã Novelba - Free app...               COMICS   \n",
              "478                                    Truth or Dare Pro               DATING   \n",
              "479      Private Dating, Hide App- Blue for PrivacyHider               DATING   \n",
              "480                                 Ad Blocker for SayHi               DATING   \n",
              "610                                    Random Video Chat               DATING   \n",
              "613                 Random Video Chat App With Strangers               DATING   \n",
              "617             Meet With Strangers: Video Chat & Dating               DATING   \n",
              "620             Ost. Zombies Cast - New Music and Lyrics               DATING   \n",
              "621                                   Dating White Girls               DATING   \n",
              "623                                         Geeks Dating               DATING   \n",
              "624                          Live chat - free video chat               DATING   \n",
              "626                  Fishing Brain & Boating Maps Marine               DATING   \n",
              "627                                   CAM5678 Video Chat               DATING   \n",
              "628                              Video chat live advices               DATING   \n",
              "629                                       chat live chat               DATING   \n",
              "630                                    Pet Lovers Dating               DATING   \n",
              "631            Friend Find: free chat + flirt dating app               DATING   \n",
              "632                                         Latin Dating               DATING   \n",
              "635                                          Wifi Mingle               DATING   \n",
              "...                                                  ...                  ...   \n",
              "10746                                         FP Opgaver                TOOLS   \n",
              "10748                                            FP Live        COMMUNICATION   \n",
              "10751                                          FP Market               FAMILY   \n",
              "10759                                     FP NFC Rewrite                TOOLS   \n",
              "10761                             Greek Bible FP (Audio)  BOOKS_AND_REFERENCE   \n",
              "10762                                      The FP Shield   NEWS_AND_MAGAZINES   \n",
              "10764                                  FP Transportation    AUTO_AND_VEHICLES   \n",
              "10769                                        FQ Magazine            LIFESTYLE   \n",
              "10772                     FQ Load Board for Transporters             BUSINESS   \n",
              "10773                                           FQ India            LIFESTYLE   \n",
              "10774                                            Miss FQ   NEWS_AND_MAGAZINES   \n",
              "10775                                 FQ - Football Quiz               SPORTS   \n",
              "10788  Fountain Live Wallpaper HD â Dubai Wallpaper 3D      PERSONALIZATION   \n",
              "10794                                            PopStar               FAMILY   \n",
              "10798                               Word Search Tab 1 FR               FAMILY   \n",
              "10806                                    SnakeBite911 FR              MEDICAL   \n",
              "10807                                          My FR App                TOOLS   \n",
              "10808                                 lesparticuliers.fr            LIFESTYLE   \n",
              "10811                                        FR Plus 1.6    AUTO_AND_VEHICLES   \n",
              "10813                                     DICT.fr Mobile             BUSINESS   \n",
              "10816                                 FieldBi FR Offline             BUSINESS   \n",
              "10818                               Gold Quote - Gold.fr              FINANCE   \n",
              "10821                                            Poop FR               FAMILY   \n",
              "10822                                          PLMGSS FR         PRODUCTIVITY   \n",
              "10823                                       List iptv FR        VIDEO_PLAYERS   \n",
              "10824                                          Cardio-FR              MEDICAL   \n",
              "10825                                 Naruto & Boruto FR               SOCIAL   \n",
              "10831                           payermonstationnement.fr  MAPS_AND_NAVIGATION   \n",
              "10835                                           FR Forms             BUSINESS   \n",
              "10838                             Parkinson Exercices FR              MEDICAL   \n",
              "\n",
              "       Rating Reviews   Size  Installs  Type Price Content Rating  \\\n",
              "23        NaN      61   7.0M  100,000+  Free     0       Everyone   \n",
              "113       NaN     182   5.7M  100,000+  Free     0   Everyone 10+   \n",
              "123       NaN     119   3.7M   50,000+  Free     0       Everyone   \n",
              "126       NaN     654   7.4M  100,000+  Free     0           Teen   \n",
              "129       NaN      77   2.9M   10,000+  Free     0     Mature 17+   \n",
              "130       NaN      35   3.1M   10,000+  Free     0   Everyone 10+   \n",
              "134       NaN      30   9.9M   10,000+  Free     0     Mature 17+   \n",
              "163       NaN     161   2.7M   10,000+  Free     0       Everyone   \n",
              "180       NaN       2   7.2M   50,000+  Free     0       Everyone   \n",
              "185       NaN     114   7.3M  100,000+  Free     0       Everyone   \n",
              "227       NaN       9   1.2M  100,000+  Free     0       Everyone   \n",
              "321       NaN    1330    22M   50,000+  Free     0       Everyone   \n",
              "478       NaN       0    20M       50+  Paid  1.49           Teen   \n",
              "479       NaN       0    18k      100+  Paid  2.99       Everyone   \n",
              "480       NaN       4   1.2M      100+  Paid  3.99           Teen   \n",
              "610       NaN       3    16M    1,000+  Free     0     Mature 17+   \n",
              "613       NaN       3   4.8M    1,000+  Free     0     Mature 17+   \n",
              "617       NaN       2   3.7M      500+  Free     0     Mature 17+   \n",
              "620       NaN       1   4.6M      100+  Free     0           Teen   \n",
              "621       NaN       0   3.6M       50+  Free     0     Mature 17+   \n",
              "623       NaN       0    13M       50+  Free     0     Mature 17+   \n",
              "624       NaN       1   8.7M      500+  Free     0     Mature 17+   \n",
              "626       NaN       3   6.9M      500+  Free     0       Everyone   \n",
              "627       NaN       0    39M      500+  Free     0     Mature 17+   \n",
              "628       NaN       0   8.0M      100+  Free     0       Everyone   \n",
              "629       NaN      24   3.9M    1,000+  Free     0     Mature 17+   \n",
              "630       NaN       0    14M       10+  Free     0     Mature 17+   \n",
              "631       NaN      23    11M      100+  Free     0     Mature 17+   \n",
              "632       NaN       0    13M       10+  Free     0     Mature 17+   \n",
              "635       NaN       0  10.0M       10+  Free     0       Everyone   \n",
              "...       ...     ...    ...       ...   ...   ...            ...   \n",
              "10746     NaN       9    61M    1,000+  Free     0       Everyone   \n",
              "10748     NaN       0   3.3M       10+  Free     0           Teen   \n",
              "10751     NaN      24    44k    1,000+  Free     0       Everyone   \n",
              "10759     NaN      17    67k    1,000+  Free     0       Everyone   \n",
              "10761     NaN       5   8.0M    1,000+  Free     0       Everyone   \n",
              "10762     NaN       0    11M       10+  Free     0       Everyone   \n",
              "10764     NaN       1   885k        1+  Free     0       Everyone   \n",
              "10769     NaN       1    12M      100+  Free     0       Everyone   \n",
              "10772     NaN       0   3.9M      100+  Free     0       Everyone   \n",
              "10773     NaN       0   8.9M       10+  Free     0       Everyone   \n",
              "10774     NaN       0    36M       10+  Free     0       Everyone   \n",
              "10775     NaN       1   9.0M        1+  Free     0       Everyone   \n",
              "10788     NaN       1    20M      500+  Free     0       Everyone   \n",
              "10794     NaN      13   5.7M    1,000+  Free     0       Everyone   \n",
              "10798     NaN       0  1020k       50+  Paid  1.04       Everyone   \n",
              "10806     NaN       1    42M      500+  Free     0       Everyone   \n",
              "10807     NaN       2   4.2M      100+  Free     0       Everyone   \n",
              "10808     NaN      96   1.0M   50,000+  Free     0       Everyone   \n",
              "10811     NaN       4   3.9M      100+  Free     0       Everyone   \n",
              "10813     NaN      20   2.7M   10,000+  Free     0       Everyone   \n",
              "10816     NaN       2   6.8M      100+  Free     0       Everyone   \n",
              "10818     NaN      96   1.5M   10,000+  Free     0       Everyone   \n",
              "10821     NaN       6   2.5M       50+  Free     0       Everyone   \n",
              "10822     NaN       0   3.1M       10+  Free     0       Everyone   \n",
              "10823     NaN       1   2.9M      100+  Free     0       Everyone   \n",
              "10824     NaN      67    82M   10,000+  Free     0       Everyone   \n",
              "10825     NaN       7   7.7M      100+  Free     0           Teen   \n",
              "10831     NaN      38   9.8M    5,000+  Free     0       Everyone   \n",
              "10835     NaN       0   9.6M       10+  Free     0       Everyone   \n",
              "10838     NaN       3   9.5M    1,000+  Free     0       Everyone   \n",
              "\n",
              "                                Genres        Last Updated Current Ver  \\\n",
              "23     Art & Design;Action & Adventure       March 7, 2018       1.0.0   \n",
              "113                             Beauty  September 20, 2017         8.0   \n",
              "123                             Beauty       July 23, 2018         1.3   \n",
              "126                             Beauty       July 17, 2018        1.15   \n",
              "129                             Beauty      August 8, 2017         2.0   \n",
              "130                             Beauty   December 11, 2017         2.0   \n",
              "134                             Beauty    January 24, 2018         3.0   \n",
              "163                  Books & Reference       July 13, 2018         1.0   \n",
              "180                  Books & Reference       June 15, 2018         3.0   \n",
              "185                  Books & Reference      August 7, 2015         1.1   \n",
              "227                           Business       April 9, 2018       1.0.5   \n",
              "321                             Comics        July 3, 2018       6.1.1   \n",
              "478                             Dating   September 1, 2017         1.0   \n",
              "479                             Dating       July 25, 2017       1.0.1   \n",
              "480                             Dating      August 2, 2018         1.2   \n",
              "610                             Dating       July 15, 2018        4.20   \n",
              "613                             Dating       July 17, 2018          1.   \n",
              "617                             Dating       July 16, 2018          1.   \n",
              "620                             Dating       July 20, 2018         1.0   \n",
              "621                             Dating       July 20, 2018         1.0   \n",
              "623                             Dating       July 10, 2018         1.0   \n",
              "624                             Dating       July 23, 2018        3.52   \n",
              "626                             Dating       July 23, 2018         1.0   \n",
              "627                             Dating       July 13, 2018       5.5.8   \n",
              "628                             Dating       July 10, 2018         1.0   \n",
              "629                             Dating       July 26, 2018         1.0   \n",
              "630                             Dating        July 9, 2018         1.0   \n",
              "631                             Dating       July 31, 2018         1.0   \n",
              "632                             Dating        July 9, 2018         1.0   \n",
              "635                             Dating       July 27, 2018         1.3   \n",
              "...                                ...                 ...         ...   \n",
              "10746                            Tools        May 31, 2018         1.9   \n",
              "10748                    Communication    November 3, 2017       1.2.4   \n",
              "10751                        Education       June 17, 2012         1.0   \n",
              "10759                            Tools    January 29, 2016         1.1   \n",
              "10761                Books & Reference     August 29, 2016       1.0.0   \n",
              "10762                 News & Magazines    February 1, 2018       1.1.0   \n",
              "10764                  Auto & Vehicles       March 9, 2018      10.0.0   \n",
              "10769                        Lifestyle   December 12, 2016         1.0   \n",
              "10772                         Business   February 16, 2018       1.1.3   \n",
              "10773                        Lifestyle       July 31, 2018       7.2.2   \n",
              "10774                 News & Magazines       April 5, 2018         3.8   \n",
              "10775                           Sports        May 29, 2018         1.0   \n",
              "10788                  Personalization      April 13, 2018         1.0   \n",
              "10794                           Casual     January 3, 2018         1.6   \n",
              "10798                           Puzzle    February 6, 2012         1.1   \n",
              "10806                          Medical     October 9, 2017         1.2   \n",
              "10807                            Tools       April 9, 2018  1.283.0037   \n",
              "10808                        Lifestyle   November 25, 2014         1.5   \n",
              "10811                  Auto & Vehicles       July 24, 2018       1.3.6   \n",
              "10813                         Business       July 17, 2018      2.1.10   \n",
              "10816                         Business      August 6, 2018       2.1.8   \n",
              "10818                          Finance        May 19, 2016         2.3   \n",
              "10821                    Entertainment        May 29, 2018         1.0   \n",
              "10822                     Productivity    December 1, 2017           1   \n",
              "10823          Video Players & Editors      April 22, 2018         1.0   \n",
              "10824                          Medical       July 31, 2018       2.2.2   \n",
              "10825                           Social    February 2, 2018         1.0   \n",
              "10831                Maps & Navigation       June 13, 2018   2.0.148.0   \n",
              "10835                         Business  September 29, 2016       1.1.5   \n",
              "10838                          Medical    January 20, 2017         1.0   \n",
              "\n",
              "        Android Ver  \n",
              "23       4.1 and up  \n",
              "113      3.0 and up  \n",
              "123      4.1 and up  \n",
              "126      4.1 and up  \n",
              "129      2.3 and up  \n",
              "130      3.0 and up  \n",
              "134      3.0 and up  \n",
              "163      2.3 and up  \n",
              "180      6.0 and up  \n",
              "185      5.1 and up  \n",
              "227      6.0 and up  \n",
              "321      4.2 and up  \n",
              "478      4.0 and up  \n",
              "479      4.0 and up  \n",
              "480    4.0.3 and up  \n",
              "610    4.0.3 and up  \n",
              "613      4.0 and up  \n",
              "617      4.0 and up  \n",
              "620    4.0.3 and up  \n",
              "621      4.0 and up  \n",
              "623      4.1 and up  \n",
              "624    4.0.3 and up  \n",
              "626    4.0.3 and up  \n",
              "627    4.0.3 and up  \n",
              "628      3.0 and up  \n",
              "629      4.0 and up  \n",
              "630      4.1 and up  \n",
              "631      4.4 and up  \n",
              "632      4.1 and up  \n",
              "635      4.4 and up  \n",
              "...             ...  \n",
              "10746  4.0.3 and up  \n",
              "10748    4.2 and up  \n",
              "10751    1.6 and up  \n",
              "10759    4.0 and up  \n",
              "10761  4.0.3 and up  \n",
              "10762    4.4 and up  \n",
              "10764    4.0 and up  \n",
              "10769    4.1 and up  \n",
              "10772    5.0 and up  \n",
              "10773    4.1 and up  \n",
              "10774    4.4 and up  \n",
              "10775    5.0 and up  \n",
              "10788    4.1 and up  \n",
              "10794    4.3 and up  \n",
              "10798    3.0 and up  \n",
              "10806    4.1 and up  \n",
              "10807  2.3.3 and up  \n",
              "10808    2.3 and up  \n",
              "10811   4.4W and up  \n",
              "10813    4.1 and up  \n",
              "10816    4.1 and up  \n",
              "10818    2.2 and up  \n",
              "10821  4.0.3 and up  \n",
              "10822    4.4 and up  \n",
              "10823  4.0.3 and up  \n",
              "10824    4.4 and up  \n",
              "10825    4.0 and up  \n",
              "10831    4.0 and up  \n",
              "10835    4.0 and up  \n",
              "10838    2.2 and up  \n",
              "\n",
              "[1463 rows x 13 columns]"
            ]
          },
          "metadata": {
            "tags": []
          },
          "execution_count": 46
        }
      ]
    },
    {
      "metadata": {
        "id": "LXzrM1Dbcpub",
        "colab_type": "code",
        "outputId": "1845a0fd-41fb-4002-c0fb-4086c4e41dc2",
        "colab": {}
      },
      "cell_type": "code",
      "source": [
        "dataset[dataset['Current Ver'].isna()]"
      ],
      "execution_count": 0,
      "outputs": [
        {
          "output_type": "execute_result",
          "data": {
            "text/html": [
              "<div>\n",
              "<style scoped>\n",
              "    .dataframe tbody tr th:only-of-type {\n",
              "        vertical-align: middle;\n",
              "    }\n",
              "\n",
              "    .dataframe tbody tr th {\n",
              "        vertical-align: top;\n",
              "    }\n",
              "\n",
              "    .dataframe thead th {\n",
              "        text-align: right;\n",
              "    }\n",
              "</style>\n",
              "<table border=\"1\" class=\"dataframe\">\n",
              "  <thead>\n",
              "    <tr style=\"text-align: right;\">\n",
              "      <th></th>\n",
              "      <th>App</th>\n",
              "      <th>Category</th>\n",
              "      <th>Rating</th>\n",
              "      <th>Reviews</th>\n",
              "      <th>Size</th>\n",
              "      <th>Installs</th>\n",
              "      <th>Type</th>\n",
              "      <th>Price</th>\n",
              "      <th>Content Rating</th>\n",
              "      <th>Genres</th>\n",
              "      <th>Last Updated</th>\n",
              "      <th>Current Ver</th>\n",
              "      <th>Android Ver</th>\n",
              "    </tr>\n",
              "  </thead>\n",
              "  <tbody>\n",
              "    <tr>\n",
              "      <th>15</th>\n",
              "      <td>Learn To Draw Kawaii Characters</td>\n",
              "      <td>ART_AND_DESIGN</td>\n",
              "      <td>3.2</td>\n",
              "      <td>55</td>\n",
              "      <td>2.7M</td>\n",
              "      <td>5,000+</td>\n",
              "      <td>Free</td>\n",
              "      <td>0</td>\n",
              "      <td>Everyone</td>\n",
              "      <td>Art &amp; Design</td>\n",
              "      <td>June 6, 2018</td>\n",
              "      <td>NaN</td>\n",
              "      <td>4.2 and up</td>\n",
              "    </tr>\n",
              "    <tr>\n",
              "      <th>1553</th>\n",
              "      <td>Market Update Helper</td>\n",
              "      <td>LIBRARIES_AND_DEMO</td>\n",
              "      <td>4.1</td>\n",
              "      <td>20145</td>\n",
              "      <td>11k</td>\n",
              "      <td>1,000,000+</td>\n",
              "      <td>Free</td>\n",
              "      <td>0</td>\n",
              "      <td>Everyone</td>\n",
              "      <td>Libraries &amp; Demo</td>\n",
              "      <td>February 12, 2013</td>\n",
              "      <td>NaN</td>\n",
              "      <td>1.5 and up</td>\n",
              "    </tr>\n",
              "    <tr>\n",
              "      <th>6322</th>\n",
              "      <td>Virtual DJ Sound Mixer</td>\n",
              "      <td>TOOLS</td>\n",
              "      <td>4.2</td>\n",
              "      <td>4010</td>\n",
              "      <td>8.7M</td>\n",
              "      <td>500,000+</td>\n",
              "      <td>Free</td>\n",
              "      <td>0</td>\n",
              "      <td>Everyone</td>\n",
              "      <td>Tools</td>\n",
              "      <td>May 10, 2017</td>\n",
              "      <td>NaN</td>\n",
              "      <td>4.0 and up</td>\n",
              "    </tr>\n",
              "    <tr>\n",
              "      <th>6803</th>\n",
              "      <td>BT Master</td>\n",
              "      <td>FAMILY</td>\n",
              "      <td>NaN</td>\n",
              "      <td>0</td>\n",
              "      <td>222k</td>\n",
              "      <td>100+</td>\n",
              "      <td>Free</td>\n",
              "      <td>0</td>\n",
              "      <td>Everyone</td>\n",
              "      <td>Education</td>\n",
              "      <td>November 6, 2016</td>\n",
              "      <td>NaN</td>\n",
              "      <td>1.6 and up</td>\n",
              "    </tr>\n",
              "    <tr>\n",
              "      <th>7333</th>\n",
              "      <td>Dots puzzle</td>\n",
              "      <td>FAMILY</td>\n",
              "      <td>4.0</td>\n",
              "      <td>179</td>\n",
              "      <td>14M</td>\n",
              "      <td>50,000+</td>\n",
              "      <td>Paid</td>\n",
              "      <td>$0.99</td>\n",
              "      <td>Everyone</td>\n",
              "      <td>Puzzle</td>\n",
              "      <td>April 18, 2018</td>\n",
              "      <td>NaN</td>\n",
              "      <td>4.0 and up</td>\n",
              "    </tr>\n",
              "    <tr>\n",
              "      <th>7407</th>\n",
              "      <td>Calculate My IQ</td>\n",
              "      <td>FAMILY</td>\n",
              "      <td>NaN</td>\n",
              "      <td>44</td>\n",
              "      <td>7.2M</td>\n",
              "      <td>10,000+</td>\n",
              "      <td>Free</td>\n",
              "      <td>0</td>\n",
              "      <td>Everyone</td>\n",
              "      <td>Entertainment</td>\n",
              "      <td>April 3, 2017</td>\n",
              "      <td>NaN</td>\n",
              "      <td>2.3 and up</td>\n",
              "    </tr>\n",
              "    <tr>\n",
              "      <th>7730</th>\n",
              "      <td>UFO-CQ</td>\n",
              "      <td>TOOLS</td>\n",
              "      <td>NaN</td>\n",
              "      <td>1</td>\n",
              "      <td>237k</td>\n",
              "      <td>10+</td>\n",
              "      <td>Paid</td>\n",
              "      <td>$0.99</td>\n",
              "      <td>Everyone</td>\n",
              "      <td>Tools</td>\n",
              "      <td>July 4, 2016</td>\n",
              "      <td>NaN</td>\n",
              "      <td>2.0 and up</td>\n",
              "    </tr>\n",
              "    <tr>\n",
              "      <th>10342</th>\n",
              "      <td>La Fe de Jesus</td>\n",
              "      <td>BOOKS_AND_REFERENCE</td>\n",
              "      <td>NaN</td>\n",
              "      <td>8</td>\n",
              "      <td>658k</td>\n",
              "      <td>1,000+</td>\n",
              "      <td>Free</td>\n",
              "      <td>0</td>\n",
              "      <td>Everyone</td>\n",
              "      <td>Books &amp; Reference</td>\n",
              "      <td>January 31, 2017</td>\n",
              "      <td>NaN</td>\n",
              "      <td>3.0 and up</td>\n",
              "    </tr>\n",
              "  </tbody>\n",
              "</table>\n",
              "</div>"
            ],
            "text/plain": [
              "                                   App             Category  Rating Reviews  \\\n",
              "15     Learn To Draw Kawaii Characters       ART_AND_DESIGN     3.2      55   \n",
              "1553              Market Update Helper   LIBRARIES_AND_DEMO     4.1   20145   \n",
              "6322            Virtual DJ Sound Mixer                TOOLS     4.2    4010   \n",
              "6803                         BT Master               FAMILY     NaN       0   \n",
              "7333                       Dots puzzle               FAMILY     4.0     179   \n",
              "7407                   Calculate My IQ               FAMILY     NaN      44   \n",
              "7730                            UFO-CQ                TOOLS     NaN       1   \n",
              "10342                   La Fe de Jesus  BOOKS_AND_REFERENCE     NaN       8   \n",
              "\n",
              "       Size    Installs  Type  Price Content Rating             Genres  \\\n",
              "15     2.7M      5,000+  Free      0       Everyone       Art & Design   \n",
              "1553    11k  1,000,000+  Free      0       Everyone   Libraries & Demo   \n",
              "6322   8.7M    500,000+  Free      0       Everyone              Tools   \n",
              "6803   222k        100+  Free      0       Everyone          Education   \n",
              "7333    14M     50,000+  Paid  $0.99       Everyone             Puzzle   \n",
              "7407   7.2M     10,000+  Free      0       Everyone      Entertainment   \n",
              "7730   237k         10+  Paid  $0.99       Everyone              Tools   \n",
              "10342  658k      1,000+  Free      0       Everyone  Books & Reference   \n",
              "\n",
              "            Last Updated Current Ver Android Ver  \n",
              "15          June 6, 2018         NaN  4.2 and up  \n",
              "1553   February 12, 2013         NaN  1.5 and up  \n",
              "6322        May 10, 2017         NaN  4.0 and up  \n",
              "6803    November 6, 2016         NaN  1.6 and up  \n",
              "7333      April 18, 2018         NaN  4.0 and up  \n",
              "7407       April 3, 2017         NaN  2.3 and up  \n",
              "7730        July 4, 2016         NaN  2.0 and up  \n",
              "10342   January 31, 2017         NaN  3.0 and up  "
            ]
          },
          "metadata": {
            "tags": []
          },
          "execution_count": 33
        }
      ]
    },
    {
      "metadata": {
        "id": "DFR8NV_acpul",
        "colab_type": "code",
        "outputId": "dba4a7d1-bc59-4441-bb62-5dfd715457fb",
        "colab": {}
      },
      "cell_type": "code",
      "source": [
        "dataset[dataset['Android Ver'].isna()]"
      ],
      "execution_count": 0,
      "outputs": [
        {
          "output_type": "execute_result",
          "data": {
            "text/html": [
              "<div>\n",
              "<style scoped>\n",
              "    .dataframe tbody tr th:only-of-type {\n",
              "        vertical-align: middle;\n",
              "    }\n",
              "\n",
              "    .dataframe tbody tr th {\n",
              "        vertical-align: top;\n",
              "    }\n",
              "\n",
              "    .dataframe thead th {\n",
              "        text-align: right;\n",
              "    }\n",
              "</style>\n",
              "<table border=\"1\" class=\"dataframe\">\n",
              "  <thead>\n",
              "    <tr style=\"text-align: right;\">\n",
              "      <th></th>\n",
              "      <th>App</th>\n",
              "      <th>Category</th>\n",
              "      <th>Rating</th>\n",
              "      <th>Reviews</th>\n",
              "      <th>Size</th>\n",
              "      <th>Installs</th>\n",
              "      <th>Type</th>\n",
              "      <th>Price</th>\n",
              "      <th>Content Rating</th>\n",
              "      <th>Genres</th>\n",
              "      <th>Last Updated</th>\n",
              "      <th>Current Ver</th>\n",
              "      <th>Android Ver</th>\n",
              "    </tr>\n",
              "  </thead>\n",
              "  <tbody>\n",
              "    <tr>\n",
              "      <th>4453</th>\n",
              "      <td>[substratum] Vacuum: P</td>\n",
              "      <td>PERSONALIZATION</td>\n",
              "      <td>4.4</td>\n",
              "      <td>230</td>\n",
              "      <td>11M</td>\n",
              "      <td>1,000+</td>\n",
              "      <td>Paid</td>\n",
              "      <td>$1.49</td>\n",
              "      <td>Everyone</td>\n",
              "      <td>Personalization</td>\n",
              "      <td>July 20, 2018</td>\n",
              "      <td>4.4</td>\n",
              "      <td>NaN</td>\n",
              "    </tr>\n",
              "    <tr>\n",
              "      <th>4490</th>\n",
              "      <td>Pi Dark [substratum]</td>\n",
              "      <td>PERSONALIZATION</td>\n",
              "      <td>4.5</td>\n",
              "      <td>189</td>\n",
              "      <td>2.1M</td>\n",
              "      <td>10,000+</td>\n",
              "      <td>Free</td>\n",
              "      <td>0</td>\n",
              "      <td>Everyone</td>\n",
              "      <td>Personalization</td>\n",
              "      <td>March 27, 2018</td>\n",
              "      <td>1.1</td>\n",
              "      <td>NaN</td>\n",
              "    </tr>\n",
              "    <tr>\n",
              "      <th>10472</th>\n",
              "      <td>Life Made WI-Fi Touchscreen Photo Frame</td>\n",
              "      <td>1.9</td>\n",
              "      <td>19.0</td>\n",
              "      <td>3.0M</td>\n",
              "      <td>1,000+</td>\n",
              "      <td>Free</td>\n",
              "      <td>0</td>\n",
              "      <td>Everyone</td>\n",
              "      <td>NaN</td>\n",
              "      <td>February 11, 2018</td>\n",
              "      <td>1.0.19</td>\n",
              "      <td>4.0 and up</td>\n",
              "      <td>NaN</td>\n",
              "    </tr>\n",
              "  </tbody>\n",
              "</table>\n",
              "</div>"
            ],
            "text/plain": [
              "                                           App         Category  Rating  \\\n",
              "4453                    [substratum] Vacuum: P  PERSONALIZATION     4.4   \n",
              "4490                      Pi Dark [substratum]  PERSONALIZATION     4.5   \n",
              "10472  Life Made WI-Fi Touchscreen Photo Frame              1.9    19.0   \n",
              "\n",
              "      Reviews    Size Installs  Type     Price Content Rating  \\\n",
              "4453      230     11M   1,000+  Paid     $1.49       Everyone   \n",
              "4490      189    2.1M  10,000+  Free         0       Everyone   \n",
              "10472    3.0M  1,000+     Free     0  Everyone            NaN   \n",
              "\n",
              "                  Genres    Last Updated Current Ver Android Ver  \n",
              "4453     Personalization   July 20, 2018         4.4         NaN  \n",
              "4490     Personalization  March 27, 2018         1.1         NaN  \n",
              "10472  February 11, 2018          1.0.19  4.0 and up         NaN  "
            ]
          },
          "metadata": {
            "tags": []
          },
          "execution_count": 7
        }
      ]
    },
    {
      "metadata": {
        "id": "amq01YJwHVI8",
        "colab_type": "text"
      },
      "cell_type": "markdown",
      "source": [
        "**Transformando o tipo das colunas a seguir em categórico, de acordo com os resultados mostrados ao descrever cada uma delas** "
      ]
    },
    {
      "metadata": {
        "id": "ddaQgqvQcpu5",
        "colab_type": "code",
        "colab": {}
      },
      "cell_type": "code",
      "source": [
        "dataset['Type'] = dataset['Type'].astype(\"category\")\n",
        "dataset['Content Rating'] = dataset['Content Rating'].astype(\"category\") \n",
        "dataset['Category'] = dataset['Category'].astype(\"category\") \n",
        "dataset['Installs'] = dataset['Installs'].astype(\"category\")\n",
        "dataset['Android Ver'] = dataset['Android Ver'].astype(\"category\")\n",
        "dataset['Current Ver'] = dataset['Current Ver'].astype(\"category\")\n",
        "dataset['Size'] = dataset['Size'].astype(\"category\")"
      ],
      "execution_count": 0,
      "outputs": []
    },
    {
      "metadata": {
        "id": "l6zSAWLrcpvC",
        "colab_type": "code",
        "outputId": "85267996-2d85-4dd9-b137-bc1d2b3d510a",
        "colab": {
          "base_uri": "https://localhost:8080/",
          "height": 238
        }
      },
      "cell_type": "code",
      "source": [
        "dataset.dtypes\n"
      ],
      "execution_count": 40,
      "outputs": [
        {
          "output_type": "execute_result",
          "data": {
            "text/plain": [
              "App                       object\n",
              "Category                    int8\n",
              "Rating                   float64\n",
              "Reviews                    int64\n",
              "Size                    category\n",
              "Installs                    int8\n",
              "Type                        int8\n",
              "Price                    float64\n",
              "Content Rating              int8\n",
              "Last Updated      datetime64[ns]\n",
              "Current Ver                int16\n",
              "Android Ver                 int8\n",
              "dtype: object"
            ]
          },
          "metadata": {
            "tags": []
          },
          "execution_count": 40
        }
      ]
    },
    {
      "metadata": {
        "id": "I1KCfHsqcpvM",
        "colab_type": "code",
        "colab": {}
      },
      "cell_type": "code",
      "source": [
        "dataset['Type'] = dataset['Type'].cat.codes\n",
        "dataset['Content Rating'] = dataset['Content Rating'].cat.codes\n",
        "dataset['Category'] = dataset['Category'].cat.codes\n",
        "dataset['Installs'] = dataset['Installs'].cat.codes\n",
        "dataset['Android Ver'] = dataset['Android Ver'].cat.codes\n",
        "dataset['Current Ver'] = dataset['Current Ver'].cat.codes\n",
        "dataset['Size'] = dataset['Size'].cat.codes\n",
        "#dataset.corr(method='spearman')\n",
        "#dataset['App'] = dataset['App'].astype('str')\n",
        "#dataset.dtypes"
      ],
      "execution_count": 0,
      "outputs": []
    },
    {
      "metadata": {
        "id": "J7Sri8CxcpvT",
        "colab_type": "code",
        "outputId": "e7852286-84a4-42b0-e9b4-3af00163ad68",
        "colab": {}
      },
      "cell_type": "code",
      "source": [
        "dataset['Type'].describe()"
      ],
      "execution_count": 0,
      "outputs": [
        {
          "output_type": "execute_result",
          "data": {
            "text/plain": [
              "count    10840.000000\n",
              "mean         0.073708\n",
              "std          0.261661\n",
              "min         -1.000000\n",
              "25%          0.000000\n",
              "50%          0.000000\n",
              "75%          0.000000\n",
              "max          1.000000\n",
              "Name: Type, dtype: float64"
            ]
          },
          "metadata": {
            "tags": []
          },
          "execution_count": 27
        }
      ]
    },
    {
      "metadata": {
        "id": "5I3lzrmlcpvm",
        "colab_type": "code",
        "outputId": "404181ae-3020-4859-90a9-a0d94eac4f1b",
        "colab": {}
      },
      "cell_type": "code",
      "source": [
        "from scipy import stats\n",
        "import seaborn as sb\n",
        "import matplotlib.pyplot as plt\n",
        "\n",
        "stats.mannwhitneyu(apps_free,apps_paid)"
      ],
      "execution_count": 0,
      "outputs": [
        {
          "output_type": "execute_result",
          "data": {
            "text/plain": [
              "MannwhitneyuResult(statistic=3428972.5, pvalue=2.5377327648945917e-12)"
            ]
          },
          "metadata": {
            "tags": []
          },
          "execution_count": 30
        }
      ]
    },
    {
      "metadata": {
        "id": "PVPKHg6Wcpvu",
        "colab_type": "code",
        "outputId": "aa91722a-8072-473e-e80f-a357d9a7e0a7",
        "colab": {}
      },
      "cell_type": "code",
      "source": [
        "sb.boxplot(data=[apps_free,apps_paid])"
      ],
      "execution_count": 0,
      "outputs": [
        {
          "output_type": "execute_result",
          "data": {
            "text/plain": [
              "<matplotlib.axes._subplots.AxesSubplot at 0x7fb9be75cb00>"
            ]
          },
          "metadata": {
            "tags": []
          },
          "execution_count": 31
        },
        {
          "output_type": "display_data",
          "data": {
            "image/png": "[encoded data removed]",
            "text/plain": [
              "<Figure size 432x288 with 1 Axes>"
            ]
          },
          "metadata": {
            "tags": [],
            "needs_background": "light"
          }
        }
      ]
    },
    {
      "metadata": {
        "id": "lR0z_1N1cpwQ",
        "colab_type": "code",
        "outputId": "8c23f831-7166-49db-f060-625e76fb2712",
        "colab": {
          "base_uri": "https://localhost:8080/",
          "height": 34
        }
      },
      "cell_type": "code",
      "source": [
        "dataset.columns[dataset.isna().any()].tolist()"
      ],
      "execution_count": 4,
      "outputs": [
        {
          "output_type": "execute_result",
          "data": {
            "text/plain": [
              "['Rating', 'Type', 'Content Rating', 'Current Ver', 'Android Ver']"
            ]
          },
          "metadata": {
            "tags": []
          },
          "execution_count": 4
        }
      ]
    },
    {
      "metadata": {
        "id": "UoaYLgN7cpwh",
        "colab_type": "code",
        "outputId": "0f574084-0fdf-430d-bce2-78149899324c",
        "colab": {}
      },
      "cell_type": "code",
      "source": [
        "dataset['Type'] = dataset['Type'].apply(lambda x: 0 if x==-1 else x)\n",
        "dataset[dataset['Type']==-1]\n",
        "#dataset.corr(method=\"spearman\")"
      ],
      "execution_count": 0,
      "outputs": [
        {
          "output_type": "execute_result",
          "data": {
            "text/html": [
              "<div>\n",
              "<style scoped>\n",
              "    .dataframe tbody tr th:only-of-type {\n",
              "        vertical-align: middle;\n",
              "    }\n",
              "\n",
              "    .dataframe tbody tr th {\n",
              "        vertical-align: top;\n",
              "    }\n",
              "\n",
              "    .dataframe thead th {\n",
              "        text-align: right;\n",
              "    }\n",
              "</style>\n",
              "<table border=\"1\" class=\"dataframe\">\n",
              "  <thead>\n",
              "    <tr style=\"text-align: right;\">\n",
              "      <th></th>\n",
              "      <th>App</th>\n",
              "      <th>Category</th>\n",
              "      <th>Rating</th>\n",
              "      <th>Reviews</th>\n",
              "      <th>Size</th>\n",
              "      <th>Installs</th>\n",
              "      <th>Type</th>\n",
              "      <th>Price</th>\n",
              "      <th>Content Rating</th>\n",
              "      <th>Genres</th>\n",
              "      <th>Last Updated</th>\n",
              "      <th>Current Ver</th>\n",
              "      <th>Android Ver</th>\n",
              "    </tr>\n",
              "  </thead>\n",
              "  <tbody>\n",
              "  </tbody>\n",
              "</table>\n",
              "</div>"
            ],
            "text/plain": [
              "Empty DataFrame\n",
              "Columns: [App, Category, Rating, Reviews, Size, Installs, Type, Price, Content Rating, Genres, Last Updated, Current Ver, Android Ver]\n",
              "Index: []"
            ]
          },
          "metadata": {
            "tags": []
          },
          "execution_count": 29
        }
      ]
    },
    {
      "metadata": {
        "id": "6liDEzs0cpw_",
        "colab_type": "code",
        "outputId": "6f62699e-7ceb-4bc5-e60b-5c798ce607d8",
        "colab": {}
      },
      "cell_type": "code",
      "source": [
        "#normalizando toda a base - talvez não seja necessário\n",
        "datasetNorm = dataset[['Category','Type','Rating','Reviews','Installs','Content Rating']]\n",
        "datasetNorm = datasetNorm-datasetNorm.mean()/datasetNorm.std()\n",
        "datasetNorm.head()"
      ],
      "execution_count": 0,
      "outputs": [
        {
          "output_type": "execute_result",
          "data": {
            "text/html": [
              "<div>\n",
              "<style scoped>\n",
              "    .dataframe tbody tr th:only-of-type {\n",
              "        vertical-align: middle;\n",
              "    }\n",
              "\n",
              "    .dataframe tbody tr th {\n",
              "        vertical-align: top;\n",
              "    }\n",
              "\n",
              "    .dataframe thead th {\n",
              "        text-align: right;\n",
              "    }\n",
              "</style>\n",
              "<table border=\"1\" class=\"dataframe\">\n",
              "  <thead>\n",
              "    <tr style=\"text-align: right;\">\n",
              "      <th></th>\n",
              "      <th>Category</th>\n",
              "      <th>Type</th>\n",
              "      <th>Rating</th>\n",
              "      <th>Reviews</th>\n",
              "      <th>Installs</th>\n",
              "      <th>Content Rating</th>\n",
              "    </tr>\n",
              "  </thead>\n",
              "  <tbody>\n",
              "    <tr>\n",
              "      <th>0</th>\n",
              "      <td>-2.002245</td>\n",
              "      <td>-0.281695</td>\n",
              "      <td>0.953592</td>\n",
              "      <td>158.848296</td>\n",
              "      <td>9.999818e+03</td>\n",
              "      <td>-0.456081</td>\n",
              "    </tr>\n",
              "    <tr>\n",
              "      <th>1</th>\n",
              "      <td>-2.002245</td>\n",
              "      <td>-0.281695</td>\n",
              "      <td>0.753592</td>\n",
              "      <td>966.848296</td>\n",
              "      <td>4.999998e+05</td>\n",
              "      <td>-0.456081</td>\n",
              "    </tr>\n",
              "    <tr>\n",
              "      <th>2</th>\n",
              "      <td>-2.002245</td>\n",
              "      <td>-0.281695</td>\n",
              "      <td>1.553592</td>\n",
              "      <td>87509.848296</td>\n",
              "      <td>5.000000e+06</td>\n",
              "      <td>-0.456081</td>\n",
              "    </tr>\n",
              "    <tr>\n",
              "      <th>3</th>\n",
              "      <td>-2.002245</td>\n",
              "      <td>-0.281695</td>\n",
              "      <td>1.353592</td>\n",
              "      <td>215643.848296</td>\n",
              "      <td>5.000000e+07</td>\n",
              "      <td>2.543919</td>\n",
              "    </tr>\n",
              "    <tr>\n",
              "      <th>4</th>\n",
              "      <td>-2.002245</td>\n",
              "      <td>-0.281695</td>\n",
              "      <td>1.153592</td>\n",
              "      <td>966.848296</td>\n",
              "      <td>9.999982e+04</td>\n",
              "      <td>-0.456081</td>\n",
              "    </tr>\n",
              "  </tbody>\n",
              "</table>\n",
              "</div>"
            ],
            "text/plain": [
              "   Category      Type    Rating        Reviews      Installs  Content Rating\n",
              "0 -2.002245 -0.281695  0.953592     158.848296  9.999818e+03       -0.456081\n",
              "1 -2.002245 -0.281695  0.753592     966.848296  4.999998e+05       -0.456081\n",
              "2 -2.002245 -0.281695  1.553592   87509.848296  5.000000e+06       -0.456081\n",
              "3 -2.002245 -0.281695  1.353592  215643.848296  5.000000e+07        2.543919\n",
              "4 -2.002245 -0.281695  1.153592     966.848296  9.999982e+04       -0.456081"
            ]
          },
          "metadata": {
            "tags": []
          },
          "execution_count": 54
        }
      ]
    },
    {
      "metadata": {
        "id": "_iZWUxdbcpxM",
        "colab_type": "code",
        "outputId": "0578890b-4c67-4b35-d556-1b3b10a1523a",
        "colab": {
          "base_uri": "https://localhost:8080/",
          "height": 34
        }
      },
      "cell_type": "code",
      "source": [
        "#dataset.drop_duplicates(subset=['App'],keep=False, inplace=True)\n",
        "dataset.drop_duplicates(subset=['App'],keep='last', inplace=True)\n",
        "print(len(dataset))"
      ],
      "execution_count": 5,
      "outputs": [
        {
          "output_type": "stream",
          "text": [
            "9660\n"
          ],
          "name": "stdout"
        }
      ]
    },
    {
      "metadata": {
        "id": "Nd0G4FcacpxS",
        "colab_type": "code",
        "outputId": "4bf1af7f-0430-486d-9136-fb22494c9289",
        "colab": {}
      },
      "cell_type": "code",
      "source": [
        "dataset.corr(method='spearman')"
      ],
      "execution_count": 0,
      "outputs": [
        {
          "output_type": "execute_result",
          "data": {
            "text/html": [
              "<div>\n",
              "<style scoped>\n",
              "    .dataframe tbody tr th:only-of-type {\n",
              "        vertical-align: middle;\n",
              "    }\n",
              "\n",
              "    .dataframe tbody tr th {\n",
              "        vertical-align: top;\n",
              "    }\n",
              "\n",
              "    .dataframe thead th {\n",
              "        text-align: right;\n",
              "    }\n",
              "</style>\n",
              "<table border=\"1\" class=\"dataframe\">\n",
              "  <thead>\n",
              "    <tr style=\"text-align: right;\">\n",
              "      <th></th>\n",
              "      <th>Category</th>\n",
              "      <th>Rating</th>\n",
              "      <th>Reviews</th>\n",
              "      <th>Installs</th>\n",
              "      <th>Type</th>\n",
              "      <th>Price</th>\n",
              "      <th>Content Rating</th>\n",
              "    </tr>\n",
              "  </thead>\n",
              "  <tbody>\n",
              "    <tr>\n",
              "      <th>Category</th>\n",
              "      <td>1.000000</td>\n",
              "      <td>-0.024757</td>\n",
              "      <td>0.053004</td>\n",
              "      <td>0.007241</td>\n",
              "      <td>0.015947</td>\n",
              "      <td>0.014985</td>\n",
              "      <td>-0.108551</td>\n",
              "    </tr>\n",
              "    <tr>\n",
              "      <th>Rating</th>\n",
              "      <td>-0.024757</td>\n",
              "      <td>1.000000</td>\n",
              "      <td>0.156490</td>\n",
              "      <td>0.014971</td>\n",
              "      <td>0.065266</td>\n",
              "      <td>0.064280</td>\n",
              "      <td>-0.013999</td>\n",
              "    </tr>\n",
              "    <tr>\n",
              "      <th>Reviews</th>\n",
              "      <td>0.053004</td>\n",
              "      <td>0.156490</td>\n",
              "      <td>1.000000</td>\n",
              "      <td>0.136829</td>\n",
              "      <td>-0.171667</td>\n",
              "      <td>-0.170549</td>\n",
              "      <td>0.180239</td>\n",
              "    </tr>\n",
              "    <tr>\n",
              "      <th>Installs</th>\n",
              "      <td>0.007241</td>\n",
              "      <td>0.014971</td>\n",
              "      <td>0.136829</td>\n",
              "      <td>1.000000</td>\n",
              "      <td>-0.061321</td>\n",
              "      <td>-0.061817</td>\n",
              "      <td>0.033303</td>\n",
              "    </tr>\n",
              "    <tr>\n",
              "      <th>Type</th>\n",
              "      <td>0.015947</td>\n",
              "      <td>0.065266</td>\n",
              "      <td>-0.171667</td>\n",
              "      <td>-0.061321</td>\n",
              "      <td>1.000000</td>\n",
              "      <td>0.999034</td>\n",
              "      <td>-0.047497</td>\n",
              "    </tr>\n",
              "    <tr>\n",
              "      <th>Price</th>\n",
              "      <td>0.014985</td>\n",
              "      <td>0.064280</td>\n",
              "      <td>-0.170549</td>\n",
              "      <td>-0.061817</td>\n",
              "      <td>0.999034</td>\n",
              "      <td>1.000000</td>\n",
              "      <td>-0.046909</td>\n",
              "    </tr>\n",
              "    <tr>\n",
              "      <th>Content Rating</th>\n",
              "      <td>-0.108551</td>\n",
              "      <td>-0.013999</td>\n",
              "      <td>0.180239</td>\n",
              "      <td>0.033303</td>\n",
              "      <td>-0.047497</td>\n",
              "      <td>-0.046909</td>\n",
              "      <td>1.000000</td>\n",
              "    </tr>\n",
              "  </tbody>\n",
              "</table>\n",
              "</div>"
            ],
            "text/plain": [
              "                Category    Rating   Reviews  Installs      Type     Price  \\\n",
              "Category        1.000000 -0.024757  0.053004  0.007241  0.015947  0.014985   \n",
              "Rating         -0.024757  1.000000  0.156490  0.014971  0.065266  0.064280   \n",
              "Reviews         0.053004  0.156490  1.000000  0.136829 -0.171667 -0.170549   \n",
              "Installs        0.007241  0.014971  0.136829  1.000000 -0.061321 -0.061817   \n",
              "Type            0.015947  0.065266 -0.171667 -0.061321  1.000000  0.999034   \n",
              "Price           0.014985  0.064280 -0.170549 -0.061817  0.999034  1.000000   \n",
              "Content Rating -0.108551 -0.013999  0.180239  0.033303 -0.047497 -0.046909   \n",
              "\n",
              "                Content Rating  \n",
              "Category             -0.108551  \n",
              "Rating               -0.013999  \n",
              "Reviews               0.180239  \n",
              "Installs              0.033303  \n",
              "Type                 -0.047497  \n",
              "Price                -0.046909  \n",
              "Content Rating        1.000000  "
            ]
          },
          "metadata": {
            "tags": []
          },
          "execution_count": 16
        }
      ]
    },
    {
      "metadata": {
        "id": "K0wtsffBcpxX",
        "colab_type": "code",
        "outputId": "f3dea8b1-fae5-49fc-d2e7-91c0f4784581",
        "colab": {}
      },
      "cell_type": "code",
      "source": [
        "dataset.plot.scatter(x='Rating',y='Installs')"
      ],
      "execution_count": 0,
      "outputs": [
        {
          "output_type": "execute_result",
          "data": {
            "text/plain": [
              "<matplotlib.axes._subplots.AxesSubplot at 0x7fb9bc3df550>"
            ]
          },
          "metadata": {
            "tags": []
          },
          "execution_count": 60
        },
        {
          "output_type": "display_data",
          "data": {
            "image/png": "[encoded data removed]",
            "text/plain": [
              "<Figure size 432x288 with 1 Axes>"
            ]
          },
          "metadata": {
            "tags": [],
            "needs_background": "light"
          }
        }
      ]
    },
    {
      "metadata": {
        "id": "HyQShIXEcpxb",
        "colab_type": "code",
        "outputId": "688320ad-ecf2-4298-d8ff-1a5db3a80934",
        "colab": {}
      },
      "cell_type": "code",
      "source": [
        "dataset.Size.describe()"
      ],
      "execution_count": 0,
      "outputs": [
        {
          "output_type": "execute_result",
          "data": {
            "text/plain": [
              "count                   9660\n",
              "unique                   462\n",
              "top       Varies with device\n",
              "freq                    1227\n",
              "Name: Size, dtype: object"
            ]
          },
          "metadata": {
            "tags": []
          },
          "execution_count": 45
        }
      ]
    },
    {
      "metadata": {
        "id": "NVyaHNRQcpxh",
        "colab_type": "code",
        "outputId": "6206ebcd-0d6a-41ad-fae1-05b00644e258",
        "colab": {}
      },
      "cell_type": "code",
      "source": [
        "dataset.Installs.describe()"
      ],
      "execution_count": 0,
      "outputs": [
        {
          "output_type": "execute_result",
          "data": {
            "text/plain": [
              "count          10840\n",
              "unique            21\n",
              "top       1,000,000+\n",
              "freq            1579\n",
              "Name: Installs, dtype: object"
            ]
          },
          "metadata": {
            "tags": []
          },
          "execution_count": 10
        }
      ]
    },
    {
      "metadata": {
        "id": "4-Ng2lKZDslJ",
        "colab_type": "text"
      },
      "cell_type": "markdown",
      "source": [
        "**Para ver quão parecidas são essas colunas entre si, crio um dataframe contendo somente as duas colunas para saber a porcentagem de quantas entradas da coluna category são substring das entradas em genres**"
      ]
    },
    {
      "metadata": {
        "id": "bcXqDn3Icpxl",
        "colab_type": "code",
        "outputId": "d7d5ffef-fce5-4f72-d84b-8689b2da9406",
        "colab": {
          "base_uri": "https://localhost:8080/",
          "height": 204
        }
      },
      "cell_type": "code",
      "source": [
        "copy_dataset = dataset[['Category','Genres']]\n",
        "copy_dataset.head()"
      ],
      "execution_count": 6,
      "outputs": [
        {
          "output_type": "execute_result",
          "data": {
            "text/html": [
              "<div>\n",
              "<style scoped>\n",
              "    .dataframe tbody tr th:only-of-type {\n",
              "        vertical-align: middle;\n",
              "    }\n",
              "\n",
              "    .dataframe tbody tr th {\n",
              "        vertical-align: top;\n",
              "    }\n",
              "\n",
              "    .dataframe thead th {\n",
              "        text-align: right;\n",
              "    }\n",
              "</style>\n",
              "<table border=\"1\" class=\"dataframe\">\n",
              "  <thead>\n",
              "    <tr style=\"text-align: right;\">\n",
              "      <th></th>\n",
              "      <th>Category</th>\n",
              "      <th>Genres</th>\n",
              "    </tr>\n",
              "  </thead>\n",
              "  <tbody>\n",
              "    <tr>\n",
              "      <th>0</th>\n",
              "      <td>ART_AND_DESIGN</td>\n",
              "      <td>Art &amp; Design</td>\n",
              "    </tr>\n",
              "    <tr>\n",
              "      <th>2</th>\n",
              "      <td>ART_AND_DESIGN</td>\n",
              "      <td>Art &amp; Design</td>\n",
              "    </tr>\n",
              "    <tr>\n",
              "      <th>3</th>\n",
              "      <td>ART_AND_DESIGN</td>\n",
              "      <td>Art &amp; Design</td>\n",
              "    </tr>\n",
              "    <tr>\n",
              "      <th>4</th>\n",
              "      <td>ART_AND_DESIGN</td>\n",
              "      <td>Art &amp; Design;Creativity</td>\n",
              "    </tr>\n",
              "    <tr>\n",
              "      <th>5</th>\n",
              "      <td>ART_AND_DESIGN</td>\n",
              "      <td>Art &amp; Design</td>\n",
              "    </tr>\n",
              "  </tbody>\n",
              "</table>\n",
              "</div>"
            ],
            "text/plain": [
              "         Category                   Genres\n",
              "0  ART_AND_DESIGN             Art & Design\n",
              "2  ART_AND_DESIGN             Art & Design\n",
              "3  ART_AND_DESIGN             Art & Design\n",
              "4  ART_AND_DESIGN  Art & Design;Creativity\n",
              "5  ART_AND_DESIGN             Art & Design"
            ]
          },
          "metadata": {
            "tags": []
          },
          "execution_count": 6
        }
      ]
    },
    {
      "metadata": {
        "id": "fpQ4wqIGcpxq",
        "colab_type": "code",
        "outputId": "558988aa-f62a-41c7-8eec-131953f891c3",
        "colab": {
          "base_uri": "https://localhost:8080/",
          "height": 408
        }
      },
      "cell_type": "code",
      "source": [
        "copy_dataset['Category'] = copy_dataset['Category'].apply(lambda x: x.lower())\n",
        "copy_dataset['Genres'] = copy_dataset['Genres'].apply(lambda x: x.lower())\n",
        "copy_dataset.head()"
      ],
      "execution_count": 7,
      "outputs": [
        {
          "output_type": "stream",
          "text": [
            "/usr/local/lib/python3.6/dist-packages/ipykernel_launcher.py:1: SettingWithCopyWarning: \n",
            "A value is trying to be set on a copy of a slice from a DataFrame.\n",
            "Try using .loc[row_indexer,col_indexer] = value instead\n",
            "\n",
            "See the caveats in the documentation: http://pandas.pydata.org/pandas-docs/stable/indexing.html#indexing-view-versus-copy\n",
            "  \"\"\"Entry point for launching an IPython kernel.\n",
            "/usr/local/lib/python3.6/dist-packages/ipykernel_launcher.py:2: SettingWithCopyWarning: \n",
            "A value is trying to be set on a copy of a slice from a DataFrame.\n",
            "Try using .loc[row_indexer,col_indexer] = value instead\n",
            "\n",
            "See the caveats in the documentation: http://pandas.pydata.org/pandas-docs/stable/indexing.html#indexing-view-versus-copy\n",
            "  \n"
          ],
          "name": "stderr"
        },
        {
          "output_type": "execute_result",
          "data": {
            "text/html": [
              "<div>\n",
              "<style scoped>\n",
              "    .dataframe tbody tr th:only-of-type {\n",
              "        vertical-align: middle;\n",
              "    }\n",
              "\n",
              "    .dataframe tbody tr th {\n",
              "        vertical-align: top;\n",
              "    }\n",
              "\n",
              "    .dataframe thead th {\n",
              "        text-align: right;\n",
              "    }\n",
              "</style>\n",
              "<table border=\"1\" class=\"dataframe\">\n",
              "  <thead>\n",
              "    <tr style=\"text-align: right;\">\n",
              "      <th></th>\n",
              "      <th>Category</th>\n",
              "      <th>Genres</th>\n",
              "    </tr>\n",
              "  </thead>\n",
              "  <tbody>\n",
              "    <tr>\n",
              "      <th>0</th>\n",
              "      <td>art_and_design</td>\n",
              "      <td>art &amp; design</td>\n",
              "    </tr>\n",
              "    <tr>\n",
              "      <th>2</th>\n",
              "      <td>art_and_design</td>\n",
              "      <td>art &amp; design</td>\n",
              "    </tr>\n",
              "    <tr>\n",
              "      <th>3</th>\n",
              "      <td>art_and_design</td>\n",
              "      <td>art &amp; design</td>\n",
              "    </tr>\n",
              "    <tr>\n",
              "      <th>4</th>\n",
              "      <td>art_and_design</td>\n",
              "      <td>art &amp; design;creativity</td>\n",
              "    </tr>\n",
              "    <tr>\n",
              "      <th>5</th>\n",
              "      <td>art_and_design</td>\n",
              "      <td>art &amp; design</td>\n",
              "    </tr>\n",
              "  </tbody>\n",
              "</table>\n",
              "</div>"
            ],
            "text/plain": [
              "         Category                   Genres\n",
              "0  art_and_design             art & design\n",
              "2  art_and_design             art & design\n",
              "3  art_and_design             art & design\n",
              "4  art_and_design  art & design;creativity\n",
              "5  art_and_design             art & design"
            ]
          },
          "metadata": {
            "tags": []
          },
          "execution_count": 7
        }
      ]
    },
    {
      "metadata": {
        "id": "KFl5XRGDEPlQ",
        "colab_type": "text"
      },
      "cell_type": "markdown",
      "source": [
        "**Logo abaixo faz-se a troca de \\_and_ por &, para que as strings possam ser comparadas em seguida**"
      ]
    },
    {
      "metadata": {
        "id": "P5aQwsCMcpyP",
        "colab_type": "code",
        "outputId": "665c66f9-0c47-4c62-d5d2-dc03122cfddf",
        "colab": {
          "base_uri": "https://localhost:8080/",
          "height": 119
        }
      },
      "cell_type": "code",
      "source": [
        "copy_dataset['Category'] = copy_dataset['Category'].apply(lambda x: x[:x.index('_')]+' & '+x[x.rindex('_')+1:] if x.find('_and_')>-1 else x)"
      ],
      "execution_count": 8,
      "outputs": [
        {
          "output_type": "stream",
          "text": [
            "/usr/local/lib/python3.6/dist-packages/ipykernel_launcher.py:1: SettingWithCopyWarning: \n",
            "A value is trying to be set on a copy of a slice from a DataFrame.\n",
            "Try using .loc[row_indexer,col_indexer] = value instead\n",
            "\n",
            "See the caveats in the documentation: http://pandas.pydata.org/pandas-docs/stable/indexing.html#indexing-view-versus-copy\n",
            "  \"\"\"Entry point for launching an IPython kernel.\n"
          ],
          "name": "stderr"
        }
      ]
    },
    {
      "metadata": {
        "id": "qIp-Jf_fcpyT",
        "colab_type": "code",
        "outputId": "a65af3e4-407b-4e31-b6c5-642fbd395a0e",
        "colab": {}
      },
      "cell_type": "code",
      "source": [
        "copy_dataset['Category'].head()"
      ],
      "execution_count": 0,
      "outputs": [
        {
          "output_type": "execute_result",
          "data": {
            "text/plain": [
              "0    art & design\n",
              "2    art & design\n",
              "3    art & design\n",
              "4    art & design\n",
              "5    art & design\n",
              "Name: Category, dtype: object"
            ]
          },
          "metadata": {
            "tags": []
          },
          "execution_count": 16
        }
      ]
    },
    {
      "metadata": {
        "id": "6RPbuFZIcpyj",
        "colab_type": "code",
        "outputId": "22afa3c6-fdb1-4e59-93e9-03221e042831",
        "colab": {
          "base_uri": "https://localhost:8080/",
          "height": 221
        }
      },
      "cell_type": "code",
      "source": [
        "copy_dataset['eql'] = copy_dataset.apply(lambda x: x[0] in x[1], axis=1)\n",
        "copy_dataset.eql.head()"
      ],
      "execution_count": 9,
      "outputs": [
        {
          "output_type": "stream",
          "text": [
            "/usr/local/lib/python3.6/dist-packages/ipykernel_launcher.py:1: SettingWithCopyWarning: \n",
            "A value is trying to be set on a copy of a slice from a DataFrame.\n",
            "Try using .loc[row_indexer,col_indexer] = value instead\n",
            "\n",
            "See the caveats in the documentation: http://pandas.pydata.org/pandas-docs/stable/indexing.html#indexing-view-versus-copy\n",
            "  \"\"\"Entry point for launching an IPython kernel.\n"
          ],
          "name": "stderr"
        },
        {
          "output_type": "execute_result",
          "data": {
            "text/plain": [
              "0    True\n",
              "2    True\n",
              "3    True\n",
              "4    True\n",
              "5    True\n",
              "Name: eql, dtype: bool"
            ]
          },
          "metadata": {
            "tags": []
          },
          "execution_count": 9
        }
      ]
    },
    {
      "metadata": {
        "id": "lAGRpBG0cpyv",
        "colab_type": "code",
        "outputId": "63191a00-f111-4277-bc44-dffaf888f9b4",
        "colab": {
          "base_uri": "https://localhost:8080/",
          "height": 102
        }
      },
      "cell_type": "code",
      "source": [
        "copy_dataset.eql.describe()"
      ],
      "execution_count": 10,
      "outputs": [
        {
          "output_type": "execute_result",
          "data": {
            "text/plain": [
              "count     9660\n",
              "unique       2\n",
              "top       True\n",
              "freq      6664\n",
              "Name: eql, dtype: object"
            ]
          },
          "metadata": {
            "tags": []
          },
          "execution_count": 10
        }
      ]
    },
    {
      "metadata": {
        "id": "utQlPjfkcpy5",
        "colab_type": "code",
        "outputId": "f5836ce0-ab84-4c77-d595-5aa2a48ff38b",
        "colab": {
          "base_uri": "https://localhost:8080/",
          "height": 34
        }
      },
      "cell_type": "code",
      "source": [
        "print(6664*100/9660)"
      ],
      "execution_count": 11,
      "outputs": [
        {
          "output_type": "stream",
          "text": [
            "68.98550724637681\n"
          ],
          "name": "stdout"
        }
      ]
    },
    {
      "metadata": {
        "id": "rC9nbrIqMs13",
        "colab_type": "text"
      },
      "cell_type": "markdown",
      "source": [
        "\n",
        "A coluna criada acima com valores booleanos indica se a coluna Category está contida (ou é igual) à coluna Genres. Em porcentagem, vê-se que quase 69% das entradas estão contidas, o que possibilita a remoção da coluna Genres para uma interpretação mais prática dos dados."
      ]
    },
    {
      "metadata": {
        "id": "9wixy5-ZL4Vu",
        "colab_type": "code",
        "colab": {
          "base_uri": "https://localhost:8080/",
          "height": 272
        },
        "outputId": "d20417a2-bbcd-4dc6-d848-925a5e2fbeb0"
      },
      "cell_type": "code",
      "source": [
        "dataset = dataset.drop('Genres', axis = 1)\n",
        "dataset.head()"
      ],
      "execution_count": 24,
      "outputs": [
        {
          "output_type": "execute_result",
          "data": {
            "text/html": [
              "<div>\n",
              "<style scoped>\n",
              "    .dataframe tbody tr th:only-of-type {\n",
              "        vertical-align: middle;\n",
              "    }\n",
              "\n",
              "    .dataframe tbody tr th {\n",
              "        vertical-align: top;\n",
              "    }\n",
              "\n",
              "    .dataframe thead th {\n",
              "        text-align: right;\n",
              "    }\n",
              "</style>\n",
              "<table border=\"1\" class=\"dataframe\">\n",
              "  <thead>\n",
              "    <tr style=\"text-align: right;\">\n",
              "      <th></th>\n",
              "      <th>App</th>\n",
              "      <th>Category</th>\n",
              "      <th>Rating</th>\n",
              "      <th>Reviews</th>\n",
              "      <th>Size</th>\n",
              "      <th>Installs</th>\n",
              "      <th>Type</th>\n",
              "      <th>Price</th>\n",
              "      <th>Content Rating</th>\n",
              "      <th>Last Updated</th>\n",
              "      <th>Current Ver</th>\n",
              "      <th>Android Ver</th>\n",
              "    </tr>\n",
              "  </thead>\n",
              "  <tbody>\n",
              "    <tr>\n",
              "      <th>0</th>\n",
              "      <td>Photo Editor &amp; Candy Camera &amp; Grid &amp; ScrapBook</td>\n",
              "      <td>ART_AND_DESIGN</td>\n",
              "      <td>4.1</td>\n",
              "      <td>159</td>\n",
              "      <td>19M</td>\n",
              "      <td>10,000+</td>\n",
              "      <td>Free</td>\n",
              "      <td>0</td>\n",
              "      <td>Everyone</td>\n",
              "      <td>2018-01-07</td>\n",
              "      <td>1.0.0</td>\n",
              "      <td>4.0.3 and up</td>\n",
              "    </tr>\n",
              "    <tr>\n",
              "      <th>2</th>\n",
              "      <td>U Launcher Lite â FREE Live Cool Themes, Hid...</td>\n",
              "      <td>ART_AND_DESIGN</td>\n",
              "      <td>4.7</td>\n",
              "      <td>87510</td>\n",
              "      <td>8.7M</td>\n",
              "      <td>5,000,000+</td>\n",
              "      <td>Free</td>\n",
              "      <td>0</td>\n",
              "      <td>Everyone</td>\n",
              "      <td>2018-08-01</td>\n",
              "      <td>1.2.4</td>\n",
              "      <td>4.0.3 and up</td>\n",
              "    </tr>\n",
              "    <tr>\n",
              "      <th>3</th>\n",
              "      <td>Sketch - Draw &amp; Paint</td>\n",
              "      <td>ART_AND_DESIGN</td>\n",
              "      <td>4.5</td>\n",
              "      <td>215644</td>\n",
              "      <td>25M</td>\n",
              "      <td>50,000,000+</td>\n",
              "      <td>Free</td>\n",
              "      <td>0</td>\n",
              "      <td>Teen</td>\n",
              "      <td>2018-06-08</td>\n",
              "      <td>Varies with device</td>\n",
              "      <td>4.2 and up</td>\n",
              "    </tr>\n",
              "    <tr>\n",
              "      <th>4</th>\n",
              "      <td>Pixel Draw - Number Art Coloring Book</td>\n",
              "      <td>ART_AND_DESIGN</td>\n",
              "      <td>4.3</td>\n",
              "      <td>967</td>\n",
              "      <td>2.8M</td>\n",
              "      <td>100,000+</td>\n",
              "      <td>Free</td>\n",
              "      <td>0</td>\n",
              "      <td>Everyone</td>\n",
              "      <td>2018-06-20</td>\n",
              "      <td>1.1</td>\n",
              "      <td>4.4 and up</td>\n",
              "    </tr>\n",
              "    <tr>\n",
              "      <th>5</th>\n",
              "      <td>Paper flowers instructions</td>\n",
              "      <td>ART_AND_DESIGN</td>\n",
              "      <td>4.4</td>\n",
              "      <td>167</td>\n",
              "      <td>5.6M</td>\n",
              "      <td>50,000+</td>\n",
              "      <td>Free</td>\n",
              "      <td>0</td>\n",
              "      <td>Everyone</td>\n",
              "      <td>2017-03-26</td>\n",
              "      <td>1.0</td>\n",
              "      <td>2.3 and up</td>\n",
              "    </tr>\n",
              "  </tbody>\n",
              "</table>\n",
              "</div>"
            ],
            "text/plain": [
              "                                                 App        Category  Rating  \\\n",
              "0     Photo Editor & Candy Camera & Grid & ScrapBook  ART_AND_DESIGN     4.1   \n",
              "2  U Launcher Lite â FREE Live Cool Themes, Hid...  ART_AND_DESIGN     4.7   \n",
              "3                              Sketch - Draw & Paint  ART_AND_DESIGN     4.5   \n",
              "4              Pixel Draw - Number Art Coloring Book  ART_AND_DESIGN     4.3   \n",
              "5                         Paper flowers instructions  ART_AND_DESIGN     4.4   \n",
              "\n",
              "   Reviews  Size     Installs  Type Price Content Rating Last Updated  \\\n",
              "0      159   19M      10,000+  Free     0       Everyone   2018-01-07   \n",
              "2    87510  8.7M   5,000,000+  Free     0       Everyone   2018-08-01   \n",
              "3   215644   25M  50,000,000+  Free     0           Teen   2018-06-08   \n",
              "4      967  2.8M     100,000+  Free     0       Everyone   2018-06-20   \n",
              "5      167  5.6M      50,000+  Free     0       Everyone   2017-03-26   \n",
              "\n",
              "          Current Ver   Android Ver  \n",
              "0               1.0.0  4.0.3 and up  \n",
              "2               1.2.4  4.0.3 and up  \n",
              "3  Varies with device    4.2 and up  \n",
              "4                 1.1    4.4 and up  \n",
              "5                 1.0    2.3 and up  "
            ]
          },
          "metadata": {
            "tags": []
          },
          "execution_count": 24
        }
      ]
    },
    {
      "metadata": {
        "id": "OMZm_UDhErDC",
        "colab_type": "text"
      },
      "cell_type": "markdown",
      "source": [
        "**Remoção do símbolo $ para transformar o tipo da coluna Price em numérico**"
      ]
    },
    {
      "metadata": {
        "id": "ENMiFFd6cpzN",
        "colab_type": "code",
        "colab": {}
      },
      "cell_type": "code",
      "source": [
        "dataset['Price'] = dataset['Price'].apply(lambda x: x[x.find('$')+1:] if x.find('$')>-1 else x)\n",
        "#dataset[dataset['Price_Temp']!='0'].head()"
      ],
      "execution_count": 0,
      "outputs": []
    },
    {
      "metadata": {
        "id": "Z0DJ7Qd2cpzW",
        "colab_type": "code",
        "colab": {}
      },
      "cell_type": "code",
      "source": [
        "dataset['Price'] = pd.to_numeric(dataset['Price'])"
      ],
      "execution_count": 0,
      "outputs": []
    },
    {
      "metadata": {
        "id": "-crjzmcccpzj",
        "colab_type": "code",
        "outputId": "0d1860db-792f-41ef-f3f1-af81cc7b0986",
        "colab": {
          "base_uri": "https://localhost:8080/",
          "height": 170
        }
      },
      "cell_type": "code",
      "source": [
        "dataset.Price.describe()"
      ],
      "execution_count": 27,
      "outputs": [
        {
          "output_type": "execute_result",
          "data": {
            "text/plain": [
              "count    9659.000000\n",
              "mean        1.097231\n",
              "std        16.851618\n",
              "min         0.000000\n",
              "25%         0.000000\n",
              "50%         0.000000\n",
              "75%         0.000000\n",
              "max       400.000000\n",
              "Name: Price, dtype: float64"
            ]
          },
          "metadata": {
            "tags": []
          },
          "execution_count": 27
        }
      ]
    },
    {
      "metadata": {
        "id": "Vgrp_sKtNiBa",
        "colab_type": "text"
      },
      "cell_type": "markdown",
      "source": [
        "**Imputação de dados com KNN, visto que a coluna Ratings (nota de avaliação de um aplicativo) possui mais de 1400 entradas NaN**"
      ]
    },
    {
      "metadata": {
        "id": "KJ9Ho6T2cp0M",
        "colab_type": "code",
        "colab": {
          "base_uri": "https://localhost:8080/",
          "height": 1867
        },
        "outputId": "c3766bac-415c-4b75-cac1-08071fe62adc"
      },
      "cell_type": "code",
      "source": [
        "from fancyimpute import KNN\n",
        "dataset_knn = KNN(k=3).fit_transform(dataset[['Category','Rating','Type','Price','Installs','Reviews','Size','Content Rating','Current Ver','Android Ver']])\n"
      ],
      "execution_count": 42,
      "outputs": [
        {
          "output_type": "stream",
          "text": [
            "Imputing row 1/9659 with 0 missing, elapsed time: 16.073\n",
            "Imputing row 101/9659 with 0 missing, elapsed time: 16.074\n",
            "Imputing row 201/9659 with 0 missing, elapsed time: 16.075\n",
            "Imputing row 301/9659 with 0 missing, elapsed time: 16.076\n",
            "Imputing row 401/9659 with 0 missing, elapsed time: 16.077\n",
            "Imputing row 501/9659 with 0 missing, elapsed time: 16.079\n",
            "Imputing row 601/9659 with 0 missing, elapsed time: 16.080\n",
            "Imputing row 701/9659 with 0 missing, elapsed time: 16.080\n",
            "Imputing row 801/9659 with 0 missing, elapsed time: 16.081\n",
            "Imputing row 901/9659 with 0 missing, elapsed time: 16.082\n",
            "Imputing row 1001/9659 with 0 missing, elapsed time: 16.082\n",
            "Imputing row 1101/9659 with 0 missing, elapsed time: 16.083\n",
            "Imputing row 1201/9659 with 0 missing, elapsed time: 16.084\n",
            "Imputing row 1301/9659 with 0 missing, elapsed time: 16.085\n",
            "Imputing row 1401/9659 with 0 missing, elapsed time: 16.085\n",
            "Imputing row 1501/9659 with 0 missing, elapsed time: 16.086\n",
            "Imputing row 1601/9659 with 0 missing, elapsed time: 16.086\n",
            "Imputing row 1701/9659 with 0 missing, elapsed time: 16.089\n",
            "Imputing row 1801/9659 with 0 missing, elapsed time: 16.090\n",
            "Imputing row 1901/9659 with 0 missing, elapsed time: 16.091\n",
            "Imputing row 2001/9659 with 0 missing, elapsed time: 16.091\n",
            "Imputing row 2101/9659 with 0 missing, elapsed time: 16.091\n",
            "Imputing row 2201/9659 with 0 missing, elapsed time: 16.092\n",
            "Imputing row 2301/9659 with 0 missing, elapsed time: 16.092\n",
            "Imputing row 2401/9659 with 0 missing, elapsed time: 16.093\n",
            "Imputing row 2501/9659 with 0 missing, elapsed time: 16.094\n",
            "Imputing row 2601/9659 with 0 missing, elapsed time: 16.094\n",
            "Imputing row 2701/9659 with 0 missing, elapsed time: 16.095\n",
            "Imputing row 2801/9659 with 0 missing, elapsed time: 16.095\n",
            "Imputing row 2901/9659 with 0 missing, elapsed time: 16.096\n",
            "Imputing row 3001/9659 with 0 missing, elapsed time: 16.097\n",
            "Imputing row 3101/9659 with 0 missing, elapsed time: 16.098\n",
            "Imputing row 3201/9659 with 0 missing, elapsed time: 16.098\n",
            "Imputing row 3301/9659 with 0 missing, elapsed time: 16.099\n",
            "Imputing row 3401/9659 with 0 missing, elapsed time: 16.101\n",
            "Imputing row 3501/9659 with 0 missing, elapsed time: 16.101\n",
            "Imputing row 3601/9659 with 0 missing, elapsed time: 16.102\n",
            "Imputing row 3701/9659 with 0 missing, elapsed time: 16.103\n",
            "Imputing row 3801/9659 with 0 missing, elapsed time: 16.103\n",
            "Imputing row 3901/9659 with 0 missing, elapsed time: 16.104\n",
            "Imputing row 4001/9659 with 0 missing, elapsed time: 16.108\n",
            "Imputing row 4101/9659 with 1 missing, elapsed time: 16.110\n",
            "Imputing row 4201/9659 with 0 missing, elapsed time: 16.111\n",
            "Imputing row 4301/9659 with 0 missing, elapsed time: 16.112\n",
            "Imputing row 4401/9659 with 0 missing, elapsed time: 16.114\n",
            "Imputing row 4501/9659 with 0 missing, elapsed time: 16.114\n",
            "Imputing row 4601/9659 with 0 missing, elapsed time: 16.116\n",
            "Imputing row 4701/9659 with 0 missing, elapsed time: 16.119\n",
            "Imputing row 4801/9659 with 0 missing, elapsed time: 16.120\n",
            "Imputing row 4901/9659 with 0 missing, elapsed time: 16.121\n",
            "Imputing row 5001/9659 with 0 missing, elapsed time: 16.124\n",
            "Imputing row 5101/9659 with 0 missing, elapsed time: 16.126\n",
            "Imputing row 5201/9659 with 0 missing, elapsed time: 16.127\n",
            "Imputing row 5301/9659 with 1 missing, elapsed time: 16.130\n",
            "Imputing row 5401/9659 with 0 missing, elapsed time: 16.131\n",
            "Imputing row 5501/9659 with 0 missing, elapsed time: 16.134\n",
            "Imputing row 5601/9659 with 0 missing, elapsed time: 16.136\n",
            "Imputing row 5701/9659 with 0 missing, elapsed time: 16.140\n",
            "Imputing row 5801/9659 with 0 missing, elapsed time: 16.142\n",
            "Imputing row 5901/9659 with 1 missing, elapsed time: 16.143\n",
            "Imputing row 6001/9659 with 1 missing, elapsed time: 16.146\n",
            "Imputing row 6101/9659 with 0 missing, elapsed time: 16.150\n",
            "Imputing row 6201/9659 with 0 missing, elapsed time: 16.152\n",
            "Imputing row 6301/9659 with 1 missing, elapsed time: 16.154\n",
            "Imputing row 6401/9659 with 1 missing, elapsed time: 16.156\n",
            "Imputing row 6501/9659 with 1 missing, elapsed time: 16.157\n",
            "Imputing row 6601/9659 with 0 missing, elapsed time: 16.159\n",
            "Imputing row 6701/9659 with 0 missing, elapsed time: 16.160\n",
            "Imputing row 6801/9659 with 1 missing, elapsed time: 16.161\n",
            "Imputing row 6901/9659 with 1 missing, elapsed time: 16.163\n",
            "Imputing row 7001/9659 with 0 missing, elapsed time: 16.165\n",
            "Imputing row 7101/9659 with 0 missing, elapsed time: 16.167\n",
            "Imputing row 7201/9659 with 0 missing, elapsed time: 16.169\n",
            "Imputing row 7301/9659 with 0 missing, elapsed time: 16.170\n",
            "Imputing row 7401/9659 with 1 missing, elapsed time: 16.172\n",
            "Imputing row 7501/9659 with 0 missing, elapsed time: 16.174\n",
            "Imputing row 7601/9659 with 0 missing, elapsed time: 16.175\n",
            "Imputing row 7701/9659 with 0 missing, elapsed time: 16.176\n",
            "Imputing row 7801/9659 with 0 missing, elapsed time: 16.177\n",
            "Imputing row 7901/9659 with 0 missing, elapsed time: 16.180\n",
            "Imputing row 8001/9659 with 0 missing, elapsed time: 16.181\n",
            "Imputing row 8101/9659 with 0 missing, elapsed time: 16.184\n",
            "Imputing row 8201/9659 with 0 missing, elapsed time: 16.186\n",
            "Imputing row 8301/9659 with 1 missing, elapsed time: 16.188\n",
            "Imputing row 8401/9659 with 0 missing, elapsed time: 16.189\n",
            "Imputing row 8501/9659 with 0 missing, elapsed time: 16.191\n",
            "Imputing row 8601/9659 with 0 missing, elapsed time: 16.193\n",
            "Imputing row 8701/9659 with 0 missing, elapsed time: 16.194\n",
            "Imputing row 8801/9659 with 0 missing, elapsed time: 16.196\n",
            "Imputing row 8901/9659 with 1 missing, elapsed time: 16.198\n",
            "Imputing row 9001/9659 with 0 missing, elapsed time: 16.200\n",
            "Imputing row 9101/9659 with 0 missing, elapsed time: 16.201\n",
            "Imputing row 9201/9659 with 0 missing, elapsed time: 16.204\n",
            "Imputing row 9301/9659 with 0 missing, elapsed time: 16.206\n",
            "Imputing row 9401/9659 with 0 missing, elapsed time: 16.209\n",
            "Imputing row 9501/9659 with 0 missing, elapsed time: 16.211\n",
            "Imputing row 9601/9659 with 0 missing, elapsed time: 16.214\n"
          ],
          "name": "stdout"
        },
        {
          "output_type": "error",
          "ename": "AttributeError",
          "evalue": "ignored",
          "traceback": [
            "\u001b[0;31m---------------------------------------------------------------------------\u001b[0m",
            "\u001b[0;31mAttributeError\u001b[0m                            Traceback (most recent call last)",
            "\u001b[0;32m<ipython-input-42-aaae1dd7caf5>\u001b[0m in \u001b[0;36m<module>\u001b[0;34m()\u001b[0m\n\u001b[1;32m      1\u001b[0m \u001b[0;32mfrom\u001b[0m \u001b[0mfancyimpute\u001b[0m \u001b[0;32mimport\u001b[0m \u001b[0mKNN\u001b[0m\u001b[0;34m\u001b[0m\u001b[0;34m\u001b[0m\u001b[0m\n\u001b[1;32m      2\u001b[0m \u001b[0mdataset_knn\u001b[0m \u001b[0;34m=\u001b[0m \u001b[0mKNN\u001b[0m\u001b[0;34m(\u001b[0m\u001b[0mk\u001b[0m\u001b[0;34m=\u001b[0m\u001b[0;36m3\u001b[0m\u001b[0;34m)\u001b[0m\u001b[0;34m.\u001b[0m\u001b[0mfit_transform\u001b[0m\u001b[0;34m(\u001b[0m\u001b[0mdataset\u001b[0m\u001b[0;34m[\u001b[0m\u001b[0;34m[\u001b[0m\u001b[0;34m'Category'\u001b[0m\u001b[0;34m,\u001b[0m\u001b[0;34m'Rating'\u001b[0m\u001b[0;34m,\u001b[0m\u001b[0;34m'Type'\u001b[0m\u001b[0;34m,\u001b[0m\u001b[0;34m'Price'\u001b[0m\u001b[0;34m,\u001b[0m\u001b[0;34m'Installs'\u001b[0m\u001b[0;34m,\u001b[0m\u001b[0;34m'Reviews'\u001b[0m\u001b[0;34m,\u001b[0m\u001b[0;34m'Size'\u001b[0m\u001b[0;34m,\u001b[0m\u001b[0;34m'Content Rating'\u001b[0m\u001b[0;34m,\u001b[0m\u001b[0;34m'Current Ver'\u001b[0m\u001b[0;34m,\u001b[0m\u001b[0;34m'Android Ver'\u001b[0m\u001b[0;34m]\u001b[0m\u001b[0;34m]\u001b[0m\u001b[0;34m)\u001b[0m\u001b[0;34m\u001b[0m\u001b[0;34m\u001b[0m\u001b[0m\n\u001b[0;32m----> 3\u001b[0;31m \u001b[0mdataset_knn\u001b[0m\u001b[0;34m.\u001b[0m\u001b[0mhead\u001b[0m\u001b[0;34m(\u001b[0m\u001b[0;34m)\u001b[0m\u001b[0;34m\u001b[0m\u001b[0;34m\u001b[0m\u001b[0m\n\u001b[0m",
            "\u001b[0;31mAttributeError\u001b[0m: 'numpy.ndarray' object has no attribute 'head'"
          ]
        }
      ]
    },
    {
      "metadata": {
        "id": "Q7Zx7jQcP_Fd",
        "colab_type": "code",
        "colab": {}
      },
      "cell_type": "code",
      "source": [
        ""
      ],
      "execution_count": 0,
      "outputs": []
    }
  ]
}